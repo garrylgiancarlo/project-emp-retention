{
 "cells": [
  {
   "cell_type": "markdown",
   "metadata": {},
   "source": [
    "# Improving Employee Retention by Predicting Employee Attrition Using Machine Learning"
   ]
  },
  {
   "attachments": {},
   "cell_type": "markdown",
   "metadata": {},
   "source": [
    "## Import Library and Dataset"
   ]
  },
  {
   "cell_type": "code",
   "execution_count": 1,
   "metadata": {},
   "outputs": [],
   "source": [
    "import pandas as pd\n",
    "import numpy as np\n",
    "import seaborn as sns\n",
    "import matplotlib.pyplot as plt\n",
    "import plotly.express as px\n",
    "import warnings\n",
    "warnings.filterwarnings('ignore')"
   ]
  },
  {
   "cell_type": "code",
   "execution_count": 2,
   "metadata": {},
   "outputs": [
    {
     "data": {
      "text/html": [
       "<div>\n",
       "<style scoped>\n",
       "    .dataframe tbody tr th:only-of-type {\n",
       "        vertical-align: middle;\n",
       "    }\n",
       "\n",
       "    .dataframe tbody tr th {\n",
       "        vertical-align: top;\n",
       "    }\n",
       "\n",
       "    .dataframe thead th {\n",
       "        text-align: right;\n",
       "    }\n",
       "</style>\n",
       "<table border=\"1\" class=\"dataframe\">\n",
       "  <thead>\n",
       "    <tr style=\"text-align: right;\">\n",
       "      <th></th>\n",
       "      <th>Username</th>\n",
       "      <th>EnterpriseID</th>\n",
       "      <th>StatusPernikahan</th>\n",
       "      <th>JenisKelamin</th>\n",
       "      <th>StatusKepegawaian</th>\n",
       "      <th>Pekerjaan</th>\n",
       "      <th>JenjangKarir</th>\n",
       "      <th>PerformancePegawai</th>\n",
       "      <th>AsalDaerah</th>\n",
       "      <th>HiringPlatform</th>\n",
       "      <th>SkorSurveyEngagement</th>\n",
       "      <th>SkorKepuasanPegawai</th>\n",
       "      <th>JumlahKeikutsertaanProjek</th>\n",
       "      <th>JumlahKeterlambatanSebulanTerakhir</th>\n",
       "      <th>JumlahKetidakhadiran</th>\n",
       "      <th>NomorHP</th>\n",
       "      <th>Email</th>\n",
       "      <th>TingkatPendidikan</th>\n",
       "      <th>PernahBekerja</th>\n",
       "      <th>IkutProgramLOP</th>\n",
       "      <th>AlasanResign</th>\n",
       "      <th>TanggalLahir</th>\n",
       "      <th>TanggalHiring</th>\n",
       "      <th>TanggalPenilaianKaryawan</th>\n",
       "      <th>TanggalResign</th>\n",
       "    </tr>\n",
       "  </thead>\n",
       "  <tbody>\n",
       "    <tr>\n",
       "      <th>0</th>\n",
       "      <td>spiritedPorpoise3</td>\n",
       "      <td>111065</td>\n",
       "      <td>Belum_menikah</td>\n",
       "      <td>Pria</td>\n",
       "      <td>Outsource</td>\n",
       "      <td>Software Engineer (Back End)</td>\n",
       "      <td>Freshgraduate_program</td>\n",
       "      <td>Sangat_bagus</td>\n",
       "      <td>Jakarta Timur</td>\n",
       "      <td>Employee_Referral</td>\n",
       "      <td>4</td>\n",
       "      <td>4.0</td>\n",
       "      <td>0.0</td>\n",
       "      <td>0.0</td>\n",
       "      <td>9.0</td>\n",
       "      <td>+6282232522xxx</td>\n",
       "      <td>spiritedPorpoise3135@yahoo.com</td>\n",
       "      <td>Magister</td>\n",
       "      <td>1</td>\n",
       "      <td>1.0</td>\n",
       "      <td>masih_bekerja</td>\n",
       "      <td>1972-07-01</td>\n",
       "      <td>2011-01-10</td>\n",
       "      <td>2016-2-15</td>\n",
       "      <td>-</td>\n",
       "    </tr>\n",
       "    <tr>\n",
       "      <th>1</th>\n",
       "      <td>jealousGelding2</td>\n",
       "      <td>106080</td>\n",
       "      <td>Belum_menikah</td>\n",
       "      <td>Pria</td>\n",
       "      <td>FullTime</td>\n",
       "      <td>Data Analyst</td>\n",
       "      <td>Freshgraduate_program</td>\n",
       "      <td>Sangat_kurang</td>\n",
       "      <td>Jakarta Utara</td>\n",
       "      <td>Website</td>\n",
       "      <td>4</td>\n",
       "      <td>4.0</td>\n",
       "      <td>4.0</td>\n",
       "      <td>0.0</td>\n",
       "      <td>3.0</td>\n",
       "      <td>+6281270745xxx</td>\n",
       "      <td>jealousGelding2239@yahoo.com</td>\n",
       "      <td>Sarjana</td>\n",
       "      <td>1</td>\n",
       "      <td>1.0</td>\n",
       "      <td>toxic_culture</td>\n",
       "      <td>1984-04-26</td>\n",
       "      <td>2014-01-06</td>\n",
       "      <td>2020-1-17</td>\n",
       "      <td>2018-6-16</td>\n",
       "    </tr>\n",
       "    <tr>\n",
       "      <th>2</th>\n",
       "      <td>pluckyMuesli3</td>\n",
       "      <td>106452</td>\n",
       "      <td>Menikah</td>\n",
       "      <td>Pria</td>\n",
       "      <td>FullTime</td>\n",
       "      <td>Software Engineer (Front End)</td>\n",
       "      <td>Freshgraduate_program</td>\n",
       "      <td>Bagus</td>\n",
       "      <td>Jakarta Timur</td>\n",
       "      <td>Indeed</td>\n",
       "      <td>4</td>\n",
       "      <td>3.0</td>\n",
       "      <td>0.0</td>\n",
       "      <td>0.0</td>\n",
       "      <td>11.0</td>\n",
       "      <td>+6281346215xxx</td>\n",
       "      <td>pluckyMuesli3961@icloud.com</td>\n",
       "      <td>Magister</td>\n",
       "      <td>1</td>\n",
       "      <td>1.0</td>\n",
       "      <td>jam_kerja</td>\n",
       "      <td>1974-01-07</td>\n",
       "      <td>2011-01-10</td>\n",
       "      <td>2016-01-10</td>\n",
       "      <td>2014-9-24</td>\n",
       "    </tr>\n",
       "    <tr>\n",
       "      <th>3</th>\n",
       "      <td>stressedTruffle1</td>\n",
       "      <td>106325</td>\n",
       "      <td>Belum_menikah</td>\n",
       "      <td>Pria</td>\n",
       "      <td>Outsource</td>\n",
       "      <td>Software Engineer (Front End)</td>\n",
       "      <td>Freshgraduate_program</td>\n",
       "      <td>Bagus</td>\n",
       "      <td>Jakarta Pusat</td>\n",
       "      <td>LinkedIn</td>\n",
       "      <td>3</td>\n",
       "      <td>3.0</td>\n",
       "      <td>0.0</td>\n",
       "      <td>4.0</td>\n",
       "      <td>6.0</td>\n",
       "      <td>+6283233846xxx</td>\n",
       "      <td>stressedTruffle1406@hotmail.com</td>\n",
       "      <td>Sarjana</td>\n",
       "      <td>1</td>\n",
       "      <td>0.0</td>\n",
       "      <td>masih_bekerja</td>\n",
       "      <td>1979-11-24</td>\n",
       "      <td>2014-2-17</td>\n",
       "      <td>2020-02-04</td>\n",
       "      <td>-</td>\n",
       "    </tr>\n",
       "    <tr>\n",
       "      <th>4</th>\n",
       "      <td>shyTermite7</td>\n",
       "      <td>111171</td>\n",
       "      <td>Belum_menikah</td>\n",
       "      <td>Wanita</td>\n",
       "      <td>FullTime</td>\n",
       "      <td>Product Manager</td>\n",
       "      <td>Freshgraduate_program</td>\n",
       "      <td>Bagus</td>\n",
       "      <td>Jakarta Timur</td>\n",
       "      <td>LinkedIn</td>\n",
       "      <td>3</td>\n",
       "      <td>3.0</td>\n",
       "      <td>0.0</td>\n",
       "      <td>0.0</td>\n",
       "      <td>11.0</td>\n",
       "      <td>+6287883263xxx</td>\n",
       "      <td>shyTermite7149@gmail.com</td>\n",
       "      <td>Sarjana</td>\n",
       "      <td>1</td>\n",
       "      <td>0.0</td>\n",
       "      <td>ganti_karir</td>\n",
       "      <td>1974-11-07</td>\n",
       "      <td>2013-11-11</td>\n",
       "      <td>2020-1-22</td>\n",
       "      <td>2018-09-06</td>\n",
       "    </tr>\n",
       "  </tbody>\n",
       "</table>\n",
       "</div>"
      ],
      "text/plain": [
       "            Username  EnterpriseID StatusPernikahan JenisKelamin  \\\n",
       "0  spiritedPorpoise3        111065    Belum_menikah         Pria   \n",
       "1    jealousGelding2        106080    Belum_menikah         Pria   \n",
       "2      pluckyMuesli3        106452          Menikah         Pria   \n",
       "3   stressedTruffle1        106325    Belum_menikah         Pria   \n",
       "4        shyTermite7        111171    Belum_menikah       Wanita   \n",
       "\n",
       "  StatusKepegawaian                      Pekerjaan           JenjangKarir  \\\n",
       "0         Outsource   Software Engineer (Back End)  Freshgraduate_program   \n",
       "1          FullTime                   Data Analyst  Freshgraduate_program   \n",
       "2          FullTime  Software Engineer (Front End)  Freshgraduate_program   \n",
       "3         Outsource  Software Engineer (Front End)  Freshgraduate_program   \n",
       "4          FullTime                Product Manager  Freshgraduate_program   \n",
       "\n",
       "  PerformancePegawai     AsalDaerah     HiringPlatform  SkorSurveyEngagement  \\\n",
       "0       Sangat_bagus  Jakarta Timur  Employee_Referral                     4   \n",
       "1      Sangat_kurang  Jakarta Utara            Website                     4   \n",
       "2              Bagus  Jakarta Timur             Indeed                     4   \n",
       "3              Bagus  Jakarta Pusat           LinkedIn                     3   \n",
       "4              Bagus  Jakarta Timur           LinkedIn                     3   \n",
       "\n",
       "   SkorKepuasanPegawai  JumlahKeikutsertaanProjek  \\\n",
       "0                  4.0                        0.0   \n",
       "1                  4.0                        4.0   \n",
       "2                  3.0                        0.0   \n",
       "3                  3.0                        0.0   \n",
       "4                  3.0                        0.0   \n",
       "\n",
       "   JumlahKeterlambatanSebulanTerakhir  JumlahKetidakhadiran         NomorHP  \\\n",
       "0                                 0.0                   9.0  +6282232522xxx   \n",
       "1                                 0.0                   3.0  +6281270745xxx   \n",
       "2                                 0.0                  11.0  +6281346215xxx   \n",
       "3                                 4.0                   6.0  +6283233846xxx   \n",
       "4                                 0.0                  11.0  +6287883263xxx   \n",
       "\n",
       "                             Email TingkatPendidikan PernahBekerja  \\\n",
       "0   spiritedPorpoise3135@yahoo.com          Magister             1   \n",
       "1     jealousGelding2239@yahoo.com           Sarjana             1   \n",
       "2      pluckyMuesli3961@icloud.com          Magister             1   \n",
       "3  stressedTruffle1406@hotmail.com           Sarjana             1   \n",
       "4         shyTermite7149@gmail.com           Sarjana             1   \n",
       "\n",
       "   IkutProgramLOP   AlasanResign TanggalLahir TanggalHiring  \\\n",
       "0             1.0  masih_bekerja   1972-07-01    2011-01-10   \n",
       "1             1.0  toxic_culture   1984-04-26    2014-01-06   \n",
       "2             1.0      jam_kerja   1974-01-07    2011-01-10   \n",
       "3             0.0  masih_bekerja   1979-11-24     2014-2-17   \n",
       "4             0.0    ganti_karir   1974-11-07    2013-11-11   \n",
       "\n",
       "  TanggalPenilaianKaryawan TanggalResign  \n",
       "0                2016-2-15             -  \n",
       "1                2020-1-17     2018-6-16  \n",
       "2               2016-01-10     2014-9-24  \n",
       "3               2020-02-04             -  \n",
       "4                2020-1-22    2018-09-06  "
      ]
     },
     "execution_count": 2,
     "metadata": {},
     "output_type": "execute_result"
    }
   ],
   "source": [
    "data_raw = pd.read_csv(r'Improving Employee Retention by Predicting Employee Attrition Using Machine Learning.xlsx - hr_data.csv')\n",
    "pd.set_option('display.max_column', None)\n",
    "data_raw.head()"
   ]
  },
  {
   "attachments": {},
   "cell_type": "markdown",
   "metadata": {},
   "source": [
    "## Data Understanding"
   ]
  },
  {
   "cell_type": "code",
   "execution_count": 3,
   "metadata": {},
   "outputs": [
    {
     "data": {
      "text/plain": [
       "(287, 25)"
      ]
     },
     "execution_count": 3,
     "metadata": {},
     "output_type": "execute_result"
    }
   ],
   "source": [
    "data_raw.shape"
   ]
  },
  {
   "cell_type": "code",
   "execution_count": 4,
   "metadata": {},
   "outputs": [
    {
     "name": "stdout",
     "output_type": "stream",
     "text": [
      "<class 'pandas.core.frame.DataFrame'>\n",
      "RangeIndex: 287 entries, 0 to 286\n",
      "Data columns (total 25 columns):\n",
      " #   Column                              Non-Null Count  Dtype  \n",
      "---  ------                              --------------  -----  \n",
      " 0   Username                            287 non-null    object \n",
      " 1   EnterpriseID                        287 non-null    int64  \n",
      " 2   StatusPernikahan                    287 non-null    object \n",
      " 3   JenisKelamin                        287 non-null    object \n",
      " 4   StatusKepegawaian                   287 non-null    object \n",
      " 5   Pekerjaan                           287 non-null    object \n",
      " 6   JenjangKarir                        287 non-null    object \n",
      " 7   PerformancePegawai                  287 non-null    object \n",
      " 8   AsalDaerah                          287 non-null    object \n",
      " 9   HiringPlatform                      287 non-null    object \n",
      " 10  SkorSurveyEngagement                287 non-null    int64  \n",
      " 11  SkorKepuasanPegawai                 282 non-null    float64\n",
      " 12  JumlahKeikutsertaanProjek           284 non-null    float64\n",
      " 13  JumlahKeterlambatanSebulanTerakhir  286 non-null    float64\n",
      " 14  JumlahKetidakhadiran                281 non-null    float64\n",
      " 15  NomorHP                             287 non-null    object \n",
      " 16  Email                               287 non-null    object \n",
      " 17  TingkatPendidikan                   287 non-null    object \n",
      " 18  PernahBekerja                       287 non-null    object \n",
      " 19  IkutProgramLOP                      29 non-null     float64\n",
      " 20  AlasanResign                        221 non-null    object \n",
      " 21  TanggalLahir                        287 non-null    object \n",
      " 22  TanggalHiring                       287 non-null    object \n",
      " 23  TanggalPenilaianKaryawan            287 non-null    object \n",
      " 24  TanggalResign                       287 non-null    object \n",
      "dtypes: float64(5), int64(2), object(18)\n",
      "memory usage: 56.2+ KB\n"
     ]
    }
   ],
   "source": [
    "data_raw.info()"
   ]
  },
  {
   "cell_type": "code",
   "execution_count": 5,
   "metadata": {},
   "outputs": [
    {
     "data": {
      "text/html": [
       "<div>\n",
       "<style scoped>\n",
       "    .dataframe tbody tr th:only-of-type {\n",
       "        vertical-align: middle;\n",
       "    }\n",
       "\n",
       "    .dataframe tbody tr th {\n",
       "        vertical-align: top;\n",
       "    }\n",
       "\n",
       "    .dataframe thead th {\n",
       "        text-align: right;\n",
       "    }\n",
       "</style>\n",
       "<table border=\"1\" class=\"dataframe\">\n",
       "  <thead>\n",
       "    <tr style=\"text-align: right;\">\n",
       "      <th></th>\n",
       "      <th>feature_name</th>\n",
       "      <th>sum_missing</th>\n",
       "      <th>percent_missing</th>\n",
       "    </tr>\n",
       "  </thead>\n",
       "  <tbody>\n",
       "    <tr>\n",
       "      <th>19</th>\n",
       "      <td>IkutProgramLOP</td>\n",
       "      <td>258</td>\n",
       "      <td>89.90</td>\n",
       "    </tr>\n",
       "    <tr>\n",
       "      <th>20</th>\n",
       "      <td>AlasanResign</td>\n",
       "      <td>66</td>\n",
       "      <td>23.00</td>\n",
       "    </tr>\n",
       "    <tr>\n",
       "      <th>14</th>\n",
       "      <td>JumlahKetidakhadiran</td>\n",
       "      <td>6</td>\n",
       "      <td>2.09</td>\n",
       "    </tr>\n",
       "    <tr>\n",
       "      <th>11</th>\n",
       "      <td>SkorKepuasanPegawai</td>\n",
       "      <td>5</td>\n",
       "      <td>1.74</td>\n",
       "    </tr>\n",
       "    <tr>\n",
       "      <th>12</th>\n",
       "      <td>JumlahKeikutsertaanProjek</td>\n",
       "      <td>3</td>\n",
       "      <td>1.05</td>\n",
       "    </tr>\n",
       "    <tr>\n",
       "      <th>13</th>\n",
       "      <td>JumlahKeterlambatanSebulanTerakhir</td>\n",
       "      <td>1</td>\n",
       "      <td>0.35</td>\n",
       "    </tr>\n",
       "    <tr>\n",
       "      <th>23</th>\n",
       "      <td>TanggalPenilaianKaryawan</td>\n",
       "      <td>0</td>\n",
       "      <td>0.00</td>\n",
       "    </tr>\n",
       "    <tr>\n",
       "      <th>22</th>\n",
       "      <td>TanggalHiring</td>\n",
       "      <td>0</td>\n",
       "      <td>0.00</td>\n",
       "    </tr>\n",
       "    <tr>\n",
       "      <th>21</th>\n",
       "      <td>TanggalLahir</td>\n",
       "      <td>0</td>\n",
       "      <td>0.00</td>\n",
       "    </tr>\n",
       "    <tr>\n",
       "      <th>18</th>\n",
       "      <td>PernahBekerja</td>\n",
       "      <td>0</td>\n",
       "      <td>0.00</td>\n",
       "    </tr>\n",
       "    <tr>\n",
       "      <th>17</th>\n",
       "      <td>TingkatPendidikan</td>\n",
       "      <td>0</td>\n",
       "      <td>0.00</td>\n",
       "    </tr>\n",
       "    <tr>\n",
       "      <th>16</th>\n",
       "      <td>Email</td>\n",
       "      <td>0</td>\n",
       "      <td>0.00</td>\n",
       "    </tr>\n",
       "    <tr>\n",
       "      <th>15</th>\n",
       "      <td>NomorHP</td>\n",
       "      <td>0</td>\n",
       "      <td>0.00</td>\n",
       "    </tr>\n",
       "    <tr>\n",
       "      <th>0</th>\n",
       "      <td>Username</td>\n",
       "      <td>0</td>\n",
       "      <td>0.00</td>\n",
       "    </tr>\n",
       "    <tr>\n",
       "      <th>1</th>\n",
       "      <td>EnterpriseID</td>\n",
       "      <td>0</td>\n",
       "      <td>0.00</td>\n",
       "    </tr>\n",
       "    <tr>\n",
       "      <th>10</th>\n",
       "      <td>SkorSurveyEngagement</td>\n",
       "      <td>0</td>\n",
       "      <td>0.00</td>\n",
       "    </tr>\n",
       "    <tr>\n",
       "      <th>9</th>\n",
       "      <td>HiringPlatform</td>\n",
       "      <td>0</td>\n",
       "      <td>0.00</td>\n",
       "    </tr>\n",
       "    <tr>\n",
       "      <th>8</th>\n",
       "      <td>AsalDaerah</td>\n",
       "      <td>0</td>\n",
       "      <td>0.00</td>\n",
       "    </tr>\n",
       "    <tr>\n",
       "      <th>7</th>\n",
       "      <td>PerformancePegawai</td>\n",
       "      <td>0</td>\n",
       "      <td>0.00</td>\n",
       "    </tr>\n",
       "    <tr>\n",
       "      <th>6</th>\n",
       "      <td>JenjangKarir</td>\n",
       "      <td>0</td>\n",
       "      <td>0.00</td>\n",
       "    </tr>\n",
       "    <tr>\n",
       "      <th>5</th>\n",
       "      <td>Pekerjaan</td>\n",
       "      <td>0</td>\n",
       "      <td>0.00</td>\n",
       "    </tr>\n",
       "    <tr>\n",
       "      <th>4</th>\n",
       "      <td>StatusKepegawaian</td>\n",
       "      <td>0</td>\n",
       "      <td>0.00</td>\n",
       "    </tr>\n",
       "    <tr>\n",
       "      <th>3</th>\n",
       "      <td>JenisKelamin</td>\n",
       "      <td>0</td>\n",
       "      <td>0.00</td>\n",
       "    </tr>\n",
       "    <tr>\n",
       "      <th>2</th>\n",
       "      <td>StatusPernikahan</td>\n",
       "      <td>0</td>\n",
       "      <td>0.00</td>\n",
       "    </tr>\n",
       "    <tr>\n",
       "      <th>24</th>\n",
       "      <td>TanggalResign</td>\n",
       "      <td>0</td>\n",
       "      <td>0.00</td>\n",
       "    </tr>\n",
       "  </tbody>\n",
       "</table>\n",
       "</div>"
      ],
      "text/plain": [
       "                          feature_name  sum_missing  percent_missing\n",
       "19                      IkutProgramLOP          258            89.90\n",
       "20                        AlasanResign           66            23.00\n",
       "14                JumlahKetidakhadiran            6             2.09\n",
       "11                 SkorKepuasanPegawai            5             1.74\n",
       "12           JumlahKeikutsertaanProjek            3             1.05\n",
       "13  JumlahKeterlambatanSebulanTerakhir            1             0.35\n",
       "23            TanggalPenilaianKaryawan            0             0.00\n",
       "22                       TanggalHiring            0             0.00\n",
       "21                        TanggalLahir            0             0.00\n",
       "18                       PernahBekerja            0             0.00\n",
       "17                   TingkatPendidikan            0             0.00\n",
       "16                               Email            0             0.00\n",
       "15                             NomorHP            0             0.00\n",
       "0                             Username            0             0.00\n",
       "1                         EnterpriseID            0             0.00\n",
       "10                SkorSurveyEngagement            0             0.00\n",
       "9                       HiringPlatform            0             0.00\n",
       "8                           AsalDaerah            0             0.00\n",
       "7                   PerformancePegawai            0             0.00\n",
       "6                         JenjangKarir            0             0.00\n",
       "5                            Pekerjaan            0             0.00\n",
       "4                    StatusKepegawaian            0             0.00\n",
       "3                         JenisKelamin            0             0.00\n",
       "2                     StatusPernikahan            0             0.00\n",
       "24                       TanggalResign            0             0.00"
      ]
     },
     "execution_count": 5,
     "metadata": {},
     "output_type": "execute_result"
    }
   ],
   "source": [
    "sum_missing = data_raw.isna().sum()\n",
    "percent_missing = round(data_raw.isnull().sum() *100 / len(data_raw),2)\n",
    "missing_value_df = pd.DataFrame({'feature_name': data_raw.columns,\n",
    "                                 'sum_missing': sum_missing,\n",
    "                                 'percent_missing': percent_missing}).reset_index(drop=True).sort_values(by='sum_missing', ascending=False)\n",
    "pd.set_option('display.max_rows', None)\n",
    "missing_value_df.head(100)"
   ]
  },
  {
   "cell_type": "code",
   "execution_count": 6,
   "metadata": {},
   "outputs": [
    {
     "data": {
      "text/html": [
       "<div>\n",
       "<style scoped>\n",
       "    .dataframe tbody tr th:only-of-type {\n",
       "        vertical-align: middle;\n",
       "    }\n",
       "\n",
       "    .dataframe tbody tr th {\n",
       "        vertical-align: top;\n",
       "    }\n",
       "\n",
       "    .dataframe thead th {\n",
       "        text-align: right;\n",
       "    }\n",
       "</style>\n",
       "<table border=\"1\" class=\"dataframe\">\n",
       "  <thead>\n",
       "    <tr style=\"text-align: right;\">\n",
       "      <th></th>\n",
       "      <th>count</th>\n",
       "      <th>mean</th>\n",
       "      <th>std</th>\n",
       "      <th>min</th>\n",
       "      <th>25%</th>\n",
       "      <th>50%</th>\n",
       "      <th>75%</th>\n",
       "      <th>max</th>\n",
       "    </tr>\n",
       "  </thead>\n",
       "  <tbody>\n",
       "    <tr>\n",
       "      <th>EnterpriseID</th>\n",
       "      <td>287.0</td>\n",
       "      <td>105923.324042</td>\n",
       "      <td>4044.977599</td>\n",
       "      <td>100282.0</td>\n",
       "      <td>101269.0</td>\n",
       "      <td>106069.0</td>\n",
       "      <td>110514.5</td>\n",
       "      <td>111703.0</td>\n",
       "    </tr>\n",
       "    <tr>\n",
       "      <th>SkorSurveyEngagement</th>\n",
       "      <td>287.0</td>\n",
       "      <td>3.101045</td>\n",
       "      <td>0.836388</td>\n",
       "      <td>1.0</td>\n",
       "      <td>3.0</td>\n",
       "      <td>3.0</td>\n",
       "      <td>4.0</td>\n",
       "      <td>5.0</td>\n",
       "    </tr>\n",
       "    <tr>\n",
       "      <th>SkorKepuasanPegawai</th>\n",
       "      <td>282.0</td>\n",
       "      <td>3.904255</td>\n",
       "      <td>0.913355</td>\n",
       "      <td>1.0</td>\n",
       "      <td>3.0</td>\n",
       "      <td>4.0</td>\n",
       "      <td>5.0</td>\n",
       "      <td>5.0</td>\n",
       "    </tr>\n",
       "    <tr>\n",
       "      <th>JumlahKeikutsertaanProjek</th>\n",
       "      <td>284.0</td>\n",
       "      <td>1.179577</td>\n",
       "      <td>2.294441</td>\n",
       "      <td>0.0</td>\n",
       "      <td>0.0</td>\n",
       "      <td>0.0</td>\n",
       "      <td>0.0</td>\n",
       "      <td>8.0</td>\n",
       "    </tr>\n",
       "    <tr>\n",
       "      <th>JumlahKeterlambatanSebulanTerakhir</th>\n",
       "      <td>286.0</td>\n",
       "      <td>0.412587</td>\n",
       "      <td>1.275016</td>\n",
       "      <td>0.0</td>\n",
       "      <td>0.0</td>\n",
       "      <td>0.0</td>\n",
       "      <td>0.0</td>\n",
       "      <td>6.0</td>\n",
       "    </tr>\n",
       "    <tr>\n",
       "      <th>JumlahKetidakhadiran</th>\n",
       "      <td>281.0</td>\n",
       "      <td>10.448399</td>\n",
       "      <td>6.902252</td>\n",
       "      <td>1.0</td>\n",
       "      <td>5.0</td>\n",
       "      <td>10.0</td>\n",
       "      <td>15.0</td>\n",
       "      <td>55.0</td>\n",
       "    </tr>\n",
       "    <tr>\n",
       "      <th>IkutProgramLOP</th>\n",
       "      <td>29.0</td>\n",
       "      <td>0.517241</td>\n",
       "      <td>0.508548</td>\n",
       "      <td>0.0</td>\n",
       "      <td>0.0</td>\n",
       "      <td>1.0</td>\n",
       "      <td>1.0</td>\n",
       "      <td>1.0</td>\n",
       "    </tr>\n",
       "  </tbody>\n",
       "</table>\n",
       "</div>"
      ],
      "text/plain": [
       "                                    count           mean          std  \\\n",
       "EnterpriseID                        287.0  105923.324042  4044.977599   \n",
       "SkorSurveyEngagement                287.0       3.101045     0.836388   \n",
       "SkorKepuasanPegawai                 282.0       3.904255     0.913355   \n",
       "JumlahKeikutsertaanProjek           284.0       1.179577     2.294441   \n",
       "JumlahKeterlambatanSebulanTerakhir  286.0       0.412587     1.275016   \n",
       "JumlahKetidakhadiran                281.0      10.448399     6.902252   \n",
       "IkutProgramLOP                       29.0       0.517241     0.508548   \n",
       "\n",
       "                                         min       25%       50%       75%  \\\n",
       "EnterpriseID                        100282.0  101269.0  106069.0  110514.5   \n",
       "SkorSurveyEngagement                     1.0       3.0       3.0       4.0   \n",
       "SkorKepuasanPegawai                      1.0       3.0       4.0       5.0   \n",
       "JumlahKeikutsertaanProjek                0.0       0.0       0.0       0.0   \n",
       "JumlahKeterlambatanSebulanTerakhir       0.0       0.0       0.0       0.0   \n",
       "JumlahKetidakhadiran                     1.0       5.0      10.0      15.0   \n",
       "IkutProgramLOP                           0.0       0.0       1.0       1.0   \n",
       "\n",
       "                                         max  \n",
       "EnterpriseID                        111703.0  \n",
       "SkorSurveyEngagement                     5.0  \n",
       "SkorKepuasanPegawai                      5.0  \n",
       "JumlahKeikutsertaanProjek                8.0  \n",
       "JumlahKeterlambatanSebulanTerakhir       6.0  \n",
       "JumlahKetidakhadiran                    55.0  \n",
       "IkutProgramLOP                           1.0  "
      ]
     },
     "execution_count": 6,
     "metadata": {},
     "output_type": "execute_result"
    }
   ],
   "source": [
    "data_raw.describe().T"
   ]
  },
  {
   "cell_type": "code",
   "execution_count": 7,
   "metadata": {},
   "outputs": [
    {
     "data": {
      "text/html": [
       "<div>\n",
       "<style scoped>\n",
       "    .dataframe tbody tr th:only-of-type {\n",
       "        vertical-align: middle;\n",
       "    }\n",
       "\n",
       "    .dataframe tbody tr th {\n",
       "        vertical-align: top;\n",
       "    }\n",
       "\n",
       "    .dataframe thead th {\n",
       "        text-align: right;\n",
       "    }\n",
       "</style>\n",
       "<table border=\"1\" class=\"dataframe\">\n",
       "  <thead>\n",
       "    <tr style=\"text-align: right;\">\n",
       "      <th></th>\n",
       "      <th>count</th>\n",
       "      <th>unique</th>\n",
       "      <th>top</th>\n",
       "      <th>freq</th>\n",
       "    </tr>\n",
       "  </thead>\n",
       "  <tbody>\n",
       "    <tr>\n",
       "      <th>Username</th>\n",
       "      <td>287</td>\n",
       "      <td>285</td>\n",
       "      <td>boredEggs0</td>\n",
       "      <td>2</td>\n",
       "    </tr>\n",
       "    <tr>\n",
       "      <th>StatusPernikahan</th>\n",
       "      <td>287</td>\n",
       "      <td>5</td>\n",
       "      <td>Belum_menikah</td>\n",
       "      <td>132</td>\n",
       "    </tr>\n",
       "    <tr>\n",
       "      <th>JenisKelamin</th>\n",
       "      <td>287</td>\n",
       "      <td>2</td>\n",
       "      <td>Wanita</td>\n",
       "      <td>167</td>\n",
       "    </tr>\n",
       "    <tr>\n",
       "      <th>StatusKepegawaian</th>\n",
       "      <td>287</td>\n",
       "      <td>3</td>\n",
       "      <td>FullTime</td>\n",
       "      <td>217</td>\n",
       "    </tr>\n",
       "    <tr>\n",
       "      <th>Pekerjaan</th>\n",
       "      <td>287</td>\n",
       "      <td>14</td>\n",
       "      <td>Software Engineer (Back End)</td>\n",
       "      <td>109</td>\n",
       "    </tr>\n",
       "    <tr>\n",
       "      <th>JenjangKarir</th>\n",
       "      <td>287</td>\n",
       "      <td>3</td>\n",
       "      <td>Freshgraduate_program</td>\n",
       "      <td>169</td>\n",
       "    </tr>\n",
       "    <tr>\n",
       "      <th>PerformancePegawai</th>\n",
       "      <td>287</td>\n",
       "      <td>5</td>\n",
       "      <td>Biasa</td>\n",
       "      <td>85</td>\n",
       "    </tr>\n",
       "    <tr>\n",
       "      <th>AsalDaerah</th>\n",
       "      <td>287</td>\n",
       "      <td>5</td>\n",
       "      <td>Jakarta Pusat</td>\n",
       "      <td>72</td>\n",
       "    </tr>\n",
       "    <tr>\n",
       "      <th>HiringPlatform</th>\n",
       "      <td>287</td>\n",
       "      <td>9</td>\n",
       "      <td>Indeed</td>\n",
       "      <td>85</td>\n",
       "    </tr>\n",
       "    <tr>\n",
       "      <th>NomorHP</th>\n",
       "      <td>287</td>\n",
       "      <td>287</td>\n",
       "      <td>+6282232522xxx</td>\n",
       "      <td>1</td>\n",
       "    </tr>\n",
       "    <tr>\n",
       "      <th>Email</th>\n",
       "      <td>287</td>\n",
       "      <td>287</td>\n",
       "      <td>spiritedPorpoise3135@yahoo.com</td>\n",
       "      <td>1</td>\n",
       "    </tr>\n",
       "    <tr>\n",
       "      <th>TingkatPendidikan</th>\n",
       "      <td>287</td>\n",
       "      <td>3</td>\n",
       "      <td>Sarjana</td>\n",
       "      <td>176</td>\n",
       "    </tr>\n",
       "    <tr>\n",
       "      <th>PernahBekerja</th>\n",
       "      <td>287</td>\n",
       "      <td>2</td>\n",
       "      <td>1</td>\n",
       "      <td>286</td>\n",
       "    </tr>\n",
       "    <tr>\n",
       "      <th>AlasanResign</th>\n",
       "      <td>221</td>\n",
       "      <td>11</td>\n",
       "      <td>masih_bekerja</td>\n",
       "      <td>132</td>\n",
       "    </tr>\n",
       "    <tr>\n",
       "      <th>TanggalLahir</th>\n",
       "      <td>287</td>\n",
       "      <td>284</td>\n",
       "      <td>1987-06-14</td>\n",
       "      <td>2</td>\n",
       "    </tr>\n",
       "    <tr>\n",
       "      <th>TanggalHiring</th>\n",
       "      <td>287</td>\n",
       "      <td>97</td>\n",
       "      <td>2011-01-10</td>\n",
       "      <td>12</td>\n",
       "    </tr>\n",
       "    <tr>\n",
       "      <th>TanggalPenilaianKaryawan</th>\n",
       "      <td>287</td>\n",
       "      <td>127</td>\n",
       "      <td>2020-1-14</td>\n",
       "      <td>17</td>\n",
       "    </tr>\n",
       "    <tr>\n",
       "      <th>TanggalResign</th>\n",
       "      <td>287</td>\n",
       "      <td>53</td>\n",
       "      <td>-</td>\n",
       "      <td>198</td>\n",
       "    </tr>\n",
       "  </tbody>\n",
       "</table>\n",
       "</div>"
      ],
      "text/plain": [
       "                         count unique                             top freq\n",
       "Username                   287    285                      boredEggs0    2\n",
       "StatusPernikahan           287      5                   Belum_menikah  132\n",
       "JenisKelamin               287      2                          Wanita  167\n",
       "StatusKepegawaian          287      3                        FullTime  217\n",
       "Pekerjaan                  287     14    Software Engineer (Back End)  109\n",
       "JenjangKarir               287      3           Freshgraduate_program  169\n",
       "PerformancePegawai         287      5                           Biasa   85\n",
       "AsalDaerah                 287      5                   Jakarta Pusat   72\n",
       "HiringPlatform             287      9                          Indeed   85\n",
       "NomorHP                    287    287                  +6282232522xxx    1\n",
       "Email                      287    287  spiritedPorpoise3135@yahoo.com    1\n",
       "TingkatPendidikan          287      3                         Sarjana  176\n",
       "PernahBekerja              287      2                               1  286\n",
       "AlasanResign               221     11                   masih_bekerja  132\n",
       "TanggalLahir               287    284                      1987-06-14    2\n",
       "TanggalHiring              287     97                      2011-01-10   12\n",
       "TanggalPenilaianKaryawan   287    127                       2020-1-14   17\n",
       "TanggalResign              287     53                               -  198"
      ]
     },
     "execution_count": 7,
     "metadata": {},
     "output_type": "execute_result"
    }
   ],
   "source": [
    "data_raw.select_dtypes(include='object').describe().T"
   ]
  },
  {
   "cell_type": "code",
   "execution_count": 8,
   "metadata": {},
   "outputs": [
    {
     "data": {
      "text/plain": [
       "Username                              285\n",
       "EnterpriseID                          287\n",
       "StatusPernikahan                        5\n",
       "JenisKelamin                            2\n",
       "StatusKepegawaian                       3\n",
       "Pekerjaan                              14\n",
       "JenjangKarir                            3\n",
       "PerformancePegawai                      5\n",
       "AsalDaerah                              5\n",
       "HiringPlatform                          9\n",
       "SkorSurveyEngagement                    5\n",
       "SkorKepuasanPegawai                     5\n",
       "JumlahKeikutsertaanProjek               9\n",
       "JumlahKeterlambatanSebulanTerakhir      7\n",
       "JumlahKetidakhadiran                   22\n",
       "NomorHP                               287\n",
       "Email                                 287\n",
       "TingkatPendidikan                       3\n",
       "PernahBekerja                           2\n",
       "IkutProgramLOP                          2\n",
       "AlasanResign                           11\n",
       "TanggalLahir                          284\n",
       "TanggalHiring                          97\n",
       "TanggalPenilaianKaryawan              127\n",
       "TanggalResign                          53\n",
       "dtype: int64"
      ]
     },
     "execution_count": 8,
     "metadata": {},
     "output_type": "execute_result"
    }
   ],
   "source": [
    "data_raw.nunique()"
   ]
  },
  {
   "attachments": {},
   "cell_type": "markdown",
   "metadata": {},
   "source": [
    "## Preprocessing"
   ]
  },
  {
   "attachments": {},
   "cell_type": "markdown",
   "metadata": {},
   "source": [
    "### Feature Engineering"
   ]
  },
  {
   "attachments": {},
   "cell_type": "markdown",
   "metadata": {},
   "source": [
    "Sebelum melakukan preprocessing data lainnya, ada baiknya kita drop beberapa feature yang nantinya tidak/kurang berguna untuk analisis maupun untuk modeling:\n",
    "1. Feature identitas seperti `Username, EnterpriseID, NomorHP,Email`\n",
    "2. `IkutProgramLOP` karena mengandung terlalu banyak missing value\n",
    "3. `TanggalPenilaianKaryawan` karena banyak ditemukan data yang kurang valid(tanggal penilaian setelah karyawan resign)"
   ]
  },
  {
   "cell_type": "code",
   "execution_count": 9,
   "metadata": {},
   "outputs": [],
   "source": [
    "feature_drop = [# Identitas\n",
    "                'Username',\n",
    "                'EnterpriseID',\n",
    "                'NomorHP',\n",
    "                'Email',\n",
    "                # Missing value > 80%\n",
    "                'IkutProgramLOP',\n",
    "                # Invalid\n",
    "                'TanggalPenilaianKaryawan'\n",
    "]"
   ]
  },
  {
   "cell_type": "code",
   "execution_count": 10,
   "metadata": {},
   "outputs": [],
   "source": [
    "data_pre = data_raw.drop(feature_drop, axis=1)"
   ]
  },
  {
   "cell_type": "code",
   "execution_count": 11,
   "metadata": {},
   "outputs": [
    {
     "data": {
      "text/html": [
       "<div>\n",
       "<style scoped>\n",
       "    .dataframe tbody tr th:only-of-type {\n",
       "        vertical-align: middle;\n",
       "    }\n",
       "\n",
       "    .dataframe tbody tr th {\n",
       "        vertical-align: top;\n",
       "    }\n",
       "\n",
       "    .dataframe thead th {\n",
       "        text-align: right;\n",
       "    }\n",
       "</style>\n",
       "<table border=\"1\" class=\"dataframe\">\n",
       "  <thead>\n",
       "    <tr style=\"text-align: right;\">\n",
       "      <th></th>\n",
       "      <th>StatusPernikahan</th>\n",
       "      <th>JenisKelamin</th>\n",
       "      <th>StatusKepegawaian</th>\n",
       "      <th>Pekerjaan</th>\n",
       "      <th>JenjangKarir</th>\n",
       "      <th>PerformancePegawai</th>\n",
       "      <th>AsalDaerah</th>\n",
       "      <th>HiringPlatform</th>\n",
       "      <th>SkorSurveyEngagement</th>\n",
       "      <th>SkorKepuasanPegawai</th>\n",
       "      <th>JumlahKeikutsertaanProjek</th>\n",
       "      <th>JumlahKeterlambatanSebulanTerakhir</th>\n",
       "      <th>JumlahKetidakhadiran</th>\n",
       "      <th>TingkatPendidikan</th>\n",
       "      <th>PernahBekerja</th>\n",
       "      <th>AlasanResign</th>\n",
       "      <th>TanggalLahir</th>\n",
       "      <th>TanggalHiring</th>\n",
       "      <th>TanggalResign</th>\n",
       "    </tr>\n",
       "  </thead>\n",
       "  <tbody>\n",
       "    <tr>\n",
       "      <th>0</th>\n",
       "      <td>Belum_menikah</td>\n",
       "      <td>Pria</td>\n",
       "      <td>Outsource</td>\n",
       "      <td>Software Engineer (Back End)</td>\n",
       "      <td>Freshgraduate_program</td>\n",
       "      <td>Sangat_bagus</td>\n",
       "      <td>Jakarta Timur</td>\n",
       "      <td>Employee_Referral</td>\n",
       "      <td>4</td>\n",
       "      <td>4.0</td>\n",
       "      <td>0.0</td>\n",
       "      <td>0.0</td>\n",
       "      <td>9.0</td>\n",
       "      <td>Magister</td>\n",
       "      <td>1</td>\n",
       "      <td>masih_bekerja</td>\n",
       "      <td>1972-07-01</td>\n",
       "      <td>2011-01-10</td>\n",
       "      <td>-</td>\n",
       "    </tr>\n",
       "  </tbody>\n",
       "</table>\n",
       "</div>"
      ],
      "text/plain": [
       "  StatusPernikahan JenisKelamin StatusKepegawaian  \\\n",
       "0    Belum_menikah         Pria         Outsource   \n",
       "\n",
       "                      Pekerjaan           JenjangKarir PerformancePegawai  \\\n",
       "0  Software Engineer (Back End)  Freshgraduate_program       Sangat_bagus   \n",
       "\n",
       "      AsalDaerah     HiringPlatform  SkorSurveyEngagement  \\\n",
       "0  Jakarta Timur  Employee_Referral                     4   \n",
       "\n",
       "   SkorKepuasanPegawai  JumlahKeikutsertaanProjek  \\\n",
       "0                  4.0                        0.0   \n",
       "\n",
       "   JumlahKeterlambatanSebulanTerakhir  JumlahKetidakhadiran TingkatPendidikan  \\\n",
       "0                                 0.0                   9.0          Magister   \n",
       "\n",
       "  PernahBekerja   AlasanResign TanggalLahir TanggalHiring TanggalResign  \n",
       "0             1  masih_bekerja   1972-07-01    2011-01-10             -  "
      ]
     },
     "execution_count": 11,
     "metadata": {},
     "output_type": "execute_result"
    }
   ],
   "source": [
    "data_pre.head(1)"
   ]
  },
  {
   "attachments": {},
   "cell_type": "markdown",
   "metadata": {},
   "source": [
    "#### Labeling/Define Target"
   ]
  },
  {
   "attachments": {},
   "cell_type": "markdown",
   "metadata": {},
   "source": [
    "Dalam modeling ini, tujuan utamanya untuk memprediksi pengunduran diri karyawan berdasarkan dari perilaku, karakteristik, dan faktor lain dari feature yang tersedia. Oleh karena itu, target dari dataset ini menjelaskan apakah karyawan tersebut resign atau tidak\n",
    "<br>\n",
    "<br>\n",
    "Dalam dataset ini feature `AlasanResign` dapat digunakan untuk menjelaskan apakah karyawan tersebut resign atau tidak"
   ]
  },
  {
   "cell_type": "code",
   "execution_count": 12,
   "metadata": {},
   "outputs": [
    {
     "data": {
      "text/plain": [
       "masih_bekerja               132\n",
       "jam_kerja                    16\n",
       "ganti_karir                  14\n",
       "kejelasan_karir              11\n",
       "tidak_bisa_remote            11\n",
       "toxic_culture                10\n",
       "leadership                    9\n",
       "tidak_bahagia                 8\n",
       "internal_conflict             4\n",
       "Product Design (UI & UX)      4\n",
       "apresiasi                     2\n",
       "Name: AlasanResign, dtype: int64"
      ]
     },
     "execution_count": 12,
     "metadata": {},
     "output_type": "execute_result"
    }
   ],
   "source": [
    "data_pre['AlasanResign'].value_counts()"
   ]
  },
  {
   "attachments": {},
   "cell_type": "markdown",
   "metadata": {},
   "source": [
    "Feature `AlasanResign` memiliki beberapa value yang menjelaskan apakah karyawan tersebut `masih_bekerja` atau tidak, dan masing-masing alasan seorang karyawan memilih untuk resign\n",
    "<br> Jadi untuk labeling kita akan membuat feature `resign` dengan value 0 (masih bekerja) dan 1(resign).\n",
    "<br> Namun ada satu yang unik disini dimana ada `AlasanResign` dengan value `Product Design (UI & UX)` dimana hal tersebut adalah posisi dari karyawan tersebut."
   ]
  },
  {
   "cell_type": "code",
   "execution_count": 13,
   "metadata": {},
   "outputs": [
    {
     "data": {
      "text/html": [
       "<div>\n",
       "<style scoped>\n",
       "    .dataframe tbody tr th:only-of-type {\n",
       "        vertical-align: middle;\n",
       "    }\n",
       "\n",
       "    .dataframe tbody tr th {\n",
       "        vertical-align: top;\n",
       "    }\n",
       "\n",
       "    .dataframe thead th {\n",
       "        text-align: right;\n",
       "    }\n",
       "</style>\n",
       "<table border=\"1\" class=\"dataframe\">\n",
       "  <thead>\n",
       "    <tr style=\"text-align: right;\">\n",
       "      <th></th>\n",
       "      <th>StatusPernikahan</th>\n",
       "      <th>JenisKelamin</th>\n",
       "      <th>StatusKepegawaian</th>\n",
       "      <th>Pekerjaan</th>\n",
       "      <th>JenjangKarir</th>\n",
       "      <th>PerformancePegawai</th>\n",
       "      <th>AsalDaerah</th>\n",
       "      <th>HiringPlatform</th>\n",
       "      <th>SkorSurveyEngagement</th>\n",
       "      <th>SkorKepuasanPegawai</th>\n",
       "      <th>JumlahKeikutsertaanProjek</th>\n",
       "      <th>JumlahKeterlambatanSebulanTerakhir</th>\n",
       "      <th>JumlahKetidakhadiran</th>\n",
       "      <th>TingkatPendidikan</th>\n",
       "      <th>PernahBekerja</th>\n",
       "      <th>AlasanResign</th>\n",
       "      <th>TanggalLahir</th>\n",
       "      <th>TanggalHiring</th>\n",
       "      <th>TanggalResign</th>\n",
       "    </tr>\n",
       "  </thead>\n",
       "  <tbody>\n",
       "    <tr>\n",
       "      <th>27</th>\n",
       "      <td>Menikah</td>\n",
       "      <td>Wanita</td>\n",
       "      <td>FullTime</td>\n",
       "      <td>Software Engineer (Front End)</td>\n",
       "      <td>Senior_level</td>\n",
       "      <td>Biasa</td>\n",
       "      <td>Jakarta Selatan</td>\n",
       "      <td>LinkedIn</td>\n",
       "      <td>3</td>\n",
       "      <td>5.0</td>\n",
       "      <td>0.0</td>\n",
       "      <td>0.0</td>\n",
       "      <td>15.0</td>\n",
       "      <td>Sarjana</td>\n",
       "      <td>1</td>\n",
       "      <td>Product Design (UI &amp; UX)</td>\n",
       "      <td>1987-04-10</td>\n",
       "      <td>2016-07-06</td>\n",
       "      <td>2016-08-07</td>\n",
       "    </tr>\n",
       "    <tr>\n",
       "      <th>124</th>\n",
       "      <td>Belum_menikah</td>\n",
       "      <td>Pria</td>\n",
       "      <td>FullTime</td>\n",
       "      <td>Product Design (UI &amp; UX)</td>\n",
       "      <td>Freshgraduate_program</td>\n",
       "      <td>Sangat_bagus</td>\n",
       "      <td>Jakarta Utara</td>\n",
       "      <td>Diversity_Job_Fair</td>\n",
       "      <td>3</td>\n",
       "      <td>3.0</td>\n",
       "      <td>0.0</td>\n",
       "      <td>0.0</td>\n",
       "      <td>19.0</td>\n",
       "      <td>Sarjana</td>\n",
       "      <td>1</td>\n",
       "      <td>Product Design (UI &amp; UX)</td>\n",
       "      <td>1989-05-02</td>\n",
       "      <td>2011-9-26</td>\n",
       "      <td>2017-12-15</td>\n",
       "    </tr>\n",
       "    <tr>\n",
       "      <th>147</th>\n",
       "      <td>Menikah</td>\n",
       "      <td>Wanita</td>\n",
       "      <td>FullTime</td>\n",
       "      <td>Software Engineer (Front End)</td>\n",
       "      <td>Freshgraduate_program</td>\n",
       "      <td>Sangat_bagus</td>\n",
       "      <td>Jakarta Timur</td>\n",
       "      <td>LinkedIn</td>\n",
       "      <td>3</td>\n",
       "      <td>5.0</td>\n",
       "      <td>0.0</td>\n",
       "      <td>0.0</td>\n",
       "      <td>20.0</td>\n",
       "      <td>Sarjana</td>\n",
       "      <td>1</td>\n",
       "      <td>Product Design (UI &amp; UX)</td>\n",
       "      <td>1969-02-09</td>\n",
       "      <td>2012-03-07</td>\n",
       "      <td>2016-4-24</td>\n",
       "    </tr>\n",
       "    <tr>\n",
       "      <th>203</th>\n",
       "      <td>Menikah</td>\n",
       "      <td>Wanita</td>\n",
       "      <td>FullTime</td>\n",
       "      <td>Software Engineer (Back End)</td>\n",
       "      <td>Mid_level</td>\n",
       "      <td>Sangat_bagus</td>\n",
       "      <td>Jakarta Selatan</td>\n",
       "      <td>Website</td>\n",
       "      <td>3</td>\n",
       "      <td>5.0</td>\n",
       "      <td>0.0</td>\n",
       "      <td>0.0</td>\n",
       "      <td>9.0</td>\n",
       "      <td>Sarjana</td>\n",
       "      <td>1</td>\n",
       "      <td>Product Design (UI &amp; UX)</td>\n",
       "      <td>1988-08-29</td>\n",
       "      <td>2012-01-09</td>\n",
       "      <td>2018-04-01</td>\n",
       "    </tr>\n",
       "  </tbody>\n",
       "</table>\n",
       "</div>"
      ],
      "text/plain": [
       "    StatusPernikahan JenisKelamin StatusKepegawaian  \\\n",
       "27           Menikah       Wanita          FullTime   \n",
       "124    Belum_menikah         Pria          FullTime   \n",
       "147          Menikah       Wanita          FullTime   \n",
       "203          Menikah       Wanita          FullTime   \n",
       "\n",
       "                         Pekerjaan           JenjangKarir PerformancePegawai  \\\n",
       "27   Software Engineer (Front End)           Senior_level              Biasa   \n",
       "124       Product Design (UI & UX)  Freshgraduate_program       Sangat_bagus   \n",
       "147  Software Engineer (Front End)  Freshgraduate_program       Sangat_bagus   \n",
       "203   Software Engineer (Back End)              Mid_level       Sangat_bagus   \n",
       "\n",
       "          AsalDaerah      HiringPlatform  SkorSurveyEngagement  \\\n",
       "27   Jakarta Selatan            LinkedIn                     3   \n",
       "124    Jakarta Utara  Diversity_Job_Fair                     3   \n",
       "147    Jakarta Timur            LinkedIn                     3   \n",
       "203  Jakarta Selatan             Website                     3   \n",
       "\n",
       "     SkorKepuasanPegawai  JumlahKeikutsertaanProjek  \\\n",
       "27                   5.0                        0.0   \n",
       "124                  3.0                        0.0   \n",
       "147                  5.0                        0.0   \n",
       "203                  5.0                        0.0   \n",
       "\n",
       "     JumlahKeterlambatanSebulanTerakhir  JumlahKetidakhadiran  \\\n",
       "27                                  0.0                  15.0   \n",
       "124                                 0.0                  19.0   \n",
       "147                                 0.0                  20.0   \n",
       "203                                 0.0                   9.0   \n",
       "\n",
       "    TingkatPendidikan PernahBekerja              AlasanResign TanggalLahir  \\\n",
       "27            Sarjana             1  Product Design (UI & UX)   1987-04-10   \n",
       "124           Sarjana             1  Product Design (UI & UX)   1989-05-02   \n",
       "147           Sarjana             1  Product Design (UI & UX)   1969-02-09   \n",
       "203           Sarjana             1  Product Design (UI & UX)   1988-08-29   \n",
       "\n",
       "    TanggalHiring TanggalResign  \n",
       "27     2016-07-06    2016-08-07  \n",
       "124     2011-9-26    2017-12-15  \n",
       "147    2012-03-07     2016-4-24  \n",
       "203    2012-01-09    2018-04-01  "
      ]
     },
     "execution_count": 13,
     "metadata": {},
     "output_type": "execute_result"
    }
   ],
   "source": [
    "data_pre[(data_pre['AlasanResign']=='Product Design (UI & UX)')].head()"
   ]
  },
  {
   "attachments": {},
   "cell_type": "markdown",
   "metadata": {},
   "source": [
    "Setelah diteliti lebih lanjut, karyawan dengan `AlasanResign` Product Design (UI & UX) sudah ada tanggal resignnya, jadi hal tersebut kemungkinan adalah kesalahan pada proses input data. Supaya tidak membingungkan, kita akan ganti menjadi 'Lainnya'"
   ]
  },
  {
   "cell_type": "code",
   "execution_count": 14,
   "metadata": {},
   "outputs": [],
   "source": [
    "data_pre['AlasanResign'] = data_pre['AlasanResign'].replace({'Product Design (UI & UX)':'Lainnya'})"
   ]
  },
  {
   "cell_type": "code",
   "execution_count": 15,
   "metadata": {},
   "outputs": [
    {
     "data": {
      "text/plain": [
       "66"
      ]
     },
     "execution_count": 15,
     "metadata": {},
     "output_type": "execute_result"
    }
   ],
   "source": [
    "data_pre['AlasanResign'].isna().sum()"
   ]
  },
  {
   "attachments": {},
   "cell_type": "markdown",
   "metadata": {},
   "source": [
    "Terdapat 66 baris yang kosong dalam feature `AlasanResign` untuk memastikan akan diisi apa mari kita apakah karyawan tersebut sudah resign atau belum"
   ]
  },
  {
   "cell_type": "code",
   "execution_count": 16,
   "metadata": {},
   "outputs": [
    {
     "data": {
      "text/plain": [
       "(66, 19)"
      ]
     },
     "execution_count": 16,
     "metadata": {},
     "output_type": "execute_result"
    }
   ],
   "source": [
    "data_res = data_pre[(data_pre['AlasanResign'].isnull()) & (data_pre['TanggalResign']=='-')]\n",
    "data_res.shape"
   ]
  },
  {
   "attachments": {},
   "cell_type": "markdown",
   "metadata": {},
   "source": [
    "Hal tersebut membuktikan bahwa pada feature `AlasanResign` baris yang kosong merupakan karyawan yang masih bekerja semua, oleh karena itu kita akan imputasi masih_bekerja pada baris yang kosong"
   ]
  },
  {
   "cell_type": "code",
   "execution_count": 17,
   "metadata": {},
   "outputs": [],
   "source": [
    "data_pre['AlasanResign'].fillna('masih_bekerja', inplace=True)"
   ]
  },
  {
   "cell_type": "code",
   "execution_count": 18,
   "metadata": {},
   "outputs": [],
   "source": [
    "data_pre['resign'] = np.where((data_pre['AlasanResign']=='masih_bekerja'), 0, 1)"
   ]
  },
  {
   "cell_type": "code",
   "execution_count": 19,
   "metadata": {},
   "outputs": [
    {
     "data": {
      "text/plain": [
       "0    68.989547\n",
       "1    31.010453\n",
       "Name: resign, dtype: float64"
      ]
     },
     "execution_count": 19,
     "metadata": {},
     "output_type": "execute_result"
    }
   ],
   "source": [
    "data_pre['resign'].value_counts(normalize=True)*100"
   ]
  },
  {
   "attachments": {},
   "cell_type": "markdown",
   "metadata": {},
   "source": [
    "### Feature Modification"
   ]
  },
  {
   "attachments": {},
   "cell_type": "markdown",
   "metadata": {},
   "source": [
    "#### TanggalLahir"
   ]
  },
  {
   "attachments": {},
   "cell_type": "markdown",
   "metadata": {},
   "source": [
    "Dengan feature tanggal lahir kita akan memodifikasinya menjadi feature umur. Jika dilihat dari feature tanggal lainnya, dataset ini memuat informasi karyawan sampai dengan tahun 2020, dengan asumsi bahwa dataset ini digunakan pada awal tahun 2021, maka dengan mengurangi tanggal 2021-01-01 dengan `TanggalLahir` kita bisa mengetahui umur dari masing-masing karyawan"
   ]
  },
  {
   "cell_type": "code",
   "execution_count": 20,
   "metadata": {},
   "outputs": [
    {
     "data": {
      "text/plain": [
       "0    1972-07-01\n",
       "1    1984-04-26\n",
       "Name: TanggalLahir, dtype: object"
      ]
     },
     "execution_count": 20,
     "metadata": {},
     "output_type": "execute_result"
    }
   ],
   "source": [
    "data_pre['TanggalLahir'].head(2)"
   ]
  },
  {
   "cell_type": "code",
   "execution_count": 21,
   "metadata": {},
   "outputs": [],
   "source": [
    "data_pre['TanggalLahir'] = pd.to_datetime(data_pre['TanggalLahir'], format='%Y-%m-%d')\n",
    "data_pre['umur'] = round(pd.to_numeric((pd.to_datetime('2020-12-01') - data_pre['TanggalLahir']) / np.timedelta64(1, 'Y')))"
   ]
  },
  {
   "cell_type": "code",
   "execution_count": 22,
   "metadata": {},
   "outputs": [
    {
     "data": {
      "text/plain": [
       "count    287.000000\n",
       "mean      41.804878\n",
       "std        8.880928\n",
       "min       28.000000\n",
       "25%       34.500000\n",
       "50%       40.000000\n",
       "75%       47.000000\n",
       "max       70.000000\n",
       "Name: umur, dtype: float64"
      ]
     },
     "execution_count": 22,
     "metadata": {},
     "output_type": "execute_result"
    }
   ],
   "source": [
    "data_pre['umur'].describe()"
   ]
  },
  {
   "attachments": {},
   "cell_type": "markdown",
   "metadata": {},
   "source": [
    "#### TanggalHiring dan TanggalResign"
   ]
  },
  {
   "attachments": {},
   "cell_type": "markdown",
   "metadata": {},
   "source": [
    "Dari kedua feature ini kita dapat mengetahui berapa lama waktu dari seorang karyawan bekerja dalam bulan dengan cara `TanggalResign` dikurangi `TanggalHiring`. Untuk karyawan yang masih bekerja, akan dikurangi dengan tanggal 2021-01-01"
   ]
  },
  {
   "cell_type": "code",
   "execution_count": 23,
   "metadata": {},
   "outputs": [],
   "source": [
    "# mengisi TanggalResign dengan 2020-12-01 untuk karyawan yang belum resign\n",
    "data_pre['TanggalResign'] = data_pre['TanggalResign'].where(data_pre['TanggalResign'] != '-', '2021-01-01')"
   ]
  },
  {
   "cell_type": "code",
   "execution_count": 24,
   "metadata": {},
   "outputs": [],
   "source": [
    "data_pre['TanggalHiring'] = pd.to_datetime(data_pre['TanggalHiring'],format='%Y-%m-%d')\n",
    "data_pre['TanggalResign'] = pd.to_datetime(data_pre['TanggalResign'],format='%Y-%m-%d')"
   ]
  },
  {
   "cell_type": "code",
   "execution_count": 25,
   "metadata": {},
   "outputs": [],
   "source": [
    "# hitung perbedaan tanggal\n",
    "data_pre['LamaBekerja'] = data_pre['TanggalResign'] - data_pre['TanggalHiring']\n",
    "# konversi perbedaan tanggal ke tahun\n",
    "data_pre['LamaBekerja'] = round(data_pre['LamaBekerja'].apply(lambda x: x.days/365))"
   ]
  },
  {
   "cell_type": "code",
   "execution_count": 26,
   "metadata": {},
   "outputs": [
    {
     "data": {
      "text/plain": [
       "count    287.000000\n",
       "mean       6.749129\n",
       "std        2.867674\n",
       "min       -4.000000\n",
       "25%        6.000000\n",
       "50%        7.000000\n",
       "75%        9.000000\n",
       "max       15.000000\n",
       "Name: LamaBekerja, dtype: float64"
      ]
     },
     "execution_count": 26,
     "metadata": {},
     "output_type": "execute_result"
    }
   ],
   "source": [
    "data_pre['LamaBekerja'].describe()"
   ]
  },
  {
   "cell_type": "code",
   "execution_count": 27,
   "metadata": {},
   "outputs": [
    {
     "data": {
      "text/html": [
       "<div>\n",
       "<style scoped>\n",
       "    .dataframe tbody tr th:only-of-type {\n",
       "        vertical-align: middle;\n",
       "    }\n",
       "\n",
       "    .dataframe tbody tr th {\n",
       "        vertical-align: top;\n",
       "    }\n",
       "\n",
       "    .dataframe thead th {\n",
       "        text-align: right;\n",
       "    }\n",
       "</style>\n",
       "<table border=\"1\" class=\"dataframe\">\n",
       "  <thead>\n",
       "    <tr style=\"text-align: right;\">\n",
       "      <th></th>\n",
       "      <th>StatusPernikahan</th>\n",
       "      <th>JenisKelamin</th>\n",
       "      <th>StatusKepegawaian</th>\n",
       "      <th>Pekerjaan</th>\n",
       "      <th>JenjangKarir</th>\n",
       "      <th>PerformancePegawai</th>\n",
       "      <th>AsalDaerah</th>\n",
       "      <th>HiringPlatform</th>\n",
       "      <th>SkorSurveyEngagement</th>\n",
       "      <th>SkorKepuasanPegawai</th>\n",
       "      <th>JumlahKeikutsertaanProjek</th>\n",
       "      <th>JumlahKeterlambatanSebulanTerakhir</th>\n",
       "      <th>JumlahKetidakhadiran</th>\n",
       "      <th>TingkatPendidikan</th>\n",
       "      <th>PernahBekerja</th>\n",
       "      <th>AlasanResign</th>\n",
       "      <th>TanggalLahir</th>\n",
       "      <th>TanggalHiring</th>\n",
       "      <th>TanggalResign</th>\n",
       "      <th>resign</th>\n",
       "      <th>umur</th>\n",
       "      <th>LamaBekerja</th>\n",
       "    </tr>\n",
       "  </thead>\n",
       "  <tbody>\n",
       "    <tr>\n",
       "      <th>108</th>\n",
       "      <td>Belum_menikah</td>\n",
       "      <td>Wanita</td>\n",
       "      <td>FullTime</td>\n",
       "      <td>Data Analyst</td>\n",
       "      <td>Freshgraduate_program</td>\n",
       "      <td>Biasa</td>\n",
       "      <td>Jakarta Timur</td>\n",
       "      <td>CareerBuilder</td>\n",
       "      <td>4</td>\n",
       "      <td>4.0</td>\n",
       "      <td>0.0</td>\n",
       "      <td>0.0</td>\n",
       "      <td>10.0</td>\n",
       "      <td>Sarjana</td>\n",
       "      <td>1</td>\n",
       "      <td>toxic_culture</td>\n",
       "      <td>1976-09-22</td>\n",
       "      <td>2015-03-30</td>\n",
       "      <td>2014-08-19</td>\n",
       "      <td>1</td>\n",
       "      <td>44.0</td>\n",
       "      <td>-1.0</td>\n",
       "    </tr>\n",
       "    <tr>\n",
       "      <th>207</th>\n",
       "      <td>Menikah</td>\n",
       "      <td>Wanita</td>\n",
       "      <td>FullTime</td>\n",
       "      <td>Software Engineer (Front End)</td>\n",
       "      <td>Mid_level</td>\n",
       "      <td>Sangat_bagus</td>\n",
       "      <td>Jakarta Pusat</td>\n",
       "      <td>Indeed</td>\n",
       "      <td>4</td>\n",
       "      <td>3.0</td>\n",
       "      <td>5.0</td>\n",
       "      <td>0.0</td>\n",
       "      <td>17.0</td>\n",
       "      <td>Sarjana</td>\n",
       "      <td>1</td>\n",
       "      <td>leadership</td>\n",
       "      <td>1972-11-21</td>\n",
       "      <td>2017-01-07</td>\n",
       "      <td>2013-05-30</td>\n",
       "      <td>1</td>\n",
       "      <td>48.0</td>\n",
       "      <td>-4.0</td>\n",
       "    </tr>\n",
       "  </tbody>\n",
       "</table>\n",
       "</div>"
      ],
      "text/plain": [
       "    StatusPernikahan JenisKelamin StatusKepegawaian  \\\n",
       "108    Belum_menikah       Wanita          FullTime   \n",
       "207          Menikah       Wanita          FullTime   \n",
       "\n",
       "                         Pekerjaan           JenjangKarir PerformancePegawai  \\\n",
       "108                   Data Analyst  Freshgraduate_program              Biasa   \n",
       "207  Software Engineer (Front End)              Mid_level       Sangat_bagus   \n",
       "\n",
       "        AsalDaerah HiringPlatform  SkorSurveyEngagement  SkorKepuasanPegawai  \\\n",
       "108  Jakarta Timur  CareerBuilder                     4                  4.0   \n",
       "207  Jakarta Pusat         Indeed                     4                  3.0   \n",
       "\n",
       "     JumlahKeikutsertaanProjek  JumlahKeterlambatanSebulanTerakhir  \\\n",
       "108                        0.0                                 0.0   \n",
       "207                        5.0                                 0.0   \n",
       "\n",
       "     JumlahKetidakhadiran TingkatPendidikan PernahBekerja   AlasanResign  \\\n",
       "108                  10.0           Sarjana             1  toxic_culture   \n",
       "207                  17.0           Sarjana             1     leadership   \n",
       "\n",
       "    TanggalLahir TanggalHiring TanggalResign  resign  umur  LamaBekerja  \n",
       "108   1976-09-22    2015-03-30    2014-08-19       1  44.0         -1.0  \n",
       "207   1972-11-21    2017-01-07    2013-05-30       1  48.0         -4.0  "
      ]
     },
     "execution_count": 27,
     "metadata": {},
     "output_type": "execute_result"
    }
   ],
   "source": [
    "data_pre[data_pre['LamaBekerja']<0].head(3)"
   ]
  },
  {
   "attachments": {},
   "cell_type": "markdown",
   "metadata": {},
   "source": [
    "Setelah dilakukan proses diatas, terdapat 2 karyawan yang `LamaBekerja`nya bervalue minus, setelah diselidiki hal tersebut karena TanggalResign lebih awal dari TanggalHiring. Asumsi terkuatnya adalah kesalahan input sehingga kedua tanggal tersebut terbalik, namun untuk saat ini kita akan drop saja kedua karyawan tersebut"
   ]
  },
  {
   "cell_type": "code",
   "execution_count": 28,
   "metadata": {},
   "outputs": [],
   "source": [
    "data_pre.drop(data_pre[data_pre['LamaBekerja']<0].index, inplace=True)"
   ]
  },
  {
   "attachments": {},
   "cell_type": "markdown",
   "metadata": {},
   "source": [
    "### Missing Value"
   ]
  },
  {
   "cell_type": "code",
   "execution_count": 29,
   "metadata": {},
   "outputs": [
    {
     "data": {
      "text/html": [
       "<div>\n",
       "<style scoped>\n",
       "    .dataframe tbody tr th:only-of-type {\n",
       "        vertical-align: middle;\n",
       "    }\n",
       "\n",
       "    .dataframe tbody tr th {\n",
       "        vertical-align: top;\n",
       "    }\n",
       "\n",
       "    .dataframe thead th {\n",
       "        text-align: right;\n",
       "    }\n",
       "</style>\n",
       "<table border=\"1\" class=\"dataframe\">\n",
       "  <thead>\n",
       "    <tr style=\"text-align: right;\">\n",
       "      <th></th>\n",
       "      <th>feature_name</th>\n",
       "      <th>sum_missing</th>\n",
       "      <th>percent_missing</th>\n",
       "    </tr>\n",
       "  </thead>\n",
       "  <tbody>\n",
       "    <tr>\n",
       "      <th>12</th>\n",
       "      <td>JumlahKetidakhadiran</td>\n",
       "      <td>6</td>\n",
       "      <td>2.11</td>\n",
       "    </tr>\n",
       "    <tr>\n",
       "      <th>9</th>\n",
       "      <td>SkorKepuasanPegawai</td>\n",
       "      <td>5</td>\n",
       "      <td>1.75</td>\n",
       "    </tr>\n",
       "    <tr>\n",
       "      <th>10</th>\n",
       "      <td>JumlahKeikutsertaanProjek</td>\n",
       "      <td>3</td>\n",
       "      <td>1.05</td>\n",
       "    </tr>\n",
       "    <tr>\n",
       "      <th>11</th>\n",
       "      <td>JumlahKeterlambatanSebulanTerakhir</td>\n",
       "      <td>1</td>\n",
       "      <td>0.35</td>\n",
       "    </tr>\n",
       "  </tbody>\n",
       "</table>\n",
       "</div>"
      ],
      "text/plain": [
       "                          feature_name  sum_missing  percent_missing\n",
       "12                JumlahKetidakhadiran            6             2.11\n",
       "9                  SkorKepuasanPegawai            5             1.75\n",
       "10           JumlahKeikutsertaanProjek            3             1.05\n",
       "11  JumlahKeterlambatanSebulanTerakhir            1             0.35"
      ]
     },
     "execution_count": 29,
     "metadata": {},
     "output_type": "execute_result"
    }
   ],
   "source": [
    "sum_missing = data_pre.isna().sum()\n",
    "percent_missing = round(data_pre.isnull().sum() *100 / len(data_pre),2)\n",
    "missing_value = pd.DataFrame({'feature_name': data_pre.columns,\n",
    "                                 'sum_missing': sum_missing,\n",
    "                                 'percent_missing': percent_missing}).reset_index(drop=True).sort_values(by='sum_missing', ascending=False)\n",
    "pd.set_option('display.max_rows', None)\n",
    "missing_value.head(4)"
   ]
  },
  {
   "cell_type": "code",
   "execution_count": 30,
   "metadata": {},
   "outputs": [],
   "source": [
    "data_pre['JumlahKetidakhadiran'].fillna(0, inplace=True)\n",
    "data_pre['SkorKepuasanPegawai'].fillna(0, inplace=True)\n",
    "data_pre['JumlahKeikutsertaanProjek'].fillna(0, inplace=True)\n",
    "data_pre['JumlahKeterlambatanSebulanTerakhir'].fillna(0, inplace=True)"
   ]
  },
  {
   "attachments": {},
   "cell_type": "markdown",
   "metadata": {},
   "source": [
    "### Feature Selection"
   ]
  },
  {
   "cell_type": "code",
   "execution_count": 31,
   "metadata": {},
   "outputs": [
    {
     "data": {
      "application/vnd.plotly.v1+json": {
       "config": {
        "plotlyServerURL": "https://plot.ly"
       },
       "data": [
        {
         "coloraxis": "coloraxis",
         "hovertemplate": "x: %{x}<br>y: %{y}<br>color: %{z}<extra></extra>",
         "name": "0",
         "texttemplate": "%{z:.2f}",
         "type": "heatmap",
         "x": [
          "SkorSurveyEngagement",
          "SkorKepuasanPegawai",
          "JumlahKeikutsertaanProjek",
          "JumlahKeterlambatanSebulanTerakhir",
          "JumlahKetidakhadiran",
          "resign",
          "umur",
          "LamaBekerja"
         ],
         "xaxis": "x",
         "y": [
          "SkorSurveyEngagement",
          "SkorKepuasanPegawai",
          "JumlahKeikutsertaanProjek",
          "JumlahKeterlambatanSebulanTerakhir",
          "JumlahKetidakhadiran",
          "resign",
          "umur",
          "LamaBekerja"
         ],
         "yaxis": "y",
         "z": [
          [
           1,
           0.07014544262012676,
           -0.011565241243045676,
           -0.49867368248667543,
           0.0014495887602438355,
           -0.038734213008959906,
           0.05964149560754429,
           0.027429585784364982
          ],
          [
           0.07014544262012676,
           1,
           0.04037139255602814,
           -0.20356107909814838,
           0.060050699877945195,
           -0.02898102694894554,
           -0.046032456195812387,
           0.006646946552025277
          ],
          [
           -0.011565241243045676,
           0.04037139255602814,
           1,
           -0.08053791796358452,
           -0.05317577603100933,
           0.05776020155897658,
           -0.10607968533868478,
           -0.2764351249584761
          ],
          [
           -0.49867368248667543,
           -0.20356107909814838,
           -0.08053791796358452,
           1,
           0.00888506450071351,
           0.023781565923966262,
           -0.054040467661112576,
           0.004925657212361489
          ],
          [
           0.0014495887602438355,
           0.060050699877945195,
           -0.05317577603100933,
           0.00888506450071351,
           1,
           -0.011997427566311263,
           -0.007099669438979497,
           0.04921870245814252
          ],
          [
           -0.038734213008959906,
           -0.02898102694894554,
           0.05776020155897658,
           0.023781565923966262,
           -0.011997427566311263,
           1,
           -0.0664052876999058,
           -0.611771128903388
          ],
          [
           0.05964149560754429,
           -0.046032456195812387,
           -0.10607968533868478,
           -0.054040467661112576,
           -0.007099669438979497,
           -0.0664052876999058,
           1,
           0.055888072465701176
          ],
          [
           0.027429585784364982,
           0.006646946552025277,
           -0.2764351249584761,
           0.004925657212361489,
           0.04921870245814252,
           -0.611771128903388,
           0.055888072465701176,
           1
          ]
         ]
        }
       ],
       "layout": {
        "coloraxis": {
         "colorscale": [
          [
           0,
           "rgb(247,244,249)"
          ],
          [
           0.125,
           "rgb(231,225,239)"
          ],
          [
           0.25,
           "rgb(212,185,218)"
          ],
          [
           0.375,
           "rgb(201,148,199)"
          ],
          [
           0.5,
           "rgb(223,101,176)"
          ],
          [
           0.625,
           "rgb(231,41,138)"
          ],
          [
           0.75,
           "rgb(206,18,86)"
          ],
          [
           0.875,
           "rgb(152,0,67)"
          ],
          [
           1,
           "rgb(103,0,31)"
          ]
         ]
        },
        "height": 900,
        "margin": {
         "t": 60
        },
        "template": {
         "data": {
          "bar": [
           {
            "error_x": {
             "color": "#f2f5fa"
            },
            "error_y": {
             "color": "#f2f5fa"
            },
            "marker": {
             "line": {
              "color": "rgb(17,17,17)",
              "width": 0.5
             },
             "pattern": {
              "fillmode": "overlay",
              "size": 10,
              "solidity": 0.2
             }
            },
            "type": "bar"
           }
          ],
          "barpolar": [
           {
            "marker": {
             "line": {
              "color": "rgb(17,17,17)",
              "width": 0.5
             },
             "pattern": {
              "fillmode": "overlay",
              "size": 10,
              "solidity": 0.2
             }
            },
            "type": "barpolar"
           }
          ],
          "carpet": [
           {
            "aaxis": {
             "endlinecolor": "#A2B1C6",
             "gridcolor": "#506784",
             "linecolor": "#506784",
             "minorgridcolor": "#506784",
             "startlinecolor": "#A2B1C6"
            },
            "baxis": {
             "endlinecolor": "#A2B1C6",
             "gridcolor": "#506784",
             "linecolor": "#506784",
             "minorgridcolor": "#506784",
             "startlinecolor": "#A2B1C6"
            },
            "type": "carpet"
           }
          ],
          "choropleth": [
           {
            "colorbar": {
             "outlinewidth": 0,
             "ticks": ""
            },
            "type": "choropleth"
           }
          ],
          "contour": [
           {
            "colorbar": {
             "outlinewidth": 0,
             "ticks": ""
            },
            "colorscale": [
             [
              0,
              "#0d0887"
             ],
             [
              0.1111111111111111,
              "#46039f"
             ],
             [
              0.2222222222222222,
              "#7201a8"
             ],
             [
              0.3333333333333333,
              "#9c179e"
             ],
             [
              0.4444444444444444,
              "#bd3786"
             ],
             [
              0.5555555555555556,
              "#d8576b"
             ],
             [
              0.6666666666666666,
              "#ed7953"
             ],
             [
              0.7777777777777778,
              "#fb9f3a"
             ],
             [
              0.8888888888888888,
              "#fdca26"
             ],
             [
              1,
              "#f0f921"
             ]
            ],
            "type": "contour"
           }
          ],
          "contourcarpet": [
           {
            "colorbar": {
             "outlinewidth": 0,
             "ticks": ""
            },
            "type": "contourcarpet"
           }
          ],
          "heatmap": [
           {
            "colorbar": {
             "outlinewidth": 0,
             "ticks": ""
            },
            "colorscale": [
             [
              0,
              "#0d0887"
             ],
             [
              0.1111111111111111,
              "#46039f"
             ],
             [
              0.2222222222222222,
              "#7201a8"
             ],
             [
              0.3333333333333333,
              "#9c179e"
             ],
             [
              0.4444444444444444,
              "#bd3786"
             ],
             [
              0.5555555555555556,
              "#d8576b"
             ],
             [
              0.6666666666666666,
              "#ed7953"
             ],
             [
              0.7777777777777778,
              "#fb9f3a"
             ],
             [
              0.8888888888888888,
              "#fdca26"
             ],
             [
              1,
              "#f0f921"
             ]
            ],
            "type": "heatmap"
           }
          ],
          "heatmapgl": [
           {
            "colorbar": {
             "outlinewidth": 0,
             "ticks": ""
            },
            "colorscale": [
             [
              0,
              "#0d0887"
             ],
             [
              0.1111111111111111,
              "#46039f"
             ],
             [
              0.2222222222222222,
              "#7201a8"
             ],
             [
              0.3333333333333333,
              "#9c179e"
             ],
             [
              0.4444444444444444,
              "#bd3786"
             ],
             [
              0.5555555555555556,
              "#d8576b"
             ],
             [
              0.6666666666666666,
              "#ed7953"
             ],
             [
              0.7777777777777778,
              "#fb9f3a"
             ],
             [
              0.8888888888888888,
              "#fdca26"
             ],
             [
              1,
              "#f0f921"
             ]
            ],
            "type": "heatmapgl"
           }
          ],
          "histogram": [
           {
            "marker": {
             "pattern": {
              "fillmode": "overlay",
              "size": 10,
              "solidity": 0.2
             }
            },
            "type": "histogram"
           }
          ],
          "histogram2d": [
           {
            "colorbar": {
             "outlinewidth": 0,
             "ticks": ""
            },
            "colorscale": [
             [
              0,
              "#0d0887"
             ],
             [
              0.1111111111111111,
              "#46039f"
             ],
             [
              0.2222222222222222,
              "#7201a8"
             ],
             [
              0.3333333333333333,
              "#9c179e"
             ],
             [
              0.4444444444444444,
              "#bd3786"
             ],
             [
              0.5555555555555556,
              "#d8576b"
             ],
             [
              0.6666666666666666,
              "#ed7953"
             ],
             [
              0.7777777777777778,
              "#fb9f3a"
             ],
             [
              0.8888888888888888,
              "#fdca26"
             ],
             [
              1,
              "#f0f921"
             ]
            ],
            "type": "histogram2d"
           }
          ],
          "histogram2dcontour": [
           {
            "colorbar": {
             "outlinewidth": 0,
             "ticks": ""
            },
            "colorscale": [
             [
              0,
              "#0d0887"
             ],
             [
              0.1111111111111111,
              "#46039f"
             ],
             [
              0.2222222222222222,
              "#7201a8"
             ],
             [
              0.3333333333333333,
              "#9c179e"
             ],
             [
              0.4444444444444444,
              "#bd3786"
             ],
             [
              0.5555555555555556,
              "#d8576b"
             ],
             [
              0.6666666666666666,
              "#ed7953"
             ],
             [
              0.7777777777777778,
              "#fb9f3a"
             ],
             [
              0.8888888888888888,
              "#fdca26"
             ],
             [
              1,
              "#f0f921"
             ]
            ],
            "type": "histogram2dcontour"
           }
          ],
          "mesh3d": [
           {
            "colorbar": {
             "outlinewidth": 0,
             "ticks": ""
            },
            "type": "mesh3d"
           }
          ],
          "parcoords": [
           {
            "line": {
             "colorbar": {
              "outlinewidth": 0,
              "ticks": ""
             }
            },
            "type": "parcoords"
           }
          ],
          "pie": [
           {
            "automargin": true,
            "type": "pie"
           }
          ],
          "scatter": [
           {
            "marker": {
             "line": {
              "color": "#283442"
             }
            },
            "type": "scatter"
           }
          ],
          "scatter3d": [
           {
            "line": {
             "colorbar": {
              "outlinewidth": 0,
              "ticks": ""
             }
            },
            "marker": {
             "colorbar": {
              "outlinewidth": 0,
              "ticks": ""
             }
            },
            "type": "scatter3d"
           }
          ],
          "scattercarpet": [
           {
            "marker": {
             "colorbar": {
              "outlinewidth": 0,
              "ticks": ""
             }
            },
            "type": "scattercarpet"
           }
          ],
          "scattergeo": [
           {
            "marker": {
             "colorbar": {
              "outlinewidth": 0,
              "ticks": ""
             }
            },
            "type": "scattergeo"
           }
          ],
          "scattergl": [
           {
            "marker": {
             "line": {
              "color": "#283442"
             }
            },
            "type": "scattergl"
           }
          ],
          "scattermapbox": [
           {
            "marker": {
             "colorbar": {
              "outlinewidth": 0,
              "ticks": ""
             }
            },
            "type": "scattermapbox"
           }
          ],
          "scatterpolar": [
           {
            "marker": {
             "colorbar": {
              "outlinewidth": 0,
              "ticks": ""
             }
            },
            "type": "scatterpolar"
           }
          ],
          "scatterpolargl": [
           {
            "marker": {
             "colorbar": {
              "outlinewidth": 0,
              "ticks": ""
             }
            },
            "type": "scatterpolargl"
           }
          ],
          "scatterternary": [
           {
            "marker": {
             "colorbar": {
              "outlinewidth": 0,
              "ticks": ""
             }
            },
            "type": "scatterternary"
           }
          ],
          "surface": [
           {
            "colorbar": {
             "outlinewidth": 0,
             "ticks": ""
            },
            "colorscale": [
             [
              0,
              "#0d0887"
             ],
             [
              0.1111111111111111,
              "#46039f"
             ],
             [
              0.2222222222222222,
              "#7201a8"
             ],
             [
              0.3333333333333333,
              "#9c179e"
             ],
             [
              0.4444444444444444,
              "#bd3786"
             ],
             [
              0.5555555555555556,
              "#d8576b"
             ],
             [
              0.6666666666666666,
              "#ed7953"
             ],
             [
              0.7777777777777778,
              "#fb9f3a"
             ],
             [
              0.8888888888888888,
              "#fdca26"
             ],
             [
              1,
              "#f0f921"
             ]
            ],
            "type": "surface"
           }
          ],
          "table": [
           {
            "cells": {
             "fill": {
              "color": "#506784"
             },
             "line": {
              "color": "rgb(17,17,17)"
             }
            },
            "header": {
             "fill": {
              "color": "#2a3f5f"
             },
             "line": {
              "color": "rgb(17,17,17)"
             }
            },
            "type": "table"
           }
          ]
         },
         "layout": {
          "annotationdefaults": {
           "arrowcolor": "#f2f5fa",
           "arrowhead": 0,
           "arrowwidth": 1
          },
          "autotypenumbers": "strict",
          "coloraxis": {
           "colorbar": {
            "outlinewidth": 0,
            "ticks": ""
           }
          },
          "colorscale": {
           "diverging": [
            [
             0,
             "#8e0152"
            ],
            [
             0.1,
             "#c51b7d"
            ],
            [
             0.2,
             "#de77ae"
            ],
            [
             0.3,
             "#f1b6da"
            ],
            [
             0.4,
             "#fde0ef"
            ],
            [
             0.5,
             "#f7f7f7"
            ],
            [
             0.6,
             "#e6f5d0"
            ],
            [
             0.7,
             "#b8e186"
            ],
            [
             0.8,
             "#7fbc41"
            ],
            [
             0.9,
             "#4d9221"
            ],
            [
             1,
             "#276419"
            ]
           ],
           "sequential": [
            [
             0,
             "#0d0887"
            ],
            [
             0.1111111111111111,
             "#46039f"
            ],
            [
             0.2222222222222222,
             "#7201a8"
            ],
            [
             0.3333333333333333,
             "#9c179e"
            ],
            [
             0.4444444444444444,
             "#bd3786"
            ],
            [
             0.5555555555555556,
             "#d8576b"
            ],
            [
             0.6666666666666666,
             "#ed7953"
            ],
            [
             0.7777777777777778,
             "#fb9f3a"
            ],
            [
             0.8888888888888888,
             "#fdca26"
            ],
            [
             1,
             "#f0f921"
            ]
           ],
           "sequentialminus": [
            [
             0,
             "#0d0887"
            ],
            [
             0.1111111111111111,
             "#46039f"
            ],
            [
             0.2222222222222222,
             "#7201a8"
            ],
            [
             0.3333333333333333,
             "#9c179e"
            ],
            [
             0.4444444444444444,
             "#bd3786"
            ],
            [
             0.5555555555555556,
             "#d8576b"
            ],
            [
             0.6666666666666666,
             "#ed7953"
            ],
            [
             0.7777777777777778,
             "#fb9f3a"
            ],
            [
             0.8888888888888888,
             "#fdca26"
            ],
            [
             1,
             "#f0f921"
            ]
           ]
          },
          "colorway": [
           "#636efa",
           "#EF553B",
           "#00cc96",
           "#ab63fa",
           "#FFA15A",
           "#19d3f3",
           "#FF6692",
           "#B6E880",
           "#FF97FF",
           "#FECB52"
          ],
          "font": {
           "color": "#f2f5fa"
          },
          "geo": {
           "bgcolor": "rgb(17,17,17)",
           "lakecolor": "rgb(17,17,17)",
           "landcolor": "rgb(17,17,17)",
           "showlakes": true,
           "showland": true,
           "subunitcolor": "#506784"
          },
          "hoverlabel": {
           "align": "left"
          },
          "hovermode": "closest",
          "mapbox": {
           "style": "dark"
          },
          "paper_bgcolor": "rgb(17,17,17)",
          "plot_bgcolor": "rgb(17,17,17)",
          "polar": {
           "angularaxis": {
            "gridcolor": "#506784",
            "linecolor": "#506784",
            "ticks": ""
           },
           "bgcolor": "rgb(17,17,17)",
           "radialaxis": {
            "gridcolor": "#506784",
            "linecolor": "#506784",
            "ticks": ""
           }
          },
          "scene": {
           "xaxis": {
            "backgroundcolor": "rgb(17,17,17)",
            "gridcolor": "#506784",
            "gridwidth": 2,
            "linecolor": "#506784",
            "showbackground": true,
            "ticks": "",
            "zerolinecolor": "#C8D4E3"
           },
           "yaxis": {
            "backgroundcolor": "rgb(17,17,17)",
            "gridcolor": "#506784",
            "gridwidth": 2,
            "linecolor": "#506784",
            "showbackground": true,
            "ticks": "",
            "zerolinecolor": "#C8D4E3"
           },
           "zaxis": {
            "backgroundcolor": "rgb(17,17,17)",
            "gridcolor": "#506784",
            "gridwidth": 2,
            "linecolor": "#506784",
            "showbackground": true,
            "ticks": "",
            "zerolinecolor": "#C8D4E3"
           }
          },
          "shapedefaults": {
           "line": {
            "color": "#f2f5fa"
           }
          },
          "sliderdefaults": {
           "bgcolor": "#C8D4E3",
           "bordercolor": "rgb(17,17,17)",
           "borderwidth": 1,
           "tickwidth": 0
          },
          "ternary": {
           "aaxis": {
            "gridcolor": "#506784",
            "linecolor": "#506784",
            "ticks": ""
           },
           "baxis": {
            "gridcolor": "#506784",
            "linecolor": "#506784",
            "ticks": ""
           },
           "bgcolor": "rgb(17,17,17)",
           "caxis": {
            "gridcolor": "#506784",
            "linecolor": "#506784",
            "ticks": ""
           }
          },
          "title": {
           "x": 0.05
          },
          "updatemenudefaults": {
           "bgcolor": "#506784",
           "borderwidth": 0
          },
          "xaxis": {
           "automargin": true,
           "gridcolor": "#283442",
           "linecolor": "#506784",
           "ticks": "",
           "title": {
            "standoff": 15
           },
           "zerolinecolor": "#283442",
           "zerolinewidth": 2
          },
          "yaxis": {
           "automargin": true,
           "gridcolor": "#283442",
           "linecolor": "#506784",
           "ticks": "",
           "title": {
            "standoff": 15
           },
           "zerolinecolor": "#283442",
           "zerolinewidth": 2
          }
         }
        },
        "width": 900,
        "xaxis": {
         "anchor": "y",
         "constrain": "domain",
         "domain": [
          0,
          1
         ],
         "scaleanchor": "y"
        },
        "yaxis": {
         "anchor": "x",
         "autorange": "reversed",
         "constrain": "domain",
         "domain": [
          0,
          1
         ]
        }
       }
      }
     },
     "metadata": {},
     "output_type": "display_data"
    }
   ],
   "source": [
    "hm = data_pre.corr()\n",
    "fig = px.imshow(hm, text_auto=\".2f\", color_continuous_scale='PuRd',\n",
    "                template='plotly_dark',width=900,height=900)\n",
    "fig.show()"
   ]
  },
  {
   "attachments": {},
   "cell_type": "markdown",
   "metadata": {},
   "source": [
    "#### Checking Nunique"
   ]
  },
  {
   "cell_type": "code",
   "execution_count": 32,
   "metadata": {},
   "outputs": [
    {
     "data": {
      "text/plain": [
       "StatusPernikahan       5\n",
       "JenisKelamin           2\n",
       "StatusKepegawaian      3\n",
       "Pekerjaan             14\n",
       "JenjangKarir           3\n",
       "PerformancePegawai     5\n",
       "AsalDaerah             5\n",
       "HiringPlatform         9\n",
       "TingkatPendidikan      3\n",
       "PernahBekerja          2\n",
       "AlasanResign          11\n",
       "dtype: int64"
      ]
     },
     "execution_count": 32,
     "metadata": {},
     "output_type": "execute_result"
    }
   ],
   "source": [
    "data_pre.select_dtypes(include='object').nunique()"
   ]
  },
  {
   "cell_type": "code",
   "execution_count": 33,
   "metadata": {},
   "outputs": [],
   "source": [
    "objects = data_pre.dtypes[data_pre.dtypes == \"object\"].index"
   ]
  },
  {
   "cell_type": "code",
   "execution_count": 34,
   "metadata": {},
   "outputs": [
    {
     "name": "stdout",
     "output_type": "stream",
     "text": [
      "Value count feature StatusPernikahan:\n",
      "Belum_menikah    131\n",
      "Menikah           56\n",
      "Lainnya           48\n",
      "Bercerai          47\n",
      "-                  3\n",
      "Name: StatusPernikahan, dtype: int64\n",
      "\n",
      "Value count feature JenisKelamin:\n",
      "Wanita    165\n",
      "Pria      120\n",
      "Name: JenisKelamin, dtype: int64\n",
      "\n",
      "Value count feature StatusKepegawaian:\n",
      "FullTime      215\n",
      "Outsource      66\n",
      "Internship      4\n",
      "Name: StatusKepegawaian, dtype: int64\n",
      "\n",
      "Value count feature Pekerjaan:\n",
      "Software Engineer (Back End)      109\n",
      "Software Engineer (Front End)      71\n",
      "Software Engineer (Android)        24\n",
      "Product Design (UI & UX)           24\n",
      "Product Manager                    17\n",
      "Data Analyst                       15\n",
      "Data Engineer                      10\n",
      "Scrum Master                        3\n",
      "Software Engineer (iOS)             3\n",
      "DevOps Engineer                     3\n",
      "Digital Product Manager             2\n",
      "Machine Learning Engineer           2\n",
      "Product Design (UX Researcher)      1\n",
      "Software Architect                  1\n",
      "Name: Pekerjaan, dtype: int64\n",
      "\n",
      "Value count feature JenjangKarir:\n",
      "Freshgraduate_program    168\n",
      "Mid_level                 69\n",
      "Senior_level              48\n",
      "Name: JenjangKarir, dtype: int64\n",
      "\n",
      "Value count feature PerformancePegawai:\n",
      "Biasa            84\n",
      "Bagus            74\n",
      "Sangat_bagus     72\n",
      "Kurang           31\n",
      "Sangat_kurang    24\n",
      "Name: PerformancePegawai, dtype: int64\n",
      "\n",
      "Value count feature AsalDaerah:\n",
      "Jakarta Pusat      71\n",
      "Jakarta Timur      62\n",
      "Jakarta Barat      55\n",
      "Jakarta Utara      52\n",
      "Jakarta Selatan    45\n",
      "Name: AsalDaerah, dtype: int64\n",
      "\n",
      "Value count feature HiringPlatform:\n",
      "Indeed                     84\n",
      "LinkedIn                   69\n",
      "Google_Search              46\n",
      "Diversity_Job_Fair         27\n",
      "Employee_Referral          24\n",
      "CareerBuilder              21\n",
      "Website                    11\n",
      "Other                       2\n",
      "On-line_Web_application     1\n",
      "Name: HiringPlatform, dtype: int64\n",
      "\n",
      "Value count feature TingkatPendidikan:\n",
      "Sarjana     174\n",
      "Magister     87\n",
      "Doktor       24\n",
      "Name: TingkatPendidikan, dtype: int64\n",
      "\n",
      "Value count feature PernahBekerja:\n",
      "1      284\n",
      "yes      1\n",
      "Name: PernahBekerja, dtype: int64\n",
      "\n",
      "Value count feature AlasanResign:\n",
      "masih_bekerja        198\n",
      "jam_kerja             16\n",
      "ganti_karir           14\n",
      "kejelasan_karir       11\n",
      "tidak_bisa_remote     11\n",
      "toxic_culture          9\n",
      "tidak_bahagia          8\n",
      "leadership             8\n",
      "internal_conflict      4\n",
      "Lainnya                4\n",
      "apresiasi              2\n",
      "Name: AlasanResign, dtype: int64\n",
      "\n"
     ]
    }
   ],
   "source": [
    "for col in objects:\n",
    "    print(f'''Value count feature {col}:''')\n",
    "    print(data_pre[col].value_counts())\n",
    "    print()"
   ]
  },
  {
   "attachments": {},
   "cell_type": "markdown",
   "metadata": {},
   "source": [
    "Terlihat bahwa pada feature `PernahBekerja` walaupun ada 2 unique value namun kedua value tersebut punya maksud yang sama sehingga hanya ada 1 unique value pada feature tersebut, oleh sebab itu feature `PernahBekerja` akan di drop\n",
    "<br> Pada feature `StatusPernikahan` terdapat value \"-\", value tersebut akan dimerge dengan value \"Lainnya\""
   ]
  },
  {
   "cell_type": "code",
   "execution_count": 35,
   "metadata": {},
   "outputs": [],
   "source": [
    "data_pre.drop(['PernahBekerja'], axis=1, inplace=True)"
   ]
  },
  {
   "cell_type": "code",
   "execution_count": 36,
   "metadata": {},
   "outputs": [],
   "source": [
    "data_pre['StatusPernikahan'] = data_pre['StatusPernikahan'].replace({'-':'Lainnya'})"
   ]
  },
  {
   "cell_type": "code",
   "execution_count": 37,
   "metadata": {},
   "outputs": [
    {
     "data": {
      "text/plain": [
       "(285, 21)"
      ]
     },
     "execution_count": 37,
     "metadata": {},
     "output_type": "execute_result"
    }
   ],
   "source": [
    "data_pre.shape"
   ]
  },
  {
   "cell_type": "code",
   "execution_count": 38,
   "metadata": {},
   "outputs": [
    {
     "data": {
      "text/html": [
       "<div>\n",
       "<style scoped>\n",
       "    .dataframe tbody tr th:only-of-type {\n",
       "        vertical-align: middle;\n",
       "    }\n",
       "\n",
       "    .dataframe tbody tr th {\n",
       "        vertical-align: top;\n",
       "    }\n",
       "\n",
       "    .dataframe thead th {\n",
       "        text-align: right;\n",
       "    }\n",
       "</style>\n",
       "<table border=\"1\" class=\"dataframe\">\n",
       "  <thead>\n",
       "    <tr style=\"text-align: right;\">\n",
       "      <th></th>\n",
       "      <th>StatusPernikahan</th>\n",
       "      <th>JenisKelamin</th>\n",
       "      <th>StatusKepegawaian</th>\n",
       "      <th>Pekerjaan</th>\n",
       "      <th>JenjangKarir</th>\n",
       "      <th>PerformancePegawai</th>\n",
       "      <th>AsalDaerah</th>\n",
       "      <th>HiringPlatform</th>\n",
       "      <th>SkorSurveyEngagement</th>\n",
       "      <th>SkorKepuasanPegawai</th>\n",
       "      <th>JumlahKeikutsertaanProjek</th>\n",
       "      <th>JumlahKeterlambatanSebulanTerakhir</th>\n",
       "      <th>JumlahKetidakhadiran</th>\n",
       "      <th>TingkatPendidikan</th>\n",
       "      <th>AlasanResign</th>\n",
       "      <th>TanggalLahir</th>\n",
       "      <th>TanggalHiring</th>\n",
       "      <th>TanggalResign</th>\n",
       "      <th>resign</th>\n",
       "      <th>umur</th>\n",
       "      <th>LamaBekerja</th>\n",
       "    </tr>\n",
       "  </thead>\n",
       "  <tbody>\n",
       "    <tr>\n",
       "      <th>83</th>\n",
       "      <td>Bercerai</td>\n",
       "      <td>Wanita</td>\n",
       "      <td>FullTime</td>\n",
       "      <td>Product Design (UI &amp; UX)</td>\n",
       "      <td>Freshgraduate_program</td>\n",
       "      <td>Biasa</td>\n",
       "      <td>Jakarta Pusat</td>\n",
       "      <td>CareerBuilder</td>\n",
       "      <td>3</td>\n",
       "      <td>3.0</td>\n",
       "      <td>6.0</td>\n",
       "      <td>0.0</td>\n",
       "      <td>6.0</td>\n",
       "      <td>Sarjana</td>\n",
       "      <td>masih_bekerja</td>\n",
       "      <td>1979-04-04</td>\n",
       "      <td>2015-02-16</td>\n",
       "      <td>2021-01-01</td>\n",
       "      <td>0</td>\n",
       "      <td>42.0</td>\n",
       "      <td>6.0</td>\n",
       "    </tr>\n",
       "    <tr>\n",
       "      <th>49</th>\n",
       "      <td>Bercerai</td>\n",
       "      <td>Wanita</td>\n",
       "      <td>Outsource</td>\n",
       "      <td>Software Engineer (Back End)</td>\n",
       "      <td>Senior_level</td>\n",
       "      <td>Bagus</td>\n",
       "      <td>Jakarta Timur</td>\n",
       "      <td>Indeed</td>\n",
       "      <td>4</td>\n",
       "      <td>3.0</td>\n",
       "      <td>0.0</td>\n",
       "      <td>0.0</td>\n",
       "      <td>19.0</td>\n",
       "      <td>Magister</td>\n",
       "      <td>tidak_bahagia</td>\n",
       "      <td>1989-09-01</td>\n",
       "      <td>2014-07-07</td>\n",
       "      <td>2015-01-07</td>\n",
       "      <td>1</td>\n",
       "      <td>31.0</td>\n",
       "      <td>1.0</td>\n",
       "    </tr>\n",
       "    <tr>\n",
       "      <th>186</th>\n",
       "      <td>Belum_menikah</td>\n",
       "      <td>Pria</td>\n",
       "      <td>FullTime</td>\n",
       "      <td>Software Engineer (Back End)</td>\n",
       "      <td>Freshgraduate_program</td>\n",
       "      <td>Bagus</td>\n",
       "      <td>Jakarta Timur</td>\n",
       "      <td>Indeed</td>\n",
       "      <td>4</td>\n",
       "      <td>3.0</td>\n",
       "      <td>0.0</td>\n",
       "      <td>0.0</td>\n",
       "      <td>14.0</td>\n",
       "      <td>Sarjana</td>\n",
       "      <td>masih_bekerja</td>\n",
       "      <td>1983-08-09</td>\n",
       "      <td>2016-01-28</td>\n",
       "      <td>2021-01-01</td>\n",
       "      <td>0</td>\n",
       "      <td>37.0</td>\n",
       "      <td>5.0</td>\n",
       "    </tr>\n",
       "    <tr>\n",
       "      <th>142</th>\n",
       "      <td>Menikah</td>\n",
       "      <td>Wanita</td>\n",
       "      <td>Outsource</td>\n",
       "      <td>Software Engineer (Android)</td>\n",
       "      <td>Senior_level</td>\n",
       "      <td>Sangat_kurang</td>\n",
       "      <td>Jakarta Selatan</td>\n",
       "      <td>Indeed</td>\n",
       "      <td>3</td>\n",
       "      <td>4.0</td>\n",
       "      <td>0.0</td>\n",
       "      <td>0.0</td>\n",
       "      <td>12.0</td>\n",
       "      <td>Sarjana</td>\n",
       "      <td>masih_bekerja</td>\n",
       "      <td>1978-03-28</td>\n",
       "      <td>2009-01-08</td>\n",
       "      <td>2021-01-01</td>\n",
       "      <td>0</td>\n",
       "      <td>43.0</td>\n",
       "      <td>12.0</td>\n",
       "    </tr>\n",
       "    <tr>\n",
       "      <th>153</th>\n",
       "      <td>Belum_menikah</td>\n",
       "      <td>Wanita</td>\n",
       "      <td>FullTime</td>\n",
       "      <td>Software Engineer (Front End)</td>\n",
       "      <td>Freshgraduate_program</td>\n",
       "      <td>Bagus</td>\n",
       "      <td>Jakarta Selatan</td>\n",
       "      <td>LinkedIn</td>\n",
       "      <td>2</td>\n",
       "      <td>5.0</td>\n",
       "      <td>0.0</td>\n",
       "      <td>0.0</td>\n",
       "      <td>4.0</td>\n",
       "      <td>Sarjana</td>\n",
       "      <td>masih_bekerja</td>\n",
       "      <td>1984-07-07</td>\n",
       "      <td>2013-07-08</td>\n",
       "      <td>2021-01-01</td>\n",
       "      <td>0</td>\n",
       "      <td>36.0</td>\n",
       "      <td>7.0</td>\n",
       "    </tr>\n",
       "  </tbody>\n",
       "</table>\n",
       "</div>"
      ],
      "text/plain": [
       "    StatusPernikahan JenisKelamin StatusKepegawaian  \\\n",
       "83          Bercerai       Wanita          FullTime   \n",
       "49          Bercerai       Wanita         Outsource   \n",
       "186    Belum_menikah         Pria          FullTime   \n",
       "142          Menikah       Wanita         Outsource   \n",
       "153    Belum_menikah       Wanita          FullTime   \n",
       "\n",
       "                         Pekerjaan           JenjangKarir PerformancePegawai  \\\n",
       "83        Product Design (UI & UX)  Freshgraduate_program              Biasa   \n",
       "49    Software Engineer (Back End)           Senior_level              Bagus   \n",
       "186   Software Engineer (Back End)  Freshgraduate_program              Bagus   \n",
       "142    Software Engineer (Android)           Senior_level      Sangat_kurang   \n",
       "153  Software Engineer (Front End)  Freshgraduate_program              Bagus   \n",
       "\n",
       "          AsalDaerah HiringPlatform  SkorSurveyEngagement  \\\n",
       "83     Jakarta Pusat  CareerBuilder                     3   \n",
       "49     Jakarta Timur         Indeed                     4   \n",
       "186    Jakarta Timur         Indeed                     4   \n",
       "142  Jakarta Selatan         Indeed                     3   \n",
       "153  Jakarta Selatan       LinkedIn                     2   \n",
       "\n",
       "     SkorKepuasanPegawai  JumlahKeikutsertaanProjek  \\\n",
       "83                   3.0                        6.0   \n",
       "49                   3.0                        0.0   \n",
       "186                  3.0                        0.0   \n",
       "142                  4.0                        0.0   \n",
       "153                  5.0                        0.0   \n",
       "\n",
       "     JumlahKeterlambatanSebulanTerakhir  JumlahKetidakhadiran  \\\n",
       "83                                  0.0                   6.0   \n",
       "49                                  0.0                  19.0   \n",
       "186                                 0.0                  14.0   \n",
       "142                                 0.0                  12.0   \n",
       "153                                 0.0                   4.0   \n",
       "\n",
       "    TingkatPendidikan   AlasanResign TanggalLahir TanggalHiring TanggalResign  \\\n",
       "83            Sarjana  masih_bekerja   1979-04-04    2015-02-16    2021-01-01   \n",
       "49           Magister  tidak_bahagia   1989-09-01    2014-07-07    2015-01-07   \n",
       "186           Sarjana  masih_bekerja   1983-08-09    2016-01-28    2021-01-01   \n",
       "142           Sarjana  masih_bekerja   1978-03-28    2009-01-08    2021-01-01   \n",
       "153           Sarjana  masih_bekerja   1984-07-07    2013-07-08    2021-01-01   \n",
       "\n",
       "     resign  umur  LamaBekerja  \n",
       "83        0  42.0          6.0  \n",
       "49        1  31.0          1.0  \n",
       "186       0  37.0          5.0  \n",
       "142       0  43.0         12.0  \n",
       "153       0  36.0          7.0  "
      ]
     },
     "execution_count": 38,
     "metadata": {},
     "output_type": "execute_result"
    }
   ],
   "source": [
    "data_pre.sample(5)"
   ]
  },
  {
   "attachments": {},
   "cell_type": "markdown",
   "metadata": {},
   "source": [
    "## Annual Report on Employee Number Changes"
   ]
  },
  {
   "cell_type": "code",
   "execution_count": 39,
   "metadata": {},
   "outputs": [],
   "source": [
    "data_an = data_pre.copy()"
   ]
  },
  {
   "attachments": {},
   "cell_type": "markdown",
   "metadata": {},
   "source": [
    "### Extract Tahun dari TanggalHiring dan TanggalResign"
   ]
  },
  {
   "cell_type": "code",
   "execution_count": 40,
   "metadata": {},
   "outputs": [],
   "source": [
    "data_an['tahun_hiring'] = pd.DatetimeIndex(data_an['TanggalHiring']).year\n",
    "data_an['tahun_resign'] = pd.DatetimeIndex(data_an['TanggalResign']).year"
   ]
  },
  {
   "attachments": {},
   "cell_type": "markdown",
   "metadata": {},
   "source": [
    "### Tabel Hiring Agregat Per Tahun"
   ]
  },
  {
   "cell_type": "code",
   "execution_count": 157,
   "metadata": {},
   "outputs": [
    {
     "data": {
      "text/html": [
       "<div>\n",
       "<style scoped>\n",
       "    .dataframe tbody tr th:only-of-type {\n",
       "        vertical-align: middle;\n",
       "    }\n",
       "\n",
       "    .dataframe tbody tr th {\n",
       "        vertical-align: top;\n",
       "    }\n",
       "\n",
       "    .dataframe thead th {\n",
       "        text-align: right;\n",
       "    }\n",
       "</style>\n",
       "<table border=\"1\" class=\"dataframe\">\n",
       "  <thead>\n",
       "    <tr style=\"text-align: right;\">\n",
       "      <th></th>\n",
       "      <th>tahun_hiring</th>\n",
       "      <th>jumlah_employee</th>\n",
       "    </tr>\n",
       "  </thead>\n",
       "  <tbody>\n",
       "    <tr>\n",
       "      <th>0</th>\n",
       "      <td>2006</td>\n",
       "      <td>1</td>\n",
       "    </tr>\n",
       "    <tr>\n",
       "      <th>1</th>\n",
       "      <td>2007</td>\n",
       "      <td>2</td>\n",
       "    </tr>\n",
       "    <tr>\n",
       "      <th>2</th>\n",
       "      <td>2008</td>\n",
       "      <td>2</td>\n",
       "    </tr>\n",
       "    <tr>\n",
       "      <th>3</th>\n",
       "      <td>2009</td>\n",
       "      <td>7</td>\n",
       "    </tr>\n",
       "    <tr>\n",
       "      <th>4</th>\n",
       "      <td>2010</td>\n",
       "      <td>8</td>\n",
       "    </tr>\n",
       "    <tr>\n",
       "      <th>5</th>\n",
       "      <td>2011</td>\n",
       "      <td>76</td>\n",
       "    </tr>\n",
       "    <tr>\n",
       "      <th>6</th>\n",
       "      <td>2012</td>\n",
       "      <td>41</td>\n",
       "    </tr>\n",
       "    <tr>\n",
       "      <th>7</th>\n",
       "      <td>2013</td>\n",
       "      <td>43</td>\n",
       "    </tr>\n",
       "    <tr>\n",
       "      <th>8</th>\n",
       "      <td>2014</td>\n",
       "      <td>56</td>\n",
       "    </tr>\n",
       "    <tr>\n",
       "      <th>9</th>\n",
       "      <td>2015</td>\n",
       "      <td>30</td>\n",
       "    </tr>\n",
       "    <tr>\n",
       "      <th>10</th>\n",
       "      <td>2016</td>\n",
       "      <td>14</td>\n",
       "    </tr>\n",
       "    <tr>\n",
       "      <th>11</th>\n",
       "      <td>2017</td>\n",
       "      <td>4</td>\n",
       "    </tr>\n",
       "    <tr>\n",
       "      <th>12</th>\n",
       "      <td>2018</td>\n",
       "      <td>1</td>\n",
       "    </tr>\n",
       "  </tbody>\n",
       "</table>\n",
       "</div>"
      ],
      "text/plain": [
       "    tahun_hiring  jumlah_employee\n",
       "0           2006                1\n",
       "1           2007                2\n",
       "2           2008                2\n",
       "3           2009                7\n",
       "4           2010                8\n",
       "5           2011               76\n",
       "6           2012               41\n",
       "7           2013               43\n",
       "8           2014               56\n",
       "9           2015               30\n",
       "10          2016               14\n",
       "11          2017                4\n",
       "12          2018                1"
      ]
     },
     "execution_count": 157,
     "metadata": {},
     "output_type": "execute_result"
    }
   ],
   "source": [
    "#tabel agregat karyawan yang masuk\n",
    "hire_agg = data_an.groupby(['tahun_hiring']).size().reset_index(name='jumlah_employee')\n",
    "hire_agg"
   ]
  },
  {
   "attachments": {},
   "cell_type": "markdown",
   "metadata": {},
   "source": [
    "### Tabel Resign Agregat Per Tahun"
   ]
  },
  {
   "cell_type": "code",
   "execution_count": 160,
   "metadata": {},
   "outputs": [
    {
     "data": {
      "text/html": [
       "<div>\n",
       "<style scoped>\n",
       "    .dataframe tbody tr th:only-of-type {\n",
       "        vertical-align: middle;\n",
       "    }\n",
       "\n",
       "    .dataframe tbody tr th {\n",
       "        vertical-align: top;\n",
       "    }\n",
       "\n",
       "    .dataframe thead th {\n",
       "        text-align: right;\n",
       "    }\n",
       "</style>\n",
       "<table border=\"1\" class=\"dataframe\">\n",
       "  <thead>\n",
       "    <tr style=\"text-align: right;\">\n",
       "      <th></th>\n",
       "      <th>tahun_resign</th>\n",
       "      <th>jumlah_employee</th>\n",
       "    </tr>\n",
       "  </thead>\n",
       "  <tbody>\n",
       "    <tr>\n",
       "      <th>0</th>\n",
       "      <td>2013</td>\n",
       "      <td>4</td>\n",
       "    </tr>\n",
       "    <tr>\n",
       "      <th>1</th>\n",
       "      <td>2014</td>\n",
       "      <td>11</td>\n",
       "    </tr>\n",
       "    <tr>\n",
       "      <th>2</th>\n",
       "      <td>2015</td>\n",
       "      <td>8</td>\n",
       "    </tr>\n",
       "    <tr>\n",
       "      <th>3</th>\n",
       "      <td>2016</td>\n",
       "      <td>8</td>\n",
       "    </tr>\n",
       "    <tr>\n",
       "      <th>4</th>\n",
       "      <td>2017</td>\n",
       "      <td>19</td>\n",
       "    </tr>\n",
       "    <tr>\n",
       "      <th>5</th>\n",
       "      <td>2018</td>\n",
       "      <td>26</td>\n",
       "    </tr>\n",
       "    <tr>\n",
       "      <th>6</th>\n",
       "      <td>2019</td>\n",
       "      <td>5</td>\n",
       "    </tr>\n",
       "    <tr>\n",
       "      <th>7</th>\n",
       "      <td>2020</td>\n",
       "      <td>6</td>\n",
       "    </tr>\n",
       "    <tr>\n",
       "      <th>8</th>\n",
       "      <td>2021</td>\n",
       "      <td>198</td>\n",
       "    </tr>\n",
       "  </tbody>\n",
       "</table>\n",
       "</div>"
      ],
      "text/plain": [
       "   tahun_resign  jumlah_employee\n",
       "0          2013                4\n",
       "1          2014               11\n",
       "2          2015                8\n",
       "3          2016                8\n",
       "4          2017               19\n",
       "5          2018               26\n",
       "6          2019                5\n",
       "7          2020                6\n",
       "8          2021              198"
      ]
     },
     "execution_count": 160,
     "metadata": {},
     "output_type": "execute_result"
    }
   ],
   "source": [
    "#tabel agregat karyawan yang keluar\n",
    "resign_agg = data_an.groupby(['tahun_resign']).size().reset_index(name='jumlah_employee')\n",
    "resign_agg"
   ]
  },
  {
   "attachments": {},
   "cell_type": "markdown",
   "metadata": {},
   "source": [
    "Terlihat bahwa ada tahun resign 2021, hal tersebut karena pada tahap preprocessing sebelumnya kita mengimputasi TanggalResign dengan 2021-01-01 bagi karyawan yang belum resign, maka dari itu pada saat merge dengan tabel hiring akan kita hapus tahun 2021"
   ]
  },
  {
   "cell_type": "code",
   "execution_count": 161,
   "metadata": {},
   "outputs": [],
   "source": [
    "# outer join the two table based on year_hiring and year_resign\n",
    "data_hiring_resign = pd.merge(hire_agg, resign_agg, left_on='tahun_hiring', right_on='tahun_resign', how='outer')\n",
    "# use fillna() function to fill missing values with 0\n",
    "data_hiring_resign.fillna(0, inplace=True)\n",
    "# combine tahun_hiring and tahun_resign into one column 'tahun'\n",
    "data_hiring_resign['tahun'] = data_hiring_resign[['tahun_hiring', 'tahun_resign']].max(axis=1)\n",
    "# drop tahun_hiring and tahun_resign\n",
    "data_hiring_resign.drop(['tahun_hiring','tahun_resign'], axis=1, inplace=True)\n",
    "data_hiring_resign = data_hiring_resign[data_hiring_resign['tahun'] != 2021]\n",
    "data_hiring_resign.rename(columns={'jumlah_employee_x': 'Hired', 'jumlah_employee_y': 'Resigned'}, inplace=True)"
   ]
  },
  {
   "cell_type": "code",
   "execution_count": 162,
   "metadata": {},
   "outputs": [
    {
     "data": {
      "text/html": [
       "<div>\n",
       "<style scoped>\n",
       "    .dataframe tbody tr th:only-of-type {\n",
       "        vertical-align: middle;\n",
       "    }\n",
       "\n",
       "    .dataframe tbody tr th {\n",
       "        vertical-align: top;\n",
       "    }\n",
       "\n",
       "    .dataframe thead th {\n",
       "        text-align: right;\n",
       "    }\n",
       "</style>\n",
       "<table border=\"1\" class=\"dataframe\">\n",
       "  <thead>\n",
       "    <tr style=\"text-align: right;\">\n",
       "      <th></th>\n",
       "      <th>Hired</th>\n",
       "      <th>Resigned</th>\n",
       "      <th>tahun</th>\n",
       "    </tr>\n",
       "  </thead>\n",
       "  <tbody>\n",
       "    <tr>\n",
       "      <th>0</th>\n",
       "      <td>1.0</td>\n",
       "      <td>0.0</td>\n",
       "      <td>2006.0</td>\n",
       "    </tr>\n",
       "    <tr>\n",
       "      <th>1</th>\n",
       "      <td>2.0</td>\n",
       "      <td>0.0</td>\n",
       "      <td>2007.0</td>\n",
       "    </tr>\n",
       "    <tr>\n",
       "      <th>2</th>\n",
       "      <td>2.0</td>\n",
       "      <td>0.0</td>\n",
       "      <td>2008.0</td>\n",
       "    </tr>\n",
       "    <tr>\n",
       "      <th>3</th>\n",
       "      <td>7.0</td>\n",
       "      <td>0.0</td>\n",
       "      <td>2009.0</td>\n",
       "    </tr>\n",
       "    <tr>\n",
       "      <th>4</th>\n",
       "      <td>8.0</td>\n",
       "      <td>0.0</td>\n",
       "      <td>2010.0</td>\n",
       "    </tr>\n",
       "    <tr>\n",
       "      <th>5</th>\n",
       "      <td>76.0</td>\n",
       "      <td>0.0</td>\n",
       "      <td>2011.0</td>\n",
       "    </tr>\n",
       "    <tr>\n",
       "      <th>6</th>\n",
       "      <td>41.0</td>\n",
       "      <td>0.0</td>\n",
       "      <td>2012.0</td>\n",
       "    </tr>\n",
       "    <tr>\n",
       "      <th>7</th>\n",
       "      <td>43.0</td>\n",
       "      <td>4.0</td>\n",
       "      <td>2013.0</td>\n",
       "    </tr>\n",
       "    <tr>\n",
       "      <th>8</th>\n",
       "      <td>56.0</td>\n",
       "      <td>11.0</td>\n",
       "      <td>2014.0</td>\n",
       "    </tr>\n",
       "    <tr>\n",
       "      <th>9</th>\n",
       "      <td>30.0</td>\n",
       "      <td>8.0</td>\n",
       "      <td>2015.0</td>\n",
       "    </tr>\n",
       "    <tr>\n",
       "      <th>10</th>\n",
       "      <td>14.0</td>\n",
       "      <td>8.0</td>\n",
       "      <td>2016.0</td>\n",
       "    </tr>\n",
       "    <tr>\n",
       "      <th>11</th>\n",
       "      <td>4.0</td>\n",
       "      <td>19.0</td>\n",
       "      <td>2017.0</td>\n",
       "    </tr>\n",
       "    <tr>\n",
       "      <th>12</th>\n",
       "      <td>1.0</td>\n",
       "      <td>26.0</td>\n",
       "      <td>2018.0</td>\n",
       "    </tr>\n",
       "    <tr>\n",
       "      <th>13</th>\n",
       "      <td>0.0</td>\n",
       "      <td>5.0</td>\n",
       "      <td>2019.0</td>\n",
       "    </tr>\n",
       "    <tr>\n",
       "      <th>14</th>\n",
       "      <td>0.0</td>\n",
       "      <td>6.0</td>\n",
       "      <td>2020.0</td>\n",
       "    </tr>\n",
       "  </tbody>\n",
       "</table>\n",
       "</div>"
      ],
      "text/plain": [
       "    Hired  Resigned   tahun\n",
       "0     1.0       0.0  2006.0\n",
       "1     2.0       0.0  2007.0\n",
       "2     2.0       0.0  2008.0\n",
       "3     7.0       0.0  2009.0\n",
       "4     8.0       0.0  2010.0\n",
       "5    76.0       0.0  2011.0\n",
       "6    41.0       0.0  2012.0\n",
       "7    43.0       4.0  2013.0\n",
       "8    56.0      11.0  2014.0\n",
       "9    30.0       8.0  2015.0\n",
       "10   14.0       8.0  2016.0\n",
       "11    4.0      19.0  2017.0\n",
       "12    1.0      26.0  2018.0\n",
       "13    0.0       5.0  2019.0\n",
       "14    0.0       6.0  2020.0"
      ]
     },
     "execution_count": 162,
     "metadata": {},
     "output_type": "execute_result"
    }
   ],
   "source": [
    "data_hiring_resign"
   ]
  },
  {
   "cell_type": "code",
   "execution_count": 268,
   "metadata": {},
   "outputs": [
    {
     "data": {
      "application/vnd.plotly.v1+json": {
       "config": {
        "plotlyServerURL": "https://plot.ly"
       },
       "data": [
        {
         "hovertemplate": "variable=Hired<br>tahun=%{x}<br>value=%{y}<extra></extra>",
         "legendgroup": "Hired",
         "line": {
          "color": "green",
          "dash": "solid",
          "shape": "spline",
          "smoothing": true
         },
         "marker": {
          "symbol": "circle"
         },
         "mode": "lines",
         "name": "Hired",
         "orientation": "v",
         "showlegend": true,
         "type": "scatter",
         "x": [
          2006,
          2007,
          2008,
          2009,
          2010,
          2011,
          2012,
          2013,
          2014,
          2015,
          2016,
          2017,
          2018,
          2019,
          2020
         ],
         "xaxis": "x",
         "y": [
          1,
          2,
          2,
          7,
          8,
          76,
          41,
          43,
          56,
          30,
          14,
          4,
          1,
          0,
          0
         ],
         "yaxis": "y"
        },
        {
         "hovertemplate": "variable=Resigned<br>tahun=%{x}<br>value=%{y}<extra></extra>",
         "legendgroup": "Resigned",
         "line": {
          "color": "red",
          "dash": "solid",
          "shape": "spline",
          "smoothing": true
         },
         "marker": {
          "symbol": "circle"
         },
         "mode": "lines",
         "name": "Resigned",
         "orientation": "v",
         "showlegend": true,
         "type": "scatter",
         "x": [
          2006,
          2007,
          2008,
          2009,
          2010,
          2011,
          2012,
          2013,
          2014,
          2015,
          2016,
          2017,
          2018,
          2019,
          2020
         ],
         "xaxis": "x",
         "y": [
          0,
          0,
          0,
          0,
          0,
          0,
          0,
          4,
          11,
          8,
          8,
          19,
          26,
          5,
          6
         ],
         "yaxis": "y"
        }
       ],
       "layout": {
        "annotations": [
         {
          "arrowhead": 2,
          "ax": 0,
          "ay": -40,
          "showarrow": true,
          "text": "+100.0%",
          "x": 2007,
          "y": 2
         },
         {
          "arrowhead": 2,
          "ax": 0,
          "ay": -40,
          "showarrow": true,
          "text": "+250.0%",
          "x": 2009,
          "y": 7
         },
         {
          "arrowhead": 2,
          "ax": 0,
          "ay": -40,
          "showarrow": true,
          "text": "+14.3%",
          "x": 2010,
          "y": 8
         },
         {
          "arrowhead": 2,
          "ax": 0,
          "ay": -40,
          "showarrow": true,
          "text": "+850.0%",
          "x": 2011,
          "y": 76
         },
         {
          "arrowhead": 2,
          "ax": 0,
          "ay": -40,
          "showarrow": true,
          "text": "-46.1%",
          "x": 2012,
          "y": 41
         },
         {
          "arrowhead": 2,
          "ax": 0,
          "ay": -40,
          "showarrow": true,
          "text": "+4.9%",
          "x": 2013,
          "y": 43
         },
         {
          "arrowhead": 2,
          "ax": 0,
          "ay": -40,
          "showarrow": true,
          "text": "+30.2%",
          "x": 2014,
          "y": 56
         },
         {
          "arrowhead": 2,
          "ax": 0,
          "ay": 40,
          "showarrow": true,
          "text": "+175.0%",
          "x": 2014,
          "y": 11
         },
         {
          "arrowhead": 2,
          "ax": 0,
          "ay": -40,
          "showarrow": true,
          "text": "-46.4%",
          "x": 2015,
          "y": 30
         },
         {
          "arrowhead": 2,
          "ax": 0,
          "ay": 40,
          "showarrow": true,
          "text": "-27.3%",
          "x": 2015,
          "y": 8
         },
         {
          "arrowhead": 2,
          "ax": 0,
          "ay": -40,
          "showarrow": true,
          "text": "-53.3%",
          "x": 2016,
          "y": 14
         },
         {
          "arrowhead": 2,
          "ax": 0,
          "ay": -40,
          "showarrow": true,
          "text": "-71.4%",
          "x": 2017,
          "y": 4
         },
         {
          "arrowhead": 2,
          "ax": 0,
          "ay": 40,
          "showarrow": true,
          "text": "+137.5%",
          "x": 2017,
          "y": 19
         },
         {
          "arrowhead": 2,
          "ax": 0,
          "ay": -40,
          "showarrow": true,
          "text": "-75.0%",
          "x": 2018,
          "y": 1
         },
         {
          "arrowhead": 2,
          "ax": 0,
          "ay": 40,
          "showarrow": true,
          "text": "+36.8%",
          "x": 2018,
          "y": 26
         },
         {
          "arrowhead": 2,
          "ax": 0,
          "ay": 40,
          "showarrow": true,
          "text": "-80.8%",
          "x": 2019,
          "y": 5
         },
         {
          "arrowhead": 2,
          "ax": 0,
          "ay": 40,
          "showarrow": true,
          "text": "+20.0%",
          "x": 2020,
          "y": 6
         }
        ],
        "height": 800,
        "legend": {
         "title": {
          "text": "variable"
         },
         "tracegroupgap": 0
        },
        "template": {
         "data": {
          "bar": [
           {
            "error_x": {
             "color": "#f2f5fa"
            },
            "error_y": {
             "color": "#f2f5fa"
            },
            "marker": {
             "line": {
              "color": "rgb(17,17,17)",
              "width": 0.5
             },
             "pattern": {
              "fillmode": "overlay",
              "size": 10,
              "solidity": 0.2
             }
            },
            "type": "bar"
           }
          ],
          "barpolar": [
           {
            "marker": {
             "line": {
              "color": "rgb(17,17,17)",
              "width": 0.5
             },
             "pattern": {
              "fillmode": "overlay",
              "size": 10,
              "solidity": 0.2
             }
            },
            "type": "barpolar"
           }
          ],
          "carpet": [
           {
            "aaxis": {
             "endlinecolor": "#A2B1C6",
             "gridcolor": "#506784",
             "linecolor": "#506784",
             "minorgridcolor": "#506784",
             "startlinecolor": "#A2B1C6"
            },
            "baxis": {
             "endlinecolor": "#A2B1C6",
             "gridcolor": "#506784",
             "linecolor": "#506784",
             "minorgridcolor": "#506784",
             "startlinecolor": "#A2B1C6"
            },
            "type": "carpet"
           }
          ],
          "choropleth": [
           {
            "colorbar": {
             "outlinewidth": 0,
             "ticks": ""
            },
            "type": "choropleth"
           }
          ],
          "contour": [
           {
            "colorbar": {
             "outlinewidth": 0,
             "ticks": ""
            },
            "colorscale": [
             [
              0,
              "#0d0887"
             ],
             [
              0.1111111111111111,
              "#46039f"
             ],
             [
              0.2222222222222222,
              "#7201a8"
             ],
             [
              0.3333333333333333,
              "#9c179e"
             ],
             [
              0.4444444444444444,
              "#bd3786"
             ],
             [
              0.5555555555555556,
              "#d8576b"
             ],
             [
              0.6666666666666666,
              "#ed7953"
             ],
             [
              0.7777777777777778,
              "#fb9f3a"
             ],
             [
              0.8888888888888888,
              "#fdca26"
             ],
             [
              1,
              "#f0f921"
             ]
            ],
            "type": "contour"
           }
          ],
          "contourcarpet": [
           {
            "colorbar": {
             "outlinewidth": 0,
             "ticks": ""
            },
            "type": "contourcarpet"
           }
          ],
          "heatmap": [
           {
            "colorbar": {
             "outlinewidth": 0,
             "ticks": ""
            },
            "colorscale": [
             [
              0,
              "#0d0887"
             ],
             [
              0.1111111111111111,
              "#46039f"
             ],
             [
              0.2222222222222222,
              "#7201a8"
             ],
             [
              0.3333333333333333,
              "#9c179e"
             ],
             [
              0.4444444444444444,
              "#bd3786"
             ],
             [
              0.5555555555555556,
              "#d8576b"
             ],
             [
              0.6666666666666666,
              "#ed7953"
             ],
             [
              0.7777777777777778,
              "#fb9f3a"
             ],
             [
              0.8888888888888888,
              "#fdca26"
             ],
             [
              1,
              "#f0f921"
             ]
            ],
            "type": "heatmap"
           }
          ],
          "heatmapgl": [
           {
            "colorbar": {
             "outlinewidth": 0,
             "ticks": ""
            },
            "colorscale": [
             [
              0,
              "#0d0887"
             ],
             [
              0.1111111111111111,
              "#46039f"
             ],
             [
              0.2222222222222222,
              "#7201a8"
             ],
             [
              0.3333333333333333,
              "#9c179e"
             ],
             [
              0.4444444444444444,
              "#bd3786"
             ],
             [
              0.5555555555555556,
              "#d8576b"
             ],
             [
              0.6666666666666666,
              "#ed7953"
             ],
             [
              0.7777777777777778,
              "#fb9f3a"
             ],
             [
              0.8888888888888888,
              "#fdca26"
             ],
             [
              1,
              "#f0f921"
             ]
            ],
            "type": "heatmapgl"
           }
          ],
          "histogram": [
           {
            "marker": {
             "pattern": {
              "fillmode": "overlay",
              "size": 10,
              "solidity": 0.2
             }
            },
            "type": "histogram"
           }
          ],
          "histogram2d": [
           {
            "colorbar": {
             "outlinewidth": 0,
             "ticks": ""
            },
            "colorscale": [
             [
              0,
              "#0d0887"
             ],
             [
              0.1111111111111111,
              "#46039f"
             ],
             [
              0.2222222222222222,
              "#7201a8"
             ],
             [
              0.3333333333333333,
              "#9c179e"
             ],
             [
              0.4444444444444444,
              "#bd3786"
             ],
             [
              0.5555555555555556,
              "#d8576b"
             ],
             [
              0.6666666666666666,
              "#ed7953"
             ],
             [
              0.7777777777777778,
              "#fb9f3a"
             ],
             [
              0.8888888888888888,
              "#fdca26"
             ],
             [
              1,
              "#f0f921"
             ]
            ],
            "type": "histogram2d"
           }
          ],
          "histogram2dcontour": [
           {
            "colorbar": {
             "outlinewidth": 0,
             "ticks": ""
            },
            "colorscale": [
             [
              0,
              "#0d0887"
             ],
             [
              0.1111111111111111,
              "#46039f"
             ],
             [
              0.2222222222222222,
              "#7201a8"
             ],
             [
              0.3333333333333333,
              "#9c179e"
             ],
             [
              0.4444444444444444,
              "#bd3786"
             ],
             [
              0.5555555555555556,
              "#d8576b"
             ],
             [
              0.6666666666666666,
              "#ed7953"
             ],
             [
              0.7777777777777778,
              "#fb9f3a"
             ],
             [
              0.8888888888888888,
              "#fdca26"
             ],
             [
              1,
              "#f0f921"
             ]
            ],
            "type": "histogram2dcontour"
           }
          ],
          "mesh3d": [
           {
            "colorbar": {
             "outlinewidth": 0,
             "ticks": ""
            },
            "type": "mesh3d"
           }
          ],
          "parcoords": [
           {
            "line": {
             "colorbar": {
              "outlinewidth": 0,
              "ticks": ""
             }
            },
            "type": "parcoords"
           }
          ],
          "pie": [
           {
            "automargin": true,
            "type": "pie"
           }
          ],
          "scatter": [
           {
            "marker": {
             "line": {
              "color": "#283442"
             }
            },
            "type": "scatter"
           }
          ],
          "scatter3d": [
           {
            "line": {
             "colorbar": {
              "outlinewidth": 0,
              "ticks": ""
             }
            },
            "marker": {
             "colorbar": {
              "outlinewidth": 0,
              "ticks": ""
             }
            },
            "type": "scatter3d"
           }
          ],
          "scattercarpet": [
           {
            "marker": {
             "colorbar": {
              "outlinewidth": 0,
              "ticks": ""
             }
            },
            "type": "scattercarpet"
           }
          ],
          "scattergeo": [
           {
            "marker": {
             "colorbar": {
              "outlinewidth": 0,
              "ticks": ""
             }
            },
            "type": "scattergeo"
           }
          ],
          "scattergl": [
           {
            "marker": {
             "line": {
              "color": "#283442"
             }
            },
            "type": "scattergl"
           }
          ],
          "scattermapbox": [
           {
            "marker": {
             "colorbar": {
              "outlinewidth": 0,
              "ticks": ""
             }
            },
            "type": "scattermapbox"
           }
          ],
          "scatterpolar": [
           {
            "marker": {
             "colorbar": {
              "outlinewidth": 0,
              "ticks": ""
             }
            },
            "type": "scatterpolar"
           }
          ],
          "scatterpolargl": [
           {
            "marker": {
             "colorbar": {
              "outlinewidth": 0,
              "ticks": ""
             }
            },
            "type": "scatterpolargl"
           }
          ],
          "scatterternary": [
           {
            "marker": {
             "colorbar": {
              "outlinewidth": 0,
              "ticks": ""
             }
            },
            "type": "scatterternary"
           }
          ],
          "surface": [
           {
            "colorbar": {
             "outlinewidth": 0,
             "ticks": ""
            },
            "colorscale": [
             [
              0,
              "#0d0887"
             ],
             [
              0.1111111111111111,
              "#46039f"
             ],
             [
              0.2222222222222222,
              "#7201a8"
             ],
             [
              0.3333333333333333,
              "#9c179e"
             ],
             [
              0.4444444444444444,
              "#bd3786"
             ],
             [
              0.5555555555555556,
              "#d8576b"
             ],
             [
              0.6666666666666666,
              "#ed7953"
             ],
             [
              0.7777777777777778,
              "#fb9f3a"
             ],
             [
              0.8888888888888888,
              "#fdca26"
             ],
             [
              1,
              "#f0f921"
             ]
            ],
            "type": "surface"
           }
          ],
          "table": [
           {
            "cells": {
             "fill": {
              "color": "#506784"
             },
             "line": {
              "color": "rgb(17,17,17)"
             }
            },
            "header": {
             "fill": {
              "color": "#2a3f5f"
             },
             "line": {
              "color": "rgb(17,17,17)"
             }
            },
            "type": "table"
           }
          ]
         },
         "layout": {
          "annotationdefaults": {
           "arrowcolor": "#f2f5fa",
           "arrowhead": 0,
           "arrowwidth": 1
          },
          "autotypenumbers": "strict",
          "coloraxis": {
           "colorbar": {
            "outlinewidth": 0,
            "ticks": ""
           }
          },
          "colorscale": {
           "diverging": [
            [
             0,
             "#8e0152"
            ],
            [
             0.1,
             "#c51b7d"
            ],
            [
             0.2,
             "#de77ae"
            ],
            [
             0.3,
             "#f1b6da"
            ],
            [
             0.4,
             "#fde0ef"
            ],
            [
             0.5,
             "#f7f7f7"
            ],
            [
             0.6,
             "#e6f5d0"
            ],
            [
             0.7,
             "#b8e186"
            ],
            [
             0.8,
             "#7fbc41"
            ],
            [
             0.9,
             "#4d9221"
            ],
            [
             1,
             "#276419"
            ]
           ],
           "sequential": [
            [
             0,
             "#0d0887"
            ],
            [
             0.1111111111111111,
             "#46039f"
            ],
            [
             0.2222222222222222,
             "#7201a8"
            ],
            [
             0.3333333333333333,
             "#9c179e"
            ],
            [
             0.4444444444444444,
             "#bd3786"
            ],
            [
             0.5555555555555556,
             "#d8576b"
            ],
            [
             0.6666666666666666,
             "#ed7953"
            ],
            [
             0.7777777777777778,
             "#fb9f3a"
            ],
            [
             0.8888888888888888,
             "#fdca26"
            ],
            [
             1,
             "#f0f921"
            ]
           ],
           "sequentialminus": [
            [
             0,
             "#0d0887"
            ],
            [
             0.1111111111111111,
             "#46039f"
            ],
            [
             0.2222222222222222,
             "#7201a8"
            ],
            [
             0.3333333333333333,
             "#9c179e"
            ],
            [
             0.4444444444444444,
             "#bd3786"
            ],
            [
             0.5555555555555556,
             "#d8576b"
            ],
            [
             0.6666666666666666,
             "#ed7953"
            ],
            [
             0.7777777777777778,
             "#fb9f3a"
            ],
            [
             0.8888888888888888,
             "#fdca26"
            ],
            [
             1,
             "#f0f921"
            ]
           ]
          },
          "colorway": [
           "#636efa",
           "#EF553B",
           "#00cc96",
           "#ab63fa",
           "#FFA15A",
           "#19d3f3",
           "#FF6692",
           "#B6E880",
           "#FF97FF",
           "#FECB52"
          ],
          "font": {
           "color": "#f2f5fa"
          },
          "geo": {
           "bgcolor": "rgb(17,17,17)",
           "lakecolor": "rgb(17,17,17)",
           "landcolor": "rgb(17,17,17)",
           "showlakes": true,
           "showland": true,
           "subunitcolor": "#506784"
          },
          "hoverlabel": {
           "align": "left"
          },
          "hovermode": "closest",
          "mapbox": {
           "style": "dark"
          },
          "paper_bgcolor": "rgb(17,17,17)",
          "plot_bgcolor": "rgb(17,17,17)",
          "polar": {
           "angularaxis": {
            "gridcolor": "#506784",
            "linecolor": "#506784",
            "ticks": ""
           },
           "bgcolor": "rgb(17,17,17)",
           "radialaxis": {
            "gridcolor": "#506784",
            "linecolor": "#506784",
            "ticks": ""
           }
          },
          "scene": {
           "xaxis": {
            "backgroundcolor": "rgb(17,17,17)",
            "gridcolor": "#506784",
            "gridwidth": 2,
            "linecolor": "#506784",
            "showbackground": true,
            "ticks": "",
            "zerolinecolor": "#C8D4E3"
           },
           "yaxis": {
            "backgroundcolor": "rgb(17,17,17)",
            "gridcolor": "#506784",
            "gridwidth": 2,
            "linecolor": "#506784",
            "showbackground": true,
            "ticks": "",
            "zerolinecolor": "#C8D4E3"
           },
           "zaxis": {
            "backgroundcolor": "rgb(17,17,17)",
            "gridcolor": "#506784",
            "gridwidth": 2,
            "linecolor": "#506784",
            "showbackground": true,
            "ticks": "",
            "zerolinecolor": "#C8D4E3"
           }
          },
          "shapedefaults": {
           "line": {
            "color": "#f2f5fa"
           }
          },
          "sliderdefaults": {
           "bgcolor": "#C8D4E3",
           "bordercolor": "rgb(17,17,17)",
           "borderwidth": 1,
           "tickwidth": 0
          },
          "ternary": {
           "aaxis": {
            "gridcolor": "#506784",
            "linecolor": "#506784",
            "ticks": ""
           },
           "baxis": {
            "gridcolor": "#506784",
            "linecolor": "#506784",
            "ticks": ""
           },
           "bgcolor": "rgb(17,17,17)",
           "caxis": {
            "gridcolor": "#506784",
            "linecolor": "#506784",
            "ticks": ""
           }
          },
          "title": {
           "x": 0.05
          },
          "updatemenudefaults": {
           "bgcolor": "#506784",
           "borderwidth": 0
          },
          "xaxis": {
           "automargin": true,
           "gridcolor": "#283442",
           "linecolor": "#506784",
           "ticks": "",
           "title": {
            "standoff": 15
           },
           "zerolinecolor": "#283442",
           "zerolinewidth": 2
          },
          "yaxis": {
           "automargin": true,
           "gridcolor": "#283442",
           "linecolor": "#506784",
           "ticks": "",
           "title": {
            "standoff": 15
           },
           "zerolinecolor": "#283442",
           "zerolinewidth": 2
          }
         }
        },
        "title": {
         "text": "Jumlah Karyawan Hiring dan Resign"
        },
        "width": 1200,
        "xaxis": {
         "anchor": "y",
         "domain": [
          0,
          1
         ],
         "ticktext": [
          2006,
          2007,
          2008,
          2009,
          2010,
          2011,
          2012,
          2013,
          2014,
          2015,
          2016,
          2017,
          2018,
          2019,
          2020
         ],
         "tickvals": [
          2006,
          2007,
          2008,
          2009,
          2010,
          2011,
          2012,
          2013,
          2014,
          2015,
          2016,
          2017,
          2018,
          2019,
          2020
         ],
         "title": {
          "text": "tahun"
         }
        },
        "yaxis": {
         "anchor": "x",
         "domain": [
          0,
          1
         ],
         "title": {
          "text": "value"
         }
        }
       }
      }
     },
     "metadata": {},
     "output_type": "display_data"
    }
   ],
   "source": [
    "min_tahun = data_hiring_resign['tahun'].min()\n",
    "max_tahun = data_hiring_resign['tahun'].max()\n",
    "fig = px.line(data_hiring_resign, x='tahun', y=['Hired','Resigned'], title='Jumlah Karyawan Hiring dan Resign',\n",
    "              template='plotly_dark',width=1200,height=800)\n",
    "years = np.arange(min_tahun, max_tahun + 1)\n",
    "fig.update_layout(xaxis={'tickvals':years, 'ticktext':years})\n",
    "fig.data[0].line.smoothing = True\n",
    "fig.data[0].line.shape = 'spline'\n",
    "fig.data[0].line.color = 'green'\n",
    "fig.data[1].line.smoothing = True\n",
    "fig.data[1].line.shape = 'spline'\n",
    "fig.data[1].line.color = 'red'\n",
    "annotations = []\n",
    "for i in range(1, len(data_hiring_resign)):\n",
    "    jumlah_hire = data_hiring_resign.iloc[i]['Hired']\n",
    "    jumlah_resign = data_hiring_resign.iloc[i]['Resigned']\n",
    "    tahun = data_hiring_resign.iloc[i]['tahun']\n",
    "    jumlah_hire_sebelumnya = data_hiring_resign.iloc[i-1]['Hired']\n",
    "    jumlah_resign_sebelumnya = data_hiring_resign.iloc[i-1]['Resigned']\n",
    "    if jumlah_hire != 0 and jumlah_hire_sebelumnya!=0:\n",
    "        persentase_kenaikan_hire = (jumlah_hire - jumlah_hire_sebelumnya) / jumlah_hire_sebelumnya * 100\n",
    "        if persentase_kenaikan_hire != 0:\n",
    "            if persentase_kenaikan_hire >= 0:\n",
    "                annotation_x = f'+{persentase_kenaikan_hire:.1f}%'\n",
    "            else:\n",
    "                annotation_x = f'{persentase_kenaikan_hire:.1f}%'\n",
    "            annotations.append(dict(x=tahun, y=jumlah_hire, text=annotation_x, showarrow=True, arrowhead=2, ax=0, ay=-40))\n",
    "    if jumlah_resign != 0 and jumlah_resign_sebelumnya!=0:\n",
    "        persentase_kenaikan_y = (jumlah_resign - jumlah_resign_sebelumnya) / jumlah_resign_sebelumnya * 100\n",
    "        if persentase_kenaikan_y != 0:\n",
    "            if persentase_kenaikan_y >= 0:\n",
    "                annotation_y = f'+{persentase_kenaikan_y:.1f}%'\n",
    "            else:\n",
    "                annotation_y = f'{persentase_kenaikan_y:.1f}%'\n",
    "            annotations.append(dict(x=tahun, y=jumlah_resign, text=annotation_y, showarrow=True, arrowhead=2, ax=0, ay=40))\n",
    "for annotation in annotations:\n",
    "    fig.add_annotation(annotation)\n",
    "fig.show()"
   ]
  },
  {
   "attachments": {},
   "cell_type": "markdown",
   "metadata": {},
   "source": [
    "Beberapa insight yang bisa digali dari chart diatas:\n",
    "1. Terlihat bahwa perusahaan mulai berkembang pesat pada tahun 2011 yang dibuktikan dengan hiring karyawan hingga `76`.\n",
    "2. Dari tahun `2014-2020` hiring berangsur-angsur menurun setiap tahunnya, kemungkinan karena belum ada perkembangan yang berarti dari perusahaan.\n",
    "3. Dari tahun `2016-2017` terjadi peningkatan yang cukup signifikan pada jumlah karyawan yang resign yaitu `8` ke `19` orang`(+137.5%)`. \n",
    "4. Hal tersebut terus belangsung hingga tahun `2018` yang merupakan puncak terbanyak karyawan resign yaitu `26` orang, ditambah hiring yang terus menurun\n",
    "5. Tahun `2019-2020` total yang resign ada 9 orang namun tidak ada hiring sama sekali"
   ]
  },
  {
   "attachments": {},
   "cell_type": "markdown",
   "metadata": {},
   "source": [
    "## Resign Reason Analysis for Employee Attrition Management Strategy"
   ]
  },
  {
   "cell_type": "code",
   "execution_count": 190,
   "metadata": {},
   "outputs": [],
   "source": [
    "data_an2 = data_an.copy()"
   ]
  },
  {
   "attachments": {},
   "cell_type": "markdown",
   "metadata": {},
   "source": [
    "### Perbandingan Resigned Employee dengan Existing Employee"
   ]
  },
  {
   "cell_type": "code",
   "execution_count": 191,
   "metadata": {},
   "outputs": [
    {
     "data": {
      "text/html": [
       "<div>\n",
       "<style scoped>\n",
       "    .dataframe tbody tr th:only-of-type {\n",
       "        vertical-align: middle;\n",
       "    }\n",
       "\n",
       "    .dataframe tbody tr th {\n",
       "        vertical-align: top;\n",
       "    }\n",
       "\n",
       "    .dataframe thead th {\n",
       "        text-align: right;\n",
       "    }\n",
       "</style>\n",
       "<table border=\"1\" class=\"dataframe\">\n",
       "  <thead>\n",
       "    <tr style=\"text-align: right;\">\n",
       "      <th></th>\n",
       "      <th>Pekerjaan</th>\n",
       "      <th>jumlah_employee</th>\n",
       "    </tr>\n",
       "  </thead>\n",
       "  <tbody>\n",
       "    <tr>\n",
       "      <th>5</th>\n",
       "      <td>Software Engineer (Back End)</td>\n",
       "      <td>28</td>\n",
       "    </tr>\n",
       "    <tr>\n",
       "      <th>6</th>\n",
       "      <td>Software Engineer (Front End)</td>\n",
       "      <td>27</td>\n",
       "    </tr>\n",
       "    <tr>\n",
       "      <th>2</th>\n",
       "      <td>Product Design (UI &amp; UX)</td>\n",
       "      <td>9</td>\n",
       "    </tr>\n",
       "    <tr>\n",
       "      <th>0</th>\n",
       "      <td>Data Analyst</td>\n",
       "      <td>7</td>\n",
       "    </tr>\n",
       "    <tr>\n",
       "      <th>4</th>\n",
       "      <td>Software Engineer (Android)</td>\n",
       "      <td>7</td>\n",
       "    </tr>\n",
       "    <tr>\n",
       "      <th>3</th>\n",
       "      <td>Product Manager</td>\n",
       "      <td>6</td>\n",
       "    </tr>\n",
       "    <tr>\n",
       "      <th>1</th>\n",
       "      <td>Data Engineer</td>\n",
       "      <td>3</td>\n",
       "    </tr>\n",
       "  </tbody>\n",
       "</table>\n",
       "</div>"
      ],
      "text/plain": [
       "                       Pekerjaan  jumlah_employee\n",
       "5   Software Engineer (Back End)               28\n",
       "6  Software Engineer (Front End)               27\n",
       "2       Product Design (UI & UX)                9\n",
       "0                   Data Analyst                7\n",
       "4    Software Engineer (Android)                7\n",
       "3                Product Manager                6\n",
       "1                  Data Engineer                3"
      ]
     },
     "execution_count": 191,
     "metadata": {},
     "output_type": "execute_result"
    }
   ],
   "source": [
    "data_resigned = data_an2[data_an2['resign'] != 0].groupby(['Pekerjaan']).size().reset_index(name='jumlah_employee').sort_values(by='jumlah_employee', ascending=False)\n",
    "data_resigned"
   ]
  },
  {
   "cell_type": "code",
   "execution_count": 192,
   "metadata": {},
   "outputs": [
    {
     "data": {
      "text/html": [
       "<div>\n",
       "<style scoped>\n",
       "    .dataframe tbody tr th:only-of-type {\n",
       "        vertical-align: middle;\n",
       "    }\n",
       "\n",
       "    .dataframe tbody tr th {\n",
       "        vertical-align: top;\n",
       "    }\n",
       "\n",
       "    .dataframe thead th {\n",
       "        text-align: right;\n",
       "    }\n",
       "</style>\n",
       "<table border=\"1\" class=\"dataframe\">\n",
       "  <thead>\n",
       "    <tr style=\"text-align: right;\">\n",
       "      <th></th>\n",
       "      <th>Pekerjaan</th>\n",
       "      <th>jumlah_employee</th>\n",
       "    </tr>\n",
       "  </thead>\n",
       "  <tbody>\n",
       "    <tr>\n",
       "      <th>11</th>\n",
       "      <td>Software Engineer (Back End)</td>\n",
       "      <td>81</td>\n",
       "    </tr>\n",
       "    <tr>\n",
       "      <th>12</th>\n",
       "      <td>Software Engineer (Front End)</td>\n",
       "      <td>44</td>\n",
       "    </tr>\n",
       "    <tr>\n",
       "      <th>10</th>\n",
       "      <td>Software Engineer (Android)</td>\n",
       "      <td>17</td>\n",
       "    </tr>\n",
       "    <tr>\n",
       "      <th>5</th>\n",
       "      <td>Product Design (UI &amp; UX)</td>\n",
       "      <td>15</td>\n",
       "    </tr>\n",
       "    <tr>\n",
       "      <th>7</th>\n",
       "      <td>Product Manager</td>\n",
       "      <td>11</td>\n",
       "    </tr>\n",
       "    <tr>\n",
       "      <th>0</th>\n",
       "      <td>Data Analyst</td>\n",
       "      <td>8</td>\n",
       "    </tr>\n",
       "    <tr>\n",
       "      <th>1</th>\n",
       "      <td>Data Engineer</td>\n",
       "      <td>7</td>\n",
       "    </tr>\n",
       "    <tr>\n",
       "      <th>2</th>\n",
       "      <td>DevOps Engineer</td>\n",
       "      <td>3</td>\n",
       "    </tr>\n",
       "    <tr>\n",
       "      <th>8</th>\n",
       "      <td>Scrum Master</td>\n",
       "      <td>3</td>\n",
       "    </tr>\n",
       "    <tr>\n",
       "      <th>13</th>\n",
       "      <td>Software Engineer (iOS)</td>\n",
       "      <td>3</td>\n",
       "    </tr>\n",
       "    <tr>\n",
       "      <th>3</th>\n",
       "      <td>Digital Product Manager</td>\n",
       "      <td>2</td>\n",
       "    </tr>\n",
       "    <tr>\n",
       "      <th>4</th>\n",
       "      <td>Machine Learning Engineer</td>\n",
       "      <td>2</td>\n",
       "    </tr>\n",
       "    <tr>\n",
       "      <th>6</th>\n",
       "      <td>Product Design (UX Researcher)</td>\n",
       "      <td>1</td>\n",
       "    </tr>\n",
       "    <tr>\n",
       "      <th>9</th>\n",
       "      <td>Software Architect</td>\n",
       "      <td>1</td>\n",
       "    </tr>\n",
       "  </tbody>\n",
       "</table>\n",
       "</div>"
      ],
      "text/plain": [
       "                         Pekerjaan  jumlah_employee\n",
       "11    Software Engineer (Back End)               81\n",
       "12   Software Engineer (Front End)               44\n",
       "10     Software Engineer (Android)               17\n",
       "5         Product Design (UI & UX)               15\n",
       "7                  Product Manager               11\n",
       "0                     Data Analyst                8\n",
       "1                    Data Engineer                7\n",
       "2                  DevOps Engineer                3\n",
       "8                     Scrum Master                3\n",
       "13         Software Engineer (iOS)                3\n",
       "3          Digital Product Manager                2\n",
       "4        Machine Learning Engineer                2\n",
       "6   Product Design (UX Researcher)                1\n",
       "9               Software Architect                1"
      ]
     },
     "execution_count": 192,
     "metadata": {},
     "output_type": "execute_result"
    }
   ],
   "source": [
    "data_existing = data_an2[data_an2['resign'] == 0].groupby(['Pekerjaan']).size().reset_index(name='jumlah_employee').sort_values(by='jumlah_employee', ascending=False)\n",
    "data_existing"
   ]
  },
  {
   "cell_type": "code",
   "execution_count": 193,
   "metadata": {},
   "outputs": [
    {
     "data": {
      "text/html": [
       "<div>\n",
       "<style scoped>\n",
       "    .dataframe tbody tr th:only-of-type {\n",
       "        vertical-align: middle;\n",
       "    }\n",
       "\n",
       "    .dataframe tbody tr th {\n",
       "        vertical-align: top;\n",
       "    }\n",
       "\n",
       "    .dataframe thead th {\n",
       "        text-align: right;\n",
       "    }\n",
       "</style>\n",
       "<table border=\"1\" class=\"dataframe\">\n",
       "  <thead>\n",
       "    <tr style=\"text-align: right;\">\n",
       "      <th></th>\n",
       "      <th>Pekerjaan</th>\n",
       "      <th>Existing</th>\n",
       "      <th>Resigned</th>\n",
       "    </tr>\n",
       "  </thead>\n",
       "  <tbody>\n",
       "    <tr>\n",
       "      <th>0</th>\n",
       "      <td>Software Engineer (Back End)</td>\n",
       "      <td>81</td>\n",
       "      <td>28.0</td>\n",
       "    </tr>\n",
       "    <tr>\n",
       "      <th>1</th>\n",
       "      <td>Software Engineer (Front End)</td>\n",
       "      <td>44</td>\n",
       "      <td>27.0</td>\n",
       "    </tr>\n",
       "    <tr>\n",
       "      <th>2</th>\n",
       "      <td>Software Engineer (Android)</td>\n",
       "      <td>17</td>\n",
       "      <td>7.0</td>\n",
       "    </tr>\n",
       "    <tr>\n",
       "      <th>3</th>\n",
       "      <td>Product Design (UI &amp; UX)</td>\n",
       "      <td>15</td>\n",
       "      <td>9.0</td>\n",
       "    </tr>\n",
       "    <tr>\n",
       "      <th>4</th>\n",
       "      <td>Product Manager</td>\n",
       "      <td>11</td>\n",
       "      <td>6.0</td>\n",
       "    </tr>\n",
       "    <tr>\n",
       "      <th>5</th>\n",
       "      <td>Data Analyst</td>\n",
       "      <td>8</td>\n",
       "      <td>7.0</td>\n",
       "    </tr>\n",
       "    <tr>\n",
       "      <th>6</th>\n",
       "      <td>Data Engineer</td>\n",
       "      <td>7</td>\n",
       "      <td>3.0</td>\n",
       "    </tr>\n",
       "    <tr>\n",
       "      <th>7</th>\n",
       "      <td>DevOps Engineer</td>\n",
       "      <td>3</td>\n",
       "      <td>0.0</td>\n",
       "    </tr>\n",
       "    <tr>\n",
       "      <th>8</th>\n",
       "      <td>Scrum Master</td>\n",
       "      <td>3</td>\n",
       "      <td>0.0</td>\n",
       "    </tr>\n",
       "    <tr>\n",
       "      <th>9</th>\n",
       "      <td>Software Engineer (iOS)</td>\n",
       "      <td>3</td>\n",
       "      <td>0.0</td>\n",
       "    </tr>\n",
       "    <tr>\n",
       "      <th>10</th>\n",
       "      <td>Digital Product Manager</td>\n",
       "      <td>2</td>\n",
       "      <td>0.0</td>\n",
       "    </tr>\n",
       "    <tr>\n",
       "      <th>11</th>\n",
       "      <td>Machine Learning Engineer</td>\n",
       "      <td>2</td>\n",
       "      <td>0.0</td>\n",
       "    </tr>\n",
       "    <tr>\n",
       "      <th>12</th>\n",
       "      <td>Product Design (UX Researcher)</td>\n",
       "      <td>1</td>\n",
       "      <td>0.0</td>\n",
       "    </tr>\n",
       "    <tr>\n",
       "      <th>13</th>\n",
       "      <td>Software Architect</td>\n",
       "      <td>1</td>\n",
       "      <td>0.0</td>\n",
       "    </tr>\n",
       "  </tbody>\n",
       "</table>\n",
       "</div>"
      ],
      "text/plain": [
       "                         Pekerjaan  Existing  Resigned\n",
       "0     Software Engineer (Back End)        81      28.0\n",
       "1    Software Engineer (Front End)        44      27.0\n",
       "2      Software Engineer (Android)        17       7.0\n",
       "3         Product Design (UI & UX)        15       9.0\n",
       "4                  Product Manager        11       6.0\n",
       "5                     Data Analyst         8       7.0\n",
       "6                    Data Engineer         7       3.0\n",
       "7                  DevOps Engineer         3       0.0\n",
       "8                     Scrum Master         3       0.0\n",
       "9          Software Engineer (iOS)         3       0.0\n",
       "10         Digital Product Manager         2       0.0\n",
       "11       Machine Learning Engineer         2       0.0\n",
       "12  Product Design (UX Researcher)         1       0.0\n",
       "13              Software Architect         1       0.0"
      ]
     },
     "execution_count": 193,
     "metadata": {},
     "output_type": "execute_result"
    }
   ],
   "source": [
    "merge_resign_exist = pd.merge(data_existing, data_resigned, on='Pekerjaan', how='outer')\n",
    "merge_resign_exist.rename(columns={'jumlah_employee_x': 'Existing', 'jumlah_employee_y': 'Resigned'}, inplace=True)\n",
    "merge_resign_exist.fillna(0, inplace=True)\n",
    "merge_resign_exist"
   ]
  },
  {
   "cell_type": "code",
   "execution_count": 229,
   "metadata": {},
   "outputs": [
    {
     "data": {
      "text/html": [
       "<div>\n",
       "<style scoped>\n",
       "    .dataframe tbody tr th:only-of-type {\n",
       "        vertical-align: middle;\n",
       "    }\n",
       "\n",
       "    .dataframe tbody tr th {\n",
       "        vertical-align: top;\n",
       "    }\n",
       "\n",
       "    .dataframe thead th {\n",
       "        text-align: right;\n",
       "    }\n",
       "</style>\n",
       "<table border=\"1\" class=\"dataframe\">\n",
       "  <thead>\n",
       "    <tr style=\"text-align: right;\">\n",
       "      <th></th>\n",
       "      <th>Pekerjaan</th>\n",
       "      <th>Existing</th>\n",
       "      <th>Resigned</th>\n",
       "      <th>Total Employee</th>\n",
       "      <th>Persentase Existing Employee</th>\n",
       "    </tr>\n",
       "  </thead>\n",
       "  <tbody>\n",
       "    <tr>\n",
       "      <th>0</th>\n",
       "      <td>Software Engineer (Back End)</td>\n",
       "      <td>81</td>\n",
       "      <td>28.0</td>\n",
       "      <td>109.0</td>\n",
       "      <td>74.3</td>\n",
       "    </tr>\n",
       "    <tr>\n",
       "      <th>1</th>\n",
       "      <td>Software Engineer (Front End)</td>\n",
       "      <td>44</td>\n",
       "      <td>27.0</td>\n",
       "      <td>71.0</td>\n",
       "      <td>62.0</td>\n",
       "    </tr>\n",
       "    <tr>\n",
       "      <th>2</th>\n",
       "      <td>Software Engineer (Android)</td>\n",
       "      <td>17</td>\n",
       "      <td>7.0</td>\n",
       "      <td>24.0</td>\n",
       "      <td>70.8</td>\n",
       "    </tr>\n",
       "    <tr>\n",
       "      <th>3</th>\n",
       "      <td>Product Design (UI &amp; UX)</td>\n",
       "      <td>15</td>\n",
       "      <td>9.0</td>\n",
       "      <td>24.0</td>\n",
       "      <td>62.5</td>\n",
       "    </tr>\n",
       "    <tr>\n",
       "      <th>4</th>\n",
       "      <td>Product Manager</td>\n",
       "      <td>11</td>\n",
       "      <td>6.0</td>\n",
       "      <td>17.0</td>\n",
       "      <td>64.7</td>\n",
       "    </tr>\n",
       "    <tr>\n",
       "      <th>5</th>\n",
       "      <td>Data Analyst</td>\n",
       "      <td>8</td>\n",
       "      <td>7.0</td>\n",
       "      <td>15.0</td>\n",
       "      <td>53.3</td>\n",
       "    </tr>\n",
       "    <tr>\n",
       "      <th>6</th>\n",
       "      <td>Data Engineer</td>\n",
       "      <td>7</td>\n",
       "      <td>3.0</td>\n",
       "      <td>10.0</td>\n",
       "      <td>70.0</td>\n",
       "    </tr>\n",
       "    <tr>\n",
       "      <th>7</th>\n",
       "      <td>DevOps Engineer</td>\n",
       "      <td>3</td>\n",
       "      <td>0.0</td>\n",
       "      <td>3.0</td>\n",
       "      <td>100.0</td>\n",
       "    </tr>\n",
       "    <tr>\n",
       "      <th>8</th>\n",
       "      <td>Scrum Master</td>\n",
       "      <td>3</td>\n",
       "      <td>0.0</td>\n",
       "      <td>3.0</td>\n",
       "      <td>100.0</td>\n",
       "    </tr>\n",
       "    <tr>\n",
       "      <th>9</th>\n",
       "      <td>Software Engineer (iOS)</td>\n",
       "      <td>3</td>\n",
       "      <td>0.0</td>\n",
       "      <td>3.0</td>\n",
       "      <td>100.0</td>\n",
       "    </tr>\n",
       "    <tr>\n",
       "      <th>10</th>\n",
       "      <td>Digital Product Manager</td>\n",
       "      <td>2</td>\n",
       "      <td>0.0</td>\n",
       "      <td>2.0</td>\n",
       "      <td>100.0</td>\n",
       "    </tr>\n",
       "    <tr>\n",
       "      <th>11</th>\n",
       "      <td>Machine Learning Engineer</td>\n",
       "      <td>2</td>\n",
       "      <td>0.0</td>\n",
       "      <td>2.0</td>\n",
       "      <td>100.0</td>\n",
       "    </tr>\n",
       "    <tr>\n",
       "      <th>12</th>\n",
       "      <td>Product Design (UX Researcher)</td>\n",
       "      <td>1</td>\n",
       "      <td>0.0</td>\n",
       "      <td>1.0</td>\n",
       "      <td>100.0</td>\n",
       "    </tr>\n",
       "    <tr>\n",
       "      <th>13</th>\n",
       "      <td>Software Architect</td>\n",
       "      <td>1</td>\n",
       "      <td>0.0</td>\n",
       "      <td>1.0</td>\n",
       "      <td>100.0</td>\n",
       "    </tr>\n",
       "  </tbody>\n",
       "</table>\n",
       "</div>"
      ],
      "text/plain": [
       "                         Pekerjaan  Existing  Resigned  Total Employee  \\\n",
       "0     Software Engineer (Back End)        81      28.0           109.0   \n",
       "1    Software Engineer (Front End)        44      27.0            71.0   \n",
       "2      Software Engineer (Android)        17       7.0            24.0   \n",
       "3         Product Design (UI & UX)        15       9.0            24.0   \n",
       "4                  Product Manager        11       6.0            17.0   \n",
       "5                     Data Analyst         8       7.0            15.0   \n",
       "6                    Data Engineer         7       3.0            10.0   \n",
       "7                  DevOps Engineer         3       0.0             3.0   \n",
       "8                     Scrum Master         3       0.0             3.0   \n",
       "9          Software Engineer (iOS)         3       0.0             3.0   \n",
       "10         Digital Product Manager         2       0.0             2.0   \n",
       "11       Machine Learning Engineer         2       0.0             2.0   \n",
       "12  Product Design (UX Researcher)         1       0.0             1.0   \n",
       "13              Software Architect         1       0.0             1.0   \n",
       "\n",
       "    Persentase Existing Employee  \n",
       "0                           74.3  \n",
       "1                           62.0  \n",
       "2                           70.8  \n",
       "3                           62.5  \n",
       "4                           64.7  \n",
       "5                           53.3  \n",
       "6                           70.0  \n",
       "7                          100.0  \n",
       "8                          100.0  \n",
       "9                          100.0  \n",
       "10                         100.0  \n",
       "11                         100.0  \n",
       "12                         100.0  \n",
       "13                         100.0  "
      ]
     },
     "execution_count": 229,
     "metadata": {},
     "output_type": "execute_result"
    }
   ],
   "source": [
    "merge_resign_exist['Total Employee'] = merge_resign_exist['Existing'] + merge_resign_exist['Resigned']\n",
    "merge_resign_exist['Persentase Existing Employee'] = round(merge_resign_exist['Existing'] / merge_resign_exist['Total Employee']*100,1)\n",
    "merge_resign_exist.sort_values(by='Total Employee',ascending=False)"
   ]
  },
  {
   "cell_type": "code",
   "execution_count": 228,
   "metadata": {},
   "outputs": [
    {
     "data": {
      "application/vnd.plotly.v1+json": {
       "config": {
        "plotlyServerURL": "https://plot.ly"
       },
       "data": [
        {
         "alignmentgroup": "True",
         "hovertemplate": "variable=Resigned<br>Total Employee(Existing Employee(%))=%{x}<br>Divisi=%{y}<extra></extra>",
         "legendgroup": "Resigned",
         "marker": {
          "color": "#636efa",
          "pattern": {
           "shape": ""
          }
         },
         "name": "Resigned",
         "offsetgroup": "Resigned",
         "orientation": "h",
         "showlegend": true,
         "textposition": "auto",
         "type": "bar",
         "x": [
          28,
          27,
          7,
          9,
          6,
          7,
          3,
          0,
          0,
          0,
          0,
          0,
          0,
          0
         ],
         "xaxis": "x",
         "y": [
          "Software Engineer (Back End)",
          "Software Engineer (Front End)",
          "Software Engineer (Android)",
          "Product Design (UI & UX)",
          "Product Manager",
          "Data Analyst",
          "Data Engineer",
          "DevOps Engineer",
          "Scrum Master",
          "Software Engineer (iOS)",
          "Digital Product Manager",
          "Machine Learning Engineer",
          "Product Design (UX Researcher)",
          "Software Architect"
         ],
         "yaxis": "y"
        },
        {
         "alignmentgroup": "True",
         "hovertemplate": "variable=Existing<br>Total Employee(Existing Employee(%))=%{x}<br>Divisi=%{y}<extra></extra>",
         "legendgroup": "Existing",
         "marker": {
          "color": "#EF553B",
          "pattern": {
           "shape": ""
          }
         },
         "name": "Existing",
         "offsetgroup": "Existing",
         "orientation": "h",
         "showlegend": true,
         "textposition": "auto",
         "type": "bar",
         "x": [
          81,
          44,
          17,
          15,
          11,
          8,
          7,
          3,
          3,
          3,
          2,
          2,
          1,
          1
         ],
         "xaxis": "x",
         "y": [
          "Software Engineer (Back End)",
          "Software Engineer (Front End)",
          "Software Engineer (Android)",
          "Product Design (UI & UX)",
          "Product Manager",
          "Data Analyst",
          "Data Engineer",
          "DevOps Engineer",
          "Scrum Master",
          "Software Engineer (iOS)",
          "Digital Product Manager",
          "Machine Learning Engineer",
          "Product Design (UX Researcher)",
          "Software Architect"
         ],
         "yaxis": "y"
        }
       ],
       "layout": {
        "annotations": [
         {
          "align": "center",
          "font": {
           "size": 10
          },
          "showarrow": false,
          "text": "74.3%",
          "x": 28,
          "xanchor": "left",
          "y": "Software Engineer (Back End)",
          "yanchor": "middle"
         },
         {
          "align": "center",
          "font": {
           "size": 10
          },
          "showarrow": false,
          "text": "62.0%",
          "x": 27,
          "xanchor": "left",
          "y": "Software Engineer (Front End)",
          "yanchor": "middle"
         },
         {
          "align": "center",
          "font": {
           "size": 10
          },
          "showarrow": false,
          "text": "70.8%",
          "x": 7,
          "xanchor": "left",
          "y": "Software Engineer (Android)",
          "yanchor": "middle"
         },
         {
          "align": "center",
          "font": {
           "size": 10
          },
          "showarrow": false,
          "text": "62.5%",
          "x": 9,
          "xanchor": "left",
          "y": "Product Design (UI & UX)",
          "yanchor": "middle"
         },
         {
          "align": "center",
          "font": {
           "size": 10
          },
          "showarrow": false,
          "text": "64.7%",
          "x": 6,
          "xanchor": "left",
          "y": "Product Manager",
          "yanchor": "middle"
         },
         {
          "align": "center",
          "font": {
           "size": 10
          },
          "showarrow": false,
          "text": "53.3%",
          "x": 7,
          "xanchor": "left",
          "y": "Data Analyst",
          "yanchor": "middle"
         },
         {
          "align": "center",
          "font": {
           "size": 10
          },
          "showarrow": false,
          "text": "70.0%",
          "x": 3,
          "xanchor": "left",
          "y": "Data Engineer",
          "yanchor": "middle"
         },
         {
          "align": "center",
          "font": {
           "size": 10
          },
          "showarrow": false,
          "text": "100.0%",
          "x": 0,
          "xanchor": "left",
          "y": "DevOps Engineer",
          "yanchor": "middle"
         },
         {
          "align": "center",
          "font": {
           "size": 10
          },
          "showarrow": false,
          "text": "100.0%",
          "x": 0,
          "xanchor": "left",
          "y": "Scrum Master",
          "yanchor": "middle"
         },
         {
          "align": "center",
          "font": {
           "size": 10
          },
          "showarrow": false,
          "text": "100.0%",
          "x": 0,
          "xanchor": "left",
          "y": "Software Engineer (iOS)",
          "yanchor": "middle"
         },
         {
          "align": "center",
          "font": {
           "size": 10
          },
          "showarrow": false,
          "text": "100.0%",
          "x": 0,
          "xanchor": "left",
          "y": "Digital Product Manager",
          "yanchor": "middle"
         },
         {
          "align": "center",
          "font": {
           "size": 10
          },
          "showarrow": false,
          "text": "100.0%",
          "x": 0,
          "xanchor": "left",
          "y": "Machine Learning Engineer",
          "yanchor": "middle"
         },
         {
          "align": "center",
          "font": {
           "size": 10
          },
          "showarrow": false,
          "text": "100.0%",
          "x": 0,
          "xanchor": "left",
          "y": "Product Design (UX Researcher)",
          "yanchor": "middle"
         },
         {
          "align": "center",
          "font": {
           "size": 10
          },
          "showarrow": false,
          "text": "100.0%",
          "x": 0,
          "xanchor": "left",
          "y": "Software Architect",
          "yanchor": "middle"
         }
        ],
        "barmode": "stack",
        "height": 800,
        "legend": {
         "title": {
          "text": "variable"
         },
         "tracegroupgap": 0
        },
        "margin": {
         "t": 60
        },
        "template": {
         "data": {
          "bar": [
           {
            "error_x": {
             "color": "#f2f5fa"
            },
            "error_y": {
             "color": "#f2f5fa"
            },
            "marker": {
             "line": {
              "color": "rgb(17,17,17)",
              "width": 0.5
             },
             "pattern": {
              "fillmode": "overlay",
              "size": 10,
              "solidity": 0.2
             }
            },
            "type": "bar"
           }
          ],
          "barpolar": [
           {
            "marker": {
             "line": {
              "color": "rgb(17,17,17)",
              "width": 0.5
             },
             "pattern": {
              "fillmode": "overlay",
              "size": 10,
              "solidity": 0.2
             }
            },
            "type": "barpolar"
           }
          ],
          "carpet": [
           {
            "aaxis": {
             "endlinecolor": "#A2B1C6",
             "gridcolor": "#506784",
             "linecolor": "#506784",
             "minorgridcolor": "#506784",
             "startlinecolor": "#A2B1C6"
            },
            "baxis": {
             "endlinecolor": "#A2B1C6",
             "gridcolor": "#506784",
             "linecolor": "#506784",
             "minorgridcolor": "#506784",
             "startlinecolor": "#A2B1C6"
            },
            "type": "carpet"
           }
          ],
          "choropleth": [
           {
            "colorbar": {
             "outlinewidth": 0,
             "ticks": ""
            },
            "type": "choropleth"
           }
          ],
          "contour": [
           {
            "colorbar": {
             "outlinewidth": 0,
             "ticks": ""
            },
            "colorscale": [
             [
              0,
              "#0d0887"
             ],
             [
              0.1111111111111111,
              "#46039f"
             ],
             [
              0.2222222222222222,
              "#7201a8"
             ],
             [
              0.3333333333333333,
              "#9c179e"
             ],
             [
              0.4444444444444444,
              "#bd3786"
             ],
             [
              0.5555555555555556,
              "#d8576b"
             ],
             [
              0.6666666666666666,
              "#ed7953"
             ],
             [
              0.7777777777777778,
              "#fb9f3a"
             ],
             [
              0.8888888888888888,
              "#fdca26"
             ],
             [
              1,
              "#f0f921"
             ]
            ],
            "type": "contour"
           }
          ],
          "contourcarpet": [
           {
            "colorbar": {
             "outlinewidth": 0,
             "ticks": ""
            },
            "type": "contourcarpet"
           }
          ],
          "heatmap": [
           {
            "colorbar": {
             "outlinewidth": 0,
             "ticks": ""
            },
            "colorscale": [
             [
              0,
              "#0d0887"
             ],
             [
              0.1111111111111111,
              "#46039f"
             ],
             [
              0.2222222222222222,
              "#7201a8"
             ],
             [
              0.3333333333333333,
              "#9c179e"
             ],
             [
              0.4444444444444444,
              "#bd3786"
             ],
             [
              0.5555555555555556,
              "#d8576b"
             ],
             [
              0.6666666666666666,
              "#ed7953"
             ],
             [
              0.7777777777777778,
              "#fb9f3a"
             ],
             [
              0.8888888888888888,
              "#fdca26"
             ],
             [
              1,
              "#f0f921"
             ]
            ],
            "type": "heatmap"
           }
          ],
          "heatmapgl": [
           {
            "colorbar": {
             "outlinewidth": 0,
             "ticks": ""
            },
            "colorscale": [
             [
              0,
              "#0d0887"
             ],
             [
              0.1111111111111111,
              "#46039f"
             ],
             [
              0.2222222222222222,
              "#7201a8"
             ],
             [
              0.3333333333333333,
              "#9c179e"
             ],
             [
              0.4444444444444444,
              "#bd3786"
             ],
             [
              0.5555555555555556,
              "#d8576b"
             ],
             [
              0.6666666666666666,
              "#ed7953"
             ],
             [
              0.7777777777777778,
              "#fb9f3a"
             ],
             [
              0.8888888888888888,
              "#fdca26"
             ],
             [
              1,
              "#f0f921"
             ]
            ],
            "type": "heatmapgl"
           }
          ],
          "histogram": [
           {
            "marker": {
             "pattern": {
              "fillmode": "overlay",
              "size": 10,
              "solidity": 0.2
             }
            },
            "type": "histogram"
           }
          ],
          "histogram2d": [
           {
            "colorbar": {
             "outlinewidth": 0,
             "ticks": ""
            },
            "colorscale": [
             [
              0,
              "#0d0887"
             ],
             [
              0.1111111111111111,
              "#46039f"
             ],
             [
              0.2222222222222222,
              "#7201a8"
             ],
             [
              0.3333333333333333,
              "#9c179e"
             ],
             [
              0.4444444444444444,
              "#bd3786"
             ],
             [
              0.5555555555555556,
              "#d8576b"
             ],
             [
              0.6666666666666666,
              "#ed7953"
             ],
             [
              0.7777777777777778,
              "#fb9f3a"
             ],
             [
              0.8888888888888888,
              "#fdca26"
             ],
             [
              1,
              "#f0f921"
             ]
            ],
            "type": "histogram2d"
           }
          ],
          "histogram2dcontour": [
           {
            "colorbar": {
             "outlinewidth": 0,
             "ticks": ""
            },
            "colorscale": [
             [
              0,
              "#0d0887"
             ],
             [
              0.1111111111111111,
              "#46039f"
             ],
             [
              0.2222222222222222,
              "#7201a8"
             ],
             [
              0.3333333333333333,
              "#9c179e"
             ],
             [
              0.4444444444444444,
              "#bd3786"
             ],
             [
              0.5555555555555556,
              "#d8576b"
             ],
             [
              0.6666666666666666,
              "#ed7953"
             ],
             [
              0.7777777777777778,
              "#fb9f3a"
             ],
             [
              0.8888888888888888,
              "#fdca26"
             ],
             [
              1,
              "#f0f921"
             ]
            ],
            "type": "histogram2dcontour"
           }
          ],
          "mesh3d": [
           {
            "colorbar": {
             "outlinewidth": 0,
             "ticks": ""
            },
            "type": "mesh3d"
           }
          ],
          "parcoords": [
           {
            "line": {
             "colorbar": {
              "outlinewidth": 0,
              "ticks": ""
             }
            },
            "type": "parcoords"
           }
          ],
          "pie": [
           {
            "automargin": true,
            "type": "pie"
           }
          ],
          "scatter": [
           {
            "marker": {
             "line": {
              "color": "#283442"
             }
            },
            "type": "scatter"
           }
          ],
          "scatter3d": [
           {
            "line": {
             "colorbar": {
              "outlinewidth": 0,
              "ticks": ""
             }
            },
            "marker": {
             "colorbar": {
              "outlinewidth": 0,
              "ticks": ""
             }
            },
            "type": "scatter3d"
           }
          ],
          "scattercarpet": [
           {
            "marker": {
             "colorbar": {
              "outlinewidth": 0,
              "ticks": ""
             }
            },
            "type": "scattercarpet"
           }
          ],
          "scattergeo": [
           {
            "marker": {
             "colorbar": {
              "outlinewidth": 0,
              "ticks": ""
             }
            },
            "type": "scattergeo"
           }
          ],
          "scattergl": [
           {
            "marker": {
             "line": {
              "color": "#283442"
             }
            },
            "type": "scattergl"
           }
          ],
          "scattermapbox": [
           {
            "marker": {
             "colorbar": {
              "outlinewidth": 0,
              "ticks": ""
             }
            },
            "type": "scattermapbox"
           }
          ],
          "scatterpolar": [
           {
            "marker": {
             "colorbar": {
              "outlinewidth": 0,
              "ticks": ""
             }
            },
            "type": "scatterpolar"
           }
          ],
          "scatterpolargl": [
           {
            "marker": {
             "colorbar": {
              "outlinewidth": 0,
              "ticks": ""
             }
            },
            "type": "scatterpolargl"
           }
          ],
          "scatterternary": [
           {
            "marker": {
             "colorbar": {
              "outlinewidth": 0,
              "ticks": ""
             }
            },
            "type": "scatterternary"
           }
          ],
          "surface": [
           {
            "colorbar": {
             "outlinewidth": 0,
             "ticks": ""
            },
            "colorscale": [
             [
              0,
              "#0d0887"
             ],
             [
              0.1111111111111111,
              "#46039f"
             ],
             [
              0.2222222222222222,
              "#7201a8"
             ],
             [
              0.3333333333333333,
              "#9c179e"
             ],
             [
              0.4444444444444444,
              "#bd3786"
             ],
             [
              0.5555555555555556,
              "#d8576b"
             ],
             [
              0.6666666666666666,
              "#ed7953"
             ],
             [
              0.7777777777777778,
              "#fb9f3a"
             ],
             [
              0.8888888888888888,
              "#fdca26"
             ],
             [
              1,
              "#f0f921"
             ]
            ],
            "type": "surface"
           }
          ],
          "table": [
           {
            "cells": {
             "fill": {
              "color": "#506784"
             },
             "line": {
              "color": "rgb(17,17,17)"
             }
            },
            "header": {
             "fill": {
              "color": "#2a3f5f"
             },
             "line": {
              "color": "rgb(17,17,17)"
             }
            },
            "type": "table"
           }
          ]
         },
         "layout": {
          "annotationdefaults": {
           "arrowcolor": "#f2f5fa",
           "arrowhead": 0,
           "arrowwidth": 1
          },
          "autotypenumbers": "strict",
          "coloraxis": {
           "colorbar": {
            "outlinewidth": 0,
            "ticks": ""
           }
          },
          "colorscale": {
           "diverging": [
            [
             0,
             "#8e0152"
            ],
            [
             0.1,
             "#c51b7d"
            ],
            [
             0.2,
             "#de77ae"
            ],
            [
             0.3,
             "#f1b6da"
            ],
            [
             0.4,
             "#fde0ef"
            ],
            [
             0.5,
             "#f7f7f7"
            ],
            [
             0.6,
             "#e6f5d0"
            ],
            [
             0.7,
             "#b8e186"
            ],
            [
             0.8,
             "#7fbc41"
            ],
            [
             0.9,
             "#4d9221"
            ],
            [
             1,
             "#276419"
            ]
           ],
           "sequential": [
            [
             0,
             "#0d0887"
            ],
            [
             0.1111111111111111,
             "#46039f"
            ],
            [
             0.2222222222222222,
             "#7201a8"
            ],
            [
             0.3333333333333333,
             "#9c179e"
            ],
            [
             0.4444444444444444,
             "#bd3786"
            ],
            [
             0.5555555555555556,
             "#d8576b"
            ],
            [
             0.6666666666666666,
             "#ed7953"
            ],
            [
             0.7777777777777778,
             "#fb9f3a"
            ],
            [
             0.8888888888888888,
             "#fdca26"
            ],
            [
             1,
             "#f0f921"
            ]
           ],
           "sequentialminus": [
            [
             0,
             "#0d0887"
            ],
            [
             0.1111111111111111,
             "#46039f"
            ],
            [
             0.2222222222222222,
             "#7201a8"
            ],
            [
             0.3333333333333333,
             "#9c179e"
            ],
            [
             0.4444444444444444,
             "#bd3786"
            ],
            [
             0.5555555555555556,
             "#d8576b"
            ],
            [
             0.6666666666666666,
             "#ed7953"
            ],
            [
             0.7777777777777778,
             "#fb9f3a"
            ],
            [
             0.8888888888888888,
             "#fdca26"
            ],
            [
             1,
             "#f0f921"
            ]
           ]
          },
          "colorway": [
           "#636efa",
           "#EF553B",
           "#00cc96",
           "#ab63fa",
           "#FFA15A",
           "#19d3f3",
           "#FF6692",
           "#B6E880",
           "#FF97FF",
           "#FECB52"
          ],
          "font": {
           "color": "#f2f5fa"
          },
          "geo": {
           "bgcolor": "rgb(17,17,17)",
           "lakecolor": "rgb(17,17,17)",
           "landcolor": "rgb(17,17,17)",
           "showlakes": true,
           "showland": true,
           "subunitcolor": "#506784"
          },
          "hoverlabel": {
           "align": "left"
          },
          "hovermode": "closest",
          "mapbox": {
           "style": "dark"
          },
          "paper_bgcolor": "rgb(17,17,17)",
          "plot_bgcolor": "rgb(17,17,17)",
          "polar": {
           "angularaxis": {
            "gridcolor": "#506784",
            "linecolor": "#506784",
            "ticks": ""
           },
           "bgcolor": "rgb(17,17,17)",
           "radialaxis": {
            "gridcolor": "#506784",
            "linecolor": "#506784",
            "ticks": ""
           }
          },
          "scene": {
           "xaxis": {
            "backgroundcolor": "rgb(17,17,17)",
            "gridcolor": "#506784",
            "gridwidth": 2,
            "linecolor": "#506784",
            "showbackground": true,
            "ticks": "",
            "zerolinecolor": "#C8D4E3"
           },
           "yaxis": {
            "backgroundcolor": "rgb(17,17,17)",
            "gridcolor": "#506784",
            "gridwidth": 2,
            "linecolor": "#506784",
            "showbackground": true,
            "ticks": "",
            "zerolinecolor": "#C8D4E3"
           },
           "zaxis": {
            "backgroundcolor": "rgb(17,17,17)",
            "gridcolor": "#506784",
            "gridwidth": 2,
            "linecolor": "#506784",
            "showbackground": true,
            "ticks": "",
            "zerolinecolor": "#C8D4E3"
           }
          },
          "shapedefaults": {
           "line": {
            "color": "#f2f5fa"
           }
          },
          "sliderdefaults": {
           "bgcolor": "#C8D4E3",
           "bordercolor": "rgb(17,17,17)",
           "borderwidth": 1,
           "tickwidth": 0
          },
          "ternary": {
           "aaxis": {
            "gridcolor": "#506784",
            "linecolor": "#506784",
            "ticks": ""
           },
           "baxis": {
            "gridcolor": "#506784",
            "linecolor": "#506784",
            "ticks": ""
           },
           "bgcolor": "rgb(17,17,17)",
           "caxis": {
            "gridcolor": "#506784",
            "linecolor": "#506784",
            "ticks": ""
           }
          },
          "title": {
           "x": 0.05
          },
          "updatemenudefaults": {
           "bgcolor": "#506784",
           "borderwidth": 0
          },
          "xaxis": {
           "automargin": true,
           "gridcolor": "#283442",
           "linecolor": "#506784",
           "ticks": "",
           "title": {
            "standoff": 15
           },
           "zerolinecolor": "#283442",
           "zerolinewidth": 2
          },
          "yaxis": {
           "automargin": true,
           "gridcolor": "#283442",
           "linecolor": "#506784",
           "ticks": "",
           "title": {
            "standoff": 15
           },
           "zerolinecolor": "#283442",
           "zerolinewidth": 2
          }
         }
        },
        "width": 1000,
        "xaxis": {
         "anchor": "y",
         "domain": [
          0,
          1
         ],
         "title": {
          "text": "Total Employee(Existing Employee(%))"
         }
        },
        "yaxis": {
         "anchor": "x",
         "autorange": "reversed",
         "domain": [
          0,
          1
         ],
         "title": {
          "text": "Divisi"
         }
        }
       }
      }
     },
     "metadata": {},
     "output_type": "display_data"
    }
   ],
   "source": [
    "fig = px.bar(merge_resign_exist, y='Pekerjaan', x=['Resigned','Existing'],\n",
    "             orientation='h',barmode='stack',\n",
    "             labels={'Pekerjaan':'Divisi', 'Existing':'Existing Employee', 'Resigned':'Resigned Employee','value':'Total Employee(Existing Employee(%))'},\n",
    "             height=800,width=1000,template=\"plotly_dark\")\n",
    "\n",
    "# Add the annotations for persentase\n",
    "for i in range(len(merge_resign_exist)):\n",
    "    fig.add_annotation(y=merge_resign_exist.iloc[i]['Pekerjaan'], x=merge_resign_exist.iloc[i]['Resigned'],\n",
    "                      text='{:.1f}%'.format(merge_resign_exist.iloc[i]['Persentase Existing Employee']),\n",
    "                      font=dict(size=10),\n",
    "                      showarrow=False,\n",
    "                      align='center', xanchor='left', yanchor='middle')\n",
    "fig.update_layout(yaxis=dict(autorange='reversed'))\n",
    "fig.show()"
   ]
  },
  {
   "attachments": {},
   "cell_type": "markdown",
   "metadata": {},
   "source": [
    "### Alasan Resign pada divisi Software Engineer Back End (Divisi dengan Resign paling tinggi)"
   ]
  },
  {
   "cell_type": "code",
   "execution_count": 196,
   "metadata": {},
   "outputs": [],
   "source": [
    "divisi_resign_tertinggi = data_an2[(data_an2['Pekerjaan']== 'Software Engineer (Back End)')&(data_an2['resign']==1)]"
   ]
  },
  {
   "attachments": {},
   "cell_type": "markdown",
   "metadata": {},
   "source": [
    "#### Berdasarkan Tahun Resign"
   ]
  },
  {
   "cell_type": "code",
   "execution_count": 225,
   "metadata": {},
   "outputs": [
    {
     "data": {
      "text/html": [
       "<div>\n",
       "<style scoped>\n",
       "    .dataframe tbody tr th:only-of-type {\n",
       "        vertical-align: middle;\n",
       "    }\n",
       "\n",
       "    .dataframe tbody tr th {\n",
       "        vertical-align: top;\n",
       "    }\n",
       "\n",
       "    .dataframe thead th {\n",
       "        text-align: right;\n",
       "    }\n",
       "</style>\n",
       "<table border=\"1\" class=\"dataframe\">\n",
       "  <thead>\n",
       "    <tr style=\"text-align: right;\">\n",
       "      <th></th>\n",
       "      <th>tahun_resign</th>\n",
       "      <th>resign</th>\n",
       "    </tr>\n",
       "  </thead>\n",
       "  <tbody>\n",
       "    <tr>\n",
       "      <th>5</th>\n",
       "      <td>2018</td>\n",
       "      <td>10</td>\n",
       "    </tr>\n",
       "    <tr>\n",
       "      <th>2</th>\n",
       "      <td>2015</td>\n",
       "      <td>5</td>\n",
       "    </tr>\n",
       "    <tr>\n",
       "      <th>4</th>\n",
       "      <td>2017</td>\n",
       "      <td>5</td>\n",
       "    </tr>\n",
       "    <tr>\n",
       "      <th>1</th>\n",
       "      <td>2014</td>\n",
       "      <td>3</td>\n",
       "    </tr>\n",
       "    <tr>\n",
       "      <th>6</th>\n",
       "      <td>2019</td>\n",
       "      <td>2</td>\n",
       "    </tr>\n",
       "    <tr>\n",
       "      <th>0</th>\n",
       "      <td>2013</td>\n",
       "      <td>1</td>\n",
       "    </tr>\n",
       "    <tr>\n",
       "      <th>3</th>\n",
       "      <td>2016</td>\n",
       "      <td>1</td>\n",
       "    </tr>\n",
       "    <tr>\n",
       "      <th>7</th>\n",
       "      <td>2020</td>\n",
       "      <td>1</td>\n",
       "    </tr>\n",
       "  </tbody>\n",
       "</table>\n",
       "</div>"
      ],
      "text/plain": [
       "   tahun_resign  resign\n",
       "5          2018      10\n",
       "2          2015       5\n",
       "4          2017       5\n",
       "1          2014       3\n",
       "6          2019       2\n",
       "0          2013       1\n",
       "3          2016       1\n",
       "7          2020       1"
      ]
     },
     "execution_count": 225,
     "metadata": {},
     "output_type": "execute_result"
    }
   ],
   "source": [
    "agg_tahun = divisi_resign_tertinggi.groupby(['tahun_resign']).agg({'resign':'sum'}).reset_index()\n",
    "agg_tahun.sort_values(by='resign', ascending=False)"
   ]
  },
  {
   "attachments": {},
   "cell_type": "markdown",
   "metadata": {},
   "source": [
    "#### Berdasarkan Jenjang Karir"
   ]
  },
  {
   "cell_type": "code",
   "execution_count": 199,
   "metadata": {},
   "outputs": [
    {
     "data": {
      "text/html": [
       "<div>\n",
       "<style scoped>\n",
       "    .dataframe tbody tr th:only-of-type {\n",
       "        vertical-align: middle;\n",
       "    }\n",
       "\n",
       "    .dataframe tbody tr th {\n",
       "        vertical-align: top;\n",
       "    }\n",
       "\n",
       "    .dataframe thead th {\n",
       "        text-align: right;\n",
       "    }\n",
       "</style>\n",
       "<table border=\"1\" class=\"dataframe\">\n",
       "  <thead>\n",
       "    <tr style=\"text-align: right;\">\n",
       "      <th></th>\n",
       "      <th>JenjangKarir</th>\n",
       "      <th>resign</th>\n",
       "    </tr>\n",
       "  </thead>\n",
       "  <tbody>\n",
       "    <tr>\n",
       "      <th>0</th>\n",
       "      <td>Freshgraduate_program</td>\n",
       "      <td>15</td>\n",
       "    </tr>\n",
       "    <tr>\n",
       "      <th>1</th>\n",
       "      <td>Mid_level</td>\n",
       "      <td>7</td>\n",
       "    </tr>\n",
       "    <tr>\n",
       "      <th>2</th>\n",
       "      <td>Senior_level</td>\n",
       "      <td>6</td>\n",
       "    </tr>\n",
       "  </tbody>\n",
       "</table>\n",
       "</div>"
      ],
      "text/plain": [
       "            JenjangKarir  resign\n",
       "0  Freshgraduate_program      15\n",
       "1              Mid_level       7\n",
       "2           Senior_level       6"
      ]
     },
     "execution_count": 199,
     "metadata": {},
     "output_type": "execute_result"
    }
   ],
   "source": [
    "agg_jenjangkarir = divisi_resign_tertinggi.groupby(['JenjangKarir']).agg({'resign':'sum'}).reset_index()\n",
    "agg_jenjangkarir"
   ]
  },
  {
   "cell_type": "markdown",
   "metadata": {},
   "source": [
    "#### Berdasarkan Alasan Resign"
   ]
  },
  {
   "cell_type": "code",
   "execution_count": 200,
   "metadata": {},
   "outputs": [
    {
     "data": {
      "text/html": [
       "<div>\n",
       "<style scoped>\n",
       "    .dataframe tbody tr th:only-of-type {\n",
       "        vertical-align: middle;\n",
       "    }\n",
       "\n",
       "    .dataframe tbody tr th {\n",
       "        vertical-align: top;\n",
       "    }\n",
       "\n",
       "    .dataframe thead th {\n",
       "        text-align: right;\n",
       "    }\n",
       "</style>\n",
       "<table border=\"1\" class=\"dataframe\">\n",
       "  <thead>\n",
       "    <tr style=\"text-align: right;\">\n",
       "      <th></th>\n",
       "      <th>AlasanResign</th>\n",
       "      <th>resign</th>\n",
       "    </tr>\n",
       "  </thead>\n",
       "  <tbody>\n",
       "    <tr>\n",
       "      <th>3</th>\n",
       "      <td>jam_kerja</td>\n",
       "      <td>6</td>\n",
       "    </tr>\n",
       "    <tr>\n",
       "      <th>6</th>\n",
       "      <td>tidak_bahagia</td>\n",
       "      <td>5</td>\n",
       "    </tr>\n",
       "    <tr>\n",
       "      <th>1</th>\n",
       "      <td>ganti_karir</td>\n",
       "      <td>4</td>\n",
       "    </tr>\n",
       "    <tr>\n",
       "      <th>4</th>\n",
       "      <td>kejelasan_karir</td>\n",
       "      <td>4</td>\n",
       "    </tr>\n",
       "    <tr>\n",
       "      <th>7</th>\n",
       "      <td>tidak_bisa_remote</td>\n",
       "      <td>3</td>\n",
       "    </tr>\n",
       "    <tr>\n",
       "      <th>2</th>\n",
       "      <td>internal_conflict</td>\n",
       "      <td>2</td>\n",
       "    </tr>\n",
       "    <tr>\n",
       "      <th>5</th>\n",
       "      <td>leadership</td>\n",
       "      <td>2</td>\n",
       "    </tr>\n",
       "    <tr>\n",
       "      <th>0</th>\n",
       "      <td>Lainnya</td>\n",
       "      <td>1</td>\n",
       "    </tr>\n",
       "    <tr>\n",
       "      <th>8</th>\n",
       "      <td>toxic_culture</td>\n",
       "      <td>1</td>\n",
       "    </tr>\n",
       "  </tbody>\n",
       "</table>\n",
       "</div>"
      ],
      "text/plain": [
       "        AlasanResign  resign\n",
       "3          jam_kerja       6\n",
       "6      tidak_bahagia       5\n",
       "1        ganti_karir       4\n",
       "4    kejelasan_karir       4\n",
       "7  tidak_bisa_remote       3\n",
       "2  internal_conflict       2\n",
       "5         leadership       2\n",
       "0            Lainnya       1\n",
       "8      toxic_culture       1"
      ]
     },
     "execution_count": 200,
     "metadata": {},
     "output_type": "execute_result"
    }
   ],
   "source": [
    "agg_alasan = divisi_resign_tertinggi.groupby(['AlasanResign']).agg({'resign':'sum'}).reset_index()\n",
    "agg_alasan.sort_values(by='resign', ascending=False)"
   ]
  },
  {
   "attachments": {},
   "cell_type": "markdown",
   "metadata": {},
   "source": [
    "#### Berdasarkan Perfomance"
   ]
  },
  {
   "cell_type": "code",
   "execution_count": 201,
   "metadata": {},
   "outputs": [
    {
     "data": {
      "text/html": [
       "<div>\n",
       "<style scoped>\n",
       "    .dataframe tbody tr th:only-of-type {\n",
       "        vertical-align: middle;\n",
       "    }\n",
       "\n",
       "    .dataframe tbody tr th {\n",
       "        vertical-align: top;\n",
       "    }\n",
       "\n",
       "    .dataframe thead th {\n",
       "        text-align: right;\n",
       "    }\n",
       "</style>\n",
       "<table border=\"1\" class=\"dataframe\">\n",
       "  <thead>\n",
       "    <tr style=\"text-align: right;\">\n",
       "      <th></th>\n",
       "      <th>PerformancePegawai</th>\n",
       "      <th>resign</th>\n",
       "    </tr>\n",
       "  </thead>\n",
       "  <tbody>\n",
       "    <tr>\n",
       "      <th>3</th>\n",
       "      <td>Sangat_bagus</td>\n",
       "      <td>11</td>\n",
       "    </tr>\n",
       "    <tr>\n",
       "      <th>1</th>\n",
       "      <td>Biasa</td>\n",
       "      <td>9</td>\n",
       "    </tr>\n",
       "    <tr>\n",
       "      <th>0</th>\n",
       "      <td>Bagus</td>\n",
       "      <td>3</td>\n",
       "    </tr>\n",
       "    <tr>\n",
       "      <th>2</th>\n",
       "      <td>Kurang</td>\n",
       "      <td>3</td>\n",
       "    </tr>\n",
       "    <tr>\n",
       "      <th>4</th>\n",
       "      <td>Sangat_kurang</td>\n",
       "      <td>2</td>\n",
       "    </tr>\n",
       "  </tbody>\n",
       "</table>\n",
       "</div>"
      ],
      "text/plain": [
       "  PerformancePegawai  resign\n",
       "3       Sangat_bagus      11\n",
       "1              Biasa       9\n",
       "0              Bagus       3\n",
       "2             Kurang       3\n",
       "4      Sangat_kurang       2"
      ]
     },
     "execution_count": 201,
     "metadata": {},
     "output_type": "execute_result"
    }
   ],
   "source": [
    "agg_performance = divisi_resign_tertinggi.groupby(['PerformancePegawai']).agg({'resign':'sum'}).reset_index()\n",
    "agg_performance.sort_values(by='resign', ascending=False)"
   ]
  },
  {
   "attachments": {},
   "cell_type": "markdown",
   "metadata": {},
   "source": [
    "Dari total 28 yang resign ternyata ada 11 orang yang resign dengan performa sangat bagus"
   ]
  },
  {
   "cell_type": "code",
   "execution_count": 217,
   "metadata": {},
   "outputs": [
    {
     "data": {
      "text/html": [
       "<div>\n",
       "<style scoped>\n",
       "    .dataframe tbody tr th:only-of-type {\n",
       "        vertical-align: middle;\n",
       "    }\n",
       "\n",
       "    .dataframe tbody tr th {\n",
       "        vertical-align: top;\n",
       "    }\n",
       "\n",
       "    .dataframe thead th {\n",
       "        text-align: right;\n",
       "    }\n",
       "</style>\n",
       "<table border=\"1\" class=\"dataframe\">\n",
       "  <thead>\n",
       "    <tr style=\"text-align: right;\">\n",
       "      <th></th>\n",
       "      <th>JenjangKarir</th>\n",
       "      <th>PerformancePegawai</th>\n",
       "      <th>AlasanResign</th>\n",
       "      <th>resign</th>\n",
       "    </tr>\n",
       "  </thead>\n",
       "  <tbody>\n",
       "    <tr>\n",
       "      <th>0</th>\n",
       "      <td>Freshgraduate_program</td>\n",
       "      <td>Bagus</td>\n",
       "      <td>kejelasan_karir</td>\n",
       "      <td>1</td>\n",
       "    </tr>\n",
       "    <tr>\n",
       "      <th>1</th>\n",
       "      <td>Freshgraduate_program</td>\n",
       "      <td>Bagus</td>\n",
       "      <td>toxic_culture</td>\n",
       "      <td>1</td>\n",
       "    </tr>\n",
       "    <tr>\n",
       "      <th>2</th>\n",
       "      <td>Freshgraduate_program</td>\n",
       "      <td>Biasa</td>\n",
       "      <td>ganti_karir</td>\n",
       "      <td>2</td>\n",
       "    </tr>\n",
       "    <tr>\n",
       "      <th>3</th>\n",
       "      <td>Freshgraduate_program</td>\n",
       "      <td>Biasa</td>\n",
       "      <td>jam_kerja</td>\n",
       "      <td>1</td>\n",
       "    </tr>\n",
       "    <tr>\n",
       "      <th>4</th>\n",
       "      <td>Freshgraduate_program</td>\n",
       "      <td>Biasa</td>\n",
       "      <td>kejelasan_karir</td>\n",
       "      <td>1</td>\n",
       "    </tr>\n",
       "    <tr>\n",
       "      <th>5</th>\n",
       "      <td>Freshgraduate_program</td>\n",
       "      <td>Biasa</td>\n",
       "      <td>leadership</td>\n",
       "      <td>1</td>\n",
       "    </tr>\n",
       "    <tr>\n",
       "      <th>6</th>\n",
       "      <td>Freshgraduate_program</td>\n",
       "      <td>Biasa</td>\n",
       "      <td>tidak_bisa_remote</td>\n",
       "      <td>1</td>\n",
       "    </tr>\n",
       "    <tr>\n",
       "      <th>7</th>\n",
       "      <td>Freshgraduate_program</td>\n",
       "      <td>Kurang</td>\n",
       "      <td>ganti_karir</td>\n",
       "      <td>1</td>\n",
       "    </tr>\n",
       "    <tr>\n",
       "      <th>8</th>\n",
       "      <td>Freshgraduate_program</td>\n",
       "      <td>Kurang</td>\n",
       "      <td>jam_kerja</td>\n",
       "      <td>1</td>\n",
       "    </tr>\n",
       "    <tr>\n",
       "      <th>9</th>\n",
       "      <td>Freshgraduate_program</td>\n",
       "      <td>Kurang</td>\n",
       "      <td>tidak_bahagia</td>\n",
       "      <td>1</td>\n",
       "    </tr>\n",
       "    <tr>\n",
       "      <th>10</th>\n",
       "      <td>Freshgraduate_program</td>\n",
       "      <td>Sangat_bagus</td>\n",
       "      <td>leadership</td>\n",
       "      <td>1</td>\n",
       "    </tr>\n",
       "    <tr>\n",
       "      <th>11</th>\n",
       "      <td>Freshgraduate_program</td>\n",
       "      <td>Sangat_bagus</td>\n",
       "      <td>tidak_bahagia</td>\n",
       "      <td>1</td>\n",
       "    </tr>\n",
       "    <tr>\n",
       "      <th>12</th>\n",
       "      <td>Freshgraduate_program</td>\n",
       "      <td>Sangat_bagus</td>\n",
       "      <td>tidak_bisa_remote</td>\n",
       "      <td>2</td>\n",
       "    </tr>\n",
       "    <tr>\n",
       "      <th>13</th>\n",
       "      <td>Mid_level</td>\n",
       "      <td>Biasa</td>\n",
       "      <td>kejelasan_karir</td>\n",
       "      <td>1</td>\n",
       "    </tr>\n",
       "    <tr>\n",
       "      <th>14</th>\n",
       "      <td>Mid_level</td>\n",
       "      <td>Sangat_bagus</td>\n",
       "      <td>Lainnya</td>\n",
       "      <td>1</td>\n",
       "    </tr>\n",
       "    <tr>\n",
       "      <th>15</th>\n",
       "      <td>Mid_level</td>\n",
       "      <td>Sangat_bagus</td>\n",
       "      <td>ganti_karir</td>\n",
       "      <td>1</td>\n",
       "    </tr>\n",
       "    <tr>\n",
       "      <th>16</th>\n",
       "      <td>Mid_level</td>\n",
       "      <td>Sangat_bagus</td>\n",
       "      <td>internal_conflict</td>\n",
       "      <td>1</td>\n",
       "    </tr>\n",
       "    <tr>\n",
       "      <th>17</th>\n",
       "      <td>Mid_level</td>\n",
       "      <td>Sangat_bagus</td>\n",
       "      <td>jam_kerja</td>\n",
       "      <td>2</td>\n",
       "    </tr>\n",
       "    <tr>\n",
       "      <th>18</th>\n",
       "      <td>Mid_level</td>\n",
       "      <td>Sangat_kurang</td>\n",
       "      <td>jam_kerja</td>\n",
       "      <td>1</td>\n",
       "    </tr>\n",
       "    <tr>\n",
       "      <th>19</th>\n",
       "      <td>Senior_level</td>\n",
       "      <td>Bagus</td>\n",
       "      <td>tidak_bahagia</td>\n",
       "      <td>1</td>\n",
       "    </tr>\n",
       "    <tr>\n",
       "      <th>20</th>\n",
       "      <td>Senior_level</td>\n",
       "      <td>Biasa</td>\n",
       "      <td>internal_conflict</td>\n",
       "      <td>1</td>\n",
       "    </tr>\n",
       "    <tr>\n",
       "      <th>21</th>\n",
       "      <td>Senior_level</td>\n",
       "      <td>Biasa</td>\n",
       "      <td>kejelasan_karir</td>\n",
       "      <td>1</td>\n",
       "    </tr>\n",
       "    <tr>\n",
       "      <th>22</th>\n",
       "      <td>Senior_level</td>\n",
       "      <td>Sangat_bagus</td>\n",
       "      <td>tidak_bahagia</td>\n",
       "      <td>2</td>\n",
       "    </tr>\n",
       "    <tr>\n",
       "      <th>23</th>\n",
       "      <td>Senior_level</td>\n",
       "      <td>Sangat_kurang</td>\n",
       "      <td>jam_kerja</td>\n",
       "      <td>1</td>\n",
       "    </tr>\n",
       "  </tbody>\n",
       "</table>\n",
       "</div>"
      ],
      "text/plain": [
       "             JenjangKarir PerformancePegawai       AlasanResign  resign\n",
       "0   Freshgraduate_program              Bagus    kejelasan_karir       1\n",
       "1   Freshgraduate_program              Bagus      toxic_culture       1\n",
       "2   Freshgraduate_program              Biasa        ganti_karir       2\n",
       "3   Freshgraduate_program              Biasa          jam_kerja       1\n",
       "4   Freshgraduate_program              Biasa    kejelasan_karir       1\n",
       "5   Freshgraduate_program              Biasa         leadership       1\n",
       "6   Freshgraduate_program              Biasa  tidak_bisa_remote       1\n",
       "7   Freshgraduate_program             Kurang        ganti_karir       1\n",
       "8   Freshgraduate_program             Kurang          jam_kerja       1\n",
       "9   Freshgraduate_program             Kurang      tidak_bahagia       1\n",
       "10  Freshgraduate_program       Sangat_bagus         leadership       1\n",
       "11  Freshgraduate_program       Sangat_bagus      tidak_bahagia       1\n",
       "12  Freshgraduate_program       Sangat_bagus  tidak_bisa_remote       2\n",
       "13              Mid_level              Biasa    kejelasan_karir       1\n",
       "14              Mid_level       Sangat_bagus            Lainnya       1\n",
       "15              Mid_level       Sangat_bagus        ganti_karir       1\n",
       "16              Mid_level       Sangat_bagus  internal_conflict       1\n",
       "17              Mid_level       Sangat_bagus          jam_kerja       2\n",
       "18              Mid_level      Sangat_kurang          jam_kerja       1\n",
       "19           Senior_level              Bagus      tidak_bahagia       1\n",
       "20           Senior_level              Biasa  internal_conflict       1\n",
       "21           Senior_level              Biasa    kejelasan_karir       1\n",
       "22           Senior_level       Sangat_bagus      tidak_bahagia       2\n",
       "23           Senior_level      Sangat_kurang          jam_kerja       1"
      ]
     },
     "execution_count": 217,
     "metadata": {},
     "output_type": "execute_result"
    }
   ],
   "source": [
    "agg_all = divisi_resign_tertinggi.groupby(['JenjangKarir', 'PerformancePegawai', 'AlasanResign']).agg({'resign':'sum'}).reset_index()\n",
    "agg_all"
   ]
  },
  {
   "cell_type": "code",
   "execution_count": 223,
   "metadata": {},
   "outputs": [
    {
     "data": {
      "application/vnd.plotly.v1+json": {
       "config": {
        "plotlyServerURL": "https://plot.ly"
       },
       "data": [
        {
         "branchvalues": "total",
         "customdata": [
          [
           1
          ],
          [
           1
          ],
          [
           1
          ],
          [
           2
          ],
          [
           1
          ],
          [
           1
          ],
          [
           1
          ],
          [
           1
          ],
          [
           1
          ],
          [
           1
          ],
          [
           1
          ],
          [
           1
          ],
          [
           1
          ],
          [
           1
          ],
          [
           1
          ],
          [
           1
          ],
          [
           2
          ],
          [
           1
          ],
          [
           1
          ],
          [
           1
          ],
          [
           2
          ],
          [
           2
          ],
          [
           1
          ],
          [
           1
          ],
          [
           3
          ],
          [
           2
          ],
          [
           2
          ],
          [
           2
          ],
          [
           2
          ],
          [
           3
          ],
          [
           1
          ],
          [
           1
          ],
          [
           1
          ],
          [
           1
          ],
          [
           3
          ],
          [
           1
          ],
          [
           1
          ],
          [
           1
          ],
          [
           1
          ],
          [
           3
          ],
          [
           1
          ],
          [
           4
          ],
          [
           2
          ],
          [
           6
          ],
          [
           4
          ],
          [
           2
          ],
          [
           5
          ],
          [
           3
          ],
          [
           1
          ]
         ],
         "domain": {
          "x": [
           0,
           1
          ],
          "y": [
           0,
           1
          ]
         },
         "hovertemplate": "labels=%{label}<br>resign=%{customdata[0]}<br>parent=%{parent}<br>id=%{id}<extra></extra>",
         "ids": [
          "kejelasan_karir/Freshgraduate_program/Bagus",
          "toxic_culture/Freshgraduate_program/Bagus",
          "tidak_bahagia/Senior_level/Bagus",
          "ganti_karir/Freshgraduate_program/Biasa",
          "jam_kerja/Freshgraduate_program/Biasa",
          "kejelasan_karir/Freshgraduate_program/Biasa",
          "leadership/Freshgraduate_program/Biasa",
          "tidak_bisa_remote/Freshgraduate_program/Biasa",
          "kejelasan_karir/Mid_level/Biasa",
          "internal_conflict/Senior_level/Biasa",
          "kejelasan_karir/Senior_level/Biasa",
          "ganti_karir/Freshgraduate_program/Kurang",
          "jam_kerja/Freshgraduate_program/Kurang",
          "tidak_bahagia/Freshgraduate_program/Kurang",
          "leadership/Freshgraduate_program/Sangat_bagus",
          "tidak_bahagia/Freshgraduate_program/Sangat_bagus",
          "tidak_bisa_remote/Freshgraduate_program/Sangat_bagus",
          "Lainnya/Mid_level/Sangat_bagus",
          "ganti_karir/Mid_level/Sangat_bagus",
          "internal_conflict/Mid_level/Sangat_bagus",
          "jam_kerja/Mid_level/Sangat_bagus",
          "tidak_bahagia/Senior_level/Sangat_bagus",
          "jam_kerja/Mid_level/Sangat_kurang",
          "jam_kerja/Senior_level/Sangat_kurang",
          "ganti_karir/Freshgraduate_program",
          "jam_kerja/Freshgraduate_program",
          "kejelasan_karir/Freshgraduate_program",
          "leadership/Freshgraduate_program",
          "tidak_bahagia/Freshgraduate_program",
          "tidak_bisa_remote/Freshgraduate_program",
          "toxic_culture/Freshgraduate_program",
          "Lainnya/Mid_level",
          "ganti_karir/Mid_level",
          "internal_conflict/Mid_level",
          "jam_kerja/Mid_level",
          "kejelasan_karir/Mid_level",
          "internal_conflict/Senior_level",
          "jam_kerja/Senior_level",
          "kejelasan_karir/Senior_level",
          "tidak_bahagia/Senior_level",
          "Lainnya",
          "ganti_karir",
          "internal_conflict",
          "jam_kerja",
          "kejelasan_karir",
          "leadership",
          "tidak_bahagia",
          "tidak_bisa_remote",
          "toxic_culture"
         ],
         "labels": [
          "Bagus",
          "Bagus",
          "Bagus",
          "Biasa",
          "Biasa",
          "Biasa",
          "Biasa",
          "Biasa",
          "Biasa",
          "Biasa",
          "Biasa",
          "Kurang",
          "Kurang",
          "Kurang",
          "Sangat_bagus",
          "Sangat_bagus",
          "Sangat_bagus",
          "Sangat_bagus",
          "Sangat_bagus",
          "Sangat_bagus",
          "Sangat_bagus",
          "Sangat_bagus",
          "Sangat_kurang",
          "Sangat_kurang",
          "Freshgraduate_program",
          "Freshgraduate_program",
          "Freshgraduate_program",
          "Freshgraduate_program",
          "Freshgraduate_program",
          "Freshgraduate_program",
          "Freshgraduate_program",
          "Mid_level",
          "Mid_level",
          "Mid_level",
          "Mid_level",
          "Mid_level",
          "Senior_level",
          "Senior_level",
          "Senior_level",
          "Senior_level",
          "Lainnya",
          "ganti_karir",
          "internal_conflict",
          "jam_kerja",
          "kejelasan_karir",
          "leadership",
          "tidak_bahagia",
          "tidak_bisa_remote",
          "toxic_culture"
         ],
         "name": "",
         "parents": [
          "kejelasan_karir/Freshgraduate_program",
          "toxic_culture/Freshgraduate_program",
          "tidak_bahagia/Senior_level",
          "ganti_karir/Freshgraduate_program",
          "jam_kerja/Freshgraduate_program",
          "kejelasan_karir/Freshgraduate_program",
          "leadership/Freshgraduate_program",
          "tidak_bisa_remote/Freshgraduate_program",
          "kejelasan_karir/Mid_level",
          "internal_conflict/Senior_level",
          "kejelasan_karir/Senior_level",
          "ganti_karir/Freshgraduate_program",
          "jam_kerja/Freshgraduate_program",
          "tidak_bahagia/Freshgraduate_program",
          "leadership/Freshgraduate_program",
          "tidak_bahagia/Freshgraduate_program",
          "tidak_bisa_remote/Freshgraduate_program",
          "Lainnya/Mid_level",
          "ganti_karir/Mid_level",
          "internal_conflict/Mid_level",
          "jam_kerja/Mid_level",
          "tidak_bahagia/Senior_level",
          "jam_kerja/Mid_level",
          "jam_kerja/Senior_level",
          "ganti_karir",
          "jam_kerja",
          "kejelasan_karir",
          "leadership",
          "tidak_bahagia",
          "tidak_bisa_remote",
          "toxic_culture",
          "Lainnya",
          "ganti_karir",
          "internal_conflict",
          "jam_kerja",
          "kejelasan_karir",
          "internal_conflict",
          "jam_kerja",
          "kejelasan_karir",
          "tidak_bahagia",
          "",
          "",
          "",
          "",
          "",
          "",
          "",
          "",
          ""
         ],
         "type": "sunburst",
         "values": [
          1,
          1,
          1,
          2,
          1,
          1,
          1,
          1,
          1,
          1,
          1,
          1,
          1,
          1,
          1,
          1,
          2,
          1,
          1,
          1,
          2,
          2,
          1,
          1,
          3,
          2,
          2,
          2,
          2,
          3,
          1,
          1,
          1,
          1,
          3,
          1,
          1,
          1,
          1,
          3,
          1,
          4,
          2,
          6,
          4,
          2,
          5,
          3,
          1
         ]
        }
       ],
       "layout": {
        "height": 1000,
        "legend": {
         "tracegroupgap": 0
        },
        "template": {
         "data": {
          "bar": [
           {
            "error_x": {
             "color": "#f2f5fa"
            },
            "error_y": {
             "color": "#f2f5fa"
            },
            "marker": {
             "line": {
              "color": "rgb(17,17,17)",
              "width": 0.5
             },
             "pattern": {
              "fillmode": "overlay",
              "size": 10,
              "solidity": 0.2
             }
            },
            "type": "bar"
           }
          ],
          "barpolar": [
           {
            "marker": {
             "line": {
              "color": "rgb(17,17,17)",
              "width": 0.5
             },
             "pattern": {
              "fillmode": "overlay",
              "size": 10,
              "solidity": 0.2
             }
            },
            "type": "barpolar"
           }
          ],
          "carpet": [
           {
            "aaxis": {
             "endlinecolor": "#A2B1C6",
             "gridcolor": "#506784",
             "linecolor": "#506784",
             "minorgridcolor": "#506784",
             "startlinecolor": "#A2B1C6"
            },
            "baxis": {
             "endlinecolor": "#A2B1C6",
             "gridcolor": "#506784",
             "linecolor": "#506784",
             "minorgridcolor": "#506784",
             "startlinecolor": "#A2B1C6"
            },
            "type": "carpet"
           }
          ],
          "choropleth": [
           {
            "colorbar": {
             "outlinewidth": 0,
             "ticks": ""
            },
            "type": "choropleth"
           }
          ],
          "contour": [
           {
            "colorbar": {
             "outlinewidth": 0,
             "ticks": ""
            },
            "colorscale": [
             [
              0,
              "#0d0887"
             ],
             [
              0.1111111111111111,
              "#46039f"
             ],
             [
              0.2222222222222222,
              "#7201a8"
             ],
             [
              0.3333333333333333,
              "#9c179e"
             ],
             [
              0.4444444444444444,
              "#bd3786"
             ],
             [
              0.5555555555555556,
              "#d8576b"
             ],
             [
              0.6666666666666666,
              "#ed7953"
             ],
             [
              0.7777777777777778,
              "#fb9f3a"
             ],
             [
              0.8888888888888888,
              "#fdca26"
             ],
             [
              1,
              "#f0f921"
             ]
            ],
            "type": "contour"
           }
          ],
          "contourcarpet": [
           {
            "colorbar": {
             "outlinewidth": 0,
             "ticks": ""
            },
            "type": "contourcarpet"
           }
          ],
          "heatmap": [
           {
            "colorbar": {
             "outlinewidth": 0,
             "ticks": ""
            },
            "colorscale": [
             [
              0,
              "#0d0887"
             ],
             [
              0.1111111111111111,
              "#46039f"
             ],
             [
              0.2222222222222222,
              "#7201a8"
             ],
             [
              0.3333333333333333,
              "#9c179e"
             ],
             [
              0.4444444444444444,
              "#bd3786"
             ],
             [
              0.5555555555555556,
              "#d8576b"
             ],
             [
              0.6666666666666666,
              "#ed7953"
             ],
             [
              0.7777777777777778,
              "#fb9f3a"
             ],
             [
              0.8888888888888888,
              "#fdca26"
             ],
             [
              1,
              "#f0f921"
             ]
            ],
            "type": "heatmap"
           }
          ],
          "heatmapgl": [
           {
            "colorbar": {
             "outlinewidth": 0,
             "ticks": ""
            },
            "colorscale": [
             [
              0,
              "#0d0887"
             ],
             [
              0.1111111111111111,
              "#46039f"
             ],
             [
              0.2222222222222222,
              "#7201a8"
             ],
             [
              0.3333333333333333,
              "#9c179e"
             ],
             [
              0.4444444444444444,
              "#bd3786"
             ],
             [
              0.5555555555555556,
              "#d8576b"
             ],
             [
              0.6666666666666666,
              "#ed7953"
             ],
             [
              0.7777777777777778,
              "#fb9f3a"
             ],
             [
              0.8888888888888888,
              "#fdca26"
             ],
             [
              1,
              "#f0f921"
             ]
            ],
            "type": "heatmapgl"
           }
          ],
          "histogram": [
           {
            "marker": {
             "pattern": {
              "fillmode": "overlay",
              "size": 10,
              "solidity": 0.2
             }
            },
            "type": "histogram"
           }
          ],
          "histogram2d": [
           {
            "colorbar": {
             "outlinewidth": 0,
             "ticks": ""
            },
            "colorscale": [
             [
              0,
              "#0d0887"
             ],
             [
              0.1111111111111111,
              "#46039f"
             ],
             [
              0.2222222222222222,
              "#7201a8"
             ],
             [
              0.3333333333333333,
              "#9c179e"
             ],
             [
              0.4444444444444444,
              "#bd3786"
             ],
             [
              0.5555555555555556,
              "#d8576b"
             ],
             [
              0.6666666666666666,
              "#ed7953"
             ],
             [
              0.7777777777777778,
              "#fb9f3a"
             ],
             [
              0.8888888888888888,
              "#fdca26"
             ],
             [
              1,
              "#f0f921"
             ]
            ],
            "type": "histogram2d"
           }
          ],
          "histogram2dcontour": [
           {
            "colorbar": {
             "outlinewidth": 0,
             "ticks": ""
            },
            "colorscale": [
             [
              0,
              "#0d0887"
             ],
             [
              0.1111111111111111,
              "#46039f"
             ],
             [
              0.2222222222222222,
              "#7201a8"
             ],
             [
              0.3333333333333333,
              "#9c179e"
             ],
             [
              0.4444444444444444,
              "#bd3786"
             ],
             [
              0.5555555555555556,
              "#d8576b"
             ],
             [
              0.6666666666666666,
              "#ed7953"
             ],
             [
              0.7777777777777778,
              "#fb9f3a"
             ],
             [
              0.8888888888888888,
              "#fdca26"
             ],
             [
              1,
              "#f0f921"
             ]
            ],
            "type": "histogram2dcontour"
           }
          ],
          "mesh3d": [
           {
            "colorbar": {
             "outlinewidth": 0,
             "ticks": ""
            },
            "type": "mesh3d"
           }
          ],
          "parcoords": [
           {
            "line": {
             "colorbar": {
              "outlinewidth": 0,
              "ticks": ""
             }
            },
            "type": "parcoords"
           }
          ],
          "pie": [
           {
            "automargin": true,
            "type": "pie"
           }
          ],
          "scatter": [
           {
            "marker": {
             "line": {
              "color": "#283442"
             }
            },
            "type": "scatter"
           }
          ],
          "scatter3d": [
           {
            "line": {
             "colorbar": {
              "outlinewidth": 0,
              "ticks": ""
             }
            },
            "marker": {
             "colorbar": {
              "outlinewidth": 0,
              "ticks": ""
             }
            },
            "type": "scatter3d"
           }
          ],
          "scattercarpet": [
           {
            "marker": {
             "colorbar": {
              "outlinewidth": 0,
              "ticks": ""
             }
            },
            "type": "scattercarpet"
           }
          ],
          "scattergeo": [
           {
            "marker": {
             "colorbar": {
              "outlinewidth": 0,
              "ticks": ""
             }
            },
            "type": "scattergeo"
           }
          ],
          "scattergl": [
           {
            "marker": {
             "line": {
              "color": "#283442"
             }
            },
            "type": "scattergl"
           }
          ],
          "scattermapbox": [
           {
            "marker": {
             "colorbar": {
              "outlinewidth": 0,
              "ticks": ""
             }
            },
            "type": "scattermapbox"
           }
          ],
          "scatterpolar": [
           {
            "marker": {
             "colorbar": {
              "outlinewidth": 0,
              "ticks": ""
             }
            },
            "type": "scatterpolar"
           }
          ],
          "scatterpolargl": [
           {
            "marker": {
             "colorbar": {
              "outlinewidth": 0,
              "ticks": ""
             }
            },
            "type": "scatterpolargl"
           }
          ],
          "scatterternary": [
           {
            "marker": {
             "colorbar": {
              "outlinewidth": 0,
              "ticks": ""
             }
            },
            "type": "scatterternary"
           }
          ],
          "surface": [
           {
            "colorbar": {
             "outlinewidth": 0,
             "ticks": ""
            },
            "colorscale": [
             [
              0,
              "#0d0887"
             ],
             [
              0.1111111111111111,
              "#46039f"
             ],
             [
              0.2222222222222222,
              "#7201a8"
             ],
             [
              0.3333333333333333,
              "#9c179e"
             ],
             [
              0.4444444444444444,
              "#bd3786"
             ],
             [
              0.5555555555555556,
              "#d8576b"
             ],
             [
              0.6666666666666666,
              "#ed7953"
             ],
             [
              0.7777777777777778,
              "#fb9f3a"
             ],
             [
              0.8888888888888888,
              "#fdca26"
             ],
             [
              1,
              "#f0f921"
             ]
            ],
            "type": "surface"
           }
          ],
          "table": [
           {
            "cells": {
             "fill": {
              "color": "#506784"
             },
             "line": {
              "color": "rgb(17,17,17)"
             }
            },
            "header": {
             "fill": {
              "color": "#2a3f5f"
             },
             "line": {
              "color": "rgb(17,17,17)"
             }
            },
            "type": "table"
           }
          ]
         },
         "layout": {
          "annotationdefaults": {
           "arrowcolor": "#f2f5fa",
           "arrowhead": 0,
           "arrowwidth": 1
          },
          "autotypenumbers": "strict",
          "coloraxis": {
           "colorbar": {
            "outlinewidth": 0,
            "ticks": ""
           }
          },
          "colorscale": {
           "diverging": [
            [
             0,
             "#8e0152"
            ],
            [
             0.1,
             "#c51b7d"
            ],
            [
             0.2,
             "#de77ae"
            ],
            [
             0.3,
             "#f1b6da"
            ],
            [
             0.4,
             "#fde0ef"
            ],
            [
             0.5,
             "#f7f7f7"
            ],
            [
             0.6,
             "#e6f5d0"
            ],
            [
             0.7,
             "#b8e186"
            ],
            [
             0.8,
             "#7fbc41"
            ],
            [
             0.9,
             "#4d9221"
            ],
            [
             1,
             "#276419"
            ]
           ],
           "sequential": [
            [
             0,
             "#0d0887"
            ],
            [
             0.1111111111111111,
             "#46039f"
            ],
            [
             0.2222222222222222,
             "#7201a8"
            ],
            [
             0.3333333333333333,
             "#9c179e"
            ],
            [
             0.4444444444444444,
             "#bd3786"
            ],
            [
             0.5555555555555556,
             "#d8576b"
            ],
            [
             0.6666666666666666,
             "#ed7953"
            ],
            [
             0.7777777777777778,
             "#fb9f3a"
            ],
            [
             0.8888888888888888,
             "#fdca26"
            ],
            [
             1,
             "#f0f921"
            ]
           ],
           "sequentialminus": [
            [
             0,
             "#0d0887"
            ],
            [
             0.1111111111111111,
             "#46039f"
            ],
            [
             0.2222222222222222,
             "#7201a8"
            ],
            [
             0.3333333333333333,
             "#9c179e"
            ],
            [
             0.4444444444444444,
             "#bd3786"
            ],
            [
             0.5555555555555556,
             "#d8576b"
            ],
            [
             0.6666666666666666,
             "#ed7953"
            ],
            [
             0.7777777777777778,
             "#fb9f3a"
            ],
            [
             0.8888888888888888,
             "#fdca26"
            ],
            [
             1,
             "#f0f921"
            ]
           ]
          },
          "colorway": [
           "#636efa",
           "#EF553B",
           "#00cc96",
           "#ab63fa",
           "#FFA15A",
           "#19d3f3",
           "#FF6692",
           "#B6E880",
           "#FF97FF",
           "#FECB52"
          ],
          "font": {
           "color": "#f2f5fa"
          },
          "geo": {
           "bgcolor": "rgb(17,17,17)",
           "lakecolor": "rgb(17,17,17)",
           "landcolor": "rgb(17,17,17)",
           "showlakes": true,
           "showland": true,
           "subunitcolor": "#506784"
          },
          "hoverlabel": {
           "align": "left"
          },
          "hovermode": "closest",
          "mapbox": {
           "style": "dark"
          },
          "paper_bgcolor": "rgb(17,17,17)",
          "plot_bgcolor": "rgb(17,17,17)",
          "polar": {
           "angularaxis": {
            "gridcolor": "#506784",
            "linecolor": "#506784",
            "ticks": ""
           },
           "bgcolor": "rgb(17,17,17)",
           "radialaxis": {
            "gridcolor": "#506784",
            "linecolor": "#506784",
            "ticks": ""
           }
          },
          "scene": {
           "xaxis": {
            "backgroundcolor": "rgb(17,17,17)",
            "gridcolor": "#506784",
            "gridwidth": 2,
            "linecolor": "#506784",
            "showbackground": true,
            "ticks": "",
            "zerolinecolor": "#C8D4E3"
           },
           "yaxis": {
            "backgroundcolor": "rgb(17,17,17)",
            "gridcolor": "#506784",
            "gridwidth": 2,
            "linecolor": "#506784",
            "showbackground": true,
            "ticks": "",
            "zerolinecolor": "#C8D4E3"
           },
           "zaxis": {
            "backgroundcolor": "rgb(17,17,17)",
            "gridcolor": "#506784",
            "gridwidth": 2,
            "linecolor": "#506784",
            "showbackground": true,
            "ticks": "",
            "zerolinecolor": "#C8D4E3"
           }
          },
          "shapedefaults": {
           "line": {
            "color": "#f2f5fa"
           }
          },
          "sliderdefaults": {
           "bgcolor": "#C8D4E3",
           "bordercolor": "rgb(17,17,17)",
           "borderwidth": 1,
           "tickwidth": 0
          },
          "ternary": {
           "aaxis": {
            "gridcolor": "#506784",
            "linecolor": "#506784",
            "ticks": ""
           },
           "baxis": {
            "gridcolor": "#506784",
            "linecolor": "#506784",
            "ticks": ""
           },
           "bgcolor": "rgb(17,17,17)",
           "caxis": {
            "gridcolor": "#506784",
            "linecolor": "#506784",
            "ticks": ""
           }
          },
          "title": {
           "x": 0.05
          },
          "updatemenudefaults": {
           "bgcolor": "#506784",
           "borderwidth": 0
          },
          "xaxis": {
           "automargin": true,
           "gridcolor": "#283442",
           "linecolor": "#506784",
           "ticks": "",
           "title": {
            "standoff": 15
           },
           "zerolinecolor": "#283442",
           "zerolinewidth": 2
          },
          "yaxis": {
           "automargin": true,
           "gridcolor": "#283442",
           "linecolor": "#506784",
           "ticks": "",
           "title": {
            "standoff": 15
           },
           "zerolinecolor": "#283442",
           "zerolinewidth": 2
          }
         }
        },
        "title": {
         "text": "Alasan Resign Pada Divisi Software Engineer (Back End)"
        },
        "width": 1000
       }
      }
     },
     "metadata": {},
     "output_type": "display_data"
    }
   ],
   "source": [
    "fig = px.sunburst(agg_all.reset_index(), path=['AlasanResign','JenjangKarir', 'PerformancePegawai'], values='resign',\n",
    "                  hover_data=['resign'], template='plotly_dark', width=1000, height=1000,color_continuous_scale='PuRd',\n",
    "                  title='Alasan Resign Pada Divisi Software Engineer (Back End)')\n",
    "fig.show()"
   ]
  },
  {
   "attachments": {},
   "cell_type": "markdown",
   "metadata": {},
   "source": [
    "Dari Sunburst disamping bisa dilihat:\n",
    "1. Dua alasan resign paling umum yaitu jam kerja(6) dan tidak bahagia(5)\n",
    "2. Divisi ini paling banyak resign dari jenjang karir FG Program(15)\n",
    "3. Terlepas dari alasannya sebanyak 11 orang yang resign memiliki performa sangat bagus, biasanya hal tersebut tejadi karena kurangnya apresiasi company terhadap kinerja baiknya, namun tidak ditemukan adanya alasan perihal apresiasi."
   ]
  },
  {
   "attachments": {},
   "cell_type": "markdown",
   "metadata": {},
   "source": [
    "## Modelling and Evaluation"
   ]
  },
  {
   "attachments": {},
   "cell_type": "markdown",
   "metadata": {},
   "source": [
    "### Feature Encoding dan Scaling"
   ]
  },
  {
   "cell_type": "code",
   "execution_count": 230,
   "metadata": {},
   "outputs": [
    {
     "data": {
      "text/plain": [
       "StatusPernikahan       4\n",
       "JenisKelamin           2\n",
       "StatusKepegawaian      3\n",
       "Pekerjaan             14\n",
       "JenjangKarir           3\n",
       "PerformancePegawai     5\n",
       "AsalDaerah             5\n",
       "HiringPlatform         9\n",
       "TingkatPendidikan      3\n",
       "AlasanResign          11\n",
       "dtype: int64"
      ]
     },
     "execution_count": 230,
     "metadata": {},
     "output_type": "execute_result"
    }
   ],
   "source": [
    "data_pre.select_dtypes(include='object').nunique()"
   ]
  },
  {
   "cell_type": "code",
   "execution_count": 234,
   "metadata": {},
   "outputs": [
    {
     "name": "stdout",
     "output_type": "stream",
     "text": [
      "Value count feature StatusPernikahan:\n",
      "Belum_menikah    131\n",
      "Menikah           56\n",
      "Lainnya           51\n",
      "Bercerai          47\n",
      "Name: StatusPernikahan, dtype: int64\n",
      "\n",
      "Value count feature JenisKelamin:\n",
      "Wanita    165\n",
      "Pria      120\n",
      "Name: JenisKelamin, dtype: int64\n",
      "\n",
      "Value count feature StatusKepegawaian:\n",
      "FullTime      215\n",
      "Outsource      66\n",
      "Internship      4\n",
      "Name: StatusKepegawaian, dtype: int64\n",
      "\n",
      "Value count feature Pekerjaan:\n",
      "Software Engineer (Back End)      109\n",
      "Software Engineer (Front End)      71\n",
      "Software Engineer (Android)        24\n",
      "Product Design (UI & UX)           24\n",
      "Product Manager                    17\n",
      "Data Analyst                       15\n",
      "Data Engineer                      10\n",
      "Scrum Master                        3\n",
      "Software Engineer (iOS)             3\n",
      "DevOps Engineer                     3\n",
      "Digital Product Manager             2\n",
      "Machine Learning Engineer           2\n",
      "Product Design (UX Researcher)      1\n",
      "Software Architect                  1\n",
      "Name: Pekerjaan, dtype: int64\n",
      "\n",
      "Value count feature JenjangKarir:\n",
      "Freshgraduate_program    168\n",
      "Mid_level                 69\n",
      "Senior_level              48\n",
      "Name: JenjangKarir, dtype: int64\n",
      "\n",
      "Value count feature PerformancePegawai:\n",
      "Biasa            84\n",
      "Bagus            74\n",
      "Sangat_bagus     72\n",
      "Kurang           31\n",
      "Sangat_kurang    24\n",
      "Name: PerformancePegawai, dtype: int64\n",
      "\n",
      "Value count feature AsalDaerah:\n",
      "Jakarta Pusat      71\n",
      "Jakarta Timur      62\n",
      "Jakarta Barat      55\n",
      "Jakarta Utara      52\n",
      "Jakarta Selatan    45\n",
      "Name: AsalDaerah, dtype: int64\n",
      "\n",
      "Value count feature HiringPlatform:\n",
      "Indeed                     84\n",
      "LinkedIn                   69\n",
      "Google_Search              46\n",
      "Diversity_Job_Fair         27\n",
      "Employee_Referral          24\n",
      "CareerBuilder              21\n",
      "Website                    11\n",
      "Other                       2\n",
      "On-line_Web_application     1\n",
      "Name: HiringPlatform, dtype: int64\n",
      "\n",
      "Value count feature TingkatPendidikan:\n",
      "Sarjana     174\n",
      "Magister     87\n",
      "Doktor       24\n",
      "Name: TingkatPendidikan, dtype: int64\n",
      "\n",
      "Value count feature AlasanResign:\n",
      "masih_bekerja        198\n",
      "jam_kerja             16\n",
      "ganti_karir           14\n",
      "kejelasan_karir       11\n",
      "tidak_bisa_remote     11\n",
      "toxic_culture          9\n",
      "tidak_bahagia          8\n",
      "leadership             8\n",
      "internal_conflict      4\n",
      "Lainnya                4\n",
      "apresiasi              2\n",
      "Name: AlasanResign, dtype: int64\n",
      "\n"
     ]
    }
   ],
   "source": [
    "objects1 = data_pre.dtypes[data_pre.dtypes == \"object\"].index\n",
    "for col in objects1:\n",
    "    print(f'''Value count feature {col}:''')\n",
    "    print(data_pre[col].value_counts())\n",
    "    print()"
   ]
  },
  {
   "attachments": {},
   "cell_type": "markdown",
   "metadata": {},
   "source": [
    "#### One Hot Encoding"
   ]
  },
  {
   "cell_type": "code",
   "execution_count": 236,
   "metadata": {},
   "outputs": [],
   "source": [
    "to_onehot = ['StatusPernikahan', 'StatusKepegawaian','Pekerjaan','AsalDaerah','HiringPlatform','AlasanResign']\n",
    "for onehot in to_onehot:\n",
    "    onehots = pd.get_dummies(data_pre[onehot], prefix=onehot)\n",
    "    data_pre = data_pre.join(onehots)\n",
    "# Drop feature yang sudah di encode\n",
    "data_pre = data_pre.drop(columns=to_onehot).copy()"
   ]
  },
  {
   "cell_type": "code",
   "execution_count": 238,
   "metadata": {},
   "outputs": [
    {
     "data": {
      "text/html": [
       "<div>\n",
       "<style scoped>\n",
       "    .dataframe tbody tr th:only-of-type {\n",
       "        vertical-align: middle;\n",
       "    }\n",
       "\n",
       "    .dataframe tbody tr th {\n",
       "        vertical-align: top;\n",
       "    }\n",
       "\n",
       "    .dataframe thead th {\n",
       "        text-align: right;\n",
       "    }\n",
       "</style>\n",
       "<table border=\"1\" class=\"dataframe\">\n",
       "  <thead>\n",
       "    <tr style=\"text-align: right;\">\n",
       "      <th></th>\n",
       "      <th>JenisKelamin</th>\n",
       "      <th>JenjangKarir</th>\n",
       "      <th>PerformancePegawai</th>\n",
       "      <th>SkorSurveyEngagement</th>\n",
       "      <th>SkorKepuasanPegawai</th>\n",
       "      <th>JumlahKeikutsertaanProjek</th>\n",
       "      <th>JumlahKeterlambatanSebulanTerakhir</th>\n",
       "      <th>JumlahKetidakhadiran</th>\n",
       "      <th>TingkatPendidikan</th>\n",
       "      <th>TanggalLahir</th>\n",
       "      <th>TanggalHiring</th>\n",
       "      <th>TanggalResign</th>\n",
       "      <th>resign</th>\n",
       "      <th>umur</th>\n",
       "      <th>LamaBekerja</th>\n",
       "      <th>StatusPernikahan_Belum_menikah</th>\n",
       "      <th>StatusPernikahan_Bercerai</th>\n",
       "      <th>StatusPernikahan_Lainnya</th>\n",
       "      <th>StatusPernikahan_Menikah</th>\n",
       "      <th>StatusKepegawaian_FullTime</th>\n",
       "      <th>StatusKepegawaian_Internship</th>\n",
       "      <th>StatusKepegawaian_Outsource</th>\n",
       "      <th>Pekerjaan_Data Analyst</th>\n",
       "      <th>Pekerjaan_Data Engineer</th>\n",
       "      <th>Pekerjaan_DevOps Engineer</th>\n",
       "      <th>Pekerjaan_Digital Product Manager</th>\n",
       "      <th>Pekerjaan_Machine Learning Engineer</th>\n",
       "      <th>Pekerjaan_Product Design (UI &amp; UX)</th>\n",
       "      <th>Pekerjaan_Product Design (UX Researcher)</th>\n",
       "      <th>Pekerjaan_Product Manager</th>\n",
       "      <th>Pekerjaan_Scrum Master</th>\n",
       "      <th>Pekerjaan_Software Architect</th>\n",
       "      <th>Pekerjaan_Software Engineer (Android)</th>\n",
       "      <th>Pekerjaan_Software Engineer (Back End)</th>\n",
       "      <th>Pekerjaan_Software Engineer (Front End)</th>\n",
       "      <th>Pekerjaan_Software Engineer (iOS)</th>\n",
       "      <th>AsalDaerah_Jakarta Barat</th>\n",
       "      <th>AsalDaerah_Jakarta Pusat</th>\n",
       "      <th>AsalDaerah_Jakarta Selatan</th>\n",
       "      <th>AsalDaerah_Jakarta Timur</th>\n",
       "      <th>AsalDaerah_Jakarta Utara</th>\n",
       "      <th>HiringPlatform_CareerBuilder</th>\n",
       "      <th>HiringPlatform_Diversity_Job_Fair</th>\n",
       "      <th>HiringPlatform_Employee_Referral</th>\n",
       "      <th>HiringPlatform_Google_Search</th>\n",
       "      <th>HiringPlatform_Indeed</th>\n",
       "      <th>HiringPlatform_LinkedIn</th>\n",
       "      <th>HiringPlatform_On-line_Web_application</th>\n",
       "      <th>HiringPlatform_Other</th>\n",
       "      <th>HiringPlatform_Website</th>\n",
       "      <th>AlasanResign_Lainnya</th>\n",
       "      <th>AlasanResign_apresiasi</th>\n",
       "      <th>AlasanResign_ganti_karir</th>\n",
       "      <th>AlasanResign_internal_conflict</th>\n",
       "      <th>AlasanResign_jam_kerja</th>\n",
       "      <th>AlasanResign_kejelasan_karir</th>\n",
       "      <th>AlasanResign_leadership</th>\n",
       "      <th>AlasanResign_masih_bekerja</th>\n",
       "      <th>AlasanResign_tidak_bahagia</th>\n",
       "      <th>AlasanResign_tidak_bisa_remote</th>\n",
       "      <th>AlasanResign_toxic_culture</th>\n",
       "    </tr>\n",
       "  </thead>\n",
       "  <tbody>\n",
       "    <tr>\n",
       "      <th>163</th>\n",
       "      <td>Pria</td>\n",
       "      <td>Freshgraduate_program</td>\n",
       "      <td>Bagus</td>\n",
       "      <td>4</td>\n",
       "      <td>3.0</td>\n",
       "      <td>0.0</td>\n",
       "      <td>0.0</td>\n",
       "      <td>14.0</td>\n",
       "      <td>Sarjana</td>\n",
       "      <td>1983-02-02</td>\n",
       "      <td>2014-03-31</td>\n",
       "      <td>2020-08-19</td>\n",
       "      <td>1</td>\n",
       "      <td>38.0</td>\n",
       "      <td>6.0</td>\n",
       "      <td>0</td>\n",
       "      <td>1</td>\n",
       "      <td>0</td>\n",
       "      <td>0</td>\n",
       "      <td>0</td>\n",
       "      <td>0</td>\n",
       "      <td>1</td>\n",
       "      <td>0</td>\n",
       "      <td>0</td>\n",
       "      <td>0</td>\n",
       "      <td>0</td>\n",
       "      <td>0</td>\n",
       "      <td>0</td>\n",
       "      <td>0</td>\n",
       "      <td>0</td>\n",
       "      <td>0</td>\n",
       "      <td>0</td>\n",
       "      <td>0</td>\n",
       "      <td>0</td>\n",
       "      <td>1</td>\n",
       "      <td>0</td>\n",
       "      <td>0</td>\n",
       "      <td>0</td>\n",
       "      <td>0</td>\n",
       "      <td>0</td>\n",
       "      <td>1</td>\n",
       "      <td>0</td>\n",
       "      <td>0</td>\n",
       "      <td>0</td>\n",
       "      <td>0</td>\n",
       "      <td>0</td>\n",
       "      <td>1</td>\n",
       "      <td>0</td>\n",
       "      <td>0</td>\n",
       "      <td>0</td>\n",
       "      <td>0</td>\n",
       "      <td>0</td>\n",
       "      <td>0</td>\n",
       "      <td>0</td>\n",
       "      <td>0</td>\n",
       "      <td>0</td>\n",
       "      <td>0</td>\n",
       "      <td>0</td>\n",
       "      <td>0</td>\n",
       "      <td>1</td>\n",
       "      <td>0</td>\n",
       "    </tr>\n",
       "  </tbody>\n",
       "</table>\n",
       "</div>"
      ],
      "text/plain": [
       "    JenisKelamin           JenjangKarir PerformancePegawai  \\\n",
       "163         Pria  Freshgraduate_program              Bagus   \n",
       "\n",
       "     SkorSurveyEngagement  SkorKepuasanPegawai  JumlahKeikutsertaanProjek  \\\n",
       "163                     4                  3.0                        0.0   \n",
       "\n",
       "     JumlahKeterlambatanSebulanTerakhir  JumlahKetidakhadiran  \\\n",
       "163                                 0.0                  14.0   \n",
       "\n",
       "    TingkatPendidikan TanggalLahir TanggalHiring TanggalResign  resign  umur  \\\n",
       "163           Sarjana   1983-02-02    2014-03-31    2020-08-19       1  38.0   \n",
       "\n",
       "     LamaBekerja  StatusPernikahan_Belum_menikah  StatusPernikahan_Bercerai  \\\n",
       "163          6.0                               0                          1   \n",
       "\n",
       "     StatusPernikahan_Lainnya  StatusPernikahan_Menikah  \\\n",
       "163                         0                         0   \n",
       "\n",
       "     StatusKepegawaian_FullTime  StatusKepegawaian_Internship  \\\n",
       "163                           0                             0   \n",
       "\n",
       "     StatusKepegawaian_Outsource  Pekerjaan_Data Analyst  \\\n",
       "163                            1                       0   \n",
       "\n",
       "     Pekerjaan_Data Engineer  Pekerjaan_DevOps Engineer  \\\n",
       "163                        0                          0   \n",
       "\n",
       "     Pekerjaan_Digital Product Manager  Pekerjaan_Machine Learning Engineer  \\\n",
       "163                                  0                                    0   \n",
       "\n",
       "     Pekerjaan_Product Design (UI & UX)  \\\n",
       "163                                   0   \n",
       "\n",
       "     Pekerjaan_Product Design (UX Researcher)  Pekerjaan_Product Manager  \\\n",
       "163                                         0                          0   \n",
       "\n",
       "     Pekerjaan_Scrum Master  Pekerjaan_Software Architect  \\\n",
       "163                       0                             0   \n",
       "\n",
       "     Pekerjaan_Software Engineer (Android)  \\\n",
       "163                                      0   \n",
       "\n",
       "     Pekerjaan_Software Engineer (Back End)  \\\n",
       "163                                       0   \n",
       "\n",
       "     Pekerjaan_Software Engineer (Front End)  \\\n",
       "163                                        1   \n",
       "\n",
       "     Pekerjaan_Software Engineer (iOS)  AsalDaerah_Jakarta Barat  \\\n",
       "163                                  0                         0   \n",
       "\n",
       "     AsalDaerah_Jakarta Pusat  AsalDaerah_Jakarta Selatan  \\\n",
       "163                         0                           0   \n",
       "\n",
       "     AsalDaerah_Jakarta Timur  AsalDaerah_Jakarta Utara  \\\n",
       "163                         0                         1   \n",
       "\n",
       "     HiringPlatform_CareerBuilder  HiringPlatform_Diversity_Job_Fair  \\\n",
       "163                             0                                  0   \n",
       "\n",
       "     HiringPlatform_Employee_Referral  HiringPlatform_Google_Search  \\\n",
       "163                                 0                             0   \n",
       "\n",
       "     HiringPlatform_Indeed  HiringPlatform_LinkedIn  \\\n",
       "163                      0                        1   \n",
       "\n",
       "     HiringPlatform_On-line_Web_application  HiringPlatform_Other  \\\n",
       "163                                       0                     0   \n",
       "\n",
       "     HiringPlatform_Website  AlasanResign_Lainnya  AlasanResign_apresiasi  \\\n",
       "163                       0                     0                       0   \n",
       "\n",
       "     AlasanResign_ganti_karir  AlasanResign_internal_conflict  \\\n",
       "163                         0                               0   \n",
       "\n",
       "     AlasanResign_jam_kerja  AlasanResign_kejelasan_karir  \\\n",
       "163                       0                             0   \n",
       "\n",
       "     AlasanResign_leadership  AlasanResign_masih_bekerja  \\\n",
       "163                        0                           0   \n",
       "\n",
       "     AlasanResign_tidak_bahagia  AlasanResign_tidak_bisa_remote  \\\n",
       "163                           0                               1   \n",
       "\n",
       "     AlasanResign_toxic_culture  \n",
       "163                           0  "
      ]
     },
     "execution_count": 238,
     "metadata": {},
     "output_type": "execute_result"
    }
   ],
   "source": [
    "data_pre.sample(1)"
   ]
  },
  {
   "attachments": {},
   "cell_type": "markdown",
   "metadata": {},
   "source": [
    "#### Label Encoding"
   ]
  },
  {
   "cell_type": "code",
   "execution_count": 237,
   "metadata": {},
   "outputs": [],
   "source": [
    "from sklearn.preprocessing import LabelEncoder"
   ]
  },
  {
   "cell_type": "code",
   "execution_count": 239,
   "metadata": {},
   "outputs": [],
   "source": [
    "# Label Encoding dengan LabelEncoder\n",
    "le = LabelEncoder()\n",
    "to_label = ['TingkatPendidikan', 'JenisKelamin','JenjangKarir']\n",
    "for label in to_label:\n",
    "    data_pre[label]=data_pre[[label]].apply(le.fit_transform)"
   ]
  },
  {
   "cell_type": "code",
   "execution_count": 241,
   "metadata": {},
   "outputs": [
    {
     "data": {
      "text/plain": [
       "Biasa            84\n",
       "Bagus            74\n",
       "Sangat_bagus     72\n",
       "Kurang           31\n",
       "Sangat_kurang    24\n",
       "Name: PerformancePegawai, dtype: int64"
      ]
     },
     "execution_count": 241,
     "metadata": {},
     "output_type": "execute_result"
    }
   ],
   "source": [
    "data_pre['PerformancePegawai'].value_counts()"
   ]
  },
  {
   "cell_type": "code",
   "execution_count": 242,
   "metadata": {},
   "outputs": [],
   "source": [
    "# Label Encoding dengan replace\n",
    "data_pre['PerformancePegawai'] = data_pre['PerformancePegawai'].replace({'Sangat_kurang':0,\n",
    "                                                                         'Kurang':1,\n",
    "                                                                         'Biasa':2,\n",
    "                                                                         'Bagus':3,\n",
    "                                                                         'Sangat_bagus':4})"
   ]
  },
  {
   "cell_type": "code",
   "execution_count": 244,
   "metadata": {},
   "outputs": [],
   "source": [
    "data_pre = data_pre.drop(columns=['TanggalLahir','TanggalHiring','TanggalResign'])"
   ]
  },
  {
   "cell_type": "code",
   "execution_count": 245,
   "metadata": {},
   "outputs": [
    {
     "data": {
      "application/vnd.plotly.v1+json": {
       "config": {
        "plotlyServerURL": "https://plot.ly"
       },
       "data": [
        {
         "coloraxis": "coloraxis",
         "hovertemplate": "x: %{x}<br>y: %{y}<br>color: %{z}<extra></extra>",
         "name": "0",
         "texttemplate": "%{z:.2f}",
         "type": "heatmap",
         "x": [
          "JenisKelamin",
          "JenjangKarir",
          "PerformancePegawai",
          "SkorSurveyEngagement",
          "SkorKepuasanPegawai",
          "JumlahKeikutsertaanProjek",
          "JumlahKeterlambatanSebulanTerakhir",
          "JumlahKetidakhadiran",
          "TingkatPendidikan",
          "resign",
          "umur",
          "LamaBekerja",
          "StatusPernikahan_Belum_menikah",
          "StatusPernikahan_Bercerai",
          "StatusPernikahan_Lainnya",
          "StatusPernikahan_Menikah",
          "StatusKepegawaian_FullTime",
          "StatusKepegawaian_Internship",
          "StatusKepegawaian_Outsource",
          "Pekerjaan_Data Analyst",
          "Pekerjaan_Data Engineer",
          "Pekerjaan_DevOps Engineer",
          "Pekerjaan_Digital Product Manager",
          "Pekerjaan_Machine Learning Engineer",
          "Pekerjaan_Product Design (UI & UX)",
          "Pekerjaan_Product Design (UX Researcher)",
          "Pekerjaan_Product Manager",
          "Pekerjaan_Scrum Master",
          "Pekerjaan_Software Architect",
          "Pekerjaan_Software Engineer (Android)",
          "Pekerjaan_Software Engineer (Back End)",
          "Pekerjaan_Software Engineer (Front End)",
          "Pekerjaan_Software Engineer (iOS)",
          "AsalDaerah_Jakarta Barat",
          "AsalDaerah_Jakarta Pusat",
          "AsalDaerah_Jakarta Selatan",
          "AsalDaerah_Jakarta Timur",
          "AsalDaerah_Jakarta Utara",
          "HiringPlatform_CareerBuilder",
          "HiringPlatform_Diversity_Job_Fair",
          "HiringPlatform_Employee_Referral",
          "HiringPlatform_Google_Search",
          "HiringPlatform_Indeed",
          "HiringPlatform_LinkedIn",
          "HiringPlatform_On-line_Web_application",
          "HiringPlatform_Other",
          "HiringPlatform_Website",
          "AlasanResign_Lainnya",
          "AlasanResign_apresiasi",
          "AlasanResign_ganti_karir",
          "AlasanResign_internal_conflict",
          "AlasanResign_jam_kerja",
          "AlasanResign_kejelasan_karir",
          "AlasanResign_leadership",
          "AlasanResign_masih_bekerja",
          "AlasanResign_tidak_bahagia",
          "AlasanResign_tidak_bisa_remote",
          "AlasanResign_toxic_culture"
         ],
         "xaxis": "x",
         "y": [
          "JenisKelamin",
          "JenjangKarir",
          "PerformancePegawai",
          "SkorSurveyEngagement",
          "SkorKepuasanPegawai",
          "JumlahKeikutsertaanProjek",
          "JumlahKeterlambatanSebulanTerakhir",
          "JumlahKetidakhadiran",
          "TingkatPendidikan",
          "resign",
          "umur",
          "LamaBekerja",
          "StatusPernikahan_Belum_menikah",
          "StatusPernikahan_Bercerai",
          "StatusPernikahan_Lainnya",
          "StatusPernikahan_Menikah",
          "StatusKepegawaian_FullTime",
          "StatusKepegawaian_Internship",
          "StatusKepegawaian_Outsource",
          "Pekerjaan_Data Analyst",
          "Pekerjaan_Data Engineer",
          "Pekerjaan_DevOps Engineer",
          "Pekerjaan_Digital Product Manager",
          "Pekerjaan_Machine Learning Engineer",
          "Pekerjaan_Product Design (UI & UX)",
          "Pekerjaan_Product Design (UX Researcher)",
          "Pekerjaan_Product Manager",
          "Pekerjaan_Scrum Master",
          "Pekerjaan_Software Architect",
          "Pekerjaan_Software Engineer (Android)",
          "Pekerjaan_Software Engineer (Back End)",
          "Pekerjaan_Software Engineer (Front End)",
          "Pekerjaan_Software Engineer (iOS)",
          "AsalDaerah_Jakarta Barat",
          "AsalDaerah_Jakarta Pusat",
          "AsalDaerah_Jakarta Selatan",
          "AsalDaerah_Jakarta Timur",
          "AsalDaerah_Jakarta Utara",
          "HiringPlatform_CareerBuilder",
          "HiringPlatform_Diversity_Job_Fair",
          "HiringPlatform_Employee_Referral",
          "HiringPlatform_Google_Search",
          "HiringPlatform_Indeed",
          "HiringPlatform_LinkedIn",
          "HiringPlatform_On-line_Web_application",
          "HiringPlatform_Other",
          "HiringPlatform_Website",
          "AlasanResign_Lainnya",
          "AlasanResign_apresiasi",
          "AlasanResign_ganti_karir",
          "AlasanResign_internal_conflict",
          "AlasanResign_jam_kerja",
          "AlasanResign_kejelasan_karir",
          "AlasanResign_leadership",
          "AlasanResign_masih_bekerja",
          "AlasanResign_tidak_bahagia",
          "AlasanResign_tidak_bisa_remote",
          "AlasanResign_toxic_culture"
         ],
         "yaxis": "y",
         "z": [
          [
           1,
           0.10701095979492488,
           -0.026152147712115072,
           0.07127158963048,
           0.09310120896071122,
           -0.09066790071832602,
           -0.12440680457131505,
           0.0069539159151458035,
           0.0017361529748723245,
           -0.02111736811044146,
           0.027228127212302288,
           0.0274845277426717,
           -0.09756768666920165,
           0.015118632675603065,
           0.08294392310286743,
           0.02824022574116741,
           -0.09036988991874631,
           -0.01907773266226458,
           0.09753428933010881,
           0.01005037815259212,
           0.008131156281817481,
           0.01832497904723098,
           0.07169195623289859,
           -0.013442241793668479,
           0.028284733042791606,
           -0.06958124241327293,
           -0.08528262628973884,
           0.01832497904723093,
           0.05060453993692579,
           -0.04848811378764273,
           0.027707132515033473,
           -0.0017296275672219676,
           0.01832497904723098,
           -0.05118081072310025,
           -0.05102401323304898,
           0.07693218186208299,
           0.07071393261516573,
           -0.03873816306266102,
           0.050108926345920304,
           -0.06386117914884762,
           -0.15085190956155517,
           0.0650669982200157,
           -0.009844694376453161,
           0.08382594846159087,
           -0.06958124241327289,
           -0.013442241793668482,
           -0.01359205364549393,
           0.04133508743490664,
           0.07169195623289867,
           -0.03634371309294212,
           0.041335087434906645,
           0.022748384922003782,
           -0.08737748772103236,
           0.058877198050509935,
           0.021117368110441476,
           0.015851553321291154,
           -0.12427020475880161,
           0.03208293764620912
          ],
          [
           0.10701095979492488,
           1,
           -0.04724789644571423,
           0.029625465952531394,
           0.06475093578932371,
           -0.04054946748885295,
           -0.01197745436983106,
           -0.017226147769073923,
           -0.02737381268662399,
           0.036312924788624704,
           0.03059511177509096,
           -0.005526860303045169,
           0.047657848054281825,
           0.009796212840790018,
           -0.09041643545265095,
           0.01829843134418221,
           0.037723407374931614,
           0.02678332908758606,
           -0.04596214861268625,
           -0.0553537471158232,
           -0.06980939649503275,
           -0.03324659821587244,
           -0.06387322228713603,
           -0.06387322228713602,
           -0.1309090723524608,
           -0.045085602318189526,
           0.06139934717068206,
           -0.033246598215872426,
           0.03278952895868328,
           0.05149090179196784,
           0.08427940920872108,
           0.020173014494931234,
           0.011873785077097273,
           0.14186363314194025,
           -0.06500193559477814,
           0.08773369374312068,
           -0.06579215430929941,
           -0.0847146453425376,
           -0.10853719953983348,
           -0.05710336701395837,
           0.0514909017919679,
           0.004611312287686811,
           0.12492074090731173,
           -0.06393392737579848,
           -0.04508560231818952,
           0.04645325257246252,
           -0.008807056386094955,
           0.02678332908758608,
           -0.06387322228713606,
           -0.002242774931924382,
           0.02678332908758609,
           0.03474418824599805,
           0.0390026782812777,
           -0.0454863592047256,
           -0.03631292478862466,
           0.12178605851587815,
           -0.08052165838715396,
           0.020788340618079163
          ],
          [
           -0.026152147712115072,
           -0.04724789644571423,
           1,
           -0.010959182983397068,
           0.08719391944408914,
           0.007671401075195096,
           0.007809134509596016,
           0.10204545460968531,
           0.06627934508806566,
           0.028631792218325326,
           -0.07494434206668676,
           0.0029765924602598525,
           0.07012594422667437,
           -0.007177085366678671,
           -0.14211446957162135,
           0.05584192664536896,
           0.01435130373150446,
           0.0748111605009117,
           -0.03550617749047579,
           0.11224770301804834,
           0.033298049812096546,
           -0.0979403703829261,
           -0.06830145417923511,
           0.03542455527590869,
           -0.0489026815703114,
           0.025004804114759843,
           0.03301073646942748,
           -0.0696597163209868,
           0.07381555187302374,
           -0.12165499307871676,
           -0.012836330788263024,
           0.055868131823626994,
           0.043462899926769626,
           -0.027971194045237905,
           -0.010864548686572802,
           -0.10248121349946321,
           0.09626958152325038,
           0.034664232882895864,
           0.08570514671278709,
           0.0476180905037415,
           -0.028116306853624283,
           0.027966982621663444,
           -0.1137488134287406,
           0.042767800625783996,
           -0.12142743916003222,
           0.06999989176095668,
           -0.020450679767375884,
           0.0993464663038575,
           0.035424555275908876,
           -0.07783066480834125,
           0.05027585469796608,
           -0.12291928952487409,
           -0.02045067976737597,
           0.036664526175432754,
           -0.028631792218325337,
           0.036664526175433,
           0.1443639245275425,
           0.010076349517988055
          ],
          [
           0.07127158963048,
           0.029625465952531394,
           -0.010959182983397068,
           1,
           0.07014544262012676,
           -0.011565241243045676,
           -0.49867368248667543,
           0.0014495887602438355,
           -0.06642961206491413,
           -0.038734213008959906,
           0.05964149560754429,
           0.027429585784364982,
           -0.028776032398513767,
           -0.050452753325875434,
           0.08960879068003058,
           -0.0032304881703185784,
           -0.06221126559505912,
           -0.01354569388730655,
           0.06725830466455986,
           0.14272067684014286,
           -0.09020836940276722,
           -0.011710097051546953,
           0.04082859370489184,
           -0.009544346580364472,
           0.10184902959450412,
           -0.006736979893934931,
           -0.028594432710451714,
           -0.011710097051546797,
           0.06437558565315689,
           0.10184902959450408,
           -0.08069489314197889,
           -0.03622839654965104,
           -0.13531667704009756,
           0.019067140661295775,
           -0.13345149463487302,
           -0.01456636808345843,
           0.03186325101250784,
           0.10967666023120314,
           0.04845474742862442,
           -0.05108658556359677,
           0.010997782538373684,
           0.06448650429386746,
           -0.05494911109185069,
           -0.024902762887296877,
           0.06437558565315693,
           0.04082859370489176,
           0.02090988672618362,
           -0.013545693887306389,
           0.04082859370489187,
           -0.1425418818693472,
           -0.013545693887306377,
           0.008845117614966204,
           -0.0009191159000522249,
           -0.04475210880647323,
           0.03873421300896002,
           -0.07020989525326886,
           0.042738889352419346,
           0.12376988151387693
          ],
          [
           0.09310120896071122,
           0.06475093578932371,
           0.08719391944408914,
           0.07014544262012676,
           1,
           0.04037139255602814,
           -0.20356107909814838,
           0.060050699877945195,
           -0.10846592327666071,
           -0.02898102694894554,
           -0.046032456195812387,
           0.006646946552025277,
           -0.04639011441571673,
           -0.003762196649577697,
           0.06361827184223619,
           0.000327550165350717,
           0.04466650871423675,
           -0.038824068232769515,
           -0.03475154950402115,
           0.006358440723833228,
           -0.025399644679322757,
           -0.05008359071457742,
           0.013039967358335416,
           0.09383106946976132,
           -0.08653283680095544,
           -0.04782286862485564,
           -0.0748370824748901,
           0.015998924811601062,
           0.00920440149265008,
           0.02275161735682426,
           0.08043912694562297,
           -0.012009511759041296,
           0.015998924811601173,
           -0.018138735352650245,
           0.050363351135296205,
           0.0764145264781417,
           -0.0326355456519475,
           -0.07514754694404284,
           -0.046601581613148674,
           -0.04193749743693721,
           -0.01367653402910233,
           0.06805102790459193,
           0.048502991155798744,
           -0.006794861026964511,
           0.06623167161015561,
           -0.02735558369737746,
           -0.09145763489452263,
           0.07583768768784517,
           -0.02735558369737753,
           -0.08956359729777708,
           0.04717224870769154,
           0.052479115087644114,
           0.048584949094403966,
           -0.07571588480163591,
           0.02898102694894549,
           -0.05530053270280325,
           -0.003931019901443493,
           -0.029837311356225096
          ],
          [
           -0.09066790071832602,
           -0.04054946748885295,
           0.007671401075195096,
           -0.011565241243045676,
           0.04037139255602814,
           1,
           -0.08053791796358452,
           -0.05317577603100933,
           0.06035318922790015,
           0.05776020155897658,
           -0.10607968533868478,
           -0.2764351249584761,
           0.004068094925193941,
           0.08959701211292992,
           -0.08864782489470657,
           -0.003265542240161849,
           -0.04276659609756706,
           -0.06066617231458249,
           0.06055689603062301,
           0.01815890140168371,
           -0.05509227972374426,
           0.21931633428140557,
           -0.04274561193332985,
           0.08646271504696254,
           -0.043219816501815736,
           -0.03017245085601236,
           0.015066344603957676,
           -0.05244521037164043,
           -0.03017245085601237,
           0.0011681031486977299,
           -0.013349576299849364,
           -0.004312596764975505,
           0.053239834771210755,
           -0.049524358372696524,
           0.08475190164212731,
           -0.051152049132180646,
           0.023194275364094203,
           -0.020787518085244067,
           -0.04904475325714753,
           0.05649181265237686,
           0.10104092236235301,
           -0.1644402161445423,
           0.09373893634378302,
           -0.014009652937061428,
           -0.03017245085601237,
           -0.0058289470818176994,
           -0.029890542855620348,
           -0.060666172314582524,
           0.049546050195450525,
           -0.03714784366062014,
           0.004825718252296339,
           -0.06376605087687132,
           0.14608476578732763,
           -0.0864121612892894,
           -0.05776020155897658,
           0.1468024785539634,
           0.01810272313791087,
           0.05796706278595296
          ],
          [
           -0.12440680457131505,
           -0.01197745436983106,
           0.007809134509596016,
           -0.49867368248667543,
           -0.20356107909814838,
           -0.08053791796358452,
           1,
           0.00888506450071351,
           0.06343155812336877,
           0.023781565923966262,
           -0.054040467661112576,
           0.004925657212361489,
           0.12018641152041876,
           -0.04049410455567747,
           -0.05827767681936043,
           -0.05670516243465661,
           -0.03847826569379135,
           0.10163823244579977,
           0.010920536344523703,
           -0.07655355608703536,
           -0.002099487334981051,
           -0.033499451423307056,
           -0.02730381936449322,
           -0.027303819364493224,
           -0.01919697582252536,
           -0.01927269515386804,
           0.03441677745691702,
           -0.03349945142330695,
           -0.01927269515386805,
           -0.03901993998708968,
           -0.02905342950613797,
           0.06111648252869049,
           0.26316941923225096,
           0.07133668288972715,
           0.0420245597804149,
           -0.057605904256931365,
           -0.07118488021721935,
           0.01047741160143394,
           0.03482241658294228,
           0.054710951228845894,
           -0.05884290415165394,
           -0.03026711700963368,
           0.013408668471106883,
           -0.0036524409921167974,
           -0.01927269515386805,
           -0.02730381936449322,
           0.00636724720849625,
           -0.03875060235413371,
           -0.027303819364493227,
           0.11721123502798902,
           -0.038750602354133655,
           -0.07921099585426618,
           -0.06507627461911936,
           0.07811621549774053,
           -0.023781565923966276,
           0.07811621549774068,
           -0.00792145715702687,
           0.020047048635252463
          ],
          [
           0.0069539159151458035,
           -0.017226147769073923,
           0.10204545460968531,
           0.0014495887602438355,
           0.060050699877945195,
           -0.05317577603100933,
           0.00888506450071351,
           1,
           0.06672874128275548,
           -0.011997427566311263,
           -0.007099669438979497,
           0.04921870245814252,
           -0.013209515100851056,
           0.04093076006064583,
           -0.0504768884020927,
           0.02703439712320204,
           0.09383234765671902,
           -0.06751761460165563,
           -0.07691927171758768,
           -0.015967059171382813,
           -0.008372769297891275,
           0.016613782645331577,
           0.08166849488802098,
           -0.08063498345994428,
           0.010898768326293487,
           -0.027215382623885308,
           0.017968516032898795,
           -0.07680639702701582,
           -0.04418777660158179,
           -0.016205498453755653,
           -0.05427485100634581,
           0.09200660654592507,
           -0.007970475163180939,
           -0.07296804398015415,
           0.1291332934933538,
           -0.05410375426675466,
           0.0014168283106281761,
           -0.02048255855295302,
           -0.0006671922647631598,
           0.05039452316125358,
           -0.008977693979075899,
           0.06339197800510855,
           -0.06096237042410524,
           0.007867159066370604,
           -0.07813256455697484,
           -0.014511344132995473,
           -0.02677165171758616,
           0.09457854282151687,
           -0.07462374352113081,
           0.032741363517575624,
           -0.029126419422483268,
           0.008038851451307486,
           0.02272254222257403,
           -0.0779432882024655,
           0.011997427566311225,
           -0.032373326897003285,
           0.004487839191988689,
           -0.016823954026521322
          ],
          [
           0.0017361529748723245,
           -0.02737381268662399,
           0.06627934508806566,
           -0.06642961206491413,
           -0.10846592327666071,
           0.06035318922790015,
           0.06343155812336877,
           0.06672874128275548,
           1,
           -0.08003810877053363,
           0.003471985566806307,
           0.06464172298490392,
           -0.06478608917583145,
           0.03310780413944046,
           -0.040253168598833544,
           0.08916804804626116,
           0.17457692025741492,
           -0.0510076679657321,
           -0.1639157442822101,
           0.07549598039607727,
           0.05124446013922098,
           0.02239773668867606,
           0.06161176052864247,
           0.06161176052864252,
           0.04630053064910124,
           -0.048321472404447806,
           0.0012064448434936836,
           0.022397736688675937,
           0.04348932516400305,
           -0.07099414699528862,
           -0.08231098181487101,
           0.007927650842109881,
           0.022397736688676007,
           -0.013032465129682588,
           0.045583992342131716,
           -0.12929192323837274,
           0.018006296656295894,
           0.06510320497697537,
           -0.0010936735736850546,
           0.07024899097379071,
           -0.03189592111382535,
           0.08543073603505724,
           -0.0025068113294970614,
           -0.13073864503079183,
           0.04348932516400304,
           -0.0034228755849245274,
           0.06229841474009776,
           0.08744171651268366,
           -0.06845751169849164,
           0.09122203507352836,
           -0.09715746279187086,
           -0.05709801752821313,
           -0.022249433835749184,
           -0.1383899136028268,
           0.08003810877053369,
           0.025948108800529977,
           -0.050432050027698086,
           -0.022874497856306856
          ],
          [
           -0.02111736811044146,
           0.036312924788624704,
           0.028631792218325326,
           -0.038734213008959906,
           -0.02898102694894554,
           0.05776020155897658,
           0.023781565923966262,
           -0.011997427566311263,
           -0.08003810877053363,
           1,
           -0.0664052876999058,
           -0.611771128903388,
           0.0001609285228818625,
           -0.007131905264493842,
           -0.011298733790468545,
           0.01735864133548601,
           0.024221672938449925,
           0.11522124995570707,
           -0.056846822756408226,
           0.08260937904561347,
           -0.002179378643115406,
           -0.06836961028537332,
           -0.05572483757014151,
           -0.05572483757014151,
           0.045919831214429496,
           -0.039333977149906475,
           0.026075215162896136,
           -0.06836961028537335,
           -0.039333977149906475,
           -0.008952923066964222,
           -0.08267937333868554,
           0.09383038300823714,
           -0.06836961028537332,
           -0.07316211829252844,
           -0.04710062704366057,
           0.026393586082163193,
           0.07523011436328357,
           0.022219443554897113,
           0.046354763511151184,
           0.0977699772953422,
           0.018483454073732676,
           0.06125724867269121,
           -0.09428794083427382,
           -0.05448420286726789,
           -0.03933397714990649,
           -0.05572483757014152,
           0.025397282181109395,
           0.17999059164678496,
           0.12682204412514972,
           0.34288804325152644,
           0.17999059164678494,
           0.36792290035768976,
           0.3022692928440233,
           0.25637641938715183,
           -1.0000000000000002,
           0.25637641938715183,
           0.3022692928440232,
           0.27242043527096765
          ],
          [
           0.027228127212302288,
           0.03059511177509096,
           -0.07494434206668676,
           0.05964149560754429,
           -0.046032456195812387,
           -0.10607968533868478,
           -0.054040467661112576,
           -0.007099669438979497,
           0.003471985566806307,
           -0.0664052876999058,
           1,
           0.055888072465701176,
           -0.029770685681131344,
           -0.0547281331566922,
           -0.00571338749080969,
           0.09396503844129502,
           0.04978252151870183,
           -0.0842404361278477,
           -0.027307081208488564,
           -0.0859786348248526,
           0.15071363781160174,
           -0.032208268878709784,
           -0.0026052311557286326,
           0.035228699003898016,
           0.01619114146722901,
           0.0014992554297520537,
           -0.08198191185571128,
           0.0993122222442138,
           0.03488111460782371,
           0.040358140977002556,
           0.028819029655948247,
           -0.07307322478219648,
           0.010342478249294868,
           -0.03766251222211728,
           -0.025608936945934628,
           0.040171988038932405,
           0.0496832014840403,
           -0.023839704771969488,
           0.04188083476691017,
           0.07827239155509105,
           0.05883878766094704,
           0.04649526750527448,
           -0.06246246817903447,
           -0.05852723207003879,
           0.008175627265366275,
           0.016311733924084644,
           -0.08101267065576108,
           -0.057392771273012184,
           -0.012063713695635445,
           0.027662256188771023,
           -0.06410468748672109,
           0.12621179946822747,
           0.07269280025378032,
           -0.09130994066639841,
           0.06640528769990577,
           -0.07457928934113546,
           -0.09535851460731835,
           -0.10605402904184563
          ],
          [
           0.0274845277426717,
           -0.005526860303045169,
           0.0029765924602598525,
           0.027429585784364982,
           0.006646946552025277,
           -0.2764351249584761,
           0.004925657212361489,
           0.04921870245814252,
           0.06464172298490392,
           -0.611771128903388,
           0.055888072465701176,
           1,
           0.04934228586980851,
           -0.007733605902608275,
           -0.008336038583631782,
           -0.04662317518637883,
           -0.00595296284466845,
           0.018828113614657038,
           0.000824013173258936,
           -0.06376420187627073,
           0.06115452717804321,
           -0.03039188486445238,
           0.005658889672342616,
           -0.009556049541031226,
           -0.06191130037721411,
           0.003994388261528599,
           0.04376746870478218,
           0.09405764367533125,
           0.0039943882615286665,
           -0.0481906778208331,
           0.01638658846136259,
           0.03290004066140612,
           -0.05528179057240915,
           0.09728448769437766,
           -0.01702188135691929,
           -0.07186195459325224,
           -0.04762394848279499,
           0.03837745664536414,
           0.023846746653110994,
           0.03912406022639893,
           -0.1579556582718812,
           0.1469078149189091,
           -0.00105564929241644,
           -0.06869473515891261,
           0.025473645894277107,
           0.18823816023282997,
           -0.07881957463303761,
           -0.12153035910627606,
           0.03608876809909038,
           -0.23151936247524835,
           -0.056749525542768534,
           -0.18773050199891986,
           -0.21728014234032542,
           -0.19617463074000774,
           0.6117711289033879,
           -0.2038640503192822,
           -0.18431334050525683,
           -0.15488825151656355
          ],
          [
           -0.09756768666920165,
           0.047657848054281825,
           0.07012594422667437,
           -0.028776032398513767,
           -0.04639011441571673,
           0.004068094925193941,
           0.12018641152041876,
           -0.013209515100851056,
           -0.06478608917583145,
           0.0001609285228818625,
           -0.029770685681131344,
           0.04934228586980851,
           1,
           -0.40986019075847013,
           -0.43057860536484516,
           -0.45609106018494533,
           -0.06255503043552096,
           -0.05019017813529629,
           0.07782783464349131,
           0.00331892726507386,
           0.053702887335319346,
           -0.026142226054315012,
           -0.07753487078943658,
           0.006806496290675743,
           0.024552018309394217,
           -0.05472882414621465,
           -0.053926555010429436,
           -0.09512865591986866,
           -0.05472882414621466,
           -0.0008006092926976317,
           0.04198696240068412,
           -0.02661667779977914,
           0.11183063367679218,
           -0.005007820065657301,
           0.03849708334131146,
           -0.0711346850623663,
           -0.008502449475099778,
           0.03824948071308204,
           0.009361114892796812,
           -0.03391082141843165,
           0.04990464591148612,
           0.0546575965141937,
           -0.10208154124236091,
           0.07041549470194884,
           -0.05472882414621466,
           0.00680649629067574,
           -0.03860102734725251,
           -0.05019017813529636,
           0.006806496290675746,
           -0.04674967935385328,
           0.00966003428545449,
           -0.04142429873893503,
           0.03449726364256121,
           0.09900955376726676,
           -0.00016092852288177595,
           -0.02886532307716389,
           -0.038601027347252535,
           0.0750106134274215
          ],
          [
           0.015118632675603065,
           0.009796212840790018,
           -0.007177085366678671,
           -0.050452753325875434,
           -0.003762196649577697,
           0.08959701211292992,
           -0.04049410455567747,
           0.04093076006064583,
           0.03310780413944046,
           -0.007131905264493842,
           -0.0547281331566922,
           -0.007733605902608275,
           -0.40986019075847013,
           1,
           -0.20746154593151234,
           -0.21975396652914264,
           -0.010019307251185534,
           -0.053019702454377524,
           0.02500896318843808,
           -0.02005713277127293,
           -0.08474110124300822,
           0.046810136018461845,
           0.07590803412404508,
           -0.03735788066837815,
           0.0014335668971325814,
           -0.026369462678636334,
           0.08768899002016499,
           0.046810136018461866,
           -0.026369462678636338,
           -0.06666086071666158,
           -0.018977447801311307,
           0.050088694529691856,
           -0.04583492485141056,
           0.022277333358129106,
           0.006366556885091019,
           0.015011865303377975,
           -0.005146290410039322,
           -0.0385681938377298,
           0.05561924537671608,
           0.146816835484337,
           0.06952799451092664,
           -0.06645875696664397,
           -0.03842013117401948,
           -0.05250986060930691,
           -0.026369462678636334,
           -0.03735788066837814,
           -0.03995571929788173,
           -0.05301970245437754,
           -0.03735788066837815,
           0.07398794541183572,
           0.10773152307219282,
           -0.026229973339017172,
           -0.03995571929788175,
           -0.07552062220507902,
           0.007131905264493726,
           0.1534514770337244,
           -0.03995571929788171,
           -0.08024669672125458
          ],
          [
           0.08294392310286743,
           -0.09041643545265095,
           -0.14211446957162135,
           0.08960879068003058,
           0.06361827184223619,
           -0.08864782489470657,
           -0.05827767681936043,
           -0.0504768884020927,
           -0.040253168598833544,
           -0.011298733790468545,
           -0.00571338749080969,
           -0.008336038583631782,
           -0.43057860536484516,
           -0.20746154593151234,
           1,
           -0.23086251986661327,
           0.011192574461889548,
           0.02211611535538978,
           -0.017588343465737833,
           -0.028048786905411176,
           0.10997176257738536,
           0.04154279695229966,
           -0.03924631989217942,
           0.07041251510067484,
           -0.009715393486061506,
           -0.02770243785661671,
           -0.0016274077190452816,
           0.1312374721902194,
           -0.02770243785661672,
           0.023247548698789967,
           -0.12253132510440964,
           0.06973270535926239,
           -0.048151878285620044,
           0.07324942669576714,
           -0.09958632362808398,
           -0.0013212541504291394,
           -0.002101950435924821,
           0.0401674703397175,
           0.008482902261794578,
           -0.057251352543015506,
           -0.009715393486061479,
           0.019119354766795573,
           0.0796768060378075,
           -0.09290238613089008,
           -0.02770243785661672,
           -0.03924631989217943,
           0.09654147347119726,
           -0.05569984608024097,
           0.07041251510067487,
           -0.10611005307068891,
           -0.05569984608024105,
           0.08497440739899526,
           0.04902105906827638,
           -0.02391812970367946,
           0.011298733790468545,
           -0.023918129703679476,
           0.04902105906827635,
           -0.03195806205967665
          ],
          [
           0.02824022574116741,
           0.01829843134418221,
           0.05584192664536896,
           -0.0032304881703185784,
           0.000327550165350717,
           -0.003265542240161849,
           -0.05670516243465661,
           0.02703439712320204,
           0.08916804804626116,
           0.01735864133548601,
           0.09396503844129502,
           -0.04662317518637883,
           -0.45609106018494533,
           -0.21975396652914264,
           -0.23086251986661327,
           1,
           0.07702004588992538,
           0.09113415864478466,
           -0.10400577954752652,
           0.04162765901261723,
           -0.09429961625607015,
           -0.051004952274802326,
           0.06421346906641894,
           -0.04157172563837525,
           -0.022761062861923975,
           0.11999538891207841,
           -0.012690189924161483,
           -0.051004952274802416,
           0.11999538891207841,
           0.040836024546393034,
           0.08326487595438808,
           -0.08066600980203918,
           -0.05100495227480235,
           -0.08518688164981421,
           0.041837433147771656,
           0.07647489282561117,
           0.017498301291320083,
           -0.0507020700884593,
           -0.07187026706880795,
           -0.039358582611447174,
           -0.11815669397439964,
           -0.02492884114131955,
           0.0870561994054275,
           0.050343808179984725,
           0.11999538891207838,
           0.06421346906641887,
           -0.0073990242894023785,
           0.16620131244178918,
           -0.0415717256383753,
           0.09189621234134872,
           -0.05900014894922477,
           -0.005518689637626722,
           -0.05324080521287354,
           -0.030576725308402143,
           -0.017358641335485956,
           -0.08403909778014813,
           0.03844275663406878,
           0.011693819476247255
          ],
          [
           -0.09036988991874631,
           0.037723407374931614,
           0.01435130373150446,
           -0.06221126559505912,
           0.04466650871423675,
           -0.04276659609756706,
           -0.03847826569379135,
           0.09383234765671902,
           0.17457692025741492,
           0.024221672938449925,
           0.04978252151870183,
           -0.00595296284466845,
           -0.06255503043552096,
           -0.010019307251185534,
           0.011192574461889548,
           0.07702004588992538,
           1,
           -0.20909663591748232,
           -0.9620997909924881,
           -0.011527808354084705,
           -0.02409334510116222,
           0.058852628364527336,
           0.04796799546612011,
           0.047967995466120156,
           -0.003089776958905561,
           -0.10399466013222078,
           0.04045616383327449,
           -0.02101879584447407,
           0.03385872655467654,
           -0.06179553917811033,
           0.029720324386231716,
           -0.010580730962172852,
           -0.021018795844474056,
           -0.03080175182324665,
           0.0836539041696791,
           -0.13295037750714084,
           0.08353539310460889,
           -0.025919114609162283,
           0.00492643382005397,
           -0.010254850042886048,
           0.0262631041506969,
           0.0066080422249573416,
           0.029170712111112166,
           -0.07711916405508144,
           0.0338587265546765,
           0.04796799546612014,
           0.029695464415039088,
           0.06807797448476169,
           -0.049681138161338706,
           0.05425839507336616,
           -0.0012156781157993022,
           0.0683373774694837,
           0.07201150120646975,
           -0.10043263693426424,
           -0.024221672938449852,
           -0.0017315971885218467,
           0.029695464415039098,
           -0.13002386844443586
          ],
          [
           -0.01907773266226458,
           0.02678332908758606,
           0.0748111605009117,
           -0.01354569388730655,
           -0.038824068232769515,
           -0.06066617231458249,
           0.10163823244579977,
           -0.06751761460165563,
           -0.0510076679657321,
           0.11522124995570707,
           -0.0842404361278477,
           0.018828113614657038,
           -0.05019017813529629,
           -0.053019702454377524,
           0.02211611535538978,
           0.09113415864478466,
           -0.20909663591748232,
           1,
           -0.06549780502298107,
           0.10545613515239947,
           -0.022751523781008906,
           -0.012305886605924453,
           -0.01002994648367075,
           -0.01002994648367075,
           -0.03617947019917954,
           -0.00707974581903278,
           0.09589251751440264,
           -0.01230588660592446,
           -0.007079745819032779,
           -0.03617947019917952,
           -0.03251802860815337,
           0.0002419807304401607,
           -0.01230588660592445,
           0.01723792307297505,
           0.06920648890587583,
           0.030136600826425195,
           -0.06291008166262803,
           -0.05636383657564921,
           -0.03364995746888422,
           -0.038596583624502835,
           -0.03617947019917954,
           -0.05234278194765143,
           0.05371493197232246,
           0.07183113915141912,
           -0.007079745819032779,
           -0.010029946483670749,
           -0.02390550358808909,
           -0.014234875444839859,
           -0.01002994648367075,
           -0.027117909567122244,
           -0.01423487544483986,
           0.10047846383656352,
           -0.023905503588089096,
           0.3408899847913595,
           -0.11522124995570703,
           -0.020275984225508366,
           -0.023905503588089082,
           -0.021544853701693758
          ],
          [
           0.09753428933010881,
           -0.04596214861268625,
           -0.03550617749047579,
           0.06725830466455986,
           -0.03475154950402115,
           0.06055689603062301,
           0.010920536344523703,
           -0.07691927171758768,
           -0.1639157442822101,
           -0.056846822756408226,
           -0.027307081208488564,
           0.000824013173258936,
           0.07782783464349131,
           0.02500896318843808,
           -0.017588343465737833,
           -0.10400577954752652,
           -0.9620997909924881,
           -0.06549780502298107,
           1,
           -0.01764461683101467,
           0.030929595425785373,
           -0.056622101448870234,
           -0.04614999841228271,
           -0.0461499984122827,
           0.013241910413858526,
           0.10809134468779107,
           -0.06802259484075487,
           0.024879408212382333,
           -0.03257547374152603,
           0.07314579085750408,
           -0.02125884443660101,
           0.010729192518554883,
           0.024879408212382385,
           0.026623381339820694,
           -0.10466023645458278,
           0.12725979560967882,
           -0.06769703320341544,
           0.04216581911965888,
           0.004356713195189021,
           0.021227255299615624,
           -0.016710029807964304,
           0.007853500994912924,
           -0.044745099567063656,
           0.05866211342872436,
           -0.03257547374152603,
           -0.04614999841228271,
           -0.02363518190681082,
           -0.06549780502298105,
           0.053492043614236824,
           -0.047803596676596755,
           0.005210052672282583,
           -0.09775167807279046,
           -0.06681484115963823,
           0.007421135942258202,
           0.0568468227564081,
           0.007421135942258164,
           -0.023635181906810833,
           0.1386855466969312
          ],
          [
           0.01005037815259212,
           -0.0553537471158232,
           0.11224770301804834,
           0.14272067684014286,
           0.006358440723833228,
           0.01815890140168371,
           -0.07655355608703536,
           -0.015967059171382813,
           0.07549598039607727,
           0.08260937904561347,
           -0.0859786348248526,
           -0.06376420187627073,
           0.00331892726507386,
           -0.02005713277127293,
           -0.028048786905411176,
           0.04162765901261723,
           -0.011527808354084705,
           0.10545613515239947,
           -0.01764461683101467,
           1,
           -0.044946657497549516,
           -0.024310831916315754,
           -0.019814609942592137,
           -0.01981460994259214,
           -0.0714741689891863,
           -0.013986355971611485,
           -0.05936367942179962,
           -0.024310831916315754,
           -0.013986355971611486,
           -0.07147416898918632,
           -0.18549006888932276,
           -0.13576444079822386,
           -0.024310831916315754,
           0.12364327398084658,
           -0.09943311157053013,
           -0.05896919751144695,
           -0.04810904244820097,
           0.09207729889495679,
           -0.006331143136646536,
           0.08472142796255813,
           -0.014890451872747137,
           -0.017983568277542897,
           -0.014511625521074186,
           -0.023168268228563865,
           -0.01398635597161149,
           -0.01981460994259214,
           0.03434647015046519,
           -0.028121636040639858,
           -0.01981460994259214,
           -0.05357264880782927,
           0.2390339063454387,
           -0.05748408180789692,
           -0.047226396456889724,
           -0.04005611787507398,
           -0.08260937904561344,
           -0.04005611787507401,
           -0.0472263964568897,
           0.4067114535847354
          ],
          [
           0.008131156281817481,
           -0.06980939649503275,
           0.033298049812096546,
           -0.09020836940276722,
           -0.025399644679322757,
           -0.05509227972374426,
           -0.002099487334981051,
           -0.008372769297891275,
           0.05124446013922098,
           -0.002179378643115406,
           0.15071363781160174,
           0.06115452717804321,
           0.053702887335319346,
           -0.08474110124300822,
           0.10997176257738536,
           -0.09429961625607015,
           -0.02409334510116222,
           -0.022751523781008906,
           0.030929595425785373,
           -0.044946657497549516,
           1,
           -0.01966843144121651,
           -0.01603080875767009,
           -0.016030808757670094,
           -0.057825449882620686,
           -0.011315519126906894,
           -0.048027581401787194,
           -0.0196684314412165,
           -0.011315519126906894,
           -0.0578254498826207,
           -0.15006885472017448,
           -0.10983884077627375,
           -0.019668431441216504,
           -0.04492977712430604,
           0.06652211483633481,
           -0.030276503540974938,
           -0.10054884038562766,
           0.10741024575516096,
           0.01920805124382994,
           0.0034271505048027702,
           0.010842271852991378,
           0.12367009644504089,
           -0.081449601620799,
           -0.018744051903851134,
           -0.011315519126906893,
           -0.016030808757670094,
           -0.03820803599504348,
           -0.0227515237810089,
           0.2124082160391285,
           -0.04334240694963605,
           -0.022751523781008892,
           0.03633352504566551,
           0.06078551181029654,
           -0.03240699499462356,
           0.002179378643115344,
           -0.032406994994623566,
           -0.03820803599504353,
           -0.03443502215750915
          ],
          [
           0.01832497904723098,
           -0.03324659821587244,
           -0.0979403703829261,
           -0.011710097051546953,
           -0.05008359071457742,
           0.21931633428140557,
           -0.033499451423307056,
           0.016613782645331577,
           0.02239773668867606,
           -0.06836961028537332,
           -0.032208268878709784,
           -0.03039188486445238,
           -0.026142226054315012,
           0.046810136018461845,
           0.04154279695229966,
           -0.051004952274802326,
           0.058852628364527336,
           -0.012305886605924453,
           -0.056622101448870234,
           -0.024310831916315754,
           -0.01966843144121651,
           1,
           -0.008670773732430893,
           -0.008670773732430893,
           -0.03127673715578023,
           -0.006120359084656906,
           -0.02597724778243362,
           -0.010638297872340432,
           -0.006120359084656904,
           -0.03127673715578021,
           -0.08116952196445483,
           -0.059409837008247986,
           -0.010638297872340427,
           0.12380112150398562,
           0.020082198425323265,
           -0.04466185006315604,
           -0.054385044274509776,
           -0.04872589045562945,
           -0.02909000240366544,
           -0.033366303997509686,
           0.21633076532747986,
           -0.04524973483487156,
           0.008731544799664981,
           -0.058295327031112065,
           -0.006120359084656905,
           -0.008670773732430892,
           -0.020666033752981244,
           -0.012305886605924455,
           -0.008670773732430893,
           -0.02344312188862109,
           -0.012305886605924455,
           -0.02515474531251947,
           -0.020666033752981258,
           -0.01752835587985898,
           0.06836961028537335,
           -0.01752835587985898,
           -0.020666033752981233,
           -0.018625278993247823
          ],
          [
           0.07169195623289859,
           -0.06387322228713603,
           -0.06830145417923511,
           0.04082859370489184,
           0.013039967358335416,
           -0.04274561193332985,
           -0.02730381936449322,
           0.08166849488802098,
           0.06161176052864247,
           -0.05572483757014151,
           -0.0026052311557286326,
           0.005658889672342616,
           -0.07753487078943658,
           0.07590803412404508,
           -0.03924631989217942,
           0.06421346906641894,
           0.04796799546612011,
           -0.01002994648367075,
           -0.04614999841228271,
           -0.019814609942592137,
           -0.01603080875767009,
           -0.008670773732430893,
           1,
           -0.007067137809187279,
           -0.02549219003084954,
           -0.004988415385723063,
           -0.021172826745000758,
           -0.008670773732430899,
           -0.004988415385723062,
           -0.02549219003084954,
           -0.06615744053879653,
           -0.04842214989283702,
           -0.008670773732430892,
           -0.04110921717789778,
           -0.04842214989283702,
           -0.03640176285872176,
           0.15943305458509816,
           -0.03971417007888584,
           -0.02370988589949706,
           -0.02719529719149163,
           -0.025492190030849547,
           -0.03688091994733276,
           0.03784774198721284,
           0.050612489328876346,
           -0.004988415385723063,
           -0.007067137809187278,
           -0.016843907246174725,
           -0.01002994648367076,
           -0.007067137809187278,
           -0.01910738051493497,
           -0.01002994648367076,
           -0.02050244386076761,
           -0.01684390724617473,
           -0.014286534327163503,
           0.05572483757014149,
           -0.014286534327163503,
           -0.016843907246174725,
           -0.015180584506261915
          ],
          [
           -0.013442241793668479,
           -0.06387322228713602,
           0.03542455527590869,
           -0.009544346580364472,
           0.09383106946976132,
           0.08646271504696254,
           -0.027303819364493224,
           -0.08063498345994428,
           0.06161176052864252,
           -0.05572483757014151,
           0.035228699003898016,
           -0.009556049541031226,
           0.006806496290675743,
           -0.03735788066837815,
           0.07041251510067484,
           -0.04157172563837525,
           0.047967995466120156,
           -0.01002994648367075,
           -0.0461499984122827,
           -0.01981460994259214,
           -0.016030808757670094,
           -0.008670773732430893,
           -0.007067137809187279,
           1,
           -0.02549219003084954,
           -0.004988415385723063,
           -0.021172826745000768,
           -0.008670773732430899,
           -0.004988415385723062,
           -0.025492190030849543,
           -0.06615744053879652,
           -0.04842214989283702,
           -0.008670773732430892,
           0.0654010273284738,
           -0.04842214989283701,
           0.07887048619389712,
           -0.044326678853255995,
           -0.03971417007888583,
           -0.02370988589949707,
           -0.02719529719149163,
           -0.025492190030849547,
           -0.03688091994733275,
           0.037847741987212774,
           0.05061248932887638,
           -0.004988415385723062,
           -0.007067137809187277,
           -0.016843907246174725,
           -0.010029946483670761,
           -0.0070671378091872765,
           -0.01910738051493497,
           -0.01002994648367076,
           -0.020502443860767605,
           -0.016843907246174728,
           -0.014286534327163503,
           0.05572483757014155,
           -0.014286534327163498,
           -0.016843907246174725,
           -0.015180584506261915
          ],
          [
           0.028284733042791606,
           -0.1309090723524608,
           -0.0489026815703114,
           0.10184902959450412,
           -0.08653283680095544,
           -0.043219816501815736,
           -0.01919697582252536,
           0.010898768326293487,
           0.04630053064910124,
           0.045919831214429496,
           0.01619114146722901,
           -0.06191130037721411,
           0.024552018309394217,
           0.0014335668971325814,
           -0.009715393486061506,
           -0.022761062861923975,
           -0.003089776958905561,
           -0.03617947019917954,
           0.013241910413858526,
           -0.0714741689891863,
           -0.057825449882620686,
           -0.03127673715578023,
           -0.02549219003084954,
           -0.02549219003084954,
           1,
           -0.017993937064641738,
           -0.07637345378664455,
           -0.0312767371557802,
           -0.017993937064641738,
           -0.09195402298850575,
           -0.23863947353300277,
           -0.17466571051802335,
           -0.03127673715578022,
           -0.052237431615009274,
           0.059041930315951466,
           -0.06200581551709123,
           -0.006769652852518453,
           0.053031812278501976,
           0.011199701562474212,
           0.031336662186365445,
           -0.0009578544061302651,
           0.038681320499001755,
           -0.08518057353053597,
           0.00558877292512373,
           0.19568406557797893,
           -0.025492190030849543,
           0.004833055654316655,
           0.07122833195463471,
           -0.025492190030849547,
           0.04800000908875997,
           -0.0361794701991795,
           0.09071077998377192,
           -0.060758413939980827,
           0.02496158715365656,
           -0.04591983121442958,
           0.10145677359228165,
           -0.060758413939980806,
           -0.05475856781933936
          ],
          [
           -0.06958124241327293,
           -0.045085602318189526,
           0.025004804114759843,
           -0.006736979893934931,
           -0.04782286862485564,
           -0.03017245085601236,
           -0.01927269515386804,
           -0.027215382623885308,
           -0.048321472404447806,
           -0.039333977149906475,
           0.0014992554297520537,
           0.003994388261528599,
           -0.05472882414621465,
           -0.026369462678636334,
           -0.02770243785661671,
           0.11999538891207841,
           -0.10399466013222078,
           -0.00707974581903278,
           0.10809134468779107,
           -0.013986355971611485,
           -0.011315519126906894,
           -0.006120359084656906,
           -0.004988415385723063,
           -0.004988415385723063,
           -0.017993937064641738,
           1,
           -0.014945067939202486,
           -0.00612035908465691,
           -0.0035211267605633786,
           -0.01799393706464172,
           -0.046697942388326495,
           -0.03417929635123315,
           -0.0061203590846569044,
           -0.02901738398233374,
           -0.03417929635123312,
           0.13703774196550642,
           -0.03128846398072663,
           -0.028032674952962244,
           -0.016735878485492697,
           -0.01919609360850275,
           -0.017993937064641734,
           -0.026032794813442707,
           -0.03836033968998409,
           0.10498884552771251,
           -0.0035211267605633804,
           -0.004988415385723063,
           -0.011889453457845195,
           -0.00707974581903279,
           -0.004988415385723064,
           -0.01348715045823168,
           -0.007079745819032787,
           -0.01447187095559668,
           -0.0118894534578452,
           -0.010084304221949062,
           0.03933397714990645,
           -0.010084304221949066,
           -0.011889453457845199,
           -0.010715379176115813
          ],
          [
           -0.08528262628973884,
           0.06139934717068206,
           0.03301073646942748,
           -0.028594432710451714,
           -0.0748370824748901,
           0.015066344603957676,
           0.03441677745691702,
           0.017968516032898795,
           0.0012064448434936836,
           0.026075215162896136,
           -0.08198191185571128,
           0.04376746870478218,
           -0.053926555010429436,
           0.08768899002016499,
           -0.0016274077190452816,
           -0.012690189924161483,
           0.04045616383327449,
           0.09589251751440264,
           -0.06802259484075487,
           -0.05936367942179962,
           -0.048027581401787194,
           -0.02597724778243362,
           -0.021172826745000758,
           -0.021172826745000768,
           -0.07637345378664455,
           -0.014945067939202486,
           1,
           -0.02597724778243364,
           -0.014945067939202502,
           -0.0763734537866446,
           -0.19820471373851903,
           -0.14507058132766174,
           -0.025977247782433616,
           0.02700329373526627,
           -0.008052799460607565,
           -0.02779910896894666,
           -0.025073383449872016,
           0.03445628692846242,
           -0.07103375084057106,
           0.12088252393071786,
           -0.07637345378664463,
           -0.029954780179766126,
           -0.06533187049715986,
           0.06516749196272456,
           -0.014945067939202498,
           -0.02117282674500077,
           0.10335590457051798,
           -0.03004926816119528,
           -0.021172826745000775,
           0.1484036706634833,
           -0.030049268161195276,
           0.0672958487701024,
           -0.05046358787124512,
           0.046893163569119836,
           -0.02607521516289611,
           -0.04280181372751876,
           -0.05046358787124509,
           -0.045480347817908134
          ],
          [
           0.01832497904723093,
           -0.033246598215872426,
           -0.0696597163209868,
           -0.011710097051546797,
           0.015998924811601062,
           -0.05244521037164043,
           -0.03349945142330695,
           -0.07680639702701582,
           0.022397736688675937,
           -0.06836961028537335,
           0.0993122222442138,
           0.09405764367533125,
           -0.09512865591986866,
           0.046810136018461866,
           0.1312374721902194,
           -0.051004952274802416,
           -0.02101879584447407,
           -0.01230588660592446,
           0.024879408212382333,
           -0.024310831916315754,
           -0.0196684314412165,
           -0.010638297872340432,
           -0.008670773732430899,
           -0.008670773732430899,
           -0.0312767371557802,
           -0.00612035908465691,
           -0.02597724778243364,
           1,
           -0.0061203590846569105,
           -0.0312767371557802,
           -0.08116952196445482,
           -0.059409837008247944,
           -0.010638297872340432,
           0.1238011215039856,
           -0.05940983700824797,
           -0.04466185006315603,
           0.02894687840417454,
           -0.04872589045562947,
           0.1025076275176783,
           -0.033366303997509686,
           -0.031276737155780186,
           0.04820080449801539,
           0.008731544799664988,
           -0.058295327031112065,
           -0.0061203590846569105,
           -0.008670773732430899,
           -0.020666033752981237,
           -0.01230588660592444,
           -0.0086707737324309,
           -0.023443121888621094,
           -0.012305886605924448,
           -0.025154745312519478,
           -0.020666033752981264,
           -0.017528355879858997,
           0.06836961028537326,
           -0.017528355879858987,
           -0.02066603375298125,
           -0.018625278993247812
          ],
          [
           0.05060453993692579,
           0.03278952895868328,
           0.07381555187302374,
           0.06437558565315689,
           0.00920440149265008,
           -0.03017245085601237,
           -0.01927269515386805,
           -0.04418777660158179,
           0.04348932516400305,
           -0.039333977149906475,
           0.03488111460782371,
           0.0039943882615286665,
           -0.05472882414621466,
           -0.026369462678636338,
           -0.02770243785661672,
           0.11999538891207841,
           0.03385872655467654,
           -0.007079745819032779,
           -0.03257547374152603,
           -0.013986355971611486,
           -0.011315519126906894,
           -0.006120359084656904,
           -0.004988415385723062,
           -0.004988415385723062,
           -0.017993937064641738,
           -0.0035211267605633786,
           -0.014945067939202502,
           -0.0061203590846569105,
           1,
           -0.017993937064641738,
           -0.04669794238832648,
           -0.034179296351233145,
           -0.006120359084656902,
           -0.029017383982333753,
           -0.03417929635123314,
           0.1370377419655064,
           -0.031288463980726614,
           -0.028032674952962237,
           0.2103939009604798,
           -0.019196093608502753,
           -0.01799393706464174,
           -0.026032794813442697,
           -0.03836033968998408,
           -0.03353810343246374,
           -0.003521126760563378,
           -0.004988415385723062,
           -0.011889453457845195,
           -0.007079745819032785,
           -0.004988415385723061,
           -0.013487150458231687,
           -0.007079745819032786,
           -0.014471870955596678,
           -0.011889453457845197,
           -0.01008430422194906,
           0.0393339771499065,
           -0.010084304221949055,
           -0.011889453457845197,
           -0.010715379176115812
          ],
          [
           -0.04848811378764273,
           0.05149090179196784,
           -0.12165499307871676,
           0.10184902959450408,
           0.02275161735682426,
           0.0011681031486977299,
           -0.03901993998708968,
           -0.016205498453755653,
           -0.07099414699528862,
           -0.008952923066964222,
           0.040358140977002556,
           -0.0481906778208331,
           -0.0008006092926976317,
           -0.06666086071666158,
           0.023247548698789967,
           0.040836024546393034,
           -0.06179553917811033,
           -0.03617947019917952,
           0.07314579085750408,
           -0.07147416898918632,
           -0.0578254498826207,
           -0.03127673715578021,
           -0.02549219003084954,
           -0.025492190030849543,
           -0.09195402298850575,
           -0.01799393706464172,
           -0.0763734537866446,
           -0.0312767371557802,
           -0.017993937064641738,
           1,
           -0.23863947353300258,
           -0.17466571051802332,
           -0.03127673715578021,
           0.011795549074356945,
           0.0006150201074578486,
           0.041945110496855884,
           -0.0373942728996258,
           -0.012397047026143271,
           0.01119970156247421,
           -0.05495269745724957,
           0.04454022988505745,
           0.004338092018579648,
           0.025670857776325905,
           -0.023907528624140247,
           -0.01799393706464173,
           -0.025492190030849543,
           0.004833055654316627,
           -0.0361794701991795,
           -0.02549219003084955,
           0.10646155861994196,
           -0.03617947019917953,
           -0.07395528559186497,
           0.07042452524861416,
           0.10145677359228168,
           0.008952923066964276,
           -0.051533599284968486,
           -0.06075841393998074,
           -0.05475856781933933
          ],
          [
           0.027707132515033473,
           0.08427940920872108,
           -0.012836330788263024,
           -0.08069489314197889,
           0.08043912694562297,
           -0.013349576299849364,
           -0.02905342950613797,
           -0.05427485100634581,
           -0.08231098181487101,
           -0.08267937333868554,
           0.028819029655948247,
           0.01638658846136259,
           0.04198696240068412,
           -0.018977447801311307,
           -0.12253132510440964,
           0.08326487595438808,
           0.029720324386231716,
           -0.03251802860815337,
           -0.02125884443660101,
           -0.18549006888932276,
           -0.15006885472017448,
           -0.08116952196445483,
           -0.06615744053879653,
           -0.06615744053879652,
           -0.23863947353300277,
           -0.046697942388326495,
           -0.19820471373851903,
           -0.08116952196445482,
           -0.04669794238832648,
           -0.23863947353300258,
           1,
           -0.4532931985748925,
           -0.08116952196445486,
           -0.05552662304290504,
           -0.0025771935311144772,
           0.09483118789692947,
           0.07503317895862524,
           -0.11006335354302169,
           0.02676257444575041,
           -0.13131382550603796,
           0.07334332443445495,
           -0.07051029106635251,
           0.14052111097934877,
           -0.006564504871701631,
           -0.04669794238832649,
           0.02033279135825397,
           -0.1202001442531057,
           -0.03251802860815336,
           -0.06615744053879655,
           -0.04524484018420766,
           0.028857058499950648,
           -0.0037417365208066472,
           -0.007759090274544024,
           -0.04631828621602424,
           0.08267937333868561,
           0.08481461019026955,
           -0.0452394416007312,
           -0.1008239855439602
          ],
          [
           -0.0017296275672219676,
           0.020173014494931234,
           0.055868131823626994,
           -0.03622839654965104,
           -0.012009511759041296,
           -0.004312596764975505,
           0.06111648252869049,
           0.09200660654592507,
           0.007927650842109881,
           0.09383038300823714,
           -0.07307322478219648,
           0.03290004066140612,
           -0.02661667779977914,
           0.050088694529691856,
           0.06973270535926239,
           -0.08066600980203918,
           -0.010580730962172852,
           0.0002419807304401607,
           0.010729192518554883,
           -0.13576444079822386,
           -0.10983884077627375,
           -0.059409837008247986,
           -0.04842214989283702,
           -0.04842214989283702,
           -0.17466571051802335,
           -0.03417929635123315,
           -0.14507058132766174,
           -0.059409837008247944,
           -0.034179296351233145,
           -0.17466571051802332,
           -0.4532931985748925,
           1,
           -0.059409837008247965,
           -0.03498327103547716,
           0.024614979597209426,
           -0.0714287673076287,
           0.030564647320519906,
           0.04296876400465816,
           -0.03824365965891673,
           0.06298646133417875,
           -0.08702534520528278,
           0.05601761815272695,
           -0.052070568330660885,
           -0.0035884448648655443,
           -0.03417929635123316,
           0.04876315094842043,
           0.09516520387428587,
           0.06920648890587583,
           0.04876315094842042,
           -0.05584459327912061,
           -0.0687225274449956,
           0.0004946383661481842,
           0.05305016799824319,
           0.00034467442249802355,
           -0.09383038300823718,
           -0.04877143078346542,
           0.22151031150241382,
           0.03515943555612436
          ],
          [
           0.01832497904723098,
           0.011873785077097273,
           0.043462899926769626,
           -0.13531667704009756,
           0.015998924811601173,
           0.053239834771210755,
           0.26316941923225096,
           -0.007970475163180939,
           0.022397736688676007,
           -0.06836961028537332,
           0.010342478249294868,
           -0.05528179057240915,
           0.11183063367679218,
           -0.04583492485141056,
           -0.048151878285620044,
           -0.05100495227480235,
           -0.021018795844474056,
           -0.01230588660592445,
           0.024879408212382385,
           -0.024310831916315754,
           -0.019668431441216504,
           -0.010638297872340427,
           -0.008670773732430892,
           -0.008670773732430892,
           -0.03127673715578022,
           -0.0061203590846569044,
           -0.025977247782433616,
           -0.010638297872340432,
           -0.006120359084656902,
           -0.03127673715578021,
           -0.08116952196445486,
           -0.059409837008247965,
           1,
           0.036681813778958745,
           0.02008219842532325,
           0.04962427784795115,
           -0.05438504427450977,
           -0.048725890455629445,
           -0.029090002403665445,
           0.0840336545122466,
           -0.03127673715578023,
           -0.045249734834871574,
           0.008731544799665003,
           0.021966355113172648,
           -0.006120359084656904,
           -0.008670773732430892,
           -0.020666033752981244,
           -0.01230588660592445,
           -0.008670773732430893,
           -0.023443121888621098,
           -0.012305886605924453,
           -0.025154745312519464,
           -0.020666033752981254,
           -0.017528355879858976,
           0.06836961028537329,
           -0.01752835587985898,
           -0.020666033752981247,
           -0.018625278993247823
          ],
          [
           -0.05118081072310025,
           0.14186363314194025,
           -0.027971194045237905,
           0.019067140661295775,
           -0.018138735352650245,
           -0.049524358372696524,
           0.07133668288972715,
           -0.07296804398015415,
           -0.013032465129682588,
           -0.07316211829252844,
           -0.03766251222211728,
           0.09728448769437766,
           -0.005007820065657301,
           0.022277333358129106,
           0.07324942669576714,
           -0.08518688164981421,
           -0.03080175182324665,
           0.01723792307297505,
           0.026623381339820694,
           0.12364327398084658,
           -0.04492977712430604,
           0.12380112150398562,
           -0.04110921717789778,
           0.0654010273284738,
           -0.052237431615009274,
           -0.02901738398233374,
           0.02700329373526627,
           0.1238011215039856,
           -0.029017383982333753,
           0.011795549074356945,
           -0.05552662304290504,
           -0.03498327103547716,
           0.036681813778958745,
           1,
           -0.28166942967739805,
           -0.21174738846498006,
           -0.25784626208711053,
           -0.23101550965802392,
           -0.001791160014179812,
           -0.006391668648583594,
           0.04381203941904005,
           0.07546870148366476,
           0.0348969315511109,
           -0.11033567319693528,
           -0.029017383982333746,
           -0.041109217177897776,
           -0.005668278203444979,
           -0.05834373963160774,
           0.06540102732847385,
           -0.07000802284786906,
           -0.058343739631607786,
           -0.08063722459685897,
           -0.05182425786006842,
           0.0783822915064944,
           0.07316211829252843,
           -0.029275313695196734,
           -0.05182425786006848,
           0.11506378504589819
          ],
          [
           -0.05102401323304898,
           -0.06500193559477814,
           -0.010864548686572802,
           -0.13345149463487302,
           0.050363351135296205,
           0.08475190164212731,
           0.0420245597804149,
           0.1291332934933538,
           0.045583992342131716,
           -0.04710062704366057,
           -0.025608936945934628,
           -0.01702188135691929,
           0.03849708334131146,
           0.006366556885091019,
           -0.09958632362808398,
           0.041837433147771656,
           0.0836539041696791,
           0.06920648890587583,
           -0.10466023645458278,
           -0.09943311157053013,
           0.06652211483633481,
           0.020082198425323265,
           -0.04842214989283702,
           -0.04842214989283701,
           0.059041930315951466,
           -0.03417929635123312,
           -0.008052799460607565,
           -0.05940983700824797,
           -0.03417929635123314,
           0.0006150201074578486,
           -0.0025771935311144772,
           0.024614979597209426,
           0.02008219842532325,
           -0.28166942967739805,
           1,
           -0.24941520387745728,
           -0.3037146219072876,
           -0.27211093774476464,
           -0.10034874799390975,
           0.03528408250664633,
           -0.05781189010103589,
           0.011915349717568966,
           0.07248672641714297,
           -0.003588444864865473,
           0.10301928759385762,
           -0.04842214989283701,
           -0.031179903753842095,
           -0.06872252744499563,
           0.04876315094842041,
           0.05676655590401174,
           0.13817099708131172,
           -0.03474834522190702,
           -0.031179903753842067,
           0.0003446744224979851,
           0.047100627043660484,
           -0.04877143078346543,
           -0.03117990375384209,
           -0.10401333018686765
          ],
          [
           0.07693218186208299,
           0.08773369374312068,
           -0.10248121349946321,
           -0.01456636808345843,
           0.0764145264781417,
           -0.051152049132180646,
           -0.057605904256931365,
           -0.05410375426675466,
           -0.12929192323837274,
           0.026393586082163193,
           0.040171988038932405,
           -0.07186195459325224,
           -0.0711346850623663,
           0.015011865303377975,
           -0.0013212541504291394,
           0.07647489282561117,
           -0.13295037750714084,
           0.030136600826425195,
           0.12725979560967882,
           -0.05896919751144695,
           -0.030276503540974938,
           -0.04466185006315604,
           -0.03640176285872176,
           0.07887048619389712,
           -0.06200581551709123,
           0.13703774196550642,
           -0.02779910896894666,
           -0.04466185006315603,
           0.1370377419655064,
           0.041945110496855884,
           0.09483118789692947,
           -0.0714287673076287,
           0.04962427784795115,
           -0.21174738846498006,
           -0.24941520387745728,
           1,
           -0.2283200491482282,
           -0.20456171088997013,
           -0.048462719291587006,
           -0.041504853757646044,
           0.007294801825540093,
           -0.08534797169180937,
           0.015551409065929563,
           0.13714688551113166,
           -0.025694576618532444,
           -0.03640176285872177,
           -0.03680745527128829,
           0.11193594592672226,
           -0.03640176285872179,
           0.035149728682634815,
           -0.051662744273871845,
           0.06160291758326673,
           -0.03680745527128834,
           0.04292620931843456,
           -0.026393586082163155,
           -0.07358778740303076,
           0.013145519739745787,
           -0.023168268228563854
          ],
          [
           0.07071393261516573,
           -0.06579215430929941,
           0.09626958152325038,
           0.03186325101250784,
           -0.0326355456519475,
           0.023194275364094203,
           -0.07118488021721935,
           0.0014168283106281761,
           0.018006296656295894,
           0.07523011436328357,
           0.0496832014840403,
           -0.04762394848279499,
           -0.008502449475099778,
           -0.005146290410039322,
           -0.002101950435924821,
           0.017498301291320083,
           0.08353539310460889,
           -0.06291008166262803,
           -0.06769703320341544,
           -0.04810904244820097,
           -0.10054884038562766,
           -0.054385044274509776,
           0.15943305458509816,
           -0.044326678853255995,
           -0.006769652852518453,
           -0.03128846398072663,
           -0.025073383449872016,
           0.02894687840417454,
           -0.031288463980726614,
           -0.0373942728996258,
           0.07503317895862524,
           0.030564647320519906,
           -0.05438504427450977,
           -0.25784626208711053,
           -0.3037146219072876,
           -0.2283200491482282,
           1,
           -0.24909621271596638,
           0.17681172828276107,
           0.0036682800967106225,
           0.08510420728880372,
           -0.11574382502140611,
           -0.005105151734858324,
           -0.05977059658172914,
           -0.03128846398072661,
           0.05755318786592106,
           -0.017349945799353332,
           0.00938577831256951,
           -0.044326678853255995,
           0.03755536303242262,
           -0.06291008166262799,
           0.056131091674965064,
           0.11509830115106702,
           -0.08960835859503646,
           -0.07523011436328357,
           0.16783501035239687,
           -0.017349945799353294,
           -0.04658419285131077
          ],
          [
           -0.03873816306266102,
           -0.0847146453425376,
           0.034664232882895864,
           0.10967666023120314,
           -0.07514754694404284,
           -0.020787518085244067,
           0.01047741160143394,
           -0.02048255855295302,
           0.06510320497697537,
           0.022219443554897113,
           -0.023839704771969488,
           0.03837745664536414,
           0.03824948071308204,
           -0.0385681938377298,
           0.0401674703397175,
           -0.0507020700884593,
           -0.025919114609162283,
           -0.05636383657564921,
           0.04216581911965888,
           0.09207729889495679,
           0.10741024575516096,
           -0.04872589045562945,
           -0.03971417007888584,
           -0.03971417007888583,
           0.053031812278501976,
           -0.028032674952962244,
           0.03445628692846242,
           -0.04872589045562947,
           -0.028032674952962237,
           -0.012397047026143271,
           -0.11006335354302169,
           0.04296876400465816,
           -0.048725890455629445,
           -0.23101550965802392,
           -0.27211093774476464,
           -0.20456171088997013,
           -0.24909621271596638,
           1,
           -0.028917257539965303,
           0.0022858510486274864,
           -0.07782590633078859,
           0.1137646218152768,
           -0.12606032505567585,
           0.05112410095572302,
           -0.02803267495296225,
           0.06911793061806096,
           0.09399333937404052,
           0.020865458732331657,
           -0.039714170078885856,
           -0.06533944340575676,
           0.020865458732331622,
           0.0031850193294821697,
           -0.0003309624625846596,
           -0.025281729790026245,
           -0.02221944355489708,
           -0.025281729790026297,
           0.09399333937404049,
           0.0705432618170615
          ],
          [
           0.050108926345920304,
           -0.10853719953983348,
           0.08570514671278709,
           0.04845474742862442,
           -0.046601581613148674,
           -0.04904475325714753,
           0.03482241658294228,
           -0.0006671922647631598,
           -0.0010936735736850546,
           0.046354763511151184,
           0.04188083476691017,
           0.023846746653110994,
           0.009361114892796812,
           0.05561924537671608,
           0.008482902261794578,
           -0.07187026706880795,
           0.00492643382005397,
           -0.03364995746888422,
           0.004356713195189021,
           -0.006331143136646536,
           0.01920805124382994,
           -0.02909000240366544,
           -0.02370988589949706,
           -0.02370988589949707,
           0.011199701562474212,
           -0.016735878485492697,
           -0.07103375084057106,
           0.1025076275176783,
           0.2103939009604798,
           0.01119970156247421,
           0.02676257444575041,
           -0.03824365965891673,
           -0.029090002403665445,
           -0.001791160014179812,
           -0.10034874799390975,
           -0.048462719291587006,
           0.17681172828276107,
           -0.028917257539965303,
           1,
           -0.0912388311679649,
           -0.08552499374980317,
           -0.12373360014049395,
           -0.1823262913747181,
           -0.15940625312500606,
           -0.016735878485492708,
           -0.02370988589949707,
           -0.05651044732555482,
           -0.033649957468884176,
           -0.023709885899497078,
           0.060179532271726635,
           -0.03364995746888424,
           -0.06878465055084962,
           0.013210234439740084,
           -0.047930591979675675,
           -0.0463547635111512,
           0.03338023370013121,
           0.1526515979703298,
           0.025869249322746264
          ],
          [
           -0.06386117914884762,
           -0.05710336701395837,
           0.0476180905037415,
           -0.05108658556359677,
           -0.04193749743693721,
           0.05649181265237686,
           0.054710951228845894,
           0.05039452316125358,
           0.07024899097379071,
           0.0977699772953422,
           0.07827239155509105,
           0.03912406022639893,
           -0.03391082141843165,
           0.146816835484337,
           -0.057251352543015506,
           -0.039358582611447174,
           -0.010254850042886048,
           -0.038596583624502835,
           0.021227255299615624,
           0.08472142796255813,
           0.0034271505048027702,
           -0.033366303997509686,
           -0.02719529719149163,
           -0.02719529719149163,
           0.031336662186365445,
           -0.01919609360850275,
           0.12088252393071786,
           -0.033366303997509686,
           -0.019196093608502753,
           -0.05495269745724957,
           -0.13131382550603796,
           0.06298646133417875,
           0.0840336545122466,
           -0.006391668648583594,
           0.03528408250664633,
           -0.041504853757646044,
           0.0036682800967106225,
           0.0022858510486274864,
           -0.0912388311679649,
           1,
           -0.0980973772790571,
           -0.14192274238086067,
           -0.20912870271818282,
           -0.182839362715307,
           -0.019196093608502763,
           -0.027195297191491632,
           -0.06481762147472817,
           0.06325551205126853,
           -0.02719529719149164,
           0.09278504457055876,
           0.06325551205126857,
           0.025202940841186967,
           -0.0026188937969587245,
           -0.054976506381207685,
           -0.09776997729534215,
           0.09010038545809042,
           -0.002618893796958721,
           0.010096753638766847
          ],
          [
           -0.15085190956155517,
           0.0514909017919679,
           -0.028116306853624283,
           0.010997782538373684,
           -0.01367653402910233,
           0.10104092236235301,
           -0.05884290415165394,
           -0.008977693979075899,
           -0.03189592111382535,
           0.018483454073732676,
           0.05883878766094704,
           -0.1579556582718812,
           0.04990464591148612,
           0.06952799451092664,
           -0.009715393486061479,
           -0.11815669397439964,
           0.0262631041506969,
           -0.03617947019917954,
           -0.016710029807964304,
           -0.014890451872747137,
           0.010842271852991378,
           0.21633076532747986,
           -0.025492190030849547,
           -0.025492190030849547,
           -0.0009578544061302651,
           -0.017993937064641734,
           -0.07637345378664463,
           -0.031276737155780186,
           -0.01799393706464174,
           0.04454022988505745,
           0.07334332443445495,
           -0.08702534520528278,
           -0.03127673715578023,
           0.04381203941904005,
           -0.05781189010103589,
           0.007294801825540093,
           0.08510420728880372,
           -0.07782590633078859,
           -0.08552499374980317,
           -0.0980973772790571,
           1,
           -0.1330348219031089,
           -0.1960320048373979,
           -0.17138903637046016,
           -0.01799393706464174,
           -0.02549219003084955,
           -0.060758413939980806,
           -0.03617947019917951,
           -0.025492190030849557,
           0.048000009088759954,
           -0.03617947019917953,
           -0.019066597066652716,
           0.07042452524861417,
           0.024961587153656612,
           -0.018483454073732607,
           0.024961587153656612,
           0.004833055654316665,
           -0.05475856781933935
          ],
          [
           0.0650669982200157,
           0.004611312287686811,
           0.027966982621663444,
           0.06448650429386746,
           0.06805102790459193,
           -0.1644402161445423,
           -0.03026711700963368,
           0.06339197800510855,
           0.08543073603505724,
           0.06125724867269121,
           0.04649526750527448,
           0.1469078149189091,
           0.0546575965141937,
           -0.06645875696664397,
           0.019119354766795573,
           -0.02492884114131955,
           0.0066080422249573416,
           -0.05234278194765143,
           0.007853500994912924,
           -0.017983568277542897,
           0.12367009644504089,
           -0.04524973483487156,
           -0.03688091994733276,
           -0.03688091994733275,
           0.038681320499001755,
           -0.026032794813442707,
           -0.029954780179766126,
           0.04820080449801539,
           -0.026032794813442697,
           0.004338092018579648,
           -0.07051029106635251,
           0.05601761815272695,
           -0.045249734834871574,
           0.07546870148366476,
           0.011915349717568966,
           -0.08534797169180937,
           -0.11574382502140611,
           0.1137646218152768,
           -0.12373360014049395,
           -0.14192274238086067,
           -0.1330348219031089,
           1,
           -0.283610026003022,
           -0.24795772048537448,
           -0.026032794813442704,
           -0.03688091994733275,
           -0.08790245945662527,
           -0.05234278194765145,
           0.0773697559764698,
           -0.011457904288771185,
           0.10980605343366012,
           0.10016251580168657,
           -0.038392180908921325,
           -0.01681571538320482,
           -0.06125724867269125,
           -0.016815715383204862,
           0.011118097638782633,
           0.02985182838807824
          ],
          [
           -0.009844694376453161,
           0.12492074090731173,
           -0.1137488134287406,
           -0.05494911109185069,
           0.048502991155798744,
           0.09373893634378302,
           0.013408668471106883,
           -0.06096237042410524,
           -0.0025068113294970614,
           -0.09428794083427382,
           -0.06246246817903447,
           -0.00105564929241644,
           -0.10208154124236091,
           -0.03842013117401948,
           0.0796768060378075,
           0.0870561994054275,
           0.029170712111112166,
           0.05371493197232246,
           -0.044745099567063656,
           -0.014511625521074186,
           -0.081449601620799,
           0.008731544799664981,
           0.03784774198721284,
           0.037847741987212774,
           -0.08518057353053597,
           -0.03836033968998409,
           -0.06533187049715986,
           0.008731544799664988,
           -0.03836033968998408,
           0.025670857776325905,
           0.14052111097934877,
           -0.052070568330660885,
           0.008731544799665003,
           0.0348969315511109,
           0.07248672641714297,
           0.015551409065929563,
           -0.005105151734858324,
           -0.12606032505567585,
           -0.1823262913747181,
           -0.20912870271818282,
           -0.1960320048373979,
           -0.283610026003022,
           1,
           -0.3653753834245043,
           -0.03836033968998408,
           -0.05434547567394664,
           -0.12952770643741995,
           -0.07712913308846313,
           -0.05434547567394662,
           -0.004497965973669294,
           -0.011707100558070286,
           0.009501916634738206,
           -0.049624251167583025,
           -0.016675452283491633,
           0.09428794083427385,
           -0.01667545228349163,
           -0.04962425116758298,
           -0.02872099469241994
          ],
          [
           0.08382594846159087,
           -0.06393392737579848,
           0.042767800625783996,
           -0.024902762887296877,
           -0.006794861026964511,
           -0.014009652937061428,
           -0.0036524409921167974,
           0.007867159066370604,
           -0.13073864503079183,
           -0.05448420286726789,
           -0.05852723207003879,
           -0.06869473515891261,
           0.07041549470194884,
           -0.05250986060930691,
           -0.09290238613089008,
           0.050343808179984725,
           -0.07711916405508144,
           0.07183113915141912,
           0.05866211342872436,
           -0.023168268228563865,
           -0.018744051903851134,
           -0.058295327031112065,
           0.050612489328876346,
           0.05061248932887638,
           0.00558877292512373,
           0.10498884552771251,
           0.06516749196272456,
           -0.058295327031112065,
           -0.03353810343246374,
           -0.023907528624140247,
           -0.006564504871701631,
           -0.0035884448648655443,
           0.021966355113172648,
           -0.11033567319693528,
           -0.003588444864865473,
           0.13714688551113166,
           -0.05977059658172914,
           0.05112410095572302,
           -0.15940625312500606,
           -0.182839362715307,
           -0.17138903637046016,
           -0.24795772048537448,
           -0.3653753834245043,
           1,
           -0.03353810343246375,
           -0.04751376549241452,
           -0.11324492043020788,
           0.0718311391514192,
           0.05061248932887637,
           -0.09056221324901913,
           -0.06743331430541388,
           -0.031089360930311068,
           0.014323468196706117,
           0.10231540486449658,
           0.05448420286726775,
           -0.04645954608642958,
           -0.07072212422123655,
           -0.008381909345272526
          ],
          [
           -0.06958124241327289,
           -0.04508560231818952,
           -0.12142743916003222,
           0.06437558565315693,
           0.06623167161015561,
           -0.03017245085601237,
           -0.01927269515386805,
           -0.07813256455697484,
           0.04348932516400304,
           -0.03933397714990649,
           0.008175627265366275,
           0.025473645894277107,
           -0.05472882414621466,
           -0.026369462678636334,
           -0.02770243785661672,
           0.11999538891207838,
           0.0338587265546765,
           -0.007079745819032779,
           -0.03257547374152603,
           -0.01398635597161149,
           -0.011315519126906893,
           -0.006120359084656905,
           -0.004988415385723063,
           -0.004988415385723062,
           0.19568406557797893,
           -0.0035211267605633804,
           -0.014945067939202498,
           -0.0061203590846569105,
           -0.003521126760563378,
           -0.01799393706464173,
           -0.04669794238832649,
           -0.03417929635123316,
           -0.006120359084656904,
           -0.029017383982333746,
           0.10301928759385762,
           -0.025694576618532444,
           -0.03128846398072661,
           -0.02803267495296225,
           -0.016735878485492708,
           -0.019196093608502763,
           -0.01799393706464174,
           -0.026032794813442704,
           -0.03836033968998408,
           -0.03353810343246375,
           1,
           -0.004988415385723062,
           -0.01188945345784519,
           -0.007079745819032789,
           -0.004988415385723061,
           -0.013487150458231687,
           -0.007079745819032783,
           -0.014471870955596678,
           -0.0118894534578452,
           -0.01008430422194906,
           0.03933397714990646,
           -0.01008430422194906,
           -0.011889453457845197,
           -0.010715379176115812
          ],
          [
           -0.013442241793668482,
           0.04645325257246252,
           0.06999989176095668,
           0.04082859370489176,
           -0.02735558369737746,
           -0.0058289470818176994,
           -0.02730381936449322,
           -0.014511344132995473,
           -0.0034228755849245274,
           -0.05572483757014152,
           0.016311733924084644,
           0.18823816023282997,
           0.00680649629067574,
           -0.03735788066837814,
           -0.03924631989217943,
           0.06421346906641887,
           0.04796799546612014,
           -0.010029946483670749,
           -0.04614999841228271,
           -0.01981460994259214,
           -0.016030808757670094,
           -0.008670773732430892,
           -0.007067137809187278,
           -0.007067137809187277,
           -0.025492190030849543,
           -0.004988415385723063,
           -0.02117282674500077,
           -0.008670773732430899,
           -0.004988415385723062,
           -0.025492190030849543,
           0.02033279135825397,
           0.04876315094842043,
           -0.008670773732430892,
           -0.041109217177897776,
           -0.04842214989283701,
           -0.03640176285872177,
           0.05755318786592106,
           0.06911793061806096,
           -0.02370988589949707,
           -0.027195297191491632,
           -0.02549219003084955,
           -0.03688091994733275,
           -0.05434547567394664,
           -0.04751376549241452,
           -0.004988415385723062,
           1,
           -0.016843907246174725,
           -0.01002994648367076,
           -0.007067137809187278,
           -0.019107380514934973,
           -0.01002994648367076,
           -0.020502443860767605,
           -0.016843907246174728,
           -0.0142865343271635,
           0.055724837570141524,
           -0.014286534327163501,
           -0.016843907246174728,
           -0.015180584506261918
          ],
          [
           -0.01359205364549393,
           -0.008807056386094955,
           -0.020450679767375884,
           0.02090988672618362,
           -0.09145763489452263,
           -0.029890542855620348,
           0.00636724720849625,
           -0.02677165171758616,
           0.06229841474009776,
           0.025397282181109395,
           -0.08101267065576108,
           -0.07881957463303761,
           -0.03860102734725251,
           -0.03995571929788173,
           0.09654147347119726,
           -0.0073990242894023785,
           0.029695464415039088,
           -0.02390550358808909,
           -0.02363518190681082,
           0.03434647015046519,
           -0.03820803599504348,
           -0.020666033752981244,
           -0.016843907246174725,
           -0.016843907246174725,
           0.004833055654316655,
           -0.011889453457845195,
           0.10335590457051798,
           -0.020666033752981237,
           -0.011889453457845195,
           0.004833055654316627,
           -0.1202001442531057,
           0.09516520387428587,
           -0.020666033752981244,
           -0.005668278203444979,
           -0.031179903753842095,
           -0.03680745527128829,
           -0.017349945799353332,
           0.09399333937404052,
           -0.05651044732555482,
           -0.06481762147472817,
           -0.060758413939980806,
           -0.08790245945662527,
           -0.12952770643741995,
           -0.11324492043020788,
           -0.01188945345784519,
           -0.016843907246174725,
           1,
           0.13093696283476064,
           -0.016843907246174728,
           -0.04554077673319665,
           -0.02390550358808906,
           -0.04886578867356034,
           0.054412740544127425,
           -0.034050709859258704,
           -0.02539728218110934,
           -0.034050709859258704,
           0.05441274054412735,
           0.0679775525810184
          ],
          [
           0.04133508743490664,
           0.02678332908758608,
           0.0993464663038575,
           -0.013545693887306389,
           0.07583768768784517,
           -0.060666172314582524,
           -0.03875060235413371,
           0.09457854282151687,
           0.08744171651268366,
           0.17999059164678496,
           -0.057392771273012184,
           -0.12153035910627606,
           -0.05019017813529636,
           -0.05301970245437754,
           -0.05569984608024097,
           0.16620131244178918,
           0.06807797448476169,
           -0.014234875444839859,
           -0.06549780502298105,
           -0.028121636040639858,
           -0.0227515237810089,
           -0.012305886605924455,
           -0.01002994648367076,
           -0.010029946483670761,
           0.07122833195463471,
           -0.00707974581903279,
           -0.03004926816119528,
           -0.01230588660592444,
           -0.007079745819032785,
           -0.0361794701991795,
           -0.03251802860815336,
           0.06920648890587583,
           -0.01230588660592445,
           -0.05834373963160774,
           -0.06872252744499563,
           0.11193594592672226,
           0.00938577831256951,
           0.020865458732331657,
           -0.033649957468884176,
           0.06325551205126853,
           -0.03617947019917951,
           -0.05234278194765145,
           -0.07712913308846313,
           0.0718311391514192,
           -0.007079745819032789,
           -0.01002994648367076,
           0.13093696283476064,
           1,
           -0.01002994648367076,
           -0.02711790956712225,
           -0.014234875444839855,
           -0.029097835681176795,
           -0.023905503588089096,
           -0.020275984225508387,
           -0.17999059164678496,
           -0.020275984225508383,
           -0.023905503588089096,
           -0.02154485370169375
          ],
          [
           0.07169195623289867,
           -0.06387322228713606,
           0.035424555275908876,
           0.04082859370489187,
           -0.02735558369737753,
           0.049546050195450525,
           -0.027303819364493227,
           -0.07462374352113081,
           -0.06845751169849164,
           0.12682204412514972,
           -0.012063713695635445,
           0.03608876809909038,
           0.006806496290675746,
           -0.03735788066837815,
           0.07041251510067487,
           -0.0415717256383753,
           -0.049681138161338706,
           -0.01002994648367075,
           0.053492043614236824,
           -0.01981460994259214,
           0.2124082160391285,
           -0.008670773732430893,
           -0.007067137809187278,
           -0.0070671378091872765,
           -0.025492190030849547,
           -0.004988415385723064,
           -0.021172826745000775,
           -0.0086707737324309,
           -0.004988415385723061,
           -0.02549219003084955,
           -0.06615744053879655,
           0.04876315094842042,
           -0.008670773732430893,
           0.06540102732847385,
           0.04876315094842041,
           -0.03640176285872179,
           -0.044326678853255995,
           -0.039714170078885856,
           -0.023709885899497078,
           -0.02719529719149164,
           -0.025492190030849557,
           0.0773697559764698,
           -0.05434547567394662,
           0.05061248932887637,
           -0.004988415385723061,
           -0.007067137809187278,
           -0.016843907246174728,
           -0.01002994648367076,
           1,
           -0.01910738051493498,
           -0.010029946483670761,
           -0.02050244386076761,
           -0.01684390724617473,
           -0.014286534327163501,
           -0.1268220441251497,
           -0.014286534327163508,
           -0.01684390724617473,
           -0.015180584506261925
          ],
          [
           -0.03634371309294212,
           -0.002242774931924382,
           -0.07783066480834125,
           -0.1425418818693472,
           -0.08956359729777708,
           -0.03714784366062014,
           0.11721123502798902,
           0.032741363517575624,
           0.09122203507352836,
           0.34288804325152644,
           0.027662256188771023,
           -0.23151936247524835,
           -0.04674967935385328,
           0.07398794541183572,
           -0.10611005307068891,
           0.09189621234134872,
           0.05425839507336616,
           -0.027117909567122244,
           -0.047803596676596755,
           -0.05357264880782927,
           -0.04334240694963605,
           -0.02344312188862109,
           -0.01910738051493497,
           -0.01910738051493497,
           0.04800000908875997,
           -0.01348715045823168,
           0.1484036706634833,
           -0.023443121888621094,
           -0.013487150458231687,
           0.10646155861994196,
           -0.04524484018420766,
           -0.05584459327912061,
           -0.023443121888621098,
           -0.07000802284786906,
           0.05676655590401174,
           0.035149728682634815,
           0.03755536303242262,
           -0.06533944340575676,
           0.060179532271726635,
           0.09278504457055876,
           0.048000009088759954,
           -0.011457904288771185,
           -0.004497965973669294,
           -0.09056221324901913,
           -0.013487150458231687,
           -0.019107380514934973,
           -0.04554077673319665,
           -0.02711790956712225,
           -0.01910738051493498,
           1,
           -0.027117909567122254,
           -0.05543234148122972,
           -0.04554077673319674,
           -0.03862642203947429,
           -0.34288804325152644,
           -0.038626422039474285,
           -0.0455407767331967,
           -0.041043660450938574
          ],
          [
           0.041335087434906645,
           0.02678332908758609,
           0.05027585469796608,
           -0.013545693887306377,
           0.04717224870769154,
           0.004825718252296339,
           -0.038750602354133655,
           -0.029126419422483268,
           -0.09715746279187086,
           0.17999059164678494,
           -0.06410468748672109,
           -0.056749525542768534,
           0.00966003428545449,
           0.10773152307219282,
           -0.05569984608024105,
           -0.05900014894922477,
           -0.0012156781157993022,
           -0.01423487544483986,
           0.005210052672282583,
           0.2390339063454387,
           -0.022751523781008892,
           -0.012305886605924455,
           -0.01002994648367076,
           -0.01002994648367076,
           -0.0361794701991795,
           -0.007079745819032787,
           -0.030049268161195276,
           -0.012305886605924448,
           -0.007079745819032786,
           -0.03617947019917953,
           0.028857058499950648,
           -0.0687225274449956,
           -0.012305886605924453,
           -0.058343739631607786,
           0.13817099708131172,
           -0.051662744273871845,
           -0.06291008166262799,
           0.020865458732331622,
           -0.03364995746888424,
           0.06325551205126857,
           -0.03617947019917953,
           0.10980605343366012,
           -0.011707100558070286,
           -0.06743331430541388,
           -0.007079745819032783,
           -0.01002994648367076,
           -0.02390550358808906,
           -0.014234875444839855,
           -0.010029946483670761,
           -0.027117909567122254,
           1,
           -0.029097835681176798,
           -0.023905503588089103,
           -0.020275984225508387,
           -0.17999059164678496,
           -0.02027598422550838,
           -0.023905503588089096,
           -0.021544853701693737
          ],
          [
           0.022748384922003782,
           0.03474418824599805,
           -0.12291928952487409,
           0.008845117614966204,
           0.052479115087644114,
           -0.06376605087687132,
           -0.07921099585426618,
           0.008038851451307486,
           -0.05709801752821313,
           0.36792290035768976,
           0.12621179946822747,
           -0.18773050199891986,
           -0.04142429873893503,
           -0.026229973339017172,
           0.08497440739899526,
           -0.005518689637626722,
           0.0683373774694837,
           0.10047846383656352,
           -0.09775167807279046,
           -0.05748408180789692,
           0.03633352504566551,
           -0.02515474531251947,
           -0.02050244386076761,
           -0.020502443860767605,
           0.09071077998377192,
           -0.01447187095559668,
           0.0672958487701024,
           -0.025154745312519478,
           -0.014471870955596678,
           -0.07395528559186497,
           -0.0037417365208066472,
           0.0004946383661481842,
           -0.025154745312519464,
           -0.08063722459685897,
           -0.03474834522190702,
           0.06160291758326673,
           0.056131091674965064,
           0.0031850193294821697,
           -0.06878465055084962,
           0.025202940841186967,
           -0.019066597066652716,
           0.10016251580168657,
           0.009501916634738206,
           -0.031089360930311068,
           -0.014471870955596678,
           -0.020502443860767605,
           -0.04886578867356034,
           -0.029097835681176795,
           -0.02050244386076761,
           -0.05543234148122972,
           -0.029097835681176798,
           1,
           -0.048865788673560395,
           -0.04144660482307526,
           -0.36792290035768965,
           -0.04144660482307527,
           -0.04886578867356037,
           -0.044040330048278196
          ],
          [
           -0.08737748772103236,
           0.0390026782812777,
           -0.02045067976737597,
           -0.0009191159000522249,
           0.048584949094403966,
           0.14608476578732763,
           -0.06507627461911936,
           0.02272254222257403,
           -0.022249433835749184,
           0.3022692928440233,
           0.07269280025378032,
           -0.21728014234032542,
           0.03449726364256121,
           -0.03995571929788175,
           0.04902105906827638,
           -0.05324080521287354,
           0.07201150120646975,
           -0.023905503588089096,
           -0.06681484115963823,
           -0.047226396456889724,
           0.06078551181029654,
           -0.020666033752981258,
           -0.01684390724617473,
           -0.016843907246174728,
           -0.060758413939980827,
           -0.0118894534578452,
           -0.05046358787124512,
           -0.020666033752981264,
           -0.011889453457845197,
           0.07042452524861416,
           -0.007759090274544024,
           0.05305016799824319,
           -0.020666033752981254,
           -0.05182425786006842,
           -0.031179903753842067,
           -0.03680745527128834,
           0.11509830115106702,
           -0.0003309624625846596,
           0.013210234439740084,
           -0.0026188937969587245,
           0.07042452524861417,
           -0.038392180908921325,
           -0.049624251167583025,
           0.014323468196706117,
           -0.0118894534578452,
           -0.016843907246174728,
           0.054412740544127425,
           -0.023905503588089096,
           -0.01684390724617473,
           -0.04554077673319674,
           -0.023905503588089103,
           -0.048865788673560395,
           1,
           -0.03405070985925872,
           -0.30226929284402326,
           -0.034050709859258704,
           -0.04014598540145987,
           -0.03618160056731631
          ],
          [
           0.058877198050509935,
           -0.0454863592047256,
           0.036664526175432754,
           -0.04475210880647323,
           -0.07571588480163591,
           -0.0864121612892894,
           0.07811621549774053,
           -0.0779432882024655,
           -0.1383899136028268,
           0.25637641938715183,
           -0.09130994066639841,
           -0.19617463074000774,
           0.09900955376726676,
           -0.07552062220507902,
           -0.02391812970367946,
           -0.030576725308402143,
           -0.10043263693426424,
           0.3408899847913595,
           0.007421135942258202,
           -0.04005611787507398,
           -0.03240699499462356,
           -0.01752835587985898,
           -0.014286534327163503,
           -0.014286534327163503,
           0.02496158715365656,
           -0.010084304221949062,
           0.046893163569119836,
           -0.017528355879858997,
           -0.01008430422194906,
           0.10145677359228168,
           -0.04631828621602424,
           0.00034467442249802355,
           -0.017528355879858976,
           0.0783822915064944,
           0.0003446744224979851,
           0.04292620931843456,
           -0.08960835859503646,
           -0.025281729790026245,
           -0.047930591979675675,
           -0.054976506381207685,
           0.024961587153656612,
           -0.01681571538320482,
           -0.016675452283491633,
           0.10231540486449658,
           -0.01008430422194906,
           -0.0142865343271635,
           -0.034050709859258704,
           -0.020275984225508387,
           -0.014286534327163501,
           -0.03862642203947429,
           -0.020275984225508387,
           -0.04144660482307526,
           -0.03405070985925872,
           1,
           -0.2563764193871516,
           -0.028880866425992777,
           -0.03405070985925873,
           -0.030688228744199093
          ],
          [
           0.021117368110441476,
           -0.03631292478862466,
           -0.028631792218325337,
           0.03873421300896002,
           0.02898102694894549,
           -0.05776020155897658,
           -0.023781565923966276,
           0.011997427566311225,
           0.08003810877053369,
           -1.0000000000000002,
           0.06640528769990577,
           0.6117711289033879,
           -0.00016092852288177595,
           0.007131905264493726,
           0.011298733790468545,
           -0.017358641335485956,
           -0.024221672938449852,
           -0.11522124995570703,
           0.0568468227564081,
           -0.08260937904561344,
           0.002179378643115344,
           0.06836961028537335,
           0.05572483757014149,
           0.05572483757014155,
           -0.04591983121442958,
           0.03933397714990645,
           -0.02607521516289611,
           0.06836961028537326,
           0.0393339771499065,
           0.008952923066964276,
           0.08267937333868561,
           -0.09383038300823718,
           0.06836961028537329,
           0.07316211829252843,
           0.047100627043660484,
           -0.026393586082163155,
           -0.07523011436328357,
           -0.02221944355489708,
           -0.0463547635111512,
           -0.09776997729534215,
           -0.018483454073732607,
           -0.06125724867269125,
           0.09428794083427385,
           0.05448420286726775,
           0.03933397714990646,
           0.055724837570141524,
           -0.02539728218110934,
           -0.17999059164678496,
           -0.1268220441251497,
           -0.34288804325152644,
           -0.17999059164678496,
           -0.36792290035768965,
           -0.30226929284402326,
           -0.2563764193871516,
           1,
           -0.2563764193871519,
           -0.3022692928440232,
           -0.2724204352709676
          ],
          [
           0.015851553321291154,
           0.12178605851587815,
           0.036664526175433,
           -0.07020989525326886,
           -0.05530053270280325,
           0.1468024785539634,
           0.07811621549774068,
           -0.032373326897003285,
           0.025948108800529977,
           0.25637641938715183,
           -0.07457928934113546,
           -0.2038640503192822,
           -0.02886532307716389,
           0.1534514770337244,
           -0.023918129703679476,
           -0.08403909778014813,
           -0.0017315971885218467,
           -0.020275984225508366,
           0.007421135942258164,
           -0.04005611787507401,
           -0.032406994994623566,
           -0.01752835587985898,
           -0.014286534327163503,
           -0.014286534327163498,
           0.10145677359228165,
           -0.010084304221949066,
           -0.04280181372751876,
           -0.017528355879858987,
           -0.010084304221949055,
           -0.051533599284968486,
           0.08481461019026955,
           -0.04877143078346542,
           -0.01752835587985898,
           -0.029275313695196734,
           -0.04877143078346543,
           -0.07358778740303076,
           0.16783501035239687,
           -0.025281729790026297,
           0.03338023370013121,
           0.09010038545809042,
           0.024961587153656612,
           -0.016815715383204862,
           -0.01667545228349163,
           -0.04645954608642958,
           -0.01008430422194906,
           -0.014286534327163501,
           -0.034050709859258704,
           -0.020275984225508383,
           -0.014286534327163508,
           -0.038626422039474285,
           -0.02027598422550838,
           -0.04144660482307527,
           -0.034050709859258704,
           -0.028880866425992777,
           -0.2563764193871519,
           1,
           -0.034050709859258725,
           -0.030688228744199117
          ],
          [
           -0.12427020475880161,
           -0.08052165838715396,
           0.1443639245275425,
           0.042738889352419346,
           -0.003931019901443493,
           0.01810272313791087,
           -0.00792145715702687,
           0.004487839191988689,
           -0.050432050027698086,
           0.3022692928440232,
           -0.09535851460731835,
           -0.18431334050525683,
           -0.038601027347252535,
           -0.03995571929788171,
           0.04902105906827635,
           0.03844275663406878,
           0.029695464415039098,
           -0.023905503588089082,
           -0.023635181906810833,
           -0.0472263964568897,
           -0.03820803599504353,
           -0.020666033752981233,
           -0.016843907246174725,
           -0.016843907246174725,
           -0.060758413939980806,
           -0.011889453457845199,
           -0.05046358787124509,
           -0.02066603375298125,
           -0.011889453457845197,
           -0.06075841393998074,
           -0.0452394416007312,
           0.22151031150241382,
           -0.020666033752981247,
           -0.05182425786006848,
           -0.03117990375384209,
           0.013145519739745787,
           -0.017349945799353294,
           0.09399333937404049,
           0.1526515979703298,
           -0.002618893796958721,
           0.004833055654316665,
           0.011118097638782633,
           -0.04962425116758298,
           -0.07072212422123655,
           -0.011889453457845197,
           -0.016843907246174728,
           0.05441274054412735,
           -0.023905503588089096,
           -0.01684390724617473,
           -0.0455407767331967,
           -0.023905503588089096,
           -0.04886578867356037,
           -0.04014598540145987,
           -0.03405070985925873,
           -0.3022692928440232,
           -0.034050709859258725,
           1,
           -0.036181600567316285
          ],
          [
           0.03208293764620912,
           0.020788340618079163,
           0.010076349517988055,
           0.12376988151387693,
           -0.029837311356225096,
           0.05796706278595296,
           0.020047048635252463,
           -0.016823954026521322,
           -0.022874497856306856,
           0.27242043527096765,
           -0.10605402904184563,
           -0.15488825151656355,
           0.0750106134274215,
           -0.08024669672125458,
           -0.03195806205967665,
           0.011693819476247255,
           -0.13002386844443586,
           -0.021544853701693758,
           0.1386855466969312,
           0.4067114535847354,
           -0.03443502215750915,
           -0.018625278993247823,
           -0.015180584506261915,
           -0.015180584506261915,
           -0.05475856781933936,
           -0.010715379176115813,
           -0.045480347817908134,
           -0.018625278993247812,
           -0.010715379176115812,
           -0.05475856781933933,
           -0.1008239855439602,
           0.03515943555612436,
           -0.018625278993247823,
           0.11506378504589819,
           -0.10401333018686765,
           -0.023168268228563854,
           -0.04658419285131077,
           0.0705432618170615,
           0.025869249322746264,
           0.010096753638766847,
           -0.05475856781933935,
           0.02985182838807824,
           -0.02872099469241994,
           -0.008381909345272526,
           -0.010715379176115812,
           -0.015180584506261918,
           0.0679775525810184,
           -0.02154485370169375,
           -0.015180584506261925,
           -0.041043660450938574,
           -0.021544853701693737,
           -0.044040330048278196,
           -0.03618160056731631,
           -0.030688228744199093,
           -0.2724204352709676,
           -0.030688228744199117,
           -0.036181600567316285,
           1
          ]
         ]
        }
       ],
       "layout": {
        "coloraxis": {
         "colorscale": [
          [
           0,
           "rgb(247,244,249)"
          ],
          [
           0.125,
           "rgb(231,225,239)"
          ],
          [
           0.25,
           "rgb(212,185,218)"
          ],
          [
           0.375,
           "rgb(201,148,199)"
          ],
          [
           0.5,
           "rgb(223,101,176)"
          ],
          [
           0.625,
           "rgb(231,41,138)"
          ],
          [
           0.75,
           "rgb(206,18,86)"
          ],
          [
           0.875,
           "rgb(152,0,67)"
          ],
          [
           1,
           "rgb(103,0,31)"
          ]
         ]
        },
        "height": 900,
        "margin": {
         "t": 60
        },
        "template": {
         "data": {
          "bar": [
           {
            "error_x": {
             "color": "#f2f5fa"
            },
            "error_y": {
             "color": "#f2f5fa"
            },
            "marker": {
             "line": {
              "color": "rgb(17,17,17)",
              "width": 0.5
             },
             "pattern": {
              "fillmode": "overlay",
              "size": 10,
              "solidity": 0.2
             }
            },
            "type": "bar"
           }
          ],
          "barpolar": [
           {
            "marker": {
             "line": {
              "color": "rgb(17,17,17)",
              "width": 0.5
             },
             "pattern": {
              "fillmode": "overlay",
              "size": 10,
              "solidity": 0.2
             }
            },
            "type": "barpolar"
           }
          ],
          "carpet": [
           {
            "aaxis": {
             "endlinecolor": "#A2B1C6",
             "gridcolor": "#506784",
             "linecolor": "#506784",
             "minorgridcolor": "#506784",
             "startlinecolor": "#A2B1C6"
            },
            "baxis": {
             "endlinecolor": "#A2B1C6",
             "gridcolor": "#506784",
             "linecolor": "#506784",
             "minorgridcolor": "#506784",
             "startlinecolor": "#A2B1C6"
            },
            "type": "carpet"
           }
          ],
          "choropleth": [
           {
            "colorbar": {
             "outlinewidth": 0,
             "ticks": ""
            },
            "type": "choropleth"
           }
          ],
          "contour": [
           {
            "colorbar": {
             "outlinewidth": 0,
             "ticks": ""
            },
            "colorscale": [
             [
              0,
              "#0d0887"
             ],
             [
              0.1111111111111111,
              "#46039f"
             ],
             [
              0.2222222222222222,
              "#7201a8"
             ],
             [
              0.3333333333333333,
              "#9c179e"
             ],
             [
              0.4444444444444444,
              "#bd3786"
             ],
             [
              0.5555555555555556,
              "#d8576b"
             ],
             [
              0.6666666666666666,
              "#ed7953"
             ],
             [
              0.7777777777777778,
              "#fb9f3a"
             ],
             [
              0.8888888888888888,
              "#fdca26"
             ],
             [
              1,
              "#f0f921"
             ]
            ],
            "type": "contour"
           }
          ],
          "contourcarpet": [
           {
            "colorbar": {
             "outlinewidth": 0,
             "ticks": ""
            },
            "type": "contourcarpet"
           }
          ],
          "heatmap": [
           {
            "colorbar": {
             "outlinewidth": 0,
             "ticks": ""
            },
            "colorscale": [
             [
              0,
              "#0d0887"
             ],
             [
              0.1111111111111111,
              "#46039f"
             ],
             [
              0.2222222222222222,
              "#7201a8"
             ],
             [
              0.3333333333333333,
              "#9c179e"
             ],
             [
              0.4444444444444444,
              "#bd3786"
             ],
             [
              0.5555555555555556,
              "#d8576b"
             ],
             [
              0.6666666666666666,
              "#ed7953"
             ],
             [
              0.7777777777777778,
              "#fb9f3a"
             ],
             [
              0.8888888888888888,
              "#fdca26"
             ],
             [
              1,
              "#f0f921"
             ]
            ],
            "type": "heatmap"
           }
          ],
          "heatmapgl": [
           {
            "colorbar": {
             "outlinewidth": 0,
             "ticks": ""
            },
            "colorscale": [
             [
              0,
              "#0d0887"
             ],
             [
              0.1111111111111111,
              "#46039f"
             ],
             [
              0.2222222222222222,
              "#7201a8"
             ],
             [
              0.3333333333333333,
              "#9c179e"
             ],
             [
              0.4444444444444444,
              "#bd3786"
             ],
             [
              0.5555555555555556,
              "#d8576b"
             ],
             [
              0.6666666666666666,
              "#ed7953"
             ],
             [
              0.7777777777777778,
              "#fb9f3a"
             ],
             [
              0.8888888888888888,
              "#fdca26"
             ],
             [
              1,
              "#f0f921"
             ]
            ],
            "type": "heatmapgl"
           }
          ],
          "histogram": [
           {
            "marker": {
             "pattern": {
              "fillmode": "overlay",
              "size": 10,
              "solidity": 0.2
             }
            },
            "type": "histogram"
           }
          ],
          "histogram2d": [
           {
            "colorbar": {
             "outlinewidth": 0,
             "ticks": ""
            },
            "colorscale": [
             [
              0,
              "#0d0887"
             ],
             [
              0.1111111111111111,
              "#46039f"
             ],
             [
              0.2222222222222222,
              "#7201a8"
             ],
             [
              0.3333333333333333,
              "#9c179e"
             ],
             [
              0.4444444444444444,
              "#bd3786"
             ],
             [
              0.5555555555555556,
              "#d8576b"
             ],
             [
              0.6666666666666666,
              "#ed7953"
             ],
             [
              0.7777777777777778,
              "#fb9f3a"
             ],
             [
              0.8888888888888888,
              "#fdca26"
             ],
             [
              1,
              "#f0f921"
             ]
            ],
            "type": "histogram2d"
           }
          ],
          "histogram2dcontour": [
           {
            "colorbar": {
             "outlinewidth": 0,
             "ticks": ""
            },
            "colorscale": [
             [
              0,
              "#0d0887"
             ],
             [
              0.1111111111111111,
              "#46039f"
             ],
             [
              0.2222222222222222,
              "#7201a8"
             ],
             [
              0.3333333333333333,
              "#9c179e"
             ],
             [
              0.4444444444444444,
              "#bd3786"
             ],
             [
              0.5555555555555556,
              "#d8576b"
             ],
             [
              0.6666666666666666,
              "#ed7953"
             ],
             [
              0.7777777777777778,
              "#fb9f3a"
             ],
             [
              0.8888888888888888,
              "#fdca26"
             ],
             [
              1,
              "#f0f921"
             ]
            ],
            "type": "histogram2dcontour"
           }
          ],
          "mesh3d": [
           {
            "colorbar": {
             "outlinewidth": 0,
             "ticks": ""
            },
            "type": "mesh3d"
           }
          ],
          "parcoords": [
           {
            "line": {
             "colorbar": {
              "outlinewidth": 0,
              "ticks": ""
             }
            },
            "type": "parcoords"
           }
          ],
          "pie": [
           {
            "automargin": true,
            "type": "pie"
           }
          ],
          "scatter": [
           {
            "marker": {
             "line": {
              "color": "#283442"
             }
            },
            "type": "scatter"
           }
          ],
          "scatter3d": [
           {
            "line": {
             "colorbar": {
              "outlinewidth": 0,
              "ticks": ""
             }
            },
            "marker": {
             "colorbar": {
              "outlinewidth": 0,
              "ticks": ""
             }
            },
            "type": "scatter3d"
           }
          ],
          "scattercarpet": [
           {
            "marker": {
             "colorbar": {
              "outlinewidth": 0,
              "ticks": ""
             }
            },
            "type": "scattercarpet"
           }
          ],
          "scattergeo": [
           {
            "marker": {
             "colorbar": {
              "outlinewidth": 0,
              "ticks": ""
             }
            },
            "type": "scattergeo"
           }
          ],
          "scattergl": [
           {
            "marker": {
             "line": {
              "color": "#283442"
             }
            },
            "type": "scattergl"
           }
          ],
          "scattermapbox": [
           {
            "marker": {
             "colorbar": {
              "outlinewidth": 0,
              "ticks": ""
             }
            },
            "type": "scattermapbox"
           }
          ],
          "scatterpolar": [
           {
            "marker": {
             "colorbar": {
              "outlinewidth": 0,
              "ticks": ""
             }
            },
            "type": "scatterpolar"
           }
          ],
          "scatterpolargl": [
           {
            "marker": {
             "colorbar": {
              "outlinewidth": 0,
              "ticks": ""
             }
            },
            "type": "scatterpolargl"
           }
          ],
          "scatterternary": [
           {
            "marker": {
             "colorbar": {
              "outlinewidth": 0,
              "ticks": ""
             }
            },
            "type": "scatterternary"
           }
          ],
          "surface": [
           {
            "colorbar": {
             "outlinewidth": 0,
             "ticks": ""
            },
            "colorscale": [
             [
              0,
              "#0d0887"
             ],
             [
              0.1111111111111111,
              "#46039f"
             ],
             [
              0.2222222222222222,
              "#7201a8"
             ],
             [
              0.3333333333333333,
              "#9c179e"
             ],
             [
              0.4444444444444444,
              "#bd3786"
             ],
             [
              0.5555555555555556,
              "#d8576b"
             ],
             [
              0.6666666666666666,
              "#ed7953"
             ],
             [
              0.7777777777777778,
              "#fb9f3a"
             ],
             [
              0.8888888888888888,
              "#fdca26"
             ],
             [
              1,
              "#f0f921"
             ]
            ],
            "type": "surface"
           }
          ],
          "table": [
           {
            "cells": {
             "fill": {
              "color": "#506784"
             },
             "line": {
              "color": "rgb(17,17,17)"
             }
            },
            "header": {
             "fill": {
              "color": "#2a3f5f"
             },
             "line": {
              "color": "rgb(17,17,17)"
             }
            },
            "type": "table"
           }
          ]
         },
         "layout": {
          "annotationdefaults": {
           "arrowcolor": "#f2f5fa",
           "arrowhead": 0,
           "arrowwidth": 1
          },
          "autotypenumbers": "strict",
          "coloraxis": {
           "colorbar": {
            "outlinewidth": 0,
            "ticks": ""
           }
          },
          "colorscale": {
           "diverging": [
            [
             0,
             "#8e0152"
            ],
            [
             0.1,
             "#c51b7d"
            ],
            [
             0.2,
             "#de77ae"
            ],
            [
             0.3,
             "#f1b6da"
            ],
            [
             0.4,
             "#fde0ef"
            ],
            [
             0.5,
             "#f7f7f7"
            ],
            [
             0.6,
             "#e6f5d0"
            ],
            [
             0.7,
             "#b8e186"
            ],
            [
             0.8,
             "#7fbc41"
            ],
            [
             0.9,
             "#4d9221"
            ],
            [
             1,
             "#276419"
            ]
           ],
           "sequential": [
            [
             0,
             "#0d0887"
            ],
            [
             0.1111111111111111,
             "#46039f"
            ],
            [
             0.2222222222222222,
             "#7201a8"
            ],
            [
             0.3333333333333333,
             "#9c179e"
            ],
            [
             0.4444444444444444,
             "#bd3786"
            ],
            [
             0.5555555555555556,
             "#d8576b"
            ],
            [
             0.6666666666666666,
             "#ed7953"
            ],
            [
             0.7777777777777778,
             "#fb9f3a"
            ],
            [
             0.8888888888888888,
             "#fdca26"
            ],
            [
             1,
             "#f0f921"
            ]
           ],
           "sequentialminus": [
            [
             0,
             "#0d0887"
            ],
            [
             0.1111111111111111,
             "#46039f"
            ],
            [
             0.2222222222222222,
             "#7201a8"
            ],
            [
             0.3333333333333333,
             "#9c179e"
            ],
            [
             0.4444444444444444,
             "#bd3786"
            ],
            [
             0.5555555555555556,
             "#d8576b"
            ],
            [
             0.6666666666666666,
             "#ed7953"
            ],
            [
             0.7777777777777778,
             "#fb9f3a"
            ],
            [
             0.8888888888888888,
             "#fdca26"
            ],
            [
             1,
             "#f0f921"
            ]
           ]
          },
          "colorway": [
           "#636efa",
           "#EF553B",
           "#00cc96",
           "#ab63fa",
           "#FFA15A",
           "#19d3f3",
           "#FF6692",
           "#B6E880",
           "#FF97FF",
           "#FECB52"
          ],
          "font": {
           "color": "#f2f5fa"
          },
          "geo": {
           "bgcolor": "rgb(17,17,17)",
           "lakecolor": "rgb(17,17,17)",
           "landcolor": "rgb(17,17,17)",
           "showlakes": true,
           "showland": true,
           "subunitcolor": "#506784"
          },
          "hoverlabel": {
           "align": "left"
          },
          "hovermode": "closest",
          "mapbox": {
           "style": "dark"
          },
          "paper_bgcolor": "rgb(17,17,17)",
          "plot_bgcolor": "rgb(17,17,17)",
          "polar": {
           "angularaxis": {
            "gridcolor": "#506784",
            "linecolor": "#506784",
            "ticks": ""
           },
           "bgcolor": "rgb(17,17,17)",
           "radialaxis": {
            "gridcolor": "#506784",
            "linecolor": "#506784",
            "ticks": ""
           }
          },
          "scene": {
           "xaxis": {
            "backgroundcolor": "rgb(17,17,17)",
            "gridcolor": "#506784",
            "gridwidth": 2,
            "linecolor": "#506784",
            "showbackground": true,
            "ticks": "",
            "zerolinecolor": "#C8D4E3"
           },
           "yaxis": {
            "backgroundcolor": "rgb(17,17,17)",
            "gridcolor": "#506784",
            "gridwidth": 2,
            "linecolor": "#506784",
            "showbackground": true,
            "ticks": "",
            "zerolinecolor": "#C8D4E3"
           },
           "zaxis": {
            "backgroundcolor": "rgb(17,17,17)",
            "gridcolor": "#506784",
            "gridwidth": 2,
            "linecolor": "#506784",
            "showbackground": true,
            "ticks": "",
            "zerolinecolor": "#C8D4E3"
           }
          },
          "shapedefaults": {
           "line": {
            "color": "#f2f5fa"
           }
          },
          "sliderdefaults": {
           "bgcolor": "#C8D4E3",
           "bordercolor": "rgb(17,17,17)",
           "borderwidth": 1,
           "tickwidth": 0
          },
          "ternary": {
           "aaxis": {
            "gridcolor": "#506784",
            "linecolor": "#506784",
            "ticks": ""
           },
           "baxis": {
            "gridcolor": "#506784",
            "linecolor": "#506784",
            "ticks": ""
           },
           "bgcolor": "rgb(17,17,17)",
           "caxis": {
            "gridcolor": "#506784",
            "linecolor": "#506784",
            "ticks": ""
           }
          },
          "title": {
           "x": 0.05
          },
          "updatemenudefaults": {
           "bgcolor": "#506784",
           "borderwidth": 0
          },
          "xaxis": {
           "automargin": true,
           "gridcolor": "#283442",
           "linecolor": "#506784",
           "ticks": "",
           "title": {
            "standoff": 15
           },
           "zerolinecolor": "#283442",
           "zerolinewidth": 2
          },
          "yaxis": {
           "automargin": true,
           "gridcolor": "#283442",
           "linecolor": "#506784",
           "ticks": "",
           "title": {
            "standoff": 15
           },
           "zerolinecolor": "#283442",
           "zerolinewidth": 2
          }
         }
        },
        "width": 900,
        "xaxis": {
         "anchor": "y",
         "constrain": "domain",
         "domain": [
          0,
          1
         ],
         "scaleanchor": "y"
        },
        "yaxis": {
         "anchor": "x",
         "autorange": "reversed",
         "constrain": "domain",
         "domain": [
          0,
          1
         ]
        }
       }
      }
     },
     "metadata": {},
     "output_type": "display_data"
    }
   ],
   "source": [
    "hm = data_pre.corr()\n",
    "fig = px.imshow(hm, text_auto=\".2f\", color_continuous_scale='PuRd',\n",
    "                template='plotly_dark',width=900,height=900)\n",
    "fig.show()"
   ]
  },
  {
   "cell_type": "code",
   "execution_count": 246,
   "metadata": {},
   "outputs": [],
   "source": [
    "corr_matrix = data_pre.corr().abs()\n",
    "upper = corr_matrix.where(np.triu(np.ones(corr_matrix.shape), k=1).astype(np.bool))\n",
    "to_drop_hicorr = [column for column in upper.columns if any(upper[column] > 0.7)]"
   ]
  },
  {
   "cell_type": "code",
   "execution_count": 247,
   "metadata": {},
   "outputs": [
    {
     "data": {
      "text/plain": [
       "['StatusKepegawaian_Outsource', 'AlasanResign_masih_bekerja']"
      ]
     },
     "execution_count": 247,
     "metadata": {},
     "output_type": "execute_result"
    }
   ],
   "source": [
    "to_drop_hicorr"
   ]
  },
  {
   "cell_type": "code",
   "execution_count": 248,
   "metadata": {},
   "outputs": [],
   "source": [
    "data_pre.drop(to_drop_hicorr, axis=1, inplace=True)"
   ]
  },
  {
   "attachments": {},
   "cell_type": "markdown",
   "metadata": {},
   "source": [
    "#### Scaling"
   ]
  },
  {
   "cell_type": "code",
   "execution_count": 249,
   "metadata": {},
   "outputs": [],
   "source": [
    "from sklearn.preprocessing import MinMaxScaler"
   ]
  },
  {
   "cell_type": "code",
   "execution_count": 250,
   "metadata": {},
   "outputs": [],
   "source": [
    "scaler = MinMaxScaler()\n",
    "scaler.fit(data_pre)\n",
    "data_model = pd.DataFrame(scaler.transform(data_pre),columns= data_pre.columns)"
   ]
  },
  {
   "cell_type": "code",
   "execution_count": 251,
   "metadata": {},
   "outputs": [
    {
     "data": {
      "text/html": [
       "<div>\n",
       "<style scoped>\n",
       "    .dataframe tbody tr th:only-of-type {\n",
       "        vertical-align: middle;\n",
       "    }\n",
       "\n",
       "    .dataframe tbody tr th {\n",
       "        vertical-align: top;\n",
       "    }\n",
       "\n",
       "    .dataframe thead th {\n",
       "        text-align: right;\n",
       "    }\n",
       "</style>\n",
       "<table border=\"1\" class=\"dataframe\">\n",
       "  <thead>\n",
       "    <tr style=\"text-align: right;\">\n",
       "      <th></th>\n",
       "      <th>JenisKelamin</th>\n",
       "      <th>JenjangKarir</th>\n",
       "      <th>PerformancePegawai</th>\n",
       "      <th>SkorSurveyEngagement</th>\n",
       "      <th>SkorKepuasanPegawai</th>\n",
       "      <th>JumlahKeikutsertaanProjek</th>\n",
       "      <th>JumlahKeterlambatanSebulanTerakhir</th>\n",
       "      <th>JumlahKetidakhadiran</th>\n",
       "      <th>TingkatPendidikan</th>\n",
       "      <th>resign</th>\n",
       "      <th>umur</th>\n",
       "      <th>LamaBekerja</th>\n",
       "      <th>StatusPernikahan_Belum_menikah</th>\n",
       "      <th>StatusPernikahan_Bercerai</th>\n",
       "      <th>StatusPernikahan_Lainnya</th>\n",
       "      <th>StatusPernikahan_Menikah</th>\n",
       "      <th>StatusKepegawaian_FullTime</th>\n",
       "      <th>StatusKepegawaian_Internship</th>\n",
       "      <th>Pekerjaan_Data Analyst</th>\n",
       "      <th>Pekerjaan_Data Engineer</th>\n",
       "      <th>Pekerjaan_DevOps Engineer</th>\n",
       "      <th>Pekerjaan_Digital Product Manager</th>\n",
       "      <th>Pekerjaan_Machine Learning Engineer</th>\n",
       "      <th>Pekerjaan_Product Design (UI &amp; UX)</th>\n",
       "      <th>Pekerjaan_Product Design (UX Researcher)</th>\n",
       "      <th>Pekerjaan_Product Manager</th>\n",
       "      <th>Pekerjaan_Scrum Master</th>\n",
       "      <th>Pekerjaan_Software Architect</th>\n",
       "      <th>Pekerjaan_Software Engineer (Android)</th>\n",
       "      <th>Pekerjaan_Software Engineer (Back End)</th>\n",
       "      <th>Pekerjaan_Software Engineer (Front End)</th>\n",
       "      <th>Pekerjaan_Software Engineer (iOS)</th>\n",
       "      <th>AsalDaerah_Jakarta Barat</th>\n",
       "      <th>AsalDaerah_Jakarta Pusat</th>\n",
       "      <th>AsalDaerah_Jakarta Selatan</th>\n",
       "      <th>AsalDaerah_Jakarta Timur</th>\n",
       "      <th>AsalDaerah_Jakarta Utara</th>\n",
       "      <th>HiringPlatform_CareerBuilder</th>\n",
       "      <th>HiringPlatform_Diversity_Job_Fair</th>\n",
       "      <th>HiringPlatform_Employee_Referral</th>\n",
       "      <th>HiringPlatform_Google_Search</th>\n",
       "      <th>HiringPlatform_Indeed</th>\n",
       "      <th>HiringPlatform_LinkedIn</th>\n",
       "      <th>HiringPlatform_On-line_Web_application</th>\n",
       "      <th>HiringPlatform_Other</th>\n",
       "      <th>HiringPlatform_Website</th>\n",
       "      <th>AlasanResign_Lainnya</th>\n",
       "      <th>AlasanResign_apresiasi</th>\n",
       "      <th>AlasanResign_ganti_karir</th>\n",
       "      <th>AlasanResign_internal_conflict</th>\n",
       "      <th>AlasanResign_jam_kerja</th>\n",
       "      <th>AlasanResign_kejelasan_karir</th>\n",
       "      <th>AlasanResign_leadership</th>\n",
       "      <th>AlasanResign_tidak_bahagia</th>\n",
       "      <th>AlasanResign_tidak_bisa_remote</th>\n",
       "      <th>AlasanResign_toxic_culture</th>\n",
       "    </tr>\n",
       "  </thead>\n",
       "  <tbody>\n",
       "    <tr>\n",
       "      <th>0</th>\n",
       "      <td>0.0</td>\n",
       "      <td>0.0</td>\n",
       "      <td>1.00</td>\n",
       "      <td>0.75</td>\n",
       "      <td>0.8</td>\n",
       "      <td>0.0</td>\n",
       "      <td>0.000000</td>\n",
       "      <td>0.163636</td>\n",
       "      <td>0.5</td>\n",
       "      <td>0.0</td>\n",
       "      <td>0.476190</td>\n",
       "      <td>0.666667</td>\n",
       "      <td>1.0</td>\n",
       "      <td>0.0</td>\n",
       "      <td>0.0</td>\n",
       "      <td>0.0</td>\n",
       "      <td>0.0</td>\n",
       "      <td>0.0</td>\n",
       "      <td>0.0</td>\n",
       "      <td>0.0</td>\n",
       "      <td>0.0</td>\n",
       "      <td>0.0</td>\n",
       "      <td>0.0</td>\n",
       "      <td>0.0</td>\n",
       "      <td>0.0</td>\n",
       "      <td>0.0</td>\n",
       "      <td>0.0</td>\n",
       "      <td>0.0</td>\n",
       "      <td>0.0</td>\n",
       "      <td>1.0</td>\n",
       "      <td>0.0</td>\n",
       "      <td>0.0</td>\n",
       "      <td>0.0</td>\n",
       "      <td>0.0</td>\n",
       "      <td>0.0</td>\n",
       "      <td>1.0</td>\n",
       "      <td>0.0</td>\n",
       "      <td>0.0</td>\n",
       "      <td>0.0</td>\n",
       "      <td>1.0</td>\n",
       "      <td>0.0</td>\n",
       "      <td>0.0</td>\n",
       "      <td>0.0</td>\n",
       "      <td>0.0</td>\n",
       "      <td>0.0</td>\n",
       "      <td>0.0</td>\n",
       "      <td>0.0</td>\n",
       "      <td>0.0</td>\n",
       "      <td>0.0</td>\n",
       "      <td>0.0</td>\n",
       "      <td>0.0</td>\n",
       "      <td>0.0</td>\n",
       "      <td>0.0</td>\n",
       "      <td>0.0</td>\n",
       "      <td>0.0</td>\n",
       "      <td>0.0</td>\n",
       "    </tr>\n",
       "    <tr>\n",
       "      <th>1</th>\n",
       "      <td>0.0</td>\n",
       "      <td>0.0</td>\n",
       "      <td>0.00</td>\n",
       "      <td>0.75</td>\n",
       "      <td>0.8</td>\n",
       "      <td>0.5</td>\n",
       "      <td>0.000000</td>\n",
       "      <td>0.054545</td>\n",
       "      <td>1.0</td>\n",
       "      <td>1.0</td>\n",
       "      <td>0.214286</td>\n",
       "      <td>0.266667</td>\n",
       "      <td>1.0</td>\n",
       "      <td>0.0</td>\n",
       "      <td>0.0</td>\n",
       "      <td>0.0</td>\n",
       "      <td>1.0</td>\n",
       "      <td>0.0</td>\n",
       "      <td>1.0</td>\n",
       "      <td>0.0</td>\n",
       "      <td>0.0</td>\n",
       "      <td>0.0</td>\n",
       "      <td>0.0</td>\n",
       "      <td>0.0</td>\n",
       "      <td>0.0</td>\n",
       "      <td>0.0</td>\n",
       "      <td>0.0</td>\n",
       "      <td>0.0</td>\n",
       "      <td>0.0</td>\n",
       "      <td>0.0</td>\n",
       "      <td>0.0</td>\n",
       "      <td>0.0</td>\n",
       "      <td>0.0</td>\n",
       "      <td>0.0</td>\n",
       "      <td>0.0</td>\n",
       "      <td>0.0</td>\n",
       "      <td>1.0</td>\n",
       "      <td>0.0</td>\n",
       "      <td>0.0</td>\n",
       "      <td>0.0</td>\n",
       "      <td>0.0</td>\n",
       "      <td>0.0</td>\n",
       "      <td>0.0</td>\n",
       "      <td>0.0</td>\n",
       "      <td>0.0</td>\n",
       "      <td>1.0</td>\n",
       "      <td>0.0</td>\n",
       "      <td>0.0</td>\n",
       "      <td>0.0</td>\n",
       "      <td>0.0</td>\n",
       "      <td>0.0</td>\n",
       "      <td>0.0</td>\n",
       "      <td>0.0</td>\n",
       "      <td>0.0</td>\n",
       "      <td>0.0</td>\n",
       "      <td>1.0</td>\n",
       "    </tr>\n",
       "    <tr>\n",
       "      <th>2</th>\n",
       "      <td>0.0</td>\n",
       "      <td>0.0</td>\n",
       "      <td>0.75</td>\n",
       "      <td>0.75</td>\n",
       "      <td>0.6</td>\n",
       "      <td>0.0</td>\n",
       "      <td>0.000000</td>\n",
       "      <td>0.200000</td>\n",
       "      <td>0.5</td>\n",
       "      <td>1.0</td>\n",
       "      <td>0.452381</td>\n",
       "      <td>0.266667</td>\n",
       "      <td>0.0</td>\n",
       "      <td>0.0</td>\n",
       "      <td>0.0</td>\n",
       "      <td>1.0</td>\n",
       "      <td>1.0</td>\n",
       "      <td>0.0</td>\n",
       "      <td>0.0</td>\n",
       "      <td>0.0</td>\n",
       "      <td>0.0</td>\n",
       "      <td>0.0</td>\n",
       "      <td>0.0</td>\n",
       "      <td>0.0</td>\n",
       "      <td>0.0</td>\n",
       "      <td>0.0</td>\n",
       "      <td>0.0</td>\n",
       "      <td>0.0</td>\n",
       "      <td>0.0</td>\n",
       "      <td>0.0</td>\n",
       "      <td>1.0</td>\n",
       "      <td>0.0</td>\n",
       "      <td>0.0</td>\n",
       "      <td>0.0</td>\n",
       "      <td>0.0</td>\n",
       "      <td>1.0</td>\n",
       "      <td>0.0</td>\n",
       "      <td>0.0</td>\n",
       "      <td>0.0</td>\n",
       "      <td>0.0</td>\n",
       "      <td>0.0</td>\n",
       "      <td>1.0</td>\n",
       "      <td>0.0</td>\n",
       "      <td>0.0</td>\n",
       "      <td>0.0</td>\n",
       "      <td>0.0</td>\n",
       "      <td>0.0</td>\n",
       "      <td>0.0</td>\n",
       "      <td>0.0</td>\n",
       "      <td>0.0</td>\n",
       "      <td>1.0</td>\n",
       "      <td>0.0</td>\n",
       "      <td>0.0</td>\n",
       "      <td>0.0</td>\n",
       "      <td>0.0</td>\n",
       "      <td>0.0</td>\n",
       "    </tr>\n",
       "    <tr>\n",
       "      <th>3</th>\n",
       "      <td>0.0</td>\n",
       "      <td>0.0</td>\n",
       "      <td>0.75</td>\n",
       "      <td>0.50</td>\n",
       "      <td>0.6</td>\n",
       "      <td>0.0</td>\n",
       "      <td>0.666667</td>\n",
       "      <td>0.109091</td>\n",
       "      <td>1.0</td>\n",
       "      <td>0.0</td>\n",
       "      <td>0.309524</td>\n",
       "      <td>0.466667</td>\n",
       "      <td>1.0</td>\n",
       "      <td>0.0</td>\n",
       "      <td>0.0</td>\n",
       "      <td>0.0</td>\n",
       "      <td>0.0</td>\n",
       "      <td>0.0</td>\n",
       "      <td>0.0</td>\n",
       "      <td>0.0</td>\n",
       "      <td>0.0</td>\n",
       "      <td>0.0</td>\n",
       "      <td>0.0</td>\n",
       "      <td>0.0</td>\n",
       "      <td>0.0</td>\n",
       "      <td>0.0</td>\n",
       "      <td>0.0</td>\n",
       "      <td>0.0</td>\n",
       "      <td>0.0</td>\n",
       "      <td>0.0</td>\n",
       "      <td>1.0</td>\n",
       "      <td>0.0</td>\n",
       "      <td>0.0</td>\n",
       "      <td>1.0</td>\n",
       "      <td>0.0</td>\n",
       "      <td>0.0</td>\n",
       "      <td>0.0</td>\n",
       "      <td>0.0</td>\n",
       "      <td>0.0</td>\n",
       "      <td>0.0</td>\n",
       "      <td>0.0</td>\n",
       "      <td>0.0</td>\n",
       "      <td>1.0</td>\n",
       "      <td>0.0</td>\n",
       "      <td>0.0</td>\n",
       "      <td>0.0</td>\n",
       "      <td>0.0</td>\n",
       "      <td>0.0</td>\n",
       "      <td>0.0</td>\n",
       "      <td>0.0</td>\n",
       "      <td>0.0</td>\n",
       "      <td>0.0</td>\n",
       "      <td>0.0</td>\n",
       "      <td>0.0</td>\n",
       "      <td>0.0</td>\n",
       "      <td>0.0</td>\n",
       "    </tr>\n",
       "    <tr>\n",
       "      <th>4</th>\n",
       "      <td>1.0</td>\n",
       "      <td>0.0</td>\n",
       "      <td>0.75</td>\n",
       "      <td>0.50</td>\n",
       "      <td>0.6</td>\n",
       "      <td>0.0</td>\n",
       "      <td>0.000000</td>\n",
       "      <td>0.200000</td>\n",
       "      <td>1.0</td>\n",
       "      <td>1.0</td>\n",
       "      <td>0.428571</td>\n",
       "      <td>0.333333</td>\n",
       "      <td>1.0</td>\n",
       "      <td>0.0</td>\n",
       "      <td>0.0</td>\n",
       "      <td>0.0</td>\n",
       "      <td>1.0</td>\n",
       "      <td>0.0</td>\n",
       "      <td>0.0</td>\n",
       "      <td>0.0</td>\n",
       "      <td>0.0</td>\n",
       "      <td>0.0</td>\n",
       "      <td>0.0</td>\n",
       "      <td>0.0</td>\n",
       "      <td>0.0</td>\n",
       "      <td>1.0</td>\n",
       "      <td>0.0</td>\n",
       "      <td>0.0</td>\n",
       "      <td>0.0</td>\n",
       "      <td>0.0</td>\n",
       "      <td>0.0</td>\n",
       "      <td>0.0</td>\n",
       "      <td>0.0</td>\n",
       "      <td>0.0</td>\n",
       "      <td>0.0</td>\n",
       "      <td>1.0</td>\n",
       "      <td>0.0</td>\n",
       "      <td>0.0</td>\n",
       "      <td>0.0</td>\n",
       "      <td>0.0</td>\n",
       "      <td>0.0</td>\n",
       "      <td>0.0</td>\n",
       "      <td>1.0</td>\n",
       "      <td>0.0</td>\n",
       "      <td>0.0</td>\n",
       "      <td>0.0</td>\n",
       "      <td>0.0</td>\n",
       "      <td>0.0</td>\n",
       "      <td>1.0</td>\n",
       "      <td>0.0</td>\n",
       "      <td>0.0</td>\n",
       "      <td>0.0</td>\n",
       "      <td>0.0</td>\n",
       "      <td>0.0</td>\n",
       "      <td>0.0</td>\n",
       "      <td>0.0</td>\n",
       "    </tr>\n",
       "  </tbody>\n",
       "</table>\n",
       "</div>"
      ],
      "text/plain": [
       "   JenisKelamin  JenjangKarir  PerformancePegawai  SkorSurveyEngagement  \\\n",
       "0           0.0           0.0                1.00                  0.75   \n",
       "1           0.0           0.0                0.00                  0.75   \n",
       "2           0.0           0.0                0.75                  0.75   \n",
       "3           0.0           0.0                0.75                  0.50   \n",
       "4           1.0           0.0                0.75                  0.50   \n",
       "\n",
       "   SkorKepuasanPegawai  JumlahKeikutsertaanProjek  \\\n",
       "0                  0.8                        0.0   \n",
       "1                  0.8                        0.5   \n",
       "2                  0.6                        0.0   \n",
       "3                  0.6                        0.0   \n",
       "4                  0.6                        0.0   \n",
       "\n",
       "   JumlahKeterlambatanSebulanTerakhir  JumlahKetidakhadiran  \\\n",
       "0                            0.000000              0.163636   \n",
       "1                            0.000000              0.054545   \n",
       "2                            0.000000              0.200000   \n",
       "3                            0.666667              0.109091   \n",
       "4                            0.000000              0.200000   \n",
       "\n",
       "   TingkatPendidikan  resign      umur  LamaBekerja  \\\n",
       "0                0.5     0.0  0.476190     0.666667   \n",
       "1                1.0     1.0  0.214286     0.266667   \n",
       "2                0.5     1.0  0.452381     0.266667   \n",
       "3                1.0     0.0  0.309524     0.466667   \n",
       "4                1.0     1.0  0.428571     0.333333   \n",
       "\n",
       "   StatusPernikahan_Belum_menikah  StatusPernikahan_Bercerai  \\\n",
       "0                             1.0                        0.0   \n",
       "1                             1.0                        0.0   \n",
       "2                             0.0                        0.0   \n",
       "3                             1.0                        0.0   \n",
       "4                             1.0                        0.0   \n",
       "\n",
       "   StatusPernikahan_Lainnya  StatusPernikahan_Menikah  \\\n",
       "0                       0.0                       0.0   \n",
       "1                       0.0                       0.0   \n",
       "2                       0.0                       1.0   \n",
       "3                       0.0                       0.0   \n",
       "4                       0.0                       0.0   \n",
       "\n",
       "   StatusKepegawaian_FullTime  StatusKepegawaian_Internship  \\\n",
       "0                         0.0                           0.0   \n",
       "1                         1.0                           0.0   \n",
       "2                         1.0                           0.0   \n",
       "3                         0.0                           0.0   \n",
       "4                         1.0                           0.0   \n",
       "\n",
       "   Pekerjaan_Data Analyst  Pekerjaan_Data Engineer  Pekerjaan_DevOps Engineer  \\\n",
       "0                     0.0                      0.0                        0.0   \n",
       "1                     1.0                      0.0                        0.0   \n",
       "2                     0.0                      0.0                        0.0   \n",
       "3                     0.0                      0.0                        0.0   \n",
       "4                     0.0                      0.0                        0.0   \n",
       "\n",
       "   Pekerjaan_Digital Product Manager  Pekerjaan_Machine Learning Engineer  \\\n",
       "0                                0.0                                  0.0   \n",
       "1                                0.0                                  0.0   \n",
       "2                                0.0                                  0.0   \n",
       "3                                0.0                                  0.0   \n",
       "4                                0.0                                  0.0   \n",
       "\n",
       "   Pekerjaan_Product Design (UI & UX)  \\\n",
       "0                                 0.0   \n",
       "1                                 0.0   \n",
       "2                                 0.0   \n",
       "3                                 0.0   \n",
       "4                                 0.0   \n",
       "\n",
       "   Pekerjaan_Product Design (UX Researcher)  Pekerjaan_Product Manager  \\\n",
       "0                                       0.0                        0.0   \n",
       "1                                       0.0                        0.0   \n",
       "2                                       0.0                        0.0   \n",
       "3                                       0.0                        0.0   \n",
       "4                                       0.0                        1.0   \n",
       "\n",
       "   Pekerjaan_Scrum Master  Pekerjaan_Software Architect  \\\n",
       "0                     0.0                           0.0   \n",
       "1                     0.0                           0.0   \n",
       "2                     0.0                           0.0   \n",
       "3                     0.0                           0.0   \n",
       "4                     0.0                           0.0   \n",
       "\n",
       "   Pekerjaan_Software Engineer (Android)  \\\n",
       "0                                    0.0   \n",
       "1                                    0.0   \n",
       "2                                    0.0   \n",
       "3                                    0.0   \n",
       "4                                    0.0   \n",
       "\n",
       "   Pekerjaan_Software Engineer (Back End)  \\\n",
       "0                                     1.0   \n",
       "1                                     0.0   \n",
       "2                                     0.0   \n",
       "3                                     0.0   \n",
       "4                                     0.0   \n",
       "\n",
       "   Pekerjaan_Software Engineer (Front End)  Pekerjaan_Software Engineer (iOS)  \\\n",
       "0                                      0.0                                0.0   \n",
       "1                                      0.0                                0.0   \n",
       "2                                      1.0                                0.0   \n",
       "3                                      1.0                                0.0   \n",
       "4                                      0.0                                0.0   \n",
       "\n",
       "   AsalDaerah_Jakarta Barat  AsalDaerah_Jakarta Pusat  \\\n",
       "0                       0.0                       0.0   \n",
       "1                       0.0                       0.0   \n",
       "2                       0.0                       0.0   \n",
       "3                       0.0                       1.0   \n",
       "4                       0.0                       0.0   \n",
       "\n",
       "   AsalDaerah_Jakarta Selatan  AsalDaerah_Jakarta Timur  \\\n",
       "0                         0.0                       1.0   \n",
       "1                         0.0                       0.0   \n",
       "2                         0.0                       1.0   \n",
       "3                         0.0                       0.0   \n",
       "4                         0.0                       1.0   \n",
       "\n",
       "   AsalDaerah_Jakarta Utara  HiringPlatform_CareerBuilder  \\\n",
       "0                       0.0                           0.0   \n",
       "1                       1.0                           0.0   \n",
       "2                       0.0                           0.0   \n",
       "3                       0.0                           0.0   \n",
       "4                       0.0                           0.0   \n",
       "\n",
       "   HiringPlatform_Diversity_Job_Fair  HiringPlatform_Employee_Referral  \\\n",
       "0                                0.0                               1.0   \n",
       "1                                0.0                               0.0   \n",
       "2                                0.0                               0.0   \n",
       "3                                0.0                               0.0   \n",
       "4                                0.0                               0.0   \n",
       "\n",
       "   HiringPlatform_Google_Search  HiringPlatform_Indeed  \\\n",
       "0                           0.0                    0.0   \n",
       "1                           0.0                    0.0   \n",
       "2                           0.0                    1.0   \n",
       "3                           0.0                    0.0   \n",
       "4                           0.0                    0.0   \n",
       "\n",
       "   HiringPlatform_LinkedIn  HiringPlatform_On-line_Web_application  \\\n",
       "0                      0.0                                     0.0   \n",
       "1                      0.0                                     0.0   \n",
       "2                      0.0                                     0.0   \n",
       "3                      1.0                                     0.0   \n",
       "4                      1.0                                     0.0   \n",
       "\n",
       "   HiringPlatform_Other  HiringPlatform_Website  AlasanResign_Lainnya  \\\n",
       "0                   0.0                     0.0                   0.0   \n",
       "1                   0.0                     1.0                   0.0   \n",
       "2                   0.0                     0.0                   0.0   \n",
       "3                   0.0                     0.0                   0.0   \n",
       "4                   0.0                     0.0                   0.0   \n",
       "\n",
       "   AlasanResign_apresiasi  AlasanResign_ganti_karir  \\\n",
       "0                     0.0                       0.0   \n",
       "1                     0.0                       0.0   \n",
       "2                     0.0                       0.0   \n",
       "3                     0.0                       0.0   \n",
       "4                     0.0                       1.0   \n",
       "\n",
       "   AlasanResign_internal_conflict  AlasanResign_jam_kerja  \\\n",
       "0                             0.0                     0.0   \n",
       "1                             0.0                     0.0   \n",
       "2                             0.0                     1.0   \n",
       "3                             0.0                     0.0   \n",
       "4                             0.0                     0.0   \n",
       "\n",
       "   AlasanResign_kejelasan_karir  AlasanResign_leadership  \\\n",
       "0                           0.0                      0.0   \n",
       "1                           0.0                      0.0   \n",
       "2                           0.0                      0.0   \n",
       "3                           0.0                      0.0   \n",
       "4                           0.0                      0.0   \n",
       "\n",
       "   AlasanResign_tidak_bahagia  AlasanResign_tidak_bisa_remote  \\\n",
       "0                         0.0                             0.0   \n",
       "1                         0.0                             0.0   \n",
       "2                         0.0                             0.0   \n",
       "3                         0.0                             0.0   \n",
       "4                         0.0                             0.0   \n",
       "\n",
       "   AlasanResign_toxic_culture  \n",
       "0                         0.0  \n",
       "1                         1.0  \n",
       "2                         0.0  \n",
       "3                         0.0  \n",
       "4                         0.0  "
      ]
     },
     "execution_count": 251,
     "metadata": {},
     "output_type": "execute_result"
    }
   ],
   "source": [
    "data_model.head()"
   ]
  },
  {
   "attachments": {},
   "cell_type": "markdown",
   "metadata": {},
   "source": [
    "### Modelling"
   ]
  },
  {
   "attachments": {},
   "cell_type": "markdown",
   "metadata": {},
   "source": [
    "Train-Test Split"
   ]
  },
  {
   "cell_type": "code",
   "execution_count": 252,
   "metadata": {},
   "outputs": [],
   "source": [
    "from sklearn.model_selection import train_test_split"
   ]
  },
  {
   "cell_type": "code",
   "execution_count": 253,
   "metadata": {},
   "outputs": [],
   "source": [
    "X = data_model.drop('resign', axis=1)\n",
    "y = data_model['resign']\n",
    "\n",
    "X_train, X_test, y_train, y_test = train_test_split(X, y, test_size=0.2, random_state=42)"
   ]
  },
  {
   "cell_type": "code",
   "execution_count": 254,
   "metadata": {},
   "outputs": [
    {
     "data": {
      "text/plain": [
       "((228, 55), (57, 55))"
      ]
     },
     "execution_count": 254,
     "metadata": {},
     "output_type": "execute_result"
    }
   ],
   "source": [
    "X_train.shape, X_test.shape"
   ]
  },
  {
   "cell_type": "code",
   "execution_count": 260,
   "metadata": {},
   "outputs": [],
   "source": [
    "from sklearn.linear_model import LogisticRegression\n",
    "from sklearn.tree import DecisionTreeClassifier\n",
    "from sklearn.neighbors import KNeighborsClassifier\n",
    "from sklearn.ensemble import RandomForestClassifier\n",
    "from xgboost import XGBClassifier\n",
    "from sklearn.metrics import accuracy_score, precision_score, recall_score, f1_score, roc_auc_score\n",
    "from sklearn.model_selection import cross_validate, cross_val_score\n",
    "from sklearn.model_selection import learning_curve\n",
    "\n",
    "def eval_classification(model):\n",
    "    y_pred = model.predict(X_test)\n",
    "    y_pred_train = model.predict(X_train)\n",
    "    y_pred_proba = model.predict_proba(X_test)\n",
    "    y_pred_proba_train = model.predict_proba(X_train)\n",
    "    \n",
    "    print(\"Accuracy (Test Set): %.3f\" % accuracy_score(y_test, y_pred))\n",
    "    print(\"Precision (Test Set): %.3f\" % precision_score(y_test, y_pred))\n",
    "    print(\"Recall (Test Set): %.3f\" % recall_score(y_test, y_pred))\n",
    "    print(\"F1-Score (Test Set): %.3f\" % f1_score(y_test, y_pred))\n",
    "    print(\"roc_auc (test-proba): %.3f\" % roc_auc_score(y_test, y_pred_proba[:, 1]))\n",
    "    print(\"roc_auc (train-proba): %.3f\" % roc_auc_score(y_train, y_pred_proba_train[:, 1]))\n",
    "\n",
    "    score = cross_validate(model, X_train, y_train, cv=5, scoring='roc_auc', return_train_score=True)\n",
    "    print('roc_auc (crossval train): %.3f' % score['train_score'].mean())\n",
    "    print('roc_auc (crossval test): %.3f' % score['test_score'].mean())\n",
    "\n",
    "def show_feature_importance(model):\n",
    "    feat_importances = pd.Series(model.feature_importances_, index=X.columns)\n",
    "    ax = feat_importances.nlargest(25).plot(kind='barh', figsize=(10, 8))\n",
    "    ax.invert_yaxis()\n",
    "\n",
    "    plt.xlabel('score')\n",
    "    plt.ylabel('feature')\n",
    "    plt.title('feature importance score')\n",
    "\n",
    "def show_best_hyperparameter(model):\n",
    "    print(model.best_estimator_.get_params())"
   ]
  },
  {
   "cell_type": "code",
   "execution_count": 269,
   "metadata": {},
   "outputs": [],
   "source": [
    "def plot_learning_curve(estimator, title, X_train, y_train, X_test, y_test, ylim=None, cv=None,\n",
    "                        n_jobs=-1, train_sizes=np.linspace(.1, 1.0, 5)):\n",
    "    plt.figure()\n",
    "    plt.title(title)\n",
    "    if ylim is not None:\n",
    "        plt.ylim(*ylim)\n",
    "    plt.xlabel(\"Training Sizes\")\n",
    "    plt.ylabel(\"ROC_AUC Score\")\n",
    "\n",
    "    train_scores = cross_val_score(estimator, X_train, y_train, cv=cv, scoring='roc_auc')\n",
    "    test_scores = cross_val_score(estimator, X_test, y_test, cv=cv, scoring='roc_auc')\n",
    "    train_scores_mean = np.mean(train_scores)\n",
    "    test_scores_mean = np.mean(test_scores)\n",
    "    train_sizes, train_scores, test_scores = learning_curve(\n",
    "        estimator, X_train, y_train, cv=cv, n_jobs=n_jobs, train_sizes=train_sizes, scoring='roc_auc')\n",
    "    train_scores_mean = np.mean(train_scores, axis=1)\n",
    "    train_scores_std = np.std(train_scores, axis=1)\n",
    "    test_scores_mean = np.mean(test_scores, axis=1)\n",
    "    test_scores_std = np.std(test_scores, axis=1)\n",
    "    plt.grid()\n",
    "\n",
    "    plt.fill_between(train_sizes, train_scores_mean - train_scores_std,\n",
    "                     train_scores_mean + train_scores_std, alpha=0.1,\n",
    "                     color=\"r\")\n",
    "    plt.fill_between(train_sizes, test_scores_mean - test_scores_std,\n",
    "                     test_scores_mean + test_scores_std, alpha=0.1, color=\"g\")\n",
    "    plt.plot(train_sizes, train_scores_mean, 'o-', color=\"r\",\n",
    "             label=\"Training score\")\n",
    "    for i, j in zip(train_sizes, train_scores_mean):\n",
    "        plt.text(i, j, format(j, '.3f'), ha='center', va='bottom', rotation=45)\n",
    "    plt.plot(train_sizes, test_scores_mean, 'o-', color=\"g\",\n",
    "             label=\"Test score\")\n",
    "    for i, j in zip(train_sizes, test_scores_mean):\n",
    "        plt.text(i, j, format(j, '.3f'), ha='center', va='bottom', rotation=45)\n",
    "\n",
    "    plt.legend(loc=\"best\")\n",
    "    return plt"
   ]
  },
  {
   "attachments": {},
   "cell_type": "markdown",
   "metadata": {},
   "source": [
    "#### Fit Model"
   ]
  },
  {
   "attachments": {},
   "cell_type": "markdown",
   "metadata": {},
   "source": [
    "##### Logistic Regression"
   ]
  },
  {
   "cell_type": "code",
   "execution_count": 257,
   "metadata": {},
   "outputs": [
    {
     "name": "stdout",
     "output_type": "stream",
     "text": [
      "Accuracy (Test Set): 0.947\n",
      "Precision (Test Set): 1.000\n",
      "Recall (Test Set): 0.786\n",
      "F1-Score (Test Set): 0.880\n",
      "roc_auc (test-proba): 1.000\n",
      "roc_auc (train-proba): 1.000\n",
      "roc_auc (crossval train): 1.000\n",
      "roc_auc (crossval test): 0.984\n"
     ]
    }
   ],
   "source": [
    "lr = LogisticRegression()\n",
    "lr.fit(X_train, y_train)\n",
    "eval_classification(lr)"
   ]
  },
  {
   "cell_type": "code",
   "execution_count": 270,
   "metadata": {},
   "outputs": [
    {
     "data": {
      "image/png": "[encoded data removed]",
      "text/plain": [
       "<Figure size 640x480 with 1 Axes>"
      ]
     },
     "metadata": {},
     "output_type": "display_data"
    }
   ],
   "source": [
    "plot_learning_curve(lr, \"Learning curve\", X_train, y_train, X_test, y_test, cv=5,n_jobs=-1)\n",
    "plt.show()"
   ]
  },
  {
   "attachments": {},
   "cell_type": "markdown",
   "metadata": {},
   "source": [
    "##### Decision Tree"
   ]
  },
  {
   "cell_type": "code",
   "execution_count": 258,
   "metadata": {},
   "outputs": [
    {
     "name": "stdout",
     "output_type": "stream",
     "text": [
      "Accuracy (Test Set): 0.912\n",
      "Precision (Test Set): 0.765\n",
      "Recall (Test Set): 0.929\n",
      "F1-Score (Test Set): 0.839\n",
      "roc_auc (test-proba): 0.918\n",
      "roc_auc (train-proba): 1.000\n",
      "roc_auc (crossval train): 1.000\n",
      "roc_auc (crossval test): 0.881\n"
     ]
    }
   ],
   "source": [
    "dt = DecisionTreeClassifier()\n",
    "dt.fit(X_train, y_train)\n",
    "eval_classification(dt)"
   ]
  },
  {
   "cell_type": "code",
   "execution_count": 271,
   "metadata": {},
   "outputs": [
    {
     "data": {
      "image/png": "[encoded data removed]",
      "text/plain": [
       "<Figure size 640x480 with 1 Axes>"
      ]
     },
     "metadata": {},
     "output_type": "display_data"
    }
   ],
   "source": [
    "plot_learning_curve(dt, \"Learning curve\", X_train, y_train, X_test, y_test, cv=5,n_jobs=-1)\n",
    "plt.show()"
   ]
  },
  {
   "attachments": {},
   "cell_type": "markdown",
   "metadata": {},
   "source": [
    "##### k-Nearest Neighbors"
   ]
  },
  {
   "cell_type": "code",
   "execution_count": 261,
   "metadata": {},
   "outputs": [
    {
     "name": "stdout",
     "output_type": "stream",
     "text": [
      "Accuracy (Test Set): 0.737\n",
      "Precision (Test Set): 0.000\n",
      "Recall (Test Set): 0.000\n",
      "F1-Score (Test Set): 0.000\n",
      "roc_auc (test-proba): 0.557\n",
      "roc_auc (train-proba): 0.923\n",
      "roc_auc (crossval train): 0.916\n",
      "roc_auc (crossval test): 0.714\n"
     ]
    }
   ],
   "source": [
    "knn = KNeighborsClassifier()\n",
    "knn.fit(X_train, y_train)\n",
    "eval_classification(knn)"
   ]
  },
  {
   "cell_type": "code",
   "execution_count": 272,
   "metadata": {},
   "outputs": [
    {
     "data": {
      "image/png": "[encoded data removed]",
      "text/plain": [
       "<Figure size 640x480 with 1 Axes>"
      ]
     },
     "metadata": {},
     "output_type": "display_data"
    }
   ],
   "source": [
    "plot_learning_curve(knn, \"Learning curve\", X_train, y_train, X_test, y_test, cv=5,n_jobs=-1)\n",
    "plt.show()"
   ]
  },
  {
   "cell_type": "markdown",
   "metadata": {},
   "source": [
    "##### Random Forest"
   ]
  },
  {
   "cell_type": "code",
   "execution_count": 259,
   "metadata": {},
   "outputs": [
    {
     "name": "stdout",
     "output_type": "stream",
     "text": [
      "Accuracy (Test Set): 0.912\n",
      "Precision (Test Set): 1.000\n",
      "Recall (Test Set): 0.643\n",
      "F1-Score (Test Set): 0.783\n",
      "roc_auc (test-proba): 0.970\n",
      "roc_auc (train-proba): 0.995\n",
      "roc_auc (crossval train): 0.998\n",
      "roc_auc (crossval test): 0.970\n"
     ]
    }
   ],
   "source": [
    "rf = RandomForestClassifier(max_depth=4, random_state=42)\n",
    "rf.fit(X_train, y_train)\n",
    "eval_classification(rf)"
   ]
  },
  {
   "cell_type": "code",
   "execution_count": 273,
   "metadata": {},
   "outputs": [
    {
     "data": {
      "image/png": "[encoded data removed]",
      "text/plain": [
       "<Figure size 640x480 with 1 Axes>"
      ]
     },
     "metadata": {},
     "output_type": "display_data"
    }
   ],
   "source": [
    "plot_learning_curve(rf, \"Learning curve\", X_train, y_train, X_test, y_test, cv=5,n_jobs=-1)\n",
    "plt.show()"
   ]
  },
  {
   "cell_type": "markdown",
   "metadata": {},
   "source": [
    "##### Extreme Gradient Boosting (XGBoost)"
   ]
  },
  {
   "cell_type": "code",
   "execution_count": 262,
   "metadata": {},
   "outputs": [
    {
     "name": "stdout",
     "output_type": "stream",
     "text": [
      "Accuracy (Test Set): 0.877\n",
      "Precision (Test Set): 0.733\n",
      "Recall (Test Set): 0.786\n",
      "F1-Score (Test Set): 0.759\n",
      "roc_auc (test-proba): 0.920\n",
      "roc_auc (train-proba): 1.000\n",
      "roc_auc (crossval train): 1.000\n",
      "roc_auc (crossval test): 0.894\n"
     ]
    }
   ],
   "source": [
    "xgb = XGBClassifier()\n",
    "xgb.fit(X_train, y_train)\n",
    "eval_classification(xgb)"
   ]
  },
  {
   "cell_type": "code",
   "execution_count": 274,
   "metadata": {},
   "outputs": [
    {
     "data": {
      "image/png": "[encoded data removed]",
      "text/plain": [
       "<Figure size 640x480 with 1 Axes>"
      ]
     },
     "metadata": {},
     "output_type": "display_data"
    }
   ],
   "source": [
    "plot_learning_curve(xgb, \"Learning curve\", X_train, y_train, X_test, y_test, cv=5,n_jobs=-1)\n",
    "plt.show()"
   ]
  },
  {
   "cell_type": "code",
   "execution_count": null,
   "metadata": {},
   "outputs": [],
   "source": []
  }
 ],
 "metadata": {
  "kernelspec": {
   "display_name": "base",
   "language": "python",
   "name": "python3"
  },
  "language_info": {
   "codemirror_mode": {
    "name": "ipython",
    "version": 3
   },
   "file_extension": ".py",
   "mimetype": "text/x-python",
   "name": "python",
   "nbconvert_exporter": "python",
   "pygments_lexer": "ipython3",
   "version": "3.9.13"
  },
  "orig_nbformat": 4,
  "vscode": {
   "interpreter": {
    "hash": "a2ab3825ac7005fb7b26f112e9c99ae62f464c629e30b0d534c3b931b6cbc3ff"
   }
  }
 },
 "nbformat": 4,
 "nbformat_minor": 2
}
