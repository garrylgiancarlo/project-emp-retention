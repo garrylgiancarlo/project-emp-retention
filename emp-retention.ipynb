{
 "cells": [
  {
   "cell_type": "markdown",
   "metadata": {},
   "source": [
    "# Improving Employee Retention by Predicting Employee Attrition Using Machine Learning"
   ]
  },
  {
   "attachments": {},
   "cell_type": "markdown",
   "metadata": {},
   "source": [
    "## Import Library and Dataset"
   ]
  },
  {
   "cell_type": "code",
   "execution_count": 1,
   "metadata": {},
   "outputs": [],
   "source": [
    "import pandas as pd\n",
    "import numpy as np\n",
    "import seaborn as sns\n",
    "import matplotlib.pyplot as plt\n",
    "import plotly.express as px\n",
    "import warnings\n",
    "warnings.filterwarnings('ignore')"
   ]
  },
  {
   "cell_type": "code",
   "execution_count": 2,
   "metadata": {},
   "outputs": [
    {
     "data": {
      "text/html": [
       "<div>\n",
       "<style scoped>\n",
       "    .dataframe tbody tr th:only-of-type {\n",
       "        vertical-align: middle;\n",
       "    }\n",
       "\n",
       "    .dataframe tbody tr th {\n",
       "        vertical-align: top;\n",
       "    }\n",
       "\n",
       "    .dataframe thead th {\n",
       "        text-align: right;\n",
       "    }\n",
       "</style>\n",
       "<table border=\"1\" class=\"dataframe\">\n",
       "  <thead>\n",
       "    <tr style=\"text-align: right;\">\n",
       "      <th></th>\n",
       "      <th>Username</th>\n",
       "      <th>EnterpriseID</th>\n",
       "      <th>StatusPernikahan</th>\n",
       "      <th>JenisKelamin</th>\n",
       "      <th>StatusKepegawaian</th>\n",
       "      <th>Pekerjaan</th>\n",
       "      <th>JenjangKarir</th>\n",
       "      <th>PerformancePegawai</th>\n",
       "      <th>AsalDaerah</th>\n",
       "      <th>HiringPlatform</th>\n",
       "      <th>SkorSurveyEngagement</th>\n",
       "      <th>SkorKepuasanPegawai</th>\n",
       "      <th>JumlahKeikutsertaanProjek</th>\n",
       "      <th>JumlahKeterlambatanSebulanTerakhir</th>\n",
       "      <th>JumlahKetidakhadiran</th>\n",
       "      <th>NomorHP</th>\n",
       "      <th>Email</th>\n",
       "      <th>TingkatPendidikan</th>\n",
       "      <th>PernahBekerja</th>\n",
       "      <th>IkutProgramLOP</th>\n",
       "      <th>AlasanResign</th>\n",
       "      <th>TanggalLahir</th>\n",
       "      <th>TanggalHiring</th>\n",
       "      <th>TanggalPenilaianKaryawan</th>\n",
       "      <th>TanggalResign</th>\n",
       "    </tr>\n",
       "  </thead>\n",
       "  <tbody>\n",
       "    <tr>\n",
       "      <th>257</th>\n",
       "      <td>puzzledUnicorn3</td>\n",
       "      <td>101135</td>\n",
       "      <td>Menikah</td>\n",
       "      <td>Wanita</td>\n",
       "      <td>FullTime</td>\n",
       "      <td>Digital Product Manager</td>\n",
       "      <td>Freshgraduate_program</td>\n",
       "      <td>Sangat_kurang</td>\n",
       "      <td>Jakarta Timur</td>\n",
       "      <td>LinkedIn</td>\n",
       "      <td>4</td>\n",
       "      <td>4.0</td>\n",
       "      <td>0.0</td>\n",
       "      <td>0.0</td>\n",
       "      <td>15.0</td>\n",
       "      <td>+6289989448xxx</td>\n",
       "      <td>puzzledUnicorn3199@outlook.com</td>\n",
       "      <td>Sarjana</td>\n",
       "      <td>1</td>\n",
       "      <td>NaN</td>\n",
       "      <td>NaN</td>\n",
       "      <td>1976-12-26</td>\n",
       "      <td>2013-07-08</td>\n",
       "      <td>2017-06-10</td>\n",
       "      <td>-</td>\n",
       "    </tr>\n",
       "    <tr>\n",
       "      <th>123</th>\n",
       "      <td>dopeyBass1</td>\n",
       "      <td>100398</td>\n",
       "      <td>Lainnya</td>\n",
       "      <td>Wanita</td>\n",
       "      <td>Outsource</td>\n",
       "      <td>Software Engineer (Back End)</td>\n",
       "      <td>Freshgraduate_program</td>\n",
       "      <td>Sangat_kurang</td>\n",
       "      <td>Jakarta Utara</td>\n",
       "      <td>Google_Search</td>\n",
       "      <td>3</td>\n",
       "      <td>5.0</td>\n",
       "      <td>0.0</td>\n",
       "      <td>0.0</td>\n",
       "      <td>5.0</td>\n",
       "      <td>+6283144061xxx</td>\n",
       "      <td>dopeyBass1665@proton.com</td>\n",
       "      <td>Magister</td>\n",
       "      <td>1</td>\n",
       "      <td>NaN</td>\n",
       "      <td>masih_bekerja</td>\n",
       "      <td>1967-01-16</td>\n",
       "      <td>2011-01-10</td>\n",
       "      <td>2015-03-04</td>\n",
       "      <td>-</td>\n",
       "    </tr>\n",
       "  </tbody>\n",
       "</table>\n",
       "</div>"
      ],
      "text/plain": [
       "            Username  EnterpriseID StatusPernikahan JenisKelamin  \\\n",
       "257  puzzledUnicorn3        101135          Menikah       Wanita   \n",
       "123       dopeyBass1        100398          Lainnya       Wanita   \n",
       "\n",
       "    StatusKepegawaian                     Pekerjaan           JenjangKarir  \\\n",
       "257          FullTime       Digital Product Manager  Freshgraduate_program   \n",
       "123         Outsource  Software Engineer (Back End)  Freshgraduate_program   \n",
       "\n",
       "    PerformancePegawai     AsalDaerah HiringPlatform  SkorSurveyEngagement  \\\n",
       "257      Sangat_kurang  Jakarta Timur       LinkedIn                     4   \n",
       "123      Sangat_kurang  Jakarta Utara  Google_Search                     3   \n",
       "\n",
       "     SkorKepuasanPegawai  JumlahKeikutsertaanProjek  \\\n",
       "257                  4.0                        0.0   \n",
       "123                  5.0                        0.0   \n",
       "\n",
       "     JumlahKeterlambatanSebulanTerakhir  JumlahKetidakhadiran         NomorHP  \\\n",
       "257                                 0.0                  15.0  +6289989448xxx   \n",
       "123                                 0.0                   5.0  +6283144061xxx   \n",
       "\n",
       "                              Email TingkatPendidikan PernahBekerja  \\\n",
       "257  puzzledUnicorn3199@outlook.com           Sarjana             1   \n",
       "123        dopeyBass1665@proton.com          Magister             1   \n",
       "\n",
       "     IkutProgramLOP   AlasanResign TanggalLahir TanggalHiring  \\\n",
       "257             NaN            NaN   1976-12-26    2013-07-08   \n",
       "123             NaN  masih_bekerja   1967-01-16    2011-01-10   \n",
       "\n",
       "    TanggalPenilaianKaryawan TanggalResign  \n",
       "257               2017-06-10             -  \n",
       "123               2015-03-04             -  "
      ]
     },
     "execution_count": 2,
     "metadata": {},
     "output_type": "execute_result"
    }
   ],
   "source": [
    "data_raw = pd.read_csv(r'Improving Employee Retention by Predicting Employee Attrition Using Machine Learning.xlsx - hr_data.csv')\n",
    "pd.set_option('display.max_column', None)\n",
    "data_raw.sample(2)"
   ]
  },
  {
   "attachments": {},
   "cell_type": "markdown",
   "metadata": {},
   "source": [
    "## Data Understanding"
   ]
  },
  {
   "cell_type": "code",
   "execution_count": 3,
   "metadata": {},
   "outputs": [
    {
     "data": {
      "text/plain": [
       "(287, 25)"
      ]
     },
     "execution_count": 3,
     "metadata": {},
     "output_type": "execute_result"
    }
   ],
   "source": [
    "data_raw.shape"
   ]
  },
  {
   "cell_type": "code",
   "execution_count": 4,
   "metadata": {},
   "outputs": [
    {
     "name": "stdout",
     "output_type": "stream",
     "text": [
      "<class 'pandas.core.frame.DataFrame'>\n",
      "RangeIndex: 287 entries, 0 to 286\n",
      "Data columns (total 25 columns):\n",
      " #   Column                              Non-Null Count  Dtype  \n",
      "---  ------                              --------------  -----  \n",
      " 0   Username                            287 non-null    object \n",
      " 1   EnterpriseID                        287 non-null    int64  \n",
      " 2   StatusPernikahan                    287 non-null    object \n",
      " 3   JenisKelamin                        287 non-null    object \n",
      " 4   StatusKepegawaian                   287 non-null    object \n",
      " 5   Pekerjaan                           287 non-null    object \n",
      " 6   JenjangKarir                        287 non-null    object \n",
      " 7   PerformancePegawai                  287 non-null    object \n",
      " 8   AsalDaerah                          287 non-null    object \n",
      " 9   HiringPlatform                      287 non-null    object \n",
      " 10  SkorSurveyEngagement                287 non-null    int64  \n",
      " 11  SkorKepuasanPegawai                 282 non-null    float64\n",
      " 12  JumlahKeikutsertaanProjek           284 non-null    float64\n",
      " 13  JumlahKeterlambatanSebulanTerakhir  286 non-null    float64\n",
      " 14  JumlahKetidakhadiran                281 non-null    float64\n",
      " 15  NomorHP                             287 non-null    object \n",
      " 16  Email                               287 non-null    object \n",
      " 17  TingkatPendidikan                   287 non-null    object \n",
      " 18  PernahBekerja                       287 non-null    object \n",
      " 19  IkutProgramLOP                      29 non-null     float64\n",
      " 20  AlasanResign                        221 non-null    object \n",
      " 21  TanggalLahir                        287 non-null    object \n",
      " 22  TanggalHiring                       287 non-null    object \n",
      " 23  TanggalPenilaianKaryawan            287 non-null    object \n",
      " 24  TanggalResign                       287 non-null    object \n",
      "dtypes: float64(5), int64(2), object(18)\n",
      "memory usage: 56.2+ KB\n"
     ]
    }
   ],
   "source": [
    "data_raw.info()"
   ]
  },
  {
   "cell_type": "code",
   "execution_count": 5,
   "metadata": {},
   "outputs": [
    {
     "data": {
      "text/html": [
       "<div>\n",
       "<style scoped>\n",
       "    .dataframe tbody tr th:only-of-type {\n",
       "        vertical-align: middle;\n",
       "    }\n",
       "\n",
       "    .dataframe tbody tr th {\n",
       "        vertical-align: top;\n",
       "    }\n",
       "\n",
       "    .dataframe thead th {\n",
       "        text-align: right;\n",
       "    }\n",
       "</style>\n",
       "<table border=\"1\" class=\"dataframe\">\n",
       "  <thead>\n",
       "    <tr style=\"text-align: right;\">\n",
       "      <th></th>\n",
       "      <th>feature_name</th>\n",
       "      <th>sum_missing</th>\n",
       "      <th>percent_missing</th>\n",
       "    </tr>\n",
       "  </thead>\n",
       "  <tbody>\n",
       "    <tr>\n",
       "      <th>19</th>\n",
       "      <td>IkutProgramLOP</td>\n",
       "      <td>258</td>\n",
       "      <td>89.90</td>\n",
       "    </tr>\n",
       "    <tr>\n",
       "      <th>20</th>\n",
       "      <td>AlasanResign</td>\n",
       "      <td>66</td>\n",
       "      <td>23.00</td>\n",
       "    </tr>\n",
       "    <tr>\n",
       "      <th>14</th>\n",
       "      <td>JumlahKetidakhadiran</td>\n",
       "      <td>6</td>\n",
       "      <td>2.09</td>\n",
       "    </tr>\n",
       "    <tr>\n",
       "      <th>11</th>\n",
       "      <td>SkorKepuasanPegawai</td>\n",
       "      <td>5</td>\n",
       "      <td>1.74</td>\n",
       "    </tr>\n",
       "    <tr>\n",
       "      <th>12</th>\n",
       "      <td>JumlahKeikutsertaanProjek</td>\n",
       "      <td>3</td>\n",
       "      <td>1.05</td>\n",
       "    </tr>\n",
       "    <tr>\n",
       "      <th>13</th>\n",
       "      <td>JumlahKeterlambatanSebulanTerakhir</td>\n",
       "      <td>1</td>\n",
       "      <td>0.35</td>\n",
       "    </tr>\n",
       "    <tr>\n",
       "      <th>23</th>\n",
       "      <td>TanggalPenilaianKaryawan</td>\n",
       "      <td>0</td>\n",
       "      <td>0.00</td>\n",
       "    </tr>\n",
       "    <tr>\n",
       "      <th>22</th>\n",
       "      <td>TanggalHiring</td>\n",
       "      <td>0</td>\n",
       "      <td>0.00</td>\n",
       "    </tr>\n",
       "    <tr>\n",
       "      <th>21</th>\n",
       "      <td>TanggalLahir</td>\n",
       "      <td>0</td>\n",
       "      <td>0.00</td>\n",
       "    </tr>\n",
       "    <tr>\n",
       "      <th>18</th>\n",
       "      <td>PernahBekerja</td>\n",
       "      <td>0</td>\n",
       "      <td>0.00</td>\n",
       "    </tr>\n",
       "    <tr>\n",
       "      <th>17</th>\n",
       "      <td>TingkatPendidikan</td>\n",
       "      <td>0</td>\n",
       "      <td>0.00</td>\n",
       "    </tr>\n",
       "    <tr>\n",
       "      <th>16</th>\n",
       "      <td>Email</td>\n",
       "      <td>0</td>\n",
       "      <td>0.00</td>\n",
       "    </tr>\n",
       "    <tr>\n",
       "      <th>15</th>\n",
       "      <td>NomorHP</td>\n",
       "      <td>0</td>\n",
       "      <td>0.00</td>\n",
       "    </tr>\n",
       "    <tr>\n",
       "      <th>0</th>\n",
       "      <td>Username</td>\n",
       "      <td>0</td>\n",
       "      <td>0.00</td>\n",
       "    </tr>\n",
       "    <tr>\n",
       "      <th>1</th>\n",
       "      <td>EnterpriseID</td>\n",
       "      <td>0</td>\n",
       "      <td>0.00</td>\n",
       "    </tr>\n",
       "    <tr>\n",
       "      <th>10</th>\n",
       "      <td>SkorSurveyEngagement</td>\n",
       "      <td>0</td>\n",
       "      <td>0.00</td>\n",
       "    </tr>\n",
       "    <tr>\n",
       "      <th>9</th>\n",
       "      <td>HiringPlatform</td>\n",
       "      <td>0</td>\n",
       "      <td>0.00</td>\n",
       "    </tr>\n",
       "    <tr>\n",
       "      <th>8</th>\n",
       "      <td>AsalDaerah</td>\n",
       "      <td>0</td>\n",
       "      <td>0.00</td>\n",
       "    </tr>\n",
       "    <tr>\n",
       "      <th>7</th>\n",
       "      <td>PerformancePegawai</td>\n",
       "      <td>0</td>\n",
       "      <td>0.00</td>\n",
       "    </tr>\n",
       "    <tr>\n",
       "      <th>6</th>\n",
       "      <td>JenjangKarir</td>\n",
       "      <td>0</td>\n",
       "      <td>0.00</td>\n",
       "    </tr>\n",
       "    <tr>\n",
       "      <th>5</th>\n",
       "      <td>Pekerjaan</td>\n",
       "      <td>0</td>\n",
       "      <td>0.00</td>\n",
       "    </tr>\n",
       "    <tr>\n",
       "      <th>4</th>\n",
       "      <td>StatusKepegawaian</td>\n",
       "      <td>0</td>\n",
       "      <td>0.00</td>\n",
       "    </tr>\n",
       "    <tr>\n",
       "      <th>3</th>\n",
       "      <td>JenisKelamin</td>\n",
       "      <td>0</td>\n",
       "      <td>0.00</td>\n",
       "    </tr>\n",
       "    <tr>\n",
       "      <th>2</th>\n",
       "      <td>StatusPernikahan</td>\n",
       "      <td>0</td>\n",
       "      <td>0.00</td>\n",
       "    </tr>\n",
       "    <tr>\n",
       "      <th>24</th>\n",
       "      <td>TanggalResign</td>\n",
       "      <td>0</td>\n",
       "      <td>0.00</td>\n",
       "    </tr>\n",
       "  </tbody>\n",
       "</table>\n",
       "</div>"
      ],
      "text/plain": [
       "                          feature_name  sum_missing  percent_missing\n",
       "19                      IkutProgramLOP          258            89.90\n",
       "20                        AlasanResign           66            23.00\n",
       "14                JumlahKetidakhadiran            6             2.09\n",
       "11                 SkorKepuasanPegawai            5             1.74\n",
       "12           JumlahKeikutsertaanProjek            3             1.05\n",
       "13  JumlahKeterlambatanSebulanTerakhir            1             0.35\n",
       "23            TanggalPenilaianKaryawan            0             0.00\n",
       "22                       TanggalHiring            0             0.00\n",
       "21                        TanggalLahir            0             0.00\n",
       "18                       PernahBekerja            0             0.00\n",
       "17                   TingkatPendidikan            0             0.00\n",
       "16                               Email            0             0.00\n",
       "15                             NomorHP            0             0.00\n",
       "0                             Username            0             0.00\n",
       "1                         EnterpriseID            0             0.00\n",
       "10                SkorSurveyEngagement            0             0.00\n",
       "9                       HiringPlatform            0             0.00\n",
       "8                           AsalDaerah            0             0.00\n",
       "7                   PerformancePegawai            0             0.00\n",
       "6                         JenjangKarir            0             0.00\n",
       "5                            Pekerjaan            0             0.00\n",
       "4                    StatusKepegawaian            0             0.00\n",
       "3                         JenisKelamin            0             0.00\n",
       "2                     StatusPernikahan            0             0.00\n",
       "24                       TanggalResign            0             0.00"
      ]
     },
     "execution_count": 5,
     "metadata": {},
     "output_type": "execute_result"
    }
   ],
   "source": [
    "sum_missing = data_raw.isna().sum()\n",
    "percent_missing = round(data_raw.isnull().sum() *100 / len(data_raw),2)\n",
    "missing_value_df = pd.DataFrame({'feature_name': data_raw.columns,\n",
    "                                 'sum_missing': sum_missing,\n",
    "                                 'percent_missing': percent_missing}).reset_index(drop=True).sort_values(by='sum_missing', ascending=False)\n",
    "missing_value_df.head(100)"
   ]
  },
  {
   "cell_type": "code",
   "execution_count": 6,
   "metadata": {},
   "outputs": [
    {
     "data": {
      "text/html": [
       "<div>\n",
       "<style scoped>\n",
       "    .dataframe tbody tr th:only-of-type {\n",
       "        vertical-align: middle;\n",
       "    }\n",
       "\n",
       "    .dataframe tbody tr th {\n",
       "        vertical-align: top;\n",
       "    }\n",
       "\n",
       "    .dataframe thead th {\n",
       "        text-align: right;\n",
       "    }\n",
       "</style>\n",
       "<table border=\"1\" class=\"dataframe\">\n",
       "  <thead>\n",
       "    <tr style=\"text-align: right;\">\n",
       "      <th></th>\n",
       "      <th>count</th>\n",
       "      <th>mean</th>\n",
       "      <th>std</th>\n",
       "      <th>min</th>\n",
       "      <th>25%</th>\n",
       "      <th>50%</th>\n",
       "      <th>75%</th>\n",
       "      <th>max</th>\n",
       "    </tr>\n",
       "  </thead>\n",
       "  <tbody>\n",
       "    <tr>\n",
       "      <th>EnterpriseID</th>\n",
       "      <td>287.0</td>\n",
       "      <td>105923.324042</td>\n",
       "      <td>4044.977599</td>\n",
       "      <td>100282.0</td>\n",
       "      <td>101269.0</td>\n",
       "      <td>106069.0</td>\n",
       "      <td>110514.5</td>\n",
       "      <td>111703.0</td>\n",
       "    </tr>\n",
       "    <tr>\n",
       "      <th>SkorSurveyEngagement</th>\n",
       "      <td>287.0</td>\n",
       "      <td>3.101045</td>\n",
       "      <td>0.836388</td>\n",
       "      <td>1.0</td>\n",
       "      <td>3.0</td>\n",
       "      <td>3.0</td>\n",
       "      <td>4.0</td>\n",
       "      <td>5.0</td>\n",
       "    </tr>\n",
       "    <tr>\n",
       "      <th>SkorKepuasanPegawai</th>\n",
       "      <td>282.0</td>\n",
       "      <td>3.904255</td>\n",
       "      <td>0.913355</td>\n",
       "      <td>1.0</td>\n",
       "      <td>3.0</td>\n",
       "      <td>4.0</td>\n",
       "      <td>5.0</td>\n",
       "      <td>5.0</td>\n",
       "    </tr>\n",
       "    <tr>\n",
       "      <th>JumlahKeikutsertaanProjek</th>\n",
       "      <td>284.0</td>\n",
       "      <td>1.179577</td>\n",
       "      <td>2.294441</td>\n",
       "      <td>0.0</td>\n",
       "      <td>0.0</td>\n",
       "      <td>0.0</td>\n",
       "      <td>0.0</td>\n",
       "      <td>8.0</td>\n",
       "    </tr>\n",
       "    <tr>\n",
       "      <th>JumlahKeterlambatanSebulanTerakhir</th>\n",
       "      <td>286.0</td>\n",
       "      <td>0.412587</td>\n",
       "      <td>1.275016</td>\n",
       "      <td>0.0</td>\n",
       "      <td>0.0</td>\n",
       "      <td>0.0</td>\n",
       "      <td>0.0</td>\n",
       "      <td>6.0</td>\n",
       "    </tr>\n",
       "    <tr>\n",
       "      <th>JumlahKetidakhadiran</th>\n",
       "      <td>281.0</td>\n",
       "      <td>10.448399</td>\n",
       "      <td>6.902252</td>\n",
       "      <td>1.0</td>\n",
       "      <td>5.0</td>\n",
       "      <td>10.0</td>\n",
       "      <td>15.0</td>\n",
       "      <td>55.0</td>\n",
       "    </tr>\n",
       "    <tr>\n",
       "      <th>IkutProgramLOP</th>\n",
       "      <td>29.0</td>\n",
       "      <td>0.517241</td>\n",
       "      <td>0.508548</td>\n",
       "      <td>0.0</td>\n",
       "      <td>0.0</td>\n",
       "      <td>1.0</td>\n",
       "      <td>1.0</td>\n",
       "      <td>1.0</td>\n",
       "    </tr>\n",
       "  </tbody>\n",
       "</table>\n",
       "</div>"
      ],
      "text/plain": [
       "                                    count           mean          std  \\\n",
       "EnterpriseID                        287.0  105923.324042  4044.977599   \n",
       "SkorSurveyEngagement                287.0       3.101045     0.836388   \n",
       "SkorKepuasanPegawai                 282.0       3.904255     0.913355   \n",
       "JumlahKeikutsertaanProjek           284.0       1.179577     2.294441   \n",
       "JumlahKeterlambatanSebulanTerakhir  286.0       0.412587     1.275016   \n",
       "JumlahKetidakhadiran                281.0      10.448399     6.902252   \n",
       "IkutProgramLOP                       29.0       0.517241     0.508548   \n",
       "\n",
       "                                         min       25%       50%       75%  \\\n",
       "EnterpriseID                        100282.0  101269.0  106069.0  110514.5   \n",
       "SkorSurveyEngagement                     1.0       3.0       3.0       4.0   \n",
       "SkorKepuasanPegawai                      1.0       3.0       4.0       5.0   \n",
       "JumlahKeikutsertaanProjek                0.0       0.0       0.0       0.0   \n",
       "JumlahKeterlambatanSebulanTerakhir       0.0       0.0       0.0       0.0   \n",
       "JumlahKetidakhadiran                     1.0       5.0      10.0      15.0   \n",
       "IkutProgramLOP                           0.0       0.0       1.0       1.0   \n",
       "\n",
       "                                         max  \n",
       "EnterpriseID                        111703.0  \n",
       "SkorSurveyEngagement                     5.0  \n",
       "SkorKepuasanPegawai                      5.0  \n",
       "JumlahKeikutsertaanProjek                8.0  \n",
       "JumlahKeterlambatanSebulanTerakhir       6.0  \n",
       "JumlahKetidakhadiran                    55.0  \n",
       "IkutProgramLOP                           1.0  "
      ]
     },
     "execution_count": 6,
     "metadata": {},
     "output_type": "execute_result"
    }
   ],
   "source": [
    "data_raw.describe().T"
   ]
  },
  {
   "cell_type": "code",
   "execution_count": 7,
   "metadata": {},
   "outputs": [
    {
     "data": {
      "text/html": [
       "<div>\n",
       "<style scoped>\n",
       "    .dataframe tbody tr th:only-of-type {\n",
       "        vertical-align: middle;\n",
       "    }\n",
       "\n",
       "    .dataframe tbody tr th {\n",
       "        vertical-align: top;\n",
       "    }\n",
       "\n",
       "    .dataframe thead th {\n",
       "        text-align: right;\n",
       "    }\n",
       "</style>\n",
       "<table border=\"1\" class=\"dataframe\">\n",
       "  <thead>\n",
       "    <tr style=\"text-align: right;\">\n",
       "      <th></th>\n",
       "      <th>count</th>\n",
       "      <th>unique</th>\n",
       "      <th>top</th>\n",
       "      <th>freq</th>\n",
       "    </tr>\n",
       "  </thead>\n",
       "  <tbody>\n",
       "    <tr>\n",
       "      <th>Username</th>\n",
       "      <td>287</td>\n",
       "      <td>285</td>\n",
       "      <td>boredEggs0</td>\n",
       "      <td>2</td>\n",
       "    </tr>\n",
       "    <tr>\n",
       "      <th>StatusPernikahan</th>\n",
       "      <td>287</td>\n",
       "      <td>5</td>\n",
       "      <td>Belum_menikah</td>\n",
       "      <td>132</td>\n",
       "    </tr>\n",
       "    <tr>\n",
       "      <th>JenisKelamin</th>\n",
       "      <td>287</td>\n",
       "      <td>2</td>\n",
       "      <td>Wanita</td>\n",
       "      <td>167</td>\n",
       "    </tr>\n",
       "    <tr>\n",
       "      <th>StatusKepegawaian</th>\n",
       "      <td>287</td>\n",
       "      <td>3</td>\n",
       "      <td>FullTime</td>\n",
       "      <td>217</td>\n",
       "    </tr>\n",
       "    <tr>\n",
       "      <th>Pekerjaan</th>\n",
       "      <td>287</td>\n",
       "      <td>14</td>\n",
       "      <td>Software Engineer (Back End)</td>\n",
       "      <td>109</td>\n",
       "    </tr>\n",
       "    <tr>\n",
       "      <th>JenjangKarir</th>\n",
       "      <td>287</td>\n",
       "      <td>3</td>\n",
       "      <td>Freshgraduate_program</td>\n",
       "      <td>169</td>\n",
       "    </tr>\n",
       "    <tr>\n",
       "      <th>PerformancePegawai</th>\n",
       "      <td>287</td>\n",
       "      <td>5</td>\n",
       "      <td>Biasa</td>\n",
       "      <td>85</td>\n",
       "    </tr>\n",
       "    <tr>\n",
       "      <th>AsalDaerah</th>\n",
       "      <td>287</td>\n",
       "      <td>5</td>\n",
       "      <td>Jakarta Pusat</td>\n",
       "      <td>72</td>\n",
       "    </tr>\n",
       "    <tr>\n",
       "      <th>HiringPlatform</th>\n",
       "      <td>287</td>\n",
       "      <td>9</td>\n",
       "      <td>Indeed</td>\n",
       "      <td>85</td>\n",
       "    </tr>\n",
       "    <tr>\n",
       "      <th>NomorHP</th>\n",
       "      <td>287</td>\n",
       "      <td>287</td>\n",
       "      <td>+6282232522xxx</td>\n",
       "      <td>1</td>\n",
       "    </tr>\n",
       "    <tr>\n",
       "      <th>Email</th>\n",
       "      <td>287</td>\n",
       "      <td>287</td>\n",
       "      <td>spiritedPorpoise3135@yahoo.com</td>\n",
       "      <td>1</td>\n",
       "    </tr>\n",
       "    <tr>\n",
       "      <th>TingkatPendidikan</th>\n",
       "      <td>287</td>\n",
       "      <td>3</td>\n",
       "      <td>Sarjana</td>\n",
       "      <td>176</td>\n",
       "    </tr>\n",
       "    <tr>\n",
       "      <th>PernahBekerja</th>\n",
       "      <td>287</td>\n",
       "      <td>2</td>\n",
       "      <td>1</td>\n",
       "      <td>286</td>\n",
       "    </tr>\n",
       "    <tr>\n",
       "      <th>AlasanResign</th>\n",
       "      <td>221</td>\n",
       "      <td>11</td>\n",
       "      <td>masih_bekerja</td>\n",
       "      <td>132</td>\n",
       "    </tr>\n",
       "    <tr>\n",
       "      <th>TanggalLahir</th>\n",
       "      <td>287</td>\n",
       "      <td>284</td>\n",
       "      <td>1987-06-14</td>\n",
       "      <td>2</td>\n",
       "    </tr>\n",
       "    <tr>\n",
       "      <th>TanggalHiring</th>\n",
       "      <td>287</td>\n",
       "      <td>97</td>\n",
       "      <td>2011-01-10</td>\n",
       "      <td>12</td>\n",
       "    </tr>\n",
       "    <tr>\n",
       "      <th>TanggalPenilaianKaryawan</th>\n",
       "      <td>287</td>\n",
       "      <td>127</td>\n",
       "      <td>2020-1-14</td>\n",
       "      <td>17</td>\n",
       "    </tr>\n",
       "    <tr>\n",
       "      <th>TanggalResign</th>\n",
       "      <td>287</td>\n",
       "      <td>53</td>\n",
       "      <td>-</td>\n",
       "      <td>198</td>\n",
       "    </tr>\n",
       "  </tbody>\n",
       "</table>\n",
       "</div>"
      ],
      "text/plain": [
       "                         count unique                             top freq\n",
       "Username                   287    285                      boredEggs0    2\n",
       "StatusPernikahan           287      5                   Belum_menikah  132\n",
       "JenisKelamin               287      2                          Wanita  167\n",
       "StatusKepegawaian          287      3                        FullTime  217\n",
       "Pekerjaan                  287     14    Software Engineer (Back End)  109\n",
       "JenjangKarir               287      3           Freshgraduate_program  169\n",
       "PerformancePegawai         287      5                           Biasa   85\n",
       "AsalDaerah                 287      5                   Jakarta Pusat   72\n",
       "HiringPlatform             287      9                          Indeed   85\n",
       "NomorHP                    287    287                  +6282232522xxx    1\n",
       "Email                      287    287  spiritedPorpoise3135@yahoo.com    1\n",
       "TingkatPendidikan          287      3                         Sarjana  176\n",
       "PernahBekerja              287      2                               1  286\n",
       "AlasanResign               221     11                   masih_bekerja  132\n",
       "TanggalLahir               287    284                      1987-06-14    2\n",
       "TanggalHiring              287     97                      2011-01-10   12\n",
       "TanggalPenilaianKaryawan   287    127                       2020-1-14   17\n",
       "TanggalResign              287     53                               -  198"
      ]
     },
     "execution_count": 7,
     "metadata": {},
     "output_type": "execute_result"
    }
   ],
   "source": [
    "data_raw.select_dtypes(include='object').describe().T"
   ]
  },
  {
   "cell_type": "code",
   "execution_count": 8,
   "metadata": {},
   "outputs": [
    {
     "data": {
      "text/plain": [
       "Username                              285\n",
       "EnterpriseID                          287\n",
       "StatusPernikahan                        5\n",
       "JenisKelamin                            2\n",
       "StatusKepegawaian                       3\n",
       "Pekerjaan                              14\n",
       "JenjangKarir                            3\n",
       "PerformancePegawai                      5\n",
       "AsalDaerah                              5\n",
       "HiringPlatform                          9\n",
       "SkorSurveyEngagement                    5\n",
       "SkorKepuasanPegawai                     5\n",
       "JumlahKeikutsertaanProjek               9\n",
       "JumlahKeterlambatanSebulanTerakhir      7\n",
       "JumlahKetidakhadiran                   22\n",
       "NomorHP                               287\n",
       "Email                                 287\n",
       "TingkatPendidikan                       3\n",
       "PernahBekerja                           2\n",
       "IkutProgramLOP                          2\n",
       "AlasanResign                           11\n",
       "TanggalLahir                          284\n",
       "TanggalHiring                          97\n",
       "TanggalPenilaianKaryawan              127\n",
       "TanggalResign                          53\n",
       "dtype: int64"
      ]
     },
     "execution_count": 8,
     "metadata": {},
     "output_type": "execute_result"
    }
   ],
   "source": [
    "data_raw.nunique()"
   ]
  },
  {
   "attachments": {},
   "cell_type": "markdown",
   "metadata": {},
   "source": [
    "## Preprocessing"
   ]
  },
  {
   "attachments": {},
   "cell_type": "markdown",
   "metadata": {},
   "source": [
    "### Feature Engineering"
   ]
  },
  {
   "attachments": {},
   "cell_type": "markdown",
   "metadata": {},
   "source": [
    "Sebelum melakukan preprocessing data lainnya, ada baiknya kita drop beberapa feature yang nantinya tidak/kurang berguna untuk analisis maupun untuk modeling:\n",
    "1. Feature identitas seperti `Username, EnterpriseID, NomorHP,Email`\n",
    "2. `IkutProgramLOP` karena mengandung terlalu banyak missing value\n",
    "3. `TanggalPenilaianKaryawan` karena banyak ditemukan data yang kurang valid(tanggal penilaian setelah karyawan resign)"
   ]
  },
  {
   "cell_type": "code",
   "execution_count": 9,
   "metadata": {},
   "outputs": [],
   "source": [
    "feature_drop = [# Identitas\n",
    "                'Username',\n",
    "                'EnterpriseID',\n",
    "                'NomorHP',\n",
    "                'Email',\n",
    "                # Missing value > 80%\n",
    "                'IkutProgramLOP',\n",
    "                # Invalid\n",
    "                'TanggalPenilaianKaryawan'\n",
    "]"
   ]
  },
  {
   "cell_type": "code",
   "execution_count": 10,
   "metadata": {},
   "outputs": [],
   "source": [
    "data_pre = data_raw.drop(feature_drop, axis=1)"
   ]
  },
  {
   "cell_type": "code",
   "execution_count": 11,
   "metadata": {},
   "outputs": [
    {
     "data": {
      "text/html": [
       "<div>\n",
       "<style scoped>\n",
       "    .dataframe tbody tr th:only-of-type {\n",
       "        vertical-align: middle;\n",
       "    }\n",
       "\n",
       "    .dataframe tbody tr th {\n",
       "        vertical-align: top;\n",
       "    }\n",
       "\n",
       "    .dataframe thead th {\n",
       "        text-align: right;\n",
       "    }\n",
       "</style>\n",
       "<table border=\"1\" class=\"dataframe\">\n",
       "  <thead>\n",
       "    <tr style=\"text-align: right;\">\n",
       "      <th></th>\n",
       "      <th>StatusPernikahan</th>\n",
       "      <th>JenisKelamin</th>\n",
       "      <th>StatusKepegawaian</th>\n",
       "      <th>Pekerjaan</th>\n",
       "      <th>JenjangKarir</th>\n",
       "      <th>PerformancePegawai</th>\n",
       "      <th>AsalDaerah</th>\n",
       "      <th>HiringPlatform</th>\n",
       "      <th>SkorSurveyEngagement</th>\n",
       "      <th>SkorKepuasanPegawai</th>\n",
       "      <th>JumlahKeikutsertaanProjek</th>\n",
       "      <th>JumlahKeterlambatanSebulanTerakhir</th>\n",
       "      <th>JumlahKetidakhadiran</th>\n",
       "      <th>TingkatPendidikan</th>\n",
       "      <th>PernahBekerja</th>\n",
       "      <th>AlasanResign</th>\n",
       "      <th>TanggalLahir</th>\n",
       "      <th>TanggalHiring</th>\n",
       "      <th>TanggalResign</th>\n",
       "    </tr>\n",
       "  </thead>\n",
       "  <tbody>\n",
       "    <tr>\n",
       "      <th>0</th>\n",
       "      <td>Belum_menikah</td>\n",
       "      <td>Pria</td>\n",
       "      <td>Outsource</td>\n",
       "      <td>Software Engineer (Back End)</td>\n",
       "      <td>Freshgraduate_program</td>\n",
       "      <td>Sangat_bagus</td>\n",
       "      <td>Jakarta Timur</td>\n",
       "      <td>Employee_Referral</td>\n",
       "      <td>4</td>\n",
       "      <td>4.0</td>\n",
       "      <td>0.0</td>\n",
       "      <td>0.0</td>\n",
       "      <td>9.0</td>\n",
       "      <td>Magister</td>\n",
       "      <td>1</td>\n",
       "      <td>masih_bekerja</td>\n",
       "      <td>1972-07-01</td>\n",
       "      <td>2011-01-10</td>\n",
       "      <td>-</td>\n",
       "    </tr>\n",
       "  </tbody>\n",
       "</table>\n",
       "</div>"
      ],
      "text/plain": [
       "  StatusPernikahan JenisKelamin StatusKepegawaian  \\\n",
       "0    Belum_menikah         Pria         Outsource   \n",
       "\n",
       "                      Pekerjaan           JenjangKarir PerformancePegawai  \\\n",
       "0  Software Engineer (Back End)  Freshgraduate_program       Sangat_bagus   \n",
       "\n",
       "      AsalDaerah     HiringPlatform  SkorSurveyEngagement  \\\n",
       "0  Jakarta Timur  Employee_Referral                     4   \n",
       "\n",
       "   SkorKepuasanPegawai  JumlahKeikutsertaanProjek  \\\n",
       "0                  4.0                        0.0   \n",
       "\n",
       "   JumlahKeterlambatanSebulanTerakhir  JumlahKetidakhadiran TingkatPendidikan  \\\n",
       "0                                 0.0                   9.0          Magister   \n",
       "\n",
       "  PernahBekerja   AlasanResign TanggalLahir TanggalHiring TanggalResign  \n",
       "0             1  masih_bekerja   1972-07-01    2011-01-10             -  "
      ]
     },
     "execution_count": 11,
     "metadata": {},
     "output_type": "execute_result"
    }
   ],
   "source": [
    "data_pre.head(1)"
   ]
  },
  {
   "attachments": {},
   "cell_type": "markdown",
   "metadata": {},
   "source": [
    "#### Labeling/Define Target"
   ]
  },
  {
   "attachments": {},
   "cell_type": "markdown",
   "metadata": {},
   "source": [
    "Dalam modeling ini, tujuan utamanya untuk memprediksi pengunduran diri karyawan berdasarkan dari perilaku, karakteristik, dan faktor lain dari feature yang tersedia. Oleh karena itu, target dari dataset ini menjelaskan apakah karyawan tersebut resign atau tidak\n",
    "<br>\n",
    "<br>\n",
    "Dalam dataset ini feature `AlasanResign` dapat digunakan untuk menjelaskan apakah karyawan tersebut resign atau tidak"
   ]
  },
  {
   "cell_type": "code",
   "execution_count": 12,
   "metadata": {},
   "outputs": [
    {
     "data": {
      "text/plain": [
       "masih_bekerja               132\n",
       "jam_kerja                    16\n",
       "ganti_karir                  14\n",
       "kejelasan_karir              11\n",
       "tidak_bisa_remote            11\n",
       "toxic_culture                10\n",
       "leadership                    9\n",
       "tidak_bahagia                 8\n",
       "internal_conflict             4\n",
       "Product Design (UI & UX)      4\n",
       "apresiasi                     2\n",
       "Name: AlasanResign, dtype: int64"
      ]
     },
     "execution_count": 12,
     "metadata": {},
     "output_type": "execute_result"
    }
   ],
   "source": [
    "data_pre['AlasanResign'].value_counts()"
   ]
  },
  {
   "attachments": {},
   "cell_type": "markdown",
   "metadata": {},
   "source": [
    "Feature `AlasanResign` memiliki beberapa value yang menjelaskan apakah karyawan tersebut `masih_bekerja` atau tidak, dan masing-masing alasan seorang karyawan memilih untuk resign\n",
    "<br> Jadi untuk labeling kita akan membuat feature `resign` dengan value 0 (masih bekerja) dan 1(resign).\n",
    "<br> Namun ada satu yang unik disini dimana ada `AlasanResign` dengan value `Product Design (UI & UX)` dimana hal tersebut adalah posisi dari karyawan tersebut."
   ]
  },
  {
   "cell_type": "code",
   "execution_count": 13,
   "metadata": {},
   "outputs": [
    {
     "data": {
      "text/html": [
       "<div>\n",
       "<style scoped>\n",
       "    .dataframe tbody tr th:only-of-type {\n",
       "        vertical-align: middle;\n",
       "    }\n",
       "\n",
       "    .dataframe tbody tr th {\n",
       "        vertical-align: top;\n",
       "    }\n",
       "\n",
       "    .dataframe thead th {\n",
       "        text-align: right;\n",
       "    }\n",
       "</style>\n",
       "<table border=\"1\" class=\"dataframe\">\n",
       "  <thead>\n",
       "    <tr style=\"text-align: right;\">\n",
       "      <th></th>\n",
       "      <th>StatusPernikahan</th>\n",
       "      <th>JenisKelamin</th>\n",
       "      <th>StatusKepegawaian</th>\n",
       "      <th>Pekerjaan</th>\n",
       "      <th>JenjangKarir</th>\n",
       "      <th>PerformancePegawai</th>\n",
       "      <th>AsalDaerah</th>\n",
       "      <th>HiringPlatform</th>\n",
       "      <th>SkorSurveyEngagement</th>\n",
       "      <th>SkorKepuasanPegawai</th>\n",
       "      <th>JumlahKeikutsertaanProjek</th>\n",
       "      <th>JumlahKeterlambatanSebulanTerakhir</th>\n",
       "      <th>JumlahKetidakhadiran</th>\n",
       "      <th>TingkatPendidikan</th>\n",
       "      <th>PernahBekerja</th>\n",
       "      <th>AlasanResign</th>\n",
       "      <th>TanggalLahir</th>\n",
       "      <th>TanggalHiring</th>\n",
       "      <th>TanggalResign</th>\n",
       "    </tr>\n",
       "  </thead>\n",
       "  <tbody>\n",
       "    <tr>\n",
       "      <th>27</th>\n",
       "      <td>Menikah</td>\n",
       "      <td>Wanita</td>\n",
       "      <td>FullTime</td>\n",
       "      <td>Software Engineer (Front End)</td>\n",
       "      <td>Senior_level</td>\n",
       "      <td>Biasa</td>\n",
       "      <td>Jakarta Selatan</td>\n",
       "      <td>LinkedIn</td>\n",
       "      <td>3</td>\n",
       "      <td>5.0</td>\n",
       "      <td>0.0</td>\n",
       "      <td>0.0</td>\n",
       "      <td>15.0</td>\n",
       "      <td>Sarjana</td>\n",
       "      <td>1</td>\n",
       "      <td>Product Design (UI &amp; UX)</td>\n",
       "      <td>1987-04-10</td>\n",
       "      <td>2016-07-06</td>\n",
       "      <td>2016-08-07</td>\n",
       "    </tr>\n",
       "    <tr>\n",
       "      <th>124</th>\n",
       "      <td>Belum_menikah</td>\n",
       "      <td>Pria</td>\n",
       "      <td>FullTime</td>\n",
       "      <td>Product Design (UI &amp; UX)</td>\n",
       "      <td>Freshgraduate_program</td>\n",
       "      <td>Sangat_bagus</td>\n",
       "      <td>Jakarta Utara</td>\n",
       "      <td>Diversity_Job_Fair</td>\n",
       "      <td>3</td>\n",
       "      <td>3.0</td>\n",
       "      <td>0.0</td>\n",
       "      <td>0.0</td>\n",
       "      <td>19.0</td>\n",
       "      <td>Sarjana</td>\n",
       "      <td>1</td>\n",
       "      <td>Product Design (UI &amp; UX)</td>\n",
       "      <td>1989-05-02</td>\n",
       "      <td>2011-9-26</td>\n",
       "      <td>2017-12-15</td>\n",
       "    </tr>\n",
       "    <tr>\n",
       "      <th>147</th>\n",
       "      <td>Menikah</td>\n",
       "      <td>Wanita</td>\n",
       "      <td>FullTime</td>\n",
       "      <td>Software Engineer (Front End)</td>\n",
       "      <td>Freshgraduate_program</td>\n",
       "      <td>Sangat_bagus</td>\n",
       "      <td>Jakarta Timur</td>\n",
       "      <td>LinkedIn</td>\n",
       "      <td>3</td>\n",
       "      <td>5.0</td>\n",
       "      <td>0.0</td>\n",
       "      <td>0.0</td>\n",
       "      <td>20.0</td>\n",
       "      <td>Sarjana</td>\n",
       "      <td>1</td>\n",
       "      <td>Product Design (UI &amp; UX)</td>\n",
       "      <td>1969-02-09</td>\n",
       "      <td>2012-03-07</td>\n",
       "      <td>2016-4-24</td>\n",
       "    </tr>\n",
       "    <tr>\n",
       "      <th>203</th>\n",
       "      <td>Menikah</td>\n",
       "      <td>Wanita</td>\n",
       "      <td>FullTime</td>\n",
       "      <td>Software Engineer (Back End)</td>\n",
       "      <td>Mid_level</td>\n",
       "      <td>Sangat_bagus</td>\n",
       "      <td>Jakarta Selatan</td>\n",
       "      <td>Website</td>\n",
       "      <td>3</td>\n",
       "      <td>5.0</td>\n",
       "      <td>0.0</td>\n",
       "      <td>0.0</td>\n",
       "      <td>9.0</td>\n",
       "      <td>Sarjana</td>\n",
       "      <td>1</td>\n",
       "      <td>Product Design (UI &amp; UX)</td>\n",
       "      <td>1988-08-29</td>\n",
       "      <td>2012-01-09</td>\n",
       "      <td>2018-04-01</td>\n",
       "    </tr>\n",
       "  </tbody>\n",
       "</table>\n",
       "</div>"
      ],
      "text/plain": [
       "    StatusPernikahan JenisKelamin StatusKepegawaian  \\\n",
       "27           Menikah       Wanita          FullTime   \n",
       "124    Belum_menikah         Pria          FullTime   \n",
       "147          Menikah       Wanita          FullTime   \n",
       "203          Menikah       Wanita          FullTime   \n",
       "\n",
       "                         Pekerjaan           JenjangKarir PerformancePegawai  \\\n",
       "27   Software Engineer (Front End)           Senior_level              Biasa   \n",
       "124       Product Design (UI & UX)  Freshgraduate_program       Sangat_bagus   \n",
       "147  Software Engineer (Front End)  Freshgraduate_program       Sangat_bagus   \n",
       "203   Software Engineer (Back End)              Mid_level       Sangat_bagus   \n",
       "\n",
       "          AsalDaerah      HiringPlatform  SkorSurveyEngagement  \\\n",
       "27   Jakarta Selatan            LinkedIn                     3   \n",
       "124    Jakarta Utara  Diversity_Job_Fair                     3   \n",
       "147    Jakarta Timur            LinkedIn                     3   \n",
       "203  Jakarta Selatan             Website                     3   \n",
       "\n",
       "     SkorKepuasanPegawai  JumlahKeikutsertaanProjek  \\\n",
       "27                   5.0                        0.0   \n",
       "124                  3.0                        0.0   \n",
       "147                  5.0                        0.0   \n",
       "203                  5.0                        0.0   \n",
       "\n",
       "     JumlahKeterlambatanSebulanTerakhir  JumlahKetidakhadiran  \\\n",
       "27                                  0.0                  15.0   \n",
       "124                                 0.0                  19.0   \n",
       "147                                 0.0                  20.0   \n",
       "203                                 0.0                   9.0   \n",
       "\n",
       "    TingkatPendidikan PernahBekerja              AlasanResign TanggalLahir  \\\n",
       "27            Sarjana             1  Product Design (UI & UX)   1987-04-10   \n",
       "124           Sarjana             1  Product Design (UI & UX)   1989-05-02   \n",
       "147           Sarjana             1  Product Design (UI & UX)   1969-02-09   \n",
       "203           Sarjana             1  Product Design (UI & UX)   1988-08-29   \n",
       "\n",
       "    TanggalHiring TanggalResign  \n",
       "27     2016-07-06    2016-08-07  \n",
       "124     2011-9-26    2017-12-15  \n",
       "147    2012-03-07     2016-4-24  \n",
       "203    2012-01-09    2018-04-01  "
      ]
     },
     "execution_count": 13,
     "metadata": {},
     "output_type": "execute_result"
    }
   ],
   "source": [
    "data_pre[(data_pre['AlasanResign']=='Product Design (UI & UX)')].head()"
   ]
  },
  {
   "attachments": {},
   "cell_type": "markdown",
   "metadata": {},
   "source": [
    "Setelah diteliti lebih lanjut, karyawan dengan `AlasanResign` Product Design (UI & UX) sudah ada tanggal resignnya, jadi hal tersebut kemungkinan adalah kesalahan pada proses input data. Supaya tidak membingungkan, kita akan ganti menjadi 'Lainnya'"
   ]
  },
  {
   "cell_type": "code",
   "execution_count": 14,
   "metadata": {},
   "outputs": [],
   "source": [
    "data_pre['AlasanResign'] = data_pre['AlasanResign'].replace({'Product Design (UI & UX)':'Lainnya'})"
   ]
  },
  {
   "cell_type": "code",
   "execution_count": 15,
   "metadata": {},
   "outputs": [
    {
     "data": {
      "text/plain": [
       "66"
      ]
     },
     "execution_count": 15,
     "metadata": {},
     "output_type": "execute_result"
    }
   ],
   "source": [
    "data_pre['AlasanResign'].isna().sum()"
   ]
  },
  {
   "attachments": {},
   "cell_type": "markdown",
   "metadata": {},
   "source": [
    "Terdapat 66 baris yang kosong dalam feature `AlasanResign` untuk memastikan akan diisi apa mari kita apakah karyawan tersebut sudah resign atau belum"
   ]
  },
  {
   "cell_type": "code",
   "execution_count": 16,
   "metadata": {},
   "outputs": [
    {
     "data": {
      "text/plain": [
       "(66, 19)"
      ]
     },
     "execution_count": 16,
     "metadata": {},
     "output_type": "execute_result"
    }
   ],
   "source": [
    "data_res = data_pre[(data_pre['AlasanResign'].isnull()) & (data_pre['TanggalResign']=='-')]\n",
    "data_res.shape"
   ]
  },
  {
   "attachments": {},
   "cell_type": "markdown",
   "metadata": {},
   "source": [
    "Hal tersebut membuktikan bahwa pada feature `AlasanResign` baris yang kosong merupakan karyawan yang masih bekerja semua, oleh karena itu kita akan imputasi masih_bekerja pada baris yang kosong"
   ]
  },
  {
   "cell_type": "code",
   "execution_count": 17,
   "metadata": {},
   "outputs": [],
   "source": [
    "data_pre['AlasanResign'].fillna('masih_bekerja', inplace=True)"
   ]
  },
  {
   "cell_type": "code",
   "execution_count": 18,
   "metadata": {},
   "outputs": [],
   "source": [
    "data_pre['resign'] = np.where((data_pre['AlasanResign']=='masih_bekerja'), 0, 1)"
   ]
  },
  {
   "cell_type": "code",
   "execution_count": 19,
   "metadata": {},
   "outputs": [
    {
     "data": {
      "text/plain": [
       "0    68.989547\n",
       "1    31.010453\n",
       "Name: resign, dtype: float64"
      ]
     },
     "execution_count": 19,
     "metadata": {},
     "output_type": "execute_result"
    }
   ],
   "source": [
    "data_pre['resign'].value_counts(normalize=True)*100"
   ]
  },
  {
   "attachments": {},
   "cell_type": "markdown",
   "metadata": {},
   "source": [
    "### Feature Modification"
   ]
  },
  {
   "attachments": {},
   "cell_type": "markdown",
   "metadata": {},
   "source": [
    "#### TanggalLahir"
   ]
  },
  {
   "attachments": {},
   "cell_type": "markdown",
   "metadata": {},
   "source": [
    "Dengan feature tanggal lahir kita akan memodifikasinya menjadi feature umur. Jika dilihat dari feature tanggal lainnya, dataset ini memuat informasi karyawan sampai dengan tahun 2020, dengan asumsi bahwa dataset ini digunakan pada awal tahun 2021, maka dengan mengurangi tanggal 2021-01-01 dengan `TanggalLahir` kita bisa mengetahui umur dari masing-masing karyawan"
   ]
  },
  {
   "cell_type": "code",
   "execution_count": 20,
   "metadata": {},
   "outputs": [
    {
     "data": {
      "text/plain": [
       "0    1972-07-01\n",
       "1    1984-04-26\n",
       "Name: TanggalLahir, dtype: object"
      ]
     },
     "execution_count": 20,
     "metadata": {},
     "output_type": "execute_result"
    }
   ],
   "source": [
    "data_pre['TanggalLahir'].head(2)"
   ]
  },
  {
   "cell_type": "code",
   "execution_count": 21,
   "metadata": {},
   "outputs": [],
   "source": [
    "data_pre['TanggalLahir'] = pd.to_datetime(data_pre['TanggalLahir'], format='%Y-%m-%d')\n",
    "data_pre['umur'] = round(pd.to_numeric((pd.to_datetime('2021-01-01') - data_pre['TanggalLahir']) / np.timedelta64(1, 'Y')))"
   ]
  },
  {
   "cell_type": "code",
   "execution_count": 22,
   "metadata": {},
   "outputs": [
    {
     "data": {
      "text/plain": [
       "count    287.000000\n",
       "mean      41.864111\n",
       "std        8.873962\n",
       "min       28.000000\n",
       "25%       35.000000\n",
       "50%       40.000000\n",
       "75%       47.000000\n",
       "max       70.000000\n",
       "Name: umur, dtype: float64"
      ]
     },
     "execution_count": 22,
     "metadata": {},
     "output_type": "execute_result"
    }
   ],
   "source": [
    "data_pre['umur'].describe()"
   ]
  },
  {
   "attachments": {},
   "cell_type": "markdown",
   "metadata": {},
   "source": [
    "#### TanggalHiring dan TanggalResign"
   ]
  },
  {
   "attachments": {},
   "cell_type": "markdown",
   "metadata": {},
   "source": [
    "Dari kedua feature ini kita dapat mengetahui berapa lama waktu dari seorang karyawan bekerja dalam bulan dengan cara `TanggalResign` dikurangi `TanggalHiring`. Untuk karyawan yang masih bekerja, akan dikurangi dengan tanggal 2021-01-01"
   ]
  },
  {
   "cell_type": "code",
   "execution_count": 23,
   "metadata": {},
   "outputs": [],
   "source": [
    "# mengisi TanggalResign dengan 2020-12-01 untuk karyawan yang belum resign\n",
    "data_pre['TanggalResign'] = data_pre['TanggalResign'].where(data_pre['TanggalResign'] != '-', '2021-01-01')"
   ]
  },
  {
   "cell_type": "code",
   "execution_count": 24,
   "metadata": {},
   "outputs": [],
   "source": [
    "data_pre['TanggalHiring'] = pd.to_datetime(data_pre['TanggalHiring'],format='%Y-%m-%d')\n",
    "data_pre['TanggalResign'] = pd.to_datetime(data_pre['TanggalResign'],format='%Y-%m-%d')"
   ]
  },
  {
   "cell_type": "code",
   "execution_count": 25,
   "metadata": {},
   "outputs": [],
   "source": [
    "# hitung perbedaan tanggal\n",
    "data_pre['LamaBekerja'] = data_pre['TanggalResign'] - data_pre['TanggalHiring']\n",
    "# konversi perbedaan tanggal ke tahun\n",
    "data_pre['LamaBekerja'] = round(data_pre['LamaBekerja'].apply(lambda x: x.days/365))"
   ]
  },
  {
   "cell_type": "code",
   "execution_count": 26,
   "metadata": {},
   "outputs": [
    {
     "data": {
      "text/plain": [
       "count    287.000000\n",
       "mean       6.749129\n",
       "std        2.867674\n",
       "min       -4.000000\n",
       "25%        6.000000\n",
       "50%        7.000000\n",
       "75%        9.000000\n",
       "max       15.000000\n",
       "Name: LamaBekerja, dtype: float64"
      ]
     },
     "execution_count": 26,
     "metadata": {},
     "output_type": "execute_result"
    }
   ],
   "source": [
    "data_pre['LamaBekerja'].describe()"
   ]
  },
  {
   "cell_type": "code",
   "execution_count": 27,
   "metadata": {},
   "outputs": [
    {
     "data": {
      "text/html": [
       "<div>\n",
       "<style scoped>\n",
       "    .dataframe tbody tr th:only-of-type {\n",
       "        vertical-align: middle;\n",
       "    }\n",
       "\n",
       "    .dataframe tbody tr th {\n",
       "        vertical-align: top;\n",
       "    }\n",
       "\n",
       "    .dataframe thead th {\n",
       "        text-align: right;\n",
       "    }\n",
       "</style>\n",
       "<table border=\"1\" class=\"dataframe\">\n",
       "  <thead>\n",
       "    <tr style=\"text-align: right;\">\n",
       "      <th></th>\n",
       "      <th>StatusPernikahan</th>\n",
       "      <th>JenisKelamin</th>\n",
       "      <th>StatusKepegawaian</th>\n",
       "      <th>Pekerjaan</th>\n",
       "      <th>JenjangKarir</th>\n",
       "      <th>PerformancePegawai</th>\n",
       "      <th>AsalDaerah</th>\n",
       "      <th>HiringPlatform</th>\n",
       "      <th>SkorSurveyEngagement</th>\n",
       "      <th>SkorKepuasanPegawai</th>\n",
       "      <th>JumlahKeikutsertaanProjek</th>\n",
       "      <th>JumlahKeterlambatanSebulanTerakhir</th>\n",
       "      <th>JumlahKetidakhadiran</th>\n",
       "      <th>TingkatPendidikan</th>\n",
       "      <th>PernahBekerja</th>\n",
       "      <th>AlasanResign</th>\n",
       "      <th>TanggalLahir</th>\n",
       "      <th>TanggalHiring</th>\n",
       "      <th>TanggalResign</th>\n",
       "      <th>resign</th>\n",
       "      <th>umur</th>\n",
       "      <th>LamaBekerja</th>\n",
       "    </tr>\n",
       "  </thead>\n",
       "  <tbody>\n",
       "    <tr>\n",
       "      <th>108</th>\n",
       "      <td>Belum_menikah</td>\n",
       "      <td>Wanita</td>\n",
       "      <td>FullTime</td>\n",
       "      <td>Data Analyst</td>\n",
       "      <td>Freshgraduate_program</td>\n",
       "      <td>Biasa</td>\n",
       "      <td>Jakarta Timur</td>\n",
       "      <td>CareerBuilder</td>\n",
       "      <td>4</td>\n",
       "      <td>4.0</td>\n",
       "      <td>0.0</td>\n",
       "      <td>0.0</td>\n",
       "      <td>10.0</td>\n",
       "      <td>Sarjana</td>\n",
       "      <td>1</td>\n",
       "      <td>toxic_culture</td>\n",
       "      <td>1976-09-22</td>\n",
       "      <td>2015-03-30</td>\n",
       "      <td>2014-08-19</td>\n",
       "      <td>1</td>\n",
       "      <td>44.0</td>\n",
       "      <td>-1.0</td>\n",
       "    </tr>\n",
       "    <tr>\n",
       "      <th>207</th>\n",
       "      <td>Menikah</td>\n",
       "      <td>Wanita</td>\n",
       "      <td>FullTime</td>\n",
       "      <td>Software Engineer (Front End)</td>\n",
       "      <td>Mid_level</td>\n",
       "      <td>Sangat_bagus</td>\n",
       "      <td>Jakarta Pusat</td>\n",
       "      <td>Indeed</td>\n",
       "      <td>4</td>\n",
       "      <td>3.0</td>\n",
       "      <td>5.0</td>\n",
       "      <td>0.0</td>\n",
       "      <td>17.0</td>\n",
       "      <td>Sarjana</td>\n",
       "      <td>1</td>\n",
       "      <td>leadership</td>\n",
       "      <td>1972-11-21</td>\n",
       "      <td>2017-01-07</td>\n",
       "      <td>2013-05-30</td>\n",
       "      <td>1</td>\n",
       "      <td>48.0</td>\n",
       "      <td>-4.0</td>\n",
       "    </tr>\n",
       "  </tbody>\n",
       "</table>\n",
       "</div>"
      ],
      "text/plain": [
       "    StatusPernikahan JenisKelamin StatusKepegawaian  \\\n",
       "108    Belum_menikah       Wanita          FullTime   \n",
       "207          Menikah       Wanita          FullTime   \n",
       "\n",
       "                         Pekerjaan           JenjangKarir PerformancePegawai  \\\n",
       "108                   Data Analyst  Freshgraduate_program              Biasa   \n",
       "207  Software Engineer (Front End)              Mid_level       Sangat_bagus   \n",
       "\n",
       "        AsalDaerah HiringPlatform  SkorSurveyEngagement  SkorKepuasanPegawai  \\\n",
       "108  Jakarta Timur  CareerBuilder                     4                  4.0   \n",
       "207  Jakarta Pusat         Indeed                     4                  3.0   \n",
       "\n",
       "     JumlahKeikutsertaanProjek  JumlahKeterlambatanSebulanTerakhir  \\\n",
       "108                        0.0                                 0.0   \n",
       "207                        5.0                                 0.0   \n",
       "\n",
       "     JumlahKetidakhadiran TingkatPendidikan PernahBekerja   AlasanResign  \\\n",
       "108                  10.0           Sarjana             1  toxic_culture   \n",
       "207                  17.0           Sarjana             1     leadership   \n",
       "\n",
       "    TanggalLahir TanggalHiring TanggalResign  resign  umur  LamaBekerja  \n",
       "108   1976-09-22    2015-03-30    2014-08-19       1  44.0         -1.0  \n",
       "207   1972-11-21    2017-01-07    2013-05-30       1  48.0         -4.0  "
      ]
     },
     "execution_count": 27,
     "metadata": {},
     "output_type": "execute_result"
    }
   ],
   "source": [
    "data_pre[data_pre['LamaBekerja']<0].head(3)"
   ]
  },
  {
   "attachments": {},
   "cell_type": "markdown",
   "metadata": {},
   "source": [
    "Setelah dilakukan proses diatas, terdapat 2 karyawan yang `LamaBekerja`nya bervalue minus, setelah diselidiki hal tersebut karena TanggalResign lebih awal dari TanggalHiring. Asumsi terkuatnya adalah kesalahan input sehingga kedua tanggal tersebut terbalik, namun untuk saat ini kita akan drop saja kedua karyawan tersebut"
   ]
  },
  {
   "cell_type": "code",
   "execution_count": 28,
   "metadata": {},
   "outputs": [],
   "source": [
    "data_pre.drop(data_pre[data_pre['LamaBekerja']<0].index, inplace=True)"
   ]
  },
  {
   "attachments": {},
   "cell_type": "markdown",
   "metadata": {},
   "source": [
    "### Missing Value"
   ]
  },
  {
   "cell_type": "code",
   "execution_count": 29,
   "metadata": {},
   "outputs": [
    {
     "data": {
      "text/html": [
       "<div>\n",
       "<style scoped>\n",
       "    .dataframe tbody tr th:only-of-type {\n",
       "        vertical-align: middle;\n",
       "    }\n",
       "\n",
       "    .dataframe tbody tr th {\n",
       "        vertical-align: top;\n",
       "    }\n",
       "\n",
       "    .dataframe thead th {\n",
       "        text-align: right;\n",
       "    }\n",
       "</style>\n",
       "<table border=\"1\" class=\"dataframe\">\n",
       "  <thead>\n",
       "    <tr style=\"text-align: right;\">\n",
       "      <th></th>\n",
       "      <th>feature_name</th>\n",
       "      <th>sum_missing</th>\n",
       "      <th>percent_missing</th>\n",
       "    </tr>\n",
       "  </thead>\n",
       "  <tbody>\n",
       "    <tr>\n",
       "      <th>12</th>\n",
       "      <td>JumlahKetidakhadiran</td>\n",
       "      <td>6</td>\n",
       "      <td>2.11</td>\n",
       "    </tr>\n",
       "    <tr>\n",
       "      <th>9</th>\n",
       "      <td>SkorKepuasanPegawai</td>\n",
       "      <td>5</td>\n",
       "      <td>1.75</td>\n",
       "    </tr>\n",
       "    <tr>\n",
       "      <th>10</th>\n",
       "      <td>JumlahKeikutsertaanProjek</td>\n",
       "      <td>3</td>\n",
       "      <td>1.05</td>\n",
       "    </tr>\n",
       "    <tr>\n",
       "      <th>11</th>\n",
       "      <td>JumlahKeterlambatanSebulanTerakhir</td>\n",
       "      <td>1</td>\n",
       "      <td>0.35</td>\n",
       "    </tr>\n",
       "  </tbody>\n",
       "</table>\n",
       "</div>"
      ],
      "text/plain": [
       "                          feature_name  sum_missing  percent_missing\n",
       "12                JumlahKetidakhadiran            6             2.11\n",
       "9                  SkorKepuasanPegawai            5             1.75\n",
       "10           JumlahKeikutsertaanProjek            3             1.05\n",
       "11  JumlahKeterlambatanSebulanTerakhir            1             0.35"
      ]
     },
     "execution_count": 29,
     "metadata": {},
     "output_type": "execute_result"
    }
   ],
   "source": [
    "sum_missing = data_pre.isna().sum()\n",
    "percent_missing = round(data_pre.isnull().sum() *100 / len(data_pre),2)\n",
    "missing_value = pd.DataFrame({'feature_name': data_pre.columns,\n",
    "                                 'sum_missing': sum_missing,\n",
    "                                 'percent_missing': percent_missing}).reset_index(drop=True).sort_values(by='sum_missing', ascending=False)\n",
    "pd.set_option('display.max_rows', None)\n",
    "missing_value.head(4)"
   ]
  },
  {
   "cell_type": "code",
   "execution_count": 30,
   "metadata": {},
   "outputs": [],
   "source": [
    "data_pre['JumlahKetidakhadiran'].fillna(0, inplace=True)\n",
    "data_pre['SkorKepuasanPegawai'].fillna(0, inplace=True)\n",
    "data_pre['JumlahKeikutsertaanProjek'].fillna(0, inplace=True)\n",
    "data_pre['JumlahKeterlambatanSebulanTerakhir'].fillna(0, inplace=True)"
   ]
  },
  {
   "attachments": {},
   "cell_type": "markdown",
   "metadata": {},
   "source": [
    "### Feature Selection"
   ]
  },
  {
   "cell_type": "code",
   "execution_count": 31,
   "metadata": {},
   "outputs": [
    {
     "data": {
      "application/vnd.plotly.v1+json": {
       "config": {
        "plotlyServerURL": "https://plot.ly"
       },
       "data": [
        {
         "coloraxis": "coloraxis",
         "hovertemplate": "x: %{x}<br>y: %{y}<br>color: %{z}<extra></extra>",
         "name": "0",
         "texttemplate": "%{z:.2f}",
         "type": "heatmap",
         "x": [
          "SkorSurveyEngagement",
          "SkorKepuasanPegawai",
          "JumlahKeikutsertaanProjek",
          "JumlahKeterlambatanSebulanTerakhir",
          "JumlahKetidakhadiran",
          "resign",
          "umur",
          "LamaBekerja"
         ],
         "xaxis": "x",
         "y": [
          "SkorSurveyEngagement",
          "SkorKepuasanPegawai",
          "JumlahKeikutsertaanProjek",
          "JumlahKeterlambatanSebulanTerakhir",
          "JumlahKetidakhadiran",
          "resign",
          "umur",
          "LamaBekerja"
         ],
         "yaxis": "y",
         "z": [
          [
           1,
           0.07014544262012676,
           -0.011565241243045676,
           -0.49867368248667543,
           0.0014495887602438355,
           -0.038734213008959906,
           0.05608373137687312,
           0.027429585784364982
          ],
          [
           0.07014544262012676,
           1,
           0.04037139255602814,
           -0.20356107909814838,
           0.060050699877945195,
           -0.02898102694894554,
           -0.0450258286284645,
           0.006646946552025277
          ],
          [
           -0.011565241243045676,
           0.04037139255602814,
           1,
           -0.08053791796358452,
           -0.05317577603100933,
           0.05776020155897658,
           -0.104024041766901,
           -0.2764351249584761
          ],
          [
           -0.49867368248667543,
           -0.20356107909814838,
           -0.08053791796358452,
           1,
           0.00888506450071351,
           0.023781565923966262,
           -0.0519242898062568,
           0.004925657212361489
          ],
          [
           0.0014495887602438355,
           0.060050699877945195,
           -0.05317577603100933,
           0.00888506450071351,
           1,
           -0.011997427566311263,
           -0.008490470200533633,
           0.04921870245814252
          ],
          [
           -0.038734213008959906,
           -0.02898102694894554,
           0.05776020155897658,
           0.023781565923966262,
           -0.011997427566311263,
           1,
           -0.06490278724746583,
           -0.611771128903388
          ],
          [
           0.05608373137687312,
           -0.0450258286284645,
           -0.104024041766901,
           -0.0519242898062568,
           -0.008490470200533633,
           -0.06490278724746583,
           1,
           0.05137756867387396
          ],
          [
           0.027429585784364982,
           0.006646946552025277,
           -0.2764351249584761,
           0.004925657212361489,
           0.04921870245814252,
           -0.611771128903388,
           0.05137756867387396,
           1
          ]
         ]
        }
       ],
       "layout": {
        "coloraxis": {
         "colorscale": [
          [
           0,
           "rgb(247,244,249)"
          ],
          [
           0.125,
           "rgb(231,225,239)"
          ],
          [
           0.25,
           "rgb(212,185,218)"
          ],
          [
           0.375,
           "rgb(201,148,199)"
          ],
          [
           0.5,
           "rgb(223,101,176)"
          ],
          [
           0.625,
           "rgb(231,41,138)"
          ],
          [
           0.75,
           "rgb(206,18,86)"
          ],
          [
           0.875,
           "rgb(152,0,67)"
          ],
          [
           1,
           "rgb(103,0,31)"
          ]
         ]
        },
        "height": 900,
        "margin": {
         "t": 60
        },
        "template": {
         "data": {
          "bar": [
           {
            "error_x": {
             "color": "#f2f5fa"
            },
            "error_y": {
             "color": "#f2f5fa"
            },
            "marker": {
             "line": {
              "color": "rgb(17,17,17)",
              "width": 0.5
             },
             "pattern": {
              "fillmode": "overlay",
              "size": 10,
              "solidity": 0.2
             }
            },
            "type": "bar"
           }
          ],
          "barpolar": [
           {
            "marker": {
             "line": {
              "color": "rgb(17,17,17)",
              "width": 0.5
             },
             "pattern": {
              "fillmode": "overlay",
              "size": 10,
              "solidity": 0.2
             }
            },
            "type": "barpolar"
           }
          ],
          "carpet": [
           {
            "aaxis": {
             "endlinecolor": "#A2B1C6",
             "gridcolor": "#506784",
             "linecolor": "#506784",
             "minorgridcolor": "#506784",
             "startlinecolor": "#A2B1C6"
            },
            "baxis": {
             "endlinecolor": "#A2B1C6",
             "gridcolor": "#506784",
             "linecolor": "#506784",
             "minorgridcolor": "#506784",
             "startlinecolor": "#A2B1C6"
            },
            "type": "carpet"
           }
          ],
          "choropleth": [
           {
            "colorbar": {
             "outlinewidth": 0,
             "ticks": ""
            },
            "type": "choropleth"
           }
          ],
          "contour": [
           {
            "colorbar": {
             "outlinewidth": 0,
             "ticks": ""
            },
            "colorscale": [
             [
              0,
              "#0d0887"
             ],
             [
              0.1111111111111111,
              "#46039f"
             ],
             [
              0.2222222222222222,
              "#7201a8"
             ],
             [
              0.3333333333333333,
              "#9c179e"
             ],
             [
              0.4444444444444444,
              "#bd3786"
             ],
             [
              0.5555555555555556,
              "#d8576b"
             ],
             [
              0.6666666666666666,
              "#ed7953"
             ],
             [
              0.7777777777777778,
              "#fb9f3a"
             ],
             [
              0.8888888888888888,
              "#fdca26"
             ],
             [
              1,
              "#f0f921"
             ]
            ],
            "type": "contour"
           }
          ],
          "contourcarpet": [
           {
            "colorbar": {
             "outlinewidth": 0,
             "ticks": ""
            },
            "type": "contourcarpet"
           }
          ],
          "heatmap": [
           {
            "colorbar": {
             "outlinewidth": 0,
             "ticks": ""
            },
            "colorscale": [
             [
              0,
              "#0d0887"
             ],
             [
              0.1111111111111111,
              "#46039f"
             ],
             [
              0.2222222222222222,
              "#7201a8"
             ],
             [
              0.3333333333333333,
              "#9c179e"
             ],
             [
              0.4444444444444444,
              "#bd3786"
             ],
             [
              0.5555555555555556,
              "#d8576b"
             ],
             [
              0.6666666666666666,
              "#ed7953"
             ],
             [
              0.7777777777777778,
              "#fb9f3a"
             ],
             [
              0.8888888888888888,
              "#fdca26"
             ],
             [
              1,
              "#f0f921"
             ]
            ],
            "type": "heatmap"
           }
          ],
          "heatmapgl": [
           {
            "colorbar": {
             "outlinewidth": 0,
             "ticks": ""
            },
            "colorscale": [
             [
              0,
              "#0d0887"
             ],
             [
              0.1111111111111111,
              "#46039f"
             ],
             [
              0.2222222222222222,
              "#7201a8"
             ],
             [
              0.3333333333333333,
              "#9c179e"
             ],
             [
              0.4444444444444444,
              "#bd3786"
             ],
             [
              0.5555555555555556,
              "#d8576b"
             ],
             [
              0.6666666666666666,
              "#ed7953"
             ],
             [
              0.7777777777777778,
              "#fb9f3a"
             ],
             [
              0.8888888888888888,
              "#fdca26"
             ],
             [
              1,
              "#f0f921"
             ]
            ],
            "type": "heatmapgl"
           }
          ],
          "histogram": [
           {
            "marker": {
             "pattern": {
              "fillmode": "overlay",
              "size": 10,
              "solidity": 0.2
             }
            },
            "type": "histogram"
           }
          ],
          "histogram2d": [
           {
            "colorbar": {
             "outlinewidth": 0,
             "ticks": ""
            },
            "colorscale": [
             [
              0,
              "#0d0887"
             ],
             [
              0.1111111111111111,
              "#46039f"
             ],
             [
              0.2222222222222222,
              "#7201a8"
             ],
             [
              0.3333333333333333,
              "#9c179e"
             ],
             [
              0.4444444444444444,
              "#bd3786"
             ],
             [
              0.5555555555555556,
              "#d8576b"
             ],
             [
              0.6666666666666666,
              "#ed7953"
             ],
             [
              0.7777777777777778,
              "#fb9f3a"
             ],
             [
              0.8888888888888888,
              "#fdca26"
             ],
             [
              1,
              "#f0f921"
             ]
            ],
            "type": "histogram2d"
           }
          ],
          "histogram2dcontour": [
           {
            "colorbar": {
             "outlinewidth": 0,
             "ticks": ""
            },
            "colorscale": [
             [
              0,
              "#0d0887"
             ],
             [
              0.1111111111111111,
              "#46039f"
             ],
             [
              0.2222222222222222,
              "#7201a8"
             ],
             [
              0.3333333333333333,
              "#9c179e"
             ],
             [
              0.4444444444444444,
              "#bd3786"
             ],
             [
              0.5555555555555556,
              "#d8576b"
             ],
             [
              0.6666666666666666,
              "#ed7953"
             ],
             [
              0.7777777777777778,
              "#fb9f3a"
             ],
             [
              0.8888888888888888,
              "#fdca26"
             ],
             [
              1,
              "#f0f921"
             ]
            ],
            "type": "histogram2dcontour"
           }
          ],
          "mesh3d": [
           {
            "colorbar": {
             "outlinewidth": 0,
             "ticks": ""
            },
            "type": "mesh3d"
           }
          ],
          "parcoords": [
           {
            "line": {
             "colorbar": {
              "outlinewidth": 0,
              "ticks": ""
             }
            },
            "type": "parcoords"
           }
          ],
          "pie": [
           {
            "automargin": true,
            "type": "pie"
           }
          ],
          "scatter": [
           {
            "marker": {
             "line": {
              "color": "#283442"
             }
            },
            "type": "scatter"
           }
          ],
          "scatter3d": [
           {
            "line": {
             "colorbar": {
              "outlinewidth": 0,
              "ticks": ""
             }
            },
            "marker": {
             "colorbar": {
              "outlinewidth": 0,
              "ticks": ""
             }
            },
            "type": "scatter3d"
           }
          ],
          "scattercarpet": [
           {
            "marker": {
             "colorbar": {
              "outlinewidth": 0,
              "ticks": ""
             }
            },
            "type": "scattercarpet"
           }
          ],
          "scattergeo": [
           {
            "marker": {
             "colorbar": {
              "outlinewidth": 0,
              "ticks": ""
             }
            },
            "type": "scattergeo"
           }
          ],
          "scattergl": [
           {
            "marker": {
             "line": {
              "color": "#283442"
             }
            },
            "type": "scattergl"
           }
          ],
          "scattermapbox": [
           {
            "marker": {
             "colorbar": {
              "outlinewidth": 0,
              "ticks": ""
             }
            },
            "type": "scattermapbox"
           }
          ],
          "scatterpolar": [
           {
            "marker": {
             "colorbar": {
              "outlinewidth": 0,
              "ticks": ""
             }
            },
            "type": "scatterpolar"
           }
          ],
          "scatterpolargl": [
           {
            "marker": {
             "colorbar": {
              "outlinewidth": 0,
              "ticks": ""
             }
            },
            "type": "scatterpolargl"
           }
          ],
          "scatterternary": [
           {
            "marker": {
             "colorbar": {
              "outlinewidth": 0,
              "ticks": ""
             }
            },
            "type": "scatterternary"
           }
          ],
          "surface": [
           {
            "colorbar": {
             "outlinewidth": 0,
             "ticks": ""
            },
            "colorscale": [
             [
              0,
              "#0d0887"
             ],
             [
              0.1111111111111111,
              "#46039f"
             ],
             [
              0.2222222222222222,
              "#7201a8"
             ],
             [
              0.3333333333333333,
              "#9c179e"
             ],
             [
              0.4444444444444444,
              "#bd3786"
             ],
             [
              0.5555555555555556,
              "#d8576b"
             ],
             [
              0.6666666666666666,
              "#ed7953"
             ],
             [
              0.7777777777777778,
              "#fb9f3a"
             ],
             [
              0.8888888888888888,
              "#fdca26"
             ],
             [
              1,
              "#f0f921"
             ]
            ],
            "type": "surface"
           }
          ],
          "table": [
           {
            "cells": {
             "fill": {
              "color": "#506784"
             },
             "line": {
              "color": "rgb(17,17,17)"
             }
            },
            "header": {
             "fill": {
              "color": "#2a3f5f"
             },
             "line": {
              "color": "rgb(17,17,17)"
             }
            },
            "type": "table"
           }
          ]
         },
         "layout": {
          "annotationdefaults": {
           "arrowcolor": "#f2f5fa",
           "arrowhead": 0,
           "arrowwidth": 1
          },
          "autotypenumbers": "strict",
          "coloraxis": {
           "colorbar": {
            "outlinewidth": 0,
            "ticks": ""
           }
          },
          "colorscale": {
           "diverging": [
            [
             0,
             "#8e0152"
            ],
            [
             0.1,
             "#c51b7d"
            ],
            [
             0.2,
             "#de77ae"
            ],
            [
             0.3,
             "#f1b6da"
            ],
            [
             0.4,
             "#fde0ef"
            ],
            [
             0.5,
             "#f7f7f7"
            ],
            [
             0.6,
             "#e6f5d0"
            ],
            [
             0.7,
             "#b8e186"
            ],
            [
             0.8,
             "#7fbc41"
            ],
            [
             0.9,
             "#4d9221"
            ],
            [
             1,
             "#276419"
            ]
           ],
           "sequential": [
            [
             0,
             "#0d0887"
            ],
            [
             0.1111111111111111,
             "#46039f"
            ],
            [
             0.2222222222222222,
             "#7201a8"
            ],
            [
             0.3333333333333333,
             "#9c179e"
            ],
            [
             0.4444444444444444,
             "#bd3786"
            ],
            [
             0.5555555555555556,
             "#d8576b"
            ],
            [
             0.6666666666666666,
             "#ed7953"
            ],
            [
             0.7777777777777778,
             "#fb9f3a"
            ],
            [
             0.8888888888888888,
             "#fdca26"
            ],
            [
             1,
             "#f0f921"
            ]
           ],
           "sequentialminus": [
            [
             0,
             "#0d0887"
            ],
            [
             0.1111111111111111,
             "#46039f"
            ],
            [
             0.2222222222222222,
             "#7201a8"
            ],
            [
             0.3333333333333333,
             "#9c179e"
            ],
            [
             0.4444444444444444,
             "#bd3786"
            ],
            [
             0.5555555555555556,
             "#d8576b"
            ],
            [
             0.6666666666666666,
             "#ed7953"
            ],
            [
             0.7777777777777778,
             "#fb9f3a"
            ],
            [
             0.8888888888888888,
             "#fdca26"
            ],
            [
             1,
             "#f0f921"
            ]
           ]
          },
          "colorway": [
           "#636efa",
           "#EF553B",
           "#00cc96",
           "#ab63fa",
           "#FFA15A",
           "#19d3f3",
           "#FF6692",
           "#B6E880",
           "#FF97FF",
           "#FECB52"
          ],
          "font": {
           "color": "#f2f5fa"
          },
          "geo": {
           "bgcolor": "rgb(17,17,17)",
           "lakecolor": "rgb(17,17,17)",
           "landcolor": "rgb(17,17,17)",
           "showlakes": true,
           "showland": true,
           "subunitcolor": "#506784"
          },
          "hoverlabel": {
           "align": "left"
          },
          "hovermode": "closest",
          "mapbox": {
           "style": "dark"
          },
          "paper_bgcolor": "rgb(17,17,17)",
          "plot_bgcolor": "rgb(17,17,17)",
          "polar": {
           "angularaxis": {
            "gridcolor": "#506784",
            "linecolor": "#506784",
            "ticks": ""
           },
           "bgcolor": "rgb(17,17,17)",
           "radialaxis": {
            "gridcolor": "#506784",
            "linecolor": "#506784",
            "ticks": ""
           }
          },
          "scene": {
           "xaxis": {
            "backgroundcolor": "rgb(17,17,17)",
            "gridcolor": "#506784",
            "gridwidth": 2,
            "linecolor": "#506784",
            "showbackground": true,
            "ticks": "",
            "zerolinecolor": "#C8D4E3"
           },
           "yaxis": {
            "backgroundcolor": "rgb(17,17,17)",
            "gridcolor": "#506784",
            "gridwidth": 2,
            "linecolor": "#506784",
            "showbackground": true,
            "ticks": "",
            "zerolinecolor": "#C8D4E3"
           },
           "zaxis": {
            "backgroundcolor": "rgb(17,17,17)",
            "gridcolor": "#506784",
            "gridwidth": 2,
            "linecolor": "#506784",
            "showbackground": true,
            "ticks": "",
            "zerolinecolor": "#C8D4E3"
           }
          },
          "shapedefaults": {
           "line": {
            "color": "#f2f5fa"
           }
          },
          "sliderdefaults": {
           "bgcolor": "#C8D4E3",
           "bordercolor": "rgb(17,17,17)",
           "borderwidth": 1,
           "tickwidth": 0
          },
          "ternary": {
           "aaxis": {
            "gridcolor": "#506784",
            "linecolor": "#506784",
            "ticks": ""
           },
           "baxis": {
            "gridcolor": "#506784",
            "linecolor": "#506784",
            "ticks": ""
           },
           "bgcolor": "rgb(17,17,17)",
           "caxis": {
            "gridcolor": "#506784",
            "linecolor": "#506784",
            "ticks": ""
           }
          },
          "title": {
           "x": 0.05
          },
          "updatemenudefaults": {
           "bgcolor": "#506784",
           "borderwidth": 0
          },
          "xaxis": {
           "automargin": true,
           "gridcolor": "#283442",
           "linecolor": "#506784",
           "ticks": "",
           "title": {
            "standoff": 15
           },
           "zerolinecolor": "#283442",
           "zerolinewidth": 2
          },
          "yaxis": {
           "automargin": true,
           "gridcolor": "#283442",
           "linecolor": "#506784",
           "ticks": "",
           "title": {
            "standoff": 15
           },
           "zerolinecolor": "#283442",
           "zerolinewidth": 2
          }
         }
        },
        "width": 900,
        "xaxis": {
         "anchor": "y",
         "constrain": "domain",
         "domain": [
          0,
          1
         ],
         "scaleanchor": "y"
        },
        "yaxis": {
         "anchor": "x",
         "autorange": "reversed",
         "constrain": "domain",
         "domain": [
          0,
          1
         ]
        }
       }
      }
     },
     "metadata": {},
     "output_type": "display_data"
    }
   ],
   "source": [
    "hm = data_pre.corr()\n",
    "fig = px.imshow(hm, text_auto=\".2f\", color_continuous_scale='PuRd',\n",
    "                template='plotly_dark',width=900,height=900)\n",
    "fig.show()"
   ]
  },
  {
   "attachments": {},
   "cell_type": "markdown",
   "metadata": {},
   "source": [
    "#### Checking Nunique"
   ]
  },
  {
   "cell_type": "code",
   "execution_count": 32,
   "metadata": {},
   "outputs": [
    {
     "data": {
      "text/plain": [
       "StatusPernikahan       5\n",
       "JenisKelamin           2\n",
       "StatusKepegawaian      3\n",
       "Pekerjaan             14\n",
       "JenjangKarir           3\n",
       "PerformancePegawai     5\n",
       "AsalDaerah             5\n",
       "HiringPlatform         9\n",
       "TingkatPendidikan      3\n",
       "PernahBekerja          2\n",
       "AlasanResign          11\n",
       "dtype: int64"
      ]
     },
     "execution_count": 32,
     "metadata": {},
     "output_type": "execute_result"
    }
   ],
   "source": [
    "data_pre.select_dtypes(include='object').nunique()"
   ]
  },
  {
   "cell_type": "code",
   "execution_count": 33,
   "metadata": {},
   "outputs": [],
   "source": [
    "objects = data_pre.dtypes[data_pre.dtypes == \"object\"].index"
   ]
  },
  {
   "cell_type": "code",
   "execution_count": 34,
   "metadata": {},
   "outputs": [
    {
     "name": "stdout",
     "output_type": "stream",
     "text": [
      "Value count feature StatusPernikahan:\n",
      "Belum_menikah    131\n",
      "Menikah           56\n",
      "Lainnya           48\n",
      "Bercerai          47\n",
      "-                  3\n",
      "Name: StatusPernikahan, dtype: int64\n",
      "\n",
      "Value count feature JenisKelamin:\n",
      "Wanita    165\n",
      "Pria      120\n",
      "Name: JenisKelamin, dtype: int64\n",
      "\n",
      "Value count feature StatusKepegawaian:\n",
      "FullTime      215\n",
      "Outsource      66\n",
      "Internship      4\n",
      "Name: StatusKepegawaian, dtype: int64\n",
      "\n",
      "Value count feature Pekerjaan:\n",
      "Software Engineer (Back End)      109\n",
      "Software Engineer (Front End)      71\n",
      "Software Engineer (Android)        24\n",
      "Product Design (UI & UX)           24\n",
      "Product Manager                    17\n",
      "Data Analyst                       15\n",
      "Data Engineer                      10\n",
      "Scrum Master                        3\n",
      "Software Engineer (iOS)             3\n",
      "DevOps Engineer                     3\n",
      "Digital Product Manager             2\n",
      "Machine Learning Engineer           2\n",
      "Product Design (UX Researcher)      1\n",
      "Software Architect                  1\n",
      "Name: Pekerjaan, dtype: int64\n",
      "\n",
      "Value count feature JenjangKarir:\n",
      "Freshgraduate_program    168\n",
      "Mid_level                 69\n",
      "Senior_level              48\n",
      "Name: JenjangKarir, dtype: int64\n",
      "\n",
      "Value count feature PerformancePegawai:\n",
      "Biasa            84\n",
      "Bagus            74\n",
      "Sangat_bagus     72\n",
      "Kurang           31\n",
      "Sangat_kurang    24\n",
      "Name: PerformancePegawai, dtype: int64\n",
      "\n",
      "Value count feature AsalDaerah:\n",
      "Jakarta Pusat      71\n",
      "Jakarta Timur      62\n",
      "Jakarta Barat      55\n",
      "Jakarta Utara      52\n",
      "Jakarta Selatan    45\n",
      "Name: AsalDaerah, dtype: int64\n",
      "\n",
      "Value count feature HiringPlatform:\n",
      "Indeed                     84\n",
      "LinkedIn                   69\n",
      "Google_Search              46\n",
      "Diversity_Job_Fair         27\n",
      "Employee_Referral          24\n",
      "CareerBuilder              21\n",
      "Website                    11\n",
      "Other                       2\n",
      "On-line_Web_application     1\n",
      "Name: HiringPlatform, dtype: int64\n",
      "\n",
      "Value count feature TingkatPendidikan:\n",
      "Sarjana     174\n",
      "Magister     87\n",
      "Doktor       24\n",
      "Name: TingkatPendidikan, dtype: int64\n",
      "\n",
      "Value count feature PernahBekerja:\n",
      "1      284\n",
      "yes      1\n",
      "Name: PernahBekerja, dtype: int64\n",
      "\n",
      "Value count feature AlasanResign:\n",
      "masih_bekerja        198\n",
      "jam_kerja             16\n",
      "ganti_karir           14\n",
      "kejelasan_karir       11\n",
      "tidak_bisa_remote     11\n",
      "toxic_culture          9\n",
      "tidak_bahagia          8\n",
      "leadership             8\n",
      "internal_conflict      4\n",
      "Lainnya                4\n",
      "apresiasi              2\n",
      "Name: AlasanResign, dtype: int64\n",
      "\n"
     ]
    }
   ],
   "source": [
    "for col in objects:\n",
    "    print(f'''Value count feature {col}:''')\n",
    "    print(data_pre[col].value_counts())\n",
    "    print()"
   ]
  },
  {
   "attachments": {},
   "cell_type": "markdown",
   "metadata": {},
   "source": [
    "Terlihat bahwa pada feature `PernahBekerja` walaupun ada 2 unique value namun kedua value tersebut punya maksud yang sama sehingga hanya ada 1 unique value pada feature tersebut, oleh sebab itu feature `PernahBekerja` akan di drop\n",
    "<br> Pada feature `StatusPernikahan` terdapat value \"-\", value tersebut akan dimerge dengan value \"Lainnya\""
   ]
  },
  {
   "cell_type": "code",
   "execution_count": 35,
   "metadata": {},
   "outputs": [],
   "source": [
    "data_pre.drop(['PernahBekerja','AsalDaerah'], axis=1, inplace=True)"
   ]
  },
  {
   "cell_type": "code",
   "execution_count": 36,
   "metadata": {},
   "outputs": [],
   "source": [
    "data_pre['StatusPernikahan'] = data_pre['StatusPernikahan'].replace({'-':'Lainnya'})"
   ]
  },
  {
   "cell_type": "code",
   "execution_count": 37,
   "metadata": {},
   "outputs": [
    {
     "data": {
      "text/plain": [
       "(285, 20)"
      ]
     },
     "execution_count": 37,
     "metadata": {},
     "output_type": "execute_result"
    }
   ],
   "source": [
    "data_pre.shape"
   ]
  },
  {
   "cell_type": "code",
   "execution_count": 38,
   "metadata": {},
   "outputs": [
    {
     "data": {
      "text/html": [
       "<div>\n",
       "<style scoped>\n",
       "    .dataframe tbody tr th:only-of-type {\n",
       "        vertical-align: middle;\n",
       "    }\n",
       "\n",
       "    .dataframe tbody tr th {\n",
       "        vertical-align: top;\n",
       "    }\n",
       "\n",
       "    .dataframe thead th {\n",
       "        text-align: right;\n",
       "    }\n",
       "</style>\n",
       "<table border=\"1\" class=\"dataframe\">\n",
       "  <thead>\n",
       "    <tr style=\"text-align: right;\">\n",
       "      <th></th>\n",
       "      <th>StatusPernikahan</th>\n",
       "      <th>JenisKelamin</th>\n",
       "      <th>StatusKepegawaian</th>\n",
       "      <th>Pekerjaan</th>\n",
       "      <th>JenjangKarir</th>\n",
       "      <th>PerformancePegawai</th>\n",
       "      <th>HiringPlatform</th>\n",
       "      <th>SkorSurveyEngagement</th>\n",
       "      <th>SkorKepuasanPegawai</th>\n",
       "      <th>JumlahKeikutsertaanProjek</th>\n",
       "      <th>JumlahKeterlambatanSebulanTerakhir</th>\n",
       "      <th>JumlahKetidakhadiran</th>\n",
       "      <th>TingkatPendidikan</th>\n",
       "      <th>AlasanResign</th>\n",
       "      <th>TanggalLahir</th>\n",
       "      <th>TanggalHiring</th>\n",
       "      <th>TanggalResign</th>\n",
       "      <th>resign</th>\n",
       "      <th>umur</th>\n",
       "      <th>LamaBekerja</th>\n",
       "    </tr>\n",
       "  </thead>\n",
       "  <tbody>\n",
       "    <tr>\n",
       "      <th>172</th>\n",
       "      <td>Belum_menikah</td>\n",
       "      <td>Wanita</td>\n",
       "      <td>FullTime</td>\n",
       "      <td>Software Engineer (Back End)</td>\n",
       "      <td>Senior_level</td>\n",
       "      <td>Sangat_bagus</td>\n",
       "      <td>Indeed</td>\n",
       "      <td>4</td>\n",
       "      <td>4.0</td>\n",
       "      <td>0.0</td>\n",
       "      <td>0.0</td>\n",
       "      <td>8.0</td>\n",
       "      <td>Sarjana</td>\n",
       "      <td>masih_bekerja</td>\n",
       "      <td>1990-04-19</td>\n",
       "      <td>2014-05-05</td>\n",
       "      <td>2021-01-01</td>\n",
       "      <td>0</td>\n",
       "      <td>31.0</td>\n",
       "      <td>7.0</td>\n",
       "    </tr>\n",
       "    <tr>\n",
       "      <th>41</th>\n",
       "      <td>Lainnya</td>\n",
       "      <td>Pria</td>\n",
       "      <td>Outsource</td>\n",
       "      <td>Software Engineer (Back End)</td>\n",
       "      <td>Freshgraduate_program</td>\n",
       "      <td>Bagus</td>\n",
       "      <td>Indeed</td>\n",
       "      <td>3</td>\n",
       "      <td>3.0</td>\n",
       "      <td>0.0</td>\n",
       "      <td>0.0</td>\n",
       "      <td>4.0</td>\n",
       "      <td>Magister</td>\n",
       "      <td>masih_bekerja</td>\n",
       "      <td>1963-10-30</td>\n",
       "      <td>2014-09-29</td>\n",
       "      <td>2021-01-01</td>\n",
       "      <td>0</td>\n",
       "      <td>57.0</td>\n",
       "      <td>6.0</td>\n",
       "    </tr>\n",
       "    <tr>\n",
       "      <th>180</th>\n",
       "      <td>Menikah</td>\n",
       "      <td>Wanita</td>\n",
       "      <td>FullTime</td>\n",
       "      <td>Software Engineer (Back End)</td>\n",
       "      <td>Mid_level</td>\n",
       "      <td>Bagus</td>\n",
       "      <td>Google_Search</td>\n",
       "      <td>3</td>\n",
       "      <td>5.0</td>\n",
       "      <td>0.0</td>\n",
       "      <td>0.0</td>\n",
       "      <td>1.0</td>\n",
       "      <td>Magister</td>\n",
       "      <td>masih_bekerja</td>\n",
       "      <td>1983-12-08</td>\n",
       "      <td>2013-09-30</td>\n",
       "      <td>2021-01-01</td>\n",
       "      <td>0</td>\n",
       "      <td>37.0</td>\n",
       "      <td>7.0</td>\n",
       "    </tr>\n",
       "    <tr>\n",
       "      <th>113</th>\n",
       "      <td>Lainnya</td>\n",
       "      <td>Wanita</td>\n",
       "      <td>FullTime</td>\n",
       "      <td>Product Design (UI &amp; UX)</td>\n",
       "      <td>Freshgraduate_program</td>\n",
       "      <td>Biasa</td>\n",
       "      <td>Indeed</td>\n",
       "      <td>4</td>\n",
       "      <td>5.0</td>\n",
       "      <td>0.0</td>\n",
       "      <td>0.0</td>\n",
       "      <td>2.0</td>\n",
       "      <td>Sarjana</td>\n",
       "      <td>masih_bekerja</td>\n",
       "      <td>1989-03-31</td>\n",
       "      <td>2013-07-08</td>\n",
       "      <td>2021-01-01</td>\n",
       "      <td>0</td>\n",
       "      <td>32.0</td>\n",
       "      <td>7.0</td>\n",
       "    </tr>\n",
       "    <tr>\n",
       "      <th>200</th>\n",
       "      <td>Belum_menikah</td>\n",
       "      <td>Wanita</td>\n",
       "      <td>FullTime</td>\n",
       "      <td>Software Engineer (Front End)</td>\n",
       "      <td>Senior_level</td>\n",
       "      <td>Sangat_kurang</td>\n",
       "      <td>Google_Search</td>\n",
       "      <td>3</td>\n",
       "      <td>4.0</td>\n",
       "      <td>0.0</td>\n",
       "      <td>0.0</td>\n",
       "      <td>13.0</td>\n",
       "      <td>Sarjana</td>\n",
       "      <td>masih_bekerja</td>\n",
       "      <td>1977-03-23</td>\n",
       "      <td>2011-11-28</td>\n",
       "      <td>2021-01-01</td>\n",
       "      <td>0</td>\n",
       "      <td>44.0</td>\n",
       "      <td>9.0</td>\n",
       "    </tr>\n",
       "  </tbody>\n",
       "</table>\n",
       "</div>"
      ],
      "text/plain": [
       "    StatusPernikahan JenisKelamin StatusKepegawaian  \\\n",
       "172    Belum_menikah       Wanita          FullTime   \n",
       "41           Lainnya         Pria         Outsource   \n",
       "180          Menikah       Wanita          FullTime   \n",
       "113          Lainnya       Wanita          FullTime   \n",
       "200    Belum_menikah       Wanita          FullTime   \n",
       "\n",
       "                         Pekerjaan           JenjangKarir PerformancePegawai  \\\n",
       "172   Software Engineer (Back End)           Senior_level       Sangat_bagus   \n",
       "41    Software Engineer (Back End)  Freshgraduate_program              Bagus   \n",
       "180   Software Engineer (Back End)              Mid_level              Bagus   \n",
       "113       Product Design (UI & UX)  Freshgraduate_program              Biasa   \n",
       "200  Software Engineer (Front End)           Senior_level      Sangat_kurang   \n",
       "\n",
       "    HiringPlatform  SkorSurveyEngagement  SkorKepuasanPegawai  \\\n",
       "172         Indeed                     4                  4.0   \n",
       "41          Indeed                     3                  3.0   \n",
       "180  Google_Search                     3                  5.0   \n",
       "113         Indeed                     4                  5.0   \n",
       "200  Google_Search                     3                  4.0   \n",
       "\n",
       "     JumlahKeikutsertaanProjek  JumlahKeterlambatanSebulanTerakhir  \\\n",
       "172                        0.0                                 0.0   \n",
       "41                         0.0                                 0.0   \n",
       "180                        0.0                                 0.0   \n",
       "113                        0.0                                 0.0   \n",
       "200                        0.0                                 0.0   \n",
       "\n",
       "     JumlahKetidakhadiran TingkatPendidikan   AlasanResign TanggalLahir  \\\n",
       "172                   8.0           Sarjana  masih_bekerja   1990-04-19   \n",
       "41                    4.0          Magister  masih_bekerja   1963-10-30   \n",
       "180                   1.0          Magister  masih_bekerja   1983-12-08   \n",
       "113                   2.0           Sarjana  masih_bekerja   1989-03-31   \n",
       "200                  13.0           Sarjana  masih_bekerja   1977-03-23   \n",
       "\n",
       "    TanggalHiring TanggalResign  resign  umur  LamaBekerja  \n",
       "172    2014-05-05    2021-01-01       0  31.0          7.0  \n",
       "41     2014-09-29    2021-01-01       0  57.0          6.0  \n",
       "180    2013-09-30    2021-01-01       0  37.0          7.0  \n",
       "113    2013-07-08    2021-01-01       0  32.0          7.0  \n",
       "200    2011-11-28    2021-01-01       0  44.0          9.0  "
      ]
     },
     "execution_count": 38,
     "metadata": {},
     "output_type": "execute_result"
    }
   ],
   "source": [
    "data_pre.sample(5)"
   ]
  },
  {
   "attachments": {},
   "cell_type": "markdown",
   "metadata": {},
   "source": [
    "## Annual Report on Employee Number Changes"
   ]
  },
  {
   "cell_type": "code",
   "execution_count": 39,
   "metadata": {},
   "outputs": [],
   "source": [
    "data_an = data_pre.copy()"
   ]
  },
  {
   "attachments": {},
   "cell_type": "markdown",
   "metadata": {},
   "source": [
    "### Extract Tahun dari TanggalHiring dan TanggalResign"
   ]
  },
  {
   "cell_type": "code",
   "execution_count": 40,
   "metadata": {},
   "outputs": [],
   "source": [
    "data_an['tahun_hiring'] = pd.DatetimeIndex(data_an['TanggalHiring']).year\n",
    "data_an['tahun_resign'] = pd.DatetimeIndex(data_an['TanggalResign']).year"
   ]
  },
  {
   "attachments": {},
   "cell_type": "markdown",
   "metadata": {},
   "source": [
    "### Tabel Hiring Agregat Per Tahun"
   ]
  },
  {
   "cell_type": "code",
   "execution_count": 41,
   "metadata": {},
   "outputs": [
    {
     "data": {
      "text/html": [
       "<div>\n",
       "<style scoped>\n",
       "    .dataframe tbody tr th:only-of-type {\n",
       "        vertical-align: middle;\n",
       "    }\n",
       "\n",
       "    .dataframe tbody tr th {\n",
       "        vertical-align: top;\n",
       "    }\n",
       "\n",
       "    .dataframe thead th {\n",
       "        text-align: right;\n",
       "    }\n",
       "</style>\n",
       "<table border=\"1\" class=\"dataframe\">\n",
       "  <thead>\n",
       "    <tr style=\"text-align: right;\">\n",
       "      <th></th>\n",
       "      <th>tahun_hiring</th>\n",
       "      <th>jumlah_employee</th>\n",
       "    </tr>\n",
       "  </thead>\n",
       "  <tbody>\n",
       "    <tr>\n",
       "      <th>0</th>\n",
       "      <td>2006</td>\n",
       "      <td>1</td>\n",
       "    </tr>\n",
       "    <tr>\n",
       "      <th>1</th>\n",
       "      <td>2007</td>\n",
       "      <td>2</td>\n",
       "    </tr>\n",
       "    <tr>\n",
       "      <th>2</th>\n",
       "      <td>2008</td>\n",
       "      <td>2</td>\n",
       "    </tr>\n",
       "    <tr>\n",
       "      <th>3</th>\n",
       "      <td>2009</td>\n",
       "      <td>7</td>\n",
       "    </tr>\n",
       "    <tr>\n",
       "      <th>4</th>\n",
       "      <td>2010</td>\n",
       "      <td>8</td>\n",
       "    </tr>\n",
       "    <tr>\n",
       "      <th>5</th>\n",
       "      <td>2011</td>\n",
       "      <td>76</td>\n",
       "    </tr>\n",
       "    <tr>\n",
       "      <th>6</th>\n",
       "      <td>2012</td>\n",
       "      <td>41</td>\n",
       "    </tr>\n",
       "    <tr>\n",
       "      <th>7</th>\n",
       "      <td>2013</td>\n",
       "      <td>43</td>\n",
       "    </tr>\n",
       "    <tr>\n",
       "      <th>8</th>\n",
       "      <td>2014</td>\n",
       "      <td>56</td>\n",
       "    </tr>\n",
       "    <tr>\n",
       "      <th>9</th>\n",
       "      <td>2015</td>\n",
       "      <td>30</td>\n",
       "    </tr>\n",
       "    <tr>\n",
       "      <th>10</th>\n",
       "      <td>2016</td>\n",
       "      <td>14</td>\n",
       "    </tr>\n",
       "    <tr>\n",
       "      <th>11</th>\n",
       "      <td>2017</td>\n",
       "      <td>4</td>\n",
       "    </tr>\n",
       "    <tr>\n",
       "      <th>12</th>\n",
       "      <td>2018</td>\n",
       "      <td>1</td>\n",
       "    </tr>\n",
       "  </tbody>\n",
       "</table>\n",
       "</div>"
      ],
      "text/plain": [
       "    tahun_hiring  jumlah_employee\n",
       "0           2006                1\n",
       "1           2007                2\n",
       "2           2008                2\n",
       "3           2009                7\n",
       "4           2010                8\n",
       "5           2011               76\n",
       "6           2012               41\n",
       "7           2013               43\n",
       "8           2014               56\n",
       "9           2015               30\n",
       "10          2016               14\n",
       "11          2017                4\n",
       "12          2018                1"
      ]
     },
     "execution_count": 41,
     "metadata": {},
     "output_type": "execute_result"
    }
   ],
   "source": [
    "#tabel agregat karyawan yang masuk\n",
    "hire_agg = data_an.groupby(['tahun_hiring']).size().reset_index(name='jumlah_employee')\n",
    "hire_agg"
   ]
  },
  {
   "attachments": {},
   "cell_type": "markdown",
   "metadata": {},
   "source": [
    "### Tabel Resign Agregat Per Tahun"
   ]
  },
  {
   "cell_type": "code",
   "execution_count": 42,
   "metadata": {},
   "outputs": [
    {
     "data": {
      "text/html": [
       "<div>\n",
       "<style scoped>\n",
       "    .dataframe tbody tr th:only-of-type {\n",
       "        vertical-align: middle;\n",
       "    }\n",
       "\n",
       "    .dataframe tbody tr th {\n",
       "        vertical-align: top;\n",
       "    }\n",
       "\n",
       "    .dataframe thead th {\n",
       "        text-align: right;\n",
       "    }\n",
       "</style>\n",
       "<table border=\"1\" class=\"dataframe\">\n",
       "  <thead>\n",
       "    <tr style=\"text-align: right;\">\n",
       "      <th></th>\n",
       "      <th>tahun_resign</th>\n",
       "      <th>jumlah_employee</th>\n",
       "    </tr>\n",
       "  </thead>\n",
       "  <tbody>\n",
       "    <tr>\n",
       "      <th>0</th>\n",
       "      <td>2013</td>\n",
       "      <td>4</td>\n",
       "    </tr>\n",
       "    <tr>\n",
       "      <th>1</th>\n",
       "      <td>2014</td>\n",
       "      <td>11</td>\n",
       "    </tr>\n",
       "    <tr>\n",
       "      <th>2</th>\n",
       "      <td>2015</td>\n",
       "      <td>8</td>\n",
       "    </tr>\n",
       "    <tr>\n",
       "      <th>3</th>\n",
       "      <td>2016</td>\n",
       "      <td>8</td>\n",
       "    </tr>\n",
       "    <tr>\n",
       "      <th>4</th>\n",
       "      <td>2017</td>\n",
       "      <td>19</td>\n",
       "    </tr>\n",
       "    <tr>\n",
       "      <th>5</th>\n",
       "      <td>2018</td>\n",
       "      <td>26</td>\n",
       "    </tr>\n",
       "    <tr>\n",
       "      <th>6</th>\n",
       "      <td>2019</td>\n",
       "      <td>5</td>\n",
       "    </tr>\n",
       "    <tr>\n",
       "      <th>7</th>\n",
       "      <td>2020</td>\n",
       "      <td>6</td>\n",
       "    </tr>\n",
       "    <tr>\n",
       "      <th>8</th>\n",
       "      <td>2021</td>\n",
       "      <td>198</td>\n",
       "    </tr>\n",
       "  </tbody>\n",
       "</table>\n",
       "</div>"
      ],
      "text/plain": [
       "   tahun_resign  jumlah_employee\n",
       "0          2013                4\n",
       "1          2014               11\n",
       "2          2015                8\n",
       "3          2016                8\n",
       "4          2017               19\n",
       "5          2018               26\n",
       "6          2019                5\n",
       "7          2020                6\n",
       "8          2021              198"
      ]
     },
     "execution_count": 42,
     "metadata": {},
     "output_type": "execute_result"
    }
   ],
   "source": [
    "#tabel agregat karyawan yang keluar\n",
    "resign_agg = data_an.groupby(['tahun_resign']).size().reset_index(name='jumlah_employee')\n",
    "resign_agg"
   ]
  },
  {
   "attachments": {},
   "cell_type": "markdown",
   "metadata": {},
   "source": [
    "Terlihat bahwa ada tahun resign 2021, hal tersebut karena pada tahap preprocessing sebelumnya kita mengimputasi TanggalResign dengan 2021-01-01 bagi karyawan yang belum resign, maka dari itu pada saat merge dengan tabel hiring akan kita hapus tahun 2021"
   ]
  },
  {
   "cell_type": "code",
   "execution_count": 43,
   "metadata": {},
   "outputs": [
    {
     "data": {
      "text/html": [
       "<div>\n",
       "<style scoped>\n",
       "    .dataframe tbody tr th:only-of-type {\n",
       "        vertical-align: middle;\n",
       "    }\n",
       "\n",
       "    .dataframe tbody tr th {\n",
       "        vertical-align: top;\n",
       "    }\n",
       "\n",
       "    .dataframe thead th {\n",
       "        text-align: right;\n",
       "    }\n",
       "</style>\n",
       "<table border=\"1\" class=\"dataframe\">\n",
       "  <thead>\n",
       "    <tr style=\"text-align: right;\">\n",
       "      <th></th>\n",
       "      <th>Hired</th>\n",
       "      <th>Resigned</th>\n",
       "      <th>tahun</th>\n",
       "    </tr>\n",
       "  </thead>\n",
       "  <tbody>\n",
       "    <tr>\n",
       "      <th>0</th>\n",
       "      <td>1.0</td>\n",
       "      <td>0.0</td>\n",
       "      <td>2006.0</td>\n",
       "    </tr>\n",
       "    <tr>\n",
       "      <th>1</th>\n",
       "      <td>2.0</td>\n",
       "      <td>0.0</td>\n",
       "      <td>2007.0</td>\n",
       "    </tr>\n",
       "    <tr>\n",
       "      <th>2</th>\n",
       "      <td>2.0</td>\n",
       "      <td>0.0</td>\n",
       "      <td>2008.0</td>\n",
       "    </tr>\n",
       "    <tr>\n",
       "      <th>3</th>\n",
       "      <td>7.0</td>\n",
       "      <td>0.0</td>\n",
       "      <td>2009.0</td>\n",
       "    </tr>\n",
       "    <tr>\n",
       "      <th>4</th>\n",
       "      <td>8.0</td>\n",
       "      <td>0.0</td>\n",
       "      <td>2010.0</td>\n",
       "    </tr>\n",
       "    <tr>\n",
       "      <th>5</th>\n",
       "      <td>76.0</td>\n",
       "      <td>0.0</td>\n",
       "      <td>2011.0</td>\n",
       "    </tr>\n",
       "    <tr>\n",
       "      <th>6</th>\n",
       "      <td>41.0</td>\n",
       "      <td>0.0</td>\n",
       "      <td>2012.0</td>\n",
       "    </tr>\n",
       "    <tr>\n",
       "      <th>7</th>\n",
       "      <td>43.0</td>\n",
       "      <td>4.0</td>\n",
       "      <td>2013.0</td>\n",
       "    </tr>\n",
       "    <tr>\n",
       "      <th>8</th>\n",
       "      <td>56.0</td>\n",
       "      <td>11.0</td>\n",
       "      <td>2014.0</td>\n",
       "    </tr>\n",
       "    <tr>\n",
       "      <th>9</th>\n",
       "      <td>30.0</td>\n",
       "      <td>8.0</td>\n",
       "      <td>2015.0</td>\n",
       "    </tr>\n",
       "    <tr>\n",
       "      <th>10</th>\n",
       "      <td>14.0</td>\n",
       "      <td>8.0</td>\n",
       "      <td>2016.0</td>\n",
       "    </tr>\n",
       "    <tr>\n",
       "      <th>11</th>\n",
       "      <td>4.0</td>\n",
       "      <td>19.0</td>\n",
       "      <td>2017.0</td>\n",
       "    </tr>\n",
       "    <tr>\n",
       "      <th>12</th>\n",
       "      <td>1.0</td>\n",
       "      <td>26.0</td>\n",
       "      <td>2018.0</td>\n",
       "    </tr>\n",
       "    <tr>\n",
       "      <th>13</th>\n",
       "      <td>0.0</td>\n",
       "      <td>5.0</td>\n",
       "      <td>2019.0</td>\n",
       "    </tr>\n",
       "    <tr>\n",
       "      <th>14</th>\n",
       "      <td>0.0</td>\n",
       "      <td>6.0</td>\n",
       "      <td>2020.0</td>\n",
       "    </tr>\n",
       "  </tbody>\n",
       "</table>\n",
       "</div>"
      ],
      "text/plain": [
       "    Hired  Resigned   tahun\n",
       "0     1.0       0.0  2006.0\n",
       "1     2.0       0.0  2007.0\n",
       "2     2.0       0.0  2008.0\n",
       "3     7.0       0.0  2009.0\n",
       "4     8.0       0.0  2010.0\n",
       "5    76.0       0.0  2011.0\n",
       "6    41.0       0.0  2012.0\n",
       "7    43.0       4.0  2013.0\n",
       "8    56.0      11.0  2014.0\n",
       "9    30.0       8.0  2015.0\n",
       "10   14.0       8.0  2016.0\n",
       "11    4.0      19.0  2017.0\n",
       "12    1.0      26.0  2018.0\n",
       "13    0.0       5.0  2019.0\n",
       "14    0.0       6.0  2020.0"
      ]
     },
     "execution_count": 43,
     "metadata": {},
     "output_type": "execute_result"
    }
   ],
   "source": [
    "# outer join the two table based on year_hiring and year_resign\n",
    "data_hiring_resign = pd.merge(hire_agg, resign_agg, left_on='tahun_hiring', right_on='tahun_resign', how='outer')\n",
    "# use fillna() function to fill missing values with 0\n",
    "data_hiring_resign.fillna(0, inplace=True)\n",
    "# combine tahun_hiring and tahun_resign into one column 'tahun'\n",
    "data_hiring_resign['tahun'] = data_hiring_resign[['tahun_hiring', 'tahun_resign']].max(axis=1)\n",
    "# drop tahun_hiring and tahun_resign\n",
    "data_hiring_resign.drop(['tahun_hiring','tahun_resign'], axis=1, inplace=True)\n",
    "data_hiring_resign = data_hiring_resign[data_hiring_resign['tahun'] != 2021]\n",
    "data_hiring_resign.rename(columns={'jumlah_employee_x': 'Hired', 'jumlah_employee_y': 'Resigned'}, inplace=True)\n",
    "data_hiring_resign"
   ]
  },
  {
   "cell_type": "code",
   "execution_count": 44,
   "metadata": {},
   "outputs": [
    {
     "data": {
      "application/vnd.plotly.v1+json": {
       "config": {
        "plotlyServerURL": "https://plot.ly"
       },
       "data": [
        {
         "hovertemplate": "variable=Hired<br>tahun=%{x}<br>value=%{y}<extra></extra>",
         "legendgroup": "Hired",
         "line": {
          "color": "green",
          "dash": "solid",
          "shape": "spline",
          "smoothing": true
         },
         "marker": {
          "symbol": "circle"
         },
         "mode": "lines",
         "name": "Hired",
         "orientation": "v",
         "showlegend": true,
         "type": "scatter",
         "x": [
          2006,
          2007,
          2008,
          2009,
          2010,
          2011,
          2012,
          2013,
          2014,
          2015,
          2016,
          2017,
          2018,
          2019,
          2020
         ],
         "xaxis": "x",
         "y": [
          1,
          2,
          2,
          7,
          8,
          76,
          41,
          43,
          56,
          30,
          14,
          4,
          1,
          0,
          0
         ],
         "yaxis": "y"
        },
        {
         "hovertemplate": "variable=Resigned<br>tahun=%{x}<br>value=%{y}<extra></extra>",
         "legendgroup": "Resigned",
         "line": {
          "color": "red",
          "dash": "solid",
          "shape": "spline",
          "smoothing": true
         },
         "marker": {
          "symbol": "circle"
         },
         "mode": "lines",
         "name": "Resigned",
         "orientation": "v",
         "showlegend": true,
         "type": "scatter",
         "x": [
          2006,
          2007,
          2008,
          2009,
          2010,
          2011,
          2012,
          2013,
          2014,
          2015,
          2016,
          2017,
          2018,
          2019,
          2020
         ],
         "xaxis": "x",
         "y": [
          0,
          0,
          0,
          0,
          0,
          0,
          0,
          4,
          11,
          8,
          8,
          19,
          26,
          5,
          6
         ],
         "yaxis": "y"
        }
       ],
       "layout": {
        "annotations": [
         {
          "arrowhead": 2,
          "ax": 0,
          "ay": -40,
          "showarrow": true,
          "text": "+100.0%",
          "x": 2007,
          "y": 2
         },
         {
          "arrowhead": 2,
          "ax": 0,
          "ay": -40,
          "showarrow": true,
          "text": "+250.0%",
          "x": 2009,
          "y": 7
         },
         {
          "arrowhead": 2,
          "ax": 0,
          "ay": -40,
          "showarrow": true,
          "text": "+14.3%",
          "x": 2010,
          "y": 8
         },
         {
          "arrowhead": 2,
          "ax": 0,
          "ay": -40,
          "showarrow": true,
          "text": "+850.0%",
          "x": 2011,
          "y": 76
         },
         {
          "arrowhead": 2,
          "ax": 0,
          "ay": -40,
          "showarrow": true,
          "text": "-46.1%",
          "x": 2012,
          "y": 41
         },
         {
          "arrowhead": 2,
          "ax": 0,
          "ay": -40,
          "showarrow": true,
          "text": "+4.9%",
          "x": 2013,
          "y": 43
         },
         {
          "arrowhead": 2,
          "ax": 0,
          "ay": -40,
          "showarrow": true,
          "text": "+30.2%",
          "x": 2014,
          "y": 56
         },
         {
          "arrowhead": 2,
          "ax": 0,
          "ay": 40,
          "showarrow": true,
          "text": "+175.0%",
          "x": 2014,
          "y": 11
         },
         {
          "arrowhead": 2,
          "ax": 0,
          "ay": -40,
          "showarrow": true,
          "text": "-46.4%",
          "x": 2015,
          "y": 30
         },
         {
          "arrowhead": 2,
          "ax": 0,
          "ay": 40,
          "showarrow": true,
          "text": "-27.3%",
          "x": 2015,
          "y": 8
         },
         {
          "arrowhead": 2,
          "ax": 0,
          "ay": -40,
          "showarrow": true,
          "text": "-53.3%",
          "x": 2016,
          "y": 14
         },
         {
          "arrowhead": 2,
          "ax": 0,
          "ay": -40,
          "showarrow": true,
          "text": "-71.4%",
          "x": 2017,
          "y": 4
         },
         {
          "arrowhead": 2,
          "ax": 0,
          "ay": 40,
          "showarrow": true,
          "text": "+137.5%",
          "x": 2017,
          "y": 19
         },
         {
          "arrowhead": 2,
          "ax": 0,
          "ay": -40,
          "showarrow": true,
          "text": "-75.0%",
          "x": 2018,
          "y": 1
         },
         {
          "arrowhead": 2,
          "ax": 0,
          "ay": 40,
          "showarrow": true,
          "text": "+36.8%",
          "x": 2018,
          "y": 26
         },
         {
          "arrowhead": 2,
          "ax": 0,
          "ay": 40,
          "showarrow": true,
          "text": "-80.8%",
          "x": 2019,
          "y": 5
         },
         {
          "arrowhead": 2,
          "ax": 0,
          "ay": 40,
          "showarrow": true,
          "text": "+20.0%",
          "x": 2020,
          "y": 6
         }
        ],
        "height": 800,
        "legend": {
         "title": {
          "text": "variable"
         },
         "tracegroupgap": 0
        },
        "template": {
         "data": {
          "bar": [
           {
            "error_x": {
             "color": "#f2f5fa"
            },
            "error_y": {
             "color": "#f2f5fa"
            },
            "marker": {
             "line": {
              "color": "rgb(17,17,17)",
              "width": 0.5
             },
             "pattern": {
              "fillmode": "overlay",
              "size": 10,
              "solidity": 0.2
             }
            },
            "type": "bar"
           }
          ],
          "barpolar": [
           {
            "marker": {
             "line": {
              "color": "rgb(17,17,17)",
              "width": 0.5
             },
             "pattern": {
              "fillmode": "overlay",
              "size": 10,
              "solidity": 0.2
             }
            },
            "type": "barpolar"
           }
          ],
          "carpet": [
           {
            "aaxis": {
             "endlinecolor": "#A2B1C6",
             "gridcolor": "#506784",
             "linecolor": "#506784",
             "minorgridcolor": "#506784",
             "startlinecolor": "#A2B1C6"
            },
            "baxis": {
             "endlinecolor": "#A2B1C6",
             "gridcolor": "#506784",
             "linecolor": "#506784",
             "minorgridcolor": "#506784",
             "startlinecolor": "#A2B1C6"
            },
            "type": "carpet"
           }
          ],
          "choropleth": [
           {
            "colorbar": {
             "outlinewidth": 0,
             "ticks": ""
            },
            "type": "choropleth"
           }
          ],
          "contour": [
           {
            "colorbar": {
             "outlinewidth": 0,
             "ticks": ""
            },
            "colorscale": [
             [
              0,
              "#0d0887"
             ],
             [
              0.1111111111111111,
              "#46039f"
             ],
             [
              0.2222222222222222,
              "#7201a8"
             ],
             [
              0.3333333333333333,
              "#9c179e"
             ],
             [
              0.4444444444444444,
              "#bd3786"
             ],
             [
              0.5555555555555556,
              "#d8576b"
             ],
             [
              0.6666666666666666,
              "#ed7953"
             ],
             [
              0.7777777777777778,
              "#fb9f3a"
             ],
             [
              0.8888888888888888,
              "#fdca26"
             ],
             [
              1,
              "#f0f921"
             ]
            ],
            "type": "contour"
           }
          ],
          "contourcarpet": [
           {
            "colorbar": {
             "outlinewidth": 0,
             "ticks": ""
            },
            "type": "contourcarpet"
           }
          ],
          "heatmap": [
           {
            "colorbar": {
             "outlinewidth": 0,
             "ticks": ""
            },
            "colorscale": [
             [
              0,
              "#0d0887"
             ],
             [
              0.1111111111111111,
              "#46039f"
             ],
             [
              0.2222222222222222,
              "#7201a8"
             ],
             [
              0.3333333333333333,
              "#9c179e"
             ],
             [
              0.4444444444444444,
              "#bd3786"
             ],
             [
              0.5555555555555556,
              "#d8576b"
             ],
             [
              0.6666666666666666,
              "#ed7953"
             ],
             [
              0.7777777777777778,
              "#fb9f3a"
             ],
             [
              0.8888888888888888,
              "#fdca26"
             ],
             [
              1,
              "#f0f921"
             ]
            ],
            "type": "heatmap"
           }
          ],
          "heatmapgl": [
           {
            "colorbar": {
             "outlinewidth": 0,
             "ticks": ""
            },
            "colorscale": [
             [
              0,
              "#0d0887"
             ],
             [
              0.1111111111111111,
              "#46039f"
             ],
             [
              0.2222222222222222,
              "#7201a8"
             ],
             [
              0.3333333333333333,
              "#9c179e"
             ],
             [
              0.4444444444444444,
              "#bd3786"
             ],
             [
              0.5555555555555556,
              "#d8576b"
             ],
             [
              0.6666666666666666,
              "#ed7953"
             ],
             [
              0.7777777777777778,
              "#fb9f3a"
             ],
             [
              0.8888888888888888,
              "#fdca26"
             ],
             [
              1,
              "#f0f921"
             ]
            ],
            "type": "heatmapgl"
           }
          ],
          "histogram": [
           {
            "marker": {
             "pattern": {
              "fillmode": "overlay",
              "size": 10,
              "solidity": 0.2
             }
            },
            "type": "histogram"
           }
          ],
          "histogram2d": [
           {
            "colorbar": {
             "outlinewidth": 0,
             "ticks": ""
            },
            "colorscale": [
             [
              0,
              "#0d0887"
             ],
             [
              0.1111111111111111,
              "#46039f"
             ],
             [
              0.2222222222222222,
              "#7201a8"
             ],
             [
              0.3333333333333333,
              "#9c179e"
             ],
             [
              0.4444444444444444,
              "#bd3786"
             ],
             [
              0.5555555555555556,
              "#d8576b"
             ],
             [
              0.6666666666666666,
              "#ed7953"
             ],
             [
              0.7777777777777778,
              "#fb9f3a"
             ],
             [
              0.8888888888888888,
              "#fdca26"
             ],
             [
              1,
              "#f0f921"
             ]
            ],
            "type": "histogram2d"
           }
          ],
          "histogram2dcontour": [
           {
            "colorbar": {
             "outlinewidth": 0,
             "ticks": ""
            },
            "colorscale": [
             [
              0,
              "#0d0887"
             ],
             [
              0.1111111111111111,
              "#46039f"
             ],
             [
              0.2222222222222222,
              "#7201a8"
             ],
             [
              0.3333333333333333,
              "#9c179e"
             ],
             [
              0.4444444444444444,
              "#bd3786"
             ],
             [
              0.5555555555555556,
              "#d8576b"
             ],
             [
              0.6666666666666666,
              "#ed7953"
             ],
             [
              0.7777777777777778,
              "#fb9f3a"
             ],
             [
              0.8888888888888888,
              "#fdca26"
             ],
             [
              1,
              "#f0f921"
             ]
            ],
            "type": "histogram2dcontour"
           }
          ],
          "mesh3d": [
           {
            "colorbar": {
             "outlinewidth": 0,
             "ticks": ""
            },
            "type": "mesh3d"
           }
          ],
          "parcoords": [
           {
            "line": {
             "colorbar": {
              "outlinewidth": 0,
              "ticks": ""
             }
            },
            "type": "parcoords"
           }
          ],
          "pie": [
           {
            "automargin": true,
            "type": "pie"
           }
          ],
          "scatter": [
           {
            "marker": {
             "line": {
              "color": "#283442"
             }
            },
            "type": "scatter"
           }
          ],
          "scatter3d": [
           {
            "line": {
             "colorbar": {
              "outlinewidth": 0,
              "ticks": ""
             }
            },
            "marker": {
             "colorbar": {
              "outlinewidth": 0,
              "ticks": ""
             }
            },
            "type": "scatter3d"
           }
          ],
          "scattercarpet": [
           {
            "marker": {
             "colorbar": {
              "outlinewidth": 0,
              "ticks": ""
             }
            },
            "type": "scattercarpet"
           }
          ],
          "scattergeo": [
           {
            "marker": {
             "colorbar": {
              "outlinewidth": 0,
              "ticks": ""
             }
            },
            "type": "scattergeo"
           }
          ],
          "scattergl": [
           {
            "marker": {
             "line": {
              "color": "#283442"
             }
            },
            "type": "scattergl"
           }
          ],
          "scattermapbox": [
           {
            "marker": {
             "colorbar": {
              "outlinewidth": 0,
              "ticks": ""
             }
            },
            "type": "scattermapbox"
           }
          ],
          "scatterpolar": [
           {
            "marker": {
             "colorbar": {
              "outlinewidth": 0,
              "ticks": ""
             }
            },
            "type": "scatterpolar"
           }
          ],
          "scatterpolargl": [
           {
            "marker": {
             "colorbar": {
              "outlinewidth": 0,
              "ticks": ""
             }
            },
            "type": "scatterpolargl"
           }
          ],
          "scatterternary": [
           {
            "marker": {
             "colorbar": {
              "outlinewidth": 0,
              "ticks": ""
             }
            },
            "type": "scatterternary"
           }
          ],
          "surface": [
           {
            "colorbar": {
             "outlinewidth": 0,
             "ticks": ""
            },
            "colorscale": [
             [
              0,
              "#0d0887"
             ],
             [
              0.1111111111111111,
              "#46039f"
             ],
             [
              0.2222222222222222,
              "#7201a8"
             ],
             [
              0.3333333333333333,
              "#9c179e"
             ],
             [
              0.4444444444444444,
              "#bd3786"
             ],
             [
              0.5555555555555556,
              "#d8576b"
             ],
             [
              0.6666666666666666,
              "#ed7953"
             ],
             [
              0.7777777777777778,
              "#fb9f3a"
             ],
             [
              0.8888888888888888,
              "#fdca26"
             ],
             [
              1,
              "#f0f921"
             ]
            ],
            "type": "surface"
           }
          ],
          "table": [
           {
            "cells": {
             "fill": {
              "color": "#506784"
             },
             "line": {
              "color": "rgb(17,17,17)"
             }
            },
            "header": {
             "fill": {
              "color": "#2a3f5f"
             },
             "line": {
              "color": "rgb(17,17,17)"
             }
            },
            "type": "table"
           }
          ]
         },
         "layout": {
          "annotationdefaults": {
           "arrowcolor": "#f2f5fa",
           "arrowhead": 0,
           "arrowwidth": 1
          },
          "autotypenumbers": "strict",
          "coloraxis": {
           "colorbar": {
            "outlinewidth": 0,
            "ticks": ""
           }
          },
          "colorscale": {
           "diverging": [
            [
             0,
             "#8e0152"
            ],
            [
             0.1,
             "#c51b7d"
            ],
            [
             0.2,
             "#de77ae"
            ],
            [
             0.3,
             "#f1b6da"
            ],
            [
             0.4,
             "#fde0ef"
            ],
            [
             0.5,
             "#f7f7f7"
            ],
            [
             0.6,
             "#e6f5d0"
            ],
            [
             0.7,
             "#b8e186"
            ],
            [
             0.8,
             "#7fbc41"
            ],
            [
             0.9,
             "#4d9221"
            ],
            [
             1,
             "#276419"
            ]
           ],
           "sequential": [
            [
             0,
             "#0d0887"
            ],
            [
             0.1111111111111111,
             "#46039f"
            ],
            [
             0.2222222222222222,
             "#7201a8"
            ],
            [
             0.3333333333333333,
             "#9c179e"
            ],
            [
             0.4444444444444444,
             "#bd3786"
            ],
            [
             0.5555555555555556,
             "#d8576b"
            ],
            [
             0.6666666666666666,
             "#ed7953"
            ],
            [
             0.7777777777777778,
             "#fb9f3a"
            ],
            [
             0.8888888888888888,
             "#fdca26"
            ],
            [
             1,
             "#f0f921"
            ]
           ],
           "sequentialminus": [
            [
             0,
             "#0d0887"
            ],
            [
             0.1111111111111111,
             "#46039f"
            ],
            [
             0.2222222222222222,
             "#7201a8"
            ],
            [
             0.3333333333333333,
             "#9c179e"
            ],
            [
             0.4444444444444444,
             "#bd3786"
            ],
            [
             0.5555555555555556,
             "#d8576b"
            ],
            [
             0.6666666666666666,
             "#ed7953"
            ],
            [
             0.7777777777777778,
             "#fb9f3a"
            ],
            [
             0.8888888888888888,
             "#fdca26"
            ],
            [
             1,
             "#f0f921"
            ]
           ]
          },
          "colorway": [
           "#636efa",
           "#EF553B",
           "#00cc96",
           "#ab63fa",
           "#FFA15A",
           "#19d3f3",
           "#FF6692",
           "#B6E880",
           "#FF97FF",
           "#FECB52"
          ],
          "font": {
           "color": "#f2f5fa"
          },
          "geo": {
           "bgcolor": "rgb(17,17,17)",
           "lakecolor": "rgb(17,17,17)",
           "landcolor": "rgb(17,17,17)",
           "showlakes": true,
           "showland": true,
           "subunitcolor": "#506784"
          },
          "hoverlabel": {
           "align": "left"
          },
          "hovermode": "closest",
          "mapbox": {
           "style": "dark"
          },
          "paper_bgcolor": "rgb(17,17,17)",
          "plot_bgcolor": "rgb(17,17,17)",
          "polar": {
           "angularaxis": {
            "gridcolor": "#506784",
            "linecolor": "#506784",
            "ticks": ""
           },
           "bgcolor": "rgb(17,17,17)",
           "radialaxis": {
            "gridcolor": "#506784",
            "linecolor": "#506784",
            "ticks": ""
           }
          },
          "scene": {
           "xaxis": {
            "backgroundcolor": "rgb(17,17,17)",
            "gridcolor": "#506784",
            "gridwidth": 2,
            "linecolor": "#506784",
            "showbackground": true,
            "ticks": "",
            "zerolinecolor": "#C8D4E3"
           },
           "yaxis": {
            "backgroundcolor": "rgb(17,17,17)",
            "gridcolor": "#506784",
            "gridwidth": 2,
            "linecolor": "#506784",
            "showbackground": true,
            "ticks": "",
            "zerolinecolor": "#C8D4E3"
           },
           "zaxis": {
            "backgroundcolor": "rgb(17,17,17)",
            "gridcolor": "#506784",
            "gridwidth": 2,
            "linecolor": "#506784",
            "showbackground": true,
            "ticks": "",
            "zerolinecolor": "#C8D4E3"
           }
          },
          "shapedefaults": {
           "line": {
            "color": "#f2f5fa"
           }
          },
          "sliderdefaults": {
           "bgcolor": "#C8D4E3",
           "bordercolor": "rgb(17,17,17)",
           "borderwidth": 1,
           "tickwidth": 0
          },
          "ternary": {
           "aaxis": {
            "gridcolor": "#506784",
            "linecolor": "#506784",
            "ticks": ""
           },
           "baxis": {
            "gridcolor": "#506784",
            "linecolor": "#506784",
            "ticks": ""
           },
           "bgcolor": "rgb(17,17,17)",
           "caxis": {
            "gridcolor": "#506784",
            "linecolor": "#506784",
            "ticks": ""
           }
          },
          "title": {
           "x": 0.05
          },
          "updatemenudefaults": {
           "bgcolor": "#506784",
           "borderwidth": 0
          },
          "xaxis": {
           "automargin": true,
           "gridcolor": "#283442",
           "linecolor": "#506784",
           "ticks": "",
           "title": {
            "standoff": 15
           },
           "zerolinecolor": "#283442",
           "zerolinewidth": 2
          },
          "yaxis": {
           "automargin": true,
           "gridcolor": "#283442",
           "linecolor": "#506784",
           "ticks": "",
           "title": {
            "standoff": 15
           },
           "zerolinecolor": "#283442",
           "zerolinewidth": 2
          }
         }
        },
        "title": {
         "text": "Jumlah Employee Hired dan Resigned"
        },
        "width": 1200,
        "xaxis": {
         "anchor": "y",
         "domain": [
          0,
          1
         ],
         "ticktext": [
          2006,
          2007,
          2008,
          2009,
          2010,
          2011,
          2012,
          2013,
          2014,
          2015,
          2016,
          2017,
          2018,
          2019,
          2020
         ],
         "tickvals": [
          2006,
          2007,
          2008,
          2009,
          2010,
          2011,
          2012,
          2013,
          2014,
          2015,
          2016,
          2017,
          2018,
          2019,
          2020
         ],
         "title": {
          "text": "tahun"
         }
        },
        "yaxis": {
         "anchor": "x",
         "domain": [
          0,
          1
         ],
         "title": {
          "text": "value"
         }
        }
       }
      }
     },
     "metadata": {},
     "output_type": "display_data"
    }
   ],
   "source": [
    "min_tahun = data_hiring_resign['tahun'].min()\n",
    "max_tahun = data_hiring_resign['tahun'].max()\n",
    "fig = px.line(data_hiring_resign, x='tahun', y=['Hired','Resigned'], title='Jumlah Employee Hired dan Resigned',\n",
    "              template='plotly_dark',width=1200,height=800)\n",
    "years = np.arange(min_tahun, max_tahun + 1)\n",
    "fig.update_layout(xaxis={'tickvals':years, 'ticktext':years})\n",
    "fig.data[0].line.smoothing = True\n",
    "fig.data[0].line.shape = 'spline'\n",
    "fig.data[0].line.color = 'green'\n",
    "fig.data[1].line.smoothing = True\n",
    "fig.data[1].line.shape = 'spline'\n",
    "fig.data[1].line.color = 'red'\n",
    "annotations = []\n",
    "for i in range(1, len(data_hiring_resign)):\n",
    "    jumlah_hire = data_hiring_resign.iloc[i]['Hired']\n",
    "    jumlah_resign = data_hiring_resign.iloc[i]['Resigned']\n",
    "    tahun = data_hiring_resign.iloc[i]['tahun']\n",
    "    jumlah_hire_sebelumnya = data_hiring_resign.iloc[i-1]['Hired']\n",
    "    jumlah_resign_sebelumnya = data_hiring_resign.iloc[i-1]['Resigned']\n",
    "    if jumlah_hire != 0 and jumlah_hire_sebelumnya!= 0:\n",
    "        persentase_kenaikan_hire = (jumlah_hire - jumlah_hire_sebelumnya) / jumlah_hire_sebelumnya * 100\n",
    "        if persentase_kenaikan_hire != 0:\n",
    "            if persentase_kenaikan_hire >= 0:\n",
    "                annotation_x = f'+{persentase_kenaikan_hire:.1f}%'\n",
    "            else:\n",
    "                annotation_x = f'{persentase_kenaikan_hire:.1f}%'\n",
    "            annotations.append(dict(x=tahun, y=jumlah_hire, text=annotation_x, showarrow=True, arrowhead=2, ax=0, ay=-40))\n",
    "    if jumlah_resign != 0 and jumlah_resign_sebelumnya!= 0:\n",
    "        persentase_kenaikan_y = (jumlah_resign - jumlah_resign_sebelumnya) / jumlah_resign_sebelumnya * 100\n",
    "        if persentase_kenaikan_y != 0:\n",
    "            if persentase_kenaikan_y >= 0:\n",
    "                annotation_y = f'+{persentase_kenaikan_y:.1f}%'\n",
    "            else:\n",
    "                annotation_y = f'{persentase_kenaikan_y:.1f}%'\n",
    "            annotations.append(dict(x=tahun, y=jumlah_resign, text=annotation_y, showarrow=True, arrowhead=2, ax=0, ay=40))\n",
    "for annotation in annotations:\n",
    "    fig.add_annotation(annotation)\n",
    "fig.show()"
   ]
  },
  {
   "attachments": {},
   "cell_type": "markdown",
   "metadata": {},
   "source": [
    "Beberapa insight yang bisa digali dari chart diatas:\n",
    "1. Terlihat bahwa perusahaan mulai berkembang pesat pada tahun `2011` yang dibuktikan dengan hiring karyawan hingga `76`.\n",
    "2. Dari tahun `2014-2020` hiring berangsur-angsur menurun setiap tahunnya, kemungkinan karena belum ada perkembangan yang berarti dari perusahaan.\n",
    "3. Dari tahun `2016-2017` terjadi peningkatan yang cukup signifikan pada jumlah karyawan yang resign yaitu `8` ke `19` orang`(+137.5%)`. \n",
    "4. Hal tersebut terus belangsung hingga tahun `2018` yang merupakan puncak terbanyak karyawan resign yaitu `26` orang, ditambah hiring yang terus menurun\n",
    "5. Tahun `2019-2020` total yang resign ada 9 orang namun tidak ada hiring sama sekali"
   ]
  },
  {
   "attachments": {},
   "cell_type": "markdown",
   "metadata": {},
   "source": [
    "## Resign Reason Analysis for Employee Attrition Management Strategy"
   ]
  },
  {
   "cell_type": "code",
   "execution_count": 45,
   "metadata": {},
   "outputs": [],
   "source": [
    "data_an2 = data_an.copy()"
   ]
  },
  {
   "attachments": {},
   "cell_type": "markdown",
   "metadata": {},
   "source": [
    "### Perbandingan Resigned Employee dengan Existing Employee"
   ]
  },
  {
   "cell_type": "code",
   "execution_count": 46,
   "metadata": {},
   "outputs": [
    {
     "data": {
      "text/html": [
       "<div>\n",
       "<style scoped>\n",
       "    .dataframe tbody tr th:only-of-type {\n",
       "        vertical-align: middle;\n",
       "    }\n",
       "\n",
       "    .dataframe tbody tr th {\n",
       "        vertical-align: top;\n",
       "    }\n",
       "\n",
       "    .dataframe thead th {\n",
       "        text-align: right;\n",
       "    }\n",
       "</style>\n",
       "<table border=\"1\" class=\"dataframe\">\n",
       "  <thead>\n",
       "    <tr style=\"text-align: right;\">\n",
       "      <th></th>\n",
       "      <th>Pekerjaan</th>\n",
       "      <th>jumlah_employee</th>\n",
       "    </tr>\n",
       "  </thead>\n",
       "  <tbody>\n",
       "    <tr>\n",
       "      <th>5</th>\n",
       "      <td>Software Engineer (Back End)</td>\n",
       "      <td>28</td>\n",
       "    </tr>\n",
       "    <tr>\n",
       "      <th>6</th>\n",
       "      <td>Software Engineer (Front End)</td>\n",
       "      <td>27</td>\n",
       "    </tr>\n",
       "    <tr>\n",
       "      <th>2</th>\n",
       "      <td>Product Design (UI &amp; UX)</td>\n",
       "      <td>9</td>\n",
       "    </tr>\n",
       "    <tr>\n",
       "      <th>0</th>\n",
       "      <td>Data Analyst</td>\n",
       "      <td>7</td>\n",
       "    </tr>\n",
       "    <tr>\n",
       "      <th>4</th>\n",
       "      <td>Software Engineer (Android)</td>\n",
       "      <td>7</td>\n",
       "    </tr>\n",
       "    <tr>\n",
       "      <th>3</th>\n",
       "      <td>Product Manager</td>\n",
       "      <td>6</td>\n",
       "    </tr>\n",
       "    <tr>\n",
       "      <th>1</th>\n",
       "      <td>Data Engineer</td>\n",
       "      <td>3</td>\n",
       "    </tr>\n",
       "  </tbody>\n",
       "</table>\n",
       "</div>"
      ],
      "text/plain": [
       "                       Pekerjaan  jumlah_employee\n",
       "5   Software Engineer (Back End)               28\n",
       "6  Software Engineer (Front End)               27\n",
       "2       Product Design (UI & UX)                9\n",
       "0                   Data Analyst                7\n",
       "4    Software Engineer (Android)                7\n",
       "3                Product Manager                6\n",
       "1                  Data Engineer                3"
      ]
     },
     "execution_count": 46,
     "metadata": {},
     "output_type": "execute_result"
    }
   ],
   "source": [
    "data_resigned = data_an2[data_an2['resign'] != 0].groupby(['Pekerjaan']).size().reset_index(name='jumlah_employee').sort_values(by='jumlah_employee', ascending=False)\n",
    "data_resigned"
   ]
  },
  {
   "cell_type": "code",
   "execution_count": 47,
   "metadata": {},
   "outputs": [
    {
     "data": {
      "text/html": [
       "<div>\n",
       "<style scoped>\n",
       "    .dataframe tbody tr th:only-of-type {\n",
       "        vertical-align: middle;\n",
       "    }\n",
       "\n",
       "    .dataframe tbody tr th {\n",
       "        vertical-align: top;\n",
       "    }\n",
       "\n",
       "    .dataframe thead th {\n",
       "        text-align: right;\n",
       "    }\n",
       "</style>\n",
       "<table border=\"1\" class=\"dataframe\">\n",
       "  <thead>\n",
       "    <tr style=\"text-align: right;\">\n",
       "      <th></th>\n",
       "      <th>Pekerjaan</th>\n",
       "      <th>jumlah_employee</th>\n",
       "    </tr>\n",
       "  </thead>\n",
       "  <tbody>\n",
       "    <tr>\n",
       "      <th>11</th>\n",
       "      <td>Software Engineer (Back End)</td>\n",
       "      <td>81</td>\n",
       "    </tr>\n",
       "    <tr>\n",
       "      <th>12</th>\n",
       "      <td>Software Engineer (Front End)</td>\n",
       "      <td>44</td>\n",
       "    </tr>\n",
       "    <tr>\n",
       "      <th>10</th>\n",
       "      <td>Software Engineer (Android)</td>\n",
       "      <td>17</td>\n",
       "    </tr>\n",
       "    <tr>\n",
       "      <th>5</th>\n",
       "      <td>Product Design (UI &amp; UX)</td>\n",
       "      <td>15</td>\n",
       "    </tr>\n",
       "    <tr>\n",
       "      <th>7</th>\n",
       "      <td>Product Manager</td>\n",
       "      <td>11</td>\n",
       "    </tr>\n",
       "    <tr>\n",
       "      <th>0</th>\n",
       "      <td>Data Analyst</td>\n",
       "      <td>8</td>\n",
       "    </tr>\n",
       "    <tr>\n",
       "      <th>1</th>\n",
       "      <td>Data Engineer</td>\n",
       "      <td>7</td>\n",
       "    </tr>\n",
       "    <tr>\n",
       "      <th>2</th>\n",
       "      <td>DevOps Engineer</td>\n",
       "      <td>3</td>\n",
       "    </tr>\n",
       "    <tr>\n",
       "      <th>8</th>\n",
       "      <td>Scrum Master</td>\n",
       "      <td>3</td>\n",
       "    </tr>\n",
       "    <tr>\n",
       "      <th>13</th>\n",
       "      <td>Software Engineer (iOS)</td>\n",
       "      <td>3</td>\n",
       "    </tr>\n",
       "    <tr>\n",
       "      <th>3</th>\n",
       "      <td>Digital Product Manager</td>\n",
       "      <td>2</td>\n",
       "    </tr>\n",
       "    <tr>\n",
       "      <th>4</th>\n",
       "      <td>Machine Learning Engineer</td>\n",
       "      <td>2</td>\n",
       "    </tr>\n",
       "    <tr>\n",
       "      <th>6</th>\n",
       "      <td>Product Design (UX Researcher)</td>\n",
       "      <td>1</td>\n",
       "    </tr>\n",
       "    <tr>\n",
       "      <th>9</th>\n",
       "      <td>Software Architect</td>\n",
       "      <td>1</td>\n",
       "    </tr>\n",
       "  </tbody>\n",
       "</table>\n",
       "</div>"
      ],
      "text/plain": [
       "                         Pekerjaan  jumlah_employee\n",
       "11    Software Engineer (Back End)               81\n",
       "12   Software Engineer (Front End)               44\n",
       "10     Software Engineer (Android)               17\n",
       "5         Product Design (UI & UX)               15\n",
       "7                  Product Manager               11\n",
       "0                     Data Analyst                8\n",
       "1                    Data Engineer                7\n",
       "2                  DevOps Engineer                3\n",
       "8                     Scrum Master                3\n",
       "13         Software Engineer (iOS)                3\n",
       "3          Digital Product Manager                2\n",
       "4        Machine Learning Engineer                2\n",
       "6   Product Design (UX Researcher)                1\n",
       "9               Software Architect                1"
      ]
     },
     "execution_count": 47,
     "metadata": {},
     "output_type": "execute_result"
    }
   ],
   "source": [
    "data_existing = data_an2[data_an2['resign'] == 0].groupby(['Pekerjaan']).size().reset_index(name='jumlah_employee').sort_values(by='jumlah_employee', ascending=False)\n",
    "data_existing"
   ]
  },
  {
   "cell_type": "code",
   "execution_count": 48,
   "metadata": {},
   "outputs": [
    {
     "data": {
      "text/html": [
       "<div>\n",
       "<style scoped>\n",
       "    .dataframe tbody tr th:only-of-type {\n",
       "        vertical-align: middle;\n",
       "    }\n",
       "\n",
       "    .dataframe tbody tr th {\n",
       "        vertical-align: top;\n",
       "    }\n",
       "\n",
       "    .dataframe thead th {\n",
       "        text-align: right;\n",
       "    }\n",
       "</style>\n",
       "<table border=\"1\" class=\"dataframe\">\n",
       "  <thead>\n",
       "    <tr style=\"text-align: right;\">\n",
       "      <th></th>\n",
       "      <th>Pekerjaan</th>\n",
       "      <th>Existing</th>\n",
       "      <th>Resigned</th>\n",
       "    </tr>\n",
       "  </thead>\n",
       "  <tbody>\n",
       "    <tr>\n",
       "      <th>0</th>\n",
       "      <td>Software Engineer (Back End)</td>\n",
       "      <td>81</td>\n",
       "      <td>28.0</td>\n",
       "    </tr>\n",
       "    <tr>\n",
       "      <th>1</th>\n",
       "      <td>Software Engineer (Front End)</td>\n",
       "      <td>44</td>\n",
       "      <td>27.0</td>\n",
       "    </tr>\n",
       "    <tr>\n",
       "      <th>2</th>\n",
       "      <td>Software Engineer (Android)</td>\n",
       "      <td>17</td>\n",
       "      <td>7.0</td>\n",
       "    </tr>\n",
       "    <tr>\n",
       "      <th>3</th>\n",
       "      <td>Product Design (UI &amp; UX)</td>\n",
       "      <td>15</td>\n",
       "      <td>9.0</td>\n",
       "    </tr>\n",
       "    <tr>\n",
       "      <th>4</th>\n",
       "      <td>Product Manager</td>\n",
       "      <td>11</td>\n",
       "      <td>6.0</td>\n",
       "    </tr>\n",
       "    <tr>\n",
       "      <th>5</th>\n",
       "      <td>Data Analyst</td>\n",
       "      <td>8</td>\n",
       "      <td>7.0</td>\n",
       "    </tr>\n",
       "    <tr>\n",
       "      <th>6</th>\n",
       "      <td>Data Engineer</td>\n",
       "      <td>7</td>\n",
       "      <td>3.0</td>\n",
       "    </tr>\n",
       "    <tr>\n",
       "      <th>7</th>\n",
       "      <td>DevOps Engineer</td>\n",
       "      <td>3</td>\n",
       "      <td>0.0</td>\n",
       "    </tr>\n",
       "    <tr>\n",
       "      <th>8</th>\n",
       "      <td>Scrum Master</td>\n",
       "      <td>3</td>\n",
       "      <td>0.0</td>\n",
       "    </tr>\n",
       "    <tr>\n",
       "      <th>9</th>\n",
       "      <td>Software Engineer (iOS)</td>\n",
       "      <td>3</td>\n",
       "      <td>0.0</td>\n",
       "    </tr>\n",
       "    <tr>\n",
       "      <th>10</th>\n",
       "      <td>Digital Product Manager</td>\n",
       "      <td>2</td>\n",
       "      <td>0.0</td>\n",
       "    </tr>\n",
       "    <tr>\n",
       "      <th>11</th>\n",
       "      <td>Machine Learning Engineer</td>\n",
       "      <td>2</td>\n",
       "      <td>0.0</td>\n",
       "    </tr>\n",
       "    <tr>\n",
       "      <th>12</th>\n",
       "      <td>Product Design (UX Researcher)</td>\n",
       "      <td>1</td>\n",
       "      <td>0.0</td>\n",
       "    </tr>\n",
       "    <tr>\n",
       "      <th>13</th>\n",
       "      <td>Software Architect</td>\n",
       "      <td>1</td>\n",
       "      <td>0.0</td>\n",
       "    </tr>\n",
       "  </tbody>\n",
       "</table>\n",
       "</div>"
      ],
      "text/plain": [
       "                         Pekerjaan  Existing  Resigned\n",
       "0     Software Engineer (Back End)        81      28.0\n",
       "1    Software Engineer (Front End)        44      27.0\n",
       "2      Software Engineer (Android)        17       7.0\n",
       "3         Product Design (UI & UX)        15       9.0\n",
       "4                  Product Manager        11       6.0\n",
       "5                     Data Analyst         8       7.0\n",
       "6                    Data Engineer         7       3.0\n",
       "7                  DevOps Engineer         3       0.0\n",
       "8                     Scrum Master         3       0.0\n",
       "9          Software Engineer (iOS)         3       0.0\n",
       "10         Digital Product Manager         2       0.0\n",
       "11       Machine Learning Engineer         2       0.0\n",
       "12  Product Design (UX Researcher)         1       0.0\n",
       "13              Software Architect         1       0.0"
      ]
     },
     "execution_count": 48,
     "metadata": {},
     "output_type": "execute_result"
    }
   ],
   "source": [
    "merge_resign_exist = pd.merge(data_existing, data_resigned, on='Pekerjaan', how='outer')\n",
    "merge_resign_exist.rename(columns={'jumlah_employee_x': 'Existing', 'jumlah_employee_y': 'Resigned'}, inplace=True)\n",
    "merge_resign_exist.fillna(0, inplace=True)\n",
    "merge_resign_exist"
   ]
  },
  {
   "cell_type": "code",
   "execution_count": 49,
   "metadata": {},
   "outputs": [
    {
     "data": {
      "text/html": [
       "<div>\n",
       "<style scoped>\n",
       "    .dataframe tbody tr th:only-of-type {\n",
       "        vertical-align: middle;\n",
       "    }\n",
       "\n",
       "    .dataframe tbody tr th {\n",
       "        vertical-align: top;\n",
       "    }\n",
       "\n",
       "    .dataframe thead th {\n",
       "        text-align: right;\n",
       "    }\n",
       "</style>\n",
       "<table border=\"1\" class=\"dataframe\">\n",
       "  <thead>\n",
       "    <tr style=\"text-align: right;\">\n",
       "      <th></th>\n",
       "      <th>Pekerjaan</th>\n",
       "      <th>Existing</th>\n",
       "      <th>Resigned</th>\n",
       "      <th>Total Employee</th>\n",
       "      <th>Persentase Resign Employee</th>\n",
       "    </tr>\n",
       "  </thead>\n",
       "  <tbody>\n",
       "    <tr>\n",
       "      <th>5</th>\n",
       "      <td>Data Analyst</td>\n",
       "      <td>8</td>\n",
       "      <td>7.0</td>\n",
       "      <td>15.0</td>\n",
       "      <td>46.7</td>\n",
       "    </tr>\n",
       "    <tr>\n",
       "      <th>1</th>\n",
       "      <td>Software Engineer (Front End)</td>\n",
       "      <td>44</td>\n",
       "      <td>27.0</td>\n",
       "      <td>71.0</td>\n",
       "      <td>38.0</td>\n",
       "    </tr>\n",
       "    <tr>\n",
       "      <th>3</th>\n",
       "      <td>Product Design (UI &amp; UX)</td>\n",
       "      <td>15</td>\n",
       "      <td>9.0</td>\n",
       "      <td>24.0</td>\n",
       "      <td>37.5</td>\n",
       "    </tr>\n",
       "    <tr>\n",
       "      <th>4</th>\n",
       "      <td>Product Manager</td>\n",
       "      <td>11</td>\n",
       "      <td>6.0</td>\n",
       "      <td>17.0</td>\n",
       "      <td>35.3</td>\n",
       "    </tr>\n",
       "    <tr>\n",
       "      <th>6</th>\n",
       "      <td>Data Engineer</td>\n",
       "      <td>7</td>\n",
       "      <td>3.0</td>\n",
       "      <td>10.0</td>\n",
       "      <td>30.0</td>\n",
       "    </tr>\n",
       "    <tr>\n",
       "      <th>2</th>\n",
       "      <td>Software Engineer (Android)</td>\n",
       "      <td>17</td>\n",
       "      <td>7.0</td>\n",
       "      <td>24.0</td>\n",
       "      <td>29.2</td>\n",
       "    </tr>\n",
       "    <tr>\n",
       "      <th>0</th>\n",
       "      <td>Software Engineer (Back End)</td>\n",
       "      <td>81</td>\n",
       "      <td>28.0</td>\n",
       "      <td>109.0</td>\n",
       "      <td>25.7</td>\n",
       "    </tr>\n",
       "    <tr>\n",
       "      <th>7</th>\n",
       "      <td>DevOps Engineer</td>\n",
       "      <td>3</td>\n",
       "      <td>0.0</td>\n",
       "      <td>3.0</td>\n",
       "      <td>0.0</td>\n",
       "    </tr>\n",
       "    <tr>\n",
       "      <th>8</th>\n",
       "      <td>Scrum Master</td>\n",
       "      <td>3</td>\n",
       "      <td>0.0</td>\n",
       "      <td>3.0</td>\n",
       "      <td>0.0</td>\n",
       "    </tr>\n",
       "    <tr>\n",
       "      <th>9</th>\n",
       "      <td>Software Engineer (iOS)</td>\n",
       "      <td>3</td>\n",
       "      <td>0.0</td>\n",
       "      <td>3.0</td>\n",
       "      <td>0.0</td>\n",
       "    </tr>\n",
       "    <tr>\n",
       "      <th>10</th>\n",
       "      <td>Digital Product Manager</td>\n",
       "      <td>2</td>\n",
       "      <td>0.0</td>\n",
       "      <td>2.0</td>\n",
       "      <td>0.0</td>\n",
       "    </tr>\n",
       "    <tr>\n",
       "      <th>11</th>\n",
       "      <td>Machine Learning Engineer</td>\n",
       "      <td>2</td>\n",
       "      <td>0.0</td>\n",
       "      <td>2.0</td>\n",
       "      <td>0.0</td>\n",
       "    </tr>\n",
       "    <tr>\n",
       "      <th>12</th>\n",
       "      <td>Product Design (UX Researcher)</td>\n",
       "      <td>1</td>\n",
       "      <td>0.0</td>\n",
       "      <td>1.0</td>\n",
       "      <td>0.0</td>\n",
       "    </tr>\n",
       "    <tr>\n",
       "      <th>13</th>\n",
       "      <td>Software Architect</td>\n",
       "      <td>1</td>\n",
       "      <td>0.0</td>\n",
       "      <td>1.0</td>\n",
       "      <td>0.0</td>\n",
       "    </tr>\n",
       "  </tbody>\n",
       "</table>\n",
       "</div>"
      ],
      "text/plain": [
       "                         Pekerjaan  Existing  Resigned  Total Employee  \\\n",
       "5                     Data Analyst         8       7.0            15.0   \n",
       "1    Software Engineer (Front End)        44      27.0            71.0   \n",
       "3         Product Design (UI & UX)        15       9.0            24.0   \n",
       "4                  Product Manager        11       6.0            17.0   \n",
       "6                    Data Engineer         7       3.0            10.0   \n",
       "2      Software Engineer (Android)        17       7.0            24.0   \n",
       "0     Software Engineer (Back End)        81      28.0           109.0   \n",
       "7                  DevOps Engineer         3       0.0             3.0   \n",
       "8                     Scrum Master         3       0.0             3.0   \n",
       "9          Software Engineer (iOS)         3       0.0             3.0   \n",
       "10         Digital Product Manager         2       0.0             2.0   \n",
       "11       Machine Learning Engineer         2       0.0             2.0   \n",
       "12  Product Design (UX Researcher)         1       0.0             1.0   \n",
       "13              Software Architect         1       0.0             1.0   \n",
       "\n",
       "    Persentase Resign Employee  \n",
       "5                         46.7  \n",
       "1                         38.0  \n",
       "3                         37.5  \n",
       "4                         35.3  \n",
       "6                         30.0  \n",
       "2                         29.2  \n",
       "0                         25.7  \n",
       "7                          0.0  \n",
       "8                          0.0  \n",
       "9                          0.0  \n",
       "10                         0.0  \n",
       "11                         0.0  \n",
       "12                         0.0  \n",
       "13                         0.0  "
      ]
     },
     "execution_count": 49,
     "metadata": {},
     "output_type": "execute_result"
    }
   ],
   "source": [
    "merge_resign_exist['Total Employee'] = merge_resign_exist['Existing'] + merge_resign_exist['Resigned']\n",
    "merge_resign_exist['Persentase Resign Employee'] = round(merge_resign_exist['Resigned'] / merge_resign_exist['Total Employee']*100,1)\n",
    "merge_resign_exist.sort_values(by='Persentase Resign Employee',ascending=False)"
   ]
  },
  {
   "cell_type": "code",
   "execution_count": 50,
   "metadata": {},
   "outputs": [
    {
     "data": {
      "application/vnd.plotly.v1+json": {
       "config": {
        "plotlyServerURL": "https://plot.ly"
       },
       "data": [
        {
         "alignmentgroup": "True",
         "hovertemplate": "variable=Existing<br>Total Employee(Existing Employee(%))=%{x}<br>Divisi=%{y}<extra></extra>",
         "legendgroup": "Existing",
         "marker": {
          "color": "#636efa",
          "pattern": {
           "shape": ""
          }
         },
         "name": "Existing",
         "offsetgroup": "Existing",
         "orientation": "h",
         "showlegend": true,
         "textposition": "auto",
         "type": "bar",
         "x": [
          81,
          44,
          17,
          15,
          11,
          8,
          7,
          3,
          3,
          3,
          2,
          2,
          1,
          1
         ],
         "xaxis": "x",
         "y": [
          "Software Engineer (Back End)",
          "Software Engineer (Front End)",
          "Software Engineer (Android)",
          "Product Design (UI & UX)",
          "Product Manager",
          "Data Analyst",
          "Data Engineer",
          "DevOps Engineer",
          "Scrum Master",
          "Software Engineer (iOS)",
          "Digital Product Manager",
          "Machine Learning Engineer",
          "Product Design (UX Researcher)",
          "Software Architect"
         ],
         "yaxis": "y"
        },
        {
         "alignmentgroup": "True",
         "hovertemplate": "variable=Resigned<br>Total Employee(Existing Employee(%))=%{x}<br>Divisi=%{y}<extra></extra>",
         "legendgroup": "Resigned",
         "marker": {
          "color": "#EF553B",
          "pattern": {
           "shape": ""
          }
         },
         "name": "Resigned",
         "offsetgroup": "Resigned",
         "orientation": "h",
         "showlegend": true,
         "textposition": "auto",
         "type": "bar",
         "x": [
          28,
          27,
          7,
          9,
          6,
          7,
          3,
          0,
          0,
          0,
          0,
          0,
          0,
          0
         ],
         "xaxis": "x",
         "y": [
          "Software Engineer (Back End)",
          "Software Engineer (Front End)",
          "Software Engineer (Android)",
          "Product Design (UI & UX)",
          "Product Manager",
          "Data Analyst",
          "Data Engineer",
          "DevOps Engineer",
          "Scrum Master",
          "Software Engineer (iOS)",
          "Digital Product Manager",
          "Machine Learning Engineer",
          "Product Design (UX Researcher)",
          "Software Architect"
         ],
         "yaxis": "y"
        }
       ],
       "layout": {
        "annotations": [
         {
          "align": "center",
          "font": {
           "size": 10
          },
          "showarrow": false,
          "text": "25.7%",
          "x": 81,
          "xanchor": "left",
          "y": "Software Engineer (Back End)",
          "yanchor": "middle"
         },
         {
          "align": "center",
          "font": {
           "size": 10
          },
          "showarrow": false,
          "text": "38.0%",
          "x": 44,
          "xanchor": "left",
          "y": "Software Engineer (Front End)",
          "yanchor": "middle"
         },
         {
          "align": "center",
          "font": {
           "size": 10
          },
          "showarrow": false,
          "text": "29.2%",
          "x": 17,
          "xanchor": "left",
          "y": "Software Engineer (Android)",
          "yanchor": "middle"
         },
         {
          "align": "center",
          "font": {
           "size": 10
          },
          "showarrow": false,
          "text": "37.5%",
          "x": 15,
          "xanchor": "left",
          "y": "Product Design (UI & UX)",
          "yanchor": "middle"
         },
         {
          "align": "center",
          "font": {
           "size": 10
          },
          "showarrow": false,
          "text": "35.3%",
          "x": 11,
          "xanchor": "left",
          "y": "Product Manager",
          "yanchor": "middle"
         },
         {
          "align": "center",
          "font": {
           "size": 10
          },
          "showarrow": false,
          "text": "46.7%",
          "x": 8,
          "xanchor": "left",
          "y": "Data Analyst",
          "yanchor": "middle"
         },
         {
          "align": "center",
          "font": {
           "size": 10
          },
          "showarrow": false,
          "text": "30.0%",
          "x": 7,
          "xanchor": "left",
          "y": "Data Engineer",
          "yanchor": "middle"
         },
         {
          "align": "center",
          "font": {
           "size": 10
          },
          "showarrow": false,
          "text": "0.0%",
          "x": 3,
          "xanchor": "left",
          "y": "DevOps Engineer",
          "yanchor": "middle"
         },
         {
          "align": "center",
          "font": {
           "size": 10
          },
          "showarrow": false,
          "text": "0.0%",
          "x": 3,
          "xanchor": "left",
          "y": "Scrum Master",
          "yanchor": "middle"
         },
         {
          "align": "center",
          "font": {
           "size": 10
          },
          "showarrow": false,
          "text": "0.0%",
          "x": 3,
          "xanchor": "left",
          "y": "Software Engineer (iOS)",
          "yanchor": "middle"
         },
         {
          "align": "center",
          "font": {
           "size": 10
          },
          "showarrow": false,
          "text": "0.0%",
          "x": 2,
          "xanchor": "left",
          "y": "Digital Product Manager",
          "yanchor": "middle"
         },
         {
          "align": "center",
          "font": {
           "size": 10
          },
          "showarrow": false,
          "text": "0.0%",
          "x": 2,
          "xanchor": "left",
          "y": "Machine Learning Engineer",
          "yanchor": "middle"
         },
         {
          "align": "center",
          "font": {
           "size": 10
          },
          "showarrow": false,
          "text": "0.0%",
          "x": 1,
          "xanchor": "left",
          "y": "Product Design (UX Researcher)",
          "yanchor": "middle"
         },
         {
          "align": "center",
          "font": {
           "size": 10
          },
          "showarrow": false,
          "text": "0.0%",
          "x": 1,
          "xanchor": "left",
          "y": "Software Architect",
          "yanchor": "middle"
         }
        ],
        "barmode": "stack",
        "height": 800,
        "legend": {
         "title": {
          "text": "variable"
         },
         "tracegroupgap": 0
        },
        "margin": {
         "t": 60
        },
        "template": {
         "data": {
          "bar": [
           {
            "error_x": {
             "color": "#f2f5fa"
            },
            "error_y": {
             "color": "#f2f5fa"
            },
            "marker": {
             "line": {
              "color": "rgb(17,17,17)",
              "width": 0.5
             },
             "pattern": {
              "fillmode": "overlay",
              "size": 10,
              "solidity": 0.2
             }
            },
            "type": "bar"
           }
          ],
          "barpolar": [
           {
            "marker": {
             "line": {
              "color": "rgb(17,17,17)",
              "width": 0.5
             },
             "pattern": {
              "fillmode": "overlay",
              "size": 10,
              "solidity": 0.2
             }
            },
            "type": "barpolar"
           }
          ],
          "carpet": [
           {
            "aaxis": {
             "endlinecolor": "#A2B1C6",
             "gridcolor": "#506784",
             "linecolor": "#506784",
             "minorgridcolor": "#506784",
             "startlinecolor": "#A2B1C6"
            },
            "baxis": {
             "endlinecolor": "#A2B1C6",
             "gridcolor": "#506784",
             "linecolor": "#506784",
             "minorgridcolor": "#506784",
             "startlinecolor": "#A2B1C6"
            },
            "type": "carpet"
           }
          ],
          "choropleth": [
           {
            "colorbar": {
             "outlinewidth": 0,
             "ticks": ""
            },
            "type": "choropleth"
           }
          ],
          "contour": [
           {
            "colorbar": {
             "outlinewidth": 0,
             "ticks": ""
            },
            "colorscale": [
             [
              0,
              "#0d0887"
             ],
             [
              0.1111111111111111,
              "#46039f"
             ],
             [
              0.2222222222222222,
              "#7201a8"
             ],
             [
              0.3333333333333333,
              "#9c179e"
             ],
             [
              0.4444444444444444,
              "#bd3786"
             ],
             [
              0.5555555555555556,
              "#d8576b"
             ],
             [
              0.6666666666666666,
              "#ed7953"
             ],
             [
              0.7777777777777778,
              "#fb9f3a"
             ],
             [
              0.8888888888888888,
              "#fdca26"
             ],
             [
              1,
              "#f0f921"
             ]
            ],
            "type": "contour"
           }
          ],
          "contourcarpet": [
           {
            "colorbar": {
             "outlinewidth": 0,
             "ticks": ""
            },
            "type": "contourcarpet"
           }
          ],
          "heatmap": [
           {
            "colorbar": {
             "outlinewidth": 0,
             "ticks": ""
            },
            "colorscale": [
             [
              0,
              "#0d0887"
             ],
             [
              0.1111111111111111,
              "#46039f"
             ],
             [
              0.2222222222222222,
              "#7201a8"
             ],
             [
              0.3333333333333333,
              "#9c179e"
             ],
             [
              0.4444444444444444,
              "#bd3786"
             ],
             [
              0.5555555555555556,
              "#d8576b"
             ],
             [
              0.6666666666666666,
              "#ed7953"
             ],
             [
              0.7777777777777778,
              "#fb9f3a"
             ],
             [
              0.8888888888888888,
              "#fdca26"
             ],
             [
              1,
              "#f0f921"
             ]
            ],
            "type": "heatmap"
           }
          ],
          "heatmapgl": [
           {
            "colorbar": {
             "outlinewidth": 0,
             "ticks": ""
            },
            "colorscale": [
             [
              0,
              "#0d0887"
             ],
             [
              0.1111111111111111,
              "#46039f"
             ],
             [
              0.2222222222222222,
              "#7201a8"
             ],
             [
              0.3333333333333333,
              "#9c179e"
             ],
             [
              0.4444444444444444,
              "#bd3786"
             ],
             [
              0.5555555555555556,
              "#d8576b"
             ],
             [
              0.6666666666666666,
              "#ed7953"
             ],
             [
              0.7777777777777778,
              "#fb9f3a"
             ],
             [
              0.8888888888888888,
              "#fdca26"
             ],
             [
              1,
              "#f0f921"
             ]
            ],
            "type": "heatmapgl"
           }
          ],
          "histogram": [
           {
            "marker": {
             "pattern": {
              "fillmode": "overlay",
              "size": 10,
              "solidity": 0.2
             }
            },
            "type": "histogram"
           }
          ],
          "histogram2d": [
           {
            "colorbar": {
             "outlinewidth": 0,
             "ticks": ""
            },
            "colorscale": [
             [
              0,
              "#0d0887"
             ],
             [
              0.1111111111111111,
              "#46039f"
             ],
             [
              0.2222222222222222,
              "#7201a8"
             ],
             [
              0.3333333333333333,
              "#9c179e"
             ],
             [
              0.4444444444444444,
              "#bd3786"
             ],
             [
              0.5555555555555556,
              "#d8576b"
             ],
             [
              0.6666666666666666,
              "#ed7953"
             ],
             [
              0.7777777777777778,
              "#fb9f3a"
             ],
             [
              0.8888888888888888,
              "#fdca26"
             ],
             [
              1,
              "#f0f921"
             ]
            ],
            "type": "histogram2d"
           }
          ],
          "histogram2dcontour": [
           {
            "colorbar": {
             "outlinewidth": 0,
             "ticks": ""
            },
            "colorscale": [
             [
              0,
              "#0d0887"
             ],
             [
              0.1111111111111111,
              "#46039f"
             ],
             [
              0.2222222222222222,
              "#7201a8"
             ],
             [
              0.3333333333333333,
              "#9c179e"
             ],
             [
              0.4444444444444444,
              "#bd3786"
             ],
             [
              0.5555555555555556,
              "#d8576b"
             ],
             [
              0.6666666666666666,
              "#ed7953"
             ],
             [
              0.7777777777777778,
              "#fb9f3a"
             ],
             [
              0.8888888888888888,
              "#fdca26"
             ],
             [
              1,
              "#f0f921"
             ]
            ],
            "type": "histogram2dcontour"
           }
          ],
          "mesh3d": [
           {
            "colorbar": {
             "outlinewidth": 0,
             "ticks": ""
            },
            "type": "mesh3d"
           }
          ],
          "parcoords": [
           {
            "line": {
             "colorbar": {
              "outlinewidth": 0,
              "ticks": ""
             }
            },
            "type": "parcoords"
           }
          ],
          "pie": [
           {
            "automargin": true,
            "type": "pie"
           }
          ],
          "scatter": [
           {
            "marker": {
             "line": {
              "color": "#283442"
             }
            },
            "type": "scatter"
           }
          ],
          "scatter3d": [
           {
            "line": {
             "colorbar": {
              "outlinewidth": 0,
              "ticks": ""
             }
            },
            "marker": {
             "colorbar": {
              "outlinewidth": 0,
              "ticks": ""
             }
            },
            "type": "scatter3d"
           }
          ],
          "scattercarpet": [
           {
            "marker": {
             "colorbar": {
              "outlinewidth": 0,
              "ticks": ""
             }
            },
            "type": "scattercarpet"
           }
          ],
          "scattergeo": [
           {
            "marker": {
             "colorbar": {
              "outlinewidth": 0,
              "ticks": ""
             }
            },
            "type": "scattergeo"
           }
          ],
          "scattergl": [
           {
            "marker": {
             "line": {
              "color": "#283442"
             }
            },
            "type": "scattergl"
           }
          ],
          "scattermapbox": [
           {
            "marker": {
             "colorbar": {
              "outlinewidth": 0,
              "ticks": ""
             }
            },
            "type": "scattermapbox"
           }
          ],
          "scatterpolar": [
           {
            "marker": {
             "colorbar": {
              "outlinewidth": 0,
              "ticks": ""
             }
            },
            "type": "scatterpolar"
           }
          ],
          "scatterpolargl": [
           {
            "marker": {
             "colorbar": {
              "outlinewidth": 0,
              "ticks": ""
             }
            },
            "type": "scatterpolargl"
           }
          ],
          "scatterternary": [
           {
            "marker": {
             "colorbar": {
              "outlinewidth": 0,
              "ticks": ""
             }
            },
            "type": "scatterternary"
           }
          ],
          "surface": [
           {
            "colorbar": {
             "outlinewidth": 0,
             "ticks": ""
            },
            "colorscale": [
             [
              0,
              "#0d0887"
             ],
             [
              0.1111111111111111,
              "#46039f"
             ],
             [
              0.2222222222222222,
              "#7201a8"
             ],
             [
              0.3333333333333333,
              "#9c179e"
             ],
             [
              0.4444444444444444,
              "#bd3786"
             ],
             [
              0.5555555555555556,
              "#d8576b"
             ],
             [
              0.6666666666666666,
              "#ed7953"
             ],
             [
              0.7777777777777778,
              "#fb9f3a"
             ],
             [
              0.8888888888888888,
              "#fdca26"
             ],
             [
              1,
              "#f0f921"
             ]
            ],
            "type": "surface"
           }
          ],
          "table": [
           {
            "cells": {
             "fill": {
              "color": "#506784"
             },
             "line": {
              "color": "rgb(17,17,17)"
             }
            },
            "header": {
             "fill": {
              "color": "#2a3f5f"
             },
             "line": {
              "color": "rgb(17,17,17)"
             }
            },
            "type": "table"
           }
          ]
         },
         "layout": {
          "annotationdefaults": {
           "arrowcolor": "#f2f5fa",
           "arrowhead": 0,
           "arrowwidth": 1
          },
          "autotypenumbers": "strict",
          "coloraxis": {
           "colorbar": {
            "outlinewidth": 0,
            "ticks": ""
           }
          },
          "colorscale": {
           "diverging": [
            [
             0,
             "#8e0152"
            ],
            [
             0.1,
             "#c51b7d"
            ],
            [
             0.2,
             "#de77ae"
            ],
            [
             0.3,
             "#f1b6da"
            ],
            [
             0.4,
             "#fde0ef"
            ],
            [
             0.5,
             "#f7f7f7"
            ],
            [
             0.6,
             "#e6f5d0"
            ],
            [
             0.7,
             "#b8e186"
            ],
            [
             0.8,
             "#7fbc41"
            ],
            [
             0.9,
             "#4d9221"
            ],
            [
             1,
             "#276419"
            ]
           ],
           "sequential": [
            [
             0,
             "#0d0887"
            ],
            [
             0.1111111111111111,
             "#46039f"
            ],
            [
             0.2222222222222222,
             "#7201a8"
            ],
            [
             0.3333333333333333,
             "#9c179e"
            ],
            [
             0.4444444444444444,
             "#bd3786"
            ],
            [
             0.5555555555555556,
             "#d8576b"
            ],
            [
             0.6666666666666666,
             "#ed7953"
            ],
            [
             0.7777777777777778,
             "#fb9f3a"
            ],
            [
             0.8888888888888888,
             "#fdca26"
            ],
            [
             1,
             "#f0f921"
            ]
           ],
           "sequentialminus": [
            [
             0,
             "#0d0887"
            ],
            [
             0.1111111111111111,
             "#46039f"
            ],
            [
             0.2222222222222222,
             "#7201a8"
            ],
            [
             0.3333333333333333,
             "#9c179e"
            ],
            [
             0.4444444444444444,
             "#bd3786"
            ],
            [
             0.5555555555555556,
             "#d8576b"
            ],
            [
             0.6666666666666666,
             "#ed7953"
            ],
            [
             0.7777777777777778,
             "#fb9f3a"
            ],
            [
             0.8888888888888888,
             "#fdca26"
            ],
            [
             1,
             "#f0f921"
            ]
           ]
          },
          "colorway": [
           "#636efa",
           "#EF553B",
           "#00cc96",
           "#ab63fa",
           "#FFA15A",
           "#19d3f3",
           "#FF6692",
           "#B6E880",
           "#FF97FF",
           "#FECB52"
          ],
          "font": {
           "color": "#f2f5fa"
          },
          "geo": {
           "bgcolor": "rgb(17,17,17)",
           "lakecolor": "rgb(17,17,17)",
           "landcolor": "rgb(17,17,17)",
           "showlakes": true,
           "showland": true,
           "subunitcolor": "#506784"
          },
          "hoverlabel": {
           "align": "left"
          },
          "hovermode": "closest",
          "mapbox": {
           "style": "dark"
          },
          "paper_bgcolor": "rgb(17,17,17)",
          "plot_bgcolor": "rgb(17,17,17)",
          "polar": {
           "angularaxis": {
            "gridcolor": "#506784",
            "linecolor": "#506784",
            "ticks": ""
           },
           "bgcolor": "rgb(17,17,17)",
           "radialaxis": {
            "gridcolor": "#506784",
            "linecolor": "#506784",
            "ticks": ""
           }
          },
          "scene": {
           "xaxis": {
            "backgroundcolor": "rgb(17,17,17)",
            "gridcolor": "#506784",
            "gridwidth": 2,
            "linecolor": "#506784",
            "showbackground": true,
            "ticks": "",
            "zerolinecolor": "#C8D4E3"
           },
           "yaxis": {
            "backgroundcolor": "rgb(17,17,17)",
            "gridcolor": "#506784",
            "gridwidth": 2,
            "linecolor": "#506784",
            "showbackground": true,
            "ticks": "",
            "zerolinecolor": "#C8D4E3"
           },
           "zaxis": {
            "backgroundcolor": "rgb(17,17,17)",
            "gridcolor": "#506784",
            "gridwidth": 2,
            "linecolor": "#506784",
            "showbackground": true,
            "ticks": "",
            "zerolinecolor": "#C8D4E3"
           }
          },
          "shapedefaults": {
           "line": {
            "color": "#f2f5fa"
           }
          },
          "sliderdefaults": {
           "bgcolor": "#C8D4E3",
           "bordercolor": "rgb(17,17,17)",
           "borderwidth": 1,
           "tickwidth": 0
          },
          "ternary": {
           "aaxis": {
            "gridcolor": "#506784",
            "linecolor": "#506784",
            "ticks": ""
           },
           "baxis": {
            "gridcolor": "#506784",
            "linecolor": "#506784",
            "ticks": ""
           },
           "bgcolor": "rgb(17,17,17)",
           "caxis": {
            "gridcolor": "#506784",
            "linecolor": "#506784",
            "ticks": ""
           }
          },
          "title": {
           "x": 0.05
          },
          "updatemenudefaults": {
           "bgcolor": "#506784",
           "borderwidth": 0
          },
          "xaxis": {
           "automargin": true,
           "gridcolor": "#283442",
           "linecolor": "#506784",
           "ticks": "",
           "title": {
            "standoff": 15
           },
           "zerolinecolor": "#283442",
           "zerolinewidth": 2
          },
          "yaxis": {
           "automargin": true,
           "gridcolor": "#283442",
           "linecolor": "#506784",
           "ticks": "",
           "title": {
            "standoff": 15
           },
           "zerolinecolor": "#283442",
           "zerolinewidth": 2
          }
         }
        },
        "width": 1000,
        "xaxis": {
         "anchor": "y",
         "domain": [
          0,
          1
         ],
         "title": {
          "text": "Total Employee(Existing Employee(%))"
         }
        },
        "yaxis": {
         "anchor": "x",
         "autorange": "reversed",
         "domain": [
          0,
          1
         ],
         "title": {
          "text": "Divisi"
         }
        }
       }
      }
     },
     "metadata": {},
     "output_type": "display_data"
    }
   ],
   "source": [
    "fig = px.bar(merge_resign_exist, y='Pekerjaan', x=['Existing','Resigned'],\n",
    "             orientation='h',barmode='stack',\n",
    "             labels={'Pekerjaan':'Divisi', 'Existing':'Existing Employee', 'Resigned':'Resigned Employee','value':'Total Employee(Existing Employee(%))'},\n",
    "             height=800,width=1000,template=\"plotly_dark\")\n",
    "\n",
    "# Add the annotations for persentase\n",
    "for i in range(len(merge_resign_exist)):\n",
    "    fig.add_annotation(y=merge_resign_exist.iloc[i]['Pekerjaan'], x=merge_resign_exist.iloc[i]['Existing'],\n",
    "                      text='{:.1f}%'.format(merge_resign_exist.iloc[i]['Persentase Resign Employee']),\n",
    "                      font=dict(size=10),\n",
    "                      showarrow=False,\n",
    "                      align='center', xanchor='left', yanchor='middle')\n",
    "fig.update_layout(yaxis=dict(autorange='reversed'))\n",
    "fig.show()"
   ]
  },
  {
   "attachments": {},
   "cell_type": "markdown",
   "metadata": {},
   "source": [
    "### Alasan Resign pada divisi Data Analyst (Divisi dengan persentase Resign paling tinggi(46.7%))"
   ]
  },
  {
   "cell_type": "code",
   "execution_count": 51,
   "metadata": {},
   "outputs": [],
   "source": [
    "divisi_persen_resign_tertinggi = data_an2[(data_an2['Pekerjaan']== 'Data Analyst')&(data_an2['resign']==1)]"
   ]
  },
  {
   "attachments": {},
   "cell_type": "markdown",
   "metadata": {},
   "source": [
    "#### Berdasarkan Tahun Resign"
   ]
  },
  {
   "cell_type": "code",
   "execution_count": 52,
   "metadata": {},
   "outputs": [
    {
     "data": {
      "text/html": [
       "<div>\n",
       "<style scoped>\n",
       "    .dataframe tbody tr th:only-of-type {\n",
       "        vertical-align: middle;\n",
       "    }\n",
       "\n",
       "    .dataframe tbody tr th {\n",
       "        vertical-align: top;\n",
       "    }\n",
       "\n",
       "    .dataframe thead th {\n",
       "        text-align: right;\n",
       "    }\n",
       "</style>\n",
       "<table border=\"1\" class=\"dataframe\">\n",
       "  <thead>\n",
       "    <tr style=\"text-align: right;\">\n",
       "      <th></th>\n",
       "      <th>tahun_resign</th>\n",
       "      <th>resign</th>\n",
       "    </tr>\n",
       "  </thead>\n",
       "  <tbody>\n",
       "    <tr>\n",
       "      <th>2</th>\n",
       "      <td>2017</td>\n",
       "      <td>3</td>\n",
       "    </tr>\n",
       "    <tr>\n",
       "      <th>3</th>\n",
       "      <td>2018</td>\n",
       "      <td>2</td>\n",
       "    </tr>\n",
       "    <tr>\n",
       "      <th>0</th>\n",
       "      <td>2014</td>\n",
       "      <td>1</td>\n",
       "    </tr>\n",
       "    <tr>\n",
       "      <th>1</th>\n",
       "      <td>2015</td>\n",
       "      <td>1</td>\n",
       "    </tr>\n",
       "  </tbody>\n",
       "</table>\n",
       "</div>"
      ],
      "text/plain": [
       "   tahun_resign  resign\n",
       "2          2017       3\n",
       "3          2018       2\n",
       "0          2014       1\n",
       "1          2015       1"
      ]
     },
     "execution_count": 52,
     "metadata": {},
     "output_type": "execute_result"
    }
   ],
   "source": [
    "agg_tahun1 = divisi_persen_resign_tertinggi.groupby(['tahun_resign']).agg({'resign':'sum'}).reset_index()\n",
    "agg_tahun1.sort_values(by='resign', ascending=False)"
   ]
  },
  {
   "attachments": {},
   "cell_type": "markdown",
   "metadata": {},
   "source": [
    "#### Berdasarkan Jenjang Karir"
   ]
  },
  {
   "cell_type": "code",
   "execution_count": 53,
   "metadata": {},
   "outputs": [
    {
     "data": {
      "text/html": [
       "<div>\n",
       "<style scoped>\n",
       "    .dataframe tbody tr th:only-of-type {\n",
       "        vertical-align: middle;\n",
       "    }\n",
       "\n",
       "    .dataframe tbody tr th {\n",
       "        vertical-align: top;\n",
       "    }\n",
       "\n",
       "    .dataframe thead th {\n",
       "        text-align: right;\n",
       "    }\n",
       "</style>\n",
       "<table border=\"1\" class=\"dataframe\">\n",
       "  <thead>\n",
       "    <tr style=\"text-align: right;\">\n",
       "      <th></th>\n",
       "      <th>JenjangKarir</th>\n",
       "      <th>resign</th>\n",
       "    </tr>\n",
       "  </thead>\n",
       "  <tbody>\n",
       "    <tr>\n",
       "      <th>0</th>\n",
       "      <td>Freshgraduate_program</td>\n",
       "      <td>7</td>\n",
       "    </tr>\n",
       "  </tbody>\n",
       "</table>\n",
       "</div>"
      ],
      "text/plain": [
       "            JenjangKarir  resign\n",
       "0  Freshgraduate_program       7"
      ]
     },
     "execution_count": 53,
     "metadata": {},
     "output_type": "execute_result"
    }
   ],
   "source": [
    "agg_jenjangkarir1 = divisi_persen_resign_tertinggi.groupby(['JenjangKarir']).agg({'resign':'sum'}).reset_index()\n",
    "agg_jenjangkarir1"
   ]
  },
  {
   "cell_type": "markdown",
   "metadata": {},
   "source": [
    "#### Berdasarkan Alasan Resign"
   ]
  },
  {
   "cell_type": "code",
   "execution_count": 54,
   "metadata": {},
   "outputs": [
    {
     "data": {
      "text/html": [
       "<div>\n",
       "<style scoped>\n",
       "    .dataframe tbody tr th:only-of-type {\n",
       "        vertical-align: middle;\n",
       "    }\n",
       "\n",
       "    .dataframe tbody tr th {\n",
       "        vertical-align: top;\n",
       "    }\n",
       "\n",
       "    .dataframe thead th {\n",
       "        text-align: right;\n",
       "    }\n",
       "</style>\n",
       "<table border=\"1\" class=\"dataframe\">\n",
       "  <thead>\n",
       "    <tr style=\"text-align: right;\">\n",
       "      <th></th>\n",
       "      <th>AlasanResign</th>\n",
       "      <th>resign</th>\n",
       "    </tr>\n",
       "  </thead>\n",
       "  <tbody>\n",
       "    <tr>\n",
       "      <th>1</th>\n",
       "      <td>toxic_culture</td>\n",
       "      <td>5</td>\n",
       "    </tr>\n",
       "    <tr>\n",
       "      <th>0</th>\n",
       "      <td>internal_conflict</td>\n",
       "      <td>2</td>\n",
       "    </tr>\n",
       "  </tbody>\n",
       "</table>\n",
       "</div>"
      ],
      "text/plain": [
       "        AlasanResign  resign\n",
       "1      toxic_culture       5\n",
       "0  internal_conflict       2"
      ]
     },
     "execution_count": 54,
     "metadata": {},
     "output_type": "execute_result"
    }
   ],
   "source": [
    "agg_alasan1 = divisi_persen_resign_tertinggi.groupby(['AlasanResign']).agg({'resign':'sum'}).reset_index()\n",
    "agg_alasan1.sort_values(by='resign', ascending=False)"
   ]
  },
  {
   "attachments": {},
   "cell_type": "markdown",
   "metadata": {},
   "source": [
    "#### Berdasarkan Perfomance"
   ]
  },
  {
   "cell_type": "code",
   "execution_count": 55,
   "metadata": {},
   "outputs": [
    {
     "data": {
      "text/html": [
       "<div>\n",
       "<style scoped>\n",
       "    .dataframe tbody tr th:only-of-type {\n",
       "        vertical-align: middle;\n",
       "    }\n",
       "\n",
       "    .dataframe tbody tr th {\n",
       "        vertical-align: top;\n",
       "    }\n",
       "\n",
       "    .dataframe thead th {\n",
       "        text-align: right;\n",
       "    }\n",
       "</style>\n",
       "<table border=\"1\" class=\"dataframe\">\n",
       "  <thead>\n",
       "    <tr style=\"text-align: right;\">\n",
       "      <th></th>\n",
       "      <th>PerformancePegawai</th>\n",
       "      <th>resign</th>\n",
       "    </tr>\n",
       "  </thead>\n",
       "  <tbody>\n",
       "    <tr>\n",
       "      <th>2</th>\n",
       "      <td>Sangat_bagus</td>\n",
       "      <td>4</td>\n",
       "    </tr>\n",
       "    <tr>\n",
       "      <th>0</th>\n",
       "      <td>Bagus</td>\n",
       "      <td>1</td>\n",
       "    </tr>\n",
       "    <tr>\n",
       "      <th>1</th>\n",
       "      <td>Biasa</td>\n",
       "      <td>1</td>\n",
       "    </tr>\n",
       "    <tr>\n",
       "      <th>3</th>\n",
       "      <td>Sangat_kurang</td>\n",
       "      <td>1</td>\n",
       "    </tr>\n",
       "  </tbody>\n",
       "</table>\n",
       "</div>"
      ],
      "text/plain": [
       "  PerformancePegawai  resign\n",
       "2       Sangat_bagus       4\n",
       "0              Bagus       1\n",
       "1              Biasa       1\n",
       "3      Sangat_kurang       1"
      ]
     },
     "execution_count": 55,
     "metadata": {},
     "output_type": "execute_result"
    }
   ],
   "source": [
    "agg_performance1 = divisi_persen_resign_tertinggi.groupby(['PerformancePegawai']).agg({'resign':'sum'}).reset_index()\n",
    "agg_performance1.sort_values(by='resign', ascending=False)"
   ]
  },
  {
   "cell_type": "code",
   "execution_count": 56,
   "metadata": {},
   "outputs": [
    {
     "data": {
      "text/html": [
       "<div>\n",
       "<style scoped>\n",
       "    .dataframe tbody tr th:only-of-type {\n",
       "        vertical-align: middle;\n",
       "    }\n",
       "\n",
       "    .dataframe tbody tr th {\n",
       "        vertical-align: top;\n",
       "    }\n",
       "\n",
       "    .dataframe thead th {\n",
       "        text-align: right;\n",
       "    }\n",
       "</style>\n",
       "<table border=\"1\" class=\"dataframe\">\n",
       "  <thead>\n",
       "    <tr style=\"text-align: right;\">\n",
       "      <th></th>\n",
       "      <th>JenjangKarir</th>\n",
       "      <th>PerformancePegawai</th>\n",
       "      <th>AlasanResign</th>\n",
       "      <th>tahun_resign</th>\n",
       "      <th>resign</th>\n",
       "    </tr>\n",
       "  </thead>\n",
       "  <tbody>\n",
       "    <tr>\n",
       "      <th>0</th>\n",
       "      <td>Freshgraduate_program</td>\n",
       "      <td>Bagus</td>\n",
       "      <td>toxic_culture</td>\n",
       "      <td>2014</td>\n",
       "      <td>1</td>\n",
       "    </tr>\n",
       "    <tr>\n",
       "      <th>1</th>\n",
       "      <td>Freshgraduate_program</td>\n",
       "      <td>Biasa</td>\n",
       "      <td>internal_conflict</td>\n",
       "      <td>2017</td>\n",
       "      <td>1</td>\n",
       "    </tr>\n",
       "    <tr>\n",
       "      <th>2</th>\n",
       "      <td>Freshgraduate_program</td>\n",
       "      <td>Sangat_bagus</td>\n",
       "      <td>internal_conflict</td>\n",
       "      <td>2017</td>\n",
       "      <td>1</td>\n",
       "    </tr>\n",
       "    <tr>\n",
       "      <th>3</th>\n",
       "      <td>Freshgraduate_program</td>\n",
       "      <td>Sangat_bagus</td>\n",
       "      <td>toxic_culture</td>\n",
       "      <td>2015</td>\n",
       "      <td>1</td>\n",
       "    </tr>\n",
       "    <tr>\n",
       "      <th>4</th>\n",
       "      <td>Freshgraduate_program</td>\n",
       "      <td>Sangat_bagus</td>\n",
       "      <td>toxic_culture</td>\n",
       "      <td>2017</td>\n",
       "      <td>1</td>\n",
       "    </tr>\n",
       "    <tr>\n",
       "      <th>5</th>\n",
       "      <td>Freshgraduate_program</td>\n",
       "      <td>Sangat_bagus</td>\n",
       "      <td>toxic_culture</td>\n",
       "      <td>2018</td>\n",
       "      <td>1</td>\n",
       "    </tr>\n",
       "    <tr>\n",
       "      <th>6</th>\n",
       "      <td>Freshgraduate_program</td>\n",
       "      <td>Sangat_kurang</td>\n",
       "      <td>toxic_culture</td>\n",
       "      <td>2018</td>\n",
       "      <td>1</td>\n",
       "    </tr>\n",
       "  </tbody>\n",
       "</table>\n",
       "</div>"
      ],
      "text/plain": [
       "            JenjangKarir PerformancePegawai       AlasanResign  tahun_resign  \\\n",
       "0  Freshgraduate_program              Bagus      toxic_culture          2014   \n",
       "1  Freshgraduate_program              Biasa  internal_conflict          2017   \n",
       "2  Freshgraduate_program       Sangat_bagus  internal_conflict          2017   \n",
       "3  Freshgraduate_program       Sangat_bagus      toxic_culture          2015   \n",
       "4  Freshgraduate_program       Sangat_bagus      toxic_culture          2017   \n",
       "5  Freshgraduate_program       Sangat_bagus      toxic_culture          2018   \n",
       "6  Freshgraduate_program      Sangat_kurang      toxic_culture          2018   \n",
       "\n",
       "   resign  \n",
       "0       1  \n",
       "1       1  \n",
       "2       1  \n",
       "3       1  \n",
       "4       1  \n",
       "5       1  \n",
       "6       1  "
      ]
     },
     "execution_count": 56,
     "metadata": {},
     "output_type": "execute_result"
    }
   ],
   "source": [
    "agg_all1 = divisi_persen_resign_tertinggi.groupby(['JenjangKarir', 'PerformancePegawai', 'AlasanResign','tahun_resign']).agg({'resign':'sum'}).reset_index()\n",
    "agg_all1"
   ]
  },
  {
   "cell_type": "code",
   "execution_count": 57,
   "metadata": {},
   "outputs": [
    {
     "data": {
      "application/vnd.plotly.v1+json": {
       "config": {
        "plotlyServerURL": "https://plot.ly"
       },
       "data": [
        {
         "branchvalues": "total",
         "customdata": [
          [
           1
          ],
          [
           1
          ],
          [
           1
          ],
          [
           1
          ],
          [
           1
          ],
          [
           1
          ],
          [
           1
          ],
          [
           2
          ],
          [
           1
          ],
          [
           1
          ],
          [
           1
          ],
          [
           2
          ],
          [
           1
          ],
          [
           1
          ],
          [
           3
          ],
          [
           2
          ]
         ],
         "domain": {
          "x": [
           0,
           1
          ],
          "y": [
           0,
           1
          ]
         },
         "hovertemplate": "labels=%{label}<br>resign=%{customdata[0]}<br>parent=%{parent}<br>id=%{id}<extra></extra>",
         "ids": [
          "2014/toxic_culture/Bagus",
          "2017/internal_conflict/Biasa",
          "2017/internal_conflict/Sangat_bagus",
          "2015/toxic_culture/Sangat_bagus",
          "2017/toxic_culture/Sangat_bagus",
          "2018/toxic_culture/Sangat_bagus",
          "2018/toxic_culture/Sangat_kurang",
          "2017/internal_conflict",
          "2014/toxic_culture",
          "2015/toxic_culture",
          "2017/toxic_culture",
          "2018/toxic_culture",
          "2014",
          "2015",
          "2017",
          "2018"
         ],
         "labels": [
          "Bagus",
          "Biasa",
          "Sangat_bagus",
          "Sangat_bagus",
          "Sangat_bagus",
          "Sangat_bagus",
          "Sangat_kurang",
          "internal_conflict",
          "toxic_culture",
          "toxic_culture",
          "toxic_culture",
          "toxic_culture",
          "2014",
          "2015",
          "2017",
          "2018"
         ],
         "name": "",
         "parents": [
          "2014/toxic_culture",
          "2017/internal_conflict",
          "2017/internal_conflict",
          "2015/toxic_culture",
          "2017/toxic_culture",
          "2018/toxic_culture",
          "2018/toxic_culture",
          "2017",
          "2014",
          "2015",
          "2017",
          "2018",
          "",
          "",
          "",
          ""
         ],
         "type": "sunburst",
         "values": [
          1,
          1,
          1,
          1,
          1,
          1,
          1,
          2,
          1,
          1,
          1,
          2,
          1,
          1,
          3,
          2
         ]
        }
       ],
       "layout": {
        "height": 750,
        "legend": {
         "tracegroupgap": 0
        },
        "template": {
         "data": {
          "bar": [
           {
            "error_x": {
             "color": "#f2f5fa"
            },
            "error_y": {
             "color": "#f2f5fa"
            },
            "marker": {
             "line": {
              "color": "rgb(17,17,17)",
              "width": 0.5
             },
             "pattern": {
              "fillmode": "overlay",
              "size": 10,
              "solidity": 0.2
             }
            },
            "type": "bar"
           }
          ],
          "barpolar": [
           {
            "marker": {
             "line": {
              "color": "rgb(17,17,17)",
              "width": 0.5
             },
             "pattern": {
              "fillmode": "overlay",
              "size": 10,
              "solidity": 0.2
             }
            },
            "type": "barpolar"
           }
          ],
          "carpet": [
           {
            "aaxis": {
             "endlinecolor": "#A2B1C6",
             "gridcolor": "#506784",
             "linecolor": "#506784",
             "minorgridcolor": "#506784",
             "startlinecolor": "#A2B1C6"
            },
            "baxis": {
             "endlinecolor": "#A2B1C6",
             "gridcolor": "#506784",
             "linecolor": "#506784",
             "minorgridcolor": "#506784",
             "startlinecolor": "#A2B1C6"
            },
            "type": "carpet"
           }
          ],
          "choropleth": [
           {
            "colorbar": {
             "outlinewidth": 0,
             "ticks": ""
            },
            "type": "choropleth"
           }
          ],
          "contour": [
           {
            "colorbar": {
             "outlinewidth": 0,
             "ticks": ""
            },
            "colorscale": [
             [
              0,
              "#0d0887"
             ],
             [
              0.1111111111111111,
              "#46039f"
             ],
             [
              0.2222222222222222,
              "#7201a8"
             ],
             [
              0.3333333333333333,
              "#9c179e"
             ],
             [
              0.4444444444444444,
              "#bd3786"
             ],
             [
              0.5555555555555556,
              "#d8576b"
             ],
             [
              0.6666666666666666,
              "#ed7953"
             ],
             [
              0.7777777777777778,
              "#fb9f3a"
             ],
             [
              0.8888888888888888,
              "#fdca26"
             ],
             [
              1,
              "#f0f921"
             ]
            ],
            "type": "contour"
           }
          ],
          "contourcarpet": [
           {
            "colorbar": {
             "outlinewidth": 0,
             "ticks": ""
            },
            "type": "contourcarpet"
           }
          ],
          "heatmap": [
           {
            "colorbar": {
             "outlinewidth": 0,
             "ticks": ""
            },
            "colorscale": [
             [
              0,
              "#0d0887"
             ],
             [
              0.1111111111111111,
              "#46039f"
             ],
             [
              0.2222222222222222,
              "#7201a8"
             ],
             [
              0.3333333333333333,
              "#9c179e"
             ],
             [
              0.4444444444444444,
              "#bd3786"
             ],
             [
              0.5555555555555556,
              "#d8576b"
             ],
             [
              0.6666666666666666,
              "#ed7953"
             ],
             [
              0.7777777777777778,
              "#fb9f3a"
             ],
             [
              0.8888888888888888,
              "#fdca26"
             ],
             [
              1,
              "#f0f921"
             ]
            ],
            "type": "heatmap"
           }
          ],
          "heatmapgl": [
           {
            "colorbar": {
             "outlinewidth": 0,
             "ticks": ""
            },
            "colorscale": [
             [
              0,
              "#0d0887"
             ],
             [
              0.1111111111111111,
              "#46039f"
             ],
             [
              0.2222222222222222,
              "#7201a8"
             ],
             [
              0.3333333333333333,
              "#9c179e"
             ],
             [
              0.4444444444444444,
              "#bd3786"
             ],
             [
              0.5555555555555556,
              "#d8576b"
             ],
             [
              0.6666666666666666,
              "#ed7953"
             ],
             [
              0.7777777777777778,
              "#fb9f3a"
             ],
             [
              0.8888888888888888,
              "#fdca26"
             ],
             [
              1,
              "#f0f921"
             ]
            ],
            "type": "heatmapgl"
           }
          ],
          "histogram": [
           {
            "marker": {
             "pattern": {
              "fillmode": "overlay",
              "size": 10,
              "solidity": 0.2
             }
            },
            "type": "histogram"
           }
          ],
          "histogram2d": [
           {
            "colorbar": {
             "outlinewidth": 0,
             "ticks": ""
            },
            "colorscale": [
             [
              0,
              "#0d0887"
             ],
             [
              0.1111111111111111,
              "#46039f"
             ],
             [
              0.2222222222222222,
              "#7201a8"
             ],
             [
              0.3333333333333333,
              "#9c179e"
             ],
             [
              0.4444444444444444,
              "#bd3786"
             ],
             [
              0.5555555555555556,
              "#d8576b"
             ],
             [
              0.6666666666666666,
              "#ed7953"
             ],
             [
              0.7777777777777778,
              "#fb9f3a"
             ],
             [
              0.8888888888888888,
              "#fdca26"
             ],
             [
              1,
              "#f0f921"
             ]
            ],
            "type": "histogram2d"
           }
          ],
          "histogram2dcontour": [
           {
            "colorbar": {
             "outlinewidth": 0,
             "ticks": ""
            },
            "colorscale": [
             [
              0,
              "#0d0887"
             ],
             [
              0.1111111111111111,
              "#46039f"
             ],
             [
              0.2222222222222222,
              "#7201a8"
             ],
             [
              0.3333333333333333,
              "#9c179e"
             ],
             [
              0.4444444444444444,
              "#bd3786"
             ],
             [
              0.5555555555555556,
              "#d8576b"
             ],
             [
              0.6666666666666666,
              "#ed7953"
             ],
             [
              0.7777777777777778,
              "#fb9f3a"
             ],
             [
              0.8888888888888888,
              "#fdca26"
             ],
             [
              1,
              "#f0f921"
             ]
            ],
            "type": "histogram2dcontour"
           }
          ],
          "mesh3d": [
           {
            "colorbar": {
             "outlinewidth": 0,
             "ticks": ""
            },
            "type": "mesh3d"
           }
          ],
          "parcoords": [
           {
            "line": {
             "colorbar": {
              "outlinewidth": 0,
              "ticks": ""
             }
            },
            "type": "parcoords"
           }
          ],
          "pie": [
           {
            "automargin": true,
            "type": "pie"
           }
          ],
          "scatter": [
           {
            "marker": {
             "line": {
              "color": "#283442"
             }
            },
            "type": "scatter"
           }
          ],
          "scatter3d": [
           {
            "line": {
             "colorbar": {
              "outlinewidth": 0,
              "ticks": ""
             }
            },
            "marker": {
             "colorbar": {
              "outlinewidth": 0,
              "ticks": ""
             }
            },
            "type": "scatter3d"
           }
          ],
          "scattercarpet": [
           {
            "marker": {
             "colorbar": {
              "outlinewidth": 0,
              "ticks": ""
             }
            },
            "type": "scattercarpet"
           }
          ],
          "scattergeo": [
           {
            "marker": {
             "colorbar": {
              "outlinewidth": 0,
              "ticks": ""
             }
            },
            "type": "scattergeo"
           }
          ],
          "scattergl": [
           {
            "marker": {
             "line": {
              "color": "#283442"
             }
            },
            "type": "scattergl"
           }
          ],
          "scattermapbox": [
           {
            "marker": {
             "colorbar": {
              "outlinewidth": 0,
              "ticks": ""
             }
            },
            "type": "scattermapbox"
           }
          ],
          "scatterpolar": [
           {
            "marker": {
             "colorbar": {
              "outlinewidth": 0,
              "ticks": ""
             }
            },
            "type": "scatterpolar"
           }
          ],
          "scatterpolargl": [
           {
            "marker": {
             "colorbar": {
              "outlinewidth": 0,
              "ticks": ""
             }
            },
            "type": "scatterpolargl"
           }
          ],
          "scatterternary": [
           {
            "marker": {
             "colorbar": {
              "outlinewidth": 0,
              "ticks": ""
             }
            },
            "type": "scatterternary"
           }
          ],
          "surface": [
           {
            "colorbar": {
             "outlinewidth": 0,
             "ticks": ""
            },
            "colorscale": [
             [
              0,
              "#0d0887"
             ],
             [
              0.1111111111111111,
              "#46039f"
             ],
             [
              0.2222222222222222,
              "#7201a8"
             ],
             [
              0.3333333333333333,
              "#9c179e"
             ],
             [
              0.4444444444444444,
              "#bd3786"
             ],
             [
              0.5555555555555556,
              "#d8576b"
             ],
             [
              0.6666666666666666,
              "#ed7953"
             ],
             [
              0.7777777777777778,
              "#fb9f3a"
             ],
             [
              0.8888888888888888,
              "#fdca26"
             ],
             [
              1,
              "#f0f921"
             ]
            ],
            "type": "surface"
           }
          ],
          "table": [
           {
            "cells": {
             "fill": {
              "color": "#506784"
             },
             "line": {
              "color": "rgb(17,17,17)"
             }
            },
            "header": {
             "fill": {
              "color": "#2a3f5f"
             },
             "line": {
              "color": "rgb(17,17,17)"
             }
            },
            "type": "table"
           }
          ]
         },
         "layout": {
          "annotationdefaults": {
           "arrowcolor": "#f2f5fa",
           "arrowhead": 0,
           "arrowwidth": 1
          },
          "autotypenumbers": "strict",
          "coloraxis": {
           "colorbar": {
            "outlinewidth": 0,
            "ticks": ""
           }
          },
          "colorscale": {
           "diverging": [
            [
             0,
             "#8e0152"
            ],
            [
             0.1,
             "#c51b7d"
            ],
            [
             0.2,
             "#de77ae"
            ],
            [
             0.3,
             "#f1b6da"
            ],
            [
             0.4,
             "#fde0ef"
            ],
            [
             0.5,
             "#f7f7f7"
            ],
            [
             0.6,
             "#e6f5d0"
            ],
            [
             0.7,
             "#b8e186"
            ],
            [
             0.8,
             "#7fbc41"
            ],
            [
             0.9,
             "#4d9221"
            ],
            [
             1,
             "#276419"
            ]
           ],
           "sequential": [
            [
             0,
             "#0d0887"
            ],
            [
             0.1111111111111111,
             "#46039f"
            ],
            [
             0.2222222222222222,
             "#7201a8"
            ],
            [
             0.3333333333333333,
             "#9c179e"
            ],
            [
             0.4444444444444444,
             "#bd3786"
            ],
            [
             0.5555555555555556,
             "#d8576b"
            ],
            [
             0.6666666666666666,
             "#ed7953"
            ],
            [
             0.7777777777777778,
             "#fb9f3a"
            ],
            [
             0.8888888888888888,
             "#fdca26"
            ],
            [
             1,
             "#f0f921"
            ]
           ],
           "sequentialminus": [
            [
             0,
             "#0d0887"
            ],
            [
             0.1111111111111111,
             "#46039f"
            ],
            [
             0.2222222222222222,
             "#7201a8"
            ],
            [
             0.3333333333333333,
             "#9c179e"
            ],
            [
             0.4444444444444444,
             "#bd3786"
            ],
            [
             0.5555555555555556,
             "#d8576b"
            ],
            [
             0.6666666666666666,
             "#ed7953"
            ],
            [
             0.7777777777777778,
             "#fb9f3a"
            ],
            [
             0.8888888888888888,
             "#fdca26"
            ],
            [
             1,
             "#f0f921"
            ]
           ]
          },
          "colorway": [
           "#636efa",
           "#EF553B",
           "#00cc96",
           "#ab63fa",
           "#FFA15A",
           "#19d3f3",
           "#FF6692",
           "#B6E880",
           "#FF97FF",
           "#FECB52"
          ],
          "font": {
           "color": "#f2f5fa"
          },
          "geo": {
           "bgcolor": "rgb(17,17,17)",
           "lakecolor": "rgb(17,17,17)",
           "landcolor": "rgb(17,17,17)",
           "showlakes": true,
           "showland": true,
           "subunitcolor": "#506784"
          },
          "hoverlabel": {
           "align": "left"
          },
          "hovermode": "closest",
          "mapbox": {
           "style": "dark"
          },
          "paper_bgcolor": "rgb(17,17,17)",
          "plot_bgcolor": "rgb(17,17,17)",
          "polar": {
           "angularaxis": {
            "gridcolor": "#506784",
            "linecolor": "#506784",
            "ticks": ""
           },
           "bgcolor": "rgb(17,17,17)",
           "radialaxis": {
            "gridcolor": "#506784",
            "linecolor": "#506784",
            "ticks": ""
           }
          },
          "scene": {
           "xaxis": {
            "backgroundcolor": "rgb(17,17,17)",
            "gridcolor": "#506784",
            "gridwidth": 2,
            "linecolor": "#506784",
            "showbackground": true,
            "ticks": "",
            "zerolinecolor": "#C8D4E3"
           },
           "yaxis": {
            "backgroundcolor": "rgb(17,17,17)",
            "gridcolor": "#506784",
            "gridwidth": 2,
            "linecolor": "#506784",
            "showbackground": true,
            "ticks": "",
            "zerolinecolor": "#C8D4E3"
           },
           "zaxis": {
            "backgroundcolor": "rgb(17,17,17)",
            "gridcolor": "#506784",
            "gridwidth": 2,
            "linecolor": "#506784",
            "showbackground": true,
            "ticks": "",
            "zerolinecolor": "#C8D4E3"
           }
          },
          "shapedefaults": {
           "line": {
            "color": "#f2f5fa"
           }
          },
          "sliderdefaults": {
           "bgcolor": "#C8D4E3",
           "bordercolor": "rgb(17,17,17)",
           "borderwidth": 1,
           "tickwidth": 0
          },
          "ternary": {
           "aaxis": {
            "gridcolor": "#506784",
            "linecolor": "#506784",
            "ticks": ""
           },
           "baxis": {
            "gridcolor": "#506784",
            "linecolor": "#506784",
            "ticks": ""
           },
           "bgcolor": "rgb(17,17,17)",
           "caxis": {
            "gridcolor": "#506784",
            "linecolor": "#506784",
            "ticks": ""
           }
          },
          "title": {
           "x": 0.05
          },
          "updatemenudefaults": {
           "bgcolor": "#506784",
           "borderwidth": 0
          },
          "xaxis": {
           "automargin": true,
           "gridcolor": "#283442",
           "linecolor": "#506784",
           "ticks": "",
           "title": {
            "standoff": 15
           },
           "zerolinecolor": "#283442",
           "zerolinewidth": 2
          },
          "yaxis": {
           "automargin": true,
           "gridcolor": "#283442",
           "linecolor": "#506784",
           "ticks": "",
           "title": {
            "standoff": 15
           },
           "zerolinecolor": "#283442",
           "zerolinewidth": 2
          }
         }
        },
        "title": {
         "text": "Alasan Resign Pada Divisi Data Analyst"
        },
        "width": 750
       }
      }
     },
     "metadata": {},
     "output_type": "display_data"
    }
   ],
   "source": [
    "fig = px.sunburst(agg_all1.reset_index(), path=['tahun_resign','AlasanResign','PerformancePegawai'], values='resign',\n",
    "                  hover_data=['resign'], template='plotly_dark', width=750, height=750,color_continuous_scale='PuRd',\n",
    "                  title='Alasan Resign Pada Divisi Data Analyst')\n",
    "fig.show()"
   ]
  },
  {
   "attachments": {},
   "cell_type": "markdown",
   "metadata": {},
   "source": [
    "Dari Sunburst diatas bisa dilihat:\n",
    "1. Semua Data Analyst yang resign berasal dari FG program\n",
    "2. Dari Tahun 2014 - 2015 mayoritas employee yang resign memiliki alasan toxic culture, ataupun internal confilct dimana pada umumnya terjadi karena toxic culture\n",
    "3. Hampir semua employee yang resign memiliki performa bagus hingga sangat bagus"
   ]
  },
  {
   "attachments": {},
   "cell_type": "markdown",
   "metadata": {},
   "source": [
    "### Alasan Resign pada divisi Software Engineer Back End (Divisi dengan Resign paling tinggi)"
   ]
  },
  {
   "cell_type": "code",
   "execution_count": 58,
   "metadata": {},
   "outputs": [],
   "source": [
    "divisi_resign_tertinggi = data_an2[(data_an2['Pekerjaan']== 'Software Engineer (Back End)')&(data_an2['resign']==1)]"
   ]
  },
  {
   "attachments": {},
   "cell_type": "markdown",
   "metadata": {},
   "source": [
    "#### Berdasarkan Tahun Resign"
   ]
  },
  {
   "cell_type": "code",
   "execution_count": 59,
   "metadata": {},
   "outputs": [
    {
     "data": {
      "text/html": [
       "<div>\n",
       "<style scoped>\n",
       "    .dataframe tbody tr th:only-of-type {\n",
       "        vertical-align: middle;\n",
       "    }\n",
       "\n",
       "    .dataframe tbody tr th {\n",
       "        vertical-align: top;\n",
       "    }\n",
       "\n",
       "    .dataframe thead th {\n",
       "        text-align: right;\n",
       "    }\n",
       "</style>\n",
       "<table border=\"1\" class=\"dataframe\">\n",
       "  <thead>\n",
       "    <tr style=\"text-align: right;\">\n",
       "      <th></th>\n",
       "      <th>tahun_resign</th>\n",
       "      <th>resign</th>\n",
       "    </tr>\n",
       "  </thead>\n",
       "  <tbody>\n",
       "    <tr>\n",
       "      <th>5</th>\n",
       "      <td>2018</td>\n",
       "      <td>10</td>\n",
       "    </tr>\n",
       "    <tr>\n",
       "      <th>2</th>\n",
       "      <td>2015</td>\n",
       "      <td>5</td>\n",
       "    </tr>\n",
       "    <tr>\n",
       "      <th>4</th>\n",
       "      <td>2017</td>\n",
       "      <td>5</td>\n",
       "    </tr>\n",
       "    <tr>\n",
       "      <th>1</th>\n",
       "      <td>2014</td>\n",
       "      <td>3</td>\n",
       "    </tr>\n",
       "    <tr>\n",
       "      <th>6</th>\n",
       "      <td>2019</td>\n",
       "      <td>2</td>\n",
       "    </tr>\n",
       "    <tr>\n",
       "      <th>0</th>\n",
       "      <td>2013</td>\n",
       "      <td>1</td>\n",
       "    </tr>\n",
       "    <tr>\n",
       "      <th>3</th>\n",
       "      <td>2016</td>\n",
       "      <td>1</td>\n",
       "    </tr>\n",
       "    <tr>\n",
       "      <th>7</th>\n",
       "      <td>2020</td>\n",
       "      <td>1</td>\n",
       "    </tr>\n",
       "  </tbody>\n",
       "</table>\n",
       "</div>"
      ],
      "text/plain": [
       "   tahun_resign  resign\n",
       "5          2018      10\n",
       "2          2015       5\n",
       "4          2017       5\n",
       "1          2014       3\n",
       "6          2019       2\n",
       "0          2013       1\n",
       "3          2016       1\n",
       "7          2020       1"
      ]
     },
     "execution_count": 59,
     "metadata": {},
     "output_type": "execute_result"
    }
   ],
   "source": [
    "agg_tahun = divisi_resign_tertinggi.groupby(['tahun_resign']).agg({'resign':'sum'}).reset_index()\n",
    "agg_tahun.sort_values(by='resign', ascending=False)"
   ]
  },
  {
   "attachments": {},
   "cell_type": "markdown",
   "metadata": {},
   "source": [
    "#### Berdasarkan Jenjang Karir"
   ]
  },
  {
   "cell_type": "code",
   "execution_count": 60,
   "metadata": {},
   "outputs": [
    {
     "data": {
      "text/html": [
       "<div>\n",
       "<style scoped>\n",
       "    .dataframe tbody tr th:only-of-type {\n",
       "        vertical-align: middle;\n",
       "    }\n",
       "\n",
       "    .dataframe tbody tr th {\n",
       "        vertical-align: top;\n",
       "    }\n",
       "\n",
       "    .dataframe thead th {\n",
       "        text-align: right;\n",
       "    }\n",
       "</style>\n",
       "<table border=\"1\" class=\"dataframe\">\n",
       "  <thead>\n",
       "    <tr style=\"text-align: right;\">\n",
       "      <th></th>\n",
       "      <th>JenjangKarir</th>\n",
       "      <th>resign</th>\n",
       "    </tr>\n",
       "  </thead>\n",
       "  <tbody>\n",
       "    <tr>\n",
       "      <th>0</th>\n",
       "      <td>Freshgraduate_program</td>\n",
       "      <td>15</td>\n",
       "    </tr>\n",
       "    <tr>\n",
       "      <th>1</th>\n",
       "      <td>Mid_level</td>\n",
       "      <td>7</td>\n",
       "    </tr>\n",
       "    <tr>\n",
       "      <th>2</th>\n",
       "      <td>Senior_level</td>\n",
       "      <td>6</td>\n",
       "    </tr>\n",
       "  </tbody>\n",
       "</table>\n",
       "</div>"
      ],
      "text/plain": [
       "            JenjangKarir  resign\n",
       "0  Freshgraduate_program      15\n",
       "1              Mid_level       7\n",
       "2           Senior_level       6"
      ]
     },
     "execution_count": 60,
     "metadata": {},
     "output_type": "execute_result"
    }
   ],
   "source": [
    "agg_jenjangkarir = divisi_resign_tertinggi.groupby(['JenjangKarir']).agg({'resign':'sum'}).reset_index()\n",
    "agg_jenjangkarir"
   ]
  },
  {
   "cell_type": "markdown",
   "metadata": {},
   "source": [
    "#### Berdasarkan Alasan Resign"
   ]
  },
  {
   "cell_type": "code",
   "execution_count": 61,
   "metadata": {},
   "outputs": [
    {
     "data": {
      "text/html": [
       "<div>\n",
       "<style scoped>\n",
       "    .dataframe tbody tr th:only-of-type {\n",
       "        vertical-align: middle;\n",
       "    }\n",
       "\n",
       "    .dataframe tbody tr th {\n",
       "        vertical-align: top;\n",
       "    }\n",
       "\n",
       "    .dataframe thead th {\n",
       "        text-align: right;\n",
       "    }\n",
       "</style>\n",
       "<table border=\"1\" class=\"dataframe\">\n",
       "  <thead>\n",
       "    <tr style=\"text-align: right;\">\n",
       "      <th></th>\n",
       "      <th>AlasanResign</th>\n",
       "      <th>resign</th>\n",
       "    </tr>\n",
       "  </thead>\n",
       "  <tbody>\n",
       "    <tr>\n",
       "      <th>3</th>\n",
       "      <td>jam_kerja</td>\n",
       "      <td>6</td>\n",
       "    </tr>\n",
       "    <tr>\n",
       "      <th>6</th>\n",
       "      <td>tidak_bahagia</td>\n",
       "      <td>5</td>\n",
       "    </tr>\n",
       "    <tr>\n",
       "      <th>1</th>\n",
       "      <td>ganti_karir</td>\n",
       "      <td>4</td>\n",
       "    </tr>\n",
       "    <tr>\n",
       "      <th>4</th>\n",
       "      <td>kejelasan_karir</td>\n",
       "      <td>4</td>\n",
       "    </tr>\n",
       "    <tr>\n",
       "      <th>7</th>\n",
       "      <td>tidak_bisa_remote</td>\n",
       "      <td>3</td>\n",
       "    </tr>\n",
       "    <tr>\n",
       "      <th>2</th>\n",
       "      <td>internal_conflict</td>\n",
       "      <td>2</td>\n",
       "    </tr>\n",
       "    <tr>\n",
       "      <th>5</th>\n",
       "      <td>leadership</td>\n",
       "      <td>2</td>\n",
       "    </tr>\n",
       "    <tr>\n",
       "      <th>0</th>\n",
       "      <td>Lainnya</td>\n",
       "      <td>1</td>\n",
       "    </tr>\n",
       "    <tr>\n",
       "      <th>8</th>\n",
       "      <td>toxic_culture</td>\n",
       "      <td>1</td>\n",
       "    </tr>\n",
       "  </tbody>\n",
       "</table>\n",
       "</div>"
      ],
      "text/plain": [
       "        AlasanResign  resign\n",
       "3          jam_kerja       6\n",
       "6      tidak_bahagia       5\n",
       "1        ganti_karir       4\n",
       "4    kejelasan_karir       4\n",
       "7  tidak_bisa_remote       3\n",
       "2  internal_conflict       2\n",
       "5         leadership       2\n",
       "0            Lainnya       1\n",
       "8      toxic_culture       1"
      ]
     },
     "execution_count": 61,
     "metadata": {},
     "output_type": "execute_result"
    }
   ],
   "source": [
    "agg_alasan = divisi_resign_tertinggi.groupby(['AlasanResign']).agg({'resign':'sum'}).reset_index()\n",
    "agg_alasan.sort_values(by='resign', ascending=False)"
   ]
  },
  {
   "attachments": {},
   "cell_type": "markdown",
   "metadata": {},
   "source": [
    "#### Berdasarkan Perfomance"
   ]
  },
  {
   "cell_type": "code",
   "execution_count": 62,
   "metadata": {},
   "outputs": [
    {
     "data": {
      "text/html": [
       "<div>\n",
       "<style scoped>\n",
       "    .dataframe tbody tr th:only-of-type {\n",
       "        vertical-align: middle;\n",
       "    }\n",
       "\n",
       "    .dataframe tbody tr th {\n",
       "        vertical-align: top;\n",
       "    }\n",
       "\n",
       "    .dataframe thead th {\n",
       "        text-align: right;\n",
       "    }\n",
       "</style>\n",
       "<table border=\"1\" class=\"dataframe\">\n",
       "  <thead>\n",
       "    <tr style=\"text-align: right;\">\n",
       "      <th></th>\n",
       "      <th>PerformancePegawai</th>\n",
       "      <th>resign</th>\n",
       "    </tr>\n",
       "  </thead>\n",
       "  <tbody>\n",
       "    <tr>\n",
       "      <th>3</th>\n",
       "      <td>Sangat_bagus</td>\n",
       "      <td>11</td>\n",
       "    </tr>\n",
       "    <tr>\n",
       "      <th>1</th>\n",
       "      <td>Biasa</td>\n",
       "      <td>9</td>\n",
       "    </tr>\n",
       "    <tr>\n",
       "      <th>0</th>\n",
       "      <td>Bagus</td>\n",
       "      <td>3</td>\n",
       "    </tr>\n",
       "    <tr>\n",
       "      <th>2</th>\n",
       "      <td>Kurang</td>\n",
       "      <td>3</td>\n",
       "    </tr>\n",
       "    <tr>\n",
       "      <th>4</th>\n",
       "      <td>Sangat_kurang</td>\n",
       "      <td>2</td>\n",
       "    </tr>\n",
       "  </tbody>\n",
       "</table>\n",
       "</div>"
      ],
      "text/plain": [
       "  PerformancePegawai  resign\n",
       "3       Sangat_bagus      11\n",
       "1              Biasa       9\n",
       "0              Bagus       3\n",
       "2             Kurang       3\n",
       "4      Sangat_kurang       2"
      ]
     },
     "execution_count": 62,
     "metadata": {},
     "output_type": "execute_result"
    }
   ],
   "source": [
    "agg_performance = divisi_resign_tertinggi.groupby(['PerformancePegawai']).agg({'resign':'sum'}).reset_index()\n",
    "agg_performance.sort_values(by='resign', ascending=False)"
   ]
  },
  {
   "attachments": {},
   "cell_type": "markdown",
   "metadata": {},
   "source": [
    "Dari total 28 yang resign ternyata ada 11 orang yang resign dengan performa sangat bagus"
   ]
  },
  {
   "cell_type": "code",
   "execution_count": 63,
   "metadata": {},
   "outputs": [
    {
     "data": {
      "text/html": [
       "<div>\n",
       "<style scoped>\n",
       "    .dataframe tbody tr th:only-of-type {\n",
       "        vertical-align: middle;\n",
       "    }\n",
       "\n",
       "    .dataframe tbody tr th {\n",
       "        vertical-align: top;\n",
       "    }\n",
       "\n",
       "    .dataframe thead th {\n",
       "        text-align: right;\n",
       "    }\n",
       "</style>\n",
       "<table border=\"1\" class=\"dataframe\">\n",
       "  <thead>\n",
       "    <tr style=\"text-align: right;\">\n",
       "      <th></th>\n",
       "      <th>JenjangKarir</th>\n",
       "      <th>PerformancePegawai</th>\n",
       "      <th>AlasanResign</th>\n",
       "      <th>resign</th>\n",
       "    </tr>\n",
       "  </thead>\n",
       "  <tbody>\n",
       "    <tr>\n",
       "      <th>0</th>\n",
       "      <td>Freshgraduate_program</td>\n",
       "      <td>Bagus</td>\n",
       "      <td>kejelasan_karir</td>\n",
       "      <td>1</td>\n",
       "    </tr>\n",
       "    <tr>\n",
       "      <th>1</th>\n",
       "      <td>Freshgraduate_program</td>\n",
       "      <td>Bagus</td>\n",
       "      <td>toxic_culture</td>\n",
       "      <td>1</td>\n",
       "    </tr>\n",
       "    <tr>\n",
       "      <th>2</th>\n",
       "      <td>Freshgraduate_program</td>\n",
       "      <td>Biasa</td>\n",
       "      <td>ganti_karir</td>\n",
       "      <td>2</td>\n",
       "    </tr>\n",
       "    <tr>\n",
       "      <th>3</th>\n",
       "      <td>Freshgraduate_program</td>\n",
       "      <td>Biasa</td>\n",
       "      <td>jam_kerja</td>\n",
       "      <td>1</td>\n",
       "    </tr>\n",
       "    <tr>\n",
       "      <th>4</th>\n",
       "      <td>Freshgraduate_program</td>\n",
       "      <td>Biasa</td>\n",
       "      <td>kejelasan_karir</td>\n",
       "      <td>1</td>\n",
       "    </tr>\n",
       "    <tr>\n",
       "      <th>5</th>\n",
       "      <td>Freshgraduate_program</td>\n",
       "      <td>Biasa</td>\n",
       "      <td>leadership</td>\n",
       "      <td>1</td>\n",
       "    </tr>\n",
       "    <tr>\n",
       "      <th>6</th>\n",
       "      <td>Freshgraduate_program</td>\n",
       "      <td>Biasa</td>\n",
       "      <td>tidak_bisa_remote</td>\n",
       "      <td>1</td>\n",
       "    </tr>\n",
       "    <tr>\n",
       "      <th>7</th>\n",
       "      <td>Freshgraduate_program</td>\n",
       "      <td>Kurang</td>\n",
       "      <td>ganti_karir</td>\n",
       "      <td>1</td>\n",
       "    </tr>\n",
       "    <tr>\n",
       "      <th>8</th>\n",
       "      <td>Freshgraduate_program</td>\n",
       "      <td>Kurang</td>\n",
       "      <td>jam_kerja</td>\n",
       "      <td>1</td>\n",
       "    </tr>\n",
       "    <tr>\n",
       "      <th>9</th>\n",
       "      <td>Freshgraduate_program</td>\n",
       "      <td>Kurang</td>\n",
       "      <td>tidak_bahagia</td>\n",
       "      <td>1</td>\n",
       "    </tr>\n",
       "    <tr>\n",
       "      <th>10</th>\n",
       "      <td>Freshgraduate_program</td>\n",
       "      <td>Sangat_bagus</td>\n",
       "      <td>leadership</td>\n",
       "      <td>1</td>\n",
       "    </tr>\n",
       "    <tr>\n",
       "      <th>11</th>\n",
       "      <td>Freshgraduate_program</td>\n",
       "      <td>Sangat_bagus</td>\n",
       "      <td>tidak_bahagia</td>\n",
       "      <td>1</td>\n",
       "    </tr>\n",
       "    <tr>\n",
       "      <th>12</th>\n",
       "      <td>Freshgraduate_program</td>\n",
       "      <td>Sangat_bagus</td>\n",
       "      <td>tidak_bisa_remote</td>\n",
       "      <td>2</td>\n",
       "    </tr>\n",
       "    <tr>\n",
       "      <th>13</th>\n",
       "      <td>Mid_level</td>\n",
       "      <td>Biasa</td>\n",
       "      <td>kejelasan_karir</td>\n",
       "      <td>1</td>\n",
       "    </tr>\n",
       "    <tr>\n",
       "      <th>14</th>\n",
       "      <td>Mid_level</td>\n",
       "      <td>Sangat_bagus</td>\n",
       "      <td>Lainnya</td>\n",
       "      <td>1</td>\n",
       "    </tr>\n",
       "    <tr>\n",
       "      <th>15</th>\n",
       "      <td>Mid_level</td>\n",
       "      <td>Sangat_bagus</td>\n",
       "      <td>ganti_karir</td>\n",
       "      <td>1</td>\n",
       "    </tr>\n",
       "    <tr>\n",
       "      <th>16</th>\n",
       "      <td>Mid_level</td>\n",
       "      <td>Sangat_bagus</td>\n",
       "      <td>internal_conflict</td>\n",
       "      <td>1</td>\n",
       "    </tr>\n",
       "    <tr>\n",
       "      <th>17</th>\n",
       "      <td>Mid_level</td>\n",
       "      <td>Sangat_bagus</td>\n",
       "      <td>jam_kerja</td>\n",
       "      <td>2</td>\n",
       "    </tr>\n",
       "    <tr>\n",
       "      <th>18</th>\n",
       "      <td>Mid_level</td>\n",
       "      <td>Sangat_kurang</td>\n",
       "      <td>jam_kerja</td>\n",
       "      <td>1</td>\n",
       "    </tr>\n",
       "    <tr>\n",
       "      <th>19</th>\n",
       "      <td>Senior_level</td>\n",
       "      <td>Bagus</td>\n",
       "      <td>tidak_bahagia</td>\n",
       "      <td>1</td>\n",
       "    </tr>\n",
       "    <tr>\n",
       "      <th>20</th>\n",
       "      <td>Senior_level</td>\n",
       "      <td>Biasa</td>\n",
       "      <td>internal_conflict</td>\n",
       "      <td>1</td>\n",
       "    </tr>\n",
       "    <tr>\n",
       "      <th>21</th>\n",
       "      <td>Senior_level</td>\n",
       "      <td>Biasa</td>\n",
       "      <td>kejelasan_karir</td>\n",
       "      <td>1</td>\n",
       "    </tr>\n",
       "    <tr>\n",
       "      <th>22</th>\n",
       "      <td>Senior_level</td>\n",
       "      <td>Sangat_bagus</td>\n",
       "      <td>tidak_bahagia</td>\n",
       "      <td>2</td>\n",
       "    </tr>\n",
       "    <tr>\n",
       "      <th>23</th>\n",
       "      <td>Senior_level</td>\n",
       "      <td>Sangat_kurang</td>\n",
       "      <td>jam_kerja</td>\n",
       "      <td>1</td>\n",
       "    </tr>\n",
       "  </tbody>\n",
       "</table>\n",
       "</div>"
      ],
      "text/plain": [
       "             JenjangKarir PerformancePegawai       AlasanResign  resign\n",
       "0   Freshgraduate_program              Bagus    kejelasan_karir       1\n",
       "1   Freshgraduate_program              Bagus      toxic_culture       1\n",
       "2   Freshgraduate_program              Biasa        ganti_karir       2\n",
       "3   Freshgraduate_program              Biasa          jam_kerja       1\n",
       "4   Freshgraduate_program              Biasa    kejelasan_karir       1\n",
       "5   Freshgraduate_program              Biasa         leadership       1\n",
       "6   Freshgraduate_program              Biasa  tidak_bisa_remote       1\n",
       "7   Freshgraduate_program             Kurang        ganti_karir       1\n",
       "8   Freshgraduate_program             Kurang          jam_kerja       1\n",
       "9   Freshgraduate_program             Kurang      tidak_bahagia       1\n",
       "10  Freshgraduate_program       Sangat_bagus         leadership       1\n",
       "11  Freshgraduate_program       Sangat_bagus      tidak_bahagia       1\n",
       "12  Freshgraduate_program       Sangat_bagus  tidak_bisa_remote       2\n",
       "13              Mid_level              Biasa    kejelasan_karir       1\n",
       "14              Mid_level       Sangat_bagus            Lainnya       1\n",
       "15              Mid_level       Sangat_bagus        ganti_karir       1\n",
       "16              Mid_level       Sangat_bagus  internal_conflict       1\n",
       "17              Mid_level       Sangat_bagus          jam_kerja       2\n",
       "18              Mid_level      Sangat_kurang          jam_kerja       1\n",
       "19           Senior_level              Bagus      tidak_bahagia       1\n",
       "20           Senior_level              Biasa  internal_conflict       1\n",
       "21           Senior_level              Biasa    kejelasan_karir       1\n",
       "22           Senior_level       Sangat_bagus      tidak_bahagia       2\n",
       "23           Senior_level      Sangat_kurang          jam_kerja       1"
      ]
     },
     "execution_count": 63,
     "metadata": {},
     "output_type": "execute_result"
    }
   ],
   "source": [
    "agg_all = divisi_resign_tertinggi.groupby(['JenjangKarir', 'PerformancePegawai', 'AlasanResign']).agg({'resign':'sum'}).reset_index()\n",
    "agg_all"
   ]
  },
  {
   "cell_type": "code",
   "execution_count": 64,
   "metadata": {},
   "outputs": [
    {
     "data": {
      "application/vnd.plotly.v1+json": {
       "config": {
        "plotlyServerURL": "https://plot.ly"
       },
       "data": [
        {
         "branchvalues": "total",
         "customdata": [
          [
           1
          ],
          [
           1
          ],
          [
           1
          ],
          [
           2
          ],
          [
           1
          ],
          [
           1
          ],
          [
           1
          ],
          [
           1
          ],
          [
           1
          ],
          [
           1
          ],
          [
           1
          ],
          [
           1
          ],
          [
           1
          ],
          [
           1
          ],
          [
           1
          ],
          [
           1
          ],
          [
           2
          ],
          [
           1
          ],
          [
           1
          ],
          [
           1
          ],
          [
           2
          ],
          [
           2
          ],
          [
           1
          ],
          [
           1
          ],
          [
           3
          ],
          [
           2
          ],
          [
           2
          ],
          [
           2
          ],
          [
           2
          ],
          [
           3
          ],
          [
           1
          ],
          [
           1
          ],
          [
           1
          ],
          [
           1
          ],
          [
           3
          ],
          [
           1
          ],
          [
           1
          ],
          [
           1
          ],
          [
           1
          ],
          [
           3
          ],
          [
           1
          ],
          [
           4
          ],
          [
           2
          ],
          [
           6
          ],
          [
           4
          ],
          [
           2
          ],
          [
           5
          ],
          [
           3
          ],
          [
           1
          ]
         ],
         "domain": {
          "x": [
           0,
           1
          ],
          "y": [
           0,
           1
          ]
         },
         "hovertemplate": "labels=%{label}<br>resign=%{customdata[0]}<br>parent=%{parent}<br>id=%{id}<extra></extra>",
         "ids": [
          "kejelasan_karir/Freshgraduate_program/Bagus",
          "toxic_culture/Freshgraduate_program/Bagus",
          "tidak_bahagia/Senior_level/Bagus",
          "ganti_karir/Freshgraduate_program/Biasa",
          "jam_kerja/Freshgraduate_program/Biasa",
          "kejelasan_karir/Freshgraduate_program/Biasa",
          "leadership/Freshgraduate_program/Biasa",
          "tidak_bisa_remote/Freshgraduate_program/Biasa",
          "kejelasan_karir/Mid_level/Biasa",
          "internal_conflict/Senior_level/Biasa",
          "kejelasan_karir/Senior_level/Biasa",
          "ganti_karir/Freshgraduate_program/Kurang",
          "jam_kerja/Freshgraduate_program/Kurang",
          "tidak_bahagia/Freshgraduate_program/Kurang",
          "leadership/Freshgraduate_program/Sangat_bagus",
          "tidak_bahagia/Freshgraduate_program/Sangat_bagus",
          "tidak_bisa_remote/Freshgraduate_program/Sangat_bagus",
          "Lainnya/Mid_level/Sangat_bagus",
          "ganti_karir/Mid_level/Sangat_bagus",
          "internal_conflict/Mid_level/Sangat_bagus",
          "jam_kerja/Mid_level/Sangat_bagus",
          "tidak_bahagia/Senior_level/Sangat_bagus",
          "jam_kerja/Mid_level/Sangat_kurang",
          "jam_kerja/Senior_level/Sangat_kurang",
          "ganti_karir/Freshgraduate_program",
          "jam_kerja/Freshgraduate_program",
          "kejelasan_karir/Freshgraduate_program",
          "leadership/Freshgraduate_program",
          "tidak_bahagia/Freshgraduate_program",
          "tidak_bisa_remote/Freshgraduate_program",
          "toxic_culture/Freshgraduate_program",
          "Lainnya/Mid_level",
          "ganti_karir/Mid_level",
          "internal_conflict/Mid_level",
          "jam_kerja/Mid_level",
          "kejelasan_karir/Mid_level",
          "internal_conflict/Senior_level",
          "jam_kerja/Senior_level",
          "kejelasan_karir/Senior_level",
          "tidak_bahagia/Senior_level",
          "Lainnya",
          "ganti_karir",
          "internal_conflict",
          "jam_kerja",
          "kejelasan_karir",
          "leadership",
          "tidak_bahagia",
          "tidak_bisa_remote",
          "toxic_culture"
         ],
         "labels": [
          "Bagus",
          "Bagus",
          "Bagus",
          "Biasa",
          "Biasa",
          "Biasa",
          "Biasa",
          "Biasa",
          "Biasa",
          "Biasa",
          "Biasa",
          "Kurang",
          "Kurang",
          "Kurang",
          "Sangat_bagus",
          "Sangat_bagus",
          "Sangat_bagus",
          "Sangat_bagus",
          "Sangat_bagus",
          "Sangat_bagus",
          "Sangat_bagus",
          "Sangat_bagus",
          "Sangat_kurang",
          "Sangat_kurang",
          "Freshgraduate_program",
          "Freshgraduate_program",
          "Freshgraduate_program",
          "Freshgraduate_program",
          "Freshgraduate_program",
          "Freshgraduate_program",
          "Freshgraduate_program",
          "Mid_level",
          "Mid_level",
          "Mid_level",
          "Mid_level",
          "Mid_level",
          "Senior_level",
          "Senior_level",
          "Senior_level",
          "Senior_level",
          "Lainnya",
          "ganti_karir",
          "internal_conflict",
          "jam_kerja",
          "kejelasan_karir",
          "leadership",
          "tidak_bahagia",
          "tidak_bisa_remote",
          "toxic_culture"
         ],
         "name": "",
         "parents": [
          "kejelasan_karir/Freshgraduate_program",
          "toxic_culture/Freshgraduate_program",
          "tidak_bahagia/Senior_level",
          "ganti_karir/Freshgraduate_program",
          "jam_kerja/Freshgraduate_program",
          "kejelasan_karir/Freshgraduate_program",
          "leadership/Freshgraduate_program",
          "tidak_bisa_remote/Freshgraduate_program",
          "kejelasan_karir/Mid_level",
          "internal_conflict/Senior_level",
          "kejelasan_karir/Senior_level",
          "ganti_karir/Freshgraduate_program",
          "jam_kerja/Freshgraduate_program",
          "tidak_bahagia/Freshgraduate_program",
          "leadership/Freshgraduate_program",
          "tidak_bahagia/Freshgraduate_program",
          "tidak_bisa_remote/Freshgraduate_program",
          "Lainnya/Mid_level",
          "ganti_karir/Mid_level",
          "internal_conflict/Mid_level",
          "jam_kerja/Mid_level",
          "tidak_bahagia/Senior_level",
          "jam_kerja/Mid_level",
          "jam_kerja/Senior_level",
          "ganti_karir",
          "jam_kerja",
          "kejelasan_karir",
          "leadership",
          "tidak_bahagia",
          "tidak_bisa_remote",
          "toxic_culture",
          "Lainnya",
          "ganti_karir",
          "internal_conflict",
          "jam_kerja",
          "kejelasan_karir",
          "internal_conflict",
          "jam_kerja",
          "kejelasan_karir",
          "tidak_bahagia",
          "",
          "",
          "",
          "",
          "",
          "",
          "",
          "",
          ""
         ],
         "type": "sunburst",
         "values": [
          1,
          1,
          1,
          2,
          1,
          1,
          1,
          1,
          1,
          1,
          1,
          1,
          1,
          1,
          1,
          1,
          2,
          1,
          1,
          1,
          2,
          2,
          1,
          1,
          3,
          2,
          2,
          2,
          2,
          3,
          1,
          1,
          1,
          1,
          3,
          1,
          1,
          1,
          1,
          3,
          1,
          4,
          2,
          6,
          4,
          2,
          5,
          3,
          1
         ]
        }
       ],
       "layout": {
        "height": 1000,
        "legend": {
         "tracegroupgap": 0
        },
        "template": {
         "data": {
          "bar": [
           {
            "error_x": {
             "color": "#f2f5fa"
            },
            "error_y": {
             "color": "#f2f5fa"
            },
            "marker": {
             "line": {
              "color": "rgb(17,17,17)",
              "width": 0.5
             },
             "pattern": {
              "fillmode": "overlay",
              "size": 10,
              "solidity": 0.2
             }
            },
            "type": "bar"
           }
          ],
          "barpolar": [
           {
            "marker": {
             "line": {
              "color": "rgb(17,17,17)",
              "width": 0.5
             },
             "pattern": {
              "fillmode": "overlay",
              "size": 10,
              "solidity": 0.2
             }
            },
            "type": "barpolar"
           }
          ],
          "carpet": [
           {
            "aaxis": {
             "endlinecolor": "#A2B1C6",
             "gridcolor": "#506784",
             "linecolor": "#506784",
             "minorgridcolor": "#506784",
             "startlinecolor": "#A2B1C6"
            },
            "baxis": {
             "endlinecolor": "#A2B1C6",
             "gridcolor": "#506784",
             "linecolor": "#506784",
             "minorgridcolor": "#506784",
             "startlinecolor": "#A2B1C6"
            },
            "type": "carpet"
           }
          ],
          "choropleth": [
           {
            "colorbar": {
             "outlinewidth": 0,
             "ticks": ""
            },
            "type": "choropleth"
           }
          ],
          "contour": [
           {
            "colorbar": {
             "outlinewidth": 0,
             "ticks": ""
            },
            "colorscale": [
             [
              0,
              "#0d0887"
             ],
             [
              0.1111111111111111,
              "#46039f"
             ],
             [
              0.2222222222222222,
              "#7201a8"
             ],
             [
              0.3333333333333333,
              "#9c179e"
             ],
             [
              0.4444444444444444,
              "#bd3786"
             ],
             [
              0.5555555555555556,
              "#d8576b"
             ],
             [
              0.6666666666666666,
              "#ed7953"
             ],
             [
              0.7777777777777778,
              "#fb9f3a"
             ],
             [
              0.8888888888888888,
              "#fdca26"
             ],
             [
              1,
              "#f0f921"
             ]
            ],
            "type": "contour"
           }
          ],
          "contourcarpet": [
           {
            "colorbar": {
             "outlinewidth": 0,
             "ticks": ""
            },
            "type": "contourcarpet"
           }
          ],
          "heatmap": [
           {
            "colorbar": {
             "outlinewidth": 0,
             "ticks": ""
            },
            "colorscale": [
             [
              0,
              "#0d0887"
             ],
             [
              0.1111111111111111,
              "#46039f"
             ],
             [
              0.2222222222222222,
              "#7201a8"
             ],
             [
              0.3333333333333333,
              "#9c179e"
             ],
             [
              0.4444444444444444,
              "#bd3786"
             ],
             [
              0.5555555555555556,
              "#d8576b"
             ],
             [
              0.6666666666666666,
              "#ed7953"
             ],
             [
              0.7777777777777778,
              "#fb9f3a"
             ],
             [
              0.8888888888888888,
              "#fdca26"
             ],
             [
              1,
              "#f0f921"
             ]
            ],
            "type": "heatmap"
           }
          ],
          "heatmapgl": [
           {
            "colorbar": {
             "outlinewidth": 0,
             "ticks": ""
            },
            "colorscale": [
             [
              0,
              "#0d0887"
             ],
             [
              0.1111111111111111,
              "#46039f"
             ],
             [
              0.2222222222222222,
              "#7201a8"
             ],
             [
              0.3333333333333333,
              "#9c179e"
             ],
             [
              0.4444444444444444,
              "#bd3786"
             ],
             [
              0.5555555555555556,
              "#d8576b"
             ],
             [
              0.6666666666666666,
              "#ed7953"
             ],
             [
              0.7777777777777778,
              "#fb9f3a"
             ],
             [
              0.8888888888888888,
              "#fdca26"
             ],
             [
              1,
              "#f0f921"
             ]
            ],
            "type": "heatmapgl"
           }
          ],
          "histogram": [
           {
            "marker": {
             "pattern": {
              "fillmode": "overlay",
              "size": 10,
              "solidity": 0.2
             }
            },
            "type": "histogram"
           }
          ],
          "histogram2d": [
           {
            "colorbar": {
             "outlinewidth": 0,
             "ticks": ""
            },
            "colorscale": [
             [
              0,
              "#0d0887"
             ],
             [
              0.1111111111111111,
              "#46039f"
             ],
             [
              0.2222222222222222,
              "#7201a8"
             ],
             [
              0.3333333333333333,
              "#9c179e"
             ],
             [
              0.4444444444444444,
              "#bd3786"
             ],
             [
              0.5555555555555556,
              "#d8576b"
             ],
             [
              0.6666666666666666,
              "#ed7953"
             ],
             [
              0.7777777777777778,
              "#fb9f3a"
             ],
             [
              0.8888888888888888,
              "#fdca26"
             ],
             [
              1,
              "#f0f921"
             ]
            ],
            "type": "histogram2d"
           }
          ],
          "histogram2dcontour": [
           {
            "colorbar": {
             "outlinewidth": 0,
             "ticks": ""
            },
            "colorscale": [
             [
              0,
              "#0d0887"
             ],
             [
              0.1111111111111111,
              "#46039f"
             ],
             [
              0.2222222222222222,
              "#7201a8"
             ],
             [
              0.3333333333333333,
              "#9c179e"
             ],
             [
              0.4444444444444444,
              "#bd3786"
             ],
             [
              0.5555555555555556,
              "#d8576b"
             ],
             [
              0.6666666666666666,
              "#ed7953"
             ],
             [
              0.7777777777777778,
              "#fb9f3a"
             ],
             [
              0.8888888888888888,
              "#fdca26"
             ],
             [
              1,
              "#f0f921"
             ]
            ],
            "type": "histogram2dcontour"
           }
          ],
          "mesh3d": [
           {
            "colorbar": {
             "outlinewidth": 0,
             "ticks": ""
            },
            "type": "mesh3d"
           }
          ],
          "parcoords": [
           {
            "line": {
             "colorbar": {
              "outlinewidth": 0,
              "ticks": ""
             }
            },
            "type": "parcoords"
           }
          ],
          "pie": [
           {
            "automargin": true,
            "type": "pie"
           }
          ],
          "scatter": [
           {
            "marker": {
             "line": {
              "color": "#283442"
             }
            },
            "type": "scatter"
           }
          ],
          "scatter3d": [
           {
            "line": {
             "colorbar": {
              "outlinewidth": 0,
              "ticks": ""
             }
            },
            "marker": {
             "colorbar": {
              "outlinewidth": 0,
              "ticks": ""
             }
            },
            "type": "scatter3d"
           }
          ],
          "scattercarpet": [
           {
            "marker": {
             "colorbar": {
              "outlinewidth": 0,
              "ticks": ""
             }
            },
            "type": "scattercarpet"
           }
          ],
          "scattergeo": [
           {
            "marker": {
             "colorbar": {
              "outlinewidth": 0,
              "ticks": ""
             }
            },
            "type": "scattergeo"
           }
          ],
          "scattergl": [
           {
            "marker": {
             "line": {
              "color": "#283442"
             }
            },
            "type": "scattergl"
           }
          ],
          "scattermapbox": [
           {
            "marker": {
             "colorbar": {
              "outlinewidth": 0,
              "ticks": ""
             }
            },
            "type": "scattermapbox"
           }
          ],
          "scatterpolar": [
           {
            "marker": {
             "colorbar": {
              "outlinewidth": 0,
              "ticks": ""
             }
            },
            "type": "scatterpolar"
           }
          ],
          "scatterpolargl": [
           {
            "marker": {
             "colorbar": {
              "outlinewidth": 0,
              "ticks": ""
             }
            },
            "type": "scatterpolargl"
           }
          ],
          "scatterternary": [
           {
            "marker": {
             "colorbar": {
              "outlinewidth": 0,
              "ticks": ""
             }
            },
            "type": "scatterternary"
           }
          ],
          "surface": [
           {
            "colorbar": {
             "outlinewidth": 0,
             "ticks": ""
            },
            "colorscale": [
             [
              0,
              "#0d0887"
             ],
             [
              0.1111111111111111,
              "#46039f"
             ],
             [
              0.2222222222222222,
              "#7201a8"
             ],
             [
              0.3333333333333333,
              "#9c179e"
             ],
             [
              0.4444444444444444,
              "#bd3786"
             ],
             [
              0.5555555555555556,
              "#d8576b"
             ],
             [
              0.6666666666666666,
              "#ed7953"
             ],
             [
              0.7777777777777778,
              "#fb9f3a"
             ],
             [
              0.8888888888888888,
              "#fdca26"
             ],
             [
              1,
              "#f0f921"
             ]
            ],
            "type": "surface"
           }
          ],
          "table": [
           {
            "cells": {
             "fill": {
              "color": "#506784"
             },
             "line": {
              "color": "rgb(17,17,17)"
             }
            },
            "header": {
             "fill": {
              "color": "#2a3f5f"
             },
             "line": {
              "color": "rgb(17,17,17)"
             }
            },
            "type": "table"
           }
          ]
         },
         "layout": {
          "annotationdefaults": {
           "arrowcolor": "#f2f5fa",
           "arrowhead": 0,
           "arrowwidth": 1
          },
          "autotypenumbers": "strict",
          "coloraxis": {
           "colorbar": {
            "outlinewidth": 0,
            "ticks": ""
           }
          },
          "colorscale": {
           "diverging": [
            [
             0,
             "#8e0152"
            ],
            [
             0.1,
             "#c51b7d"
            ],
            [
             0.2,
             "#de77ae"
            ],
            [
             0.3,
             "#f1b6da"
            ],
            [
             0.4,
             "#fde0ef"
            ],
            [
             0.5,
             "#f7f7f7"
            ],
            [
             0.6,
             "#e6f5d0"
            ],
            [
             0.7,
             "#b8e186"
            ],
            [
             0.8,
             "#7fbc41"
            ],
            [
             0.9,
             "#4d9221"
            ],
            [
             1,
             "#276419"
            ]
           ],
           "sequential": [
            [
             0,
             "#0d0887"
            ],
            [
             0.1111111111111111,
             "#46039f"
            ],
            [
             0.2222222222222222,
             "#7201a8"
            ],
            [
             0.3333333333333333,
             "#9c179e"
            ],
            [
             0.4444444444444444,
             "#bd3786"
            ],
            [
             0.5555555555555556,
             "#d8576b"
            ],
            [
             0.6666666666666666,
             "#ed7953"
            ],
            [
             0.7777777777777778,
             "#fb9f3a"
            ],
            [
             0.8888888888888888,
             "#fdca26"
            ],
            [
             1,
             "#f0f921"
            ]
           ],
           "sequentialminus": [
            [
             0,
             "#0d0887"
            ],
            [
             0.1111111111111111,
             "#46039f"
            ],
            [
             0.2222222222222222,
             "#7201a8"
            ],
            [
             0.3333333333333333,
             "#9c179e"
            ],
            [
             0.4444444444444444,
             "#bd3786"
            ],
            [
             0.5555555555555556,
             "#d8576b"
            ],
            [
             0.6666666666666666,
             "#ed7953"
            ],
            [
             0.7777777777777778,
             "#fb9f3a"
            ],
            [
             0.8888888888888888,
             "#fdca26"
            ],
            [
             1,
             "#f0f921"
            ]
           ]
          },
          "colorway": [
           "#636efa",
           "#EF553B",
           "#00cc96",
           "#ab63fa",
           "#FFA15A",
           "#19d3f3",
           "#FF6692",
           "#B6E880",
           "#FF97FF",
           "#FECB52"
          ],
          "font": {
           "color": "#f2f5fa"
          },
          "geo": {
           "bgcolor": "rgb(17,17,17)",
           "lakecolor": "rgb(17,17,17)",
           "landcolor": "rgb(17,17,17)",
           "showlakes": true,
           "showland": true,
           "subunitcolor": "#506784"
          },
          "hoverlabel": {
           "align": "left"
          },
          "hovermode": "closest",
          "mapbox": {
           "style": "dark"
          },
          "paper_bgcolor": "rgb(17,17,17)",
          "plot_bgcolor": "rgb(17,17,17)",
          "polar": {
           "angularaxis": {
            "gridcolor": "#506784",
            "linecolor": "#506784",
            "ticks": ""
           },
           "bgcolor": "rgb(17,17,17)",
           "radialaxis": {
            "gridcolor": "#506784",
            "linecolor": "#506784",
            "ticks": ""
           }
          },
          "scene": {
           "xaxis": {
            "backgroundcolor": "rgb(17,17,17)",
            "gridcolor": "#506784",
            "gridwidth": 2,
            "linecolor": "#506784",
            "showbackground": true,
            "ticks": "",
            "zerolinecolor": "#C8D4E3"
           },
           "yaxis": {
            "backgroundcolor": "rgb(17,17,17)",
            "gridcolor": "#506784",
            "gridwidth": 2,
            "linecolor": "#506784",
            "showbackground": true,
            "ticks": "",
            "zerolinecolor": "#C8D4E3"
           },
           "zaxis": {
            "backgroundcolor": "rgb(17,17,17)",
            "gridcolor": "#506784",
            "gridwidth": 2,
            "linecolor": "#506784",
            "showbackground": true,
            "ticks": "",
            "zerolinecolor": "#C8D4E3"
           }
          },
          "shapedefaults": {
           "line": {
            "color": "#f2f5fa"
           }
          },
          "sliderdefaults": {
           "bgcolor": "#C8D4E3",
           "bordercolor": "rgb(17,17,17)",
           "borderwidth": 1,
           "tickwidth": 0
          },
          "ternary": {
           "aaxis": {
            "gridcolor": "#506784",
            "linecolor": "#506784",
            "ticks": ""
           },
           "baxis": {
            "gridcolor": "#506784",
            "linecolor": "#506784",
            "ticks": ""
           },
           "bgcolor": "rgb(17,17,17)",
           "caxis": {
            "gridcolor": "#506784",
            "linecolor": "#506784",
            "ticks": ""
           }
          },
          "title": {
           "x": 0.05
          },
          "updatemenudefaults": {
           "bgcolor": "#506784",
           "borderwidth": 0
          },
          "xaxis": {
           "automargin": true,
           "gridcolor": "#283442",
           "linecolor": "#506784",
           "ticks": "",
           "title": {
            "standoff": 15
           },
           "zerolinecolor": "#283442",
           "zerolinewidth": 2
          },
          "yaxis": {
           "automargin": true,
           "gridcolor": "#283442",
           "linecolor": "#506784",
           "ticks": "",
           "title": {
            "standoff": 15
           },
           "zerolinecolor": "#283442",
           "zerolinewidth": 2
          }
         }
        },
        "title": {
         "text": "Alasan Resign Pada Divisi Software Engineer (Back End)"
        },
        "width": 1000
       }
      }
     },
     "metadata": {},
     "output_type": "display_data"
    }
   ],
   "source": [
    "fig = px.sunburst(agg_all.reset_index(), path=['AlasanResign','JenjangKarir', 'PerformancePegawai'], values='resign',\n",
    "                  hover_data=['resign'], template='plotly_dark', width=1000, height=1000,color_continuous_scale='PuRd',\n",
    "                  title='Alasan Resign Pada Divisi Software Engineer (Back End)')\n",
    "fig.show()"
   ]
  },
  {
   "attachments": {},
   "cell_type": "markdown",
   "metadata": {},
   "source": [
    "Dari Sunburst diatas bisa dilihat:\n",
    "1. Dua alasan resign paling umum yaitu jam kerja(6) dan tidak bahagia(5)\n",
    "2. Divisi ini paling banyak resign dari jenjang karir FG Program(15)\n",
    "3. Terlepas dari alasannya sebanyak 11 orang yang resign memiliki performa sangat bagus, biasanya hal tersebut tejadi karena kurangnya apresiasi company terhadap kinerja baiknya, namun tidak ditemukan adanya alasan perihal apresiasi."
   ]
  },
  {
   "attachments": {},
   "cell_type": "markdown",
   "metadata": {},
   "source": [
    "## Modelling and Evaluation"
   ]
  },
  {
   "attachments": {},
   "cell_type": "markdown",
   "metadata": {},
   "source": [
    "### Feature Encoding"
   ]
  },
  {
   "cell_type": "code",
   "execution_count": 65,
   "metadata": {},
   "outputs": [
    {
     "data": {
      "text/plain": [
       "StatusPernikahan       4\n",
       "JenisKelamin           2\n",
       "StatusKepegawaian      3\n",
       "Pekerjaan             14\n",
       "JenjangKarir           3\n",
       "PerformancePegawai     5\n",
       "HiringPlatform         9\n",
       "TingkatPendidikan      3\n",
       "AlasanResign          11\n",
       "dtype: int64"
      ]
     },
     "execution_count": 65,
     "metadata": {},
     "output_type": "execute_result"
    }
   ],
   "source": [
    "data_pre.select_dtypes(include='object').nunique()"
   ]
  },
  {
   "cell_type": "code",
   "execution_count": 66,
   "metadata": {},
   "outputs": [
    {
     "name": "stdout",
     "output_type": "stream",
     "text": [
      "Value count feature StatusPernikahan:\n",
      "Belum_menikah    131\n",
      "Menikah           56\n",
      "Lainnya           51\n",
      "Bercerai          47\n",
      "Name: StatusPernikahan, dtype: int64\n",
      "\n",
      "Value count feature JenisKelamin:\n",
      "Wanita    165\n",
      "Pria      120\n",
      "Name: JenisKelamin, dtype: int64\n",
      "\n",
      "Value count feature StatusKepegawaian:\n",
      "FullTime      215\n",
      "Outsource      66\n",
      "Internship      4\n",
      "Name: StatusKepegawaian, dtype: int64\n",
      "\n",
      "Value count feature Pekerjaan:\n",
      "Software Engineer (Back End)      109\n",
      "Software Engineer (Front End)      71\n",
      "Software Engineer (Android)        24\n",
      "Product Design (UI & UX)           24\n",
      "Product Manager                    17\n",
      "Data Analyst                       15\n",
      "Data Engineer                      10\n",
      "Scrum Master                        3\n",
      "Software Engineer (iOS)             3\n",
      "DevOps Engineer                     3\n",
      "Digital Product Manager             2\n",
      "Machine Learning Engineer           2\n",
      "Product Design (UX Researcher)      1\n",
      "Software Architect                  1\n",
      "Name: Pekerjaan, dtype: int64\n",
      "\n",
      "Value count feature JenjangKarir:\n",
      "Freshgraduate_program    168\n",
      "Mid_level                 69\n",
      "Senior_level              48\n",
      "Name: JenjangKarir, dtype: int64\n",
      "\n",
      "Value count feature PerformancePegawai:\n",
      "Biasa            84\n",
      "Bagus            74\n",
      "Sangat_bagus     72\n",
      "Kurang           31\n",
      "Sangat_kurang    24\n",
      "Name: PerformancePegawai, dtype: int64\n",
      "\n",
      "Value count feature HiringPlatform:\n",
      "Indeed                     84\n",
      "LinkedIn                   69\n",
      "Google_Search              46\n",
      "Diversity_Job_Fair         27\n",
      "Employee_Referral          24\n",
      "CareerBuilder              21\n",
      "Website                    11\n",
      "Other                       2\n",
      "On-line_Web_application     1\n",
      "Name: HiringPlatform, dtype: int64\n",
      "\n",
      "Value count feature TingkatPendidikan:\n",
      "Sarjana     174\n",
      "Magister     87\n",
      "Doktor       24\n",
      "Name: TingkatPendidikan, dtype: int64\n",
      "\n",
      "Value count feature AlasanResign:\n",
      "masih_bekerja        198\n",
      "jam_kerja             16\n",
      "ganti_karir           14\n",
      "kejelasan_karir       11\n",
      "tidak_bisa_remote     11\n",
      "toxic_culture          9\n",
      "tidak_bahagia          8\n",
      "leadership             8\n",
      "internal_conflict      4\n",
      "Lainnya                4\n",
      "apresiasi              2\n",
      "Name: AlasanResign, dtype: int64\n",
      "\n"
     ]
    }
   ],
   "source": [
    "objects1 = data_pre.dtypes[data_pre.dtypes == \"object\"].index\n",
    "for col in objects1:\n",
    "    print(f'''Value count feature {col}:''')\n",
    "    print(data_pre[col].value_counts())\n",
    "    print()"
   ]
  },
  {
   "attachments": {},
   "cell_type": "markdown",
   "metadata": {},
   "source": [
    "#### One Hot Encoding"
   ]
  },
  {
   "cell_type": "code",
   "execution_count": 67,
   "metadata": {},
   "outputs": [],
   "source": [
    "data_pre.drop(['HiringPlatform'], axis=1, inplace=True)"
   ]
  },
  {
   "cell_type": "code",
   "execution_count": 68,
   "metadata": {},
   "outputs": [],
   "source": [
    "to_onehot = ['StatusPernikahan', 'StatusKepegawaian','Pekerjaan']\n",
    "for onehot in to_onehot:\n",
    "    onehots = pd.get_dummies(data_pre[onehot], prefix=onehot)\n",
    "    data_pre = data_pre.join(onehots)\n",
    "# Drop feature yang sudah di encode\n",
    "data_pre = data_pre.drop(columns=to_onehot).copy()"
   ]
  },
  {
   "cell_type": "code",
   "execution_count": 69,
   "metadata": {},
   "outputs": [
    {
     "data": {
      "text/html": [
       "<div>\n",
       "<style scoped>\n",
       "    .dataframe tbody tr th:only-of-type {\n",
       "        vertical-align: middle;\n",
       "    }\n",
       "\n",
       "    .dataframe tbody tr th {\n",
       "        vertical-align: top;\n",
       "    }\n",
       "\n",
       "    .dataframe thead th {\n",
       "        text-align: right;\n",
       "    }\n",
       "</style>\n",
       "<table border=\"1\" class=\"dataframe\">\n",
       "  <thead>\n",
       "    <tr style=\"text-align: right;\">\n",
       "      <th></th>\n",
       "      <th>JenisKelamin</th>\n",
       "      <th>JenjangKarir</th>\n",
       "      <th>PerformancePegawai</th>\n",
       "      <th>SkorSurveyEngagement</th>\n",
       "      <th>SkorKepuasanPegawai</th>\n",
       "      <th>JumlahKeikutsertaanProjek</th>\n",
       "      <th>JumlahKeterlambatanSebulanTerakhir</th>\n",
       "      <th>JumlahKetidakhadiran</th>\n",
       "      <th>TingkatPendidikan</th>\n",
       "      <th>AlasanResign</th>\n",
       "      <th>TanggalLahir</th>\n",
       "      <th>TanggalHiring</th>\n",
       "      <th>TanggalResign</th>\n",
       "      <th>resign</th>\n",
       "      <th>umur</th>\n",
       "      <th>LamaBekerja</th>\n",
       "      <th>StatusPernikahan_Belum_menikah</th>\n",
       "      <th>StatusPernikahan_Bercerai</th>\n",
       "      <th>StatusPernikahan_Lainnya</th>\n",
       "      <th>StatusPernikahan_Menikah</th>\n",
       "      <th>StatusKepegawaian_FullTime</th>\n",
       "      <th>StatusKepegawaian_Internship</th>\n",
       "      <th>StatusKepegawaian_Outsource</th>\n",
       "      <th>Pekerjaan_Data Analyst</th>\n",
       "      <th>Pekerjaan_Data Engineer</th>\n",
       "      <th>Pekerjaan_DevOps Engineer</th>\n",
       "      <th>Pekerjaan_Digital Product Manager</th>\n",
       "      <th>Pekerjaan_Machine Learning Engineer</th>\n",
       "      <th>Pekerjaan_Product Design (UI &amp; UX)</th>\n",
       "      <th>Pekerjaan_Product Design (UX Researcher)</th>\n",
       "      <th>Pekerjaan_Product Manager</th>\n",
       "      <th>Pekerjaan_Scrum Master</th>\n",
       "      <th>Pekerjaan_Software Architect</th>\n",
       "      <th>Pekerjaan_Software Engineer (Android)</th>\n",
       "      <th>Pekerjaan_Software Engineer (Back End)</th>\n",
       "      <th>Pekerjaan_Software Engineer (Front End)</th>\n",
       "      <th>Pekerjaan_Software Engineer (iOS)</th>\n",
       "    </tr>\n",
       "  </thead>\n",
       "  <tbody>\n",
       "    <tr>\n",
       "      <th>212</th>\n",
       "      <td>Wanita</td>\n",
       "      <td>Freshgraduate_program</td>\n",
       "      <td>Sangat_bagus</td>\n",
       "      <td>3</td>\n",
       "      <td>4.0</td>\n",
       "      <td>0.0</td>\n",
       "      <td>0.0</td>\n",
       "      <td>5.0</td>\n",
       "      <td>Doktor</td>\n",
       "      <td>leadership</td>\n",
       "      <td>1986-07-20</td>\n",
       "      <td>2011-05-16</td>\n",
       "      <td>2018-06-08</td>\n",
       "      <td>1</td>\n",
       "      <td>34.0</td>\n",
       "      <td>7.0</td>\n",
       "      <td>0</td>\n",
       "      <td>0</td>\n",
       "      <td>0</td>\n",
       "      <td>1</td>\n",
       "      <td>0</td>\n",
       "      <td>1</td>\n",
       "      <td>0</td>\n",
       "      <td>0</td>\n",
       "      <td>0</td>\n",
       "      <td>0</td>\n",
       "      <td>0</td>\n",
       "      <td>0</td>\n",
       "      <td>0</td>\n",
       "      <td>0</td>\n",
       "      <td>0</td>\n",
       "      <td>0</td>\n",
       "      <td>0</td>\n",
       "      <td>0</td>\n",
       "      <td>1</td>\n",
       "      <td>0</td>\n",
       "      <td>0</td>\n",
       "    </tr>\n",
       "  </tbody>\n",
       "</table>\n",
       "</div>"
      ],
      "text/plain": [
       "    JenisKelamin           JenjangKarir PerformancePegawai  \\\n",
       "212       Wanita  Freshgraduate_program       Sangat_bagus   \n",
       "\n",
       "     SkorSurveyEngagement  SkorKepuasanPegawai  JumlahKeikutsertaanProjek  \\\n",
       "212                     3                  4.0                        0.0   \n",
       "\n",
       "     JumlahKeterlambatanSebulanTerakhir  JumlahKetidakhadiran  \\\n",
       "212                                 0.0                   5.0   \n",
       "\n",
       "    TingkatPendidikan AlasanResign TanggalLahir TanggalHiring TanggalResign  \\\n",
       "212            Doktor   leadership   1986-07-20    2011-05-16    2018-06-08   \n",
       "\n",
       "     resign  umur  LamaBekerja  StatusPernikahan_Belum_menikah  \\\n",
       "212       1  34.0          7.0                               0   \n",
       "\n",
       "     StatusPernikahan_Bercerai  StatusPernikahan_Lainnya  \\\n",
       "212                          0                         0   \n",
       "\n",
       "     StatusPernikahan_Menikah  StatusKepegawaian_FullTime  \\\n",
       "212                         1                           0   \n",
       "\n",
       "     StatusKepegawaian_Internship  StatusKepegawaian_Outsource  \\\n",
       "212                             1                            0   \n",
       "\n",
       "     Pekerjaan_Data Analyst  Pekerjaan_Data Engineer  \\\n",
       "212                       0                        0   \n",
       "\n",
       "     Pekerjaan_DevOps Engineer  Pekerjaan_Digital Product Manager  \\\n",
       "212                          0                                  0   \n",
       "\n",
       "     Pekerjaan_Machine Learning Engineer  Pekerjaan_Product Design (UI & UX)  \\\n",
       "212                                    0                                   0   \n",
       "\n",
       "     Pekerjaan_Product Design (UX Researcher)  Pekerjaan_Product Manager  \\\n",
       "212                                         0                          0   \n",
       "\n",
       "     Pekerjaan_Scrum Master  Pekerjaan_Software Architect  \\\n",
       "212                       0                             0   \n",
       "\n",
       "     Pekerjaan_Software Engineer (Android)  \\\n",
       "212                                      0   \n",
       "\n",
       "     Pekerjaan_Software Engineer (Back End)  \\\n",
       "212                                       1   \n",
       "\n",
       "     Pekerjaan_Software Engineer (Front End)  \\\n",
       "212                                        0   \n",
       "\n",
       "     Pekerjaan_Software Engineer (iOS)  \n",
       "212                                  0  "
      ]
     },
     "execution_count": 69,
     "metadata": {},
     "output_type": "execute_result"
    }
   ],
   "source": [
    "data_pre.sample(1)"
   ]
  },
  {
   "attachments": {},
   "cell_type": "markdown",
   "metadata": {},
   "source": [
    "#### Label Encoding"
   ]
  },
  {
   "cell_type": "code",
   "execution_count": 70,
   "metadata": {},
   "outputs": [],
   "source": [
    "from sklearn.preprocessing import LabelEncoder"
   ]
  },
  {
   "cell_type": "code",
   "execution_count": 71,
   "metadata": {},
   "outputs": [],
   "source": [
    "# Label Encoding dengan LabelEncoder\n",
    "le = LabelEncoder()\n",
    "to_label = ['JenisKelamin','JenjangKarir']\n",
    "for label in to_label:\n",
    "    data_pre[label]=data_pre[[label]].apply(le.fit_transform)"
   ]
  },
  {
   "cell_type": "code",
   "execution_count": 72,
   "metadata": {},
   "outputs": [
    {
     "data": {
      "text/plain": [
       "Biasa            84\n",
       "Bagus            74\n",
       "Sangat_bagus     72\n",
       "Kurang           31\n",
       "Sangat_kurang    24\n",
       "Name: PerformancePegawai, dtype: int64"
      ]
     },
     "execution_count": 72,
     "metadata": {},
     "output_type": "execute_result"
    }
   ],
   "source": [
    "data_pre['PerformancePegawai'].value_counts()"
   ]
  },
  {
   "cell_type": "code",
   "execution_count": 73,
   "metadata": {},
   "outputs": [],
   "source": [
    "# Label Encoding dengan replace\n",
    "data_pre['PerformancePegawai'] = data_pre['PerformancePegawai'].replace({'Sangat_kurang':0,\n",
    "                                                                         'Kurang':1,\n",
    "                                                                         'Biasa':2,\n",
    "                                                                         'Bagus':3,\n",
    "                                                                         'Sangat_bagus':4})"
   ]
  },
  {
   "cell_type": "code",
   "execution_count": 74,
   "metadata": {},
   "outputs": [],
   "source": [
    "# Label Encoding dengan replace\n",
    "data_pre['TingkatPendidikan'] = data_pre['TingkatPendidikan'].replace({'Sarjana':0,\n",
    "                                                                       'Magister':1,\n",
    "                                                                       'Doktor':2})"
   ]
  },
  {
   "cell_type": "code",
   "execution_count": 75,
   "metadata": {},
   "outputs": [],
   "source": [
    "data_pre = data_pre.drop(columns=['AlasanResign','TanggalLahir','TanggalHiring','TanggalResign'])"
   ]
  },
  {
   "cell_type": "code",
   "execution_count": 76,
   "metadata": {},
   "outputs": [
    {
     "data": {
      "application/vnd.plotly.v1+json": {
       "config": {
        "plotlyServerURL": "https://plot.ly"
       },
       "data": [
        {
         "coloraxis": "coloraxis",
         "hovertemplate": "x: %{x}<br>y: %{y}<br>color: %{z}<extra></extra>",
         "name": "0",
         "texttemplate": "%{z:.2f}",
         "type": "heatmap",
         "x": [
          "JenisKelamin",
          "JenjangKarir",
          "PerformancePegawai",
          "SkorSurveyEngagement",
          "SkorKepuasanPegawai",
          "JumlahKeikutsertaanProjek",
          "JumlahKeterlambatanSebulanTerakhir",
          "JumlahKetidakhadiran",
          "TingkatPendidikan",
          "resign",
          "umur",
          "LamaBekerja",
          "StatusPernikahan_Belum_menikah",
          "StatusPernikahan_Bercerai",
          "StatusPernikahan_Lainnya",
          "StatusPernikahan_Menikah",
          "StatusKepegawaian_FullTime",
          "StatusKepegawaian_Internship",
          "StatusKepegawaian_Outsource",
          "Pekerjaan_Data Analyst",
          "Pekerjaan_Data Engineer",
          "Pekerjaan_DevOps Engineer",
          "Pekerjaan_Digital Product Manager",
          "Pekerjaan_Machine Learning Engineer",
          "Pekerjaan_Product Design (UI & UX)",
          "Pekerjaan_Product Design (UX Researcher)",
          "Pekerjaan_Product Manager",
          "Pekerjaan_Scrum Master",
          "Pekerjaan_Software Architect",
          "Pekerjaan_Software Engineer (Android)",
          "Pekerjaan_Software Engineer (Back End)",
          "Pekerjaan_Software Engineer (Front End)",
          "Pekerjaan_Software Engineer (iOS)"
         ],
         "xaxis": "x",
         "y": [
          "JenisKelamin",
          "JenjangKarir",
          "PerformancePegawai",
          "SkorSurveyEngagement",
          "SkorKepuasanPegawai",
          "JumlahKeikutsertaanProjek",
          "JumlahKeterlambatanSebulanTerakhir",
          "JumlahKetidakhadiran",
          "TingkatPendidikan",
          "resign",
          "umur",
          "LamaBekerja",
          "StatusPernikahan_Belum_menikah",
          "StatusPernikahan_Bercerai",
          "StatusPernikahan_Lainnya",
          "StatusPernikahan_Menikah",
          "StatusKepegawaian_FullTime",
          "StatusKepegawaian_Internship",
          "StatusKepegawaian_Outsource",
          "Pekerjaan_Data Analyst",
          "Pekerjaan_Data Engineer",
          "Pekerjaan_DevOps Engineer",
          "Pekerjaan_Digital Product Manager",
          "Pekerjaan_Machine Learning Engineer",
          "Pekerjaan_Product Design (UI & UX)",
          "Pekerjaan_Product Design (UX Researcher)",
          "Pekerjaan_Product Manager",
          "Pekerjaan_Scrum Master",
          "Pekerjaan_Software Architect",
          "Pekerjaan_Software Engineer (Android)",
          "Pekerjaan_Software Engineer (Back End)",
          "Pekerjaan_Software Engineer (Front End)",
          "Pekerjaan_Software Engineer (iOS)"
         ],
         "yaxis": "y",
         "z": [
          [
           1,
           0.10701095979492488,
           -0.026152147712115072,
           0.07127158963048,
           0.09310120896071122,
           -0.09066790071832602,
           -0.12440680457131505,
           0.0069539159151458035,
           -0.0017361529748723859,
           -0.02111736811044146,
           0.02577488616492038,
           0.0274845277426717,
           -0.09756768666920165,
           0.015118632675603065,
           0.08294392310286743,
           0.02824022574116741,
           -0.09036988991874631,
           -0.01907773266226458,
           0.09753428933010881,
           0.01005037815259212,
           0.008131156281817481,
           0.01832497904723098,
           0.07169195623289859,
           -0.013442241793668479,
           0.028284733042791606,
           -0.06958124241327293,
           -0.08528262628973884,
           0.01832497904723093,
           0.05060453993692579,
           -0.04848811378764273,
           0.027707132515033473,
           -0.0017296275672219676,
           0.01832497904723098
          ],
          [
           0.10701095979492488,
           1,
           -0.04724789644571423,
           0.029625465952531394,
           0.06475093578932371,
           -0.04054946748885295,
           -0.01197745436983106,
           -0.017226147769073923,
           0.027373812686624113,
           0.036312924788624704,
           0.027589395584101603,
           -0.005526860303045169,
           0.047657848054281825,
           0.009796212840790018,
           -0.09041643545265095,
           0.01829843134418221,
           0.037723407374931614,
           0.02678332908758606,
           -0.04596214861268625,
           -0.0553537471158232,
           -0.06980939649503275,
           -0.03324659821587244,
           -0.06387322228713603,
           -0.06387322228713602,
           -0.1309090723524608,
           -0.045085602318189526,
           0.06139934717068206,
           -0.033246598215872426,
           0.03278952895868328,
           0.05149090179196784,
           0.08427940920872108,
           0.020173014494931234,
           0.011873785077097273
          ],
          [
           -0.026152147712115072,
           -0.04724789644571423,
           1,
           -0.010959182983397068,
           0.08719391944408914,
           0.007671401075195096,
           0.007809134509596016,
           0.10204545460968531,
           -0.06627934508806568,
           0.028631792218325326,
           -0.07022152068700055,
           0.0029765924602598525,
           0.07012594422667437,
           -0.007177085366678671,
           -0.14211446957162135,
           0.05584192664536896,
           0.01435130373150446,
           0.0748111605009117,
           -0.03550617749047579,
           0.11224770301804834,
           0.033298049812096546,
           -0.0979403703829261,
           -0.06830145417923511,
           0.03542455527590869,
           -0.0489026815703114,
           0.025004804114759843,
           0.03301073646942748,
           -0.0696597163209868,
           0.07381555187302374,
           -0.12165499307871676,
           -0.012836330788263024,
           0.055868131823626994,
           0.043462899926769626
          ],
          [
           0.07127158963048,
           0.029625465952531394,
           -0.010959182983397068,
           1,
           0.07014544262012676,
           -0.011565241243045676,
           -0.49867368248667543,
           0.0014495887602438355,
           0.06642961206491423,
           -0.038734213008959906,
           0.05608373137687312,
           0.027429585784364982,
           -0.028776032398513767,
           -0.050452753325875434,
           0.08960879068003058,
           -0.0032304881703185784,
           -0.06221126559505912,
           -0.01354569388730655,
           0.06725830466455986,
           0.14272067684014286,
           -0.09020836940276722,
           -0.011710097051546953,
           0.04082859370489184,
           -0.009544346580364472,
           0.10184902959450412,
           -0.006736979893934931,
           -0.028594432710451714,
           -0.011710097051546797,
           0.06437558565315689,
           0.10184902959450408,
           -0.08069489314197889,
           -0.03622839654965104,
           -0.13531667704009756
          ],
          [
           0.09310120896071122,
           0.06475093578932371,
           0.08719391944408914,
           0.07014544262012676,
           1,
           0.04037139255602814,
           -0.20356107909814838,
           0.060050699877945195,
           0.10846592327666076,
           -0.02898102694894554,
           -0.0450258286284645,
           0.006646946552025277,
           -0.04639011441571673,
           -0.003762196649577697,
           0.06361827184223619,
           0.000327550165350717,
           0.04466650871423675,
           -0.038824068232769515,
           -0.03475154950402115,
           0.006358440723833228,
           -0.025399644679322757,
           -0.05008359071457742,
           0.013039967358335416,
           0.09383106946976132,
           -0.08653283680095544,
           -0.04782286862485564,
           -0.0748370824748901,
           0.015998924811601062,
           0.00920440149265008,
           0.02275161735682426,
           0.08043912694562297,
           -0.012009511759041296,
           0.015998924811601173
          ],
          [
           -0.09066790071832602,
           -0.04054946748885295,
           0.007671401075195096,
           -0.011565241243045676,
           0.04037139255602814,
           1,
           -0.08053791796358452,
           -0.05317577603100933,
           -0.06035318922790006,
           0.05776020155897658,
           -0.104024041766901,
           -0.2764351249584761,
           0.004068094925193941,
           0.08959701211292992,
           -0.08864782489470657,
           -0.003265542240161849,
           -0.04276659609756706,
           -0.06066617231458249,
           0.06055689603062301,
           0.01815890140168371,
           -0.05509227972374426,
           0.21931633428140557,
           -0.04274561193332985,
           0.08646271504696254,
           -0.043219816501815736,
           -0.03017245085601236,
           0.015066344603957676,
           -0.05244521037164043,
           -0.03017245085601237,
           0.0011681031486977299,
           -0.013349576299849364,
           -0.004312596764975505,
           0.053239834771210755
          ],
          [
           -0.12440680457131505,
           -0.01197745436983106,
           0.007809134509596016,
           -0.49867368248667543,
           -0.20356107909814838,
           -0.08053791796358452,
           1,
           0.00888506450071351,
           -0.0634315581233688,
           0.023781565923966262,
           -0.0519242898062568,
           0.004925657212361489,
           0.12018641152041876,
           -0.04049410455567747,
           -0.05827767681936043,
           -0.05670516243465661,
           -0.03847826569379135,
           0.10163823244579977,
           0.010920536344523703,
           -0.07655355608703536,
           -0.002099487334981051,
           -0.033499451423307056,
           -0.02730381936449322,
           -0.027303819364493224,
           -0.01919697582252536,
           -0.01927269515386804,
           0.03441677745691702,
           -0.03349945142330695,
           -0.01927269515386805,
           -0.03901993998708968,
           -0.02905342950613797,
           0.06111648252869049,
           0.26316941923225096
          ],
          [
           0.0069539159151458035,
           -0.017226147769073923,
           0.10204545460968531,
           0.0014495887602438355,
           0.060050699877945195,
           -0.05317577603100933,
           0.00888506450071351,
           1,
           -0.06672874128275538,
           -0.011997427566311263,
           -0.008490470200533633,
           0.04921870245814252,
           -0.013209515100851056,
           0.04093076006064583,
           -0.0504768884020927,
           0.02703439712320204,
           0.09383234765671902,
           -0.06751761460165563,
           -0.07691927171758768,
           -0.015967059171382813,
           -0.008372769297891275,
           0.016613782645331577,
           0.08166849488802098,
           -0.08063498345994428,
           0.010898768326293487,
           -0.027215382623885308,
           0.017968516032898795,
           -0.07680639702701582,
           -0.04418777660158179,
           -0.016205498453755653,
           -0.05427485100634581,
           0.09200660654592507,
           -0.007970475163180939
          ],
          [
           -0.0017361529748723859,
           0.027373812686624113,
           -0.06627934508806568,
           0.06642961206491423,
           0.10846592327666076,
           -0.06035318922790006,
           -0.0634315581233688,
           -0.06672874128275538,
           1,
           0.08003810877053365,
           -0.006563207976192629,
           -0.06464172298490399,
           0.06478608917583144,
           -0.03310780413944046,
           0.04025316859883361,
           -0.08916804804626124,
           -0.17457692025741484,
           0.05100766796573221,
           0.1639157442822101,
           -0.07549598039607724,
           -0.05124446013922096,
           -0.022397736688676007,
           -0.0616117605286425,
           -0.061611760528642506,
           -0.046300530649101265,
           0.04832147240444777,
           -0.0012064448434936652,
           -0.022397736688675982,
           -0.04348932516400298,
           0.0709941469952886,
           0.0823109818148711,
           -0.007927650842109883,
           -0.022397736688676
          ],
          [
           -0.02111736811044146,
           0.036312924788624704,
           0.028631792218325326,
           -0.038734213008959906,
           -0.02898102694894554,
           0.05776020155897658,
           0.023781565923966262,
           -0.011997427566311263,
           0.08003810877053365,
           1,
           -0.06490278724746583,
           -0.611771128903388,
           0.0001609285228818625,
           -0.007131905264493842,
           -0.011298733790468545,
           0.01735864133548601,
           0.024221672938449925,
           0.11522124995570707,
           -0.056846822756408226,
           0.08260937904561347,
           -0.002179378643115406,
           -0.06836961028537332,
           -0.05572483757014151,
           -0.05572483757014151,
           0.045919831214429496,
           -0.039333977149906475,
           0.026075215162896136,
           -0.06836961028537335,
           -0.039333977149906475,
           -0.008952923066964222,
           -0.08267937333868554,
           0.09383038300823714,
           -0.06836961028537332
          ],
          [
           0.02577488616492038,
           0.027589395584101603,
           -0.07022152068700055,
           0.05608373137687312,
           -0.0450258286284645,
           -0.104024041766901,
           -0.0519242898062568,
           -0.008490470200533633,
           -0.006563207976192629,
           -0.06490278724746583,
           1,
           0.05137756867387396,
           -0.02885326998078775,
           -0.056690016083861185,
           -0.0047304384610508095,
           0.09369845165146977,
           0.047228101417813015,
           -0.08174763717377677,
           -0.025395674851780535,
           -0.08585811281280652,
           0.1495480773732093,
           -0.032925630779401215,
           -0.003171844015344705,
           0.03469100601076026,
           0.014166846439273054,
           0.0011018573112881848,
           -0.08039982330004608,
           0.09869539325211582,
           0.03450923323864187,
           0.038352318954522166,
           0.031684945031188176,
           -0.07425729984655423,
           0.013528848290546076
          ],
          [
           0.0274845277426717,
           -0.005526860303045169,
           0.0029765924602598525,
           0.027429585784364982,
           0.006646946552025277,
           -0.2764351249584761,
           0.004925657212361489,
           0.04921870245814252,
           -0.06464172298490399,
           -0.611771128903388,
           0.05137756867387396,
           1,
           0.04934228586980851,
           -0.007733605902608275,
           -0.008336038583631782,
           -0.04662317518637883,
           -0.00595296284466845,
           0.018828113614657038,
           0.000824013173258936,
           -0.06376420187627073,
           0.06115452717804321,
           -0.03039188486445238,
           0.005658889672342616,
           -0.009556049541031226,
           -0.06191130037721411,
           0.003994388261528599,
           0.04376746870478218,
           0.09405764367533125,
           0.0039943882615286665,
           -0.0481906778208331,
           0.01638658846136259,
           0.03290004066140612,
           -0.05528179057240915
          ],
          [
           -0.09756768666920165,
           0.047657848054281825,
           0.07012594422667437,
           -0.028776032398513767,
           -0.04639011441571673,
           0.004068094925193941,
           0.12018641152041876,
           -0.013209515100851056,
           0.06478608917583144,
           0.0001609285228818625,
           -0.02885326998078775,
           0.04934228586980851,
           1,
           -0.40986019075847013,
           -0.43057860536484516,
           -0.45609106018494533,
           -0.06255503043552096,
           -0.05019017813529629,
           0.07782783464349131,
           0.00331892726507386,
           0.053702887335319346,
           -0.026142226054315012,
           -0.07753487078943658,
           0.006806496290675743,
           0.024552018309394217,
           -0.05472882414621465,
           -0.053926555010429436,
           -0.09512865591986866,
           -0.05472882414621466,
           -0.0008006092926976317,
           0.04198696240068412,
           -0.02661667779977914,
           0.11183063367679218
          ],
          [
           0.015118632675603065,
           0.009796212840790018,
           -0.007177085366678671,
           -0.050452753325875434,
           -0.003762196649577697,
           0.08959701211292992,
           -0.04049410455567747,
           0.04093076006064583,
           -0.03310780413944046,
           -0.007131905264493842,
           -0.056690016083861185,
           -0.007733605902608275,
           -0.40986019075847013,
           1,
           -0.20746154593151234,
           -0.21975396652914264,
           -0.010019307251185534,
           -0.053019702454377524,
           0.02500896318843808,
           -0.02005713277127293,
           -0.08474110124300822,
           0.046810136018461845,
           0.07590803412404508,
           -0.03735788066837815,
           0.0014335668971325814,
           -0.026369462678636334,
           0.08768899002016499,
           0.046810136018461866,
           -0.026369462678636338,
           -0.06666086071666158,
           -0.018977447801311307,
           0.050088694529691856,
           -0.04583492485141056
          ],
          [
           0.08294392310286743,
           -0.09041643545265095,
           -0.14211446957162135,
           0.08960879068003058,
           0.06361827184223619,
           -0.08864782489470657,
           -0.05827767681936043,
           -0.0504768884020927,
           0.04025316859883361,
           -0.011298733790468545,
           -0.0047304384610508095,
           -0.008336038583631782,
           -0.43057860536484516,
           -0.20746154593151234,
           1,
           -0.23086251986661327,
           0.011192574461889548,
           0.02211611535538978,
           -0.017588343465737833,
           -0.028048786905411176,
           0.10997176257738536,
           0.04154279695229966,
           -0.03924631989217942,
           0.07041251510067484,
           -0.009715393486061506,
           -0.02770243785661671,
           -0.0016274077190452816,
           0.1312374721902194,
           -0.02770243785661672,
           0.023247548698789967,
           -0.12253132510440964,
           0.06973270535926239,
           -0.048151878285620044
          ],
          [
           0.02824022574116741,
           0.01829843134418221,
           0.05584192664536896,
           -0.0032304881703185784,
           0.000327550165350717,
           -0.003265542240161849,
           -0.05670516243465661,
           0.02703439712320204,
           -0.08916804804626124,
           0.01735864133548601,
           0.09369845165146977,
           -0.04662317518637883,
           -0.45609106018494533,
           -0.21975396652914264,
           -0.23086251986661327,
           1,
           0.07702004588992538,
           0.09113415864478466,
           -0.10400577954752652,
           0.04162765901261723,
           -0.09429961625607015,
           -0.051004952274802326,
           0.06421346906641894,
           -0.04157172563837525,
           -0.022761062861923975,
           0.11999538891207841,
           -0.012690189924161483,
           -0.051004952274802416,
           0.11999538891207841,
           0.040836024546393034,
           0.08326487595438808,
           -0.08066600980203918,
           -0.05100495227480235
          ],
          [
           -0.09036988991874631,
           0.037723407374931614,
           0.01435130373150446,
           -0.06221126559505912,
           0.04466650871423675,
           -0.04276659609756706,
           -0.03847826569379135,
           0.09383234765671902,
           -0.17457692025741484,
           0.024221672938449925,
           0.047228101417813015,
           -0.00595296284466845,
           -0.06255503043552096,
           -0.010019307251185534,
           0.011192574461889548,
           0.07702004588992538,
           1,
           -0.20909663591748232,
           -0.9620997909924881,
           -0.011527808354084705,
           -0.02409334510116222,
           0.058852628364527336,
           0.04796799546612011,
           0.047967995466120156,
           -0.003089776958905561,
           -0.10399466013222078,
           0.04045616383327449,
           -0.02101879584447407,
           0.03385872655467654,
           -0.06179553917811033,
           0.029720324386231716,
           -0.010580730962172852,
           -0.021018795844474056
          ],
          [
           -0.01907773266226458,
           0.02678332908758606,
           0.0748111605009117,
           -0.01354569388730655,
           -0.038824068232769515,
           -0.06066617231458249,
           0.10163823244579977,
           -0.06751761460165563,
           0.05100766796573221,
           0.11522124995570707,
           -0.08174763717377677,
           0.018828113614657038,
           -0.05019017813529629,
           -0.053019702454377524,
           0.02211611535538978,
           0.09113415864478466,
           -0.20909663591748232,
           1,
           -0.06549780502298107,
           0.10545613515239947,
           -0.022751523781008906,
           -0.012305886605924453,
           -0.01002994648367075,
           -0.01002994648367075,
           -0.03617947019917954,
           -0.00707974581903278,
           0.09589251751440264,
           -0.01230588660592446,
           -0.007079745819032779,
           -0.03617947019917952,
           -0.03251802860815337,
           0.0002419807304401607,
           -0.01230588660592445
          ],
          [
           0.09753428933010881,
           -0.04596214861268625,
           -0.03550617749047579,
           0.06725830466455986,
           -0.03475154950402115,
           0.06055689603062301,
           0.010920536344523703,
           -0.07691927171758768,
           0.1639157442822101,
           -0.056846822756408226,
           -0.025395674851780535,
           0.000824013173258936,
           0.07782783464349131,
           0.02500896318843808,
           -0.017588343465737833,
           -0.10400577954752652,
           -0.9620997909924881,
           -0.06549780502298107,
           1,
           -0.01764461683101467,
           0.030929595425785373,
           -0.056622101448870234,
           -0.04614999841228271,
           -0.0461499984122827,
           0.013241910413858526,
           0.10809134468779107,
           -0.06802259484075487,
           0.024879408212382333,
           -0.03257547374152603,
           0.07314579085750408,
           -0.02125884443660101,
           0.010729192518554883,
           0.024879408212382385
          ],
          [
           0.01005037815259212,
           -0.0553537471158232,
           0.11224770301804834,
           0.14272067684014286,
           0.006358440723833228,
           0.01815890140168371,
           -0.07655355608703536,
           -0.015967059171382813,
           -0.07549598039607724,
           0.08260937904561347,
           -0.08585811281280652,
           -0.06376420187627073,
           0.00331892726507386,
           -0.02005713277127293,
           -0.028048786905411176,
           0.04162765901261723,
           -0.011527808354084705,
           0.10545613515239947,
           -0.01764461683101467,
           1,
           -0.044946657497549516,
           -0.024310831916315754,
           -0.019814609942592137,
           -0.01981460994259214,
           -0.0714741689891863,
           -0.013986355971611485,
           -0.05936367942179962,
           -0.024310831916315754,
           -0.013986355971611486,
           -0.07147416898918632,
           -0.18549006888932276,
           -0.13576444079822386,
           -0.024310831916315754
          ],
          [
           0.008131156281817481,
           -0.06980939649503275,
           0.033298049812096546,
           -0.09020836940276722,
           -0.025399644679322757,
           -0.05509227972374426,
           -0.002099487334981051,
           -0.008372769297891275,
           -0.05124446013922096,
           -0.002179378643115406,
           0.1495480773732093,
           0.06115452717804321,
           0.053702887335319346,
           -0.08474110124300822,
           0.10997176257738536,
           -0.09429961625607015,
           -0.02409334510116222,
           -0.022751523781008906,
           0.030929595425785373,
           -0.044946657497549516,
           1,
           -0.01966843144121651,
           -0.01603080875767009,
           -0.016030808757670094,
           -0.057825449882620686,
           -0.011315519126906894,
           -0.048027581401787194,
           -0.0196684314412165,
           -0.011315519126906894,
           -0.0578254498826207,
           -0.15006885472017448,
           -0.10983884077627375,
           -0.019668431441216504
          ],
          [
           0.01832497904723098,
           -0.03324659821587244,
           -0.0979403703829261,
           -0.011710097051546953,
           -0.05008359071457742,
           0.21931633428140557,
           -0.033499451423307056,
           0.016613782645331577,
           -0.022397736688676007,
           -0.06836961028537332,
           -0.032925630779401215,
           -0.03039188486445238,
           -0.026142226054315012,
           0.046810136018461845,
           0.04154279695229966,
           -0.051004952274802326,
           0.058852628364527336,
           -0.012305886605924453,
           -0.056622101448870234,
           -0.024310831916315754,
           -0.01966843144121651,
           1,
           -0.008670773732430893,
           -0.008670773732430893,
           -0.03127673715578023,
           -0.006120359084656906,
           -0.02597724778243362,
           -0.010638297872340432,
           -0.006120359084656904,
           -0.03127673715578021,
           -0.08116952196445483,
           -0.059409837008247986,
           -0.010638297872340427
          ],
          [
           0.07169195623289859,
           -0.06387322228713603,
           -0.06830145417923511,
           0.04082859370489184,
           0.013039967358335416,
           -0.04274561193332985,
           -0.02730381936449322,
           0.08166849488802098,
           -0.0616117605286425,
           -0.05572483757014151,
           -0.003171844015344705,
           0.005658889672342616,
           -0.07753487078943658,
           0.07590803412404508,
           -0.03924631989217942,
           0.06421346906641894,
           0.04796799546612011,
           -0.01002994648367075,
           -0.04614999841228271,
           -0.019814609942592137,
           -0.01603080875767009,
           -0.008670773732430893,
           1,
           -0.007067137809187279,
           -0.02549219003084954,
           -0.004988415385723063,
           -0.021172826745000758,
           -0.008670773732430899,
           -0.004988415385723062,
           -0.02549219003084954,
           -0.06615744053879653,
           -0.04842214989283702,
           -0.008670773732430892
          ],
          [
           -0.013442241793668479,
           -0.06387322228713602,
           0.03542455527590869,
           -0.009544346580364472,
           0.09383106946976132,
           0.08646271504696254,
           -0.027303819364493224,
           -0.08063498345994428,
           -0.061611760528642506,
           -0.05572483757014151,
           0.03469100601076026,
           -0.009556049541031226,
           0.006806496290675743,
           -0.03735788066837815,
           0.07041251510067484,
           -0.04157172563837525,
           0.047967995466120156,
           -0.01002994648367075,
           -0.0461499984122827,
           -0.01981460994259214,
           -0.016030808757670094,
           -0.008670773732430893,
           -0.007067137809187279,
           1,
           -0.02549219003084954,
           -0.004988415385723063,
           -0.021172826745000768,
           -0.008670773732430899,
           -0.004988415385723062,
           -0.025492190030849543,
           -0.06615744053879652,
           -0.04842214989283702,
           -0.008670773732430892
          ],
          [
           0.028284733042791606,
           -0.1309090723524608,
           -0.0489026815703114,
           0.10184902959450412,
           -0.08653283680095544,
           -0.043219816501815736,
           -0.01919697582252536,
           0.010898768326293487,
           -0.046300530649101265,
           0.045919831214429496,
           0.014166846439273054,
           -0.06191130037721411,
           0.024552018309394217,
           0.0014335668971325814,
           -0.009715393486061506,
           -0.022761062861923975,
           -0.003089776958905561,
           -0.03617947019917954,
           0.013241910413858526,
           -0.0714741689891863,
           -0.057825449882620686,
           -0.03127673715578023,
           -0.02549219003084954,
           -0.02549219003084954,
           1,
           -0.017993937064641738,
           -0.07637345378664455,
           -0.0312767371557802,
           -0.017993937064641738,
           -0.09195402298850575,
           -0.23863947353300277,
           -0.17466571051802335,
           -0.03127673715578022
          ],
          [
           -0.06958124241327293,
           -0.045085602318189526,
           0.025004804114759843,
           -0.006736979893934931,
           -0.04782286862485564,
           -0.03017245085601236,
           -0.01927269515386804,
           -0.027215382623885308,
           0.04832147240444777,
           -0.039333977149906475,
           0.0011018573112881848,
           0.003994388261528599,
           -0.05472882414621465,
           -0.026369462678636334,
           -0.02770243785661671,
           0.11999538891207841,
           -0.10399466013222078,
           -0.00707974581903278,
           0.10809134468779107,
           -0.013986355971611485,
           -0.011315519126906894,
           -0.006120359084656906,
           -0.004988415385723063,
           -0.004988415385723063,
           -0.017993937064641738,
           1,
           -0.014945067939202486,
           -0.00612035908465691,
           -0.0035211267605633786,
           -0.01799393706464172,
           -0.046697942388326495,
           -0.03417929635123315,
           -0.0061203590846569044
          ],
          [
           -0.08528262628973884,
           0.06139934717068206,
           0.03301073646942748,
           -0.028594432710451714,
           -0.0748370824748901,
           0.015066344603957676,
           0.03441677745691702,
           0.017968516032898795,
           -0.0012064448434936652,
           0.026075215162896136,
           -0.08039982330004608,
           0.04376746870478218,
           -0.053926555010429436,
           0.08768899002016499,
           -0.0016274077190452816,
           -0.012690189924161483,
           0.04045616383327449,
           0.09589251751440264,
           -0.06802259484075487,
           -0.05936367942179962,
           -0.048027581401787194,
           -0.02597724778243362,
           -0.021172826745000758,
           -0.021172826745000768,
           -0.07637345378664455,
           -0.014945067939202486,
           1,
           -0.02597724778243364,
           -0.014945067939202502,
           -0.0763734537866446,
           -0.19820471373851903,
           -0.14507058132766174,
           -0.025977247782433616
          ],
          [
           0.01832497904723093,
           -0.033246598215872426,
           -0.0696597163209868,
           -0.011710097051546797,
           0.015998924811601062,
           -0.05244521037164043,
           -0.03349945142330695,
           -0.07680639702701582,
           -0.022397736688675982,
           -0.06836961028537335,
           0.09869539325211582,
           0.09405764367533125,
           -0.09512865591986866,
           0.046810136018461866,
           0.1312374721902194,
           -0.051004952274802416,
           -0.02101879584447407,
           -0.01230588660592446,
           0.024879408212382333,
           -0.024310831916315754,
           -0.0196684314412165,
           -0.010638297872340432,
           -0.008670773732430899,
           -0.008670773732430899,
           -0.0312767371557802,
           -0.00612035908465691,
           -0.02597724778243364,
           1,
           -0.0061203590846569105,
           -0.0312767371557802,
           -0.08116952196445482,
           -0.059409837008247944,
           -0.010638297872340432
          ],
          [
           0.05060453993692579,
           0.03278952895868328,
           0.07381555187302374,
           0.06437558565315689,
           0.00920440149265008,
           -0.03017245085601237,
           -0.01927269515386805,
           -0.04418777660158179,
           -0.04348932516400298,
           -0.039333977149906475,
           0.03450923323864187,
           0.0039943882615286665,
           -0.05472882414621466,
           -0.026369462678636338,
           -0.02770243785661672,
           0.11999538891207841,
           0.03385872655467654,
           -0.007079745819032779,
           -0.03257547374152603,
           -0.013986355971611486,
           -0.011315519126906894,
           -0.006120359084656904,
           -0.004988415385723062,
           -0.004988415385723062,
           -0.017993937064641738,
           -0.0035211267605633786,
           -0.014945067939202502,
           -0.0061203590846569105,
           1,
           -0.017993937064641738,
           -0.04669794238832648,
           -0.034179296351233145,
           -0.006120359084656902
          ],
          [
           -0.04848811378764273,
           0.05149090179196784,
           -0.12165499307871676,
           0.10184902959450408,
           0.02275161735682426,
           0.0011681031486977299,
           -0.03901993998708968,
           -0.016205498453755653,
           0.0709941469952886,
           -0.008952923066964222,
           0.038352318954522166,
           -0.0481906778208331,
           -0.0008006092926976317,
           -0.06666086071666158,
           0.023247548698789967,
           0.040836024546393034,
           -0.06179553917811033,
           -0.03617947019917952,
           0.07314579085750408,
           -0.07147416898918632,
           -0.0578254498826207,
           -0.03127673715578021,
           -0.02549219003084954,
           -0.025492190030849543,
           -0.09195402298850575,
           -0.01799393706464172,
           -0.0763734537866446,
           -0.0312767371557802,
           -0.017993937064641738,
           1,
           -0.23863947353300258,
           -0.17466571051802332,
           -0.03127673715578021
          ],
          [
           0.027707132515033473,
           0.08427940920872108,
           -0.012836330788263024,
           -0.08069489314197889,
           0.08043912694562297,
           -0.013349576299849364,
           -0.02905342950613797,
           -0.05427485100634581,
           0.0823109818148711,
           -0.08267937333868554,
           0.031684945031188176,
           0.01638658846136259,
           0.04198696240068412,
           -0.018977447801311307,
           -0.12253132510440964,
           0.08326487595438808,
           0.029720324386231716,
           -0.03251802860815337,
           -0.02125884443660101,
           -0.18549006888932276,
           -0.15006885472017448,
           -0.08116952196445483,
           -0.06615744053879653,
           -0.06615744053879652,
           -0.23863947353300277,
           -0.046697942388326495,
           -0.19820471373851903,
           -0.08116952196445482,
           -0.04669794238832648,
           -0.23863947353300258,
           1,
           -0.4532931985748925,
           -0.08116952196445486
          ],
          [
           -0.0017296275672219676,
           0.020173014494931234,
           0.055868131823626994,
           -0.03622839654965104,
           -0.012009511759041296,
           -0.004312596764975505,
           0.06111648252869049,
           0.09200660654592507,
           -0.007927650842109883,
           0.09383038300823714,
           -0.07425729984655423,
           0.03290004066140612,
           -0.02661667779977914,
           0.050088694529691856,
           0.06973270535926239,
           -0.08066600980203918,
           -0.010580730962172852,
           0.0002419807304401607,
           0.010729192518554883,
           -0.13576444079822386,
           -0.10983884077627375,
           -0.059409837008247986,
           -0.04842214989283702,
           -0.04842214989283702,
           -0.17466571051802335,
           -0.03417929635123315,
           -0.14507058132766174,
           -0.059409837008247944,
           -0.034179296351233145,
           -0.17466571051802332,
           -0.4532931985748925,
           1,
           -0.059409837008247965
          ],
          [
           0.01832497904723098,
           0.011873785077097273,
           0.043462899926769626,
           -0.13531667704009756,
           0.015998924811601173,
           0.053239834771210755,
           0.26316941923225096,
           -0.007970475163180939,
           -0.022397736688676,
           -0.06836961028537332,
           0.013528848290546076,
           -0.05528179057240915,
           0.11183063367679218,
           -0.04583492485141056,
           -0.048151878285620044,
           -0.05100495227480235,
           -0.021018795844474056,
           -0.01230588660592445,
           0.024879408212382385,
           -0.024310831916315754,
           -0.019668431441216504,
           -0.010638297872340427,
           -0.008670773732430892,
           -0.008670773732430892,
           -0.03127673715578022,
           -0.0061203590846569044,
           -0.025977247782433616,
           -0.010638297872340432,
           -0.006120359084656902,
           -0.03127673715578021,
           -0.08116952196445486,
           -0.059409837008247965,
           1
          ]
         ]
        }
       ],
       "layout": {
        "coloraxis": {
         "colorscale": [
          [
           0,
           "rgb(247,244,249)"
          ],
          [
           0.125,
           "rgb(231,225,239)"
          ],
          [
           0.25,
           "rgb(212,185,218)"
          ],
          [
           0.375,
           "rgb(201,148,199)"
          ],
          [
           0.5,
           "rgb(223,101,176)"
          ],
          [
           0.625,
           "rgb(231,41,138)"
          ],
          [
           0.75,
           "rgb(206,18,86)"
          ],
          [
           0.875,
           "rgb(152,0,67)"
          ],
          [
           1,
           "rgb(103,0,31)"
          ]
         ]
        },
        "height": 900,
        "margin": {
         "t": 60
        },
        "template": {
         "data": {
          "bar": [
           {
            "error_x": {
             "color": "#f2f5fa"
            },
            "error_y": {
             "color": "#f2f5fa"
            },
            "marker": {
             "line": {
              "color": "rgb(17,17,17)",
              "width": 0.5
             },
             "pattern": {
              "fillmode": "overlay",
              "size": 10,
              "solidity": 0.2
             }
            },
            "type": "bar"
           }
          ],
          "barpolar": [
           {
            "marker": {
             "line": {
              "color": "rgb(17,17,17)",
              "width": 0.5
             },
             "pattern": {
              "fillmode": "overlay",
              "size": 10,
              "solidity": 0.2
             }
            },
            "type": "barpolar"
           }
          ],
          "carpet": [
           {
            "aaxis": {
             "endlinecolor": "#A2B1C6",
             "gridcolor": "#506784",
             "linecolor": "#506784",
             "minorgridcolor": "#506784",
             "startlinecolor": "#A2B1C6"
            },
            "baxis": {
             "endlinecolor": "#A2B1C6",
             "gridcolor": "#506784",
             "linecolor": "#506784",
             "minorgridcolor": "#506784",
             "startlinecolor": "#A2B1C6"
            },
            "type": "carpet"
           }
          ],
          "choropleth": [
           {
            "colorbar": {
             "outlinewidth": 0,
             "ticks": ""
            },
            "type": "choropleth"
           }
          ],
          "contour": [
           {
            "colorbar": {
             "outlinewidth": 0,
             "ticks": ""
            },
            "colorscale": [
             [
              0,
              "#0d0887"
             ],
             [
              0.1111111111111111,
              "#46039f"
             ],
             [
              0.2222222222222222,
              "#7201a8"
             ],
             [
              0.3333333333333333,
              "#9c179e"
             ],
             [
              0.4444444444444444,
              "#bd3786"
             ],
             [
              0.5555555555555556,
              "#d8576b"
             ],
             [
              0.6666666666666666,
              "#ed7953"
             ],
             [
              0.7777777777777778,
              "#fb9f3a"
             ],
             [
              0.8888888888888888,
              "#fdca26"
             ],
             [
              1,
              "#f0f921"
             ]
            ],
            "type": "contour"
           }
          ],
          "contourcarpet": [
           {
            "colorbar": {
             "outlinewidth": 0,
             "ticks": ""
            },
            "type": "contourcarpet"
           }
          ],
          "heatmap": [
           {
            "colorbar": {
             "outlinewidth": 0,
             "ticks": ""
            },
            "colorscale": [
             [
              0,
              "#0d0887"
             ],
             [
              0.1111111111111111,
              "#46039f"
             ],
             [
              0.2222222222222222,
              "#7201a8"
             ],
             [
              0.3333333333333333,
              "#9c179e"
             ],
             [
              0.4444444444444444,
              "#bd3786"
             ],
             [
              0.5555555555555556,
              "#d8576b"
             ],
             [
              0.6666666666666666,
              "#ed7953"
             ],
             [
              0.7777777777777778,
              "#fb9f3a"
             ],
             [
              0.8888888888888888,
              "#fdca26"
             ],
             [
              1,
              "#f0f921"
             ]
            ],
            "type": "heatmap"
           }
          ],
          "heatmapgl": [
           {
            "colorbar": {
             "outlinewidth": 0,
             "ticks": ""
            },
            "colorscale": [
             [
              0,
              "#0d0887"
             ],
             [
              0.1111111111111111,
              "#46039f"
             ],
             [
              0.2222222222222222,
              "#7201a8"
             ],
             [
              0.3333333333333333,
              "#9c179e"
             ],
             [
              0.4444444444444444,
              "#bd3786"
             ],
             [
              0.5555555555555556,
              "#d8576b"
             ],
             [
              0.6666666666666666,
              "#ed7953"
             ],
             [
              0.7777777777777778,
              "#fb9f3a"
             ],
             [
              0.8888888888888888,
              "#fdca26"
             ],
             [
              1,
              "#f0f921"
             ]
            ],
            "type": "heatmapgl"
           }
          ],
          "histogram": [
           {
            "marker": {
             "pattern": {
              "fillmode": "overlay",
              "size": 10,
              "solidity": 0.2
             }
            },
            "type": "histogram"
           }
          ],
          "histogram2d": [
           {
            "colorbar": {
             "outlinewidth": 0,
             "ticks": ""
            },
            "colorscale": [
             [
              0,
              "#0d0887"
             ],
             [
              0.1111111111111111,
              "#46039f"
             ],
             [
              0.2222222222222222,
              "#7201a8"
             ],
             [
              0.3333333333333333,
              "#9c179e"
             ],
             [
              0.4444444444444444,
              "#bd3786"
             ],
             [
              0.5555555555555556,
              "#d8576b"
             ],
             [
              0.6666666666666666,
              "#ed7953"
             ],
             [
              0.7777777777777778,
              "#fb9f3a"
             ],
             [
              0.8888888888888888,
              "#fdca26"
             ],
             [
              1,
              "#f0f921"
             ]
            ],
            "type": "histogram2d"
           }
          ],
          "histogram2dcontour": [
           {
            "colorbar": {
             "outlinewidth": 0,
             "ticks": ""
            },
            "colorscale": [
             [
              0,
              "#0d0887"
             ],
             [
              0.1111111111111111,
              "#46039f"
             ],
             [
              0.2222222222222222,
              "#7201a8"
             ],
             [
              0.3333333333333333,
              "#9c179e"
             ],
             [
              0.4444444444444444,
              "#bd3786"
             ],
             [
              0.5555555555555556,
              "#d8576b"
             ],
             [
              0.6666666666666666,
              "#ed7953"
             ],
             [
              0.7777777777777778,
              "#fb9f3a"
             ],
             [
              0.8888888888888888,
              "#fdca26"
             ],
             [
              1,
              "#f0f921"
             ]
            ],
            "type": "histogram2dcontour"
           }
          ],
          "mesh3d": [
           {
            "colorbar": {
             "outlinewidth": 0,
             "ticks": ""
            },
            "type": "mesh3d"
           }
          ],
          "parcoords": [
           {
            "line": {
             "colorbar": {
              "outlinewidth": 0,
              "ticks": ""
             }
            },
            "type": "parcoords"
           }
          ],
          "pie": [
           {
            "automargin": true,
            "type": "pie"
           }
          ],
          "scatter": [
           {
            "marker": {
             "line": {
              "color": "#283442"
             }
            },
            "type": "scatter"
           }
          ],
          "scatter3d": [
           {
            "line": {
             "colorbar": {
              "outlinewidth": 0,
              "ticks": ""
             }
            },
            "marker": {
             "colorbar": {
              "outlinewidth": 0,
              "ticks": ""
             }
            },
            "type": "scatter3d"
           }
          ],
          "scattercarpet": [
           {
            "marker": {
             "colorbar": {
              "outlinewidth": 0,
              "ticks": ""
             }
            },
            "type": "scattercarpet"
           }
          ],
          "scattergeo": [
           {
            "marker": {
             "colorbar": {
              "outlinewidth": 0,
              "ticks": ""
             }
            },
            "type": "scattergeo"
           }
          ],
          "scattergl": [
           {
            "marker": {
             "line": {
              "color": "#283442"
             }
            },
            "type": "scattergl"
           }
          ],
          "scattermapbox": [
           {
            "marker": {
             "colorbar": {
              "outlinewidth": 0,
              "ticks": ""
             }
            },
            "type": "scattermapbox"
           }
          ],
          "scatterpolar": [
           {
            "marker": {
             "colorbar": {
              "outlinewidth": 0,
              "ticks": ""
             }
            },
            "type": "scatterpolar"
           }
          ],
          "scatterpolargl": [
           {
            "marker": {
             "colorbar": {
              "outlinewidth": 0,
              "ticks": ""
             }
            },
            "type": "scatterpolargl"
           }
          ],
          "scatterternary": [
           {
            "marker": {
             "colorbar": {
              "outlinewidth": 0,
              "ticks": ""
             }
            },
            "type": "scatterternary"
           }
          ],
          "surface": [
           {
            "colorbar": {
             "outlinewidth": 0,
             "ticks": ""
            },
            "colorscale": [
             [
              0,
              "#0d0887"
             ],
             [
              0.1111111111111111,
              "#46039f"
             ],
             [
              0.2222222222222222,
              "#7201a8"
             ],
             [
              0.3333333333333333,
              "#9c179e"
             ],
             [
              0.4444444444444444,
              "#bd3786"
             ],
             [
              0.5555555555555556,
              "#d8576b"
             ],
             [
              0.6666666666666666,
              "#ed7953"
             ],
             [
              0.7777777777777778,
              "#fb9f3a"
             ],
             [
              0.8888888888888888,
              "#fdca26"
             ],
             [
              1,
              "#f0f921"
             ]
            ],
            "type": "surface"
           }
          ],
          "table": [
           {
            "cells": {
             "fill": {
              "color": "#506784"
             },
             "line": {
              "color": "rgb(17,17,17)"
             }
            },
            "header": {
             "fill": {
              "color": "#2a3f5f"
             },
             "line": {
              "color": "rgb(17,17,17)"
             }
            },
            "type": "table"
           }
          ]
         },
         "layout": {
          "annotationdefaults": {
           "arrowcolor": "#f2f5fa",
           "arrowhead": 0,
           "arrowwidth": 1
          },
          "autotypenumbers": "strict",
          "coloraxis": {
           "colorbar": {
            "outlinewidth": 0,
            "ticks": ""
           }
          },
          "colorscale": {
           "diverging": [
            [
             0,
             "#8e0152"
            ],
            [
             0.1,
             "#c51b7d"
            ],
            [
             0.2,
             "#de77ae"
            ],
            [
             0.3,
             "#f1b6da"
            ],
            [
             0.4,
             "#fde0ef"
            ],
            [
             0.5,
             "#f7f7f7"
            ],
            [
             0.6,
             "#e6f5d0"
            ],
            [
             0.7,
             "#b8e186"
            ],
            [
             0.8,
             "#7fbc41"
            ],
            [
             0.9,
             "#4d9221"
            ],
            [
             1,
             "#276419"
            ]
           ],
           "sequential": [
            [
             0,
             "#0d0887"
            ],
            [
             0.1111111111111111,
             "#46039f"
            ],
            [
             0.2222222222222222,
             "#7201a8"
            ],
            [
             0.3333333333333333,
             "#9c179e"
            ],
            [
             0.4444444444444444,
             "#bd3786"
            ],
            [
             0.5555555555555556,
             "#d8576b"
            ],
            [
             0.6666666666666666,
             "#ed7953"
            ],
            [
             0.7777777777777778,
             "#fb9f3a"
            ],
            [
             0.8888888888888888,
             "#fdca26"
            ],
            [
             1,
             "#f0f921"
            ]
           ],
           "sequentialminus": [
            [
             0,
             "#0d0887"
            ],
            [
             0.1111111111111111,
             "#46039f"
            ],
            [
             0.2222222222222222,
             "#7201a8"
            ],
            [
             0.3333333333333333,
             "#9c179e"
            ],
            [
             0.4444444444444444,
             "#bd3786"
            ],
            [
             0.5555555555555556,
             "#d8576b"
            ],
            [
             0.6666666666666666,
             "#ed7953"
            ],
            [
             0.7777777777777778,
             "#fb9f3a"
            ],
            [
             0.8888888888888888,
             "#fdca26"
            ],
            [
             1,
             "#f0f921"
            ]
           ]
          },
          "colorway": [
           "#636efa",
           "#EF553B",
           "#00cc96",
           "#ab63fa",
           "#FFA15A",
           "#19d3f3",
           "#FF6692",
           "#B6E880",
           "#FF97FF",
           "#FECB52"
          ],
          "font": {
           "color": "#f2f5fa"
          },
          "geo": {
           "bgcolor": "rgb(17,17,17)",
           "lakecolor": "rgb(17,17,17)",
           "landcolor": "rgb(17,17,17)",
           "showlakes": true,
           "showland": true,
           "subunitcolor": "#506784"
          },
          "hoverlabel": {
           "align": "left"
          },
          "hovermode": "closest",
          "mapbox": {
           "style": "dark"
          },
          "paper_bgcolor": "rgb(17,17,17)",
          "plot_bgcolor": "rgb(17,17,17)",
          "polar": {
           "angularaxis": {
            "gridcolor": "#506784",
            "linecolor": "#506784",
            "ticks": ""
           },
           "bgcolor": "rgb(17,17,17)",
           "radialaxis": {
            "gridcolor": "#506784",
            "linecolor": "#506784",
            "ticks": ""
           }
          },
          "scene": {
           "xaxis": {
            "backgroundcolor": "rgb(17,17,17)",
            "gridcolor": "#506784",
            "gridwidth": 2,
            "linecolor": "#506784",
            "showbackground": true,
            "ticks": "",
            "zerolinecolor": "#C8D4E3"
           },
           "yaxis": {
            "backgroundcolor": "rgb(17,17,17)",
            "gridcolor": "#506784",
            "gridwidth": 2,
            "linecolor": "#506784",
            "showbackground": true,
            "ticks": "",
            "zerolinecolor": "#C8D4E3"
           },
           "zaxis": {
            "backgroundcolor": "rgb(17,17,17)",
            "gridcolor": "#506784",
            "gridwidth": 2,
            "linecolor": "#506784",
            "showbackground": true,
            "ticks": "",
            "zerolinecolor": "#C8D4E3"
           }
          },
          "shapedefaults": {
           "line": {
            "color": "#f2f5fa"
           }
          },
          "sliderdefaults": {
           "bgcolor": "#C8D4E3",
           "bordercolor": "rgb(17,17,17)",
           "borderwidth": 1,
           "tickwidth": 0
          },
          "ternary": {
           "aaxis": {
            "gridcolor": "#506784",
            "linecolor": "#506784",
            "ticks": ""
           },
           "baxis": {
            "gridcolor": "#506784",
            "linecolor": "#506784",
            "ticks": ""
           },
           "bgcolor": "rgb(17,17,17)",
           "caxis": {
            "gridcolor": "#506784",
            "linecolor": "#506784",
            "ticks": ""
           }
          },
          "title": {
           "x": 0.05
          },
          "updatemenudefaults": {
           "bgcolor": "#506784",
           "borderwidth": 0
          },
          "xaxis": {
           "automargin": true,
           "gridcolor": "#283442",
           "linecolor": "#506784",
           "ticks": "",
           "title": {
            "standoff": 15
           },
           "zerolinecolor": "#283442",
           "zerolinewidth": 2
          },
          "yaxis": {
           "automargin": true,
           "gridcolor": "#283442",
           "linecolor": "#506784",
           "ticks": "",
           "title": {
            "standoff": 15
           },
           "zerolinecolor": "#283442",
           "zerolinewidth": 2
          }
         }
        },
        "width": 900,
        "xaxis": {
         "anchor": "y",
         "constrain": "domain",
         "domain": [
          0,
          1
         ],
         "scaleanchor": "y"
        },
        "yaxis": {
         "anchor": "x",
         "autorange": "reversed",
         "constrain": "domain",
         "domain": [
          0,
          1
         ]
        }
       }
      }
     },
     "metadata": {},
     "output_type": "display_data"
    }
   ],
   "source": [
    "hm = data_pre.corr()\n",
    "fig = px.imshow(hm, text_auto=\".2f\", color_continuous_scale='PuRd',\n",
    "                template='plotly_dark',width=900,height=900)\n",
    "fig.show()"
   ]
  },
  {
   "cell_type": "code",
   "execution_count": 77,
   "metadata": {},
   "outputs": [],
   "source": [
    "corr_matrix = data_pre.corr().abs()\n",
    "upper = corr_matrix.where(np.triu(np.ones(corr_matrix.shape), k=1).astype(np.bool))\n",
    "to_drop_hicorr = [column for column in upper.columns if any(upper[column] > 0.7)]"
   ]
  },
  {
   "cell_type": "code",
   "execution_count": 78,
   "metadata": {},
   "outputs": [
    {
     "data": {
      "text/plain": [
       "['StatusKepegawaian_Outsource']"
      ]
     },
     "execution_count": 78,
     "metadata": {},
     "output_type": "execute_result"
    }
   ],
   "source": [
    "to_drop_hicorr"
   ]
  },
  {
   "cell_type": "code",
   "execution_count": 79,
   "metadata": {},
   "outputs": [],
   "source": [
    "data_pre.drop(to_drop_hicorr, axis=1, inplace=True)"
   ]
  },
  {
   "cell_type": "code",
   "execution_count": 80,
   "metadata": {},
   "outputs": [],
   "source": [
    "data_model = data_pre.copy()"
   ]
  },
  {
   "attachments": {},
   "cell_type": "markdown",
   "metadata": {},
   "source": [
    "### Train-Test Split"
   ]
  },
  {
   "cell_type": "code",
   "execution_count": 81,
   "metadata": {},
   "outputs": [],
   "source": [
    "from sklearn.model_selection import train_test_split"
   ]
  },
  {
   "cell_type": "code",
   "execution_count": 82,
   "metadata": {},
   "outputs": [],
   "source": [
    "X = data_model.drop('resign', axis=1)\n",
    "y = data_model['resign']\n",
    "\n",
    "X_train, X_test, y_train, y_test = train_test_split(X, y, test_size=0.2, random_state=42)"
   ]
  },
  {
   "cell_type": "code",
   "execution_count": 83,
   "metadata": {},
   "outputs": [
    {
     "data": {
      "text/plain": [
       "((228, 31), (57, 31))"
      ]
     },
     "execution_count": 83,
     "metadata": {},
     "output_type": "execute_result"
    }
   ],
   "source": [
    "X_train.shape, X_test.shape"
   ]
  },
  {
   "attachments": {},
   "cell_type": "markdown",
   "metadata": {},
   "source": [
    "### Scaling"
   ]
  },
  {
   "cell_type": "code",
   "execution_count": 84,
   "metadata": {},
   "outputs": [],
   "source": [
    "from sklearn.preprocessing import MinMaxScaler"
   ]
  },
  {
   "cell_type": "code",
   "execution_count": 85,
   "metadata": {},
   "outputs": [],
   "source": [
    "scaler = MinMaxScaler()\n",
    "scaler.fit(X_train)\n",
    "X_train = pd.DataFrame(scaler.transform(X_train),columns= X_train.columns)"
   ]
  },
  {
   "cell_type": "code",
   "execution_count": 86,
   "metadata": {},
   "outputs": [
    {
     "data": {
      "text/html": [
       "<div>\n",
       "<style scoped>\n",
       "    .dataframe tbody tr th:only-of-type {\n",
       "        vertical-align: middle;\n",
       "    }\n",
       "\n",
       "    .dataframe tbody tr th {\n",
       "        vertical-align: top;\n",
       "    }\n",
       "\n",
       "    .dataframe thead th {\n",
       "        text-align: right;\n",
       "    }\n",
       "</style>\n",
       "<table border=\"1\" class=\"dataframe\">\n",
       "  <thead>\n",
       "    <tr style=\"text-align: right;\">\n",
       "      <th></th>\n",
       "      <th>JenisKelamin</th>\n",
       "      <th>JenjangKarir</th>\n",
       "      <th>PerformancePegawai</th>\n",
       "      <th>SkorSurveyEngagement</th>\n",
       "      <th>SkorKepuasanPegawai</th>\n",
       "      <th>JumlahKeikutsertaanProjek</th>\n",
       "      <th>JumlahKeterlambatanSebulanTerakhir</th>\n",
       "      <th>JumlahKetidakhadiran</th>\n",
       "      <th>TingkatPendidikan</th>\n",
       "      <th>umur</th>\n",
       "      <th>LamaBekerja</th>\n",
       "      <th>StatusPernikahan_Belum_menikah</th>\n",
       "      <th>StatusPernikahan_Bercerai</th>\n",
       "      <th>StatusPernikahan_Lainnya</th>\n",
       "      <th>StatusPernikahan_Menikah</th>\n",
       "      <th>StatusKepegawaian_FullTime</th>\n",
       "      <th>StatusKepegawaian_Internship</th>\n",
       "      <th>Pekerjaan_Data Analyst</th>\n",
       "      <th>Pekerjaan_Data Engineer</th>\n",
       "      <th>Pekerjaan_DevOps Engineer</th>\n",
       "      <th>Pekerjaan_Digital Product Manager</th>\n",
       "      <th>Pekerjaan_Machine Learning Engineer</th>\n",
       "      <th>Pekerjaan_Product Design (UI &amp; UX)</th>\n",
       "      <th>Pekerjaan_Product Design (UX Researcher)</th>\n",
       "      <th>Pekerjaan_Product Manager</th>\n",
       "      <th>Pekerjaan_Scrum Master</th>\n",
       "      <th>Pekerjaan_Software Architect</th>\n",
       "      <th>Pekerjaan_Software Engineer (Android)</th>\n",
       "      <th>Pekerjaan_Software Engineer (Back End)</th>\n",
       "      <th>Pekerjaan_Software Engineer (Front End)</th>\n",
       "      <th>Pekerjaan_Software Engineer (iOS)</th>\n",
       "    </tr>\n",
       "  </thead>\n",
       "  <tbody>\n",
       "    <tr>\n",
       "      <th>0</th>\n",
       "      <td>1.0</td>\n",
       "      <td>0.0</td>\n",
       "      <td>1.00</td>\n",
       "      <td>0.25</td>\n",
       "      <td>1.0</td>\n",
       "      <td>0.000000</td>\n",
       "      <td>0.000000</td>\n",
       "      <td>0.072727</td>\n",
       "      <td>1.0</td>\n",
       "      <td>0.195122</td>\n",
       "      <td>0.333333</td>\n",
       "      <td>0.0</td>\n",
       "      <td>0.0</td>\n",
       "      <td>0.0</td>\n",
       "      <td>1.0</td>\n",
       "      <td>1.0</td>\n",
       "      <td>0.0</td>\n",
       "      <td>0.0</td>\n",
       "      <td>0.0</td>\n",
       "      <td>0.0</td>\n",
       "      <td>0.0</td>\n",
       "      <td>0.0</td>\n",
       "      <td>0.0</td>\n",
       "      <td>0.0</td>\n",
       "      <td>0.0</td>\n",
       "      <td>0.0</td>\n",
       "      <td>0.0</td>\n",
       "      <td>0.0</td>\n",
       "      <td>1.0</td>\n",
       "      <td>0.0</td>\n",
       "      <td>0.0</td>\n",
       "    </tr>\n",
       "    <tr>\n",
       "      <th>1</th>\n",
       "      <td>0.0</td>\n",
       "      <td>0.0</td>\n",
       "      <td>0.50</td>\n",
       "      <td>0.25</td>\n",
       "      <td>0.0</td>\n",
       "      <td>0.857143</td>\n",
       "      <td>0.666667</td>\n",
       "      <td>0.236364</td>\n",
       "      <td>0.5</td>\n",
       "      <td>0.121951</td>\n",
       "      <td>0.400000</td>\n",
       "      <td>0.0</td>\n",
       "      <td>1.0</td>\n",
       "      <td>0.0</td>\n",
       "      <td>0.0</td>\n",
       "      <td>1.0</td>\n",
       "      <td>0.0</td>\n",
       "      <td>0.0</td>\n",
       "      <td>0.0</td>\n",
       "      <td>0.0</td>\n",
       "      <td>0.0</td>\n",
       "      <td>0.0</td>\n",
       "      <td>0.0</td>\n",
       "      <td>0.0</td>\n",
       "      <td>1.0</td>\n",
       "      <td>0.0</td>\n",
       "      <td>0.0</td>\n",
       "      <td>0.0</td>\n",
       "      <td>0.0</td>\n",
       "      <td>0.0</td>\n",
       "      <td>0.0</td>\n",
       "    </tr>\n",
       "    <tr>\n",
       "      <th>2</th>\n",
       "      <td>1.0</td>\n",
       "      <td>0.0</td>\n",
       "      <td>1.00</td>\n",
       "      <td>0.50</td>\n",
       "      <td>1.0</td>\n",
       "      <td>1.000000</td>\n",
       "      <td>0.000000</td>\n",
       "      <td>0.036364</td>\n",
       "      <td>0.0</td>\n",
       "      <td>0.121951</td>\n",
       "      <td>0.000000</td>\n",
       "      <td>0.0</td>\n",
       "      <td>0.0</td>\n",
       "      <td>0.0</td>\n",
       "      <td>1.0</td>\n",
       "      <td>0.0</td>\n",
       "      <td>0.0</td>\n",
       "      <td>1.0</td>\n",
       "      <td>0.0</td>\n",
       "      <td>0.0</td>\n",
       "      <td>0.0</td>\n",
       "      <td>0.0</td>\n",
       "      <td>0.0</td>\n",
       "      <td>0.0</td>\n",
       "      <td>0.0</td>\n",
       "      <td>0.0</td>\n",
       "      <td>0.0</td>\n",
       "      <td>0.0</td>\n",
       "      <td>0.0</td>\n",
       "      <td>0.0</td>\n",
       "      <td>0.0</td>\n",
       "    </tr>\n",
       "    <tr>\n",
       "      <th>3</th>\n",
       "      <td>1.0</td>\n",
       "      <td>1.0</td>\n",
       "      <td>0.75</td>\n",
       "      <td>0.25</td>\n",
       "      <td>1.0</td>\n",
       "      <td>0.000000</td>\n",
       "      <td>0.000000</td>\n",
       "      <td>0.290909</td>\n",
       "      <td>0.0</td>\n",
       "      <td>0.195122</td>\n",
       "      <td>0.600000</td>\n",
       "      <td>1.0</td>\n",
       "      <td>0.0</td>\n",
       "      <td>0.0</td>\n",
       "      <td>0.0</td>\n",
       "      <td>1.0</td>\n",
       "      <td>0.0</td>\n",
       "      <td>0.0</td>\n",
       "      <td>0.0</td>\n",
       "      <td>0.0</td>\n",
       "      <td>0.0</td>\n",
       "      <td>0.0</td>\n",
       "      <td>0.0</td>\n",
       "      <td>0.0</td>\n",
       "      <td>0.0</td>\n",
       "      <td>0.0</td>\n",
       "      <td>0.0</td>\n",
       "      <td>0.0</td>\n",
       "      <td>1.0</td>\n",
       "      <td>0.0</td>\n",
       "      <td>0.0</td>\n",
       "    </tr>\n",
       "    <tr>\n",
       "      <th>4</th>\n",
       "      <td>0.0</td>\n",
       "      <td>0.0</td>\n",
       "      <td>0.25</td>\n",
       "      <td>0.50</td>\n",
       "      <td>1.0</td>\n",
       "      <td>0.000000</td>\n",
       "      <td>0.000000</td>\n",
       "      <td>0.127273</td>\n",
       "      <td>0.0</td>\n",
       "      <td>0.414634</td>\n",
       "      <td>0.800000</td>\n",
       "      <td>0.0</td>\n",
       "      <td>0.0</td>\n",
       "      <td>1.0</td>\n",
       "      <td>0.0</td>\n",
       "      <td>1.0</td>\n",
       "      <td>0.0</td>\n",
       "      <td>0.0</td>\n",
       "      <td>0.0</td>\n",
       "      <td>0.0</td>\n",
       "      <td>0.0</td>\n",
       "      <td>0.0</td>\n",
       "      <td>0.0</td>\n",
       "      <td>0.0</td>\n",
       "      <td>0.0</td>\n",
       "      <td>0.0</td>\n",
       "      <td>0.0</td>\n",
       "      <td>0.0</td>\n",
       "      <td>1.0</td>\n",
       "      <td>0.0</td>\n",
       "      <td>0.0</td>\n",
       "    </tr>\n",
       "  </tbody>\n",
       "</table>\n",
       "</div>"
      ],
      "text/plain": [
       "   JenisKelamin  JenjangKarir  PerformancePegawai  SkorSurveyEngagement  \\\n",
       "0           1.0           0.0                1.00                  0.25   \n",
       "1           0.0           0.0                0.50                  0.25   \n",
       "2           1.0           0.0                1.00                  0.50   \n",
       "3           1.0           1.0                0.75                  0.25   \n",
       "4           0.0           0.0                0.25                  0.50   \n",
       "\n",
       "   SkorKepuasanPegawai  JumlahKeikutsertaanProjek  \\\n",
       "0                  1.0                   0.000000   \n",
       "1                  0.0                   0.857143   \n",
       "2                  1.0                   1.000000   \n",
       "3                  1.0                   0.000000   \n",
       "4                  1.0                   0.000000   \n",
       "\n",
       "   JumlahKeterlambatanSebulanTerakhir  JumlahKetidakhadiran  \\\n",
       "0                            0.000000              0.072727   \n",
       "1                            0.666667              0.236364   \n",
       "2                            0.000000              0.036364   \n",
       "3                            0.000000              0.290909   \n",
       "4                            0.000000              0.127273   \n",
       "\n",
       "   TingkatPendidikan      umur  LamaBekerja  StatusPernikahan_Belum_menikah  \\\n",
       "0                1.0  0.195122     0.333333                             0.0   \n",
       "1                0.5  0.121951     0.400000                             0.0   \n",
       "2                0.0  0.121951     0.000000                             0.0   \n",
       "3                0.0  0.195122     0.600000                             1.0   \n",
       "4                0.0  0.414634     0.800000                             0.0   \n",
       "\n",
       "   StatusPernikahan_Bercerai  StatusPernikahan_Lainnya  \\\n",
       "0                        0.0                       0.0   \n",
       "1                        1.0                       0.0   \n",
       "2                        0.0                       0.0   \n",
       "3                        0.0                       0.0   \n",
       "4                        0.0                       1.0   \n",
       "\n",
       "   StatusPernikahan_Menikah  StatusKepegawaian_FullTime  \\\n",
       "0                       1.0                         1.0   \n",
       "1                       0.0                         1.0   \n",
       "2                       1.0                         0.0   \n",
       "3                       0.0                         1.0   \n",
       "4                       0.0                         1.0   \n",
       "\n",
       "   StatusKepegawaian_Internship  Pekerjaan_Data Analyst  \\\n",
       "0                           0.0                     0.0   \n",
       "1                           0.0                     0.0   \n",
       "2                           0.0                     1.0   \n",
       "3                           0.0                     0.0   \n",
       "4                           0.0                     0.0   \n",
       "\n",
       "   Pekerjaan_Data Engineer  Pekerjaan_DevOps Engineer  \\\n",
       "0                      0.0                        0.0   \n",
       "1                      0.0                        0.0   \n",
       "2                      0.0                        0.0   \n",
       "3                      0.0                        0.0   \n",
       "4                      0.0                        0.0   \n",
       "\n",
       "   Pekerjaan_Digital Product Manager  Pekerjaan_Machine Learning Engineer  \\\n",
       "0                                0.0                                  0.0   \n",
       "1                                0.0                                  0.0   \n",
       "2                                0.0                                  0.0   \n",
       "3                                0.0                                  0.0   \n",
       "4                                0.0                                  0.0   \n",
       "\n",
       "   Pekerjaan_Product Design (UI & UX)  \\\n",
       "0                                 0.0   \n",
       "1                                 0.0   \n",
       "2                                 0.0   \n",
       "3                                 0.0   \n",
       "4                                 0.0   \n",
       "\n",
       "   Pekerjaan_Product Design (UX Researcher)  Pekerjaan_Product Manager  \\\n",
       "0                                       0.0                        0.0   \n",
       "1                                       0.0                        1.0   \n",
       "2                                       0.0                        0.0   \n",
       "3                                       0.0                        0.0   \n",
       "4                                       0.0                        0.0   \n",
       "\n",
       "   Pekerjaan_Scrum Master  Pekerjaan_Software Architect  \\\n",
       "0                     0.0                           0.0   \n",
       "1                     0.0                           0.0   \n",
       "2                     0.0                           0.0   \n",
       "3                     0.0                           0.0   \n",
       "4                     0.0                           0.0   \n",
       "\n",
       "   Pekerjaan_Software Engineer (Android)  \\\n",
       "0                                    0.0   \n",
       "1                                    0.0   \n",
       "2                                    0.0   \n",
       "3                                    0.0   \n",
       "4                                    0.0   \n",
       "\n",
       "   Pekerjaan_Software Engineer (Back End)  \\\n",
       "0                                     1.0   \n",
       "1                                     0.0   \n",
       "2                                     0.0   \n",
       "3                                     1.0   \n",
       "4                                     1.0   \n",
       "\n",
       "   Pekerjaan_Software Engineer (Front End)  Pekerjaan_Software Engineer (iOS)  \n",
       "0                                      0.0                                0.0  \n",
       "1                                      0.0                                0.0  \n",
       "2                                      0.0                                0.0  \n",
       "3                                      0.0                                0.0  \n",
       "4                                      0.0                                0.0  "
      ]
     },
     "execution_count": 86,
     "metadata": {},
     "output_type": "execute_result"
    }
   ],
   "source": [
    "X_train.head()"
   ]
  },
  {
   "attachments": {},
   "cell_type": "markdown",
   "metadata": {},
   "source": [
    "### Oversampling"
   ]
  },
  {
   "cell_type": "code",
   "execution_count": 91,
   "metadata": {},
   "outputs": [],
   "source": [
    "from imblearn.over_sampling import SMOTE"
   ]
  },
  {
   "cell_type": "code",
   "execution_count": 92,
   "metadata": {},
   "outputs": [],
   "source": [
    "smoteenn = SMOTE(random_state=42, sampling_strategy='minority')\n",
    "X_train_over, y_train_over = smoteenn.fit_resample(X_train, y_train)"
   ]
  },
  {
   "cell_type": "code",
   "execution_count": 93,
   "metadata": {},
   "outputs": [
    {
     "data": {
      "text/plain": [
       "(310, 31)"
      ]
     },
     "execution_count": 93,
     "metadata": {},
     "output_type": "execute_result"
    }
   ],
   "source": [
    "X_train_over.shape"
   ]
  },
  {
   "cell_type": "code",
   "execution_count": 129,
   "metadata": {},
   "outputs": [],
   "source": [
    "from sklearn.linear_model import LogisticRegression\n",
    "from sklearn.tree import DecisionTreeClassifier\n",
    "from sklearn.neighbors import KNeighborsClassifier\n",
    "from sklearn.ensemble import RandomForestClassifier\n",
    "from sklearn.svm import SVC\n",
    "from xgboost import XGBClassifier\n",
    "from sklearn.ensemble import AdaBoostClassifier\n",
    "from sklearn.metrics import accuracy_score, precision_score, recall_score, f1_score, roc_auc_score\n",
    "from sklearn.model_selection import cross_validate, cross_val_score, StratifiedKFold\n",
    "from sklearn.model_selection import learning_curve\n",
    "\n",
    "def eval_classification(model):\n",
    "    y_pred = model.predict(X_test)\n",
    "    y_pred_train = model.predict(X_train_over)\n",
    "    y_pred_proba = model.predict_proba(X_test)\n",
    "    y_pred_proba_train = model.predict_proba(X_train_over)\n",
    "    strat_k_fold = StratifiedKFold(n_splits=5, random_state=42, shuffle=True)\n",
    "    \n",
    "    print(\"Accuracy (Train Set): %.3f\" % accuracy_score(y_train_over, y_pred_train))\n",
    "    print(\"Accuracy (Test Set): %.3f\" % accuracy_score(y_test, y_pred))\n",
    "    print(\"Precision (Train Set): %.3f\" % precision_score(y_train_over, y_pred_train))\n",
    "    print(\"Precision (Test Set): %.3f\" % precision_score(y_test, y_pred))\n",
    "    print(\"Recall (Train Set): %.3f\" % recall_score(y_train_over, y_pred_train))\n",
    "    print(\"Recall (Test Set): %.3f\" % recall_score(y_test, y_pred))\n",
    "    print(\"F1-Score (Train Set): %.3f\" % f1_score(y_train_over, y_pred_train))\n",
    "    print(\"F1-Score (Test Set): %.3f\" % f1_score(y_test, y_pred))\n",
    "    print(\"roc_auc (train-proba): %.3f\" % roc_auc_score(y_train_over, y_pred_proba_train[:, 1]))\n",
    "    print(\"roc_auc (test-proba): %.3f\" % roc_auc_score(y_test, y_pred_proba[:, 1]))\n",
    "    print()\n",
    "    print('-------CROSS-VALIDATION-------')\n",
    "    score_acc = cross_validate(model, X_train_over, y_train_over, cv=strat_k_fold, scoring='accuracy', return_train_score=True)\n",
    "    print('Accuracy (crossval train): %.3f' % score_acc['train_score'].mean())\n",
    "    print('Accuracy (crossval test): %.3f' % score_acc['test_score'].mean())\n",
    "    score_pre = cross_validate(model, X_train_over, y_train_over, cv=strat_k_fold, scoring='precision', return_train_score=True)\n",
    "    print('Precision (crossval train): %.3f' % score_pre['train_score'].mean())\n",
    "    print('Precision (crossval test): %.3f' % score_pre['test_score'].mean())\n",
    "    score_re = cross_validate(model, X_train_over, y_train_over, cv=strat_k_fold, scoring='recall', return_train_score=True)\n",
    "    print('Recall (crossval train): %.3f' % score_re['train_score'].mean())\n",
    "    print('Recall (crossval test): %.3f' % score_re['test_score'].mean())\n",
    "    score_f1 = cross_validate(model, X_train_over, y_train_over, cv=strat_k_fold, scoring='f1', return_train_score=True)\n",
    "    print('F1-Score (crossval train): %.3f' % score_f1['train_score'].mean())\n",
    "    print('F1-Score (crossval test): %.3f' % score_f1['test_score'].mean())\n",
    "    score = cross_validate(model, X_train_over, y_train_over, cv=strat_k_fold, scoring='roc_auc', return_train_score=True)\n",
    "    print('roc_auc (crossval train): %.3f' % score['train_score'].mean())\n",
    "    print('roc_auc (crossval test): %.3f' % score['test_score'].mean())\n",
    "\n",
    "def show_feature_importance(model):\n",
    "    feat_importances = pd.Series(model.feature_importances_, index=X.columns)\n",
    "    ax = feat_importances.nlargest(25).plot(kind='barh', figsize=(10, 8))\n",
    "    ax.invert_yaxis()\n",
    "\n",
    "    plt.xlabel('score')\n",
    "    plt.ylabel('feature')\n",
    "    plt.title('feature importance score')\n",
    "\n",
    "def show_best_hyperparameter(model):\n",
    "    print(model.best_estimator_.get_params())"
   ]
  },
  {
   "cell_type": "code",
   "execution_count": 95,
   "metadata": {},
   "outputs": [],
   "source": [
    "def plot_learning_curve(estimator, title, X_train_over, y_train_over, X_test, y_test, ylim=None, cv=None,\n",
    "                        n_jobs=-1, train_sizes=np.linspace(.1, 1.0, 5)):\n",
    "    plt.figure()\n",
    "    plt.title(title)\n",
    "    if ylim is not None:\n",
    "        plt.ylim(*ylim)\n",
    "    plt.xlabel(\"Training Sizes\")\n",
    "    plt.ylabel(\"ROC_AUC Score\")\n",
    "\n",
    "    train_scores = cross_val_score(estimator, X_train_over, y_train_over, cv=cv, scoring='roc_auc')\n",
    "    test_scores = cross_val_score(estimator, X_test, y_test, cv=cv, scoring='roc_auc')\n",
    "    train_scores_mean = np.mean(train_scores)\n",
    "    test_scores_mean = np.mean(test_scores)\n",
    "    train_sizes, train_scores, test_scores = learning_curve(\n",
    "        estimator, X_train_over, y_train_over, cv=cv, n_jobs=n_jobs, train_sizes=train_sizes, scoring='roc_auc')\n",
    "    train_scores_mean = np.mean(train_scores, axis=1)\n",
    "    train_scores_std = np.std(train_scores, axis=1)\n",
    "    test_scores_mean = np.mean(test_scores, axis=1)\n",
    "    test_scores_std = np.std(test_scores, axis=1)\n",
    "    plt.grid()\n",
    "\n",
    "    plt.fill_between(train_sizes, train_scores_mean - train_scores_std,\n",
    "                     train_scores_mean + train_scores_std, alpha=0.1,\n",
    "                     color=\"r\")\n",
    "    plt.fill_between(train_sizes, test_scores_mean - test_scores_std,\n",
    "                     test_scores_mean + test_scores_std, alpha=0.1, color=\"g\")\n",
    "    plt.plot(train_sizes, train_scores_mean, 'o-', color=\"r\",\n",
    "             label=\"Training score\")\n",
    "    for i, j in zip(train_sizes, train_scores_mean):\n",
    "        plt.text(i, j, format(j, '.3f'), ha='center', va='bottom', rotation=45)\n",
    "    plt.plot(train_sizes, test_scores_mean, 'o-', color=\"g\",\n",
    "             label=\"Test score\")\n",
    "    for i, j in zip(train_sizes, test_scores_mean):\n",
    "        plt.text(i, j, format(j, '.3f'), ha='center', va='bottom', rotation=45)\n",
    "\n",
    "    plt.legend(loc=\"best\")\n",
    "    return plt"
   ]
  },
  {
   "cell_type": "code",
   "execution_count": 96,
   "metadata": {},
   "outputs": [],
   "source": [
    "strat_k_fold = StratifiedKFold(n_splits=5, random_state=42, shuffle=True)"
   ]
  },
  {
   "attachments": {},
   "cell_type": "markdown",
   "metadata": {},
   "source": [
    "### Fit Model"
   ]
  },
  {
   "attachments": {},
   "cell_type": "markdown",
   "metadata": {},
   "source": [
    "#### Logistic Regression"
   ]
  },
  {
   "cell_type": "code",
   "execution_count": 97,
   "metadata": {},
   "outputs": [
    {
     "name": "stdout",
     "output_type": "stream",
     "text": [
      "Accuracy (Train Set): 0.835\n",
      "Accuracy (Test Set): 0.754\n",
      "Precision (Train Set): 0.861\n",
      "Precision (Test Set): 0.000\n",
      "Recall (Test Set): 0.800\n",
      "Recall (Test Set): 0.000\n",
      "F1-Score (Test Set): 0.829\n",
      "F1-Score (Test Set): 0.000\n",
      "roc_auc (train-proba): 0.919\n",
      "roc_auc (test-proba): 0.849\n",
      "\n",
      "-------CROSS-VALIDATION-------\n",
      "Accuracy (crossval train): 0.819\n",
      "Accuracy (crossval test): 0.790\n",
      "Precision (crossval train): 0.833\n",
      "Precision (crossval test): 0.817\n",
      "Recall (crossval train): 0.800\n",
      "Recall (crossval test): 0.755\n",
      "F1-Score (crossval train): 0.816\n",
      "F1-Score (crossval test): 0.783\n",
      "roc_auc (crossval train): 0.919\n",
      "roc_auc (crossval test): 0.870\n"
     ]
    }
   ],
   "source": [
    "lr = LogisticRegression()\n",
    "lr.fit(X_train_over, y_train_over)\n",
    "eval_classification(lr)"
   ]
  },
  {
   "cell_type": "code",
   "execution_count": 103,
   "metadata": {},
   "outputs": [
    {
     "data": {
      "image/png": "[encoded data removed]",
      "text/plain": [
       "<Figure size 640x480 with 1 Axes>"
      ]
     },
     "metadata": {},
     "output_type": "display_data"
    }
   ],
   "source": [
    "plot_learning_curve(lr, \"Learning curve\", X_train_over, y_train_over, X_test, y_test, cv=strat_k_fold,n_jobs=-1)\n",
    "plt.show()"
   ]
  },
  {
   "attachments": {},
   "cell_type": "markdown",
   "metadata": {},
   "source": [
    "#### Decision Tree"
   ]
  },
  {
   "cell_type": "code",
   "execution_count": 142,
   "metadata": {},
   "outputs": [
    {
     "name": "stdout",
     "output_type": "stream",
     "text": [
      "Accuracy (Train Set): 0.881\n",
      "Accuracy (Test Set): 0.754\n",
      "Precision (Train Set): 0.888\n",
      "Precision (Test Set): 0.000\n",
      "Recall (Train Set): 0.871\n",
      "Recall (Test Set): 0.000\n",
      "F1-Score (Train Set): 0.879\n",
      "F1-Score (Test Set): 0.000\n",
      "roc_auc (train-proba): 0.945\n",
      "roc_auc (test-proba): 0.536\n",
      "\n",
      "-------CROSS-VALIDATION-------\n",
      "Accuracy (crossval train): 0.888\n",
      "Accuracy (crossval test): 0.813\n",
      "Precision (crossval train): 0.909\n",
      "Precision (crossval test): 0.832\n",
      "Recall (crossval train): 0.863\n",
      "Recall (crossval test): 0.787\n",
      "F1-Score (crossval train): 0.885\n",
      "F1-Score (crossval test): 0.807\n",
      "roc_auc (crossval train): 0.950\n",
      "roc_auc (crossval test): 0.879\n"
     ]
    }
   ],
   "source": [
    "dt = DecisionTreeClassifier(max_depth=4, random_state=42)\n",
    "dt.fit(X_train_over, y_train_over)\n",
    "eval_classification(dt)"
   ]
  },
  {
   "cell_type": "code",
   "execution_count": 105,
   "metadata": {},
   "outputs": [
    {
     "data": {
      "image/png": "[encoded data removed]",
      "text/plain": [
       "<Figure size 640x480 with 1 Axes>"
      ]
     },
     "metadata": {},
     "output_type": "display_data"
    }
   ],
   "source": [
    "plot_learning_curve(dt, \"Learning curve\", X_train_over, y_train_over, X_test, y_test, cv=strat_k_fold,n_jobs=-1)\n",
    "plt.show()"
   ]
  },
  {
   "attachments": {},
   "cell_type": "markdown",
   "metadata": {},
   "source": [
    "#### k-Nearest Neighbors"
   ]
  },
  {
   "cell_type": "code",
   "execution_count": 119,
   "metadata": {},
   "outputs": [
    {
     "name": "stdout",
     "output_type": "stream",
     "text": [
      "Accuracy (Train Set): 0.777\n",
      "Accuracy (Test Set): 0.754\n",
      "Precision (Train Set): 0.724\n",
      "Precision (Test Set): 0.000\n",
      "Recall (Test Set): 0.897\n",
      "Recall (Test Set): 0.000\n",
      "F1-Score (Test Set): 0.801\n",
      "F1-Score (Test Set): 0.000\n",
      "roc_auc (train-proba): 0.896\n",
      "roc_auc (test-proba): 0.649\n",
      "\n",
      "-------CROSS-VALIDATION-------\n",
      "Accuracy (crossval train): 0.763\n",
      "Accuracy (crossval test): 0.658\n",
      "Precision (crossval train): 0.709\n",
      "Precision (crossval test): 0.615\n",
      "Recall (crossval train): 0.894\n",
      "Recall (crossval test): 0.845\n",
      "F1-Score (crossval train): 0.790\n",
      "F1-Score (crossval test): 0.712\n",
      "roc_auc (crossval train): 0.882\n",
      "roc_auc (crossval test): 0.730\n"
     ]
    }
   ],
   "source": [
    "knn = KNeighborsClassifier(n_neighbors=5)\n",
    "knn.fit(X_train_over, y_train_over)\n",
    "eval_classification(knn)"
   ]
  },
  {
   "cell_type": "code",
   "execution_count": 120,
   "metadata": {},
   "outputs": [
    {
     "data": {
      "image/png": "[encoded data removed]",
      "text/plain": [
       "<Figure size 640x480 with 1 Axes>"
      ]
     },
     "metadata": {},
     "output_type": "display_data"
    }
   ],
   "source": [
    "plot_learning_curve(knn, \"Learning curve\", X_train_over, y_train_over, X_test, y_test, cv=strat_k_fold,n_jobs=-1)\n",
    "plt.show()"
   ]
  },
  {
   "attachments": {},
   "cell_type": "markdown",
   "metadata": {},
   "source": [
    "#### Random Forest"
   ]
  },
  {
   "cell_type": "code",
   "execution_count": 121,
   "metadata": {},
   "outputs": [
    {
     "name": "stdout",
     "output_type": "stream",
     "text": [
      "Accuracy (Train Set): 0.903\n",
      "Accuracy (Test Set): 0.772\n",
      "Precision (Train Set): 0.956\n",
      "Precision (Test Set): 1.000\n",
      "Recall (Test Set): 0.845\n",
      "Recall (Test Set): 0.071\n",
      "F1-Score (Test Set): 0.897\n",
      "F1-Score (Test Set): 0.133\n",
      "roc_auc (train-proba): 0.978\n",
      "roc_auc (test-proba): 0.367\n",
      "\n",
      "-------CROSS-VALIDATION-------\n",
      "Accuracy (crossval train): 0.909\n",
      "Accuracy (crossval test): 0.868\n",
      "Precision (crossval train): 0.957\n",
      "Precision (crossval test): 0.921\n",
      "Recall (crossval train): 0.856\n",
      "Recall (crossval test): 0.806\n",
      "F1-Score (crossval train): 0.904\n",
      "F1-Score (crossval test): 0.858\n",
      "roc_auc (crossval train): 0.983\n",
      "roc_auc (crossval test): 0.916\n"
     ]
    }
   ],
   "source": [
    "rf = RandomForestClassifier(max_depth=4, random_state=42)\n",
    "rf.fit(X_train_over, y_train_over)\n",
    "eval_classification(rf)"
   ]
  },
  {
   "cell_type": "code",
   "execution_count": 122,
   "metadata": {},
   "outputs": [
    {
     "data": {
      "image/png": "[encoded data removed]",
      "text/plain": [
       "<Figure size 640x480 with 1 Axes>"
      ]
     },
     "metadata": {},
     "output_type": "display_data"
    }
   ],
   "source": [
    "plot_learning_curve(rf, \"Learning curve\", X_train_over, y_train_over, X_test, y_test, cv=strat_k_fold,n_jobs=-1)\n",
    "plt.show()"
   ]
  },
  {
   "attachments": {},
   "cell_type": "markdown",
   "metadata": {},
   "source": [
    "#### Extreme Gradient Boosting (XGBoost)"
   ]
  },
  {
   "cell_type": "code",
   "execution_count": 126,
   "metadata": {},
   "outputs": [
    {
     "name": "stdout",
     "output_type": "stream",
     "text": [
      "Accuracy (Train Set): 1.000\n",
      "Accuracy (Test Set): 0.772\n",
      "Precision (Train Set): 1.000\n",
      "Precision (Test Set): 1.000\n",
      "Recall (Test Set): 1.000\n",
      "Recall (Test Set): 0.071\n",
      "F1-Score (Test Set): 1.000\n",
      "F1-Score (Test Set): 0.133\n",
      "roc_auc (train-proba): 1.000\n",
      "roc_auc (test-proba): 0.419\n",
      "\n",
      "-------CROSS-VALIDATION-------\n",
      "Accuracy (crossval train): 1.000\n",
      "Accuracy (crossval test): 0.842\n",
      "Precision (crossval train): 1.000\n",
      "Precision (crossval test): 0.854\n",
      "Recall (crossval train): 1.000\n",
      "Recall (crossval test): 0.826\n",
      "F1-Score (crossval train): 1.000\n",
      "F1-Score (crossval test): 0.838\n",
      "roc_auc (crossval train): 1.000\n",
      "roc_auc (crossval test): 0.926\n"
     ]
    }
   ],
   "source": [
    "xgb = XGBClassifier(max_depth=5,random_state=42)\n",
    "xgb.fit(X_train_over, y_train_over)\n",
    "eval_classification(xgb)"
   ]
  },
  {
   "cell_type": "code",
   "execution_count": 127,
   "metadata": {},
   "outputs": [
    {
     "data": {
      "image/png": "[encoded data removed]",
      "text/plain": [
       "<Figure size 640x480 with 1 Axes>"
      ]
     },
     "metadata": {},
     "output_type": "display_data"
    }
   ],
   "source": [
    "plot_learning_curve(xgb, \"Learning curve\", X_train_over, y_train_over, X_test, y_test, cv=strat_k_fold,n_jobs=-1)\n",
    "plt.show()"
   ]
  },
  {
   "attachments": {},
   "cell_type": "markdown",
   "metadata": {},
   "source": [
    "#### Adaptive Boosting (AdaBoost)"
   ]
  },
  {
   "cell_type": "code",
   "execution_count": 131,
   "metadata": {},
   "outputs": [
    {
     "name": "stdout",
     "output_type": "stream",
     "text": [
      "Accuracy (Train Set): 0.929\n",
      "Accuracy (Test Set): 0.754\n",
      "Precision (Train Set): 0.935\n",
      "Precision (Test Set): 0.000\n",
      "Recall (Train Set): 0.923\n",
      "Recall (Test Set): 0.000\n",
      "F1-Score (Train Set): 0.929\n",
      "F1-Score (Test Set): 0.000\n",
      "roc_auc (train-proba): 0.987\n",
      "roc_auc (test-proba): 0.636\n",
      "\n",
      "-------CROSS-VALIDATION-------\n",
      "Accuracy (crossval train): 0.951\n",
      "Accuracy (crossval test): 0.790\n",
      "Precision (crossval train): 0.959\n",
      "Precision (crossval test): 0.805\n",
      "Recall (crossval train): 0.942\n",
      "Recall (crossval test): 0.774\n",
      "F1-Score (crossval train): 0.950\n",
      "F1-Score (crossval test): 0.786\n",
      "roc_auc (crossval train): 0.993\n",
      "roc_auc (crossval test): 0.889\n"
     ]
    }
   ],
   "source": [
    "ab = AdaBoostClassifier(n_estimators=200, learning_rate=0.5)\n",
    "ab.fit(X_train_over, y_train_over)\n",
    "eval_classification(ab)"
   ]
  },
  {
   "cell_type": "code",
   "execution_count": 132,
   "metadata": {},
   "outputs": [
    {
     "data": {
      "image/png": "[encoded data removed]",
      "text/plain": [
       "<Figure size 640x480 with 1 Axes>"
      ]
     },
     "metadata": {},
     "output_type": "display_data"
    }
   ],
   "source": [
    "plot_learning_curve(ab, \"Learning curve\", X_train_over, y_train_over, X_test, y_test, cv=strat_k_fold,n_jobs=-1)\n",
    "plt.show()"
   ]
  },
  {
   "attachments": {},
   "cell_type": "markdown",
   "metadata": {},
   "source": [
    "#### Support Machine Vector (SVM)"
   ]
  },
  {
   "cell_type": "code",
   "execution_count": 133,
   "metadata": {},
   "outputs": [
    {
     "name": "stdout",
     "output_type": "stream",
     "text": [
      "Accuracy (Train Set): 0.926\n",
      "Accuracy (Test Set): 0.754\n",
      "Precision (Train Set): 0.929\n",
      "Precision (Test Set): 0.000\n",
      "Recall (Train Set): 0.923\n",
      "Recall (Test Set): 0.000\n",
      "F1-Score (Train Set): 0.926\n",
      "F1-Score (Test Set): 0.000\n",
      "roc_auc (train-proba): 0.980\n",
      "roc_auc (test-proba): 0.500\n",
      "\n",
      "-------CROSS-VALIDATION-------\n",
      "Accuracy (crossval train): 0.911\n",
      "Accuracy (crossval test): 0.784\n",
      "Precision (crossval train): 0.922\n",
      "Precision (crossval test): 0.795\n",
      "Recall (crossval train): 0.898\n",
      "Recall (crossval test): 0.768\n",
      "F1-Score (crossval train): 0.910\n",
      "F1-Score (crossval test): 0.779\n",
      "roc_auc (crossval train): 0.977\n",
      "roc_auc (crossval test): 0.889\n"
     ]
    }
   ],
   "source": [
    "svm = SVC(probability=True)\n",
    "svm.fit(X_train_over, y_train_over)\n",
    "eval_classification(svm)"
   ]
  },
  {
   "cell_type": "code",
   "execution_count": 134,
   "metadata": {},
   "outputs": [
    {
     "data": {
      "image/png": "[encoded data removed]",
      "text/plain": [
       "<Figure size 640x480 with 1 Axes>"
      ]
     },
     "metadata": {},
     "output_type": "display_data"
    }
   ],
   "source": [
    "plot_learning_curve(svm, \"Learning curve\", X_train_over, y_train_over, X_test, y_test, cv=strat_k_fold,n_jobs=-1)\n",
    "plt.show()"
   ]
  },
  {
   "attachments": {},
   "cell_type": "markdown",
   "metadata": {},
   "source": [
    "### Hyperparameter"
   ]
  },
  {
   "cell_type": "code",
   "execution_count": 102,
   "metadata": {},
   "outputs": [],
   "source": [
    "from sklearn.model_selection import RandomizedSearchCV"
   ]
  },
  {
   "attachments": {},
   "cell_type": "markdown",
   "metadata": {},
   "source": [
    "#### Hyperparamer Logistic Regression"
   ]
  },
  {
   "cell_type": "code",
   "execution_count": 138,
   "metadata": {},
   "outputs": [
    {
     "name": "stdout",
     "output_type": "stream",
     "text": [
      "Accuracy (Train Set): 0.671\n",
      "Accuracy (Test Set): 0.754\n",
      "Precision (Train Set): 0.663\n",
      "Precision (Test Set): 0.000\n",
      "Recall (Train Set): 0.697\n",
      "Recall (Test Set): 0.000\n",
      "F1-Score (Train Set): 0.679\n",
      "F1-Score (Test Set): 0.000\n",
      "roc_auc (train-proba): 0.773\n",
      "roc_auc (test-proba): 0.801\n",
      "\n",
      "-------CROSS-VALIDATION-------\n",
      "Accuracy (crossval train): 0.696\n",
      "Accuracy (crossval test): 0.623\n",
      "Precision (crossval train): 0.688\n",
      "Precision (crossval test): 0.628\n",
      "Recall (crossval train): 0.716\n",
      "Recall (crossval test): 0.632\n",
      "F1-Score (crossval train): 0.702\n",
      "F1-Score (crossval test): 0.627\n",
      "roc_auc (crossval train): 0.775\n",
      "roc_auc (crossval test): 0.704\n"
     ]
    }
   ],
   "source": [
    "penalty = ['l2','l1','elasticnet']\n",
    "C = [0.0001, 0.001, 0.002]\n",
    "hyperparameters = dict(penalty=penalty, C=C)\n",
    "\n",
    "lrt = RandomizedSearchCV(lr, hyperparameters, cv=strat_k_fold,scoring='roc_auc')\n",
    "lrt.fit(X_train_over, y_train_over)\n",
    "eval_classification(lrt)"
   ]
  },
  {
   "cell_type": "code",
   "execution_count": 136,
   "metadata": {},
   "outputs": [
    {
     "name": "stdout",
     "output_type": "stream",
     "text": [
      "{'C': 0.002, 'class_weight': None, 'dual': False, 'fit_intercept': True, 'intercept_scaling': 1, 'l1_ratio': None, 'max_iter': 100, 'multi_class': 'auto', 'n_jobs': None, 'penalty': 'l2', 'random_state': None, 'solver': 'lbfgs', 'tol': 0.0001, 'verbose': 0, 'warm_start': False}\n"
     ]
    }
   ],
   "source": [
    "show_best_hyperparameter(lrt)"
   ]
  },
  {
   "attachments": {},
   "cell_type": "markdown",
   "metadata": {},
   "source": [
    "#### Hyperparameter Decision Tree"
   ]
  },
  {
   "cell_type": "code",
   "execution_count": 143,
   "metadata": {},
   "outputs": [
    {
     "name": "stdout",
     "output_type": "stream",
     "text": [
      "Accuracy (Train Set): 0.868\n",
      "Accuracy (Test Set): 0.456\n",
      "Precision (Train Set): 0.875\n",
      "Precision (Test Set): 0.293\n",
      "Recall (Train Set): 0.858\n",
      "Recall (Test Set): 0.857\n",
      "F1-Score (Train Set): 0.866\n",
      "F1-Score (Test Set): 0.436\n",
      "roc_auc (train-proba): 0.953\n",
      "roc_auc (test-proba): 0.551\n",
      "\n",
      "-------CROSS-VALIDATION-------\n",
      "Accuracy (crossval train): 0.856\n",
      "Accuracy (crossval test): 0.719\n",
      "Precision (crossval train): 0.871\n",
      "Precision (crossval test): 0.734\n",
      "Recall (crossval train): 0.837\n",
      "Recall (crossval test): 0.684\n",
      "F1-Score (crossval train): 0.853\n",
      "F1-Score (crossval test): 0.707\n",
      "roc_auc (crossval train): 0.940\n",
      "roc_auc (crossval test): 0.801\n"
     ]
    }
   ],
   "source": [
    "max_depth = [int(x) for x in np.linspace(1, 110, num = 30)]\n",
    "min_samples_split = [2, 5, 10, 100]\n",
    "min_samples_leaf = [1, 2, 4, 10, 20, 50] \n",
    "max_features = ['auto', 'sqrt']\n",
    "\n",
    "hyperparameters = dict(max_depth=max_depth, \n",
    "                       min_samples_split=min_samples_split, \n",
    "                       min_samples_leaf=min_samples_leaf,\n",
    "                       max_features=max_features)\n",
    "\n",
    "dtt = RandomizedSearchCV(dt, hyperparameters, scoring='roc_auc', cv=strat_k_fold,random_state=42)\n",
    "dtt.fit(X_train_over, y_train_over)\n",
    "eval_classification(dtt)"
   ]
  },
  {
   "cell_type": "code",
   "execution_count": 140,
   "metadata": {},
   "outputs": [
    {
     "name": "stdout",
     "output_type": "stream",
     "text": [
      "{'ccp_alpha': 0.0, 'class_weight': None, 'criterion': 'gini', 'max_depth': 23, 'max_features': 'sqrt', 'max_leaf_nodes': None, 'min_impurity_decrease': 0.0, 'min_samples_leaf': 20, 'min_samples_split': 10, 'min_weight_fraction_leaf': 0.0, 'random_state': 42, 'splitter': 'best'}\n"
     ]
    }
   ],
   "source": [
    "show_best_hyperparameter(dtt)"
   ]
  },
  {
   "attachments": {},
   "cell_type": "markdown",
   "metadata": {},
   "source": [
    "#### Hyperparameter k-Nearest Neigbors"
   ]
  },
  {
   "cell_type": "code",
   "execution_count": 144,
   "metadata": {},
   "outputs": [
    {
     "name": "stdout",
     "output_type": "stream",
     "text": [
      "Accuracy (Train Set): 0.787\n",
      "Accuracy (Test Set): 0.509\n",
      "Precision (Train Set): 0.791\n",
      "Precision (Test Set): 0.111\n",
      "Recall (Train Set): 0.781\n",
      "Recall (Test Set): 0.143\n",
      "F1-Score (Train Set): 0.786\n",
      "F1-Score (Test Set): 0.125\n",
      "roc_auc (train-proba): 0.860\n",
      "roc_auc (test-proba): 0.397\n",
      "\n",
      "-------CROSS-VALIDATION-------\n",
      "Accuracy (crossval train): 0.944\n",
      "Accuracy (crossval test): 0.681\n",
      "Precision (crossval train): 1.000\n",
      "Precision (crossval test): 0.693\n",
      "Recall (crossval train): 0.887\n",
      "Recall (crossval test): 0.645\n",
      "F1-Score (crossval train): 0.940\n",
      "F1-Score (crossval test): 0.667\n",
      "roc_auc (crossval train): 0.979\n",
      "roc_auc (crossval test): 0.732\n"
     ]
    }
   ],
   "source": [
    "n_neighbors = list(range(1,30))\n",
    "p=[1,2]\n",
    "algorithm = ['auto', 'ball_tree', 'kd_tree', 'brute']\n",
    "metric = ['euclidean','manhattan','minkowski']\n",
    "hyperparameters = dict(n_neighbors=n_neighbors, p=p, algorithm=algorithm,metric=metric)\n",
    "\n",
    "knnt = RandomizedSearchCV(knn, hyperparameters, scoring='roc_auc', cv=strat_k_fold,random_state=42)\n",
    "knnt.fit(X_train_over, y_train_over)\n",
    "eval_classification(knnt)"
   ]
  },
  {
   "cell_type": "code",
   "execution_count": 145,
   "metadata": {},
   "outputs": [
    {
     "name": "stdout",
     "output_type": "stream",
     "text": [
      "{'algorithm': 'ball_tree', 'leaf_size': 30, 'metric': 'minkowski', 'metric_params': None, 'n_jobs': None, 'n_neighbors': 13, 'p': 1, 'weights': 'uniform'}\n"
     ]
    }
   ],
   "source": [
    "show_best_hyperparameter(knnt)"
   ]
  },
  {
   "attachments": {},
   "cell_type": "markdown",
   "metadata": {},
   "source": [
    "#### Hyperparameter Random Forest"
   ]
  },
  {
   "cell_type": "code",
   "execution_count": 147,
   "metadata": {},
   "outputs": [
    {
     "name": "stdout",
     "output_type": "stream",
     "text": [
      "Accuracy (Train Set): 0.939\n",
      "Accuracy (Test Set): 0.772\n",
      "Precision (Train Set): 0.947\n",
      "Precision (Test Set): 1.000\n",
      "Recall (Train Set): 0.929\n",
      "Recall (Test Set): 0.071\n",
      "F1-Score (Train Set): 0.938\n",
      "F1-Score (Test Set): 0.133\n",
      "roc_auc (train-proba): 0.989\n",
      "roc_auc (test-proba): 0.432\n",
      "\n",
      "-------CROSS-VALIDATION-------\n",
      "Accuracy (crossval train): 0.943\n",
      "Accuracy (crossval test): 0.868\n",
      "Precision (crossval train): 0.955\n",
      "Precision (crossval test): 0.911\n",
      "Recall (crossval train): 0.929\n",
      "Recall (crossval test): 0.819\n",
      "F1-Score (crossval train): 0.942\n",
      "F1-Score (crossval test): 0.860\n",
      "roc_auc (crossval train): 0.992\n",
      "roc_auc (crossval test): 0.924\n"
     ]
    }
   ],
   "source": [
    "n_estimators = [int(x) for x in np.linspace(1, 200, 50)]\n",
    "criterion = ['gini', 'entropy']\n",
    "max_depth = [int(x) for x in np.linspace(2, 100, 50)]\n",
    "min_samples_split = [int(x) for x in np.linspace(2, 20, 10)]\n",
    "min_samples_leaf = [int(x) for x in np.linspace(2, 20, 10)]\n",
    "hyperparameters = dict(n_estimators=n_estimators, criterion=criterion, max_depth=max_depth,\n",
    "                       min_samples_split=min_samples_split, min_samples_leaf=min_samples_leaf)\n",
    "\n",
    "rft = RandomizedSearchCV(rf, hyperparameters, scoring='roc_auc', cv=strat_k_fold,random_state=42)\n",
    "rft.fit(X_train_over, y_train_over)\n",
    "eval_classification(rft)"
   ]
  },
  {
   "cell_type": "code",
   "execution_count": 148,
   "metadata": {},
   "outputs": [
    {
     "name": "stdout",
     "output_type": "stream",
     "text": [
      "{'bootstrap': True, 'ccp_alpha': 0.0, 'class_weight': None, 'criterion': 'gini', 'max_depth': 46, 'max_features': 'auto', 'max_leaf_nodes': None, 'max_samples': None, 'min_impurity_decrease': 0.0, 'min_samples_leaf': 2, 'min_samples_split': 12, 'min_weight_fraction_leaf': 0.0, 'n_estimators': 74, 'n_jobs': None, 'oob_score': False, 'random_state': 42, 'verbose': 0, 'warm_start': False}\n"
     ]
    }
   ],
   "source": [
    "show_best_hyperparameter(rft)"
   ]
  },
  {
   "attachments": {},
   "cell_type": "markdown",
   "metadata": {},
   "source": [
    "#### Hyperparameter XGBoost"
   ]
  },
  {
   "cell_type": "code",
   "execution_count": 149,
   "metadata": {},
   "outputs": [
    {
     "name": "stdout",
     "output_type": "stream",
     "text": [
      "Accuracy (Train Set): 0.984\n",
      "Accuracy (Test Set): 0.772\n",
      "Precision (Train Set): 0.993\n",
      "Precision (Test Set): 1.000\n",
      "Recall (Train Set): 0.974\n",
      "Recall (Test Set): 0.071\n",
      "F1-Score (Train Set): 0.984\n",
      "F1-Score (Test Set): 0.133\n",
      "roc_auc (train-proba): 0.999\n",
      "roc_auc (test-proba): 0.424\n",
      "\n",
      "-------CROSS-VALIDATION-------\n",
      "Accuracy (crossval train): 0.975\n",
      "Accuracy (crossval test): 0.855\n",
      "Precision (crossval train): 0.982\n",
      "Precision (crossval test): 0.889\n",
      "Recall (crossval train): 0.968\n",
      "Recall (crossval test): 0.813\n",
      "F1-Score (crossval train): 0.975\n",
      "F1-Score (crossval test): 0.847\n",
      "roc_auc (crossval train): 0.997\n",
      "roc_auc (crossval test): 0.925\n"
     ]
    }
   ],
   "source": [
    "hyperparameters = {\n",
    "                    'max_depth' : [int(x) for x in np.linspace(10, 110, num = 11)],\n",
    "                    'min_child_weight' : [int(x) for x in np.linspace(1, 20, num = 11)],\n",
    "                    'gamma' : [float(x) for x in np.linspace(0, 1, num = 11)],\n",
    "                    'tree_method' : ['auto', 'exact', 'approx', 'hist'],\n",
    "\n",
    "                    'colsample_bytree' : [float(x) for x in np.linspace(0, 1, num = 11)],\n",
    "                    'eta' : [float(x) for x in np.linspace(0, 1, num = 100)],\n",
    "\n",
    "                    'lambda' : [float(x) for x in np.linspace(0, 1, num = 11)],\n",
    "                    'alpha' : [float(x) for x in np.linspace(0, 1, num = 11)]\n",
    "                    }\n",
    "\n",
    "xgbt = RandomizedSearchCV(xgb, hyperparameters, scoring='roc_auc', cv=strat_k_fold,random_state=42)\n",
    "xgbt.fit(X_train_over, y_train_over)\n",
    "eval_classification(xgbt)"
   ]
  },
  {
   "cell_type": "code",
   "execution_count": 150,
   "metadata": {},
   "outputs": [
    {
     "name": "stdout",
     "output_type": "stream",
     "text": [
      "{'objective': 'binary:logistic', 'use_label_encoder': None, 'base_score': 0.5, 'booster': 'gbtree', 'callbacks': None, 'colsample_bylevel': 1, 'colsample_bynode': 1, 'colsample_bytree': 1.0, 'early_stopping_rounds': None, 'enable_categorical': False, 'eval_metric': None, 'feature_types': None, 'gamma': 0.5, 'gpu_id': -1, 'grow_policy': 'depthwise', 'importance_type': None, 'interaction_constraints': '', 'learning_rate': 0.300000012, 'max_bin': 256, 'max_cat_threshold': 64, 'max_cat_to_onehot': 4, 'max_delta_step': 0, 'max_depth': 110, 'max_leaves': 0, 'min_child_weight': 2, 'missing': nan, 'monotone_constraints': '()', 'n_estimators': 100, 'n_jobs': 0, 'num_parallel_tree': 1, 'predictor': 'auto', 'random_state': 42, 'reg_alpha': 0, 'reg_lambda': 1, 'sampling_method': 'uniform', 'scale_pos_weight': 1, 'subsample': 1, 'tree_method': 'hist', 'validate_parameters': 1, 'verbosity': None, 'lambda': 0.2, 'eta': 0.7777777777777778, 'alpha': 0.1}\n"
     ]
    }
   ],
   "source": [
    "show_best_hyperparameter(xgbt)"
   ]
  },
  {
   "attachments": {},
   "cell_type": "markdown",
   "metadata": {},
   "source": [
    "#### Hyperparameter AdaBoost"
   ]
  },
  {
   "cell_type": "code",
   "execution_count": 151,
   "metadata": {},
   "outputs": [
    {
     "name": "stdout",
     "output_type": "stream",
     "text": [
      "Accuracy (Train Set): 0.874\n",
      "Accuracy (Test Set): 0.772\n",
      "Precision (Train Set): 0.903\n",
      "Precision (Test Set): 1.000\n",
      "Recall (Train Set): 0.839\n",
      "Recall (Test Set): 0.071\n",
      "F1-Score (Train Set): 0.870\n",
      "F1-Score (Test Set): 0.133\n",
      "roc_auc (train-proba): 0.950\n",
      "roc_auc (test-proba): 0.650\n",
      "\n",
      "-------CROSS-VALIDATION-------\n",
      "Accuracy (crossval train): 0.860\n",
      "Accuracy (crossval test): 0.839\n",
      "Precision (crossval train): 0.908\n",
      "Precision (crossval test): 0.888\n",
      "Recall (crossval train): 0.803\n",
      "Recall (crossval test): 0.781\n",
      "F1-Score (crossval train): 0.851\n",
      "F1-Score (crossval test): 0.828\n",
      "roc_auc (crossval train): 0.942\n",
      "roc_auc (crossval test): 0.910\n"
     ]
    }
   ],
   "source": [
    "hyperparameters = dict(n_estimators = [int(x) for x in np.linspace(start = 100, stop = 2000, num = 20)], # Jumlah iterasi\n",
    "                       learning_rate = [float(x) for x in np.linspace(start = 0.001, stop = 0.1, num = 20)],  \n",
    "                       algorithm = ['SAMME', 'SAMME.R']\n",
    "                      )\n",
    "\n",
    "abt = RandomizedSearchCV(ab, hyperparameters, scoring='roc_auc', cv=strat_k_fold,random_state=42)\n",
    "abt.fit(X_train_over, y_train_over)\n",
    "eval_classification(abt)"
   ]
  },
  {
   "cell_type": "code",
   "execution_count": 152,
   "metadata": {},
   "outputs": [
    {
     "name": "stdout",
     "output_type": "stream",
     "text": [
      "{'algorithm': 'SAMME.R', 'base_estimator': None, 'learning_rate': 0.09478947368421052, 'n_estimators': 100, 'random_state': None}\n"
     ]
    }
   ],
   "source": [
    "show_best_hyperparameter(abt)"
   ]
  },
  {
   "attachments": {},
   "cell_type": "markdown",
   "metadata": {},
   "source": [
    "#### Hyperparameter SVM"
   ]
  },
  {
   "cell_type": "code",
   "execution_count": 153,
   "metadata": {},
   "outputs": [
    {
     "name": "stdout",
     "output_type": "stream",
     "text": [
      "Accuracy (Train Set): 0.942\n",
      "Accuracy (Test Set): 0.754\n",
      "Precision (Train Set): 0.936\n",
      "Precision (Test Set): 0.000\n",
      "Recall (Train Set): 0.948\n",
      "Recall (Test Set): 0.000\n",
      "F1-Score (Train Set): 0.942\n",
      "F1-Score (Test Set): 0.000\n",
      "roc_auc (train-proba): 0.989\n",
      "roc_auc (test-proba): 0.500\n",
      "\n",
      "-------CROSS-VALIDATION-------\n",
      "Accuracy (crossval train): 0.944\n",
      "Accuracy (crossval test): 0.842\n",
      "Precision (crossval train): 0.947\n",
      "Precision (crossval test): 0.820\n",
      "Recall (crossval train): 0.940\n",
      "Recall (crossval test): 0.877\n",
      "F1-Score (crossval train): 0.943\n",
      "F1-Score (crossval test): 0.847\n",
      "roc_auc (crossval train): 0.990\n",
      "roc_auc (crossval test): 0.919\n"
     ]
    }
   ],
   "source": [
    "C = [0.1, 1, 10]\n",
    "kernel = ['linear', 'rbf']\n",
    "degree = [2, 3, 4]\n",
    "gamma = [0.1, 1, 10]\n",
    "\n",
    "hyperparameters = dict(C=C, kernel=kernel, degree=degree, gamma=gamma)\n",
    "\n",
    "svmt = RandomizedSearchCV(svm, hyperparameters, scoring='roc_auc', cv=strat_k_fold,random_state=42)\n",
    "svmt.fit(X_train_over, y_train_over)\n",
    "eval_classification(svmt)"
   ]
  },
  {
   "cell_type": "code",
   "execution_count": 156,
   "metadata": {},
   "outputs": [
    {
     "data": {
      "text/html": [
       "<div>\n",
       "<style scoped>\n",
       "    .dataframe tbody tr th:only-of-type {\n",
       "        vertical-align: middle;\n",
       "    }\n",
       "\n",
       "    .dataframe tbody tr th {\n",
       "        vertical-align: top;\n",
       "    }\n",
       "\n",
       "    .dataframe thead th {\n",
       "        text-align: right;\n",
       "    }\n",
       "</style>\n",
       "<table border=\"1\" class=\"dataframe\">\n",
       "  <thead>\n",
       "    <tr style=\"text-align: right;\">\n",
       "      <th></th>\n",
       "      <th>Model</th>\n",
       "      <th>roc_auc (train)</th>\n",
       "      <th>roc_auc (test)</th>\n",
       "    </tr>\n",
       "  </thead>\n",
       "  <tbody>\n",
       "    <tr>\n",
       "      <th>0</th>\n",
       "      <td>Logistic Regression</td>\n",
       "      <td>0.775169</td>\n",
       "      <td>0.704058</td>\n",
       "    </tr>\n",
       "    <tr>\n",
       "      <th>1</th>\n",
       "      <td>Decision Tree</td>\n",
       "      <td>0.939672</td>\n",
       "      <td>0.800520</td>\n",
       "    </tr>\n",
       "    <tr>\n",
       "      <th>2</th>\n",
       "      <td>KNN</td>\n",
       "      <td>0.978642</td>\n",
       "      <td>0.732050</td>\n",
       "    </tr>\n",
       "    <tr>\n",
       "      <th>3</th>\n",
       "      <td>Random Forest</td>\n",
       "      <td>0.992001</td>\n",
       "      <td>0.923829</td>\n",
       "    </tr>\n",
       "    <tr>\n",
       "      <th>4</th>\n",
       "      <td>XGBoost</td>\n",
       "      <td>0.996839</td>\n",
       "      <td>0.925286</td>\n",
       "    </tr>\n",
       "    <tr>\n",
       "      <th>5</th>\n",
       "      <td>AdaBoost</td>\n",
       "      <td>0.942345</td>\n",
       "      <td>0.909677</td>\n",
       "    </tr>\n",
       "    <tr>\n",
       "      <th>6</th>\n",
       "      <td>SVM</td>\n",
       "      <td>0.989789</td>\n",
       "      <td>0.919043</td>\n",
       "    </tr>\n",
       "  </tbody>\n",
       "</table>\n",
       "</div>"
      ],
      "text/plain": [
       "                 Model  roc_auc (train)  roc_auc (test)\n",
       "0  Logistic Regression         0.775169        0.704058\n",
       "1        Decision Tree         0.939672        0.800520\n",
       "2                  KNN         0.978642        0.732050\n",
       "3        Random Forest         0.992001        0.923829\n",
       "4              XGBoost         0.996839        0.925286\n",
       "5             AdaBoost         0.942345        0.909677\n",
       "6                  SVM         0.989789        0.919043"
      ]
     },
     "execution_count": 156,
     "metadata": {},
     "output_type": "execute_result"
    }
   ],
   "source": [
    "models = [lrt, dtt, knnt, rft, xgbt, abt, svmt]\n",
    "scores = []\n",
    "\n",
    "for model in models:\n",
    "    if model == lrt:\n",
    "        name = \"Logistic Regression\"\n",
    "    elif model == dtt:\n",
    "        name = \"Decision Tree\"\n",
    "    elif model == knnt:\n",
    "        name = \"KNN\"\n",
    "    elif model == rft:\n",
    "        name = \"Random Forest\"\n",
    "    elif model == xgbt:\n",
    "        name = \"XGBoost\"\n",
    "    elif model == abt:\n",
    "        name = \"AdaBoost\"\n",
    "    elif model == svmt:\n",
    "        name = \"SVM\"\n",
    "    score = cross_validate(model, X_train_over, y_train_over, cv=strat_k_fold, scoring='roc_auc', return_train_score=True)\n",
    "    scores.append([name, score['train_score'].mean(), score['test_score'].mean()])\n",
    "    \n",
    "model_comp = pd.DataFrame(scores, columns=['Model', 'roc_auc (train)', 'roc_auc (test)'])\n",
    "model_comp"
   ]
  },
  {
   "attachments": {},
   "cell_type": "markdown",
   "metadata": {},
   "source": [
    "Dari skor yang diberikan, model `Random Forest` dan `XGBoost` memiliki skor ROC-AUC yang paling tinggi untuk data test dan skor ROC-AUC yang hampir sama. Namun, model `Random Forest` memiliki skor ROC-AUC yang lebih tinggi untuk data train dibandingkan model `XGBoost` ataupun `SVM`. Oleh karena itu, model `Random Forest` dianggap sebagai model yang paling robust dibandingkan dengan model lainnya.\n",
    "<br>\n",
    "<br>\n",
    "Hal ini dikarenakan model `Random Forest` memiliki skor ROC-AUC yang cukup tinggi untuk data test dan data train, dan perbedaan skor antara data train dan data test tidak terlalu besar. Hal ini menunjukkan bahwa model tersebut mampu menangani kasus overfitting yang mungkin terjadi. Sementara itu, model lain seperti model `Logistic Regression`, `KNN`, dan `AdaBoost` memiliki skor ROC-AUC yang lebih rendah untuk data test dibandingkan data train, menunjukkan bahwa model tersebut mungkin overfitting."
   ]
  },
  {
   "cell_type": "code",
   "execution_count": 158,
   "metadata": {},
   "outputs": [],
   "source": [
    "def get_feature_importance(model, X_train):\n",
    "    if hasattr(model, 'feature_importances_'):\n",
    "        importances = model.feature_importances_\n",
    "    elif hasattr(model, 'coef_'):\n",
    "        importances = model.coef_\n",
    "    else:\n",
    "        return None\n",
    "\n",
    "    df_fi = pd.DataFrame({'feature': X_train.columns, 'importance': importances})\n",
    "    df_fi = df_fi.sort_values(by='importance', ascending=False)\n",
    "    \n",
    "    return df_fi"
   ]
  },
  {
   "cell_type": "code",
   "execution_count": 159,
   "metadata": {},
   "outputs": [
    {
     "data": {
      "text/html": [
       "<div>\n",
       "<style scoped>\n",
       "    .dataframe tbody tr th:only-of-type {\n",
       "        vertical-align: middle;\n",
       "    }\n",
       "\n",
       "    .dataframe tbody tr th {\n",
       "        vertical-align: top;\n",
       "    }\n",
       "\n",
       "    .dataframe thead th {\n",
       "        text-align: right;\n",
       "    }\n",
       "</style>\n",
       "<table border=\"1\" class=\"dataframe\">\n",
       "  <thead>\n",
       "    <tr style=\"text-align: right;\">\n",
       "      <th></th>\n",
       "      <th>feature</th>\n",
       "      <th>importance</th>\n",
       "    </tr>\n",
       "  </thead>\n",
       "  <tbody>\n",
       "    <tr>\n",
       "      <th>10</th>\n",
       "      <td>LamaBekerja</td>\n",
       "      <td>0.466983</td>\n",
       "    </tr>\n",
       "    <tr>\n",
       "      <th>9</th>\n",
       "      <td>umur</td>\n",
       "      <td>0.062098</td>\n",
       "    </tr>\n",
       "    <tr>\n",
       "      <th>7</th>\n",
       "      <td>JumlahKetidakhadiran</td>\n",
       "      <td>0.052486</td>\n",
       "    </tr>\n",
       "    <tr>\n",
       "      <th>8</th>\n",
       "      <td>TingkatPendidikan</td>\n",
       "      <td>0.051000</td>\n",
       "    </tr>\n",
       "    <tr>\n",
       "      <th>3</th>\n",
       "      <td>SkorSurveyEngagement</td>\n",
       "      <td>0.047843</td>\n",
       "    </tr>\n",
       "    <tr>\n",
       "      <th>2</th>\n",
       "      <td>PerformancePegawai</td>\n",
       "      <td>0.046022</td>\n",
       "    </tr>\n",
       "    <tr>\n",
       "      <th>4</th>\n",
       "      <td>SkorKepuasanPegawai</td>\n",
       "      <td>0.040939</td>\n",
       "    </tr>\n",
       "    <tr>\n",
       "      <th>5</th>\n",
       "      <td>JumlahKeikutsertaanProjek</td>\n",
       "      <td>0.036297</td>\n",
       "    </tr>\n",
       "    <tr>\n",
       "      <th>1</th>\n",
       "      <td>JenjangKarir</td>\n",
       "      <td>0.027748</td>\n",
       "    </tr>\n",
       "    <tr>\n",
       "      <th>28</th>\n",
       "      <td>Pekerjaan_Software Engineer (Back End)</td>\n",
       "      <td>0.020239</td>\n",
       "    </tr>\n",
       "    <tr>\n",
       "      <th>29</th>\n",
       "      <td>Pekerjaan_Software Engineer (Front End)</td>\n",
       "      <td>0.017419</td>\n",
       "    </tr>\n",
       "    <tr>\n",
       "      <th>0</th>\n",
       "      <td>JenisKelamin</td>\n",
       "      <td>0.017306</td>\n",
       "    </tr>\n",
       "    <tr>\n",
       "      <th>6</th>\n",
       "      <td>JumlahKeterlambatanSebulanTerakhir</td>\n",
       "      <td>0.014444</td>\n",
       "    </tr>\n",
       "    <tr>\n",
       "      <th>22</th>\n",
       "      <td>Pekerjaan_Product Design (UI &amp; UX)</td>\n",
       "      <td>0.013401</td>\n",
       "    </tr>\n",
       "    <tr>\n",
       "      <th>11</th>\n",
       "      <td>StatusPernikahan_Belum_menikah</td>\n",
       "      <td>0.012086</td>\n",
       "    </tr>\n",
       "    <tr>\n",
       "      <th>15</th>\n",
       "      <td>StatusKepegawaian_FullTime</td>\n",
       "      <td>0.011058</td>\n",
       "    </tr>\n",
       "    <tr>\n",
       "      <th>14</th>\n",
       "      <td>StatusPernikahan_Menikah</td>\n",
       "      <td>0.010593</td>\n",
       "    </tr>\n",
       "    <tr>\n",
       "      <th>12</th>\n",
       "      <td>StatusPernikahan_Bercerai</td>\n",
       "      <td>0.009928</td>\n",
       "    </tr>\n",
       "    <tr>\n",
       "      <th>13</th>\n",
       "      <td>StatusPernikahan_Lainnya</td>\n",
       "      <td>0.009898</td>\n",
       "    </tr>\n",
       "    <tr>\n",
       "      <th>16</th>\n",
       "      <td>StatusKepegawaian_Internship</td>\n",
       "      <td>0.009072</td>\n",
       "    </tr>\n",
       "    <tr>\n",
       "      <th>17</th>\n",
       "      <td>Pekerjaan_Data Analyst</td>\n",
       "      <td>0.008550</td>\n",
       "    </tr>\n",
       "    <tr>\n",
       "      <th>18</th>\n",
       "      <td>Pekerjaan_Data Engineer</td>\n",
       "      <td>0.005449</td>\n",
       "    </tr>\n",
       "    <tr>\n",
       "      <th>27</th>\n",
       "      <td>Pekerjaan_Software Engineer (Android)</td>\n",
       "      <td>0.004184</td>\n",
       "    </tr>\n",
       "    <tr>\n",
       "      <th>24</th>\n",
       "      <td>Pekerjaan_Product Manager</td>\n",
       "      <td>0.002763</td>\n",
       "    </tr>\n",
       "    <tr>\n",
       "      <th>25</th>\n",
       "      <td>Pekerjaan_Scrum Master</td>\n",
       "      <td>0.001517</td>\n",
       "    </tr>\n",
       "    <tr>\n",
       "      <th>19</th>\n",
       "      <td>Pekerjaan_DevOps Engineer</td>\n",
       "      <td>0.000676</td>\n",
       "    </tr>\n",
       "    <tr>\n",
       "      <th>20</th>\n",
       "      <td>Pekerjaan_Digital Product Manager</td>\n",
       "      <td>0.000000</td>\n",
       "    </tr>\n",
       "    <tr>\n",
       "      <th>21</th>\n",
       "      <td>Pekerjaan_Machine Learning Engineer</td>\n",
       "      <td>0.000000</td>\n",
       "    </tr>\n",
       "    <tr>\n",
       "      <th>23</th>\n",
       "      <td>Pekerjaan_Product Design (UX Researcher)</td>\n",
       "      <td>0.000000</td>\n",
       "    </tr>\n",
       "    <tr>\n",
       "      <th>26</th>\n",
       "      <td>Pekerjaan_Software Architect</td>\n",
       "      <td>0.000000</td>\n",
       "    </tr>\n",
       "    <tr>\n",
       "      <th>30</th>\n",
       "      <td>Pekerjaan_Software Engineer (iOS)</td>\n",
       "      <td>0.000000</td>\n",
       "    </tr>\n",
       "  </tbody>\n",
       "</table>\n",
       "</div>"
      ],
      "text/plain": [
       "                                     feature  importance\n",
       "10                               LamaBekerja    0.466983\n",
       "9                                       umur    0.062098\n",
       "7                       JumlahKetidakhadiran    0.052486\n",
       "8                          TingkatPendidikan    0.051000\n",
       "3                       SkorSurveyEngagement    0.047843\n",
       "2                         PerformancePegawai    0.046022\n",
       "4                        SkorKepuasanPegawai    0.040939\n",
       "5                  JumlahKeikutsertaanProjek    0.036297\n",
       "1                               JenjangKarir    0.027748\n",
       "28    Pekerjaan_Software Engineer (Back End)    0.020239\n",
       "29   Pekerjaan_Software Engineer (Front End)    0.017419\n",
       "0                               JenisKelamin    0.017306\n",
       "6         JumlahKeterlambatanSebulanTerakhir    0.014444\n",
       "22        Pekerjaan_Product Design (UI & UX)    0.013401\n",
       "11            StatusPernikahan_Belum_menikah    0.012086\n",
       "15                StatusKepegawaian_FullTime    0.011058\n",
       "14                  StatusPernikahan_Menikah    0.010593\n",
       "12                 StatusPernikahan_Bercerai    0.009928\n",
       "13                  StatusPernikahan_Lainnya    0.009898\n",
       "16              StatusKepegawaian_Internship    0.009072\n",
       "17                    Pekerjaan_Data Analyst    0.008550\n",
       "18                   Pekerjaan_Data Engineer    0.005449\n",
       "27     Pekerjaan_Software Engineer (Android)    0.004184\n",
       "24                 Pekerjaan_Product Manager    0.002763\n",
       "25                    Pekerjaan_Scrum Master    0.001517\n",
       "19                 Pekerjaan_DevOps Engineer    0.000676\n",
       "20         Pekerjaan_Digital Product Manager    0.000000\n",
       "21       Pekerjaan_Machine Learning Engineer    0.000000\n",
       "23  Pekerjaan_Product Design (UX Researcher)    0.000000\n",
       "26              Pekerjaan_Software Architect    0.000000\n",
       "30         Pekerjaan_Software Engineer (iOS)    0.000000"
      ]
     },
     "execution_count": 159,
     "metadata": {},
     "output_type": "execute_result"
    }
   ],
   "source": [
    "best_model = rft.best_estimator_\n",
    "\n",
    "feature_importance = get_feature_importance(best_model, X_train)\n",
    "feature_importance"
   ]
  },
  {
   "cell_type": "code",
   "execution_count": null,
   "metadata": {},
   "outputs": [],
   "source": []
  }
 ],
 "metadata": {
  "kernelspec": {
   "display_name": "base",
   "language": "python",
   "name": "python3"
  },
  "language_info": {
   "codemirror_mode": {
    "name": "ipython",
    "version": 3
   },
   "file_extension": ".py",
   "mimetype": "text/x-python",
   "name": "python",
   "nbconvert_exporter": "python",
   "pygments_lexer": "ipython3",
   "version": "3.9.13"
  },
  "orig_nbformat": 4,
  "vscode": {
   "interpreter": {
    "hash": "a2ab3825ac7005fb7b26f112e9c99ae62f464c629e30b0d534c3b931b6cbc3ff"
   }
  }
 },
 "nbformat": 4,
 "nbformat_minor": 2
}
