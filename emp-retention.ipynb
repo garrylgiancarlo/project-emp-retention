{
 "cells": [
  {
   "cell_type": "markdown",
   "metadata": {},
   "source": [
    "# Improving Employee Retention by Predicting Employee Attrition Using Machine Learning"
   ]
  },
  {
   "attachments": {},
   "cell_type": "markdown",
   "metadata": {},
   "source": [
    "## Import Library and Dataset"
   ]
  },
  {
   "cell_type": "code",
   "execution_count": 1,
   "metadata": {},
   "outputs": [],
   "source": [
    "import pandas as pd\n",
    "import numpy as np\n",
    "import seaborn as sns\n",
    "import matplotlib.pyplot as plt\n",
    "import plotly.express as px\n",
    "import warnings\n",
    "warnings.filterwarnings('ignore')"
   ]
  },
  {
   "cell_type": "code",
   "execution_count": 2,
   "metadata": {},
   "outputs": [
    {
     "data": {
      "text/html": [
       "<div>\n",
       "<style scoped>\n",
       "    .dataframe tbody tr th:only-of-type {\n",
       "        vertical-align: middle;\n",
       "    }\n",
       "\n",
       "    .dataframe tbody tr th {\n",
       "        vertical-align: top;\n",
       "    }\n",
       "\n",
       "    .dataframe thead th {\n",
       "        text-align: right;\n",
       "    }\n",
       "</style>\n",
       "<table border=\"1\" class=\"dataframe\">\n",
       "  <thead>\n",
       "    <tr style=\"text-align: right;\">\n",
       "      <th></th>\n",
       "      <th>Username</th>\n",
       "      <th>EnterpriseID</th>\n",
       "      <th>StatusPernikahan</th>\n",
       "      <th>JenisKelamin</th>\n",
       "      <th>StatusKepegawaian</th>\n",
       "      <th>Pekerjaan</th>\n",
       "      <th>JenjangKarir</th>\n",
       "      <th>PerformancePegawai</th>\n",
       "      <th>AsalDaerah</th>\n",
       "      <th>HiringPlatform</th>\n",
       "      <th>SkorSurveyEngagement</th>\n",
       "      <th>SkorKepuasanPegawai</th>\n",
       "      <th>JumlahKeikutsertaanProjek</th>\n",
       "      <th>JumlahKeterlambatanSebulanTerakhir</th>\n",
       "      <th>JumlahKetidakhadiran</th>\n",
       "      <th>NomorHP</th>\n",
       "      <th>Email</th>\n",
       "      <th>TingkatPendidikan</th>\n",
       "      <th>PernahBekerja</th>\n",
       "      <th>IkutProgramLOP</th>\n",
       "      <th>AlasanResign</th>\n",
       "      <th>TanggalLahir</th>\n",
       "      <th>TanggalHiring</th>\n",
       "      <th>TanggalPenilaianKaryawan</th>\n",
       "      <th>TanggalResign</th>\n",
       "    </tr>\n",
       "  </thead>\n",
       "  <tbody>\n",
       "    <tr>\n",
       "      <th>0</th>\n",
       "      <td>spiritedPorpoise3</td>\n",
       "      <td>111065</td>\n",
       "      <td>Belum_menikah</td>\n",
       "      <td>Pria</td>\n",
       "      <td>Outsource</td>\n",
       "      <td>Software Engineer (Back End)</td>\n",
       "      <td>Freshgraduate_program</td>\n",
       "      <td>Sangat_bagus</td>\n",
       "      <td>Jakarta Timur</td>\n",
       "      <td>Employee_Referral</td>\n",
       "      <td>4</td>\n",
       "      <td>4.0</td>\n",
       "      <td>0.0</td>\n",
       "      <td>0.0</td>\n",
       "      <td>9.0</td>\n",
       "      <td>+6282232522xxx</td>\n",
       "      <td>spiritedPorpoise3135@yahoo.com</td>\n",
       "      <td>Magister</td>\n",
       "      <td>1</td>\n",
       "      <td>1.0</td>\n",
       "      <td>masih_bekerja</td>\n",
       "      <td>1972-07-01</td>\n",
       "      <td>2011-01-10</td>\n",
       "      <td>2016-2-15</td>\n",
       "      <td>-</td>\n",
       "    </tr>\n",
       "    <tr>\n",
       "      <th>1</th>\n",
       "      <td>jealousGelding2</td>\n",
       "      <td>106080</td>\n",
       "      <td>Belum_menikah</td>\n",
       "      <td>Pria</td>\n",
       "      <td>FullTime</td>\n",
       "      <td>Data Analyst</td>\n",
       "      <td>Freshgraduate_program</td>\n",
       "      <td>Sangat_kurang</td>\n",
       "      <td>Jakarta Utara</td>\n",
       "      <td>Website</td>\n",
       "      <td>4</td>\n",
       "      <td>4.0</td>\n",
       "      <td>4.0</td>\n",
       "      <td>0.0</td>\n",
       "      <td>3.0</td>\n",
       "      <td>+6281270745xxx</td>\n",
       "      <td>jealousGelding2239@yahoo.com</td>\n",
       "      <td>Sarjana</td>\n",
       "      <td>1</td>\n",
       "      <td>1.0</td>\n",
       "      <td>toxic_culture</td>\n",
       "      <td>1984-04-26</td>\n",
       "      <td>2014-01-06</td>\n",
       "      <td>2020-1-17</td>\n",
       "      <td>2018-6-16</td>\n",
       "    </tr>\n",
       "    <tr>\n",
       "      <th>2</th>\n",
       "      <td>pluckyMuesli3</td>\n",
       "      <td>106452</td>\n",
       "      <td>Menikah</td>\n",
       "      <td>Pria</td>\n",
       "      <td>FullTime</td>\n",
       "      <td>Software Engineer (Front End)</td>\n",
       "      <td>Freshgraduate_program</td>\n",
       "      <td>Bagus</td>\n",
       "      <td>Jakarta Timur</td>\n",
       "      <td>Indeed</td>\n",
       "      <td>4</td>\n",
       "      <td>3.0</td>\n",
       "      <td>0.0</td>\n",
       "      <td>0.0</td>\n",
       "      <td>11.0</td>\n",
       "      <td>+6281346215xxx</td>\n",
       "      <td>pluckyMuesli3961@icloud.com</td>\n",
       "      <td>Magister</td>\n",
       "      <td>1</td>\n",
       "      <td>1.0</td>\n",
       "      <td>jam_kerja</td>\n",
       "      <td>1974-01-07</td>\n",
       "      <td>2011-01-10</td>\n",
       "      <td>2016-01-10</td>\n",
       "      <td>2014-9-24</td>\n",
       "    </tr>\n",
       "    <tr>\n",
       "      <th>3</th>\n",
       "      <td>stressedTruffle1</td>\n",
       "      <td>106325</td>\n",
       "      <td>Belum_menikah</td>\n",
       "      <td>Pria</td>\n",
       "      <td>Outsource</td>\n",
       "      <td>Software Engineer (Front End)</td>\n",
       "      <td>Freshgraduate_program</td>\n",
       "      <td>Bagus</td>\n",
       "      <td>Jakarta Pusat</td>\n",
       "      <td>LinkedIn</td>\n",
       "      <td>3</td>\n",
       "      <td>3.0</td>\n",
       "      <td>0.0</td>\n",
       "      <td>4.0</td>\n",
       "      <td>6.0</td>\n",
       "      <td>+6283233846xxx</td>\n",
       "      <td>stressedTruffle1406@hotmail.com</td>\n",
       "      <td>Sarjana</td>\n",
       "      <td>1</td>\n",
       "      <td>0.0</td>\n",
       "      <td>masih_bekerja</td>\n",
       "      <td>1979-11-24</td>\n",
       "      <td>2014-2-17</td>\n",
       "      <td>2020-02-04</td>\n",
       "      <td>-</td>\n",
       "    </tr>\n",
       "    <tr>\n",
       "      <th>4</th>\n",
       "      <td>shyTermite7</td>\n",
       "      <td>111171</td>\n",
       "      <td>Belum_menikah</td>\n",
       "      <td>Wanita</td>\n",
       "      <td>FullTime</td>\n",
       "      <td>Product Manager</td>\n",
       "      <td>Freshgraduate_program</td>\n",
       "      <td>Bagus</td>\n",
       "      <td>Jakarta Timur</td>\n",
       "      <td>LinkedIn</td>\n",
       "      <td>3</td>\n",
       "      <td>3.0</td>\n",
       "      <td>0.0</td>\n",
       "      <td>0.0</td>\n",
       "      <td>11.0</td>\n",
       "      <td>+6287883263xxx</td>\n",
       "      <td>shyTermite7149@gmail.com</td>\n",
       "      <td>Sarjana</td>\n",
       "      <td>1</td>\n",
       "      <td>0.0</td>\n",
       "      <td>ganti_karir</td>\n",
       "      <td>1974-11-07</td>\n",
       "      <td>2013-11-11</td>\n",
       "      <td>2020-1-22</td>\n",
       "      <td>2018-09-06</td>\n",
       "    </tr>\n",
       "  </tbody>\n",
       "</table>\n",
       "</div>"
      ],
      "text/plain": [
       "            Username  EnterpriseID StatusPernikahan JenisKelamin  \\\n",
       "0  spiritedPorpoise3        111065    Belum_menikah         Pria   \n",
       "1    jealousGelding2        106080    Belum_menikah         Pria   \n",
       "2      pluckyMuesli3        106452          Menikah         Pria   \n",
       "3   stressedTruffle1        106325    Belum_menikah         Pria   \n",
       "4        shyTermite7        111171    Belum_menikah       Wanita   \n",
       "\n",
       "  StatusKepegawaian                      Pekerjaan           JenjangKarir  \\\n",
       "0         Outsource   Software Engineer (Back End)  Freshgraduate_program   \n",
       "1          FullTime                   Data Analyst  Freshgraduate_program   \n",
       "2          FullTime  Software Engineer (Front End)  Freshgraduate_program   \n",
       "3         Outsource  Software Engineer (Front End)  Freshgraduate_program   \n",
       "4          FullTime                Product Manager  Freshgraduate_program   \n",
       "\n",
       "  PerformancePegawai     AsalDaerah     HiringPlatform  SkorSurveyEngagement  \\\n",
       "0       Sangat_bagus  Jakarta Timur  Employee_Referral                     4   \n",
       "1      Sangat_kurang  Jakarta Utara            Website                     4   \n",
       "2              Bagus  Jakarta Timur             Indeed                     4   \n",
       "3              Bagus  Jakarta Pusat           LinkedIn                     3   \n",
       "4              Bagus  Jakarta Timur           LinkedIn                     3   \n",
       "\n",
       "   SkorKepuasanPegawai  JumlahKeikutsertaanProjek  \\\n",
       "0                  4.0                        0.0   \n",
       "1                  4.0                        4.0   \n",
       "2                  3.0                        0.0   \n",
       "3                  3.0                        0.0   \n",
       "4                  3.0                        0.0   \n",
       "\n",
       "   JumlahKeterlambatanSebulanTerakhir  JumlahKetidakhadiran         NomorHP  \\\n",
       "0                                 0.0                   9.0  +6282232522xxx   \n",
       "1                                 0.0                   3.0  +6281270745xxx   \n",
       "2                                 0.0                  11.0  +6281346215xxx   \n",
       "3                                 4.0                   6.0  +6283233846xxx   \n",
       "4                                 0.0                  11.0  +6287883263xxx   \n",
       "\n",
       "                             Email TingkatPendidikan PernahBekerja  \\\n",
       "0   spiritedPorpoise3135@yahoo.com          Magister             1   \n",
       "1     jealousGelding2239@yahoo.com           Sarjana             1   \n",
       "2      pluckyMuesli3961@icloud.com          Magister             1   \n",
       "3  stressedTruffle1406@hotmail.com           Sarjana             1   \n",
       "4         shyTermite7149@gmail.com           Sarjana             1   \n",
       "\n",
       "   IkutProgramLOP   AlasanResign TanggalLahir TanggalHiring  \\\n",
       "0             1.0  masih_bekerja   1972-07-01    2011-01-10   \n",
       "1             1.0  toxic_culture   1984-04-26    2014-01-06   \n",
       "2             1.0      jam_kerja   1974-01-07    2011-01-10   \n",
       "3             0.0  masih_bekerja   1979-11-24     2014-2-17   \n",
       "4             0.0    ganti_karir   1974-11-07    2013-11-11   \n",
       "\n",
       "  TanggalPenilaianKaryawan TanggalResign  \n",
       "0                2016-2-15             -  \n",
       "1                2020-1-17     2018-6-16  \n",
       "2               2016-01-10     2014-9-24  \n",
       "3               2020-02-04             -  \n",
       "4                2020-1-22    2018-09-06  "
      ]
     },
     "execution_count": 2,
     "metadata": {},
     "output_type": "execute_result"
    }
   ],
   "source": [
    "data_raw = pd.read_csv(r'Improving Employee Retention by Predicting Employee Attrition Using Machine Learning.xlsx - hr_data.csv')\n",
    "pd.set_option('display.max_column', None)\n",
    "data_raw.head()"
   ]
  },
  {
   "attachments": {},
   "cell_type": "markdown",
   "metadata": {},
   "source": [
    "## Data Understanding"
   ]
  },
  {
   "cell_type": "code",
   "execution_count": 3,
   "metadata": {},
   "outputs": [
    {
     "data": {
      "text/plain": [
       "(287, 25)"
      ]
     },
     "execution_count": 3,
     "metadata": {},
     "output_type": "execute_result"
    }
   ],
   "source": [
    "data_raw.shape"
   ]
  },
  {
   "cell_type": "code",
   "execution_count": 4,
   "metadata": {},
   "outputs": [
    {
     "name": "stdout",
     "output_type": "stream",
     "text": [
      "<class 'pandas.core.frame.DataFrame'>\n",
      "RangeIndex: 287 entries, 0 to 286\n",
      "Data columns (total 25 columns):\n",
      " #   Column                              Non-Null Count  Dtype  \n",
      "---  ------                              --------------  -----  \n",
      " 0   Username                            287 non-null    object \n",
      " 1   EnterpriseID                        287 non-null    int64  \n",
      " 2   StatusPernikahan                    287 non-null    object \n",
      " 3   JenisKelamin                        287 non-null    object \n",
      " 4   StatusKepegawaian                   287 non-null    object \n",
      " 5   Pekerjaan                           287 non-null    object \n",
      " 6   JenjangKarir                        287 non-null    object \n",
      " 7   PerformancePegawai                  287 non-null    object \n",
      " 8   AsalDaerah                          287 non-null    object \n",
      " 9   HiringPlatform                      287 non-null    object \n",
      " 10  SkorSurveyEngagement                287 non-null    int64  \n",
      " 11  SkorKepuasanPegawai                 282 non-null    float64\n",
      " 12  JumlahKeikutsertaanProjek           284 non-null    float64\n",
      " 13  JumlahKeterlambatanSebulanTerakhir  286 non-null    float64\n",
      " 14  JumlahKetidakhadiran                281 non-null    float64\n",
      " 15  NomorHP                             287 non-null    object \n",
      " 16  Email                               287 non-null    object \n",
      " 17  TingkatPendidikan                   287 non-null    object \n",
      " 18  PernahBekerja                       287 non-null    object \n",
      " 19  IkutProgramLOP                      29 non-null     float64\n",
      " 20  AlasanResign                        221 non-null    object \n",
      " 21  TanggalLahir                        287 non-null    object \n",
      " 22  TanggalHiring                       287 non-null    object \n",
      " 23  TanggalPenilaianKaryawan            287 non-null    object \n",
      " 24  TanggalResign                       287 non-null    object \n",
      "dtypes: float64(5), int64(2), object(18)\n",
      "memory usage: 56.2+ KB\n"
     ]
    }
   ],
   "source": [
    "data_raw.info()"
   ]
  },
  {
   "cell_type": "code",
   "execution_count": 5,
   "metadata": {},
   "outputs": [
    {
     "data": {
      "text/html": [
       "<div>\n",
       "<style scoped>\n",
       "    .dataframe tbody tr th:only-of-type {\n",
       "        vertical-align: middle;\n",
       "    }\n",
       "\n",
       "    .dataframe tbody tr th {\n",
       "        vertical-align: top;\n",
       "    }\n",
       "\n",
       "    .dataframe thead th {\n",
       "        text-align: right;\n",
       "    }\n",
       "</style>\n",
       "<table border=\"1\" class=\"dataframe\">\n",
       "  <thead>\n",
       "    <tr style=\"text-align: right;\">\n",
       "      <th></th>\n",
       "      <th>feature_name</th>\n",
       "      <th>sum_missing</th>\n",
       "      <th>percent_missing</th>\n",
       "    </tr>\n",
       "  </thead>\n",
       "  <tbody>\n",
       "    <tr>\n",
       "      <th>19</th>\n",
       "      <td>IkutProgramLOP</td>\n",
       "      <td>258</td>\n",
       "      <td>89.90</td>\n",
       "    </tr>\n",
       "    <tr>\n",
       "      <th>20</th>\n",
       "      <td>AlasanResign</td>\n",
       "      <td>66</td>\n",
       "      <td>23.00</td>\n",
       "    </tr>\n",
       "    <tr>\n",
       "      <th>14</th>\n",
       "      <td>JumlahKetidakhadiran</td>\n",
       "      <td>6</td>\n",
       "      <td>2.09</td>\n",
       "    </tr>\n",
       "    <tr>\n",
       "      <th>11</th>\n",
       "      <td>SkorKepuasanPegawai</td>\n",
       "      <td>5</td>\n",
       "      <td>1.74</td>\n",
       "    </tr>\n",
       "    <tr>\n",
       "      <th>12</th>\n",
       "      <td>JumlahKeikutsertaanProjek</td>\n",
       "      <td>3</td>\n",
       "      <td>1.05</td>\n",
       "    </tr>\n",
       "    <tr>\n",
       "      <th>13</th>\n",
       "      <td>JumlahKeterlambatanSebulanTerakhir</td>\n",
       "      <td>1</td>\n",
       "      <td>0.35</td>\n",
       "    </tr>\n",
       "    <tr>\n",
       "      <th>23</th>\n",
       "      <td>TanggalPenilaianKaryawan</td>\n",
       "      <td>0</td>\n",
       "      <td>0.00</td>\n",
       "    </tr>\n",
       "    <tr>\n",
       "      <th>22</th>\n",
       "      <td>TanggalHiring</td>\n",
       "      <td>0</td>\n",
       "      <td>0.00</td>\n",
       "    </tr>\n",
       "    <tr>\n",
       "      <th>21</th>\n",
       "      <td>TanggalLahir</td>\n",
       "      <td>0</td>\n",
       "      <td>0.00</td>\n",
       "    </tr>\n",
       "    <tr>\n",
       "      <th>18</th>\n",
       "      <td>PernahBekerja</td>\n",
       "      <td>0</td>\n",
       "      <td>0.00</td>\n",
       "    </tr>\n",
       "    <tr>\n",
       "      <th>17</th>\n",
       "      <td>TingkatPendidikan</td>\n",
       "      <td>0</td>\n",
       "      <td>0.00</td>\n",
       "    </tr>\n",
       "    <tr>\n",
       "      <th>16</th>\n",
       "      <td>Email</td>\n",
       "      <td>0</td>\n",
       "      <td>0.00</td>\n",
       "    </tr>\n",
       "    <tr>\n",
       "      <th>15</th>\n",
       "      <td>NomorHP</td>\n",
       "      <td>0</td>\n",
       "      <td>0.00</td>\n",
       "    </tr>\n",
       "    <tr>\n",
       "      <th>0</th>\n",
       "      <td>Username</td>\n",
       "      <td>0</td>\n",
       "      <td>0.00</td>\n",
       "    </tr>\n",
       "    <tr>\n",
       "      <th>1</th>\n",
       "      <td>EnterpriseID</td>\n",
       "      <td>0</td>\n",
       "      <td>0.00</td>\n",
       "    </tr>\n",
       "    <tr>\n",
       "      <th>10</th>\n",
       "      <td>SkorSurveyEngagement</td>\n",
       "      <td>0</td>\n",
       "      <td>0.00</td>\n",
       "    </tr>\n",
       "    <tr>\n",
       "      <th>9</th>\n",
       "      <td>HiringPlatform</td>\n",
       "      <td>0</td>\n",
       "      <td>0.00</td>\n",
       "    </tr>\n",
       "    <tr>\n",
       "      <th>8</th>\n",
       "      <td>AsalDaerah</td>\n",
       "      <td>0</td>\n",
       "      <td>0.00</td>\n",
       "    </tr>\n",
       "    <tr>\n",
       "      <th>7</th>\n",
       "      <td>PerformancePegawai</td>\n",
       "      <td>0</td>\n",
       "      <td>0.00</td>\n",
       "    </tr>\n",
       "    <tr>\n",
       "      <th>6</th>\n",
       "      <td>JenjangKarir</td>\n",
       "      <td>0</td>\n",
       "      <td>0.00</td>\n",
       "    </tr>\n",
       "    <tr>\n",
       "      <th>5</th>\n",
       "      <td>Pekerjaan</td>\n",
       "      <td>0</td>\n",
       "      <td>0.00</td>\n",
       "    </tr>\n",
       "    <tr>\n",
       "      <th>4</th>\n",
       "      <td>StatusKepegawaian</td>\n",
       "      <td>0</td>\n",
       "      <td>0.00</td>\n",
       "    </tr>\n",
       "    <tr>\n",
       "      <th>3</th>\n",
       "      <td>JenisKelamin</td>\n",
       "      <td>0</td>\n",
       "      <td>0.00</td>\n",
       "    </tr>\n",
       "    <tr>\n",
       "      <th>2</th>\n",
       "      <td>StatusPernikahan</td>\n",
       "      <td>0</td>\n",
       "      <td>0.00</td>\n",
       "    </tr>\n",
       "    <tr>\n",
       "      <th>24</th>\n",
       "      <td>TanggalResign</td>\n",
       "      <td>0</td>\n",
       "      <td>0.00</td>\n",
       "    </tr>\n",
       "  </tbody>\n",
       "</table>\n",
       "</div>"
      ],
      "text/plain": [
       "                          feature_name  sum_missing  percent_missing\n",
       "19                      IkutProgramLOP          258            89.90\n",
       "20                        AlasanResign           66            23.00\n",
       "14                JumlahKetidakhadiran            6             2.09\n",
       "11                 SkorKepuasanPegawai            5             1.74\n",
       "12           JumlahKeikutsertaanProjek            3             1.05\n",
       "13  JumlahKeterlambatanSebulanTerakhir            1             0.35\n",
       "23            TanggalPenilaianKaryawan            0             0.00\n",
       "22                       TanggalHiring            0             0.00\n",
       "21                        TanggalLahir            0             0.00\n",
       "18                       PernahBekerja            0             0.00\n",
       "17                   TingkatPendidikan            0             0.00\n",
       "16                               Email            0             0.00\n",
       "15                             NomorHP            0             0.00\n",
       "0                             Username            0             0.00\n",
       "1                         EnterpriseID            0             0.00\n",
       "10                SkorSurveyEngagement            0             0.00\n",
       "9                       HiringPlatform            0             0.00\n",
       "8                           AsalDaerah            0             0.00\n",
       "7                   PerformancePegawai            0             0.00\n",
       "6                         JenjangKarir            0             0.00\n",
       "5                            Pekerjaan            0             0.00\n",
       "4                    StatusKepegawaian            0             0.00\n",
       "3                         JenisKelamin            0             0.00\n",
       "2                     StatusPernikahan            0             0.00\n",
       "24                       TanggalResign            0             0.00"
      ]
     },
     "execution_count": 5,
     "metadata": {},
     "output_type": "execute_result"
    }
   ],
   "source": [
    "sum_missing = data_raw.isna().sum()\n",
    "percent_missing = round(data_raw.isnull().sum() *100 / len(data_raw),2)\n",
    "missing_value_df = pd.DataFrame({'feature_name': data_raw.columns,\n",
    "                                 'sum_missing': sum_missing,\n",
    "                                 'percent_missing': percent_missing}).reset_index(drop=True).sort_values(by='sum_missing', ascending=False)\n",
    "pd.set_option('display.max_rows', None)\n",
    "missing_value_df.head(100)"
   ]
  },
  {
   "cell_type": "code",
   "execution_count": 6,
   "metadata": {},
   "outputs": [
    {
     "data": {
      "text/html": [
       "<div>\n",
       "<style scoped>\n",
       "    .dataframe tbody tr th:only-of-type {\n",
       "        vertical-align: middle;\n",
       "    }\n",
       "\n",
       "    .dataframe tbody tr th {\n",
       "        vertical-align: top;\n",
       "    }\n",
       "\n",
       "    .dataframe thead th {\n",
       "        text-align: right;\n",
       "    }\n",
       "</style>\n",
       "<table border=\"1\" class=\"dataframe\">\n",
       "  <thead>\n",
       "    <tr style=\"text-align: right;\">\n",
       "      <th></th>\n",
       "      <th>count</th>\n",
       "      <th>mean</th>\n",
       "      <th>std</th>\n",
       "      <th>min</th>\n",
       "      <th>25%</th>\n",
       "      <th>50%</th>\n",
       "      <th>75%</th>\n",
       "      <th>max</th>\n",
       "    </tr>\n",
       "  </thead>\n",
       "  <tbody>\n",
       "    <tr>\n",
       "      <th>EnterpriseID</th>\n",
       "      <td>287.0</td>\n",
       "      <td>105923.324042</td>\n",
       "      <td>4044.977599</td>\n",
       "      <td>100282.0</td>\n",
       "      <td>101269.0</td>\n",
       "      <td>106069.0</td>\n",
       "      <td>110514.5</td>\n",
       "      <td>111703.0</td>\n",
       "    </tr>\n",
       "    <tr>\n",
       "      <th>SkorSurveyEngagement</th>\n",
       "      <td>287.0</td>\n",
       "      <td>3.101045</td>\n",
       "      <td>0.836388</td>\n",
       "      <td>1.0</td>\n",
       "      <td>3.0</td>\n",
       "      <td>3.0</td>\n",
       "      <td>4.0</td>\n",
       "      <td>5.0</td>\n",
       "    </tr>\n",
       "    <tr>\n",
       "      <th>SkorKepuasanPegawai</th>\n",
       "      <td>282.0</td>\n",
       "      <td>3.904255</td>\n",
       "      <td>0.913355</td>\n",
       "      <td>1.0</td>\n",
       "      <td>3.0</td>\n",
       "      <td>4.0</td>\n",
       "      <td>5.0</td>\n",
       "      <td>5.0</td>\n",
       "    </tr>\n",
       "    <tr>\n",
       "      <th>JumlahKeikutsertaanProjek</th>\n",
       "      <td>284.0</td>\n",
       "      <td>1.179577</td>\n",
       "      <td>2.294441</td>\n",
       "      <td>0.0</td>\n",
       "      <td>0.0</td>\n",
       "      <td>0.0</td>\n",
       "      <td>0.0</td>\n",
       "      <td>8.0</td>\n",
       "    </tr>\n",
       "    <tr>\n",
       "      <th>JumlahKeterlambatanSebulanTerakhir</th>\n",
       "      <td>286.0</td>\n",
       "      <td>0.412587</td>\n",
       "      <td>1.275016</td>\n",
       "      <td>0.0</td>\n",
       "      <td>0.0</td>\n",
       "      <td>0.0</td>\n",
       "      <td>0.0</td>\n",
       "      <td>6.0</td>\n",
       "    </tr>\n",
       "    <tr>\n",
       "      <th>JumlahKetidakhadiran</th>\n",
       "      <td>281.0</td>\n",
       "      <td>10.448399</td>\n",
       "      <td>6.902252</td>\n",
       "      <td>1.0</td>\n",
       "      <td>5.0</td>\n",
       "      <td>10.0</td>\n",
       "      <td>15.0</td>\n",
       "      <td>55.0</td>\n",
       "    </tr>\n",
       "    <tr>\n",
       "      <th>IkutProgramLOP</th>\n",
       "      <td>29.0</td>\n",
       "      <td>0.517241</td>\n",
       "      <td>0.508548</td>\n",
       "      <td>0.0</td>\n",
       "      <td>0.0</td>\n",
       "      <td>1.0</td>\n",
       "      <td>1.0</td>\n",
       "      <td>1.0</td>\n",
       "    </tr>\n",
       "  </tbody>\n",
       "</table>\n",
       "</div>"
      ],
      "text/plain": [
       "                                    count           mean          std  \\\n",
       "EnterpriseID                        287.0  105923.324042  4044.977599   \n",
       "SkorSurveyEngagement                287.0       3.101045     0.836388   \n",
       "SkorKepuasanPegawai                 282.0       3.904255     0.913355   \n",
       "JumlahKeikutsertaanProjek           284.0       1.179577     2.294441   \n",
       "JumlahKeterlambatanSebulanTerakhir  286.0       0.412587     1.275016   \n",
       "JumlahKetidakhadiran                281.0      10.448399     6.902252   \n",
       "IkutProgramLOP                       29.0       0.517241     0.508548   \n",
       "\n",
       "                                         min       25%       50%       75%  \\\n",
       "EnterpriseID                        100282.0  101269.0  106069.0  110514.5   \n",
       "SkorSurveyEngagement                     1.0       3.0       3.0       4.0   \n",
       "SkorKepuasanPegawai                      1.0       3.0       4.0       5.0   \n",
       "JumlahKeikutsertaanProjek                0.0       0.0       0.0       0.0   \n",
       "JumlahKeterlambatanSebulanTerakhir       0.0       0.0       0.0       0.0   \n",
       "JumlahKetidakhadiran                     1.0       5.0      10.0      15.0   \n",
       "IkutProgramLOP                           0.0       0.0       1.0       1.0   \n",
       "\n",
       "                                         max  \n",
       "EnterpriseID                        111703.0  \n",
       "SkorSurveyEngagement                     5.0  \n",
       "SkorKepuasanPegawai                      5.0  \n",
       "JumlahKeikutsertaanProjek                8.0  \n",
       "JumlahKeterlambatanSebulanTerakhir       6.0  \n",
       "JumlahKetidakhadiran                    55.0  \n",
       "IkutProgramLOP                           1.0  "
      ]
     },
     "execution_count": 6,
     "metadata": {},
     "output_type": "execute_result"
    }
   ],
   "source": [
    "data_raw.describe().T"
   ]
  },
  {
   "cell_type": "code",
   "execution_count": 7,
   "metadata": {},
   "outputs": [
    {
     "data": {
      "text/html": [
       "<div>\n",
       "<style scoped>\n",
       "    .dataframe tbody tr th:only-of-type {\n",
       "        vertical-align: middle;\n",
       "    }\n",
       "\n",
       "    .dataframe tbody tr th {\n",
       "        vertical-align: top;\n",
       "    }\n",
       "\n",
       "    .dataframe thead th {\n",
       "        text-align: right;\n",
       "    }\n",
       "</style>\n",
       "<table border=\"1\" class=\"dataframe\">\n",
       "  <thead>\n",
       "    <tr style=\"text-align: right;\">\n",
       "      <th></th>\n",
       "      <th>count</th>\n",
       "      <th>unique</th>\n",
       "      <th>top</th>\n",
       "      <th>freq</th>\n",
       "    </tr>\n",
       "  </thead>\n",
       "  <tbody>\n",
       "    <tr>\n",
       "      <th>Username</th>\n",
       "      <td>287</td>\n",
       "      <td>285</td>\n",
       "      <td>boredEggs0</td>\n",
       "      <td>2</td>\n",
       "    </tr>\n",
       "    <tr>\n",
       "      <th>StatusPernikahan</th>\n",
       "      <td>287</td>\n",
       "      <td>5</td>\n",
       "      <td>Belum_menikah</td>\n",
       "      <td>132</td>\n",
       "    </tr>\n",
       "    <tr>\n",
       "      <th>JenisKelamin</th>\n",
       "      <td>287</td>\n",
       "      <td>2</td>\n",
       "      <td>Wanita</td>\n",
       "      <td>167</td>\n",
       "    </tr>\n",
       "    <tr>\n",
       "      <th>StatusKepegawaian</th>\n",
       "      <td>287</td>\n",
       "      <td>3</td>\n",
       "      <td>FullTime</td>\n",
       "      <td>217</td>\n",
       "    </tr>\n",
       "    <tr>\n",
       "      <th>Pekerjaan</th>\n",
       "      <td>287</td>\n",
       "      <td>14</td>\n",
       "      <td>Software Engineer (Back End)</td>\n",
       "      <td>109</td>\n",
       "    </tr>\n",
       "    <tr>\n",
       "      <th>JenjangKarir</th>\n",
       "      <td>287</td>\n",
       "      <td>3</td>\n",
       "      <td>Freshgraduate_program</td>\n",
       "      <td>169</td>\n",
       "    </tr>\n",
       "    <tr>\n",
       "      <th>PerformancePegawai</th>\n",
       "      <td>287</td>\n",
       "      <td>5</td>\n",
       "      <td>Biasa</td>\n",
       "      <td>85</td>\n",
       "    </tr>\n",
       "    <tr>\n",
       "      <th>AsalDaerah</th>\n",
       "      <td>287</td>\n",
       "      <td>5</td>\n",
       "      <td>Jakarta Pusat</td>\n",
       "      <td>72</td>\n",
       "    </tr>\n",
       "    <tr>\n",
       "      <th>HiringPlatform</th>\n",
       "      <td>287</td>\n",
       "      <td>9</td>\n",
       "      <td>Indeed</td>\n",
       "      <td>85</td>\n",
       "    </tr>\n",
       "    <tr>\n",
       "      <th>NomorHP</th>\n",
       "      <td>287</td>\n",
       "      <td>287</td>\n",
       "      <td>+6282232522xxx</td>\n",
       "      <td>1</td>\n",
       "    </tr>\n",
       "    <tr>\n",
       "      <th>Email</th>\n",
       "      <td>287</td>\n",
       "      <td>287</td>\n",
       "      <td>spiritedPorpoise3135@yahoo.com</td>\n",
       "      <td>1</td>\n",
       "    </tr>\n",
       "    <tr>\n",
       "      <th>TingkatPendidikan</th>\n",
       "      <td>287</td>\n",
       "      <td>3</td>\n",
       "      <td>Sarjana</td>\n",
       "      <td>176</td>\n",
       "    </tr>\n",
       "    <tr>\n",
       "      <th>PernahBekerja</th>\n",
       "      <td>287</td>\n",
       "      <td>2</td>\n",
       "      <td>1</td>\n",
       "      <td>286</td>\n",
       "    </tr>\n",
       "    <tr>\n",
       "      <th>AlasanResign</th>\n",
       "      <td>221</td>\n",
       "      <td>11</td>\n",
       "      <td>masih_bekerja</td>\n",
       "      <td>132</td>\n",
       "    </tr>\n",
       "    <tr>\n",
       "      <th>TanggalLahir</th>\n",
       "      <td>287</td>\n",
       "      <td>284</td>\n",
       "      <td>1987-06-14</td>\n",
       "      <td>2</td>\n",
       "    </tr>\n",
       "    <tr>\n",
       "      <th>TanggalHiring</th>\n",
       "      <td>287</td>\n",
       "      <td>97</td>\n",
       "      <td>2011-01-10</td>\n",
       "      <td>12</td>\n",
       "    </tr>\n",
       "    <tr>\n",
       "      <th>TanggalPenilaianKaryawan</th>\n",
       "      <td>287</td>\n",
       "      <td>127</td>\n",
       "      <td>2020-1-14</td>\n",
       "      <td>17</td>\n",
       "    </tr>\n",
       "    <tr>\n",
       "      <th>TanggalResign</th>\n",
       "      <td>287</td>\n",
       "      <td>53</td>\n",
       "      <td>-</td>\n",
       "      <td>198</td>\n",
       "    </tr>\n",
       "  </tbody>\n",
       "</table>\n",
       "</div>"
      ],
      "text/plain": [
       "                         count unique                             top freq\n",
       "Username                   287    285                      boredEggs0    2\n",
       "StatusPernikahan           287      5                   Belum_menikah  132\n",
       "JenisKelamin               287      2                          Wanita  167\n",
       "StatusKepegawaian          287      3                        FullTime  217\n",
       "Pekerjaan                  287     14    Software Engineer (Back End)  109\n",
       "JenjangKarir               287      3           Freshgraduate_program  169\n",
       "PerformancePegawai         287      5                           Biasa   85\n",
       "AsalDaerah                 287      5                   Jakarta Pusat   72\n",
       "HiringPlatform             287      9                          Indeed   85\n",
       "NomorHP                    287    287                  +6282232522xxx    1\n",
       "Email                      287    287  spiritedPorpoise3135@yahoo.com    1\n",
       "TingkatPendidikan          287      3                         Sarjana  176\n",
       "PernahBekerja              287      2                               1  286\n",
       "AlasanResign               221     11                   masih_bekerja  132\n",
       "TanggalLahir               287    284                      1987-06-14    2\n",
       "TanggalHiring              287     97                      2011-01-10   12\n",
       "TanggalPenilaianKaryawan   287    127                       2020-1-14   17\n",
       "TanggalResign              287     53                               -  198"
      ]
     },
     "execution_count": 7,
     "metadata": {},
     "output_type": "execute_result"
    }
   ],
   "source": [
    "data_raw.select_dtypes(include='object').describe().T"
   ]
  },
  {
   "cell_type": "code",
   "execution_count": 8,
   "metadata": {},
   "outputs": [
    {
     "data": {
      "text/plain": [
       "Username                              285\n",
       "EnterpriseID                          287\n",
       "StatusPernikahan                        5\n",
       "JenisKelamin                            2\n",
       "StatusKepegawaian                       3\n",
       "Pekerjaan                              14\n",
       "JenjangKarir                            3\n",
       "PerformancePegawai                      5\n",
       "AsalDaerah                              5\n",
       "HiringPlatform                          9\n",
       "SkorSurveyEngagement                    5\n",
       "SkorKepuasanPegawai                     5\n",
       "JumlahKeikutsertaanProjek               9\n",
       "JumlahKeterlambatanSebulanTerakhir      7\n",
       "JumlahKetidakhadiran                   22\n",
       "NomorHP                               287\n",
       "Email                                 287\n",
       "TingkatPendidikan                       3\n",
       "PernahBekerja                           2\n",
       "IkutProgramLOP                          2\n",
       "AlasanResign                           11\n",
       "TanggalLahir                          284\n",
       "TanggalHiring                          97\n",
       "TanggalPenilaianKaryawan              127\n",
       "TanggalResign                          53\n",
       "dtype: int64"
      ]
     },
     "execution_count": 8,
     "metadata": {},
     "output_type": "execute_result"
    }
   ],
   "source": [
    "data_raw.nunique()"
   ]
  },
  {
   "attachments": {},
   "cell_type": "markdown",
   "metadata": {},
   "source": [
    "## Preprocessing"
   ]
  },
  {
   "attachments": {},
   "cell_type": "markdown",
   "metadata": {},
   "source": [
    "### Feature Engineering"
   ]
  },
  {
   "attachments": {},
   "cell_type": "markdown",
   "metadata": {},
   "source": [
    "Sebelum melakukan preprocessing data lainnya, ada baiknya kita drop beberapa feature yang nantinya tidak/kurang berguna untuk analisis maupun untuk modeling:\n",
    "1. Feature identitas seperti `Username, EnterpriseID, NomorHP,Email`\n",
    "2. `IkutProgramLOP` karena mengandung terlalu banyak missing value\n",
    "3. `TanggalPenilaianKaryawan` karena banyak ditemukan data yang kurang valid(tanggal penilaian setelah karyawan resign)"
   ]
  },
  {
   "cell_type": "code",
   "execution_count": 9,
   "metadata": {},
   "outputs": [],
   "source": [
    "feature_drop = [# Identitas\n",
    "                'Username',\n",
    "                'EnterpriseID',\n",
    "                'NomorHP',\n",
    "                'Email',\n",
    "                # Missing value > 80%\n",
    "                'IkutProgramLOP',\n",
    "                # Invalid\n",
    "                'TanggalPenilaianKaryawan'\n",
    "]"
   ]
  },
  {
   "cell_type": "code",
   "execution_count": 10,
   "metadata": {},
   "outputs": [],
   "source": [
    "data_pre = data_raw.drop(feature_drop, axis=1)"
   ]
  },
  {
   "cell_type": "code",
   "execution_count": 11,
   "metadata": {},
   "outputs": [
    {
     "data": {
      "text/html": [
       "<div>\n",
       "<style scoped>\n",
       "    .dataframe tbody tr th:only-of-type {\n",
       "        vertical-align: middle;\n",
       "    }\n",
       "\n",
       "    .dataframe tbody tr th {\n",
       "        vertical-align: top;\n",
       "    }\n",
       "\n",
       "    .dataframe thead th {\n",
       "        text-align: right;\n",
       "    }\n",
       "</style>\n",
       "<table border=\"1\" class=\"dataframe\">\n",
       "  <thead>\n",
       "    <tr style=\"text-align: right;\">\n",
       "      <th></th>\n",
       "      <th>StatusPernikahan</th>\n",
       "      <th>JenisKelamin</th>\n",
       "      <th>StatusKepegawaian</th>\n",
       "      <th>Pekerjaan</th>\n",
       "      <th>JenjangKarir</th>\n",
       "      <th>PerformancePegawai</th>\n",
       "      <th>AsalDaerah</th>\n",
       "      <th>HiringPlatform</th>\n",
       "      <th>SkorSurveyEngagement</th>\n",
       "      <th>SkorKepuasanPegawai</th>\n",
       "      <th>JumlahKeikutsertaanProjek</th>\n",
       "      <th>JumlahKeterlambatanSebulanTerakhir</th>\n",
       "      <th>JumlahKetidakhadiran</th>\n",
       "      <th>TingkatPendidikan</th>\n",
       "      <th>PernahBekerja</th>\n",
       "      <th>AlasanResign</th>\n",
       "      <th>TanggalLahir</th>\n",
       "      <th>TanggalHiring</th>\n",
       "      <th>TanggalResign</th>\n",
       "    </tr>\n",
       "  </thead>\n",
       "  <tbody>\n",
       "    <tr>\n",
       "      <th>0</th>\n",
       "      <td>Belum_menikah</td>\n",
       "      <td>Pria</td>\n",
       "      <td>Outsource</td>\n",
       "      <td>Software Engineer (Back End)</td>\n",
       "      <td>Freshgraduate_program</td>\n",
       "      <td>Sangat_bagus</td>\n",
       "      <td>Jakarta Timur</td>\n",
       "      <td>Employee_Referral</td>\n",
       "      <td>4</td>\n",
       "      <td>4.0</td>\n",
       "      <td>0.0</td>\n",
       "      <td>0.0</td>\n",
       "      <td>9.0</td>\n",
       "      <td>Magister</td>\n",
       "      <td>1</td>\n",
       "      <td>masih_bekerja</td>\n",
       "      <td>1972-07-01</td>\n",
       "      <td>2011-01-10</td>\n",
       "      <td>-</td>\n",
       "    </tr>\n",
       "  </tbody>\n",
       "</table>\n",
       "</div>"
      ],
      "text/plain": [
       "  StatusPernikahan JenisKelamin StatusKepegawaian  \\\n",
       "0    Belum_menikah         Pria         Outsource   \n",
       "\n",
       "                      Pekerjaan           JenjangKarir PerformancePegawai  \\\n",
       "0  Software Engineer (Back End)  Freshgraduate_program       Sangat_bagus   \n",
       "\n",
       "      AsalDaerah     HiringPlatform  SkorSurveyEngagement  \\\n",
       "0  Jakarta Timur  Employee_Referral                     4   \n",
       "\n",
       "   SkorKepuasanPegawai  JumlahKeikutsertaanProjek  \\\n",
       "0                  4.0                        0.0   \n",
       "\n",
       "   JumlahKeterlambatanSebulanTerakhir  JumlahKetidakhadiran TingkatPendidikan  \\\n",
       "0                                 0.0                   9.0          Magister   \n",
       "\n",
       "  PernahBekerja   AlasanResign TanggalLahir TanggalHiring TanggalResign  \n",
       "0             1  masih_bekerja   1972-07-01    2011-01-10             -  "
      ]
     },
     "execution_count": 11,
     "metadata": {},
     "output_type": "execute_result"
    }
   ],
   "source": [
    "data_pre.head(1)"
   ]
  },
  {
   "attachments": {},
   "cell_type": "markdown",
   "metadata": {},
   "source": [
    "#### Labeling/Define Target"
   ]
  },
  {
   "attachments": {},
   "cell_type": "markdown",
   "metadata": {},
   "source": [
    "Dalam modeling ini, tujuan utamanya untuk memprediksi pengunduran diri karyawan berdasarkan dari perilaku, karakteristik, dan faktor lain dari feature yang tersedia. Oleh karena itu, target dari dataset ini menjelaskan apakah karyawan tersebut resign atau tidak\n",
    "<br>\n",
    "<br>\n",
    "Dalam dataset ini feature `AlasanResign` dapat digunakan untuk menjelaskan apakah karyawan tersebut resign atau tidak"
   ]
  },
  {
   "cell_type": "code",
   "execution_count": 12,
   "metadata": {},
   "outputs": [
    {
     "data": {
      "text/plain": [
       "masih_bekerja               132\n",
       "jam_kerja                    16\n",
       "ganti_karir                  14\n",
       "kejelasan_karir              11\n",
       "tidak_bisa_remote            11\n",
       "toxic_culture                10\n",
       "leadership                    9\n",
       "tidak_bahagia                 8\n",
       "internal_conflict             4\n",
       "Product Design (UI & UX)      4\n",
       "apresiasi                     2\n",
       "Name: AlasanResign, dtype: int64"
      ]
     },
     "execution_count": 12,
     "metadata": {},
     "output_type": "execute_result"
    }
   ],
   "source": [
    "data_pre['AlasanResign'].value_counts()"
   ]
  },
  {
   "attachments": {},
   "cell_type": "markdown",
   "metadata": {},
   "source": [
    "Feature `AlasanResign` memiliki beberapa value yang menjelaskan apakah karyawan tersebut `masih_bekerja` atau tidak, dan masing-masing alasan seorang karyawan memilih untuk resign\n",
    "<br> Jadi untuk labeling kita akan membuat feature `resign` dengan value 0 (masih bekerja) dan 1(resign).\n",
    "<br> Namun ada satu yang unik disini dimana ada `AlasanResign` dengan value `Product Design (UI & UX)` dimana hal tersebut adalah posisi dari karyawan tersebut."
   ]
  },
  {
   "cell_type": "code",
   "execution_count": 13,
   "metadata": {},
   "outputs": [
    {
     "data": {
      "text/html": [
       "<div>\n",
       "<style scoped>\n",
       "    .dataframe tbody tr th:only-of-type {\n",
       "        vertical-align: middle;\n",
       "    }\n",
       "\n",
       "    .dataframe tbody tr th {\n",
       "        vertical-align: top;\n",
       "    }\n",
       "\n",
       "    .dataframe thead th {\n",
       "        text-align: right;\n",
       "    }\n",
       "</style>\n",
       "<table border=\"1\" class=\"dataframe\">\n",
       "  <thead>\n",
       "    <tr style=\"text-align: right;\">\n",
       "      <th></th>\n",
       "      <th>StatusPernikahan</th>\n",
       "      <th>JenisKelamin</th>\n",
       "      <th>StatusKepegawaian</th>\n",
       "      <th>Pekerjaan</th>\n",
       "      <th>JenjangKarir</th>\n",
       "      <th>PerformancePegawai</th>\n",
       "      <th>AsalDaerah</th>\n",
       "      <th>HiringPlatform</th>\n",
       "      <th>SkorSurveyEngagement</th>\n",
       "      <th>SkorKepuasanPegawai</th>\n",
       "      <th>JumlahKeikutsertaanProjek</th>\n",
       "      <th>JumlahKeterlambatanSebulanTerakhir</th>\n",
       "      <th>JumlahKetidakhadiran</th>\n",
       "      <th>TingkatPendidikan</th>\n",
       "      <th>PernahBekerja</th>\n",
       "      <th>AlasanResign</th>\n",
       "      <th>TanggalLahir</th>\n",
       "      <th>TanggalHiring</th>\n",
       "      <th>TanggalResign</th>\n",
       "    </tr>\n",
       "  </thead>\n",
       "  <tbody>\n",
       "    <tr>\n",
       "      <th>27</th>\n",
       "      <td>Menikah</td>\n",
       "      <td>Wanita</td>\n",
       "      <td>FullTime</td>\n",
       "      <td>Software Engineer (Front End)</td>\n",
       "      <td>Senior_level</td>\n",
       "      <td>Biasa</td>\n",
       "      <td>Jakarta Selatan</td>\n",
       "      <td>LinkedIn</td>\n",
       "      <td>3</td>\n",
       "      <td>5.0</td>\n",
       "      <td>0.0</td>\n",
       "      <td>0.0</td>\n",
       "      <td>15.0</td>\n",
       "      <td>Sarjana</td>\n",
       "      <td>1</td>\n",
       "      <td>Product Design (UI &amp; UX)</td>\n",
       "      <td>1987-04-10</td>\n",
       "      <td>2016-07-06</td>\n",
       "      <td>2016-08-07</td>\n",
       "    </tr>\n",
       "    <tr>\n",
       "      <th>124</th>\n",
       "      <td>Belum_menikah</td>\n",
       "      <td>Pria</td>\n",
       "      <td>FullTime</td>\n",
       "      <td>Product Design (UI &amp; UX)</td>\n",
       "      <td>Freshgraduate_program</td>\n",
       "      <td>Sangat_bagus</td>\n",
       "      <td>Jakarta Utara</td>\n",
       "      <td>Diversity_Job_Fair</td>\n",
       "      <td>3</td>\n",
       "      <td>3.0</td>\n",
       "      <td>0.0</td>\n",
       "      <td>0.0</td>\n",
       "      <td>19.0</td>\n",
       "      <td>Sarjana</td>\n",
       "      <td>1</td>\n",
       "      <td>Product Design (UI &amp; UX)</td>\n",
       "      <td>1989-05-02</td>\n",
       "      <td>2011-9-26</td>\n",
       "      <td>2017-12-15</td>\n",
       "    </tr>\n",
       "    <tr>\n",
       "      <th>147</th>\n",
       "      <td>Menikah</td>\n",
       "      <td>Wanita</td>\n",
       "      <td>FullTime</td>\n",
       "      <td>Software Engineer (Front End)</td>\n",
       "      <td>Freshgraduate_program</td>\n",
       "      <td>Sangat_bagus</td>\n",
       "      <td>Jakarta Timur</td>\n",
       "      <td>LinkedIn</td>\n",
       "      <td>3</td>\n",
       "      <td>5.0</td>\n",
       "      <td>0.0</td>\n",
       "      <td>0.0</td>\n",
       "      <td>20.0</td>\n",
       "      <td>Sarjana</td>\n",
       "      <td>1</td>\n",
       "      <td>Product Design (UI &amp; UX)</td>\n",
       "      <td>1969-02-09</td>\n",
       "      <td>2012-03-07</td>\n",
       "      <td>2016-4-24</td>\n",
       "    </tr>\n",
       "    <tr>\n",
       "      <th>203</th>\n",
       "      <td>Menikah</td>\n",
       "      <td>Wanita</td>\n",
       "      <td>FullTime</td>\n",
       "      <td>Software Engineer (Back End)</td>\n",
       "      <td>Mid_level</td>\n",
       "      <td>Sangat_bagus</td>\n",
       "      <td>Jakarta Selatan</td>\n",
       "      <td>Website</td>\n",
       "      <td>3</td>\n",
       "      <td>5.0</td>\n",
       "      <td>0.0</td>\n",
       "      <td>0.0</td>\n",
       "      <td>9.0</td>\n",
       "      <td>Sarjana</td>\n",
       "      <td>1</td>\n",
       "      <td>Product Design (UI &amp; UX)</td>\n",
       "      <td>1988-08-29</td>\n",
       "      <td>2012-01-09</td>\n",
       "      <td>2018-04-01</td>\n",
       "    </tr>\n",
       "  </tbody>\n",
       "</table>\n",
       "</div>"
      ],
      "text/plain": [
       "    StatusPernikahan JenisKelamin StatusKepegawaian  \\\n",
       "27           Menikah       Wanita          FullTime   \n",
       "124    Belum_menikah         Pria          FullTime   \n",
       "147          Menikah       Wanita          FullTime   \n",
       "203          Menikah       Wanita          FullTime   \n",
       "\n",
       "                         Pekerjaan           JenjangKarir PerformancePegawai  \\\n",
       "27   Software Engineer (Front End)           Senior_level              Biasa   \n",
       "124       Product Design (UI & UX)  Freshgraduate_program       Sangat_bagus   \n",
       "147  Software Engineer (Front End)  Freshgraduate_program       Sangat_bagus   \n",
       "203   Software Engineer (Back End)              Mid_level       Sangat_bagus   \n",
       "\n",
       "          AsalDaerah      HiringPlatform  SkorSurveyEngagement  \\\n",
       "27   Jakarta Selatan            LinkedIn                     3   \n",
       "124    Jakarta Utara  Diversity_Job_Fair                     3   \n",
       "147    Jakarta Timur            LinkedIn                     3   \n",
       "203  Jakarta Selatan             Website                     3   \n",
       "\n",
       "     SkorKepuasanPegawai  JumlahKeikutsertaanProjek  \\\n",
       "27                   5.0                        0.0   \n",
       "124                  3.0                        0.0   \n",
       "147                  5.0                        0.0   \n",
       "203                  5.0                        0.0   \n",
       "\n",
       "     JumlahKeterlambatanSebulanTerakhir  JumlahKetidakhadiran  \\\n",
       "27                                  0.0                  15.0   \n",
       "124                                 0.0                  19.0   \n",
       "147                                 0.0                  20.0   \n",
       "203                                 0.0                   9.0   \n",
       "\n",
       "    TingkatPendidikan PernahBekerja              AlasanResign TanggalLahir  \\\n",
       "27            Sarjana             1  Product Design (UI & UX)   1987-04-10   \n",
       "124           Sarjana             1  Product Design (UI & UX)   1989-05-02   \n",
       "147           Sarjana             1  Product Design (UI & UX)   1969-02-09   \n",
       "203           Sarjana             1  Product Design (UI & UX)   1988-08-29   \n",
       "\n",
       "    TanggalHiring TanggalResign  \n",
       "27     2016-07-06    2016-08-07  \n",
       "124     2011-9-26    2017-12-15  \n",
       "147    2012-03-07     2016-4-24  \n",
       "203    2012-01-09    2018-04-01  "
      ]
     },
     "execution_count": 13,
     "metadata": {},
     "output_type": "execute_result"
    }
   ],
   "source": [
    "data_pre[(data_pre['AlasanResign']=='Product Design (UI & UX)')].head()"
   ]
  },
  {
   "attachments": {},
   "cell_type": "markdown",
   "metadata": {},
   "source": [
    "Setelah diteliti lebih lanjut, karyawan dengan `AlasanResign` Product Design (UI & UX) sudah ada tanggal resignnya, jadi hal tersebut kemungkinan adalah kesalahan pada proses input data"
   ]
  },
  {
   "cell_type": "code",
   "execution_count": 14,
   "metadata": {},
   "outputs": [
    {
     "data": {
      "text/plain": [
       "66"
      ]
     },
     "execution_count": 14,
     "metadata": {},
     "output_type": "execute_result"
    }
   ],
   "source": [
    "data_pre['AlasanResign'].isna().sum()"
   ]
  },
  {
   "attachments": {},
   "cell_type": "markdown",
   "metadata": {},
   "source": [
    "Terdapat 66 baris yang kosong dalam feature `AlasanResign` untuk memastikan akan diisi apa mari kita apakah karyawan tersebut sudah resign atau belum"
   ]
  },
  {
   "cell_type": "code",
   "execution_count": 15,
   "metadata": {},
   "outputs": [
    {
     "data": {
      "text/plain": [
       "(66, 19)"
      ]
     },
     "execution_count": 15,
     "metadata": {},
     "output_type": "execute_result"
    }
   ],
   "source": [
    "data_res = data_pre[(data_pre['AlasanResign'].isnull()) & (data_pre['TanggalResign']=='-')]\n",
    "data_res.shape"
   ]
  },
  {
   "attachments": {},
   "cell_type": "markdown",
   "metadata": {},
   "source": [
    "Hal tersebut membuktikan bahwa pada feature `AlasanResign` baris yang kosong merupakan karyawan yang masih bekerja semua, oleh karena itu kita akan imputasi masih_bekerja pada baris yang kosong"
   ]
  },
  {
   "cell_type": "code",
   "execution_count": 16,
   "metadata": {},
   "outputs": [],
   "source": [
    "data_pre['AlasanResign'].fillna('masih_bekerja', inplace=True)"
   ]
  },
  {
   "cell_type": "code",
   "execution_count": 17,
   "metadata": {},
   "outputs": [],
   "source": [
    "data_pre['resign'] = np.where((data_pre['AlasanResign']=='masih_bekerja'), 0, 1)"
   ]
  },
  {
   "cell_type": "code",
   "execution_count": 18,
   "metadata": {},
   "outputs": [
    {
     "data": {
      "text/plain": [
       "0    68.989547\n",
       "1    31.010453\n",
       "Name: resign, dtype: float64"
      ]
     },
     "execution_count": 18,
     "metadata": {},
     "output_type": "execute_result"
    }
   ],
   "source": [
    "data_pre['resign'].value_counts(normalize=True)*100"
   ]
  },
  {
   "attachments": {},
   "cell_type": "markdown",
   "metadata": {},
   "source": [
    "### Feature Modification"
   ]
  },
  {
   "attachments": {},
   "cell_type": "markdown",
   "metadata": {},
   "source": [
    "#### TanggalLahir"
   ]
  },
  {
   "attachments": {},
   "cell_type": "markdown",
   "metadata": {},
   "source": [
    "Dengan feature tanggal lahir kita akan memodifikasinya menjadi feature umur. Jika dilihat dari feature tanggal lainnya, dataset ini memuat informasi karyawan sampai dengan tahun 2020, dengan asumsi bahwa dataset ini digunakan pada awal tahun 2021, maka dengan mengurangi tanggal 2021-01-01 dengan `TanggalLahir` kita bisa mengetahui umur dari masing-masing karyawan"
   ]
  },
  {
   "cell_type": "code",
   "execution_count": 19,
   "metadata": {},
   "outputs": [
    {
     "data": {
      "text/plain": [
       "0    1972-07-01\n",
       "1    1984-04-26\n",
       "Name: TanggalLahir, dtype: object"
      ]
     },
     "execution_count": 19,
     "metadata": {},
     "output_type": "execute_result"
    }
   ],
   "source": [
    "data_pre['TanggalLahir'].head(2)"
   ]
  },
  {
   "cell_type": "code",
   "execution_count": 20,
   "metadata": {},
   "outputs": [],
   "source": [
    "data_pre['TanggalLahir'] = pd.to_datetime(data_pre['TanggalLahir'], format='%Y-%m-%d')\n",
    "data_pre['umur'] = round(pd.to_numeric((pd.to_datetime('2020-12-01') - data_pre['TanggalLahir']) / np.timedelta64(1, 'Y')))"
   ]
  },
  {
   "cell_type": "code",
   "execution_count": 21,
   "metadata": {},
   "outputs": [
    {
     "data": {
      "text/plain": [
       "count    287.000000\n",
       "mean      41.804878\n",
       "std        8.880928\n",
       "min       28.000000\n",
       "25%       34.500000\n",
       "50%       40.000000\n",
       "75%       47.000000\n",
       "max       70.000000\n",
       "Name: umur, dtype: float64"
      ]
     },
     "execution_count": 21,
     "metadata": {},
     "output_type": "execute_result"
    }
   ],
   "source": [
    "data_pre['umur'].describe()"
   ]
  },
  {
   "attachments": {},
   "cell_type": "markdown",
   "metadata": {},
   "source": [
    "#### TanggalHiring dan TanggalResign"
   ]
  },
  {
   "attachments": {},
   "cell_type": "markdown",
   "metadata": {},
   "source": [
    "Dari kedua feature ini kita dapat mengetahui berapa lama waktu dari seorang karyawan bekerja dalam bulan dengan cara `TanggalResign` dikurangi `TanggalHiring`. Untuk karyawan yang masih bekerja, akan dikurangi dengan tanggal 2021-01-01"
   ]
  },
  {
   "cell_type": "code",
   "execution_count": 22,
   "metadata": {},
   "outputs": [],
   "source": [
    "# mengisi TanggalResign dengan 2020-12-01 untuk karyawan yang belum resign\n",
    "data_pre['TanggalResign'] = data_pre['TanggalResign'].where(data_pre['TanggalResign'] != '-', '2021-01-01')"
   ]
  },
  {
   "cell_type": "code",
   "execution_count": 23,
   "metadata": {},
   "outputs": [],
   "source": [
    "data_pre['TanggalHiring'] = pd.to_datetime(data_pre['TanggalHiring'],format='%Y-%m-%d')\n",
    "data_pre['TanggalResign'] = pd.to_datetime(data_pre['TanggalResign'],format='%Y-%m-%d')"
   ]
  },
  {
   "cell_type": "code",
   "execution_count": 24,
   "metadata": {},
   "outputs": [],
   "source": [
    "# hitung perbedaan tanggal\n",
    "data_pre['LamaBekerja'] = data_pre['TanggalResign'] - data_pre['TanggalHiring']\n",
    "# konversi perbedaan tanggal ke tahun\n",
    "data_pre['LamaBekerja'] = round(data_pre['LamaBekerja'].apply(lambda x: x.days/365))"
   ]
  },
  {
   "cell_type": "code",
   "execution_count": 25,
   "metadata": {},
   "outputs": [
    {
     "data": {
      "text/plain": [
       "count    287.000000\n",
       "mean       6.749129\n",
       "std        2.867674\n",
       "min       -4.000000\n",
       "25%        6.000000\n",
       "50%        7.000000\n",
       "75%        9.000000\n",
       "max       15.000000\n",
       "Name: LamaBekerja, dtype: float64"
      ]
     },
     "execution_count": 25,
     "metadata": {},
     "output_type": "execute_result"
    }
   ],
   "source": [
    "data_pre['LamaBekerja'].describe()"
   ]
  },
  {
   "cell_type": "code",
   "execution_count": 26,
   "metadata": {},
   "outputs": [
    {
     "data": {
      "text/html": [
       "<div>\n",
       "<style scoped>\n",
       "    .dataframe tbody tr th:only-of-type {\n",
       "        vertical-align: middle;\n",
       "    }\n",
       "\n",
       "    .dataframe tbody tr th {\n",
       "        vertical-align: top;\n",
       "    }\n",
       "\n",
       "    .dataframe thead th {\n",
       "        text-align: right;\n",
       "    }\n",
       "</style>\n",
       "<table border=\"1\" class=\"dataframe\">\n",
       "  <thead>\n",
       "    <tr style=\"text-align: right;\">\n",
       "      <th></th>\n",
       "      <th>StatusPernikahan</th>\n",
       "      <th>JenisKelamin</th>\n",
       "      <th>StatusKepegawaian</th>\n",
       "      <th>Pekerjaan</th>\n",
       "      <th>JenjangKarir</th>\n",
       "      <th>PerformancePegawai</th>\n",
       "      <th>AsalDaerah</th>\n",
       "      <th>HiringPlatform</th>\n",
       "      <th>SkorSurveyEngagement</th>\n",
       "      <th>SkorKepuasanPegawai</th>\n",
       "      <th>JumlahKeikutsertaanProjek</th>\n",
       "      <th>JumlahKeterlambatanSebulanTerakhir</th>\n",
       "      <th>JumlahKetidakhadiran</th>\n",
       "      <th>TingkatPendidikan</th>\n",
       "      <th>PernahBekerja</th>\n",
       "      <th>AlasanResign</th>\n",
       "      <th>TanggalLahir</th>\n",
       "      <th>TanggalHiring</th>\n",
       "      <th>TanggalResign</th>\n",
       "      <th>resign</th>\n",
       "      <th>umur</th>\n",
       "      <th>LamaBekerja</th>\n",
       "    </tr>\n",
       "  </thead>\n",
       "  <tbody>\n",
       "    <tr>\n",
       "      <th>108</th>\n",
       "      <td>Belum_menikah</td>\n",
       "      <td>Wanita</td>\n",
       "      <td>FullTime</td>\n",
       "      <td>Data Analyst</td>\n",
       "      <td>Freshgraduate_program</td>\n",
       "      <td>Biasa</td>\n",
       "      <td>Jakarta Timur</td>\n",
       "      <td>CareerBuilder</td>\n",
       "      <td>4</td>\n",
       "      <td>4.0</td>\n",
       "      <td>0.0</td>\n",
       "      <td>0.0</td>\n",
       "      <td>10.0</td>\n",
       "      <td>Sarjana</td>\n",
       "      <td>1</td>\n",
       "      <td>toxic_culture</td>\n",
       "      <td>1976-09-22</td>\n",
       "      <td>2015-03-30</td>\n",
       "      <td>2014-08-19</td>\n",
       "      <td>1</td>\n",
       "      <td>44.0</td>\n",
       "      <td>-1.0</td>\n",
       "    </tr>\n",
       "    <tr>\n",
       "      <th>207</th>\n",
       "      <td>Menikah</td>\n",
       "      <td>Wanita</td>\n",
       "      <td>FullTime</td>\n",
       "      <td>Software Engineer (Front End)</td>\n",
       "      <td>Mid_level</td>\n",
       "      <td>Sangat_bagus</td>\n",
       "      <td>Jakarta Pusat</td>\n",
       "      <td>Indeed</td>\n",
       "      <td>4</td>\n",
       "      <td>3.0</td>\n",
       "      <td>5.0</td>\n",
       "      <td>0.0</td>\n",
       "      <td>17.0</td>\n",
       "      <td>Sarjana</td>\n",
       "      <td>1</td>\n",
       "      <td>leadership</td>\n",
       "      <td>1972-11-21</td>\n",
       "      <td>2017-01-07</td>\n",
       "      <td>2013-05-30</td>\n",
       "      <td>1</td>\n",
       "      <td>48.0</td>\n",
       "      <td>-4.0</td>\n",
       "    </tr>\n",
       "  </tbody>\n",
       "</table>\n",
       "</div>"
      ],
      "text/plain": [
       "    StatusPernikahan JenisKelamin StatusKepegawaian  \\\n",
       "108    Belum_menikah       Wanita          FullTime   \n",
       "207          Menikah       Wanita          FullTime   \n",
       "\n",
       "                         Pekerjaan           JenjangKarir PerformancePegawai  \\\n",
       "108                   Data Analyst  Freshgraduate_program              Biasa   \n",
       "207  Software Engineer (Front End)              Mid_level       Sangat_bagus   \n",
       "\n",
       "        AsalDaerah HiringPlatform  SkorSurveyEngagement  SkorKepuasanPegawai  \\\n",
       "108  Jakarta Timur  CareerBuilder                     4                  4.0   \n",
       "207  Jakarta Pusat         Indeed                     4                  3.0   \n",
       "\n",
       "     JumlahKeikutsertaanProjek  JumlahKeterlambatanSebulanTerakhir  \\\n",
       "108                        0.0                                 0.0   \n",
       "207                        5.0                                 0.0   \n",
       "\n",
       "     JumlahKetidakhadiran TingkatPendidikan PernahBekerja   AlasanResign  \\\n",
       "108                  10.0           Sarjana             1  toxic_culture   \n",
       "207                  17.0           Sarjana             1     leadership   \n",
       "\n",
       "    TanggalLahir TanggalHiring TanggalResign  resign  umur  LamaBekerja  \n",
       "108   1976-09-22    2015-03-30    2014-08-19       1  44.0         -1.0  \n",
       "207   1972-11-21    2017-01-07    2013-05-30       1  48.0         -4.0  "
      ]
     },
     "execution_count": 26,
     "metadata": {},
     "output_type": "execute_result"
    }
   ],
   "source": [
    "data_pre[data_pre['LamaBekerja']<0].head(3)"
   ]
  },
  {
   "attachments": {},
   "cell_type": "markdown",
   "metadata": {},
   "source": [
    "Setelah dilakukan proses diatas, terdapat 2 karyawan yang `LamaBekerja`nya bervalue minus, setelah diselidiki hal tersebut karena TanggalResign lebih awal dari TanggalHiring. Asumsi terkuatnya adalah kesalahan input sehingga kedua tanggal tersebut terbalik, namun untuk saat ini kita akan drop saja kedua karyawan tersebut"
   ]
  },
  {
   "cell_type": "code",
   "execution_count": 27,
   "metadata": {},
   "outputs": [],
   "source": [
    "data_pre.drop(data_pre[data_pre['LamaBekerja']<0].index, inplace=True)"
   ]
  },
  {
   "attachments": {},
   "cell_type": "markdown",
   "metadata": {},
   "source": [
    "### Missing Value"
   ]
  },
  {
   "cell_type": "code",
   "execution_count": 28,
   "metadata": {},
   "outputs": [
    {
     "data": {
      "text/html": [
       "<div>\n",
       "<style scoped>\n",
       "    .dataframe tbody tr th:only-of-type {\n",
       "        vertical-align: middle;\n",
       "    }\n",
       "\n",
       "    .dataframe tbody tr th {\n",
       "        vertical-align: top;\n",
       "    }\n",
       "\n",
       "    .dataframe thead th {\n",
       "        text-align: right;\n",
       "    }\n",
       "</style>\n",
       "<table border=\"1\" class=\"dataframe\">\n",
       "  <thead>\n",
       "    <tr style=\"text-align: right;\">\n",
       "      <th></th>\n",
       "      <th>feature_name</th>\n",
       "      <th>sum_missing</th>\n",
       "      <th>percent_missing</th>\n",
       "    </tr>\n",
       "  </thead>\n",
       "  <tbody>\n",
       "    <tr>\n",
       "      <th>12</th>\n",
       "      <td>JumlahKetidakhadiran</td>\n",
       "      <td>6</td>\n",
       "      <td>2.11</td>\n",
       "    </tr>\n",
       "    <tr>\n",
       "      <th>9</th>\n",
       "      <td>SkorKepuasanPegawai</td>\n",
       "      <td>5</td>\n",
       "      <td>1.75</td>\n",
       "    </tr>\n",
       "    <tr>\n",
       "      <th>10</th>\n",
       "      <td>JumlahKeikutsertaanProjek</td>\n",
       "      <td>3</td>\n",
       "      <td>1.05</td>\n",
       "    </tr>\n",
       "    <tr>\n",
       "      <th>11</th>\n",
       "      <td>JumlahKeterlambatanSebulanTerakhir</td>\n",
       "      <td>1</td>\n",
       "      <td>0.35</td>\n",
       "    </tr>\n",
       "  </tbody>\n",
       "</table>\n",
       "</div>"
      ],
      "text/plain": [
       "                          feature_name  sum_missing  percent_missing\n",
       "12                JumlahKetidakhadiran            6             2.11\n",
       "9                  SkorKepuasanPegawai            5             1.75\n",
       "10           JumlahKeikutsertaanProjek            3             1.05\n",
       "11  JumlahKeterlambatanSebulanTerakhir            1             0.35"
      ]
     },
     "execution_count": 28,
     "metadata": {},
     "output_type": "execute_result"
    }
   ],
   "source": [
    "sum_missing = data_pre.isna().sum()\n",
    "percent_missing = round(data_pre.isnull().sum() *100 / len(data_pre),2)\n",
    "missing_value = pd.DataFrame({'feature_name': data_pre.columns,\n",
    "                                 'sum_missing': sum_missing,\n",
    "                                 'percent_missing': percent_missing}).reset_index(drop=True).sort_values(by='sum_missing', ascending=False)\n",
    "pd.set_option('display.max_rows', None)\n",
    "missing_value.head(4)"
   ]
  },
  {
   "cell_type": "code",
   "execution_count": 29,
   "metadata": {},
   "outputs": [],
   "source": [
    "data_pre['JumlahKetidakhadiran'].fillna(0, inplace=True)\n",
    "data_pre['SkorKepuasanPegawai'].fillna(0, inplace=True)\n",
    "data_pre['JumlahKeikutsertaanProjek'].fillna(0, inplace=True)\n",
    "data_pre['JumlahKeterlambatanSebulanTerakhir'].fillna(0, inplace=True)"
   ]
  },
  {
   "attachments": {},
   "cell_type": "markdown",
   "metadata": {},
   "source": [
    "### Feature Selection"
   ]
  },
  {
   "cell_type": "code",
   "execution_count": 30,
   "metadata": {},
   "outputs": [
    {
     "data": {
      "application/vnd.plotly.v1+json": {
       "config": {
        "plotlyServerURL": "https://plot.ly"
       },
       "data": [
        {
         "coloraxis": "coloraxis",
         "hovertemplate": "x: %{x}<br>y: %{y}<br>color: %{z}<extra></extra>",
         "name": "0",
         "texttemplate": "%{z:.2f}",
         "type": "heatmap",
         "x": [
          "SkorSurveyEngagement",
          "SkorKepuasanPegawai",
          "JumlahKeikutsertaanProjek",
          "JumlahKeterlambatanSebulanTerakhir",
          "JumlahKetidakhadiran",
          "resign",
          "umur",
          "LamaBekerja"
         ],
         "xaxis": "x",
         "y": [
          "SkorSurveyEngagement",
          "SkorKepuasanPegawai",
          "JumlahKeikutsertaanProjek",
          "JumlahKeterlambatanSebulanTerakhir",
          "JumlahKetidakhadiran",
          "resign",
          "umur",
          "LamaBekerja"
         ],
         "yaxis": "y",
         "z": [
          [
           1,
           0.07014544262012676,
           -0.011565241243045676,
           -0.49867368248667543,
           0.0014495887602438355,
           -0.038734213008959906,
           0.05964149560754429,
           0.027429585784364982
          ],
          [
           0.07014544262012676,
           1,
           0.04037139255602814,
           -0.20356107909814838,
           0.060050699877945195,
           -0.02898102694894554,
           -0.046032456195812387,
           0.006646946552025277
          ],
          [
           -0.011565241243045676,
           0.04037139255602814,
           1,
           -0.08053791796358452,
           -0.05317577603100933,
           0.05776020155897658,
           -0.10607968533868478,
           -0.2764351249584761
          ],
          [
           -0.49867368248667543,
           -0.20356107909814838,
           -0.08053791796358452,
           1,
           0.00888506450071351,
           0.023781565923966262,
           -0.054040467661112576,
           0.004925657212361489
          ],
          [
           0.0014495887602438355,
           0.060050699877945195,
           -0.05317577603100933,
           0.00888506450071351,
           1,
           -0.011997427566311263,
           -0.007099669438979497,
           0.04921870245814252
          ],
          [
           -0.038734213008959906,
           -0.02898102694894554,
           0.05776020155897658,
           0.023781565923966262,
           -0.011997427566311263,
           1,
           -0.0664052876999058,
           -0.611771128903388
          ],
          [
           0.05964149560754429,
           -0.046032456195812387,
           -0.10607968533868478,
           -0.054040467661112576,
           -0.007099669438979497,
           -0.0664052876999058,
           1,
           0.055888072465701176
          ],
          [
           0.027429585784364982,
           0.006646946552025277,
           -0.2764351249584761,
           0.004925657212361489,
           0.04921870245814252,
           -0.611771128903388,
           0.055888072465701176,
           1
          ]
         ]
        }
       ],
       "layout": {
        "coloraxis": {
         "colorscale": [
          [
           0,
           "rgb(247,244,249)"
          ],
          [
           0.125,
           "rgb(231,225,239)"
          ],
          [
           0.25,
           "rgb(212,185,218)"
          ],
          [
           0.375,
           "rgb(201,148,199)"
          ],
          [
           0.5,
           "rgb(223,101,176)"
          ],
          [
           0.625,
           "rgb(231,41,138)"
          ],
          [
           0.75,
           "rgb(206,18,86)"
          ],
          [
           0.875,
           "rgb(152,0,67)"
          ],
          [
           1,
           "rgb(103,0,31)"
          ]
         ]
        },
        "height": 900,
        "margin": {
         "t": 60
        },
        "template": {
         "data": {
          "bar": [
           {
            "error_x": {
             "color": "#f2f5fa"
            },
            "error_y": {
             "color": "#f2f5fa"
            },
            "marker": {
             "line": {
              "color": "rgb(17,17,17)",
              "width": 0.5
             },
             "pattern": {
              "fillmode": "overlay",
              "size": 10,
              "solidity": 0.2
             }
            },
            "type": "bar"
           }
          ],
          "barpolar": [
           {
            "marker": {
             "line": {
              "color": "rgb(17,17,17)",
              "width": 0.5
             },
             "pattern": {
              "fillmode": "overlay",
              "size": 10,
              "solidity": 0.2
             }
            },
            "type": "barpolar"
           }
          ],
          "carpet": [
           {
            "aaxis": {
             "endlinecolor": "#A2B1C6",
             "gridcolor": "#506784",
             "linecolor": "#506784",
             "minorgridcolor": "#506784",
             "startlinecolor": "#A2B1C6"
            },
            "baxis": {
             "endlinecolor": "#A2B1C6",
             "gridcolor": "#506784",
             "linecolor": "#506784",
             "minorgridcolor": "#506784",
             "startlinecolor": "#A2B1C6"
            },
            "type": "carpet"
           }
          ],
          "choropleth": [
           {
            "colorbar": {
             "outlinewidth": 0,
             "ticks": ""
            },
            "type": "choropleth"
           }
          ],
          "contour": [
           {
            "colorbar": {
             "outlinewidth": 0,
             "ticks": ""
            },
            "colorscale": [
             [
              0,
              "#0d0887"
             ],
             [
              0.1111111111111111,
              "#46039f"
             ],
             [
              0.2222222222222222,
              "#7201a8"
             ],
             [
              0.3333333333333333,
              "#9c179e"
             ],
             [
              0.4444444444444444,
              "#bd3786"
             ],
             [
              0.5555555555555556,
              "#d8576b"
             ],
             [
              0.6666666666666666,
              "#ed7953"
             ],
             [
              0.7777777777777778,
              "#fb9f3a"
             ],
             [
              0.8888888888888888,
              "#fdca26"
             ],
             [
              1,
              "#f0f921"
             ]
            ],
            "type": "contour"
           }
          ],
          "contourcarpet": [
           {
            "colorbar": {
             "outlinewidth": 0,
             "ticks": ""
            },
            "type": "contourcarpet"
           }
          ],
          "heatmap": [
           {
            "colorbar": {
             "outlinewidth": 0,
             "ticks": ""
            },
            "colorscale": [
             [
              0,
              "#0d0887"
             ],
             [
              0.1111111111111111,
              "#46039f"
             ],
             [
              0.2222222222222222,
              "#7201a8"
             ],
             [
              0.3333333333333333,
              "#9c179e"
             ],
             [
              0.4444444444444444,
              "#bd3786"
             ],
             [
              0.5555555555555556,
              "#d8576b"
             ],
             [
              0.6666666666666666,
              "#ed7953"
             ],
             [
              0.7777777777777778,
              "#fb9f3a"
             ],
             [
              0.8888888888888888,
              "#fdca26"
             ],
             [
              1,
              "#f0f921"
             ]
            ],
            "type": "heatmap"
           }
          ],
          "heatmapgl": [
           {
            "colorbar": {
             "outlinewidth": 0,
             "ticks": ""
            },
            "colorscale": [
             [
              0,
              "#0d0887"
             ],
             [
              0.1111111111111111,
              "#46039f"
             ],
             [
              0.2222222222222222,
              "#7201a8"
             ],
             [
              0.3333333333333333,
              "#9c179e"
             ],
             [
              0.4444444444444444,
              "#bd3786"
             ],
             [
              0.5555555555555556,
              "#d8576b"
             ],
             [
              0.6666666666666666,
              "#ed7953"
             ],
             [
              0.7777777777777778,
              "#fb9f3a"
             ],
             [
              0.8888888888888888,
              "#fdca26"
             ],
             [
              1,
              "#f0f921"
             ]
            ],
            "type": "heatmapgl"
           }
          ],
          "histogram": [
           {
            "marker": {
             "pattern": {
              "fillmode": "overlay",
              "size": 10,
              "solidity": 0.2
             }
            },
            "type": "histogram"
           }
          ],
          "histogram2d": [
           {
            "colorbar": {
             "outlinewidth": 0,
             "ticks": ""
            },
            "colorscale": [
             [
              0,
              "#0d0887"
             ],
             [
              0.1111111111111111,
              "#46039f"
             ],
             [
              0.2222222222222222,
              "#7201a8"
             ],
             [
              0.3333333333333333,
              "#9c179e"
             ],
             [
              0.4444444444444444,
              "#bd3786"
             ],
             [
              0.5555555555555556,
              "#d8576b"
             ],
             [
              0.6666666666666666,
              "#ed7953"
             ],
             [
              0.7777777777777778,
              "#fb9f3a"
             ],
             [
              0.8888888888888888,
              "#fdca26"
             ],
             [
              1,
              "#f0f921"
             ]
            ],
            "type": "histogram2d"
           }
          ],
          "histogram2dcontour": [
           {
            "colorbar": {
             "outlinewidth": 0,
             "ticks": ""
            },
            "colorscale": [
             [
              0,
              "#0d0887"
             ],
             [
              0.1111111111111111,
              "#46039f"
             ],
             [
              0.2222222222222222,
              "#7201a8"
             ],
             [
              0.3333333333333333,
              "#9c179e"
             ],
             [
              0.4444444444444444,
              "#bd3786"
             ],
             [
              0.5555555555555556,
              "#d8576b"
             ],
             [
              0.6666666666666666,
              "#ed7953"
             ],
             [
              0.7777777777777778,
              "#fb9f3a"
             ],
             [
              0.8888888888888888,
              "#fdca26"
             ],
             [
              1,
              "#f0f921"
             ]
            ],
            "type": "histogram2dcontour"
           }
          ],
          "mesh3d": [
           {
            "colorbar": {
             "outlinewidth": 0,
             "ticks": ""
            },
            "type": "mesh3d"
           }
          ],
          "parcoords": [
           {
            "line": {
             "colorbar": {
              "outlinewidth": 0,
              "ticks": ""
             }
            },
            "type": "parcoords"
           }
          ],
          "pie": [
           {
            "automargin": true,
            "type": "pie"
           }
          ],
          "scatter": [
           {
            "marker": {
             "line": {
              "color": "#283442"
             }
            },
            "type": "scatter"
           }
          ],
          "scatter3d": [
           {
            "line": {
             "colorbar": {
              "outlinewidth": 0,
              "ticks": ""
             }
            },
            "marker": {
             "colorbar": {
              "outlinewidth": 0,
              "ticks": ""
             }
            },
            "type": "scatter3d"
           }
          ],
          "scattercarpet": [
           {
            "marker": {
             "colorbar": {
              "outlinewidth": 0,
              "ticks": ""
             }
            },
            "type": "scattercarpet"
           }
          ],
          "scattergeo": [
           {
            "marker": {
             "colorbar": {
              "outlinewidth": 0,
              "ticks": ""
             }
            },
            "type": "scattergeo"
           }
          ],
          "scattergl": [
           {
            "marker": {
             "line": {
              "color": "#283442"
             }
            },
            "type": "scattergl"
           }
          ],
          "scattermapbox": [
           {
            "marker": {
             "colorbar": {
              "outlinewidth": 0,
              "ticks": ""
             }
            },
            "type": "scattermapbox"
           }
          ],
          "scatterpolar": [
           {
            "marker": {
             "colorbar": {
              "outlinewidth": 0,
              "ticks": ""
             }
            },
            "type": "scatterpolar"
           }
          ],
          "scatterpolargl": [
           {
            "marker": {
             "colorbar": {
              "outlinewidth": 0,
              "ticks": ""
             }
            },
            "type": "scatterpolargl"
           }
          ],
          "scatterternary": [
           {
            "marker": {
             "colorbar": {
              "outlinewidth": 0,
              "ticks": ""
             }
            },
            "type": "scatterternary"
           }
          ],
          "surface": [
           {
            "colorbar": {
             "outlinewidth": 0,
             "ticks": ""
            },
            "colorscale": [
             [
              0,
              "#0d0887"
             ],
             [
              0.1111111111111111,
              "#46039f"
             ],
             [
              0.2222222222222222,
              "#7201a8"
             ],
             [
              0.3333333333333333,
              "#9c179e"
             ],
             [
              0.4444444444444444,
              "#bd3786"
             ],
             [
              0.5555555555555556,
              "#d8576b"
             ],
             [
              0.6666666666666666,
              "#ed7953"
             ],
             [
              0.7777777777777778,
              "#fb9f3a"
             ],
             [
              0.8888888888888888,
              "#fdca26"
             ],
             [
              1,
              "#f0f921"
             ]
            ],
            "type": "surface"
           }
          ],
          "table": [
           {
            "cells": {
             "fill": {
              "color": "#506784"
             },
             "line": {
              "color": "rgb(17,17,17)"
             }
            },
            "header": {
             "fill": {
              "color": "#2a3f5f"
             },
             "line": {
              "color": "rgb(17,17,17)"
             }
            },
            "type": "table"
           }
          ]
         },
         "layout": {
          "annotationdefaults": {
           "arrowcolor": "#f2f5fa",
           "arrowhead": 0,
           "arrowwidth": 1
          },
          "autotypenumbers": "strict",
          "coloraxis": {
           "colorbar": {
            "outlinewidth": 0,
            "ticks": ""
           }
          },
          "colorscale": {
           "diverging": [
            [
             0,
             "#8e0152"
            ],
            [
             0.1,
             "#c51b7d"
            ],
            [
             0.2,
             "#de77ae"
            ],
            [
             0.3,
             "#f1b6da"
            ],
            [
             0.4,
             "#fde0ef"
            ],
            [
             0.5,
             "#f7f7f7"
            ],
            [
             0.6,
             "#e6f5d0"
            ],
            [
             0.7,
             "#b8e186"
            ],
            [
             0.8,
             "#7fbc41"
            ],
            [
             0.9,
             "#4d9221"
            ],
            [
             1,
             "#276419"
            ]
           ],
           "sequential": [
            [
             0,
             "#0d0887"
            ],
            [
             0.1111111111111111,
             "#46039f"
            ],
            [
             0.2222222222222222,
             "#7201a8"
            ],
            [
             0.3333333333333333,
             "#9c179e"
            ],
            [
             0.4444444444444444,
             "#bd3786"
            ],
            [
             0.5555555555555556,
             "#d8576b"
            ],
            [
             0.6666666666666666,
             "#ed7953"
            ],
            [
             0.7777777777777778,
             "#fb9f3a"
            ],
            [
             0.8888888888888888,
             "#fdca26"
            ],
            [
             1,
             "#f0f921"
            ]
           ],
           "sequentialminus": [
            [
             0,
             "#0d0887"
            ],
            [
             0.1111111111111111,
             "#46039f"
            ],
            [
             0.2222222222222222,
             "#7201a8"
            ],
            [
             0.3333333333333333,
             "#9c179e"
            ],
            [
             0.4444444444444444,
             "#bd3786"
            ],
            [
             0.5555555555555556,
             "#d8576b"
            ],
            [
             0.6666666666666666,
             "#ed7953"
            ],
            [
             0.7777777777777778,
             "#fb9f3a"
            ],
            [
             0.8888888888888888,
             "#fdca26"
            ],
            [
             1,
             "#f0f921"
            ]
           ]
          },
          "colorway": [
           "#636efa",
           "#EF553B",
           "#00cc96",
           "#ab63fa",
           "#FFA15A",
           "#19d3f3",
           "#FF6692",
           "#B6E880",
           "#FF97FF",
           "#FECB52"
          ],
          "font": {
           "color": "#f2f5fa"
          },
          "geo": {
           "bgcolor": "rgb(17,17,17)",
           "lakecolor": "rgb(17,17,17)",
           "landcolor": "rgb(17,17,17)",
           "showlakes": true,
           "showland": true,
           "subunitcolor": "#506784"
          },
          "hoverlabel": {
           "align": "left"
          },
          "hovermode": "closest",
          "mapbox": {
           "style": "dark"
          },
          "paper_bgcolor": "rgb(17,17,17)",
          "plot_bgcolor": "rgb(17,17,17)",
          "polar": {
           "angularaxis": {
            "gridcolor": "#506784",
            "linecolor": "#506784",
            "ticks": ""
           },
           "bgcolor": "rgb(17,17,17)",
           "radialaxis": {
            "gridcolor": "#506784",
            "linecolor": "#506784",
            "ticks": ""
           }
          },
          "scene": {
           "xaxis": {
            "backgroundcolor": "rgb(17,17,17)",
            "gridcolor": "#506784",
            "gridwidth": 2,
            "linecolor": "#506784",
            "showbackground": true,
            "ticks": "",
            "zerolinecolor": "#C8D4E3"
           },
           "yaxis": {
            "backgroundcolor": "rgb(17,17,17)",
            "gridcolor": "#506784",
            "gridwidth": 2,
            "linecolor": "#506784",
            "showbackground": true,
            "ticks": "",
            "zerolinecolor": "#C8D4E3"
           },
           "zaxis": {
            "backgroundcolor": "rgb(17,17,17)",
            "gridcolor": "#506784",
            "gridwidth": 2,
            "linecolor": "#506784",
            "showbackground": true,
            "ticks": "",
            "zerolinecolor": "#C8D4E3"
           }
          },
          "shapedefaults": {
           "line": {
            "color": "#f2f5fa"
           }
          },
          "sliderdefaults": {
           "bgcolor": "#C8D4E3",
           "bordercolor": "rgb(17,17,17)",
           "borderwidth": 1,
           "tickwidth": 0
          },
          "ternary": {
           "aaxis": {
            "gridcolor": "#506784",
            "linecolor": "#506784",
            "ticks": ""
           },
           "baxis": {
            "gridcolor": "#506784",
            "linecolor": "#506784",
            "ticks": ""
           },
           "bgcolor": "rgb(17,17,17)",
           "caxis": {
            "gridcolor": "#506784",
            "linecolor": "#506784",
            "ticks": ""
           }
          },
          "title": {
           "x": 0.05
          },
          "updatemenudefaults": {
           "bgcolor": "#506784",
           "borderwidth": 0
          },
          "xaxis": {
           "automargin": true,
           "gridcolor": "#283442",
           "linecolor": "#506784",
           "ticks": "",
           "title": {
            "standoff": 15
           },
           "zerolinecolor": "#283442",
           "zerolinewidth": 2
          },
          "yaxis": {
           "automargin": true,
           "gridcolor": "#283442",
           "linecolor": "#506784",
           "ticks": "",
           "title": {
            "standoff": 15
           },
           "zerolinecolor": "#283442",
           "zerolinewidth": 2
          }
         }
        },
        "width": 900,
        "xaxis": {
         "anchor": "y",
         "constrain": "domain",
         "domain": [
          0,
          1
         ],
         "scaleanchor": "y"
        },
        "yaxis": {
         "anchor": "x",
         "autorange": "reversed",
         "constrain": "domain",
         "domain": [
          0,
          1
         ]
        }
       }
      }
     },
     "metadata": {},
     "output_type": "display_data"
    }
   ],
   "source": [
    "hm = data_pre.corr()\n",
    "fig = px.imshow(hm, text_auto=\".2f\", color_continuous_scale='PuRd',\n",
    "                template='plotly_dark',width=900,height=900)\n",
    "fig.show()"
   ]
  },
  {
   "attachments": {},
   "cell_type": "markdown",
   "metadata": {},
   "source": [
    "#### Checking Nunique"
   ]
  },
  {
   "cell_type": "code",
   "execution_count": 31,
   "metadata": {},
   "outputs": [
    {
     "data": {
      "text/plain": [
       "StatusPernikahan       5\n",
       "JenisKelamin           2\n",
       "StatusKepegawaian      3\n",
       "Pekerjaan             14\n",
       "JenjangKarir           3\n",
       "PerformancePegawai     5\n",
       "AsalDaerah             5\n",
       "HiringPlatform         9\n",
       "TingkatPendidikan      3\n",
       "PernahBekerja          2\n",
       "AlasanResign          11\n",
       "dtype: int64"
      ]
     },
     "execution_count": 31,
     "metadata": {},
     "output_type": "execute_result"
    }
   ],
   "source": [
    "data_pre.select_dtypes(include='object').nunique()"
   ]
  },
  {
   "cell_type": "code",
   "execution_count": 32,
   "metadata": {},
   "outputs": [],
   "source": [
    "objects = data_pre.dtypes[data_pre.dtypes == \"object\"].index"
   ]
  },
  {
   "cell_type": "code",
   "execution_count": 33,
   "metadata": {},
   "outputs": [
    {
     "name": "stdout",
     "output_type": "stream",
     "text": [
      "Value count feature StatusPernikahan:\n",
      "Belum_menikah    131\n",
      "Menikah           56\n",
      "Lainnya           48\n",
      "Bercerai          47\n",
      "-                  3\n",
      "Name: StatusPernikahan, dtype: int64\n",
      "\n",
      "Value count feature JenisKelamin:\n",
      "Wanita    165\n",
      "Pria      120\n",
      "Name: JenisKelamin, dtype: int64\n",
      "\n",
      "Value count feature StatusKepegawaian:\n",
      "FullTime      215\n",
      "Outsource      66\n",
      "Internship      4\n",
      "Name: StatusKepegawaian, dtype: int64\n",
      "\n",
      "Value count feature Pekerjaan:\n",
      "Software Engineer (Back End)      109\n",
      "Software Engineer (Front End)      71\n",
      "Software Engineer (Android)        24\n",
      "Product Design (UI & UX)           24\n",
      "Product Manager                    17\n",
      "Data Analyst                       15\n",
      "Data Engineer                      10\n",
      "Scrum Master                        3\n",
      "Software Engineer (iOS)             3\n",
      "DevOps Engineer                     3\n",
      "Digital Product Manager             2\n",
      "Machine Learning Engineer           2\n",
      "Product Design (UX Researcher)      1\n",
      "Software Architect                  1\n",
      "Name: Pekerjaan, dtype: int64\n",
      "\n",
      "Value count feature JenjangKarir:\n",
      "Freshgraduate_program    168\n",
      "Mid_level                 69\n",
      "Senior_level              48\n",
      "Name: JenjangKarir, dtype: int64\n",
      "\n",
      "Value count feature PerformancePegawai:\n",
      "Biasa            84\n",
      "Bagus            74\n",
      "Sangat_bagus     72\n",
      "Kurang           31\n",
      "Sangat_kurang    24\n",
      "Name: PerformancePegawai, dtype: int64\n",
      "\n",
      "Value count feature AsalDaerah:\n",
      "Jakarta Pusat      71\n",
      "Jakarta Timur      62\n",
      "Jakarta Barat      55\n",
      "Jakarta Utara      52\n",
      "Jakarta Selatan    45\n",
      "Name: AsalDaerah, dtype: int64\n",
      "\n",
      "Value count feature HiringPlatform:\n",
      "Indeed                     84\n",
      "LinkedIn                   69\n",
      "Google_Search              46\n",
      "Diversity_Job_Fair         27\n",
      "Employee_Referral          24\n",
      "CareerBuilder              21\n",
      "Website                    11\n",
      "Other                       2\n",
      "On-line_Web_application     1\n",
      "Name: HiringPlatform, dtype: int64\n",
      "\n",
      "Value count feature TingkatPendidikan:\n",
      "Sarjana     174\n",
      "Magister     87\n",
      "Doktor       24\n",
      "Name: TingkatPendidikan, dtype: int64\n",
      "\n",
      "Value count feature PernahBekerja:\n",
      "1      284\n",
      "yes      1\n",
      "Name: PernahBekerja, dtype: int64\n",
      "\n",
      "Value count feature AlasanResign:\n",
      "masih_bekerja               198\n",
      "jam_kerja                    16\n",
      "ganti_karir                  14\n",
      "kejelasan_karir              11\n",
      "tidak_bisa_remote            11\n",
      "toxic_culture                 9\n",
      "tidak_bahagia                 8\n",
      "leadership                    8\n",
      "internal_conflict             4\n",
      "Product Design (UI & UX)      4\n",
      "apresiasi                     2\n",
      "Name: AlasanResign, dtype: int64\n",
      "\n"
     ]
    }
   ],
   "source": [
    "for col in objects:\n",
    "    print(f'''Value count feature {col}:''')\n",
    "    print(data_pre[col].value_counts())\n",
    "    print()"
   ]
  },
  {
   "attachments": {},
   "cell_type": "markdown",
   "metadata": {},
   "source": [
    "Terlihat bahwa pada feature `PernahBekerja` walaupun ada 2 unique value namun kedua value tersebut punya maksud yang sama sehingga hanya ada 1 unique value pada feature tersebut, oleh sebab itu feature `PernahBekerja` akan di drop\n",
    "<br> Pada feature `StatusPernikahan` terdapat value \"-\", value tersebut akan dimerge dengan value \"Lainnya\""
   ]
  },
  {
   "cell_type": "code",
   "execution_count": 34,
   "metadata": {},
   "outputs": [],
   "source": [
    "data_pre.drop(['PernahBekerja'], axis=1, inplace=True)"
   ]
  },
  {
   "cell_type": "code",
   "execution_count": 35,
   "metadata": {},
   "outputs": [],
   "source": [
    "data_pre['StatusPernikahan'] = data_pre['StatusPernikahan'].replace({'-':'Lainnya'})"
   ]
  },
  {
   "cell_type": "code",
   "execution_count": 36,
   "metadata": {},
   "outputs": [
    {
     "data": {
      "text/plain": [
       "(285, 21)"
      ]
     },
     "execution_count": 36,
     "metadata": {},
     "output_type": "execute_result"
    }
   ],
   "source": [
    "data_pre.shape"
   ]
  },
  {
   "cell_type": "code",
   "execution_count": 37,
   "metadata": {},
   "outputs": [
    {
     "data": {
      "text/html": [
       "<div>\n",
       "<style scoped>\n",
       "    .dataframe tbody tr th:only-of-type {\n",
       "        vertical-align: middle;\n",
       "    }\n",
       "\n",
       "    .dataframe tbody tr th {\n",
       "        vertical-align: top;\n",
       "    }\n",
       "\n",
       "    .dataframe thead th {\n",
       "        text-align: right;\n",
       "    }\n",
       "</style>\n",
       "<table border=\"1\" class=\"dataframe\">\n",
       "  <thead>\n",
       "    <tr style=\"text-align: right;\">\n",
       "      <th></th>\n",
       "      <th>StatusPernikahan</th>\n",
       "      <th>JenisKelamin</th>\n",
       "      <th>StatusKepegawaian</th>\n",
       "      <th>Pekerjaan</th>\n",
       "      <th>JenjangKarir</th>\n",
       "      <th>PerformancePegawai</th>\n",
       "      <th>AsalDaerah</th>\n",
       "      <th>HiringPlatform</th>\n",
       "      <th>SkorSurveyEngagement</th>\n",
       "      <th>SkorKepuasanPegawai</th>\n",
       "      <th>JumlahKeikutsertaanProjek</th>\n",
       "      <th>JumlahKeterlambatanSebulanTerakhir</th>\n",
       "      <th>JumlahKetidakhadiran</th>\n",
       "      <th>TingkatPendidikan</th>\n",
       "      <th>AlasanResign</th>\n",
       "      <th>TanggalLahir</th>\n",
       "      <th>TanggalHiring</th>\n",
       "      <th>TanggalResign</th>\n",
       "      <th>resign</th>\n",
       "      <th>umur</th>\n",
       "      <th>LamaBekerja</th>\n",
       "    </tr>\n",
       "  </thead>\n",
       "  <tbody>\n",
       "    <tr>\n",
       "      <th>257</th>\n",
       "      <td>Menikah</td>\n",
       "      <td>Wanita</td>\n",
       "      <td>FullTime</td>\n",
       "      <td>Digital Product Manager</td>\n",
       "      <td>Freshgraduate_program</td>\n",
       "      <td>Sangat_kurang</td>\n",
       "      <td>Jakarta Timur</td>\n",
       "      <td>LinkedIn</td>\n",
       "      <td>4</td>\n",
       "      <td>4.0</td>\n",
       "      <td>0.0</td>\n",
       "      <td>0.0</td>\n",
       "      <td>15.0</td>\n",
       "      <td>Sarjana</td>\n",
       "      <td>masih_bekerja</td>\n",
       "      <td>1976-12-26</td>\n",
       "      <td>2013-07-08</td>\n",
       "      <td>2021-01-01</td>\n",
       "      <td>0</td>\n",
       "      <td>44.0</td>\n",
       "      <td>7.0</td>\n",
       "    </tr>\n",
       "    <tr>\n",
       "      <th>120</th>\n",
       "      <td>Bercerai</td>\n",
       "      <td>Pria</td>\n",
       "      <td>FullTime</td>\n",
       "      <td>Product Design (UI &amp; UX)</td>\n",
       "      <td>Freshgraduate_program</td>\n",
       "      <td>Kurang</td>\n",
       "      <td>Jakarta Barat</td>\n",
       "      <td>Indeed</td>\n",
       "      <td>4</td>\n",
       "      <td>3.0</td>\n",
       "      <td>6.0</td>\n",
       "      <td>0.0</td>\n",
       "      <td>17.0</td>\n",
       "      <td>Magister</td>\n",
       "      <td>masih_bekerja</td>\n",
       "      <td>1970-04-25</td>\n",
       "      <td>2017-02-10</td>\n",
       "      <td>2021-01-01</td>\n",
       "      <td>0</td>\n",
       "      <td>51.0</td>\n",
       "      <td>4.0</td>\n",
       "    </tr>\n",
       "    <tr>\n",
       "      <th>67</th>\n",
       "      <td>Bercerai</td>\n",
       "      <td>Pria</td>\n",
       "      <td>Outsource</td>\n",
       "      <td>Software Engineer (Back End)</td>\n",
       "      <td>Mid_level</td>\n",
       "      <td>Kurang</td>\n",
       "      <td>Jakarta Barat</td>\n",
       "      <td>Employee_Referral</td>\n",
       "      <td>3</td>\n",
       "      <td>3.0</td>\n",
       "      <td>0.0</td>\n",
       "      <td>0.0</td>\n",
       "      <td>0.0</td>\n",
       "      <td>Doktor</td>\n",
       "      <td>masih_bekerja</td>\n",
       "      <td>1985-09-15</td>\n",
       "      <td>2015-03-30</td>\n",
       "      <td>2021-01-01</td>\n",
       "      <td>0</td>\n",
       "      <td>35.0</td>\n",
       "      <td>6.0</td>\n",
       "    </tr>\n",
       "    <tr>\n",
       "      <th>123</th>\n",
       "      <td>Lainnya</td>\n",
       "      <td>Wanita</td>\n",
       "      <td>Outsource</td>\n",
       "      <td>Software Engineer (Back End)</td>\n",
       "      <td>Freshgraduate_program</td>\n",
       "      <td>Sangat_kurang</td>\n",
       "      <td>Jakarta Utara</td>\n",
       "      <td>Google_Search</td>\n",
       "      <td>3</td>\n",
       "      <td>5.0</td>\n",
       "      <td>0.0</td>\n",
       "      <td>0.0</td>\n",
       "      <td>5.0</td>\n",
       "      <td>Magister</td>\n",
       "      <td>masih_bekerja</td>\n",
       "      <td>1967-01-16</td>\n",
       "      <td>2011-01-10</td>\n",
       "      <td>2021-01-01</td>\n",
       "      <td>0</td>\n",
       "      <td>54.0</td>\n",
       "      <td>10.0</td>\n",
       "    </tr>\n",
       "    <tr>\n",
       "      <th>2</th>\n",
       "      <td>Menikah</td>\n",
       "      <td>Pria</td>\n",
       "      <td>FullTime</td>\n",
       "      <td>Software Engineer (Front End)</td>\n",
       "      <td>Freshgraduate_program</td>\n",
       "      <td>Bagus</td>\n",
       "      <td>Jakarta Timur</td>\n",
       "      <td>Indeed</td>\n",
       "      <td>4</td>\n",
       "      <td>3.0</td>\n",
       "      <td>0.0</td>\n",
       "      <td>0.0</td>\n",
       "      <td>11.0</td>\n",
       "      <td>Magister</td>\n",
       "      <td>jam_kerja</td>\n",
       "      <td>1974-01-07</td>\n",
       "      <td>2011-01-10</td>\n",
       "      <td>2014-09-24</td>\n",
       "      <td>1</td>\n",
       "      <td>47.0</td>\n",
       "      <td>4.0</td>\n",
       "    </tr>\n",
       "  </tbody>\n",
       "</table>\n",
       "</div>"
      ],
      "text/plain": [
       "    StatusPernikahan JenisKelamin StatusKepegawaian  \\\n",
       "257          Menikah       Wanita          FullTime   \n",
       "120         Bercerai         Pria          FullTime   \n",
       "67          Bercerai         Pria         Outsource   \n",
       "123          Lainnya       Wanita         Outsource   \n",
       "2            Menikah         Pria          FullTime   \n",
       "\n",
       "                         Pekerjaan           JenjangKarir PerformancePegawai  \\\n",
       "257        Digital Product Manager  Freshgraduate_program      Sangat_kurang   \n",
       "120       Product Design (UI & UX)  Freshgraduate_program             Kurang   \n",
       "67    Software Engineer (Back End)              Mid_level             Kurang   \n",
       "123   Software Engineer (Back End)  Freshgraduate_program      Sangat_kurang   \n",
       "2    Software Engineer (Front End)  Freshgraduate_program              Bagus   \n",
       "\n",
       "        AsalDaerah     HiringPlatform  SkorSurveyEngagement  \\\n",
       "257  Jakarta Timur           LinkedIn                     4   \n",
       "120  Jakarta Barat             Indeed                     4   \n",
       "67   Jakarta Barat  Employee_Referral                     3   \n",
       "123  Jakarta Utara      Google_Search                     3   \n",
       "2    Jakarta Timur             Indeed                     4   \n",
       "\n",
       "     SkorKepuasanPegawai  JumlahKeikutsertaanProjek  \\\n",
       "257                  4.0                        0.0   \n",
       "120                  3.0                        6.0   \n",
       "67                   3.0                        0.0   \n",
       "123                  5.0                        0.0   \n",
       "2                    3.0                        0.0   \n",
       "\n",
       "     JumlahKeterlambatanSebulanTerakhir  JumlahKetidakhadiran  \\\n",
       "257                                 0.0                  15.0   \n",
       "120                                 0.0                  17.0   \n",
       "67                                  0.0                   0.0   \n",
       "123                                 0.0                   5.0   \n",
       "2                                   0.0                  11.0   \n",
       "\n",
       "    TingkatPendidikan   AlasanResign TanggalLahir TanggalHiring TanggalResign  \\\n",
       "257           Sarjana  masih_bekerja   1976-12-26    2013-07-08    2021-01-01   \n",
       "120          Magister  masih_bekerja   1970-04-25    2017-02-10    2021-01-01   \n",
       "67             Doktor  masih_bekerja   1985-09-15    2015-03-30    2021-01-01   \n",
       "123          Magister  masih_bekerja   1967-01-16    2011-01-10    2021-01-01   \n",
       "2            Magister      jam_kerja   1974-01-07    2011-01-10    2014-09-24   \n",
       "\n",
       "     resign  umur  LamaBekerja  \n",
       "257       0  44.0          7.0  \n",
       "120       0  51.0          4.0  \n",
       "67        0  35.0          6.0  \n",
       "123       0  54.0         10.0  \n",
       "2         1  47.0          4.0  "
      ]
     },
     "execution_count": 37,
     "metadata": {},
     "output_type": "execute_result"
    }
   ],
   "source": [
    "data_pre.sample(5)"
   ]
  },
  {
   "attachments": {},
   "cell_type": "markdown",
   "metadata": {},
   "source": [
    "## Annual Report on Employee Number Changes"
   ]
  },
  {
   "cell_type": "code",
   "execution_count": 38,
   "metadata": {},
   "outputs": [],
   "source": [
    "data_an = data_pre.copy()"
   ]
  },
  {
   "cell_type": "code",
   "execution_count": 39,
   "metadata": {},
   "outputs": [],
   "source": [
    "data_an['tahun_hiring'] = pd.DatetimeIndex(data_an['TanggalHiring']).year\n",
    "data_an['tahun_resign'] = pd.DatetimeIndex(data_an['TanggalResign']).year"
   ]
  },
  {
   "cell_type": "code",
   "execution_count": 40,
   "metadata": {},
   "outputs": [
    {
     "data": {
      "text/html": [
       "<div>\n",
       "<style scoped>\n",
       "    .dataframe tbody tr th:only-of-type {\n",
       "        vertical-align: middle;\n",
       "    }\n",
       "\n",
       "    .dataframe tbody tr th {\n",
       "        vertical-align: top;\n",
       "    }\n",
       "\n",
       "    .dataframe thead th {\n",
       "        text-align: right;\n",
       "    }\n",
       "</style>\n",
       "<table border=\"1\" class=\"dataframe\">\n",
       "  <thead>\n",
       "    <tr style=\"text-align: right;\">\n",
       "      <th></th>\n",
       "      <th>tahun_hiring</th>\n",
       "      <th>jumlah_karyawan</th>\n",
       "    </tr>\n",
       "  </thead>\n",
       "  <tbody>\n",
       "    <tr>\n",
       "      <th>0</th>\n",
       "      <td>2006</td>\n",
       "      <td>1</td>\n",
       "    </tr>\n",
       "    <tr>\n",
       "      <th>1</th>\n",
       "      <td>2007</td>\n",
       "      <td>2</td>\n",
       "    </tr>\n",
       "    <tr>\n",
       "      <th>2</th>\n",
       "      <td>2008</td>\n",
       "      <td>2</td>\n",
       "    </tr>\n",
       "    <tr>\n",
       "      <th>3</th>\n",
       "      <td>2009</td>\n",
       "      <td>7</td>\n",
       "    </tr>\n",
       "    <tr>\n",
       "      <th>4</th>\n",
       "      <td>2010</td>\n",
       "      <td>8</td>\n",
       "    </tr>\n",
       "    <tr>\n",
       "      <th>5</th>\n",
       "      <td>2011</td>\n",
       "      <td>76</td>\n",
       "    </tr>\n",
       "    <tr>\n",
       "      <th>6</th>\n",
       "      <td>2012</td>\n",
       "      <td>41</td>\n",
       "    </tr>\n",
       "    <tr>\n",
       "      <th>7</th>\n",
       "      <td>2013</td>\n",
       "      <td>43</td>\n",
       "    </tr>\n",
       "    <tr>\n",
       "      <th>8</th>\n",
       "      <td>2014</td>\n",
       "      <td>56</td>\n",
       "    </tr>\n",
       "    <tr>\n",
       "      <th>9</th>\n",
       "      <td>2015</td>\n",
       "      <td>30</td>\n",
       "    </tr>\n",
       "    <tr>\n",
       "      <th>10</th>\n",
       "      <td>2016</td>\n",
       "      <td>14</td>\n",
       "    </tr>\n",
       "    <tr>\n",
       "      <th>11</th>\n",
       "      <td>2017</td>\n",
       "      <td>4</td>\n",
       "    </tr>\n",
       "    <tr>\n",
       "      <th>12</th>\n",
       "      <td>2018</td>\n",
       "      <td>1</td>\n",
       "    </tr>\n",
       "  </tbody>\n",
       "</table>\n",
       "</div>"
      ],
      "text/plain": [
       "    tahun_hiring  jumlah_karyawan\n",
       "0           2006                1\n",
       "1           2007                2\n",
       "2           2008                2\n",
       "3           2009                7\n",
       "4           2010                8\n",
       "5           2011               76\n",
       "6           2012               41\n",
       "7           2013               43\n",
       "8           2014               56\n",
       "9           2015               30\n",
       "10          2016               14\n",
       "11          2017                4\n",
       "12          2018                1"
      ]
     },
     "execution_count": 40,
     "metadata": {},
     "output_type": "execute_result"
    }
   ],
   "source": [
    "#tabel agregat karyawan yang masuk\n",
    "hire_agg = data_an.groupby(['tahun_hiring']).size().reset_index(name='jumlah_karyawan')\n",
    "hire_agg"
   ]
  },
  {
   "cell_type": "code",
   "execution_count": 41,
   "metadata": {},
   "outputs": [
    {
     "data": {
      "text/html": [
       "<div>\n",
       "<style scoped>\n",
       "    .dataframe tbody tr th:only-of-type {\n",
       "        vertical-align: middle;\n",
       "    }\n",
       "\n",
       "    .dataframe tbody tr th {\n",
       "        vertical-align: top;\n",
       "    }\n",
       "\n",
       "    .dataframe thead th {\n",
       "        text-align: right;\n",
       "    }\n",
       "</style>\n",
       "<table border=\"1\" class=\"dataframe\">\n",
       "  <thead>\n",
       "    <tr style=\"text-align: right;\">\n",
       "      <th></th>\n",
       "      <th>tahun_resign</th>\n",
       "      <th>jumlah_karyawan</th>\n",
       "    </tr>\n",
       "  </thead>\n",
       "  <tbody>\n",
       "    <tr>\n",
       "      <th>0</th>\n",
       "      <td>2013</td>\n",
       "      <td>4</td>\n",
       "    </tr>\n",
       "    <tr>\n",
       "      <th>1</th>\n",
       "      <td>2014</td>\n",
       "      <td>11</td>\n",
       "    </tr>\n",
       "    <tr>\n",
       "      <th>2</th>\n",
       "      <td>2015</td>\n",
       "      <td>8</td>\n",
       "    </tr>\n",
       "    <tr>\n",
       "      <th>3</th>\n",
       "      <td>2016</td>\n",
       "      <td>8</td>\n",
       "    </tr>\n",
       "    <tr>\n",
       "      <th>4</th>\n",
       "      <td>2017</td>\n",
       "      <td>19</td>\n",
       "    </tr>\n",
       "    <tr>\n",
       "      <th>5</th>\n",
       "      <td>2018</td>\n",
       "      <td>26</td>\n",
       "    </tr>\n",
       "    <tr>\n",
       "      <th>6</th>\n",
       "      <td>2019</td>\n",
       "      <td>5</td>\n",
       "    </tr>\n",
       "    <tr>\n",
       "      <th>7</th>\n",
       "      <td>2020</td>\n",
       "      <td>6</td>\n",
       "    </tr>\n",
       "    <tr>\n",
       "      <th>8</th>\n",
       "      <td>2021</td>\n",
       "      <td>198</td>\n",
       "    </tr>\n",
       "  </tbody>\n",
       "</table>\n",
       "</div>"
      ],
      "text/plain": [
       "   tahun_resign  jumlah_karyawan\n",
       "0          2013                4\n",
       "1          2014               11\n",
       "2          2015                8\n",
       "3          2016                8\n",
       "4          2017               19\n",
       "5          2018               26\n",
       "6          2019                5\n",
       "7          2020                6\n",
       "8          2021              198"
      ]
     },
     "execution_count": 41,
     "metadata": {},
     "output_type": "execute_result"
    }
   ],
   "source": [
    "#tabel agregat karyawan yang keluar\n",
    "resign_agg = data_an.groupby(['tahun_resign']).size().reset_index(name='jumlah_karyawan')\n",
    "resign_agg"
   ]
  },
  {
   "cell_type": "code",
   "execution_count": 56,
   "metadata": {},
   "outputs": [],
   "source": [
    "# outer join the two table based on year_hiring and year_resign\n",
    "data_hiring_resign = pd.merge(hire_agg, resign_agg, left_on='tahun_hiring', right_on='tahun_resign', how='outer')\n",
    "# use fillna() function to fill missing values with 0\n",
    "data_hiring_resign.fillna(0, inplace=True)\n",
    "# combine tahun_hiring and tahun_resign into one column 'tahun'\n",
    "data_hiring_resign['tahun'] = data_hiring_resign[['tahun_hiring', 'tahun_resign']].max(axis=1)\n",
    "# drop tahun_hiring and tahun_resign\n",
    "data_hiring_resign.drop(['tahun_hiring','tahun_resign'], axis=1, inplace=True)\n",
    "data_hiring_resign = data_hiring_resign[data_hiring_resign['tahun'] != 2021]\n",
    "data_hiring_resign.rename(columns={'jumlah_karyawan_x': 'jumlah_hire', 'jumlah_karyawan_y': 'jumlah_resign'}, inplace=True)"
   ]
  },
  {
   "cell_type": "code",
   "execution_count": 57,
   "metadata": {},
   "outputs": [
    {
     "data": {
      "text/html": [
       "<div>\n",
       "<style scoped>\n",
       "    .dataframe tbody tr th:only-of-type {\n",
       "        vertical-align: middle;\n",
       "    }\n",
       "\n",
       "    .dataframe tbody tr th {\n",
       "        vertical-align: top;\n",
       "    }\n",
       "\n",
       "    .dataframe thead th {\n",
       "        text-align: right;\n",
       "    }\n",
       "</style>\n",
       "<table border=\"1\" class=\"dataframe\">\n",
       "  <thead>\n",
       "    <tr style=\"text-align: right;\">\n",
       "      <th></th>\n",
       "      <th>jumlah_hire</th>\n",
       "      <th>jumlah_resign</th>\n",
       "      <th>tahun</th>\n",
       "    </tr>\n",
       "  </thead>\n",
       "  <tbody>\n",
       "    <tr>\n",
       "      <th>0</th>\n",
       "      <td>1.0</td>\n",
       "      <td>0.0</td>\n",
       "      <td>2006.0</td>\n",
       "    </tr>\n",
       "    <tr>\n",
       "      <th>1</th>\n",
       "      <td>2.0</td>\n",
       "      <td>0.0</td>\n",
       "      <td>2007.0</td>\n",
       "    </tr>\n",
       "    <tr>\n",
       "      <th>2</th>\n",
       "      <td>2.0</td>\n",
       "      <td>0.0</td>\n",
       "      <td>2008.0</td>\n",
       "    </tr>\n",
       "    <tr>\n",
       "      <th>3</th>\n",
       "      <td>7.0</td>\n",
       "      <td>0.0</td>\n",
       "      <td>2009.0</td>\n",
       "    </tr>\n",
       "    <tr>\n",
       "      <th>4</th>\n",
       "      <td>8.0</td>\n",
       "      <td>0.0</td>\n",
       "      <td>2010.0</td>\n",
       "    </tr>\n",
       "    <tr>\n",
       "      <th>5</th>\n",
       "      <td>76.0</td>\n",
       "      <td>0.0</td>\n",
       "      <td>2011.0</td>\n",
       "    </tr>\n",
       "    <tr>\n",
       "      <th>6</th>\n",
       "      <td>41.0</td>\n",
       "      <td>0.0</td>\n",
       "      <td>2012.0</td>\n",
       "    </tr>\n",
       "    <tr>\n",
       "      <th>7</th>\n",
       "      <td>43.0</td>\n",
       "      <td>4.0</td>\n",
       "      <td>2013.0</td>\n",
       "    </tr>\n",
       "    <tr>\n",
       "      <th>8</th>\n",
       "      <td>56.0</td>\n",
       "      <td>11.0</td>\n",
       "      <td>2014.0</td>\n",
       "    </tr>\n",
       "    <tr>\n",
       "      <th>9</th>\n",
       "      <td>30.0</td>\n",
       "      <td>8.0</td>\n",
       "      <td>2015.0</td>\n",
       "    </tr>\n",
       "    <tr>\n",
       "      <th>10</th>\n",
       "      <td>14.0</td>\n",
       "      <td>8.0</td>\n",
       "      <td>2016.0</td>\n",
       "    </tr>\n",
       "    <tr>\n",
       "      <th>11</th>\n",
       "      <td>4.0</td>\n",
       "      <td>19.0</td>\n",
       "      <td>2017.0</td>\n",
       "    </tr>\n",
       "    <tr>\n",
       "      <th>12</th>\n",
       "      <td>1.0</td>\n",
       "      <td>26.0</td>\n",
       "      <td>2018.0</td>\n",
       "    </tr>\n",
       "    <tr>\n",
       "      <th>13</th>\n",
       "      <td>0.0</td>\n",
       "      <td>5.0</td>\n",
       "      <td>2019.0</td>\n",
       "    </tr>\n",
       "    <tr>\n",
       "      <th>14</th>\n",
       "      <td>0.0</td>\n",
       "      <td>6.0</td>\n",
       "      <td>2020.0</td>\n",
       "    </tr>\n",
       "  </tbody>\n",
       "</table>\n",
       "</div>"
      ],
      "text/plain": [
       "    jumlah_hire  jumlah_resign   tahun\n",
       "0           1.0            0.0  2006.0\n",
       "1           2.0            0.0  2007.0\n",
       "2           2.0            0.0  2008.0\n",
       "3           7.0            0.0  2009.0\n",
       "4           8.0            0.0  2010.0\n",
       "5          76.0            0.0  2011.0\n",
       "6          41.0            0.0  2012.0\n",
       "7          43.0            4.0  2013.0\n",
       "8          56.0           11.0  2014.0\n",
       "9          30.0            8.0  2015.0\n",
       "10         14.0            8.0  2016.0\n",
       "11          4.0           19.0  2017.0\n",
       "12          1.0           26.0  2018.0\n",
       "13          0.0            5.0  2019.0\n",
       "14          0.0            6.0  2020.0"
      ]
     },
     "execution_count": 57,
     "metadata": {},
     "output_type": "execute_result"
    }
   ],
   "source": [
    "data_hiring_resign"
   ]
  },
  {
   "cell_type": "code",
   "execution_count": 69,
   "metadata": {},
   "outputs": [
    {
     "data": {
      "application/vnd.plotly.v1+json": {
       "config": {
        "plotlyServerURL": "https://plot.ly"
       },
       "data": [
        {
         "hovertemplate": "variable=jumlah_hire<br>tahun=%{x}<br>value=%{y}<extra></extra>",
         "legendgroup": "jumlah_hire",
         "line": {
          "color": "#636efa",
          "dash": "solid"
         },
         "marker": {
          "symbol": "circle"
         },
         "mode": "lines",
         "name": "jumlah_hire",
         "orientation": "v",
         "showlegend": true,
         "type": "scatter",
         "x": [
          2006,
          2007,
          2008,
          2009,
          2010,
          2011,
          2012,
          2013,
          2014,
          2015,
          2016,
          2017,
          2018,
          2019,
          2020
         ],
         "xaxis": "x",
         "y": [
          1,
          2,
          2,
          7,
          8,
          76,
          41,
          43,
          56,
          30,
          14,
          4,
          1,
          0,
          0
         ],
         "yaxis": "y"
        },
        {
         "hovertemplate": "variable=jumlah_resign<br>tahun=%{x}<br>value=%{y}<extra></extra>",
         "legendgroup": "jumlah_resign",
         "line": {
          "color": "#EF553B",
          "dash": "solid"
         },
         "marker": {
          "symbol": "circle"
         },
         "mode": "lines",
         "name": "jumlah_resign",
         "orientation": "v",
         "showlegend": true,
         "type": "scatter",
         "x": [
          2006,
          2007,
          2008,
          2009,
          2010,
          2011,
          2012,
          2013,
          2014,
          2015,
          2016,
          2017,
          2018,
          2019,
          2020
         ],
         "xaxis": "x",
         "y": [
          0,
          0,
          0,
          0,
          0,
          0,
          0,
          4,
          11,
          8,
          8,
          19,
          26,
          5,
          6
         ],
         "yaxis": "y"
        }
       ],
       "layout": {
        "annotations": [
         {
          "arrowhead": 2,
          "ax": 0,
          "ay": -40,
          "showarrow": true,
          "text": "-46.1%",
          "x": 2012,
          "y": 41
         },
         {
          "arrowhead": 2,
          "ax": 0,
          "ay": 40,
          "showarrow": true,
          "text": "+inf%",
          "x": 2013,
          "y": 4
         },
         {
          "arrowhead": 2,
          "ax": 0,
          "ay": 40,
          "showarrow": true,
          "text": "+175.0%",
          "x": 2014,
          "y": 11
         },
         {
          "arrowhead": 2,
          "ax": 0,
          "ay": -40,
          "showarrow": true,
          "text": "-46.4%",
          "x": 2015,
          "y": 30
         },
         {
          "arrowhead": 2,
          "ax": 0,
          "ay": 40,
          "showarrow": true,
          "text": "-27.3%",
          "x": 2015,
          "y": 8
         },
         {
          "arrowhead": 2,
          "ax": 0,
          "ay": -40,
          "showarrow": true,
          "text": "-53.3%",
          "x": 2016,
          "y": 14
         },
         {
          "arrowhead": 2,
          "ax": 0,
          "ay": 40,
          "showarrow": true,
          "text": "+0.0%",
          "x": 2016,
          "y": 8
         },
         {
          "arrowhead": 2,
          "ax": 0,
          "ay": -40,
          "showarrow": true,
          "text": "-71.4%",
          "x": 2017,
          "y": 4
         },
         {
          "arrowhead": 2,
          "ax": 0,
          "ay": 40,
          "showarrow": true,
          "text": "+137.5%",
          "x": 2017,
          "y": 19
         },
         {
          "arrowhead": 2,
          "ax": 0,
          "ay": -40,
          "showarrow": true,
          "text": "-75.0%",
          "x": 2018,
          "y": 1
         },
         {
          "arrowhead": 2,
          "ax": 0,
          "ay": 40,
          "showarrow": true,
          "text": "+36.8%",
          "x": 2018,
          "y": 26
         },
         {
          "arrowhead": 2,
          "ax": 0,
          "ay": 40,
          "showarrow": true,
          "text": "-80.8%",
          "x": 2019,
          "y": 5
         },
         {
          "arrowhead": 2,
          "ax": 0,
          "ay": 40,
          "showarrow": true,
          "text": "+20.0%",
          "x": 2020,
          "y": 6
         }
        ],
        "height": 800,
        "legend": {
         "title": {
          "text": "variable"
         },
         "tracegroupgap": 0
        },
        "template": {
         "data": {
          "bar": [
           {
            "error_x": {
             "color": "#f2f5fa"
            },
            "error_y": {
             "color": "#f2f5fa"
            },
            "marker": {
             "line": {
              "color": "rgb(17,17,17)",
              "width": 0.5
             },
             "pattern": {
              "fillmode": "overlay",
              "size": 10,
              "solidity": 0.2
             }
            },
            "type": "bar"
           }
          ],
          "barpolar": [
           {
            "marker": {
             "line": {
              "color": "rgb(17,17,17)",
              "width": 0.5
             },
             "pattern": {
              "fillmode": "overlay",
              "size": 10,
              "solidity": 0.2
             }
            },
            "type": "barpolar"
           }
          ],
          "carpet": [
           {
            "aaxis": {
             "endlinecolor": "#A2B1C6",
             "gridcolor": "#506784",
             "linecolor": "#506784",
             "minorgridcolor": "#506784",
             "startlinecolor": "#A2B1C6"
            },
            "baxis": {
             "endlinecolor": "#A2B1C6",
             "gridcolor": "#506784",
             "linecolor": "#506784",
             "minorgridcolor": "#506784",
             "startlinecolor": "#A2B1C6"
            },
            "type": "carpet"
           }
          ],
          "choropleth": [
           {
            "colorbar": {
             "outlinewidth": 0,
             "ticks": ""
            },
            "type": "choropleth"
           }
          ],
          "contour": [
           {
            "colorbar": {
             "outlinewidth": 0,
             "ticks": ""
            },
            "colorscale": [
             [
              0,
              "#0d0887"
             ],
             [
              0.1111111111111111,
              "#46039f"
             ],
             [
              0.2222222222222222,
              "#7201a8"
             ],
             [
              0.3333333333333333,
              "#9c179e"
             ],
             [
              0.4444444444444444,
              "#bd3786"
             ],
             [
              0.5555555555555556,
              "#d8576b"
             ],
             [
              0.6666666666666666,
              "#ed7953"
             ],
             [
              0.7777777777777778,
              "#fb9f3a"
             ],
             [
              0.8888888888888888,
              "#fdca26"
             ],
             [
              1,
              "#f0f921"
             ]
            ],
            "type": "contour"
           }
          ],
          "contourcarpet": [
           {
            "colorbar": {
             "outlinewidth": 0,
             "ticks": ""
            },
            "type": "contourcarpet"
           }
          ],
          "heatmap": [
           {
            "colorbar": {
             "outlinewidth": 0,
             "ticks": ""
            },
            "colorscale": [
             [
              0,
              "#0d0887"
             ],
             [
              0.1111111111111111,
              "#46039f"
             ],
             [
              0.2222222222222222,
              "#7201a8"
             ],
             [
              0.3333333333333333,
              "#9c179e"
             ],
             [
              0.4444444444444444,
              "#bd3786"
             ],
             [
              0.5555555555555556,
              "#d8576b"
             ],
             [
              0.6666666666666666,
              "#ed7953"
             ],
             [
              0.7777777777777778,
              "#fb9f3a"
             ],
             [
              0.8888888888888888,
              "#fdca26"
             ],
             [
              1,
              "#f0f921"
             ]
            ],
            "type": "heatmap"
           }
          ],
          "heatmapgl": [
           {
            "colorbar": {
             "outlinewidth": 0,
             "ticks": ""
            },
            "colorscale": [
             [
              0,
              "#0d0887"
             ],
             [
              0.1111111111111111,
              "#46039f"
             ],
             [
              0.2222222222222222,
              "#7201a8"
             ],
             [
              0.3333333333333333,
              "#9c179e"
             ],
             [
              0.4444444444444444,
              "#bd3786"
             ],
             [
              0.5555555555555556,
              "#d8576b"
             ],
             [
              0.6666666666666666,
              "#ed7953"
             ],
             [
              0.7777777777777778,
              "#fb9f3a"
             ],
             [
              0.8888888888888888,
              "#fdca26"
             ],
             [
              1,
              "#f0f921"
             ]
            ],
            "type": "heatmapgl"
           }
          ],
          "histogram": [
           {
            "marker": {
             "pattern": {
              "fillmode": "overlay",
              "size": 10,
              "solidity": 0.2
             }
            },
            "type": "histogram"
           }
          ],
          "histogram2d": [
           {
            "colorbar": {
             "outlinewidth": 0,
             "ticks": ""
            },
            "colorscale": [
             [
              0,
              "#0d0887"
             ],
             [
              0.1111111111111111,
              "#46039f"
             ],
             [
              0.2222222222222222,
              "#7201a8"
             ],
             [
              0.3333333333333333,
              "#9c179e"
             ],
             [
              0.4444444444444444,
              "#bd3786"
             ],
             [
              0.5555555555555556,
              "#d8576b"
             ],
             [
              0.6666666666666666,
              "#ed7953"
             ],
             [
              0.7777777777777778,
              "#fb9f3a"
             ],
             [
              0.8888888888888888,
              "#fdca26"
             ],
             [
              1,
              "#f0f921"
             ]
            ],
            "type": "histogram2d"
           }
          ],
          "histogram2dcontour": [
           {
            "colorbar": {
             "outlinewidth": 0,
             "ticks": ""
            },
            "colorscale": [
             [
              0,
              "#0d0887"
             ],
             [
              0.1111111111111111,
              "#46039f"
             ],
             [
              0.2222222222222222,
              "#7201a8"
             ],
             [
              0.3333333333333333,
              "#9c179e"
             ],
             [
              0.4444444444444444,
              "#bd3786"
             ],
             [
              0.5555555555555556,
              "#d8576b"
             ],
             [
              0.6666666666666666,
              "#ed7953"
             ],
             [
              0.7777777777777778,
              "#fb9f3a"
             ],
             [
              0.8888888888888888,
              "#fdca26"
             ],
             [
              1,
              "#f0f921"
             ]
            ],
            "type": "histogram2dcontour"
           }
          ],
          "mesh3d": [
           {
            "colorbar": {
             "outlinewidth": 0,
             "ticks": ""
            },
            "type": "mesh3d"
           }
          ],
          "parcoords": [
           {
            "line": {
             "colorbar": {
              "outlinewidth": 0,
              "ticks": ""
             }
            },
            "type": "parcoords"
           }
          ],
          "pie": [
           {
            "automargin": true,
            "type": "pie"
           }
          ],
          "scatter": [
           {
            "marker": {
             "line": {
              "color": "#283442"
             }
            },
            "type": "scatter"
           }
          ],
          "scatter3d": [
           {
            "line": {
             "colorbar": {
              "outlinewidth": 0,
              "ticks": ""
             }
            },
            "marker": {
             "colorbar": {
              "outlinewidth": 0,
              "ticks": ""
             }
            },
            "type": "scatter3d"
           }
          ],
          "scattercarpet": [
           {
            "marker": {
             "colorbar": {
              "outlinewidth": 0,
              "ticks": ""
             }
            },
            "type": "scattercarpet"
           }
          ],
          "scattergeo": [
           {
            "marker": {
             "colorbar": {
              "outlinewidth": 0,
              "ticks": ""
             }
            },
            "type": "scattergeo"
           }
          ],
          "scattergl": [
           {
            "marker": {
             "line": {
              "color": "#283442"
             }
            },
            "type": "scattergl"
           }
          ],
          "scattermapbox": [
           {
            "marker": {
             "colorbar": {
              "outlinewidth": 0,
              "ticks": ""
             }
            },
            "type": "scattermapbox"
           }
          ],
          "scatterpolar": [
           {
            "marker": {
             "colorbar": {
              "outlinewidth": 0,
              "ticks": ""
             }
            },
            "type": "scatterpolar"
           }
          ],
          "scatterpolargl": [
           {
            "marker": {
             "colorbar": {
              "outlinewidth": 0,
              "ticks": ""
             }
            },
            "type": "scatterpolargl"
           }
          ],
          "scatterternary": [
           {
            "marker": {
             "colorbar": {
              "outlinewidth": 0,
              "ticks": ""
             }
            },
            "type": "scatterternary"
           }
          ],
          "surface": [
           {
            "colorbar": {
             "outlinewidth": 0,
             "ticks": ""
            },
            "colorscale": [
             [
              0,
              "#0d0887"
             ],
             [
              0.1111111111111111,
              "#46039f"
             ],
             [
              0.2222222222222222,
              "#7201a8"
             ],
             [
              0.3333333333333333,
              "#9c179e"
             ],
             [
              0.4444444444444444,
              "#bd3786"
             ],
             [
              0.5555555555555556,
              "#d8576b"
             ],
             [
              0.6666666666666666,
              "#ed7953"
             ],
             [
              0.7777777777777778,
              "#fb9f3a"
             ],
             [
              0.8888888888888888,
              "#fdca26"
             ],
             [
              1,
              "#f0f921"
             ]
            ],
            "type": "surface"
           }
          ],
          "table": [
           {
            "cells": {
             "fill": {
              "color": "#506784"
             },
             "line": {
              "color": "rgb(17,17,17)"
             }
            },
            "header": {
             "fill": {
              "color": "#2a3f5f"
             },
             "line": {
              "color": "rgb(17,17,17)"
             }
            },
            "type": "table"
           }
          ]
         },
         "layout": {
          "annotationdefaults": {
           "arrowcolor": "#f2f5fa",
           "arrowhead": 0,
           "arrowwidth": 1
          },
          "autotypenumbers": "strict",
          "coloraxis": {
           "colorbar": {
            "outlinewidth": 0,
            "ticks": ""
           }
          },
          "colorscale": {
           "diverging": [
            [
             0,
             "#8e0152"
            ],
            [
             0.1,
             "#c51b7d"
            ],
            [
             0.2,
             "#de77ae"
            ],
            [
             0.3,
             "#f1b6da"
            ],
            [
             0.4,
             "#fde0ef"
            ],
            [
             0.5,
             "#f7f7f7"
            ],
            [
             0.6,
             "#e6f5d0"
            ],
            [
             0.7,
             "#b8e186"
            ],
            [
             0.8,
             "#7fbc41"
            ],
            [
             0.9,
             "#4d9221"
            ],
            [
             1,
             "#276419"
            ]
           ],
           "sequential": [
            [
             0,
             "#0d0887"
            ],
            [
             0.1111111111111111,
             "#46039f"
            ],
            [
             0.2222222222222222,
             "#7201a8"
            ],
            [
             0.3333333333333333,
             "#9c179e"
            ],
            [
             0.4444444444444444,
             "#bd3786"
            ],
            [
             0.5555555555555556,
             "#d8576b"
            ],
            [
             0.6666666666666666,
             "#ed7953"
            ],
            [
             0.7777777777777778,
             "#fb9f3a"
            ],
            [
             0.8888888888888888,
             "#fdca26"
            ],
            [
             1,
             "#f0f921"
            ]
           ],
           "sequentialminus": [
            [
             0,
             "#0d0887"
            ],
            [
             0.1111111111111111,
             "#46039f"
            ],
            [
             0.2222222222222222,
             "#7201a8"
            ],
            [
             0.3333333333333333,
             "#9c179e"
            ],
            [
             0.4444444444444444,
             "#bd3786"
            ],
            [
             0.5555555555555556,
             "#d8576b"
            ],
            [
             0.6666666666666666,
             "#ed7953"
            ],
            [
             0.7777777777777778,
             "#fb9f3a"
            ],
            [
             0.8888888888888888,
             "#fdca26"
            ],
            [
             1,
             "#f0f921"
            ]
           ]
          },
          "colorway": [
           "#636efa",
           "#EF553B",
           "#00cc96",
           "#ab63fa",
           "#FFA15A",
           "#19d3f3",
           "#FF6692",
           "#B6E880",
           "#FF97FF",
           "#FECB52"
          ],
          "font": {
           "color": "#f2f5fa"
          },
          "geo": {
           "bgcolor": "rgb(17,17,17)",
           "lakecolor": "rgb(17,17,17)",
           "landcolor": "rgb(17,17,17)",
           "showlakes": true,
           "showland": true,
           "subunitcolor": "#506784"
          },
          "hoverlabel": {
           "align": "left"
          },
          "hovermode": "closest",
          "mapbox": {
           "style": "dark"
          },
          "paper_bgcolor": "rgb(17,17,17)",
          "plot_bgcolor": "rgb(17,17,17)",
          "polar": {
           "angularaxis": {
            "gridcolor": "#506784",
            "linecolor": "#506784",
            "ticks": ""
           },
           "bgcolor": "rgb(17,17,17)",
           "radialaxis": {
            "gridcolor": "#506784",
            "linecolor": "#506784",
            "ticks": ""
           }
          },
          "scene": {
           "xaxis": {
            "backgroundcolor": "rgb(17,17,17)",
            "gridcolor": "#506784",
            "gridwidth": 2,
            "linecolor": "#506784",
            "showbackground": true,
            "ticks": "",
            "zerolinecolor": "#C8D4E3"
           },
           "yaxis": {
            "backgroundcolor": "rgb(17,17,17)",
            "gridcolor": "#506784",
            "gridwidth": 2,
            "linecolor": "#506784",
            "showbackground": true,
            "ticks": "",
            "zerolinecolor": "#C8D4E3"
           },
           "zaxis": {
            "backgroundcolor": "rgb(17,17,17)",
            "gridcolor": "#506784",
            "gridwidth": 2,
            "linecolor": "#506784",
            "showbackground": true,
            "ticks": "",
            "zerolinecolor": "#C8D4E3"
           }
          },
          "shapedefaults": {
           "line": {
            "color": "#f2f5fa"
           }
          },
          "sliderdefaults": {
           "bgcolor": "#C8D4E3",
           "bordercolor": "rgb(17,17,17)",
           "borderwidth": 1,
           "tickwidth": 0
          },
          "ternary": {
           "aaxis": {
            "gridcolor": "#506784",
            "linecolor": "#506784",
            "ticks": ""
           },
           "baxis": {
            "gridcolor": "#506784",
            "linecolor": "#506784",
            "ticks": ""
           },
           "bgcolor": "rgb(17,17,17)",
           "caxis": {
            "gridcolor": "#506784",
            "linecolor": "#506784",
            "ticks": ""
           }
          },
          "title": {
           "x": 0.05
          },
          "updatemenudefaults": {
           "bgcolor": "#506784",
           "borderwidth": 0
          },
          "xaxis": {
           "automargin": true,
           "gridcolor": "#283442",
           "linecolor": "#506784",
           "ticks": "",
           "title": {
            "standoff": 15
           },
           "zerolinecolor": "#283442",
           "zerolinewidth": 2
          },
          "yaxis": {
           "automargin": true,
           "gridcolor": "#283442",
           "linecolor": "#506784",
           "ticks": "",
           "title": {
            "standoff": 15
           },
           "zerolinecolor": "#283442",
           "zerolinewidth": 2
          }
         }
        },
        "title": {
         "text": "Jumlah Karyawan Hiring dan Resign"
        },
        "width": 1000,
        "xaxis": {
         "anchor": "y",
         "domain": [
          0,
          1
         ],
         "ticktext": [
          2006,
          2007,
          2008,
          2009,
          2010,
          2011,
          2012,
          2013,
          2014,
          2015,
          2016,
          2017,
          2018,
          2019,
          2020
         ],
         "tickvals": [
          2006,
          2007,
          2008,
          2009,
          2010,
          2011,
          2012,
          2013,
          2014,
          2015,
          2016,
          2017,
          2018,
          2019,
          2020
         ],
         "title": {
          "text": "tahun"
         }
        },
        "yaxis": {
         "anchor": "x",
         "domain": [
          0,
          1
         ],
         "title": {
          "text": "value"
         }
        }
       }
      }
     },
     "metadata": {},
     "output_type": "display_data"
    }
   ],
   "source": [
    "min_tahun = data_hiring_resign['tahun'].min()\n",
    "max_tahun = data_hiring_resign['tahun'].max()\n",
    "fig = px.line(data_hiring_resign, x='tahun', y=['jumlah_hire','jumlah_resign'], title='Jumlah Karyawan Hiring dan Resign',\n",
    "              template='plotly_dark',width=1000,height=800)\n",
    "years = np.arange(min_tahun, max_tahun + 1)\n",
    "fig.update_layout(xaxis={'tickvals':years, 'ticktext':years})\n",
    "annotations = []\n",
    "for i in range(1, len(data_hiring_resign)):\n",
    "    jumlah_hire = data_hiring_resign.iloc[i]['jumlah_hire']\n",
    "    jumlah_resign = data_hiring_resign.iloc[i]['jumlah_resign']\n",
    "    tahun = data_hiring_resign.iloc[i]['tahun']\n",
    "    jumlah_hire_sebelumnya = data_hiring_resign.iloc[i-1]['jumlah_hire']\n",
    "    jumlah_resign_sebelumnya = data_hiring_resign.iloc[i-1]['jumlah_resign']\n",
    "    if jumlah_hire != 0:\n",
    "        persentase_kenaikan_hire = (jumlah_hire - jumlah_hire_sebelumnya) / jumlah_hire_sebelumnya * 100\n",
    "        if persentase_kenaikan_hire >= 0:\n",
    "            annotation_x = f'+{persentase_kenaikan_hire:.1f}%'\n",
    "        else:\n",
    "            annotation_x = f'{persentase_kenaikan_hire:.1f}%'\n",
    "            annotations.append(dict(x=tahun, y=jumlah_hire, text=annotation_x, showarrow=True, arrowhead=2, ax=0, ay=-40))\n",
    "    if jumlah_resign != 0:\n",
    "        persentase_kenaikan_y = (jumlah_resign - jumlah_resign_sebelumnya) / jumlah_resign_sebelumnya * 100\n",
    "        if persentase_kenaikan_y >= 0:\n",
    "            annotation_y = f'+{persentase_kenaikan_y:.1f}%'\n",
    "        else:\n",
    "            annotation_y = f'{persentase_kenaikan_y:.1f}%'\n",
    "        annotations.append(dict(x=tahun, y=jumlah_resign, text=annotation_y, showarrow=True, arrowhead=2, ax=0, ay=40))\n",
    "for annotation in annotations:\n",
    "    fig.add_annotation(annotation)\n",
    "fig.show()"
   ]
  },
  {
   "cell_type": "code",
   "execution_count": null,
   "metadata": {},
   "outputs": [],
   "source": []
  }
 ],
 "metadata": {
  "kernelspec": {
   "display_name": "base",
   "language": "python",
   "name": "python3"
  },
  "language_info": {
   "codemirror_mode": {
    "name": "ipython",
    "version": 3
   },
   "file_extension": ".py",
   "mimetype": "text/x-python",
   "name": "python",
   "nbconvert_exporter": "python",
   "pygments_lexer": "ipython3",
   "version": "3.9.13"
  },
  "orig_nbformat": 4,
  "vscode": {
   "interpreter": {
    "hash": "a2ab3825ac7005fb7b26f112e9c99ae62f464c629e30b0d534c3b931b6cbc3ff"
   }
  }
 },
 "nbformat": 4,
 "nbformat_minor": 2
}
